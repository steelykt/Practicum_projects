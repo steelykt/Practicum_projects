{
 "cells": [
  {
   "cell_type": "markdown",
   "metadata": {},
   "source": [
    "# Определение стоимости автомобилей"
   ]
  },
  {
   "cell_type": "markdown",
   "metadata": {},
   "source": [
    "Сервис по продаже автомобилей с пробегом «Не бит, не крашен» разрабатывает приложение для привлечения новых клиентов. В нём можно быстро узнать рыночную стоимость своего автомобиля. В вашем распоряжении исторические данные: технические характеристики, комплектации и цены автомобилей. Вам нужно построить модель для определения стоимости. \n",
    "\n",
    "Заказчику важны:\n",
    "\n",
    "- качество предсказания;\n",
    "- скорость предсказания;\n",
    "- время обучения.\n",
    "\n",
    "Признаки:\n",
    "\n",
    "- DateCrawled — дата скачивания анкеты из базы\n",
    "- VehicleType — тип автомобильного кузова\n",
    "- RegistrationYear — год регистрации автомобиля\n",
    "- Gearbox — тип коробки передач\n",
    "- Power — мощность (л. с.)\n",
    "- Model — модель автомобиля\n",
    "- Kilometer — пробег (км)\n",
    "- RegistrationMonth — месяц регистрации автомобиля\n",
    "- FuelType — тип топлива\n",
    "- Brand — марка автомобиля\n",
    "- Repaired — была машина в ремонте или нет\n",
    "- DateCreated — дата создания анкеты\n",
    "- NumberOfPictures — количество фотографий автомобиля\n",
    "- PostalCode — почтовый индекс владельца анкеты (пользователя)\n",
    "- LastSeen — дата последней активности пользователя\n",
    "\n",
    "Целевой признак\n",
    "- Price — цена (евро)\n",
    "\n",
    "**Данное исследование разделим на несколько частей.**\n",
    "\n",
    "***Часть 1. Подготовка данных:***\n",
    "* [1. Изученеие файлов с данными, загрузка библиотек.](#info1)\n",
    "* [2. Получение общей информации.](#info2)\n",
    "* [3. Нахождение и ликвидация пропусков.](#preparation1)\n",
    "* [4. Нахождение и ликвидация аномальных значений.](#preparation2)\n",
    "* [5. Нахождение и ликвидация дубликатов.](#preparation3)\n",
    "\n",
    "[***Часть 2.Обучение моделей:***](#models)\n",
    "* [1. LinearRegression.](#linear)\n",
    "* [2. DecisionTreeRegressor.](#tree)\n",
    "* [3. LightGBM.](#booster)\n",
    "\n",
    "***Часть 3. Анализ моделей:***\n",
    "* [Выводы.](#conclusion)\n"
   ]
  },
  {
   "cell_type": "markdown",
   "metadata": {},
   "source": [
    "## Подготовка данных"
   ]
  },
  {
   "cell_type": "markdown",
   "metadata": {},
   "source": [
    "<a id='info1'></a>\n",
    "### Загрузка библиотек"
   ]
  },
  {
   "cell_type": "code",
   "execution_count": 1,
   "metadata": {},
   "outputs": [],
   "source": [
    "!pip install phik -q\n",
    "!pip install scikit-learn==1.1.3 -q"
   ]
  },
  {
   "cell_type": "code",
   "execution_count": 2,
   "metadata": {},
   "outputs": [],
   "source": [
    "import pandas as pd\n",
    "import numpy as np\n",
    "import matplotlib.pyplot as plt\n",
    "import seaborn as sns\n",
    "import lightgbm as lgb\n",
    "import time\n",
    "import phik\n",
    "\n",
    "from sklearn.pipeline import Pipeline\n",
    "from sklearn.model_selection import train_test_split, RandomizedSearchCV, cross_val_score\n",
    "from sklearn.metrics import mean_squared_error\n",
    "from sklearn.linear_model import LinearRegression\n",
    "from sklearn.tree import DecisionTreeRegressor\n",
    "from sklearn.preprocessing import StandardScaler, OneHotEncoder, OrdinalEncoder, MinMaxScaler\n",
    "from sklearn.compose import ColumnTransformer\n",
    "\n",
    "RANDOM_STATE = 42"
   ]
  },
  {
   "cell_type": "markdown",
   "metadata": {},
   "source": [
    "### Загрузка данных"
   ]
  },
  {
   "cell_type": "code",
   "execution_count": 3,
   "metadata": {},
   "outputs": [],
   "source": [
    "data = pd.read_csv('/datasets/autos.csv')"
   ]
  },
  {
   "cell_type": "markdown",
   "metadata": {},
   "source": [
    "<a id='info2'></a>\n",
    "### Обзор данных"
   ]
  },
  {
   "cell_type": "code",
   "execution_count": 4,
   "metadata": {
    "scrolled": true
   },
   "outputs": [
    {
     "name": "stdout",
     "output_type": "stream",
     "text": [
      "<class 'pandas.core.frame.DataFrame'>\n",
      "RangeIndex: 354369 entries, 0 to 354368\n",
      "Data columns (total 16 columns):\n",
      " #   Column             Non-Null Count   Dtype \n",
      "---  ------             --------------   ----- \n",
      " 0   DateCrawled        354369 non-null  object\n",
      " 1   Price              354369 non-null  int64 \n",
      " 2   VehicleType        316879 non-null  object\n",
      " 3   RegistrationYear   354369 non-null  int64 \n",
      " 4   Gearbox            334536 non-null  object\n",
      " 5   Power              354369 non-null  int64 \n",
      " 6   Model              334664 non-null  object\n",
      " 7   Kilometer          354369 non-null  int64 \n",
      " 8   RegistrationMonth  354369 non-null  int64 \n",
      " 9   FuelType           321474 non-null  object\n",
      " 10  Brand              354369 non-null  object\n",
      " 11  Repaired           283215 non-null  object\n",
      " 12  DateCreated        354369 non-null  object\n",
      " 13  NumberOfPictures   354369 non-null  int64 \n",
      " 14  PostalCode         354369 non-null  int64 \n",
      " 15  LastSeen           354369 non-null  object\n",
      "dtypes: int64(7), object(9)\n",
      "memory usage: 43.3+ MB\n"
     ]
    }
   ],
   "source": [
    "data.info()"
   ]
  },
  {
   "cell_type": "code",
   "execution_count": 5,
   "metadata": {},
   "outputs": [
    {
     "data": {
      "text/html": [
       "<div>\n",
       "<style scoped>\n",
       "    .dataframe tbody tr th:only-of-type {\n",
       "        vertical-align: middle;\n",
       "    }\n",
       "\n",
       "    .dataframe tbody tr th {\n",
       "        vertical-align: top;\n",
       "    }\n",
       "\n",
       "    .dataframe thead th {\n",
       "        text-align: right;\n",
       "    }\n",
       "</style>\n",
       "<table border=\"1\" class=\"dataframe\">\n",
       "  <thead>\n",
       "    <tr style=\"text-align: right;\">\n",
       "      <th></th>\n",
       "      <th>DateCrawled</th>\n",
       "      <th>Price</th>\n",
       "      <th>VehicleType</th>\n",
       "      <th>RegistrationYear</th>\n",
       "      <th>Gearbox</th>\n",
       "      <th>Power</th>\n",
       "      <th>Model</th>\n",
       "      <th>Kilometer</th>\n",
       "      <th>RegistrationMonth</th>\n",
       "      <th>FuelType</th>\n",
       "      <th>Brand</th>\n",
       "      <th>Repaired</th>\n",
       "      <th>DateCreated</th>\n",
       "      <th>NumberOfPictures</th>\n",
       "      <th>PostalCode</th>\n",
       "      <th>LastSeen</th>\n",
       "    </tr>\n",
       "  </thead>\n",
       "  <tbody>\n",
       "    <tr>\n",
       "      <th>332714</th>\n",
       "      <td>2016-03-11 15:36:20</td>\n",
       "      <td>14900</td>\n",
       "      <td>suv</td>\n",
       "      <td>2010</td>\n",
       "      <td>manual</td>\n",
       "      <td>140</td>\n",
       "      <td>qashqai</td>\n",
       "      <td>40000</td>\n",
       "      <td>12</td>\n",
       "      <td>petrol</td>\n",
       "      <td>nissan</td>\n",
       "      <td>no</td>\n",
       "      <td>2016-03-11 00:00:00</td>\n",
       "      <td>0</td>\n",
       "      <td>68782</td>\n",
       "      <td>2016-03-27 18:15:51</td>\n",
       "    </tr>\n",
       "    <tr>\n",
       "      <th>3499</th>\n",
       "      <td>2016-03-12 11:47:06</td>\n",
       "      <td>7299</td>\n",
       "      <td>wagon</td>\n",
       "      <td>2008</td>\n",
       "      <td>manual</td>\n",
       "      <td>105</td>\n",
       "      <td>golf</td>\n",
       "      <td>125000</td>\n",
       "      <td>6</td>\n",
       "      <td>gasoline</td>\n",
       "      <td>volkswagen</td>\n",
       "      <td>no</td>\n",
       "      <td>2016-03-12 00:00:00</td>\n",
       "      <td>0</td>\n",
       "      <td>57439</td>\n",
       "      <td>2016-03-16 12:15:52</td>\n",
       "    </tr>\n",
       "    <tr>\n",
       "      <th>329046</th>\n",
       "      <td>2016-03-12 22:36:59</td>\n",
       "      <td>3000</td>\n",
       "      <td>small</td>\n",
       "      <td>2009</td>\n",
       "      <td>manual</td>\n",
       "      <td>67</td>\n",
       "      <td>i_reihe</td>\n",
       "      <td>100000</td>\n",
       "      <td>5</td>\n",
       "      <td>petrol</td>\n",
       "      <td>hyundai</td>\n",
       "      <td>no</td>\n",
       "      <td>2016-03-12 00:00:00</td>\n",
       "      <td>0</td>\n",
       "      <td>1744</td>\n",
       "      <td>2016-04-04 10:17:28</td>\n",
       "    </tr>\n",
       "    <tr>\n",
       "      <th>284975</th>\n",
       "      <td>2016-03-17 09:51:09</td>\n",
       "      <td>9950</td>\n",
       "      <td>wagon</td>\n",
       "      <td>2012</td>\n",
       "      <td>manual</td>\n",
       "      <td>101</td>\n",
       "      <td>focus</td>\n",
       "      <td>100000</td>\n",
       "      <td>12</td>\n",
       "      <td>petrol</td>\n",
       "      <td>ford</td>\n",
       "      <td>no</td>\n",
       "      <td>2016-03-17 00:00:00</td>\n",
       "      <td>0</td>\n",
       "      <td>72070</td>\n",
       "      <td>2016-04-06 06:16:33</td>\n",
       "    </tr>\n",
       "    <tr>\n",
       "      <th>28197</th>\n",
       "      <td>2016-03-15 16:53:56</td>\n",
       "      <td>7400</td>\n",
       "      <td>wagon</td>\n",
       "      <td>2010</td>\n",
       "      <td>manual</td>\n",
       "      <td>120</td>\n",
       "      <td>2_reihe</td>\n",
       "      <td>80000</td>\n",
       "      <td>10</td>\n",
       "      <td>petrol</td>\n",
       "      <td>peugeot</td>\n",
       "      <td>no</td>\n",
       "      <td>2016-03-15 00:00:00</td>\n",
       "      <td>0</td>\n",
       "      <td>66802</td>\n",
       "      <td>2016-04-06 12:17:20</td>\n",
       "    </tr>\n",
       "  </tbody>\n",
       "</table>\n",
       "</div>"
      ],
      "text/plain": [
       "                DateCrawled  Price VehicleType  RegistrationYear Gearbox  \\\n",
       "332714  2016-03-11 15:36:20  14900         suv              2010  manual   \n",
       "3499    2016-03-12 11:47:06   7299       wagon              2008  manual   \n",
       "329046  2016-03-12 22:36:59   3000       small              2009  manual   \n",
       "284975  2016-03-17 09:51:09   9950       wagon              2012  manual   \n",
       "28197   2016-03-15 16:53:56   7400       wagon              2010  manual   \n",
       "\n",
       "        Power    Model  Kilometer  RegistrationMonth  FuelType       Brand  \\\n",
       "332714    140  qashqai      40000                 12    petrol      nissan   \n",
       "3499      105     golf     125000                  6  gasoline  volkswagen   \n",
       "329046     67  i_reihe     100000                  5    petrol     hyundai   \n",
       "284975    101    focus     100000                 12    petrol        ford   \n",
       "28197     120  2_reihe      80000                 10    petrol     peugeot   \n",
       "\n",
       "       Repaired          DateCreated  NumberOfPictures  PostalCode  \\\n",
       "332714       no  2016-03-11 00:00:00                 0       68782   \n",
       "3499         no  2016-03-12 00:00:00                 0       57439   \n",
       "329046       no  2016-03-12 00:00:00                 0        1744   \n",
       "284975       no  2016-03-17 00:00:00                 0       72070   \n",
       "28197        no  2016-03-15 00:00:00                 0       66802   \n",
       "\n",
       "                   LastSeen  \n",
       "332714  2016-03-27 18:15:51  \n",
       "3499    2016-03-16 12:15:52  \n",
       "329046  2016-04-04 10:17:28  \n",
       "284975  2016-04-06 06:16:33  \n",
       "28197   2016-04-06 12:17:20  "
      ]
     },
     "execution_count": 5,
     "metadata": {},
     "output_type": "execute_result"
    }
   ],
   "source": [
    "data.sample(5)"
   ]
  },
  {
   "cell_type": "markdown",
   "metadata": {},
   "source": [
    "<a id='preparation1'></a>\n",
    "### Поиск и удаление пропусков"
   ]
  },
  {
   "cell_type": "code",
   "execution_count": 6,
   "metadata": {
    "scrolled": false
   },
   "outputs": [
    {
     "data": {
      "text/plain": [
       "DateCrawled              0\n",
       "Price                    0\n",
       "VehicleType          37490\n",
       "RegistrationYear         0\n",
       "Gearbox              19833\n",
       "Power                    0\n",
       "Model                19705\n",
       "Kilometer                0\n",
       "RegistrationMonth        0\n",
       "FuelType             32895\n",
       "Brand                    0\n",
       "Repaired             71154\n",
       "DateCreated              0\n",
       "NumberOfPictures         0\n",
       "PostalCode               0\n",
       "LastSeen                 0\n",
       "dtype: int64"
      ]
     },
     "execution_count": 6,
     "metadata": {},
     "output_type": "execute_result"
    }
   ],
   "source": [
    "data.isna().sum() "
   ]
  },
  {
   "cell_type": "code",
   "execution_count": null,
   "metadata": {
    "scrolled": true
   },
   "outputs": [],
   "source": []
  },
  {
   "cell_type": "code",
   "execution_count": 7,
   "metadata": {
    "scrolled": true
   },
   "outputs": [],
   "source": [
    "bad_data = data.loc[(data['VehicleType'].isna() == True) & (data['Model'].isna() == True)]"
   ]
  },
  {
   "cell_type": "code",
   "execution_count": 8,
   "metadata": {},
   "outputs": [
    {
     "data": {
      "text/plain": [
       "1.9268051099277872"
      ]
     },
     "execution_count": 8,
     "metadata": {},
     "output_type": "execute_result"
    }
   ],
   "source": [
    "bad_data.shape[0] / data.shape[0] * 100"
   ]
  },
  {
   "cell_type": "code",
   "execution_count": 9,
   "metadata": {},
   "outputs": [],
   "source": [
    "df = data.drop(bad_data.index)"
   ]
  },
  {
   "cell_type": "markdown",
   "metadata": {},
   "source": [
    "Удалили неинформативные данные. Ведь не зная ни тип кузова ни модели автомобиля определить его ценность маловероятно."
   ]
  },
  {
   "cell_type": "code",
   "execution_count": 10,
   "metadata": {},
   "outputs": [
    {
     "name": "stdout",
     "output_type": "stream",
     "text": [
      "<class 'pandas.core.frame.DataFrame'>\n",
      "Int64Index: 347541 entries, 0 to 354368\n",
      "Data columns (total 16 columns):\n",
      " #   Column             Non-Null Count   Dtype \n",
      "---  ------             --------------   ----- \n",
      " 0   DateCrawled        347541 non-null  object\n",
      " 1   Price              347541 non-null  int64 \n",
      " 2   VehicleType        316879 non-null  object\n",
      " 3   RegistrationYear   347541 non-null  int64 \n",
      " 4   Gearbox            330720 non-null  object\n",
      " 5   Power              347541 non-null  int64 \n",
      " 6   Model              334664 non-null  object\n",
      " 7   Kilometer          347541 non-null  int64 \n",
      " 8   RegistrationMonth  347541 non-null  int64 \n",
      " 9   FuelType           318960 non-null  object\n",
      " 10  Brand              347541 non-null  object\n",
      " 11  Repaired           280863 non-null  object\n",
      " 12  DateCreated        347541 non-null  object\n",
      " 13  NumberOfPictures   347541 non-null  int64 \n",
      " 14  PostalCode         347541 non-null  int64 \n",
      " 15  LastSeen           347541 non-null  object\n",
      "dtypes: int64(7), object(9)\n",
      "memory usage: 45.1+ MB\n"
     ]
    }
   ],
   "source": [
    "df.info()"
   ]
  },
  {
   "cell_type": "code",
   "execution_count": 11,
   "metadata": {},
   "outputs": [
    {
     "data": {
      "text/plain": [
       "DateCrawled           0.00\n",
       "Price                 0.00\n",
       "VehicleType           8.82\n",
       "RegistrationYear      0.00\n",
       "Gearbox               4.84\n",
       "Power                 0.00\n",
       "Model                 3.71\n",
       "Kilometer             0.00\n",
       "RegistrationMonth     0.00\n",
       "FuelType              8.22\n",
       "Brand                 0.00\n",
       "Repaired             19.19\n",
       "DateCreated           0.00\n",
       "NumberOfPictures      0.00\n",
       "PostalCode            0.00\n",
       "LastSeen              0.00\n",
       "dtype: float64"
      ]
     },
     "execution_count": 11,
     "metadata": {},
     "output_type": "execute_result"
    }
   ],
   "source": [
    "(df.isna().sum() / len(df)).round(4) * 100"
   ]
  },
  {
   "cell_type": "code",
   "execution_count": 12,
   "metadata": {},
   "outputs": [
    {
     "data": {
      "text/plain": [
       "array([nan, 'coupe', 'suv', 'small', 'sedan', 'convertible', 'bus',\n",
       "       'wagon', 'other'], dtype=object)"
      ]
     },
     "execution_count": 12,
     "metadata": {},
     "output_type": "execute_result"
    }
   ],
   "source": [
    "df['VehicleType'].unique()"
   ]
  },
  {
   "cell_type": "code",
   "execution_count": 13,
   "metadata": {},
   "outputs": [],
   "source": [
    "df['VehicleType'].fillna('other', inplace=True)"
   ]
  },
  {
   "cell_type": "code",
   "execution_count": 14,
   "metadata": {},
   "outputs": [
    {
     "data": {
      "text/plain": [
       "array(['manual', 'auto', nan], dtype=object)"
      ]
     },
     "execution_count": 14,
     "metadata": {},
     "output_type": "execute_result"
    }
   ],
   "source": [
    "df['Gearbox'].unique()"
   ]
  },
  {
   "cell_type": "code",
   "execution_count": 15,
   "metadata": {},
   "outputs": [],
   "source": [
    "df['Gearbox'].fillna('other', inplace=True)"
   ]
  },
  {
   "cell_type": "code",
   "execution_count": 16,
   "metadata": {
    "scrolled": false
   },
   "outputs": [
    {
     "data": {
      "text/plain": [
       "array(['golf', nan, 'grand', 'fabia', '3er', '2_reihe', 'other', 'c_max',\n",
       "       '3_reihe', 'passat', 'navara', 'ka', 'polo', 'twingo', 'a_klasse',\n",
       "       'scirocco', '5er', 'meriva', 'arosa', 'c4', 'civic', 'transporter',\n",
       "       'punto', 'e_klasse', 'clio', 'kadett', 'kangoo', 'corsa', 'one',\n",
       "       'fortwo', '1er', 'b_klasse', 'signum', 'astra', 'a8', 'jetta',\n",
       "       'fiesta', 'c_klasse', 'micra', 'vito', 'sprinter', '156', 'escort',\n",
       "       'forester', 'xc_reihe', 'scenic', 'a4', 'a1', 'insignia', 'combo',\n",
       "       'focus', 'tt', 'a6', 'jazz', 'omega', 'slk', '7er', '80', '147',\n",
       "       '100', 'z_reihe', 'sportage', 'sorento', 'v40', 'ibiza', 'mustang',\n",
       "       'eos', 'touran', 'getz', 'a3', 'almera', 'megane', 'lupo', 'r19',\n",
       "       'zafira', 'caddy', 'mondeo', 'cordoba', 'colt', 'impreza',\n",
       "       'vectra', 'berlingo', 'tiguan', 'i_reihe', 'espace', 'sharan',\n",
       "       '6_reihe', 'panda', 'up', 'seicento', 'ceed', '5_reihe', 'yeti',\n",
       "       'octavia', 'mii', 'rx_reihe', '6er', 'modus', 'fox', 'matiz',\n",
       "       'beetle', 'c1', 'rio', 'touareg', 'logan', 'spider', 'cuore',\n",
       "       's_max', 'a2', 'galaxy', 'c3', 'viano', 's_klasse', '1_reihe',\n",
       "       'avensis', 'roomster', 'sl', 'kaefer', 'santa', 'cooper', 'leon',\n",
       "       '4_reihe', 'a5', '500', 'laguna', 'ptcruiser', 'clk', 'primera',\n",
       "       'x_reihe', 'exeo', '159', 'transit', 'juke', 'qashqai', 'carisma',\n",
       "       'accord', 'corolla', 'lanos', 'phaeton', 'verso', 'swift', 'rav',\n",
       "       'picanto', 'boxster', 'kalos', 'superb', 'stilo', 'alhambra',\n",
       "       'mx_reihe', 'roadster', 'ypsilon', 'cayenne', 'galant', 'justy',\n",
       "       '90', 'sirion', 'crossfire', 'agila', 'duster', 'cr_reihe', 'v50',\n",
       "       'c_reihe', 'v_klasse', 'm_klasse', 'yaris', 'c5', 'aygo', 'cc',\n",
       "       'carnival', 'fusion', '911', 'bora', 'forfour', 'm_reihe', 'cl',\n",
       "       'tigra', '300c', 'spark', 'v70', 'kuga', 'x_type', 'ducato',\n",
       "       's_type', 'x_trail', 'toledo', 'altea', 'voyager', 'calibra',\n",
       "       'bravo', 'antara', 'tucson', 'citigo', 'jimny', 'wrangler',\n",
       "       'lybra', 'q7', 'lancer', 'captiva', 'c2', 'discovery',\n",
       "       'freelander', 'sandero', 'note', '900', 'cherokee', 'clubman',\n",
       "       'samara', 'defender', '601', 'cx_reihe', 'legacy', 'pajero',\n",
       "       'auris', 'niva', 's60', 'nubira', 'vivaro', 'g_klasse', 'lodgy',\n",
       "       '850', 'range_rover', 'q3', 'serie_2', 'glk', 'charade', 'croma',\n",
       "       'outlander', 'doblo', 'musa', 'move', '9000', 'v60', '145', 'aveo',\n",
       "       '200', 'b_max', 'range_rover_sport', 'terios', 'rangerover', 'q5',\n",
       "       'range_rover_evoque', 'materia', 'delta', 'gl', 'kalina', 'amarok',\n",
       "       'elefantino', 'i3', 'kappa', 'serie_3', 'serie_1'], dtype=object)"
      ]
     },
     "execution_count": 16,
     "metadata": {},
     "output_type": "execute_result"
    }
   ],
   "source": [
    "df['Model'].unique()"
   ]
  },
  {
   "cell_type": "code",
   "execution_count": 17,
   "metadata": {},
   "outputs": [],
   "source": [
    "df['Model'].fillna('other', inplace=True)"
   ]
  },
  {
   "cell_type": "code",
   "execution_count": 18,
   "metadata": {
    "scrolled": true
   },
   "outputs": [
    {
     "data": {
      "text/plain": [
       "array(['petrol', 'gasoline', nan, 'lpg', 'other', 'hybrid', 'cng',\n",
       "       'electric'], dtype=object)"
      ]
     },
     "execution_count": 18,
     "metadata": {},
     "output_type": "execute_result"
    }
   ],
   "source": [
    "df['FuelType'].unique()"
   ]
  },
  {
   "cell_type": "code",
   "execution_count": 19,
   "metadata": {},
   "outputs": [],
   "source": [
    "df['FuelType'].fillna('other', inplace=True)"
   ]
  },
  {
   "cell_type": "code",
   "execution_count": 20,
   "metadata": {},
   "outputs": [
    {
     "data": {
      "text/plain": [
       "array([nan, 'yes', 'no'], dtype=object)"
      ]
     },
     "execution_count": 20,
     "metadata": {},
     "output_type": "execute_result"
    }
   ],
   "source": [
    "df['Repaired'].unique()"
   ]
  },
  {
   "cell_type": "code",
   "execution_count": 21,
   "metadata": {},
   "outputs": [],
   "source": [
    "df['Repaired'].fillna('other', inplace=True)"
   ]
  },
  {
   "cell_type": "code",
   "execution_count": 22,
   "metadata": {},
   "outputs": [
    {
     "data": {
      "text/plain": [
       "DateCrawled          0\n",
       "Price                0\n",
       "VehicleType          0\n",
       "RegistrationYear     0\n",
       "Gearbox              0\n",
       "Power                0\n",
       "Model                0\n",
       "Kilometer            0\n",
       "RegistrationMonth    0\n",
       "FuelType             0\n",
       "Brand                0\n",
       "Repaired             0\n",
       "DateCreated          0\n",
       "NumberOfPictures     0\n",
       "PostalCode           0\n",
       "LastSeen             0\n",
       "dtype: int64"
      ]
     },
     "execution_count": 22,
     "metadata": {},
     "output_type": "execute_result"
    }
   ],
   "source": [
    "df.isna().sum()"
   ]
  },
  {
   "cell_type": "markdown",
   "metadata": {},
   "source": [
    "<a id='preparation2'></a>\n",
    "### Поиск и исправление аномальных значений"
   ]
  },
  {
   "cell_type": "code",
   "execution_count": 23,
   "metadata": {
    "scrolled": true
   },
   "outputs": [
    {
     "data": {
      "image/png": "[encoded data removed]",
      "text/plain": [
       "<Figure size 1080x720 with 9 Axes>"
      ]
     },
     "metadata": {
      "needs_background": "light"
     },
     "output_type": "display_data"
    }
   ],
   "source": [
    "df.hist(figsize=(15, 10));"
   ]
  },
  {
   "cell_type": "code",
   "execution_count": 24,
   "metadata": {
    "scrolled": true
   },
   "outputs": [
    {
     "data": {
      "text/html": [
       "<div>\n",
       "<style scoped>\n",
       "    .dataframe tbody tr th:only-of-type {\n",
       "        vertical-align: middle;\n",
       "    }\n",
       "\n",
       "    .dataframe tbody tr th {\n",
       "        vertical-align: top;\n",
       "    }\n",
       "\n",
       "    .dataframe thead th {\n",
       "        text-align: right;\n",
       "    }\n",
       "</style>\n",
       "<table border=\"1\" class=\"dataframe\">\n",
       "  <thead>\n",
       "    <tr style=\"text-align: right;\">\n",
       "      <th></th>\n",
       "      <th>Price</th>\n",
       "      <th>RegistrationYear</th>\n",
       "      <th>Power</th>\n",
       "      <th>Kilometer</th>\n",
       "      <th>RegistrationMonth</th>\n",
       "      <th>NumberOfPictures</th>\n",
       "      <th>PostalCode</th>\n",
       "    </tr>\n",
       "  </thead>\n",
       "  <tbody>\n",
       "    <tr>\n",
       "      <th>count</th>\n",
       "      <td>347541.000000</td>\n",
       "      <td>347541.000000</td>\n",
       "      <td>347541.000000</td>\n",
       "      <td>347541.000000</td>\n",
       "      <td>347541.000000</td>\n",
       "      <td>347541.0</td>\n",
       "      <td>347541.000000</td>\n",
       "    </tr>\n",
       "    <tr>\n",
       "      <th>mean</th>\n",
       "      <td>4463.647975</td>\n",
       "      <td>2003.714273</td>\n",
       "      <td>111.155518</td>\n",
       "      <td>128449.636158</td>\n",
       "      <td>5.770519</td>\n",
       "      <td>0.0</td>\n",
       "      <td>50574.194872</td>\n",
       "    </tr>\n",
       "    <tr>\n",
       "      <th>std</th>\n",
       "      <td>4524.298684</td>\n",
       "      <td>68.114605</td>\n",
       "      <td>190.550535</td>\n",
       "      <td>37472.466565</td>\n",
       "      <td>3.702707</td>\n",
       "      <td>0.0</td>\n",
       "      <td>25777.321752</td>\n",
       "    </tr>\n",
       "    <tr>\n",
       "      <th>min</th>\n",
       "      <td>0.000000</td>\n",
       "      <td>1000.000000</td>\n",
       "      <td>0.000000</td>\n",
       "      <td>5000.000000</td>\n",
       "      <td>0.000000</td>\n",
       "      <td>0.0</td>\n",
       "      <td>1067.000000</td>\n",
       "    </tr>\n",
       "    <tr>\n",
       "      <th>25%</th>\n",
       "      <td>1100.000000</td>\n",
       "      <td>1999.000000</td>\n",
       "      <td>69.000000</td>\n",
       "      <td>125000.000000</td>\n",
       "      <td>3.000000</td>\n",
       "      <td>0.0</td>\n",
       "      <td>30171.000000</td>\n",
       "    </tr>\n",
       "    <tr>\n",
       "      <th>50%</th>\n",
       "      <td>2799.000000</td>\n",
       "      <td>2003.000000</td>\n",
       "      <td>105.000000</td>\n",
       "      <td>150000.000000</td>\n",
       "      <td>6.000000</td>\n",
       "      <td>0.0</td>\n",
       "      <td>49477.000000</td>\n",
       "    </tr>\n",
       "    <tr>\n",
       "      <th>75%</th>\n",
       "      <td>6499.000000</td>\n",
       "      <td>2007.000000</td>\n",
       "      <td>143.000000</td>\n",
       "      <td>150000.000000</td>\n",
       "      <td>9.000000</td>\n",
       "      <td>0.0</td>\n",
       "      <td>71126.000000</td>\n",
       "    </tr>\n",
       "    <tr>\n",
       "      <th>max</th>\n",
       "      <td>20000.000000</td>\n",
       "      <td>9999.000000</td>\n",
       "      <td>20000.000000</td>\n",
       "      <td>150000.000000</td>\n",
       "      <td>12.000000</td>\n",
       "      <td>0.0</td>\n",
       "      <td>99998.000000</td>\n",
       "    </tr>\n",
       "  </tbody>\n",
       "</table>\n",
       "</div>"
      ],
      "text/plain": [
       "               Price  RegistrationYear          Power      Kilometer  \\\n",
       "count  347541.000000     347541.000000  347541.000000  347541.000000   \n",
       "mean     4463.647975       2003.714273     111.155518  128449.636158   \n",
       "std      4524.298684         68.114605     190.550535   37472.466565   \n",
       "min         0.000000       1000.000000       0.000000    5000.000000   \n",
       "25%      1100.000000       1999.000000      69.000000  125000.000000   \n",
       "50%      2799.000000       2003.000000     105.000000  150000.000000   \n",
       "75%      6499.000000       2007.000000     143.000000  150000.000000   \n",
       "max     20000.000000       9999.000000   20000.000000  150000.000000   \n",
       "\n",
       "       RegistrationMonth  NumberOfPictures     PostalCode  \n",
       "count      347541.000000          347541.0  347541.000000  \n",
       "mean            5.770519               0.0   50574.194872  \n",
       "std             3.702707               0.0   25777.321752  \n",
       "min             0.000000               0.0    1067.000000  \n",
       "25%             3.000000               0.0   30171.000000  \n",
       "50%             6.000000               0.0   49477.000000  \n",
       "75%             9.000000               0.0   71126.000000  \n",
       "max            12.000000               0.0   99998.000000  "
      ]
     },
     "execution_count": 24,
     "metadata": {},
     "output_type": "execute_result"
    }
   ],
   "source": [
    "df.describe()"
   ]
  },
  {
   "cell_type": "code",
   "execution_count": 25,
   "metadata": {},
   "outputs": [
    {
     "data": {
      "image/png": "[encoded data removed]",
      "text/plain": [
       "<Figure size 720x504 with 1 Axes>"
      ]
     },
     "metadata": {
      "needs_background": "light"
     },
     "output_type": "display_data"
    }
   ],
   "source": [
    "df.loc[(df['RegistrationYear'] > 1960) & (df['RegistrationYear'] < 2020), 'RegistrationYear'].hist(figsize=(10, 7), bins=100);"
   ]
  },
  {
   "cell_type": "code",
   "execution_count": 26,
   "metadata": {
    "scrolled": true
   },
   "outputs": [],
   "source": [
    "bad_year = df.loc[(df['RegistrationYear'] < 1990) & (df['RegistrationYear'] > 2016)]"
   ]
  },
  {
   "cell_type": "code",
   "execution_count": 27,
   "metadata": {},
   "outputs": [],
   "source": [
    "df = df.drop(bad_year.index)"
   ]
  },
  {
   "cell_type": "code",
   "execution_count": 28,
   "metadata": {
    "scrolled": false
   },
   "outputs": [
    {
     "data": {
      "text/plain": [
       "count    347541.000000\n",
       "mean       2003.714273\n",
       "std          68.114605\n",
       "min        1000.000000\n",
       "25%        1999.000000\n",
       "50%        2003.000000\n",
       "75%        2007.000000\n",
       "max        9999.000000\n",
       "Name: RegistrationYear, dtype: float64"
      ]
     },
     "execution_count": 28,
     "metadata": {},
     "output_type": "execute_result"
    }
   ],
   "source": [
    "df['RegistrationYear'].describe()"
   ]
  },
  {
   "cell_type": "code",
   "execution_count": 29,
   "metadata": {},
   "outputs": [],
   "source": [
    "bad_power = df.loc[(df['Power'] < 50) & (df['Power'] > 500)]"
   ]
  },
  {
   "cell_type": "code",
   "execution_count": 30,
   "metadata": {},
   "outputs": [],
   "source": [
    "df = df.drop(bad_power.index)"
   ]
  },
  {
   "cell_type": "code",
   "execution_count": 31,
   "metadata": {
    "scrolled": false
   },
   "outputs": [
    {
     "data": {
      "text/plain": [
       "count    347541.000000\n",
       "mean        111.155518\n",
       "std         190.550535\n",
       "min           0.000000\n",
       "25%          69.000000\n",
       "50%         105.000000\n",
       "75%         143.000000\n",
       "max       20000.000000\n",
       "Name: Power, dtype: float64"
      ]
     },
     "execution_count": 31,
     "metadata": {},
     "output_type": "execute_result"
    }
   ],
   "source": [
    "df['Power'].describe()"
   ]
  },
  {
   "cell_type": "code",
   "execution_count": 32,
   "metadata": {
    "scrolled": false
   },
   "outputs": [
    {
     "data": {
      "text/html": [
       "<div>\n",
       "<style scoped>\n",
       "    .dataframe tbody tr th:only-of-type {\n",
       "        vertical-align: middle;\n",
       "    }\n",
       "\n",
       "    .dataframe tbody tr th {\n",
       "        vertical-align: top;\n",
       "    }\n",
       "\n",
       "    .dataframe thead th {\n",
       "        text-align: right;\n",
       "    }\n",
       "</style>\n",
       "<table border=\"1\" class=\"dataframe\">\n",
       "  <thead>\n",
       "    <tr style=\"text-align: right;\">\n",
       "      <th></th>\n",
       "      <th>Price</th>\n",
       "      <th>RegistrationYear</th>\n",
       "      <th>Power</th>\n",
       "      <th>Kilometer</th>\n",
       "      <th>RegistrationMonth</th>\n",
       "      <th>NumberOfPictures</th>\n",
       "      <th>PostalCode</th>\n",
       "    </tr>\n",
       "  </thead>\n",
       "  <tbody>\n",
       "    <tr>\n",
       "      <th>count</th>\n",
       "      <td>347541.000000</td>\n",
       "      <td>347541.000000</td>\n",
       "      <td>347541.000000</td>\n",
       "      <td>347541.000000</td>\n",
       "      <td>347541.000000</td>\n",
       "      <td>347541.0</td>\n",
       "      <td>347541.000000</td>\n",
       "    </tr>\n",
       "    <tr>\n",
       "      <th>mean</th>\n",
       "      <td>4463.647975</td>\n",
       "      <td>2003.714273</td>\n",
       "      <td>111.155518</td>\n",
       "      <td>128449.636158</td>\n",
       "      <td>5.770519</td>\n",
       "      <td>0.0</td>\n",
       "      <td>50574.194872</td>\n",
       "    </tr>\n",
       "    <tr>\n",
       "      <th>std</th>\n",
       "      <td>4524.298684</td>\n",
       "      <td>68.114605</td>\n",
       "      <td>190.550535</td>\n",
       "      <td>37472.466565</td>\n",
       "      <td>3.702707</td>\n",
       "      <td>0.0</td>\n",
       "      <td>25777.321752</td>\n",
       "    </tr>\n",
       "    <tr>\n",
       "      <th>min</th>\n",
       "      <td>0.000000</td>\n",
       "      <td>1000.000000</td>\n",
       "      <td>0.000000</td>\n",
       "      <td>5000.000000</td>\n",
       "      <td>0.000000</td>\n",
       "      <td>0.0</td>\n",
       "      <td>1067.000000</td>\n",
       "    </tr>\n",
       "    <tr>\n",
       "      <th>25%</th>\n",
       "      <td>1100.000000</td>\n",
       "      <td>1999.000000</td>\n",
       "      <td>69.000000</td>\n",
       "      <td>125000.000000</td>\n",
       "      <td>3.000000</td>\n",
       "      <td>0.0</td>\n",
       "      <td>30171.000000</td>\n",
       "    </tr>\n",
       "    <tr>\n",
       "      <th>50%</th>\n",
       "      <td>2799.000000</td>\n",
       "      <td>2003.000000</td>\n",
       "      <td>105.000000</td>\n",
       "      <td>150000.000000</td>\n",
       "      <td>6.000000</td>\n",
       "      <td>0.0</td>\n",
       "      <td>49477.000000</td>\n",
       "    </tr>\n",
       "    <tr>\n",
       "      <th>75%</th>\n",
       "      <td>6499.000000</td>\n",
       "      <td>2007.000000</td>\n",
       "      <td>143.000000</td>\n",
       "      <td>150000.000000</td>\n",
       "      <td>9.000000</td>\n",
       "      <td>0.0</td>\n",
       "      <td>71126.000000</td>\n",
       "    </tr>\n",
       "    <tr>\n",
       "      <th>max</th>\n",
       "      <td>20000.000000</td>\n",
       "      <td>9999.000000</td>\n",
       "      <td>20000.000000</td>\n",
       "      <td>150000.000000</td>\n",
       "      <td>12.000000</td>\n",
       "      <td>0.0</td>\n",
       "      <td>99998.000000</td>\n",
       "    </tr>\n",
       "  </tbody>\n",
       "</table>\n",
       "</div>"
      ],
      "text/plain": [
       "               Price  RegistrationYear          Power      Kilometer  \\\n",
       "count  347541.000000     347541.000000  347541.000000  347541.000000   \n",
       "mean     4463.647975       2003.714273     111.155518  128449.636158   \n",
       "std      4524.298684         68.114605     190.550535   37472.466565   \n",
       "min         0.000000       1000.000000       0.000000    5000.000000   \n",
       "25%      1100.000000       1999.000000      69.000000  125000.000000   \n",
       "50%      2799.000000       2003.000000     105.000000  150000.000000   \n",
       "75%      6499.000000       2007.000000     143.000000  150000.000000   \n",
       "max     20000.000000       9999.000000   20000.000000  150000.000000   \n",
       "\n",
       "       RegistrationMonth  NumberOfPictures     PostalCode  \n",
       "count      347541.000000          347541.0  347541.000000  \n",
       "mean            5.770519               0.0   50574.194872  \n",
       "std             3.702707               0.0   25777.321752  \n",
       "min             0.000000               0.0    1067.000000  \n",
       "25%             3.000000               0.0   30171.000000  \n",
       "50%             6.000000               0.0   49477.000000  \n",
       "75%             9.000000               0.0   71126.000000  \n",
       "max            12.000000               0.0   99998.000000  "
      ]
     },
     "execution_count": 32,
     "metadata": {},
     "output_type": "execute_result"
    }
   ],
   "source": [
    "df.describe()"
   ]
  },
  {
   "cell_type": "code",
   "execution_count": 33,
   "metadata": {},
   "outputs": [
    {
     "name": "stdout",
     "output_type": "stream",
     "text": [
      "<class 'pandas.core.frame.DataFrame'>\n",
      "Int64Index: 347541 entries, 0 to 354368\n",
      "Data columns (total 16 columns):\n",
      " #   Column             Non-Null Count   Dtype \n",
      "---  ------             --------------   ----- \n",
      " 0   DateCrawled        347541 non-null  object\n",
      " 1   Price              347541 non-null  int64 \n",
      " 2   VehicleType        347541 non-null  object\n",
      " 3   RegistrationYear   347541 non-null  int64 \n",
      " 4   Gearbox            347541 non-null  object\n",
      " 5   Power              347541 non-null  int64 \n",
      " 6   Model              347541 non-null  object\n",
      " 7   Kilometer          347541 non-null  int64 \n",
      " 8   RegistrationMonth  347541 non-null  int64 \n",
      " 9   FuelType           347541 non-null  object\n",
      " 10  Brand              347541 non-null  object\n",
      " 11  Repaired           347541 non-null  object\n",
      " 12  DateCreated        347541 non-null  object\n",
      " 13  NumberOfPictures   347541 non-null  int64 \n",
      " 14  PostalCode         347541 non-null  int64 \n",
      " 15  LastSeen           347541 non-null  object\n",
      "dtypes: int64(7), object(9)\n",
      "memory usage: 53.1+ MB\n"
     ]
    }
   ],
   "source": [
    "df.info()"
   ]
  },
  {
   "cell_type": "code",
   "execution_count": 34,
   "metadata": {},
   "outputs": [],
   "source": [
    "new_df = df.drop(['RegistrationMonth', 'NumberOfPictures', 'PostalCode', 'DateCreated', 'LastSeen', 'DateCrawled'], axis=1)"
   ]
  },
  {
   "cell_type": "markdown",
   "metadata": {},
   "source": [
    "<a id='preparation3'></a>\n",
    "### Поиск и удаление дубликатов"
   ]
  },
  {
   "cell_type": "code",
   "execution_count": 35,
   "metadata": {},
   "outputs": [
    {
     "data": {
      "text/html": [
       "<div>\n",
       "<style scoped>\n",
       "    .dataframe tbody tr th:only-of-type {\n",
       "        vertical-align: middle;\n",
       "    }\n",
       "\n",
       "    .dataframe tbody tr th {\n",
       "        vertical-align: top;\n",
       "    }\n",
       "\n",
       "    .dataframe thead th {\n",
       "        text-align: right;\n",
       "    }\n",
       "</style>\n",
       "<table border=\"1\" class=\"dataframe\">\n",
       "  <thead>\n",
       "    <tr style=\"text-align: right;\">\n",
       "      <th></th>\n",
       "      <th>Price</th>\n",
       "      <th>VehicleType</th>\n",
       "      <th>RegistrationYear</th>\n",
       "      <th>Gearbox</th>\n",
       "      <th>Power</th>\n",
       "      <th>Model</th>\n",
       "      <th>Kilometer</th>\n",
       "      <th>FuelType</th>\n",
       "      <th>Brand</th>\n",
       "      <th>Repaired</th>\n",
       "    </tr>\n",
       "  </thead>\n",
       "  <tbody>\n",
       "    <tr>\n",
       "      <th>0</th>\n",
       "      <td>480</td>\n",
       "      <td>other</td>\n",
       "      <td>1993</td>\n",
       "      <td>manual</td>\n",
       "      <td>0</td>\n",
       "      <td>golf</td>\n",
       "      <td>150000</td>\n",
       "      <td>petrol</td>\n",
       "      <td>volkswagen</td>\n",
       "      <td>other</td>\n",
       "    </tr>\n",
       "    <tr>\n",
       "      <th>1</th>\n",
       "      <td>18300</td>\n",
       "      <td>coupe</td>\n",
       "      <td>2011</td>\n",
       "      <td>manual</td>\n",
       "      <td>190</td>\n",
       "      <td>other</td>\n",
       "      <td>125000</td>\n",
       "      <td>gasoline</td>\n",
       "      <td>audi</td>\n",
       "      <td>yes</td>\n",
       "    </tr>\n",
       "    <tr>\n",
       "      <th>2</th>\n",
       "      <td>9800</td>\n",
       "      <td>suv</td>\n",
       "      <td>2004</td>\n",
       "      <td>auto</td>\n",
       "      <td>163</td>\n",
       "      <td>grand</td>\n",
       "      <td>125000</td>\n",
       "      <td>gasoline</td>\n",
       "      <td>jeep</td>\n",
       "      <td>other</td>\n",
       "    </tr>\n",
       "    <tr>\n",
       "      <th>3</th>\n",
       "      <td>1500</td>\n",
       "      <td>small</td>\n",
       "      <td>2001</td>\n",
       "      <td>manual</td>\n",
       "      <td>75</td>\n",
       "      <td>golf</td>\n",
       "      <td>150000</td>\n",
       "      <td>petrol</td>\n",
       "      <td>volkswagen</td>\n",
       "      <td>no</td>\n",
       "    </tr>\n",
       "    <tr>\n",
       "      <th>4</th>\n",
       "      <td>3600</td>\n",
       "      <td>small</td>\n",
       "      <td>2008</td>\n",
       "      <td>manual</td>\n",
       "      <td>69</td>\n",
       "      <td>fabia</td>\n",
       "      <td>90000</td>\n",
       "      <td>gasoline</td>\n",
       "      <td>skoda</td>\n",
       "      <td>no</td>\n",
       "    </tr>\n",
       "    <tr>\n",
       "      <th>...</th>\n",
       "      <td>...</td>\n",
       "      <td>...</td>\n",
       "      <td>...</td>\n",
       "      <td>...</td>\n",
       "      <td>...</td>\n",
       "      <td>...</td>\n",
       "      <td>...</td>\n",
       "      <td>...</td>\n",
       "      <td>...</td>\n",
       "      <td>...</td>\n",
       "    </tr>\n",
       "    <tr>\n",
       "      <th>354363</th>\n",
       "      <td>1150</td>\n",
       "      <td>bus</td>\n",
       "      <td>2000</td>\n",
       "      <td>manual</td>\n",
       "      <td>0</td>\n",
       "      <td>zafira</td>\n",
       "      <td>150000</td>\n",
       "      <td>petrol</td>\n",
       "      <td>opel</td>\n",
       "      <td>no</td>\n",
       "    </tr>\n",
       "    <tr>\n",
       "      <th>354364</th>\n",
       "      <td>0</td>\n",
       "      <td>other</td>\n",
       "      <td>2005</td>\n",
       "      <td>manual</td>\n",
       "      <td>0</td>\n",
       "      <td>colt</td>\n",
       "      <td>150000</td>\n",
       "      <td>petrol</td>\n",
       "      <td>mitsubishi</td>\n",
       "      <td>yes</td>\n",
       "    </tr>\n",
       "    <tr>\n",
       "      <th>354366</th>\n",
       "      <td>1199</td>\n",
       "      <td>convertible</td>\n",
       "      <td>2000</td>\n",
       "      <td>auto</td>\n",
       "      <td>101</td>\n",
       "      <td>fortwo</td>\n",
       "      <td>125000</td>\n",
       "      <td>petrol</td>\n",
       "      <td>smart</td>\n",
       "      <td>no</td>\n",
       "    </tr>\n",
       "    <tr>\n",
       "      <th>354367</th>\n",
       "      <td>9200</td>\n",
       "      <td>bus</td>\n",
       "      <td>1996</td>\n",
       "      <td>manual</td>\n",
       "      <td>102</td>\n",
       "      <td>transporter</td>\n",
       "      <td>150000</td>\n",
       "      <td>gasoline</td>\n",
       "      <td>volkswagen</td>\n",
       "      <td>no</td>\n",
       "    </tr>\n",
       "    <tr>\n",
       "      <th>354368</th>\n",
       "      <td>3400</td>\n",
       "      <td>wagon</td>\n",
       "      <td>2002</td>\n",
       "      <td>manual</td>\n",
       "      <td>100</td>\n",
       "      <td>golf</td>\n",
       "      <td>150000</td>\n",
       "      <td>gasoline</td>\n",
       "      <td>volkswagen</td>\n",
       "      <td>other</td>\n",
       "    </tr>\n",
       "  </tbody>\n",
       "</table>\n",
       "<p>347541 rows × 10 columns</p>\n",
       "</div>"
      ],
      "text/plain": [
       "        Price  VehicleType  RegistrationYear Gearbox  Power        Model  \\\n",
       "0         480        other              1993  manual      0         golf   \n",
       "1       18300        coupe              2011  manual    190        other   \n",
       "2        9800          suv              2004    auto    163        grand   \n",
       "3        1500        small              2001  manual     75         golf   \n",
       "4        3600        small              2008  manual     69        fabia   \n",
       "...       ...          ...               ...     ...    ...          ...   \n",
       "354363   1150          bus              2000  manual      0       zafira   \n",
       "354364      0        other              2005  manual      0         colt   \n",
       "354366   1199  convertible              2000    auto    101       fortwo   \n",
       "354367   9200          bus              1996  manual    102  transporter   \n",
       "354368   3400        wagon              2002  manual    100         golf   \n",
       "\n",
       "        Kilometer  FuelType       Brand Repaired  \n",
       "0          150000    petrol  volkswagen    other  \n",
       "1          125000  gasoline        audi      yes  \n",
       "2          125000  gasoline        jeep    other  \n",
       "3          150000    petrol  volkswagen       no  \n",
       "4           90000  gasoline       skoda       no  \n",
       "...           ...       ...         ...      ...  \n",
       "354363     150000    petrol        opel       no  \n",
       "354364     150000    petrol  mitsubishi      yes  \n",
       "354366     125000    petrol       smart       no  \n",
       "354367     150000  gasoline  volkswagen       no  \n",
       "354368     150000  gasoline  volkswagen    other  \n",
       "\n",
       "[347541 rows x 10 columns]"
      ]
     },
     "execution_count": 35,
     "metadata": {},
     "output_type": "execute_result"
    }
   ],
   "source": [
    "new_df"
   ]
  },
  {
   "cell_type": "code",
   "execution_count": 36,
   "metadata": {},
   "outputs": [
    {
     "data": {
      "text/plain": [
       "array(['volkswagen', 'audi', 'jeep', 'skoda', 'bmw', 'peugeot', 'ford',\n",
       "       'mazda', 'nissan', 'renault', 'mercedes_benz', 'opel', 'seat',\n",
       "       'citroen', 'honda', 'fiat', 'mini', 'smart', 'hyundai',\n",
       "       'sonstige_autos', 'alfa_romeo', 'subaru', 'volvo', 'mitsubishi',\n",
       "       'kia', 'suzuki', 'lancia', 'toyota', 'chevrolet', 'dacia',\n",
       "       'daihatsu', 'saab', 'chrysler', 'jaguar', 'daewoo', 'porsche',\n",
       "       'rover', 'land_rover', 'trabant', 'lada'], dtype=object)"
      ]
     },
     "execution_count": 36,
     "metadata": {},
     "output_type": "execute_result"
    }
   ],
   "source": [
    "new_df['Brand'].unique()"
   ]
  },
  {
   "cell_type": "code",
   "execution_count": 37,
   "metadata": {},
   "outputs": [
    {
     "data": {
      "text/plain": [
       "array(['petrol', 'gasoline', 'other', 'lpg', 'hybrid', 'cng', 'electric'],\n",
       "      dtype=object)"
      ]
     },
     "execution_count": 37,
     "metadata": {},
     "output_type": "execute_result"
    }
   ],
   "source": [
    "new_df['FuelType'].unique()"
   ]
  },
  {
   "cell_type": "code",
   "execution_count": 38,
   "metadata": {},
   "outputs": [],
   "source": [
    "new_df['FuelType'] = new_df['FuelType'].replace('gasoline', 'petrol', regex=True)"
   ]
  },
  {
   "cell_type": "code",
   "execution_count": 39,
   "metadata": {},
   "outputs": [],
   "source": [
    "new_df['FuelType'] = new_df['FuelType'].replace(['lpg', 'cng'], 'gas', regex=True)"
   ]
  },
  {
   "cell_type": "code",
   "execution_count": 40,
   "metadata": {},
   "outputs": [
    {
     "data": {
      "text/plain": [
       "45191"
      ]
     },
     "execution_count": 40,
     "metadata": {},
     "output_type": "execute_result"
    }
   ],
   "source": [
    "new_df.duplicated().sum()"
   ]
  },
  {
   "cell_type": "code",
   "execution_count": 41,
   "metadata": {
    "scrolled": true
   },
   "outputs": [],
   "source": [
    "new_df = new_df.drop_duplicates()"
   ]
  },
  {
   "cell_type": "code",
   "execution_count": 42,
   "metadata": {
    "scrolled": true
   },
   "outputs": [
    {
     "name": "stdout",
     "output_type": "stream",
     "text": [
      "<class 'pandas.core.frame.DataFrame'>\n",
      "Int64Index: 302350 entries, 0 to 354368\n",
      "Data columns (total 10 columns):\n",
      " #   Column            Non-Null Count   Dtype \n",
      "---  ------            --------------   ----- \n",
      " 0   Price             302350 non-null  int64 \n",
      " 1   VehicleType       302350 non-null  object\n",
      " 2   RegistrationYear  302350 non-null  int64 \n",
      " 3   Gearbox           302350 non-null  object\n",
      " 4   Power             302350 non-null  int64 \n",
      " 5   Model             302350 non-null  object\n",
      " 6   Kilometer         302350 non-null  int64 \n",
      " 7   FuelType          302350 non-null  object\n",
      " 8   Brand             302350 non-null  object\n",
      " 9   Repaired          302350 non-null  object\n",
      "dtypes: int64(4), object(6)\n",
      "memory usage: 25.4+ MB\n"
     ]
    }
   ],
   "source": [
    "new_df.info()"
   ]
  },
  {
   "cell_type": "markdown",
   "metadata": {},
   "source": [
    "**Вывод:**  Изучили данные. Заполнили пропущенные значения и обработали аномалии в столбцах. Неинформативные данные удалили."
   ]
  },
  {
   "cell_type": "code",
   "execution_count": 43,
   "metadata": {},
   "outputs": [
    {
     "data": {
      "image/png": "[encoded data removed]",
      "text/plain": [
       "<Figure size 720x576 with 2 Axes>"
      ]
     },
     "metadata": {
      "needs_background": "light"
     },
     "output_type": "display_data"
    }
   ],
   "source": [
    "list_columns = ['Price', 'RegistrationYear', 'Power', 'Kilometer']\n",
    "corr_matrix = new_df.phik_matrix(interval_cols = list_columns)\n",
    "\n",
    "plt.figure(figsize=(10, 8))\n",
    "sns.heatmap(corr_matrix, annot=True, cmap='coolwarm')\n",
    "plt.title('Матрица корреляции')\n",
    "plt.show()"
   ]
  },
  {
   "cell_type": "markdown",
   "metadata": {},
   "source": [
    "<a id='models'></a>\n",
    "## Обучение моделей"
   ]
  },
  {
   "cell_type": "code",
   "execution_count": 44,
   "metadata": {},
   "outputs": [],
   "source": [
    "df_sample = new_df.drop('Brand', axis=1).sample(frac=0.1, random_state=RANDOM_STATE)"
   ]
  },
  {
   "cell_type": "code",
   "execution_count": 45,
   "metadata": {},
   "outputs": [],
   "source": [
    "X = df_sample.drop('Price', axis=1)\n",
    "y = df_sample['Price']"
   ]
  },
  {
   "cell_type": "code",
   "execution_count": 46,
   "metadata": {},
   "outputs": [],
   "source": [
    "X_train, X_test, y_train, y_test = train_test_split(X, y, test_size=0.2, random_state=RANDOM_STATE)"
   ]
  },
  {
   "cell_type": "code",
   "execution_count": 47,
   "metadata": {},
   "outputs": [],
   "source": [
    "ohe_columns = ['VehicleType', 'Gearbox', 'FuelType', 'Repaired']\n",
    "ord_columns = ['Model']\n",
    "num_columns = ['RegistrationYear', 'Power', 'Kilometer']\n",
    "\n",
    "data_preprocessor = ColumnTransformer([\n",
    "    ('ohe', OneHotEncoder(drop='first', handle_unknown='ignore'), ohe_columns), # handle_unknown='error'\n",
    "    ('ord', OrdinalEncoder(), ord_columns),\n",
    "    ('num', StandardScaler(), num_columns)\n",
    "], remainder='passthrough')"
   ]
  },
  {
   "cell_type": "code",
   "execution_count": null,
   "metadata": {},
   "outputs": [],
   "source": []
  },
  {
   "cell_type": "code",
   "execution_count": 48,
   "metadata": {},
   "outputs": [
    {
     "name": "stderr",
     "output_type": "stream",
     "text": [
      "/opt/conda/lib/python3.9/site-packages/sklearn/model_selection/_search.py:306: UserWarning: The total space of parameters 9 is smaller than n_iter=10. Running 9 iterations. For exhaustive searches, use GridSearchCV.\n",
      "  warnings.warn(\n",
      "/opt/conda/lib/python3.9/site-packages/sklearn/model_selection/_validation.py:776: UserWarning: Scoring failed. The score on this train-test partition for these parameters will be set to nan. Details: \n",
      "Traceback (most recent call last):\n",
      "  File \"/opt/conda/lib/python3.9/site-packages/sklearn/model_selection/_validation.py\", line 767, in _score\n",
      "    scores = scorer(estimator, X_test, y_test)\n",
      "  File \"/opt/conda/lib/python3.9/site-packages/sklearn/metrics/_scorer.py\", line 219, in __call__\n",
      "    return self._score(\n",
      "  File \"/opt/conda/lib/python3.9/site-packages/sklearn/metrics/_scorer.py\", line 261, in _score\n",
      "    y_pred = method_caller(estimator, \"predict\", X)\n",
      "  File \"/opt/conda/lib/python3.9/site-packages/sklearn/metrics/_scorer.py\", line 71, in _cached_call\n",
      "    return getattr(estimator, method)(*args, **kwargs)\n",
      "  File \"/opt/conda/lib/python3.9/site-packages/sklearn/pipeline.py\", line 457, in predict\n",
      "    Xt = transform.transform(Xt)\n",
      "  File \"/opt/conda/lib/python3.9/site-packages/sklearn/compose/_column_transformer.py\", line 763, in transform\n",
      "    Xs = self._fit_transform(\n",
      "  File \"/opt/conda/lib/python3.9/site-packages/sklearn/compose/_column_transformer.py\", line 621, in _fit_transform\n",
      "    return Parallel(n_jobs=self.n_jobs)(\n",
      "  File \"/opt/conda/lib/python3.9/site-packages/joblib/parallel.py\", line 1046, in __call__\n",
      "    while self.dispatch_one_batch(iterator):\n",
      "  File \"/opt/conda/lib/python3.9/site-packages/joblib/parallel.py\", line 861, in dispatch_one_batch\n",
      "    self._dispatch(tasks)\n",
      "  File \"/opt/conda/lib/python3.9/site-packages/joblib/parallel.py\", line 779, in _dispatch\n",
      "    job = self._backend.apply_async(batch, callback=cb)\n",
      "  File \"/opt/conda/lib/python3.9/site-packages/joblib/_parallel_backends.py\", line 208, in apply_async\n",
      "    result = ImmediateResult(func)\n",
      "  File \"/opt/conda/lib/python3.9/site-packages/joblib/_parallel_backends.py\", line 572, in __init__\n",
      "    self.results = batch()\n",
      "  File \"/opt/conda/lib/python3.9/site-packages/joblib/parallel.py\", line 262, in __call__\n",
      "    return [func(*args, **kwargs)\n",
      "  File \"/opt/conda/lib/python3.9/site-packages/joblib/parallel.py\", line 262, in <listcomp>\n",
      "    return [func(*args, **kwargs)\n",
      "  File \"/opt/conda/lib/python3.9/site-packages/sklearn/utils/fixes.py\", line 117, in __call__\n",
      "    return self.function(*args, **kwargs)\n",
      "  File \"/opt/conda/lib/python3.9/site-packages/sklearn/pipeline.py\", line 853, in _transform_one\n",
      "    res = transformer.transform(X)\n",
      "  File \"/opt/conda/lib/python3.9/site-packages/sklearn/preprocessing/_encoders.py\", line 1363, in transform\n",
      "    X_int, X_mask = self._transform(\n",
      "  File \"/opt/conda/lib/python3.9/site-packages/sklearn/preprocessing/_encoders.py\", line 160, in _transform\n",
      "    raise ValueError(msg)\n",
      "ValueError: Found unknown categories ['lybra', 'i3', 'musa', 'rangerover'] in column 0 during transform\n",
      "\n",
      "  warnings.warn(\n",
      "/opt/conda/lib/python3.9/site-packages/sklearn/model_selection/_validation.py:776: UserWarning: Scoring failed. The score on this train-test partition for these parameters will be set to nan. Details: \n",
      "Traceback (most recent call last):\n",
      "  File \"/opt/conda/lib/python3.9/site-packages/sklearn/model_selection/_validation.py\", line 767, in _score\n",
      "    scores = scorer(estimator, X_test, y_test)\n",
      "  File \"/opt/conda/lib/python3.9/site-packages/sklearn/metrics/_scorer.py\", line 219, in __call__\n",
      "    return self._score(\n",
      "  File \"/opt/conda/lib/python3.9/site-packages/sklearn/metrics/_scorer.py\", line 261, in _score\n",
      "    y_pred = method_caller(estimator, \"predict\", X)\n",
      "  File \"/opt/conda/lib/python3.9/site-packages/sklearn/metrics/_scorer.py\", line 71, in _cached_call\n",
      "    return getattr(estimator, method)(*args, **kwargs)\n",
      "  File \"/opt/conda/lib/python3.9/site-packages/sklearn/pipeline.py\", line 457, in predict\n",
      "    Xt = transform.transform(Xt)\n",
      "  File \"/opt/conda/lib/python3.9/site-packages/sklearn/compose/_column_transformer.py\", line 763, in transform\n",
      "    Xs = self._fit_transform(\n",
      "  File \"/opt/conda/lib/python3.9/site-packages/sklearn/compose/_column_transformer.py\", line 621, in _fit_transform\n",
      "    return Parallel(n_jobs=self.n_jobs)(\n",
      "  File \"/opt/conda/lib/python3.9/site-packages/joblib/parallel.py\", line 1046, in __call__\n",
      "    while self.dispatch_one_batch(iterator):\n",
      "  File \"/opt/conda/lib/python3.9/site-packages/joblib/parallel.py\", line 861, in dispatch_one_batch\n",
      "    self._dispatch(tasks)\n",
      "  File \"/opt/conda/lib/python3.9/site-packages/joblib/parallel.py\", line 779, in _dispatch\n",
      "    job = self._backend.apply_async(batch, callback=cb)\n",
      "  File \"/opt/conda/lib/python3.9/site-packages/joblib/_parallel_backends.py\", line 208, in apply_async\n",
      "    result = ImmediateResult(func)\n",
      "  File \"/opt/conda/lib/python3.9/site-packages/joblib/_parallel_backends.py\", line 572, in __init__\n",
      "    self.results = batch()\n",
      "  File \"/opt/conda/lib/python3.9/site-packages/joblib/parallel.py\", line 262, in __call__\n",
      "    return [func(*args, **kwargs)\n",
      "  File \"/opt/conda/lib/python3.9/site-packages/joblib/parallel.py\", line 262, in <listcomp>\n",
      "    return [func(*args, **kwargs)\n",
      "  File \"/opt/conda/lib/python3.9/site-packages/sklearn/utils/fixes.py\", line 117, in __call__\n",
      "    return self.function(*args, **kwargs)\n",
      "  File \"/opt/conda/lib/python3.9/site-packages/sklearn/pipeline.py\", line 853, in _transform_one\n",
      "    res = transformer.transform(X)\n",
      "  File \"/opt/conda/lib/python3.9/site-packages/sklearn/preprocessing/_encoders.py\", line 1363, in transform\n",
      "    X_int, X_mask = self._transform(\n",
      "  File \"/opt/conda/lib/python3.9/site-packages/sklearn/preprocessing/_encoders.py\", line 160, in _transform\n",
      "    raise ValueError(msg)\n",
      "ValueError: Found unknown categories ['q3'] in column 0 during transform\n",
      "\n",
      "  warnings.warn(\n",
      "/opt/conda/lib/python3.9/site-packages/sklearn/model_selection/_validation.py:776: UserWarning: Scoring failed. The score on this train-test partition for these parameters will be set to nan. Details: \n",
      "Traceback (most recent call last):\n",
      "  File \"/opt/conda/lib/python3.9/site-packages/sklearn/model_selection/_validation.py\", line 767, in _score\n",
      "    scores = scorer(estimator, X_test, y_test)\n",
      "  File \"/opt/conda/lib/python3.9/site-packages/sklearn/metrics/_scorer.py\", line 219, in __call__\n",
      "    return self._score(\n",
      "  File \"/opt/conda/lib/python3.9/site-packages/sklearn/metrics/_scorer.py\", line 261, in _score\n",
      "    y_pred = method_caller(estimator, \"predict\", X)\n",
      "  File \"/opt/conda/lib/python3.9/site-packages/sklearn/metrics/_scorer.py\", line 71, in _cached_call\n",
      "    return getattr(estimator, method)(*args, **kwargs)\n",
      "  File \"/opt/conda/lib/python3.9/site-packages/sklearn/pipeline.py\", line 457, in predict\n",
      "    Xt = transform.transform(Xt)\n",
      "  File \"/opt/conda/lib/python3.9/site-packages/sklearn/compose/_column_transformer.py\", line 763, in transform\n",
      "    Xs = self._fit_transform(\n",
      "  File \"/opt/conda/lib/python3.9/site-packages/sklearn/compose/_column_transformer.py\", line 621, in _fit_transform\n",
      "    return Parallel(n_jobs=self.n_jobs)(\n",
      "  File \"/opt/conda/lib/python3.9/site-packages/joblib/parallel.py\", line 1046, in __call__\n",
      "    while self.dispatch_one_batch(iterator):\n",
      "  File \"/opt/conda/lib/python3.9/site-packages/joblib/parallel.py\", line 861, in dispatch_one_batch\n",
      "    self._dispatch(tasks)\n",
      "  File \"/opt/conda/lib/python3.9/site-packages/joblib/parallel.py\", line 779, in _dispatch\n",
      "    job = self._backend.apply_async(batch, callback=cb)\n",
      "  File \"/opt/conda/lib/python3.9/site-packages/joblib/_parallel_backends.py\", line 208, in apply_async\n",
      "    result = ImmediateResult(func)\n",
      "  File \"/opt/conda/lib/python3.9/site-packages/joblib/_parallel_backends.py\", line 572, in __init__\n",
      "    self.results = batch()\n",
      "  File \"/opt/conda/lib/python3.9/site-packages/joblib/parallel.py\", line 262, in __call__\n",
      "    return [func(*args, **kwargs)\n",
      "  File \"/opt/conda/lib/python3.9/site-packages/joblib/parallel.py\", line 262, in <listcomp>\n",
      "    return [func(*args, **kwargs)\n",
      "  File \"/opt/conda/lib/python3.9/site-packages/sklearn/utils/fixes.py\", line 117, in __call__\n",
      "    return self.function(*args, **kwargs)\n",
      "  File \"/opt/conda/lib/python3.9/site-packages/sklearn/pipeline.py\", line 853, in _transform_one\n",
      "    res = transformer.transform(X)\n",
      "  File \"/opt/conda/lib/python3.9/site-packages/sklearn/preprocessing/_encoders.py\", line 1363, in transform\n",
      "    X_int, X_mask = self._transform(\n",
      "  File \"/opt/conda/lib/python3.9/site-packages/sklearn/preprocessing/_encoders.py\", line 160, in _transform\n",
      "    raise ValueError(msg)\n",
      "ValueError: Found unknown categories ['lybra', 'i3', 'musa', 'rangerover'] in column 0 during transform\n",
      "\n",
      "  warnings.warn(\n",
      "/opt/conda/lib/python3.9/site-packages/sklearn/model_selection/_validation.py:776: UserWarning: Scoring failed. The score on this train-test partition for these parameters will be set to nan. Details: \n",
      "Traceback (most recent call last):\n",
      "  File \"/opt/conda/lib/python3.9/site-packages/sklearn/model_selection/_validation.py\", line 767, in _score\n",
      "    scores = scorer(estimator, X_test, y_test)\n",
      "  File \"/opt/conda/lib/python3.9/site-packages/sklearn/metrics/_scorer.py\", line 219, in __call__\n",
      "    return self._score(\n",
      "  File \"/opt/conda/lib/python3.9/site-packages/sklearn/metrics/_scorer.py\", line 261, in _score\n",
      "    y_pred = method_caller(estimator, \"predict\", X)\n",
      "  File \"/opt/conda/lib/python3.9/site-packages/sklearn/metrics/_scorer.py\", line 71, in _cached_call\n",
      "    return getattr(estimator, method)(*args, **kwargs)\n",
      "  File \"/opt/conda/lib/python3.9/site-packages/sklearn/pipeline.py\", line 457, in predict\n",
      "    Xt = transform.transform(Xt)\n",
      "  File \"/opt/conda/lib/python3.9/site-packages/sklearn/compose/_column_transformer.py\", line 763, in transform\n",
      "    Xs = self._fit_transform(\n",
      "  File \"/opt/conda/lib/python3.9/site-packages/sklearn/compose/_column_transformer.py\", line 621, in _fit_transform\n",
      "    return Parallel(n_jobs=self.n_jobs)(\n",
      "  File \"/opt/conda/lib/python3.9/site-packages/joblib/parallel.py\", line 1046, in __call__\n",
      "    while self.dispatch_one_batch(iterator):\n",
      "  File \"/opt/conda/lib/python3.9/site-packages/joblib/parallel.py\", line 861, in dispatch_one_batch\n",
      "    self._dispatch(tasks)\n",
      "  File \"/opt/conda/lib/python3.9/site-packages/joblib/parallel.py\", line 779, in _dispatch\n",
      "    job = self._backend.apply_async(batch, callback=cb)\n",
      "  File \"/opt/conda/lib/python3.9/site-packages/joblib/_parallel_backends.py\", line 208, in apply_async\n",
      "    result = ImmediateResult(func)\n",
      "  File \"/opt/conda/lib/python3.9/site-packages/joblib/_parallel_backends.py\", line 572, in __init__\n",
      "    self.results = batch()\n",
      "  File \"/opt/conda/lib/python3.9/site-packages/joblib/parallel.py\", line 262, in __call__\n",
      "    return [func(*args, **kwargs)\n",
      "  File \"/opt/conda/lib/python3.9/site-packages/joblib/parallel.py\", line 262, in <listcomp>\n",
      "    return [func(*args, **kwargs)\n",
      "  File \"/opt/conda/lib/python3.9/site-packages/sklearn/utils/fixes.py\", line 117, in __call__\n",
      "    return self.function(*args, **kwargs)\n",
      "  File \"/opt/conda/lib/python3.9/site-packages/sklearn/pipeline.py\", line 853, in _transform_one\n",
      "    res = transformer.transform(X)\n",
      "  File \"/opt/conda/lib/python3.9/site-packages/sklearn/preprocessing/_encoders.py\", line 1363, in transform\n",
      "    X_int, X_mask = self._transform(\n",
      "  File \"/opt/conda/lib/python3.9/site-packages/sklearn/preprocessing/_encoders.py\", line 160, in _transform\n",
      "    raise ValueError(msg)\n",
      "ValueError: Found unknown categories ['q3'] in column 0 during transform\n",
      "\n",
      "  warnings.warn(\n",
      "/opt/conda/lib/python3.9/site-packages/sklearn/model_selection/_validation.py:776: UserWarning: Scoring failed. The score on this train-test partition for these parameters will be set to nan. Details: \n",
      "Traceback (most recent call last):\n",
      "  File \"/opt/conda/lib/python3.9/site-packages/sklearn/model_selection/_validation.py\", line 767, in _score\n",
      "    scores = scorer(estimator, X_test, y_test)\n",
      "  File \"/opt/conda/lib/python3.9/site-packages/sklearn/metrics/_scorer.py\", line 219, in __call__\n",
      "    return self._score(\n",
      "  File \"/opt/conda/lib/python3.9/site-packages/sklearn/metrics/_scorer.py\", line 261, in _score\n",
      "    y_pred = method_caller(estimator, \"predict\", X)\n",
      "  File \"/opt/conda/lib/python3.9/site-packages/sklearn/metrics/_scorer.py\", line 71, in _cached_call\n",
      "    return getattr(estimator, method)(*args, **kwargs)\n",
      "  File \"/opt/conda/lib/python3.9/site-packages/sklearn/pipeline.py\", line 457, in predict\n",
      "    Xt = transform.transform(Xt)\n",
      "  File \"/opt/conda/lib/python3.9/site-packages/sklearn/compose/_column_transformer.py\", line 763, in transform\n",
      "    Xs = self._fit_transform(\n",
      "  File \"/opt/conda/lib/python3.9/site-packages/sklearn/compose/_column_transformer.py\", line 621, in _fit_transform\n",
      "    return Parallel(n_jobs=self.n_jobs)(\n",
      "  File \"/opt/conda/lib/python3.9/site-packages/joblib/parallel.py\", line 1046, in __call__\n",
      "    while self.dispatch_one_batch(iterator):\n",
      "  File \"/opt/conda/lib/python3.9/site-packages/joblib/parallel.py\", line 861, in dispatch_one_batch\n",
      "    self._dispatch(tasks)\n",
      "  File \"/opt/conda/lib/python3.9/site-packages/joblib/parallel.py\", line 779, in _dispatch\n",
      "    job = self._backend.apply_async(batch, callback=cb)\n",
      "  File \"/opt/conda/lib/python3.9/site-packages/joblib/_parallel_backends.py\", line 208, in apply_async\n",
      "    result = ImmediateResult(func)\n",
      "  File \"/opt/conda/lib/python3.9/site-packages/joblib/_parallel_backends.py\", line 572, in __init__\n",
      "    self.results = batch()\n",
      "  File \"/opt/conda/lib/python3.9/site-packages/joblib/parallel.py\", line 262, in __call__\n",
      "    return [func(*args, **kwargs)\n",
      "  File \"/opt/conda/lib/python3.9/site-packages/joblib/parallel.py\", line 262, in <listcomp>\n",
      "    return [func(*args, **kwargs)\n",
      "  File \"/opt/conda/lib/python3.9/site-packages/sklearn/utils/fixes.py\", line 117, in __call__\n",
      "    return self.function(*args, **kwargs)\n",
      "  File \"/opt/conda/lib/python3.9/site-packages/sklearn/pipeline.py\", line 853, in _transform_one\n",
      "    res = transformer.transform(X)\n",
      "  File \"/opt/conda/lib/python3.9/site-packages/sklearn/preprocessing/_encoders.py\", line 1363, in transform\n",
      "    X_int, X_mask = self._transform(\n",
      "  File \"/opt/conda/lib/python3.9/site-packages/sklearn/preprocessing/_encoders.py\", line 160, in _transform\n",
      "    raise ValueError(msg)\n",
      "ValueError: Found unknown categories ['lybra', 'i3', 'musa', 'rangerover'] in column 0 during transform\n",
      "\n",
      "  warnings.warn(\n",
      "/opt/conda/lib/python3.9/site-packages/sklearn/model_selection/_validation.py:776: UserWarning: Scoring failed. The score on this train-test partition for these parameters will be set to nan. Details: \n",
      "Traceback (most recent call last):\n",
      "  File \"/opt/conda/lib/python3.9/site-packages/sklearn/model_selection/_validation.py\", line 767, in _score\n",
      "    scores = scorer(estimator, X_test, y_test)\n",
      "  File \"/opt/conda/lib/python3.9/site-packages/sklearn/metrics/_scorer.py\", line 219, in __call__\n",
      "    return self._score(\n",
      "  File \"/opt/conda/lib/python3.9/site-packages/sklearn/metrics/_scorer.py\", line 261, in _score\n",
      "    y_pred = method_caller(estimator, \"predict\", X)\n",
      "  File \"/opt/conda/lib/python3.9/site-packages/sklearn/metrics/_scorer.py\", line 71, in _cached_call\n",
      "    return getattr(estimator, method)(*args, **kwargs)\n",
      "  File \"/opt/conda/lib/python3.9/site-packages/sklearn/pipeline.py\", line 457, in predict\n",
      "    Xt = transform.transform(Xt)\n",
      "  File \"/opt/conda/lib/python3.9/site-packages/sklearn/compose/_column_transformer.py\", line 763, in transform\n",
      "    Xs = self._fit_transform(\n",
      "  File \"/opt/conda/lib/python3.9/site-packages/sklearn/compose/_column_transformer.py\", line 621, in _fit_transform\n",
      "    return Parallel(n_jobs=self.n_jobs)(\n",
      "  File \"/opt/conda/lib/python3.9/site-packages/joblib/parallel.py\", line 1046, in __call__\n",
      "    while self.dispatch_one_batch(iterator):\n",
      "  File \"/opt/conda/lib/python3.9/site-packages/joblib/parallel.py\", line 861, in dispatch_one_batch\n",
      "    self._dispatch(tasks)\n",
      "  File \"/opt/conda/lib/python3.9/site-packages/joblib/parallel.py\", line 779, in _dispatch\n",
      "    job = self._backend.apply_async(batch, callback=cb)\n",
      "  File \"/opt/conda/lib/python3.9/site-packages/joblib/_parallel_backends.py\", line 208, in apply_async\n",
      "    result = ImmediateResult(func)\n",
      "  File \"/opt/conda/lib/python3.9/site-packages/joblib/_parallel_backends.py\", line 572, in __init__\n",
      "    self.results = batch()\n",
      "  File \"/opt/conda/lib/python3.9/site-packages/joblib/parallel.py\", line 262, in __call__\n",
      "    return [func(*args, **kwargs)\n",
      "  File \"/opt/conda/lib/python3.9/site-packages/joblib/parallel.py\", line 262, in <listcomp>\n",
      "    return [func(*args, **kwargs)\n",
      "  File \"/opt/conda/lib/python3.9/site-packages/sklearn/utils/fixes.py\", line 117, in __call__\n",
      "    return self.function(*args, **kwargs)\n",
      "  File \"/opt/conda/lib/python3.9/site-packages/sklearn/pipeline.py\", line 853, in _transform_one\n",
      "    res = transformer.transform(X)\n",
      "  File \"/opt/conda/lib/python3.9/site-packages/sklearn/preprocessing/_encoders.py\", line 1363, in transform\n",
      "    X_int, X_mask = self._transform(\n",
      "  File \"/opt/conda/lib/python3.9/site-packages/sklearn/preprocessing/_encoders.py\", line 160, in _transform\n",
      "    raise ValueError(msg)\n",
      "ValueError: Found unknown categories ['q3'] in column 0 during transform\n",
      "\n",
      "  warnings.warn(\n",
      "/opt/conda/lib/python3.9/site-packages/sklearn/model_selection/_validation.py:776: UserWarning: Scoring failed. The score on this train-test partition for these parameters will be set to nan. Details: \n",
      "Traceback (most recent call last):\n",
      "  File \"/opt/conda/lib/python3.9/site-packages/sklearn/model_selection/_validation.py\", line 767, in _score\n",
      "    scores = scorer(estimator, X_test, y_test)\n",
      "  File \"/opt/conda/lib/python3.9/site-packages/sklearn/metrics/_scorer.py\", line 219, in __call__\n",
      "    return self._score(\n",
      "  File \"/opt/conda/lib/python3.9/site-packages/sklearn/metrics/_scorer.py\", line 261, in _score\n",
      "    y_pred = method_caller(estimator, \"predict\", X)\n",
      "  File \"/opt/conda/lib/python3.9/site-packages/sklearn/metrics/_scorer.py\", line 71, in _cached_call\n",
      "    return getattr(estimator, method)(*args, **kwargs)\n",
      "  File \"/opt/conda/lib/python3.9/site-packages/sklearn/pipeline.py\", line 457, in predict\n",
      "    Xt = transform.transform(Xt)\n",
      "  File \"/opt/conda/lib/python3.9/site-packages/sklearn/compose/_column_transformer.py\", line 763, in transform\n",
      "    Xs = self._fit_transform(\n",
      "  File \"/opt/conda/lib/python3.9/site-packages/sklearn/compose/_column_transformer.py\", line 621, in _fit_transform\n",
      "    return Parallel(n_jobs=self.n_jobs)(\n",
      "  File \"/opt/conda/lib/python3.9/site-packages/joblib/parallel.py\", line 1046, in __call__\n",
      "    while self.dispatch_one_batch(iterator):\n",
      "  File \"/opt/conda/lib/python3.9/site-packages/joblib/parallel.py\", line 861, in dispatch_one_batch\n",
      "    self._dispatch(tasks)\n",
      "  File \"/opt/conda/lib/python3.9/site-packages/joblib/parallel.py\", line 779, in _dispatch\n",
      "    job = self._backend.apply_async(batch, callback=cb)\n",
      "  File \"/opt/conda/lib/python3.9/site-packages/joblib/_parallel_backends.py\", line 208, in apply_async\n",
      "    result = ImmediateResult(func)\n",
      "  File \"/opt/conda/lib/python3.9/site-packages/joblib/_parallel_backends.py\", line 572, in __init__\n",
      "    self.results = batch()\n",
      "  File \"/opt/conda/lib/python3.9/site-packages/joblib/parallel.py\", line 262, in __call__\n",
      "    return [func(*args, **kwargs)\n",
      "  File \"/opt/conda/lib/python3.9/site-packages/joblib/parallel.py\", line 262, in <listcomp>\n",
      "    return [func(*args, **kwargs)\n",
      "  File \"/opt/conda/lib/python3.9/site-packages/sklearn/utils/fixes.py\", line 117, in __call__\n",
      "    return self.function(*args, **kwargs)\n",
      "  File \"/opt/conda/lib/python3.9/site-packages/sklearn/pipeline.py\", line 853, in _transform_one\n",
      "    res = transformer.transform(X)\n",
      "  File \"/opt/conda/lib/python3.9/site-packages/sklearn/preprocessing/_encoders.py\", line 1363, in transform\n",
      "    X_int, X_mask = self._transform(\n",
      "  File \"/opt/conda/lib/python3.9/site-packages/sklearn/preprocessing/_encoders.py\", line 160, in _transform\n",
      "    raise ValueError(msg)\n",
      "ValueError: Found unknown categories ['lybra', 'i3', 'musa', 'rangerover'] in column 0 during transform\n",
      "\n",
      "  warnings.warn(\n",
      "/opt/conda/lib/python3.9/site-packages/sklearn/model_selection/_validation.py:776: UserWarning: Scoring failed. The score on this train-test partition for these parameters will be set to nan. Details: \n",
      "Traceback (most recent call last):\n",
      "  File \"/opt/conda/lib/python3.9/site-packages/sklearn/model_selection/_validation.py\", line 767, in _score\n",
      "    scores = scorer(estimator, X_test, y_test)\n",
      "  File \"/opt/conda/lib/python3.9/site-packages/sklearn/metrics/_scorer.py\", line 219, in __call__\n",
      "    return self._score(\n",
      "  File \"/opt/conda/lib/python3.9/site-packages/sklearn/metrics/_scorer.py\", line 261, in _score\n",
      "    y_pred = method_caller(estimator, \"predict\", X)\n",
      "  File \"/opt/conda/lib/python3.9/site-packages/sklearn/metrics/_scorer.py\", line 71, in _cached_call\n",
      "    return getattr(estimator, method)(*args, **kwargs)\n",
      "  File \"/opt/conda/lib/python3.9/site-packages/sklearn/pipeline.py\", line 457, in predict\n",
      "    Xt = transform.transform(Xt)\n",
      "  File \"/opt/conda/lib/python3.9/site-packages/sklearn/compose/_column_transformer.py\", line 763, in transform\n",
      "    Xs = self._fit_transform(\n",
      "  File \"/opt/conda/lib/python3.9/site-packages/sklearn/compose/_column_transformer.py\", line 621, in _fit_transform\n",
      "    return Parallel(n_jobs=self.n_jobs)(\n",
      "  File \"/opt/conda/lib/python3.9/site-packages/joblib/parallel.py\", line 1046, in __call__\n",
      "    while self.dispatch_one_batch(iterator):\n",
      "  File \"/opt/conda/lib/python3.9/site-packages/joblib/parallel.py\", line 861, in dispatch_one_batch\n",
      "    self._dispatch(tasks)\n",
      "  File \"/opt/conda/lib/python3.9/site-packages/joblib/parallel.py\", line 779, in _dispatch\n",
      "    job = self._backend.apply_async(batch, callback=cb)\n",
      "  File \"/opt/conda/lib/python3.9/site-packages/joblib/_parallel_backends.py\", line 208, in apply_async\n",
      "    result = ImmediateResult(func)\n",
      "  File \"/opt/conda/lib/python3.9/site-packages/joblib/_parallel_backends.py\", line 572, in __init__\n",
      "    self.results = batch()\n",
      "  File \"/opt/conda/lib/python3.9/site-packages/joblib/parallel.py\", line 262, in __call__\n",
      "    return [func(*args, **kwargs)\n",
      "  File \"/opt/conda/lib/python3.9/site-packages/joblib/parallel.py\", line 262, in <listcomp>\n",
      "    return [func(*args, **kwargs)\n",
      "  File \"/opt/conda/lib/python3.9/site-packages/sklearn/utils/fixes.py\", line 117, in __call__\n",
      "    return self.function(*args, **kwargs)\n",
      "  File \"/opt/conda/lib/python3.9/site-packages/sklearn/pipeline.py\", line 853, in _transform_one\n",
      "    res = transformer.transform(X)\n",
      "  File \"/opt/conda/lib/python3.9/site-packages/sklearn/preprocessing/_encoders.py\", line 1363, in transform\n",
      "    X_int, X_mask = self._transform(\n",
      "  File \"/opt/conda/lib/python3.9/site-packages/sklearn/preprocessing/_encoders.py\", line 160, in _transform\n",
      "    raise ValueError(msg)\n",
      "ValueError: Found unknown categories ['q3'] in column 0 during transform\n",
      "\n",
      "  warnings.warn(\n",
      "/opt/conda/lib/python3.9/site-packages/sklearn/model_selection/_validation.py:776: UserWarning: Scoring failed. The score on this train-test partition for these parameters will be set to nan. Details: \n",
      "Traceback (most recent call last):\n",
      "  File \"/opt/conda/lib/python3.9/site-packages/sklearn/model_selection/_validation.py\", line 767, in _score\n",
      "    scores = scorer(estimator, X_test, y_test)\n",
      "  File \"/opt/conda/lib/python3.9/site-packages/sklearn/metrics/_scorer.py\", line 219, in __call__\n",
      "    return self._score(\n",
      "  File \"/opt/conda/lib/python3.9/site-packages/sklearn/metrics/_scorer.py\", line 261, in _score\n",
      "    y_pred = method_caller(estimator, \"predict\", X)\n",
      "  File \"/opt/conda/lib/python3.9/site-packages/sklearn/metrics/_scorer.py\", line 71, in _cached_call\n",
      "    return getattr(estimator, method)(*args, **kwargs)\n",
      "  File \"/opt/conda/lib/python3.9/site-packages/sklearn/pipeline.py\", line 457, in predict\n",
      "    Xt = transform.transform(Xt)\n",
      "  File \"/opt/conda/lib/python3.9/site-packages/sklearn/compose/_column_transformer.py\", line 763, in transform\n",
      "    Xs = self._fit_transform(\n",
      "  File \"/opt/conda/lib/python3.9/site-packages/sklearn/compose/_column_transformer.py\", line 621, in _fit_transform\n",
      "    return Parallel(n_jobs=self.n_jobs)(\n",
      "  File \"/opt/conda/lib/python3.9/site-packages/joblib/parallel.py\", line 1046, in __call__\n",
      "    while self.dispatch_one_batch(iterator):\n",
      "  File \"/opt/conda/lib/python3.9/site-packages/joblib/parallel.py\", line 861, in dispatch_one_batch\n",
      "    self._dispatch(tasks)\n",
      "  File \"/opt/conda/lib/python3.9/site-packages/joblib/parallel.py\", line 779, in _dispatch\n",
      "    job = self._backend.apply_async(batch, callback=cb)\n",
      "  File \"/opt/conda/lib/python3.9/site-packages/joblib/_parallel_backends.py\", line 208, in apply_async\n",
      "    result = ImmediateResult(func)\n",
      "  File \"/opt/conda/lib/python3.9/site-packages/joblib/_parallel_backends.py\", line 572, in __init__\n",
      "    self.results = batch()\n",
      "  File \"/opt/conda/lib/python3.9/site-packages/joblib/parallel.py\", line 262, in __call__\n",
      "    return [func(*args, **kwargs)\n",
      "  File \"/opt/conda/lib/python3.9/site-packages/joblib/parallel.py\", line 262, in <listcomp>\n",
      "    return [func(*args, **kwargs)\n",
      "  File \"/opt/conda/lib/python3.9/site-packages/sklearn/utils/fixes.py\", line 117, in __call__\n",
      "    return self.function(*args, **kwargs)\n",
      "  File \"/opt/conda/lib/python3.9/site-packages/sklearn/pipeline.py\", line 853, in _transform_one\n",
      "    res = transformer.transform(X)\n",
      "  File \"/opt/conda/lib/python3.9/site-packages/sklearn/preprocessing/_encoders.py\", line 1363, in transform\n",
      "    X_int, X_mask = self._transform(\n",
      "  File \"/opt/conda/lib/python3.9/site-packages/sklearn/preprocessing/_encoders.py\", line 160, in _transform\n",
      "    raise ValueError(msg)\n",
      "ValueError: Found unknown categories ['lybra', 'i3', 'musa', 'rangerover'] in column 0 during transform\n",
      "\n",
      "  warnings.warn(\n",
      "/opt/conda/lib/python3.9/site-packages/sklearn/model_selection/_validation.py:776: UserWarning: Scoring failed. The score on this train-test partition for these parameters will be set to nan. Details: \n",
      "Traceback (most recent call last):\n",
      "  File \"/opt/conda/lib/python3.9/site-packages/sklearn/model_selection/_validation.py\", line 767, in _score\n",
      "    scores = scorer(estimator, X_test, y_test)\n",
      "  File \"/opt/conda/lib/python3.9/site-packages/sklearn/metrics/_scorer.py\", line 219, in __call__\n",
      "    return self._score(\n",
      "  File \"/opt/conda/lib/python3.9/site-packages/sklearn/metrics/_scorer.py\", line 261, in _score\n",
      "    y_pred = method_caller(estimator, \"predict\", X)\n",
      "  File \"/opt/conda/lib/python3.9/site-packages/sklearn/metrics/_scorer.py\", line 71, in _cached_call\n",
      "    return getattr(estimator, method)(*args, **kwargs)\n",
      "  File \"/opt/conda/lib/python3.9/site-packages/sklearn/pipeline.py\", line 457, in predict\n",
      "    Xt = transform.transform(Xt)\n",
      "  File \"/opt/conda/lib/python3.9/site-packages/sklearn/compose/_column_transformer.py\", line 763, in transform\n",
      "    Xs = self._fit_transform(\n",
      "  File \"/opt/conda/lib/python3.9/site-packages/sklearn/compose/_column_transformer.py\", line 621, in _fit_transform\n",
      "    return Parallel(n_jobs=self.n_jobs)(\n",
      "  File \"/opt/conda/lib/python3.9/site-packages/joblib/parallel.py\", line 1046, in __call__\n",
      "    while self.dispatch_one_batch(iterator):\n",
      "  File \"/opt/conda/lib/python3.9/site-packages/joblib/parallel.py\", line 861, in dispatch_one_batch\n",
      "    self._dispatch(tasks)\n",
      "  File \"/opt/conda/lib/python3.9/site-packages/joblib/parallel.py\", line 779, in _dispatch\n",
      "    job = self._backend.apply_async(batch, callback=cb)\n",
      "  File \"/opt/conda/lib/python3.9/site-packages/joblib/_parallel_backends.py\", line 208, in apply_async\n",
      "    result = ImmediateResult(func)\n",
      "  File \"/opt/conda/lib/python3.9/site-packages/joblib/_parallel_backends.py\", line 572, in __init__\n",
      "    self.results = batch()\n",
      "  File \"/opt/conda/lib/python3.9/site-packages/joblib/parallel.py\", line 262, in __call__\n",
      "    return [func(*args, **kwargs)\n",
      "  File \"/opt/conda/lib/python3.9/site-packages/joblib/parallel.py\", line 262, in <listcomp>\n",
      "    return [func(*args, **kwargs)\n",
      "  File \"/opt/conda/lib/python3.9/site-packages/sklearn/utils/fixes.py\", line 117, in __call__\n",
      "    return self.function(*args, **kwargs)\n",
      "  File \"/opt/conda/lib/python3.9/site-packages/sklearn/pipeline.py\", line 853, in _transform_one\n",
      "    res = transformer.transform(X)\n",
      "  File \"/opt/conda/lib/python3.9/site-packages/sklearn/preprocessing/_encoders.py\", line 1363, in transform\n",
      "    X_int, X_mask = self._transform(\n",
      "  File \"/opt/conda/lib/python3.9/site-packages/sklearn/preprocessing/_encoders.py\", line 160, in _transform\n",
      "    raise ValueError(msg)\n",
      "ValueError: Found unknown categories ['q3'] in column 0 during transform\n",
      "\n",
      "  warnings.warn(\n",
      "/opt/conda/lib/python3.9/site-packages/sklearn/model_selection/_validation.py:776: UserWarning: Scoring failed. The score on this train-test partition for these parameters will be set to nan. Details: \n",
      "Traceback (most recent call last):\n",
      "  File \"/opt/conda/lib/python3.9/site-packages/sklearn/model_selection/_validation.py\", line 767, in _score\n",
      "    scores = scorer(estimator, X_test, y_test)\n",
      "  File \"/opt/conda/lib/python3.9/site-packages/sklearn/metrics/_scorer.py\", line 219, in __call__\n",
      "    return self._score(\n",
      "  File \"/opt/conda/lib/python3.9/site-packages/sklearn/metrics/_scorer.py\", line 261, in _score\n",
      "    y_pred = method_caller(estimator, \"predict\", X)\n",
      "  File \"/opt/conda/lib/python3.9/site-packages/sklearn/metrics/_scorer.py\", line 71, in _cached_call\n",
      "    return getattr(estimator, method)(*args, **kwargs)\n",
      "  File \"/opt/conda/lib/python3.9/site-packages/sklearn/pipeline.py\", line 457, in predict\n",
      "    Xt = transform.transform(Xt)\n",
      "  File \"/opt/conda/lib/python3.9/site-packages/sklearn/compose/_column_transformer.py\", line 763, in transform\n",
      "    Xs = self._fit_transform(\n",
      "  File \"/opt/conda/lib/python3.9/site-packages/sklearn/compose/_column_transformer.py\", line 621, in _fit_transform\n",
      "    return Parallel(n_jobs=self.n_jobs)(\n",
      "  File \"/opt/conda/lib/python3.9/site-packages/joblib/parallel.py\", line 1046, in __call__\n",
      "    while self.dispatch_one_batch(iterator):\n",
      "  File \"/opt/conda/lib/python3.9/site-packages/joblib/parallel.py\", line 861, in dispatch_one_batch\n",
      "    self._dispatch(tasks)\n",
      "  File \"/opt/conda/lib/python3.9/site-packages/joblib/parallel.py\", line 779, in _dispatch\n",
      "    job = self._backend.apply_async(batch, callback=cb)\n",
      "  File \"/opt/conda/lib/python3.9/site-packages/joblib/_parallel_backends.py\", line 208, in apply_async\n",
      "    result = ImmediateResult(func)\n",
      "  File \"/opt/conda/lib/python3.9/site-packages/joblib/_parallel_backends.py\", line 572, in __init__\n",
      "    self.results = batch()\n",
      "  File \"/opt/conda/lib/python3.9/site-packages/joblib/parallel.py\", line 262, in __call__\n",
      "    return [func(*args, **kwargs)\n",
      "  File \"/opt/conda/lib/python3.9/site-packages/joblib/parallel.py\", line 262, in <listcomp>\n",
      "    return [func(*args, **kwargs)\n",
      "  File \"/opt/conda/lib/python3.9/site-packages/sklearn/utils/fixes.py\", line 117, in __call__\n",
      "    return self.function(*args, **kwargs)\n",
      "  File \"/opt/conda/lib/python3.9/site-packages/sklearn/pipeline.py\", line 853, in _transform_one\n",
      "    res = transformer.transform(X)\n",
      "  File \"/opt/conda/lib/python3.9/site-packages/sklearn/preprocessing/_encoders.py\", line 1363, in transform\n",
      "    X_int, X_mask = self._transform(\n",
      "  File \"/opt/conda/lib/python3.9/site-packages/sklearn/preprocessing/_encoders.py\", line 160, in _transform\n",
      "    raise ValueError(msg)\n",
      "ValueError: Found unknown categories ['lybra', 'i3', 'musa', 'rangerover'] in column 0 during transform\n",
      "\n",
      "  warnings.warn(\n",
      "/opt/conda/lib/python3.9/site-packages/sklearn/model_selection/_validation.py:776: UserWarning: Scoring failed. The score on this train-test partition for these parameters will be set to nan. Details: \n",
      "Traceback (most recent call last):\n",
      "  File \"/opt/conda/lib/python3.9/site-packages/sklearn/model_selection/_validation.py\", line 767, in _score\n",
      "    scores = scorer(estimator, X_test, y_test)\n",
      "  File \"/opt/conda/lib/python3.9/site-packages/sklearn/metrics/_scorer.py\", line 219, in __call__\n",
      "    return self._score(\n",
      "  File \"/opt/conda/lib/python3.9/site-packages/sklearn/metrics/_scorer.py\", line 261, in _score\n",
      "    y_pred = method_caller(estimator, \"predict\", X)\n",
      "  File \"/opt/conda/lib/python3.9/site-packages/sklearn/metrics/_scorer.py\", line 71, in _cached_call\n",
      "    return getattr(estimator, method)(*args, **kwargs)\n",
      "  File \"/opt/conda/lib/python3.9/site-packages/sklearn/pipeline.py\", line 457, in predict\n",
      "    Xt = transform.transform(Xt)\n",
      "  File \"/opt/conda/lib/python3.9/site-packages/sklearn/compose/_column_transformer.py\", line 763, in transform\n",
      "    Xs = self._fit_transform(\n",
      "  File \"/opt/conda/lib/python3.9/site-packages/sklearn/compose/_column_transformer.py\", line 621, in _fit_transform\n",
      "    return Parallel(n_jobs=self.n_jobs)(\n",
      "  File \"/opt/conda/lib/python3.9/site-packages/joblib/parallel.py\", line 1046, in __call__\n",
      "    while self.dispatch_one_batch(iterator):\n",
      "  File \"/opt/conda/lib/python3.9/site-packages/joblib/parallel.py\", line 861, in dispatch_one_batch\n",
      "    self._dispatch(tasks)\n",
      "  File \"/opt/conda/lib/python3.9/site-packages/joblib/parallel.py\", line 779, in _dispatch\n",
      "    job = self._backend.apply_async(batch, callback=cb)\n",
      "  File \"/opt/conda/lib/python3.9/site-packages/joblib/_parallel_backends.py\", line 208, in apply_async\n",
      "    result = ImmediateResult(func)\n",
      "  File \"/opt/conda/lib/python3.9/site-packages/joblib/_parallel_backends.py\", line 572, in __init__\n",
      "    self.results = batch()\n",
      "  File \"/opt/conda/lib/python3.9/site-packages/joblib/parallel.py\", line 262, in __call__\n",
      "    return [func(*args, **kwargs)\n",
      "  File \"/opt/conda/lib/python3.9/site-packages/joblib/parallel.py\", line 262, in <listcomp>\n",
      "    return [func(*args, **kwargs)\n",
      "  File \"/opt/conda/lib/python3.9/site-packages/sklearn/utils/fixes.py\", line 117, in __call__\n",
      "    return self.function(*args, **kwargs)\n",
      "  File \"/opt/conda/lib/python3.9/site-packages/sklearn/pipeline.py\", line 853, in _transform_one\n",
      "    res = transformer.transform(X)\n",
      "  File \"/opt/conda/lib/python3.9/site-packages/sklearn/preprocessing/_encoders.py\", line 1363, in transform\n",
      "    X_int, X_mask = self._transform(\n",
      "  File \"/opt/conda/lib/python3.9/site-packages/sklearn/preprocessing/_encoders.py\", line 160, in _transform\n",
      "    raise ValueError(msg)\n",
      "ValueError: Found unknown categories ['q3'] in column 0 during transform\n",
      "\n",
      "  warnings.warn(\n",
      "/opt/conda/lib/python3.9/site-packages/sklearn/model_selection/_validation.py:776: UserWarning: Scoring failed. The score on this train-test partition for these parameters will be set to nan. Details: \n",
      "Traceback (most recent call last):\n",
      "  File \"/opt/conda/lib/python3.9/site-packages/sklearn/model_selection/_validation.py\", line 767, in _score\n",
      "    scores = scorer(estimator, X_test, y_test)\n",
      "  File \"/opt/conda/lib/python3.9/site-packages/sklearn/metrics/_scorer.py\", line 219, in __call__\n",
      "    return self._score(\n",
      "  File \"/opt/conda/lib/python3.9/site-packages/sklearn/metrics/_scorer.py\", line 261, in _score\n",
      "    y_pred = method_caller(estimator, \"predict\", X)\n",
      "  File \"/opt/conda/lib/python3.9/site-packages/sklearn/metrics/_scorer.py\", line 71, in _cached_call\n",
      "    return getattr(estimator, method)(*args, **kwargs)\n",
      "  File \"/opt/conda/lib/python3.9/site-packages/sklearn/pipeline.py\", line 457, in predict\n",
      "    Xt = transform.transform(Xt)\n",
      "  File \"/opt/conda/lib/python3.9/site-packages/sklearn/compose/_column_transformer.py\", line 763, in transform\n",
      "    Xs = self._fit_transform(\n",
      "  File \"/opt/conda/lib/python3.9/site-packages/sklearn/compose/_column_transformer.py\", line 621, in _fit_transform\n",
      "    return Parallel(n_jobs=self.n_jobs)(\n",
      "  File \"/opt/conda/lib/python3.9/site-packages/joblib/parallel.py\", line 1046, in __call__\n",
      "    while self.dispatch_one_batch(iterator):\n",
      "  File \"/opt/conda/lib/python3.9/site-packages/joblib/parallel.py\", line 861, in dispatch_one_batch\n",
      "    self._dispatch(tasks)\n",
      "  File \"/opt/conda/lib/python3.9/site-packages/joblib/parallel.py\", line 779, in _dispatch\n",
      "    job = self._backend.apply_async(batch, callback=cb)\n",
      "  File \"/opt/conda/lib/python3.9/site-packages/joblib/_parallel_backends.py\", line 208, in apply_async\n",
      "    result = ImmediateResult(func)\n",
      "  File \"/opt/conda/lib/python3.9/site-packages/joblib/_parallel_backends.py\", line 572, in __init__\n",
      "    self.results = batch()\n",
      "  File \"/opt/conda/lib/python3.9/site-packages/joblib/parallel.py\", line 262, in __call__\n",
      "    return [func(*args, **kwargs)\n",
      "  File \"/opt/conda/lib/python3.9/site-packages/joblib/parallel.py\", line 262, in <listcomp>\n",
      "    return [func(*args, **kwargs)\n",
      "  File \"/opt/conda/lib/python3.9/site-packages/sklearn/utils/fixes.py\", line 117, in __call__\n",
      "    return self.function(*args, **kwargs)\n",
      "  File \"/opt/conda/lib/python3.9/site-packages/sklearn/pipeline.py\", line 853, in _transform_one\n",
      "    res = transformer.transform(X)\n",
      "  File \"/opt/conda/lib/python3.9/site-packages/sklearn/preprocessing/_encoders.py\", line 1363, in transform\n",
      "    X_int, X_mask = self._transform(\n",
      "  File \"/opt/conda/lib/python3.9/site-packages/sklearn/preprocessing/_encoders.py\", line 160, in _transform\n",
      "    raise ValueError(msg)\n",
      "ValueError: Found unknown categories ['lybra', 'i3', 'musa', 'rangerover'] in column 0 during transform\n",
      "\n",
      "  warnings.warn(\n",
      "/opt/conda/lib/python3.9/site-packages/sklearn/model_selection/_validation.py:776: UserWarning: Scoring failed. The score on this train-test partition for these parameters will be set to nan. Details: \n",
      "Traceback (most recent call last):\n",
      "  File \"/opt/conda/lib/python3.9/site-packages/sklearn/model_selection/_validation.py\", line 767, in _score\n",
      "    scores = scorer(estimator, X_test, y_test)\n",
      "  File \"/opt/conda/lib/python3.9/site-packages/sklearn/metrics/_scorer.py\", line 219, in __call__\n",
      "    return self._score(\n",
      "  File \"/opt/conda/lib/python3.9/site-packages/sklearn/metrics/_scorer.py\", line 261, in _score\n",
      "    y_pred = method_caller(estimator, \"predict\", X)\n",
      "  File \"/opt/conda/lib/python3.9/site-packages/sklearn/metrics/_scorer.py\", line 71, in _cached_call\n",
      "    return getattr(estimator, method)(*args, **kwargs)\n",
      "  File \"/opt/conda/lib/python3.9/site-packages/sklearn/pipeline.py\", line 457, in predict\n",
      "    Xt = transform.transform(Xt)\n",
      "  File \"/opt/conda/lib/python3.9/site-packages/sklearn/compose/_column_transformer.py\", line 763, in transform\n",
      "    Xs = self._fit_transform(\n",
      "  File \"/opt/conda/lib/python3.9/site-packages/sklearn/compose/_column_transformer.py\", line 621, in _fit_transform\n",
      "    return Parallel(n_jobs=self.n_jobs)(\n",
      "  File \"/opt/conda/lib/python3.9/site-packages/joblib/parallel.py\", line 1046, in __call__\n",
      "    while self.dispatch_one_batch(iterator):\n",
      "  File \"/opt/conda/lib/python3.9/site-packages/joblib/parallel.py\", line 861, in dispatch_one_batch\n",
      "    self._dispatch(tasks)\n",
      "  File \"/opt/conda/lib/python3.9/site-packages/joblib/parallel.py\", line 779, in _dispatch\n",
      "    job = self._backend.apply_async(batch, callback=cb)\n",
      "  File \"/opt/conda/lib/python3.9/site-packages/joblib/_parallel_backends.py\", line 208, in apply_async\n",
      "    result = ImmediateResult(func)\n",
      "  File \"/opt/conda/lib/python3.9/site-packages/joblib/_parallel_backends.py\", line 572, in __init__\n",
      "    self.results = batch()\n",
      "  File \"/opt/conda/lib/python3.9/site-packages/joblib/parallel.py\", line 262, in __call__\n",
      "    return [func(*args, **kwargs)\n",
      "  File \"/opt/conda/lib/python3.9/site-packages/joblib/parallel.py\", line 262, in <listcomp>\n",
      "    return [func(*args, **kwargs)\n",
      "  File \"/opt/conda/lib/python3.9/site-packages/sklearn/utils/fixes.py\", line 117, in __call__\n",
      "    return self.function(*args, **kwargs)\n",
      "  File \"/opt/conda/lib/python3.9/site-packages/sklearn/pipeline.py\", line 853, in _transform_one\n",
      "    res = transformer.transform(X)\n",
      "  File \"/opt/conda/lib/python3.9/site-packages/sklearn/preprocessing/_encoders.py\", line 1363, in transform\n",
      "    X_int, X_mask = self._transform(\n",
      "  File \"/opt/conda/lib/python3.9/site-packages/sklearn/preprocessing/_encoders.py\", line 160, in _transform\n",
      "    raise ValueError(msg)\n",
      "ValueError: Found unknown categories ['q3'] in column 0 during transform\n",
      "\n",
      "  warnings.warn(\n",
      "/opt/conda/lib/python3.9/site-packages/sklearn/model_selection/_validation.py:776: UserWarning: Scoring failed. The score on this train-test partition for these parameters will be set to nan. Details: \n",
      "Traceback (most recent call last):\n",
      "  File \"/opt/conda/lib/python3.9/site-packages/sklearn/model_selection/_validation.py\", line 767, in _score\n",
      "    scores = scorer(estimator, X_test, y_test)\n",
      "  File \"/opt/conda/lib/python3.9/site-packages/sklearn/metrics/_scorer.py\", line 219, in __call__\n",
      "    return self._score(\n",
      "  File \"/opt/conda/lib/python3.9/site-packages/sklearn/metrics/_scorer.py\", line 261, in _score\n",
      "    y_pred = method_caller(estimator, \"predict\", X)\n",
      "  File \"/opt/conda/lib/python3.9/site-packages/sklearn/metrics/_scorer.py\", line 71, in _cached_call\n",
      "    return getattr(estimator, method)(*args, **kwargs)\n",
      "  File \"/opt/conda/lib/python3.9/site-packages/sklearn/pipeline.py\", line 457, in predict\n",
      "    Xt = transform.transform(Xt)\n",
      "  File \"/opt/conda/lib/python3.9/site-packages/sklearn/compose/_column_transformer.py\", line 763, in transform\n",
      "    Xs = self._fit_transform(\n",
      "  File \"/opt/conda/lib/python3.9/site-packages/sklearn/compose/_column_transformer.py\", line 621, in _fit_transform\n",
      "    return Parallel(n_jobs=self.n_jobs)(\n",
      "  File \"/opt/conda/lib/python3.9/site-packages/joblib/parallel.py\", line 1046, in __call__\n",
      "    while self.dispatch_one_batch(iterator):\n",
      "  File \"/opt/conda/lib/python3.9/site-packages/joblib/parallel.py\", line 861, in dispatch_one_batch\n",
      "    self._dispatch(tasks)\n",
      "  File \"/opt/conda/lib/python3.9/site-packages/joblib/parallel.py\", line 779, in _dispatch\n",
      "    job = self._backend.apply_async(batch, callback=cb)\n",
      "  File \"/opt/conda/lib/python3.9/site-packages/joblib/_parallel_backends.py\", line 208, in apply_async\n",
      "    result = ImmediateResult(func)\n",
      "  File \"/opt/conda/lib/python3.9/site-packages/joblib/_parallel_backends.py\", line 572, in __init__\n",
      "    self.results = batch()\n",
      "  File \"/opt/conda/lib/python3.9/site-packages/joblib/parallel.py\", line 262, in __call__\n",
      "    return [func(*args, **kwargs)\n",
      "  File \"/opt/conda/lib/python3.9/site-packages/joblib/parallel.py\", line 262, in <listcomp>\n",
      "    return [func(*args, **kwargs)\n",
      "  File \"/opt/conda/lib/python3.9/site-packages/sklearn/utils/fixes.py\", line 117, in __call__\n",
      "    return self.function(*args, **kwargs)\n",
      "  File \"/opt/conda/lib/python3.9/site-packages/sklearn/pipeline.py\", line 853, in _transform_one\n",
      "    res = transformer.transform(X)\n",
      "  File \"/opt/conda/lib/python3.9/site-packages/sklearn/preprocessing/_encoders.py\", line 1363, in transform\n",
      "    X_int, X_mask = self._transform(\n",
      "  File \"/opt/conda/lib/python3.9/site-packages/sklearn/preprocessing/_encoders.py\", line 160, in _transform\n",
      "    raise ValueError(msg)\n",
      "ValueError: Found unknown categories ['lybra', 'i3', 'musa', 'rangerover'] in column 0 during transform\n",
      "\n",
      "  warnings.warn(\n",
      "/opt/conda/lib/python3.9/site-packages/sklearn/model_selection/_validation.py:776: UserWarning: Scoring failed. The score on this train-test partition for these parameters will be set to nan. Details: \n",
      "Traceback (most recent call last):\n",
      "  File \"/opt/conda/lib/python3.9/site-packages/sklearn/model_selection/_validation.py\", line 767, in _score\n",
      "    scores = scorer(estimator, X_test, y_test)\n",
      "  File \"/opt/conda/lib/python3.9/site-packages/sklearn/metrics/_scorer.py\", line 219, in __call__\n",
      "    return self._score(\n",
      "  File \"/opt/conda/lib/python3.9/site-packages/sklearn/metrics/_scorer.py\", line 261, in _score\n",
      "    y_pred = method_caller(estimator, \"predict\", X)\n",
      "  File \"/opt/conda/lib/python3.9/site-packages/sklearn/metrics/_scorer.py\", line 71, in _cached_call\n",
      "    return getattr(estimator, method)(*args, **kwargs)\n",
      "  File \"/opt/conda/lib/python3.9/site-packages/sklearn/pipeline.py\", line 457, in predict\n",
      "    Xt = transform.transform(Xt)\n",
      "  File \"/opt/conda/lib/python3.9/site-packages/sklearn/compose/_column_transformer.py\", line 763, in transform\n",
      "    Xs = self._fit_transform(\n",
      "  File \"/opt/conda/lib/python3.9/site-packages/sklearn/compose/_column_transformer.py\", line 621, in _fit_transform\n",
      "    return Parallel(n_jobs=self.n_jobs)(\n",
      "  File \"/opt/conda/lib/python3.9/site-packages/joblib/parallel.py\", line 1046, in __call__\n",
      "    while self.dispatch_one_batch(iterator):\n",
      "  File \"/opt/conda/lib/python3.9/site-packages/joblib/parallel.py\", line 861, in dispatch_one_batch\n",
      "    self._dispatch(tasks)\n",
      "  File \"/opt/conda/lib/python3.9/site-packages/joblib/parallel.py\", line 779, in _dispatch\n",
      "    job = self._backend.apply_async(batch, callback=cb)\n",
      "  File \"/opt/conda/lib/python3.9/site-packages/joblib/_parallel_backends.py\", line 208, in apply_async\n",
      "    result = ImmediateResult(func)\n",
      "  File \"/opt/conda/lib/python3.9/site-packages/joblib/_parallel_backends.py\", line 572, in __init__\n",
      "    self.results = batch()\n",
      "  File \"/opt/conda/lib/python3.9/site-packages/joblib/parallel.py\", line 262, in __call__\n",
      "    return [func(*args, **kwargs)\n",
      "  File \"/opt/conda/lib/python3.9/site-packages/joblib/parallel.py\", line 262, in <listcomp>\n",
      "    return [func(*args, **kwargs)\n",
      "  File \"/opt/conda/lib/python3.9/site-packages/sklearn/utils/fixes.py\", line 117, in __call__\n",
      "    return self.function(*args, **kwargs)\n",
      "  File \"/opt/conda/lib/python3.9/site-packages/sklearn/pipeline.py\", line 853, in _transform_one\n",
      "    res = transformer.transform(X)\n",
      "  File \"/opt/conda/lib/python3.9/site-packages/sklearn/preprocessing/_encoders.py\", line 1363, in transform\n",
      "    X_int, X_mask = self._transform(\n",
      "  File \"/opt/conda/lib/python3.9/site-packages/sklearn/preprocessing/_encoders.py\", line 160, in _transform\n",
      "    raise ValueError(msg)\n",
      "ValueError: Found unknown categories ['q3'] in column 0 during transform\n",
      "\n",
      "  warnings.warn(\n",
      "/opt/conda/lib/python3.9/site-packages/sklearn/model_selection/_validation.py:776: UserWarning: Scoring failed. The score on this train-test partition for these parameters will be set to nan. Details: \n",
      "Traceback (most recent call last):\n",
      "  File \"/opt/conda/lib/python3.9/site-packages/sklearn/model_selection/_validation.py\", line 767, in _score\n",
      "    scores = scorer(estimator, X_test, y_test)\n",
      "  File \"/opt/conda/lib/python3.9/site-packages/sklearn/metrics/_scorer.py\", line 219, in __call__\n",
      "    return self._score(\n",
      "  File \"/opt/conda/lib/python3.9/site-packages/sklearn/metrics/_scorer.py\", line 261, in _score\n",
      "    y_pred = method_caller(estimator, \"predict\", X)\n",
      "  File \"/opt/conda/lib/python3.9/site-packages/sklearn/metrics/_scorer.py\", line 71, in _cached_call\n",
      "    return getattr(estimator, method)(*args, **kwargs)\n",
      "  File \"/opt/conda/lib/python3.9/site-packages/sklearn/pipeline.py\", line 457, in predict\n",
      "    Xt = transform.transform(Xt)\n",
      "  File \"/opt/conda/lib/python3.9/site-packages/sklearn/compose/_column_transformer.py\", line 763, in transform\n",
      "    Xs = self._fit_transform(\n",
      "  File \"/opt/conda/lib/python3.9/site-packages/sklearn/compose/_column_transformer.py\", line 621, in _fit_transform\n",
      "    return Parallel(n_jobs=self.n_jobs)(\n",
      "  File \"/opt/conda/lib/python3.9/site-packages/joblib/parallel.py\", line 1046, in __call__\n",
      "    while self.dispatch_one_batch(iterator):\n",
      "  File \"/opt/conda/lib/python3.9/site-packages/joblib/parallel.py\", line 861, in dispatch_one_batch\n",
      "    self._dispatch(tasks)\n",
      "  File \"/opt/conda/lib/python3.9/site-packages/joblib/parallel.py\", line 779, in _dispatch\n",
      "    job = self._backend.apply_async(batch, callback=cb)\n",
      "  File \"/opt/conda/lib/python3.9/site-packages/joblib/_parallel_backends.py\", line 208, in apply_async\n",
      "    result = ImmediateResult(func)\n",
      "  File \"/opt/conda/lib/python3.9/site-packages/joblib/_parallel_backends.py\", line 572, in __init__\n",
      "    self.results = batch()\n",
      "  File \"/opt/conda/lib/python3.9/site-packages/joblib/parallel.py\", line 262, in __call__\n",
      "    return [func(*args, **kwargs)\n",
      "  File \"/opt/conda/lib/python3.9/site-packages/joblib/parallel.py\", line 262, in <listcomp>\n",
      "    return [func(*args, **kwargs)\n",
      "  File \"/opt/conda/lib/python3.9/site-packages/sklearn/utils/fixes.py\", line 117, in __call__\n",
      "    return self.function(*args, **kwargs)\n",
      "  File \"/opt/conda/lib/python3.9/site-packages/sklearn/pipeline.py\", line 853, in _transform_one\n",
      "    res = transformer.transform(X)\n",
      "  File \"/opt/conda/lib/python3.9/site-packages/sklearn/preprocessing/_encoders.py\", line 1363, in transform\n",
      "    X_int, X_mask = self._transform(\n",
      "  File \"/opt/conda/lib/python3.9/site-packages/sklearn/preprocessing/_encoders.py\", line 160, in _transform\n",
      "    raise ValueError(msg)\n",
      "ValueError: Found unknown categories ['lybra', 'i3', 'musa', 'rangerover'] in column 0 during transform\n",
      "\n",
      "  warnings.warn(\n",
      "/opt/conda/lib/python3.9/site-packages/sklearn/model_selection/_validation.py:776: UserWarning: Scoring failed. The score on this train-test partition for these parameters will be set to nan. Details: \n",
      "Traceback (most recent call last):\n",
      "  File \"/opt/conda/lib/python3.9/site-packages/sklearn/model_selection/_validation.py\", line 767, in _score\n",
      "    scores = scorer(estimator, X_test, y_test)\n",
      "  File \"/opt/conda/lib/python3.9/site-packages/sklearn/metrics/_scorer.py\", line 219, in __call__\n",
      "    return self._score(\n",
      "  File \"/opt/conda/lib/python3.9/site-packages/sklearn/metrics/_scorer.py\", line 261, in _score\n",
      "    y_pred = method_caller(estimator, \"predict\", X)\n",
      "  File \"/opt/conda/lib/python3.9/site-packages/sklearn/metrics/_scorer.py\", line 71, in _cached_call\n",
      "    return getattr(estimator, method)(*args, **kwargs)\n",
      "  File \"/opt/conda/lib/python3.9/site-packages/sklearn/pipeline.py\", line 457, in predict\n",
      "    Xt = transform.transform(Xt)\n",
      "  File \"/opt/conda/lib/python3.9/site-packages/sklearn/compose/_column_transformer.py\", line 763, in transform\n",
      "    Xs = self._fit_transform(\n",
      "  File \"/opt/conda/lib/python3.9/site-packages/sklearn/compose/_column_transformer.py\", line 621, in _fit_transform\n",
      "    return Parallel(n_jobs=self.n_jobs)(\n",
      "  File \"/opt/conda/lib/python3.9/site-packages/joblib/parallel.py\", line 1046, in __call__\n",
      "    while self.dispatch_one_batch(iterator):\n",
      "  File \"/opt/conda/lib/python3.9/site-packages/joblib/parallel.py\", line 861, in dispatch_one_batch\n",
      "    self._dispatch(tasks)\n",
      "  File \"/opt/conda/lib/python3.9/site-packages/joblib/parallel.py\", line 779, in _dispatch\n",
      "    job = self._backend.apply_async(batch, callback=cb)\n",
      "  File \"/opt/conda/lib/python3.9/site-packages/joblib/_parallel_backends.py\", line 208, in apply_async\n",
      "    result = ImmediateResult(func)\n",
      "  File \"/opt/conda/lib/python3.9/site-packages/joblib/_parallel_backends.py\", line 572, in __init__\n",
      "    self.results = batch()\n",
      "  File \"/opt/conda/lib/python3.9/site-packages/joblib/parallel.py\", line 262, in __call__\n",
      "    return [func(*args, **kwargs)\n",
      "  File \"/opt/conda/lib/python3.9/site-packages/joblib/parallel.py\", line 262, in <listcomp>\n",
      "    return [func(*args, **kwargs)\n",
      "  File \"/opt/conda/lib/python3.9/site-packages/sklearn/utils/fixes.py\", line 117, in __call__\n",
      "    return self.function(*args, **kwargs)\n",
      "  File \"/opt/conda/lib/python3.9/site-packages/sklearn/pipeline.py\", line 853, in _transform_one\n",
      "    res = transformer.transform(X)\n",
      "  File \"/opt/conda/lib/python3.9/site-packages/sklearn/preprocessing/_encoders.py\", line 1363, in transform\n",
      "    X_int, X_mask = self._transform(\n",
      "  File \"/opt/conda/lib/python3.9/site-packages/sklearn/preprocessing/_encoders.py\", line 160, in _transform\n",
      "    raise ValueError(msg)\n",
      "ValueError: Found unknown categories ['q3'] in column 0 during transform\n",
      "\n",
      "  warnings.warn(\n",
      "/opt/conda/lib/python3.9/site-packages/sklearn/model_selection/_search.py:953: UserWarning: One or more of the test scores are non-finite: [nan nan nan nan nan nan nan nan nan]\n",
      "  warnings.warn(\n"
     ]
    }
   ],
   "source": [
    "pipe_final = Pipeline([\n",
    "    ('preprocessor', data_preprocessor),\n",
    "    ('models', DecisionTreeRegressor(random_state=RANDOM_STATE))\n",
    "])\n",
    "\n",
    "param_grid = [\n",
    "    {\n",
    "        'models': [DecisionTreeRegressor(random_state=RANDOM_STATE)],\n",
    "        'preprocessor__num': [StandardScaler(), MinMaxScaler(), 'passthrough']\n",
    "    },\n",
    "\n",
    "    {\n",
    "        'models': [LinearRegression()],\n",
    "        'preprocessor__num': [StandardScaler(), MinMaxScaler(), 'passthrough']\n",
    "    },\n",
    "\n",
    "\n",
    "    {\n",
    "        'models': [lgb.LGBMRegressor(random_state=RANDOM_STATE)],\n",
    "        'preprocessor__num': [StandardScaler(), MinMaxScaler(), 'passthrough']\n",
    "    }\n",
    "]\n",
    "\n",
    "randomized_search = RandomizedSearchCV(\n",
    "    pipe_final, \n",
    "    param_grid,\n",
    "    cv=5,\n",
    "    scoring='neg_root_mean_squared_error',\n",
    "    random_state=RANDOM_STATE,\n",
    "    n_jobs=-1\n",
    ")\n",
    "randomized_search.fit(X_train, y_train)\n",
    "\n",
    "result = pd.DataFrame(randomized_search.cv_results_)"
   ]
  },
  {
   "cell_type": "markdown",
   "metadata": {},
   "source": [
    "\n",
    "## Анализ моделей"
   ]
  },
  {
   "cell_type": "code",
   "execution_count": 57,
   "metadata": {
    "scrolled": true
   },
   "outputs": [
    {
     "data": {
      "text/html": [
       "<div>\n",
       "<style scoped>\n",
       "    .dataframe tbody tr th:only-of-type {\n",
       "        vertical-align: middle;\n",
       "    }\n",
       "\n",
       "    .dataframe tbody tr th {\n",
       "        vertical-align: top;\n",
       "    }\n",
       "\n",
       "    .dataframe thead th {\n",
       "        text-align: right;\n",
       "    }\n",
       "</style>\n",
       "<table border=\"1\" class=\"dataframe\">\n",
       "  <thead>\n",
       "    <tr style=\"text-align: right;\">\n",
       "      <th></th>\n",
       "      <th>mean_fit_time</th>\n",
       "      <th>std_fit_time</th>\n",
       "      <th>mean_score_time</th>\n",
       "      <th>std_score_time</th>\n",
       "      <th>param_preprocessor__num</th>\n",
       "      <th>param_models</th>\n",
       "      <th>params</th>\n",
       "      <th>split0_test_score</th>\n",
       "      <th>split1_test_score</th>\n",
       "      <th>split2_test_score</th>\n",
       "      <th>split3_test_score</th>\n",
       "      <th>split4_test_score</th>\n",
       "      <th>mean_test_score</th>\n",
       "      <th>std_test_score</th>\n",
       "      <th>rank_test_score</th>\n",
       "    </tr>\n",
       "  </thead>\n",
       "  <tbody>\n",
       "    <tr>\n",
       "      <th>0</th>\n",
       "      <td>0.116722</td>\n",
       "      <td>0.007668</td>\n",
       "      <td>0.011608</td>\n",
       "      <td>0.001518</td>\n",
       "      <td>StandardScaler()</td>\n",
       "      <td>DecisionTreeRegressor(random_state=42)</td>\n",
       "      <td>{'preprocessor__num': StandardScaler(), 'model...</td>\n",
       "      <td>-2759.528239</td>\n",
       "      <td>NaN</td>\n",
       "      <td>NaN</td>\n",
       "      <td>-2847.882331</td>\n",
       "      <td>-2749.707803</td>\n",
       "      <td>NaN</td>\n",
       "      <td>NaN</td>\n",
       "      <td>1</td>\n",
       "    </tr>\n",
       "    <tr>\n",
       "      <th>1</th>\n",
       "      <td>0.113535</td>\n",
       "      <td>0.005855</td>\n",
       "      <td>0.011181</td>\n",
       "      <td>0.001566</td>\n",
       "      <td>MinMaxScaler()</td>\n",
       "      <td>DecisionTreeRegressor(random_state=42)</td>\n",
       "      <td>{'preprocessor__num': MinMaxScaler(), 'models'...</td>\n",
       "      <td>-2764.509243</td>\n",
       "      <td>NaN</td>\n",
       "      <td>NaN</td>\n",
       "      <td>-2845.304750</td>\n",
       "      <td>-2751.006201</td>\n",
       "      <td>NaN</td>\n",
       "      <td>NaN</td>\n",
       "      <td>2</td>\n",
       "    </tr>\n",
       "    <tr>\n",
       "      <th>2</th>\n",
       "      <td>0.109535</td>\n",
       "      <td>0.003047</td>\n",
       "      <td>0.011034</td>\n",
       "      <td>0.002131</td>\n",
       "      <td>passthrough</td>\n",
       "      <td>DecisionTreeRegressor(random_state=42)</td>\n",
       "      <td>{'preprocessor__num': 'passthrough', 'models':...</td>\n",
       "      <td>-2760.626178</td>\n",
       "      <td>NaN</td>\n",
       "      <td>NaN</td>\n",
       "      <td>-2845.564431</td>\n",
       "      <td>-2748.713379</td>\n",
       "      <td>NaN</td>\n",
       "      <td>NaN</td>\n",
       "      <td>3</td>\n",
       "    </tr>\n",
       "    <tr>\n",
       "      <th>3</th>\n",
       "      <td>0.161709</td>\n",
       "      <td>0.064684</td>\n",
       "      <td>0.071963</td>\n",
       "      <td>0.034035</td>\n",
       "      <td>StandardScaler()</td>\n",
       "      <td>LinearRegression()</td>\n",
       "      <td>{'preprocessor__num': StandardScaler(), 'model...</td>\n",
       "      <td>-3737.801448</td>\n",
       "      <td>NaN</td>\n",
       "      <td>NaN</td>\n",
       "      <td>-3682.619360</td>\n",
       "      <td>-6707.317045</td>\n",
       "      <td>NaN</td>\n",
       "      <td>NaN</td>\n",
       "      <td>4</td>\n",
       "    </tr>\n",
       "    <tr>\n",
       "      <th>4</th>\n",
       "      <td>0.175108</td>\n",
       "      <td>0.041502</td>\n",
       "      <td>0.070523</td>\n",
       "      <td>0.059945</td>\n",
       "      <td>MinMaxScaler()</td>\n",
       "      <td>LinearRegression()</td>\n",
       "      <td>{'preprocessor__num': MinMaxScaler(), 'models'...</td>\n",
       "      <td>-3737.801448</td>\n",
       "      <td>NaN</td>\n",
       "      <td>NaN</td>\n",
       "      <td>-3682.619360</td>\n",
       "      <td>-6707.317045</td>\n",
       "      <td>NaN</td>\n",
       "      <td>NaN</td>\n",
       "      <td>5</td>\n",
       "    </tr>\n",
       "    <tr>\n",
       "      <th>5</th>\n",
       "      <td>0.162898</td>\n",
       "      <td>0.043299</td>\n",
       "      <td>0.083346</td>\n",
       "      <td>0.050279</td>\n",
       "      <td>passthrough</td>\n",
       "      <td>LinearRegression()</td>\n",
       "      <td>{'preprocessor__num': 'passthrough', 'models':...</td>\n",
       "      <td>-3737.801448</td>\n",
       "      <td>NaN</td>\n",
       "      <td>NaN</td>\n",
       "      <td>-3682.619360</td>\n",
       "      <td>-6707.317045</td>\n",
       "      <td>NaN</td>\n",
       "      <td>NaN</td>\n",
       "      <td>6</td>\n",
       "    </tr>\n",
       "    <tr>\n",
       "      <th>6</th>\n",
       "      <td>78.172006</td>\n",
       "      <td>153.461284</td>\n",
       "      <td>0.068388</td>\n",
       "      <td>0.047545</td>\n",
       "      <td>StandardScaler()</td>\n",
       "      <td>LGBMRegressor(random_state=42)</td>\n",
       "      <td>{'preprocessor__num': StandardScaler(), 'model...</td>\n",
       "      <td>-1950.194432</td>\n",
       "      <td>NaN</td>\n",
       "      <td>NaN</td>\n",
       "      <td>-2065.395389</td>\n",
       "      <td>-1910.275957</td>\n",
       "      <td>NaN</td>\n",
       "      <td>NaN</td>\n",
       "      <td>7</td>\n",
       "    </tr>\n",
       "    <tr>\n",
       "      <th>7</th>\n",
       "      <td>1.629116</td>\n",
       "      <td>0.241933</td>\n",
       "      <td>0.069305</td>\n",
       "      <td>0.047857</td>\n",
       "      <td>MinMaxScaler()</td>\n",
       "      <td>LGBMRegressor(random_state=42)</td>\n",
       "      <td>{'preprocessor__num': MinMaxScaler(), 'models'...</td>\n",
       "      <td>-1956.042704</td>\n",
       "      <td>NaN</td>\n",
       "      <td>NaN</td>\n",
       "      <td>-2064.865437</td>\n",
       "      <td>-1901.465722</td>\n",
       "      <td>NaN</td>\n",
       "      <td>NaN</td>\n",
       "      <td>8</td>\n",
       "    </tr>\n",
       "    <tr>\n",
       "      <th>8</th>\n",
       "      <td>1.392194</td>\n",
       "      <td>0.064258</td>\n",
       "      <td>0.123853</td>\n",
       "      <td>0.039100</td>\n",
       "      <td>passthrough</td>\n",
       "      <td>LGBMRegressor(random_state=42)</td>\n",
       "      <td>{'preprocessor__num': 'passthrough', 'models':...</td>\n",
       "      <td>-1956.042704</td>\n",
       "      <td>NaN</td>\n",
       "      <td>NaN</td>\n",
       "      <td>-2064.865437</td>\n",
       "      <td>-1901.465722</td>\n",
       "      <td>NaN</td>\n",
       "      <td>NaN</td>\n",
       "      <td>9</td>\n",
       "    </tr>\n",
       "  </tbody>\n",
       "</table>\n",
       "</div>"
      ],
      "text/plain": [
       "   mean_fit_time  std_fit_time  mean_score_time  std_score_time  \\\n",
       "0       0.116722      0.007668         0.011608        0.001518   \n",
       "1       0.113535      0.005855         0.011181        0.001566   \n",
       "2       0.109535      0.003047         0.011034        0.002131   \n",
       "3       0.161709      0.064684         0.071963        0.034035   \n",
       "4       0.175108      0.041502         0.070523        0.059945   \n",
       "5       0.162898      0.043299         0.083346        0.050279   \n",
       "6      78.172006    153.461284         0.068388        0.047545   \n",
       "7       1.629116      0.241933         0.069305        0.047857   \n",
       "8       1.392194      0.064258         0.123853        0.039100   \n",
       "\n",
       "  param_preprocessor__num                            param_models  \\\n",
       "0        StandardScaler()  DecisionTreeRegressor(random_state=42)   \n",
       "1          MinMaxScaler()  DecisionTreeRegressor(random_state=42)   \n",
       "2             passthrough  DecisionTreeRegressor(random_state=42)   \n",
       "3        StandardScaler()                      LinearRegression()   \n",
       "4          MinMaxScaler()                      LinearRegression()   \n",
       "5             passthrough                      LinearRegression()   \n",
       "6        StandardScaler()          LGBMRegressor(random_state=42)   \n",
       "7          MinMaxScaler()          LGBMRegressor(random_state=42)   \n",
       "8             passthrough          LGBMRegressor(random_state=42)   \n",
       "\n",
       "                                              params  split0_test_score  \\\n",
       "0  {'preprocessor__num': StandardScaler(), 'model...       -2759.528239   \n",
       "1  {'preprocessor__num': MinMaxScaler(), 'models'...       -2764.509243   \n",
       "2  {'preprocessor__num': 'passthrough', 'models':...       -2760.626178   \n",
       "3  {'preprocessor__num': StandardScaler(), 'model...       -3737.801448   \n",
       "4  {'preprocessor__num': MinMaxScaler(), 'models'...       -3737.801448   \n",
       "5  {'preprocessor__num': 'passthrough', 'models':...       -3737.801448   \n",
       "6  {'preprocessor__num': StandardScaler(), 'model...       -1950.194432   \n",
       "7  {'preprocessor__num': MinMaxScaler(), 'models'...       -1956.042704   \n",
       "8  {'preprocessor__num': 'passthrough', 'models':...       -1956.042704   \n",
       "\n",
       "   split1_test_score  split2_test_score  split3_test_score  split4_test_score  \\\n",
       "0                NaN                NaN       -2847.882331       -2749.707803   \n",
       "1                NaN                NaN       -2845.304750       -2751.006201   \n",
       "2                NaN                NaN       -2845.564431       -2748.713379   \n",
       "3                NaN                NaN       -3682.619360       -6707.317045   \n",
       "4                NaN                NaN       -3682.619360       -6707.317045   \n",
       "5                NaN                NaN       -3682.619360       -6707.317045   \n",
       "6                NaN                NaN       -2065.395389       -1910.275957   \n",
       "7                NaN                NaN       -2064.865437       -1901.465722   \n",
       "8                NaN                NaN       -2064.865437       -1901.465722   \n",
       "\n",
       "   mean_test_score  std_test_score  rank_test_score  \n",
       "0              NaN             NaN                1  \n",
       "1              NaN             NaN                2  \n",
       "2              NaN             NaN                3  \n",
       "3              NaN             NaN                4  \n",
       "4              NaN             NaN                5  \n",
       "5              NaN             NaN                6  \n",
       "6              NaN             NaN                7  \n",
       "7              NaN             NaN                8  \n",
       "8              NaN             NaN                9  "
      ]
     },
     "execution_count": 57,
     "metadata": {},
     "output_type": "execute_result"
    }
   ],
   "source": [
    "result"
   ]
  },
  {
   "cell_type": "code",
   "execution_count": 58,
   "metadata": {},
   "outputs": [],
   "source": [
    "X = new_df.drop(['Price', 'Brand'], axis=1)\n",
    "y = new_df['Price']\n",
    "\n",
    "X_train, X_test, y_train, y_test = train_test_split(\n",
    "    X, \n",
    "    y,\n",
    "    test_size=0.2,\n",
    "    random_state=RANDOM_STATE\n",
    ")"
   ]
  },
  {
   "cell_type": "code",
   "execution_count": 59,
   "metadata": {},
   "outputs": [
    {
     "name": "stderr",
     "output_type": "stream",
     "text": [
      "/opt/conda/lib/python3.9/site-packages/sklearn/utils/deprecation.py:87: FutureWarning: Function get_feature_names is deprecated; get_feature_names is deprecated in 1.0 and will be removed in 1.2. Please use get_feature_names_out instead.\n",
      "  warnings.warn(msg, category=FutureWarning)\n"
     ]
    }
   ],
   "source": [
    "scaler = StandardScaler()\n",
    "encoder = OneHotEncoder(sparse=False, handle_unknown='ignore')\n",
    "\n",
    "cat_col_names = ['VehicleType', 'Gearbox', 'Model', 'FuelType', 'Repaired']\n",
    "num_col_names = ['RegistrationYear', 'Power', 'Kilometer']\n",
    "\n",
    "X_train_scaled = scaler.fit_transform(X_train[num_col_names])\n",
    "X_test_scaled = scaler.transform(X_test[num_col_names])\n",
    "\n",
    "X_train_ohe = encoder.fit_transform(X_train[cat_col_names])\n",
    "X_test_ohe = encoder.transform(X_test[cat_col_names])\n",
    "\n",
    "\n",
    "encoder_col_names = encoder.get_feature_names()\n",
    "\n",
    "X_train_ohe = pd.DataFrame(X_train_ohe, columns=encoder_col_names)\n",
    "X_test_ohe = pd.DataFrame(X_test_ohe, columns=encoder_col_names)\n",
    "\n",
    "X_train_scaled = pd.DataFrame(X_train_scaled, columns=num_col_names)\n",
    "X_test_scaled = pd.DataFrame(X_test_scaled, columns=num_col_names)\n",
    "\n",
    "X_train = pd.concat([X_train_ohe, X_train_scaled], axis=1)\n",
    "X_test = pd.concat([X_test_ohe, X_test_scaled], axis=1)"
   ]
  },
  {
   "cell_type": "code",
   "execution_count": 60,
   "metadata": {
    "scrolled": true
   },
   "outputs": [
    {
     "name": "stdout",
     "output_type": "stream",
     "text": [
      "Качество предсказания - RMSE: 1910.8369892403107\n"
     ]
    }
   ],
   "source": [
    "model = lgb.LGBMRegressor()\n",
    "model.fit(X_train, y_train)\n",
    "y_pred = model.predict(X_test)\n",
    "mse = mean_squared_error(y_test, y_pred) \n",
    "print(\"Качество предсказания - RMSE: {}\".format(np.sqrt(mse)))"
   ]
  },
  {
   "cell_type": "markdown",
   "metadata": {},
   "source": [
    "<a id='conclusion'></a>\n",
    "### Вывод"
   ]
  },
  {
   "cell_type": "markdown",
   "metadata": {},
   "source": [
    "Проанализировав 3 модели: линейная, дерево и бустер. Лучшей по качеству оказалось LGBMRegressor, но время на обучения ушло гораздо больше в сравнении с DecisionTreeRegressor(). Возможно настроив гиперпараметры лучше, может измениться."
   ]
  }
 ],
 "metadata": {
  "ExecuteTimeLog": [
   {
    "duration": 65,
    "start_time": "2024-10-30T03:48:24.285Z"
   },
   {
    "duration": 57,
    "start_time": "2024-10-30T03:48:34.152Z"
   },
   {
    "duration": 42,
    "start_time": "2024-10-30T04:07:23.450Z"
   },
   {
    "duration": 377,
    "start_time": "2024-10-30T04:07:44.245Z"
   },
   {
    "duration": 2735,
    "start_time": "2024-10-30T04:07:46.260Z"
   },
   {
    "duration": 104,
    "start_time": "2024-10-30T04:11:19.082Z"
   },
   {
    "duration": 26,
    "start_time": "2024-10-30T04:11:51.242Z"
   },
   {
    "duration": 372,
    "start_time": "2024-10-30T04:14:26.465Z"
   },
   {
    "duration": 12,
    "start_time": "2024-10-30T04:17:04.919Z"
   },
   {
    "duration": 56,
    "start_time": "2024-11-03T07:16:04.843Z"
   },
   {
    "duration": 426,
    "start_time": "2024-11-03T07:16:10.423Z"
   },
   {
    "duration": 2938,
    "start_time": "2024-11-03T07:16:10.851Z"
   },
   {
    "duration": 141,
    "start_time": "2024-11-03T07:16:13.791Z"
   },
   {
    "duration": 25,
    "start_time": "2024-11-03T07:16:13.934Z"
   },
   {
    "duration": 474,
    "start_time": "2024-11-03T07:16:13.961Z"
   },
   {
    "duration": 1019,
    "start_time": "2024-11-03T07:16:14.437Z"
   },
   {
    "duration": 624,
    "start_time": "2024-11-03T07:16:21.306Z"
   },
   {
    "duration": 70,
    "start_time": "2024-11-03T07:17:24.496Z"
   },
   {
    "duration": 934,
    "start_time": "2024-11-03T07:17:36.107Z"
   },
   {
    "duration": 942,
    "start_time": "2024-11-03T07:26:40.870Z"
   },
   {
    "duration": 787,
    "start_time": "2024-11-03T07:26:52.273Z"
   },
   {
    "duration": 7,
    "start_time": "2024-11-03T07:29:49.053Z"
   },
   {
    "duration": 7,
    "start_time": "2024-11-03T07:30:01.075Z"
   },
   {
    "duration": 8,
    "start_time": "2024-11-03T07:30:12.921Z"
   },
   {
    "duration": 160,
    "start_time": "2024-11-03T07:35:35.924Z"
   },
   {
    "duration": 28,
    "start_time": "2024-11-03T07:36:59.636Z"
   },
   {
    "duration": 64,
    "start_time": "2024-11-03T07:37:29.515Z"
   },
   {
    "duration": 21,
    "start_time": "2024-11-03T07:51:59.143Z"
   },
   {
    "duration": 15,
    "start_time": "2024-11-03T07:52:37.434Z"
   },
   {
    "duration": 6,
    "start_time": "2024-11-03T08:04:11.613Z"
   },
   {
    "duration": 21,
    "start_time": "2024-11-03T08:04:17.158Z"
   },
   {
    "duration": 26,
    "start_time": "2024-11-03T08:05:20.293Z"
   },
   {
    "duration": 24,
    "start_time": "2024-11-03T08:05:55.269Z"
   },
   {
    "duration": 1058,
    "start_time": "2024-11-03T08:13:33.744Z"
   },
   {
    "duration": 32,
    "start_time": "2024-11-03T08:13:49.971Z"
   },
   {
    "duration": 37,
    "start_time": "2024-11-03T08:14:28.021Z"
   },
   {
    "duration": 14,
    "start_time": "2024-11-03T08:25:00.032Z"
   },
   {
    "duration": 11,
    "start_time": "2024-11-03T08:32:24.939Z"
   },
   {
    "duration": 5,
    "start_time": "2024-11-03T08:32:32.039Z"
   },
   {
    "duration": 344,
    "start_time": "2024-11-03T08:32:34.310Z"
   },
   {
    "duration": 4,
    "start_time": "2024-11-03T08:33:10.155Z"
   },
   {
    "duration": 307,
    "start_time": "2024-11-03T08:33:12.168Z"
   },
   {
    "duration": 4,
    "start_time": "2024-11-03T08:33:45.231Z"
   },
   {
    "duration": 314,
    "start_time": "2024-11-03T08:33:47.711Z"
   },
   {
    "duration": 4,
    "start_time": "2024-11-03T08:33:53.539Z"
   },
   {
    "duration": 289,
    "start_time": "2024-11-03T08:33:54.799Z"
   },
   {
    "duration": 22,
    "start_time": "2024-11-03T08:39:11.382Z"
   },
   {
    "duration": 344,
    "start_time": "2024-11-04T02:09:13.751Z"
   },
   {
    "duration": 2835,
    "start_time": "2024-11-04T02:09:14.097Z"
   },
   {
    "duration": 147,
    "start_time": "2024-11-04T02:09:16.934Z"
   },
   {
    "duration": 29,
    "start_time": "2024-11-04T02:09:17.083Z"
   },
   {
    "duration": 112,
    "start_time": "2024-11-04T02:09:17.115Z"
   },
   {
    "duration": 1143,
    "start_time": "2024-11-04T02:09:17.228Z"
   },
   {
    "duration": 17,
    "start_time": "2024-11-04T02:09:18.372Z"
   },
   {
    "duration": 25,
    "start_time": "2024-11-04T02:09:18.390Z"
   },
   {
    "duration": 11,
    "start_time": "2024-11-04T02:09:18.416Z"
   },
   {
    "duration": 18,
    "start_time": "2024-11-04T02:09:18.428Z"
   },
   {
    "duration": 18,
    "start_time": "2024-11-04T02:09:18.448Z"
   },
   {
    "duration": 46,
    "start_time": "2024-11-04T02:09:18.467Z"
   },
   {
    "duration": 31,
    "start_time": "2024-11-04T02:09:18.514Z"
   },
   {
    "duration": 19,
    "start_time": "2024-11-04T02:09:18.547Z"
   },
   {
    "duration": 442,
    "start_time": "2024-11-04T02:09:18.568Z"
   },
   {
    "duration": 18,
    "start_time": "2024-11-04T03:08:06.419Z"
   },
   {
    "duration": 27,
    "start_time": "2024-11-04T03:08:16.779Z"
   },
   {
    "duration": 18,
    "start_time": "2024-11-04T03:08:46.818Z"
   },
   {
    "duration": 4,
    "start_time": "2024-11-04T03:08:58.319Z"
   },
   {
    "duration": 72,
    "start_time": "2024-11-04T03:09:33.402Z"
   },
   {
    "duration": 17,
    "start_time": "2024-11-04T03:09:39.858Z"
   },
   {
    "duration": 21,
    "start_time": "2024-11-04T03:09:44.498Z"
   },
   {
    "duration": 19,
    "start_time": "2024-11-04T03:56:52.133Z"
   },
   {
    "duration": 7,
    "start_time": "2024-11-04T03:58:36.444Z"
   },
   {
    "duration": 18,
    "start_time": "2024-11-04T03:58:57.773Z"
   },
   {
    "duration": 18,
    "start_time": "2024-11-04T06:21:53.881Z"
   },
   {
    "duration": 19,
    "start_time": "2024-11-04T06:22:02.217Z"
   },
   {
    "duration": 36,
    "start_time": "2024-11-04T06:22:45.989Z"
   },
   {
    "duration": 35,
    "start_time": "2024-11-04T06:30:58.364Z"
   },
   {
    "duration": 19,
    "start_time": "2024-11-04T06:31:01.244Z"
   },
   {
    "duration": 31,
    "start_time": "2024-11-04T06:31:13.012Z"
   },
   {
    "duration": 21,
    "start_time": "2024-11-04T06:31:17.251Z"
   },
   {
    "duration": 35,
    "start_time": "2024-11-04T06:42:34.516Z"
   },
   {
    "duration": 20,
    "start_time": "2024-11-04T06:42:36.917Z"
   },
   {
    "duration": 39,
    "start_time": "2024-11-04T06:42:41.765Z"
   },
   {
    "duration": 104,
    "start_time": "2024-11-04T06:42:50.285Z"
   },
   {
    "duration": 28,
    "start_time": "2024-11-04T06:43:33.918Z"
   },
   {
    "duration": 21,
    "start_time": "2024-11-04T06:43:36.180Z"
   },
   {
    "duration": 100,
    "start_time": "2024-11-04T06:43:44.973Z"
   },
   {
    "duration": 42,
    "start_time": "2024-11-04T06:44:30.275Z"
   },
   {
    "duration": 29,
    "start_time": "2024-11-04T06:44:33.027Z"
   },
   {
    "duration": 390,
    "start_time": "2024-11-04T06:45:41.419Z"
   },
   {
    "duration": 702,
    "start_time": "2024-11-04T06:49:55.079Z"
   },
   {
    "duration": 92,
    "start_time": "2024-11-04T06:50:26.599Z"
   },
   {
    "duration": 21,
    "start_time": "2024-11-04T06:52:39.366Z"
   },
   {
    "duration": 374,
    "start_time": "2024-11-04T06:54:48.014Z"
   },
   {
    "duration": 729,
    "start_time": "2024-11-04T06:54:48.390Z"
   },
   {
    "duration": 118,
    "start_time": "2024-11-04T06:54:49.120Z"
   },
   {
    "duration": 38,
    "start_time": "2024-11-04T06:54:49.240Z"
   },
   {
    "duration": 129,
    "start_time": "2024-11-04T06:54:49.285Z"
   },
   {
    "duration": 28,
    "start_time": "2024-11-04T06:54:49.416Z"
   },
   {
    "duration": 51,
    "start_time": "2024-11-04T06:54:49.445Z"
   },
   {
    "duration": 20,
    "start_time": "2024-11-04T06:54:49.498Z"
   },
   {
    "duration": 79,
    "start_time": "2024-11-04T06:54:49.520Z"
   },
   {
    "duration": 28,
    "start_time": "2024-11-04T06:54:49.602Z"
   },
   {
    "duration": 33,
    "start_time": "2024-11-04T06:54:49.631Z"
   },
   {
    "duration": 21,
    "start_time": "2024-11-04T06:54:49.665Z"
   },
   {
    "duration": 36,
    "start_time": "2024-11-04T06:54:49.687Z"
   },
   {
    "duration": 23,
    "start_time": "2024-11-04T06:54:49.724Z"
   },
   {
    "duration": 22,
    "start_time": "2024-11-04T06:54:49.749Z"
   },
   {
    "duration": 939,
    "start_time": "2024-11-04T06:54:49.773Z"
   },
   {
    "duration": 17,
    "start_time": "2024-11-04T06:54:50.713Z"
   },
   {
    "duration": 74,
    "start_time": "2024-11-04T06:54:50.731Z"
   },
   {
    "duration": 34,
    "start_time": "2024-11-04T06:54:50.806Z"
   },
   {
    "duration": 414,
    "start_time": "2024-11-04T06:54:50.842Z"
   },
   {
    "duration": 70,
    "start_time": "2024-11-04T06:54:51.257Z"
   },
   {
    "duration": 97,
    "start_time": "2024-11-04T06:55:39.700Z"
   },
   {
    "duration": 2,
    "start_time": "2024-11-04T07:01:43.191Z"
   },
   {
    "duration": 447,
    "start_time": "2024-11-04T07:03:44.328Z"
   },
   {
    "duration": 756,
    "start_time": "2024-11-04T07:03:44.776Z"
   },
   {
    "duration": 118,
    "start_time": "2024-11-04T07:03:45.534Z"
   },
   {
    "duration": 27,
    "start_time": "2024-11-04T07:03:45.654Z"
   },
   {
    "duration": 65,
    "start_time": "2024-11-04T07:03:45.683Z"
   },
   {
    "duration": 0,
    "start_time": "2024-11-04T07:03:45.750Z"
   },
   {
    "duration": 0,
    "start_time": "2024-11-04T07:03:45.751Z"
   },
   {
    "duration": 0,
    "start_time": "2024-11-04T07:03:45.752Z"
   },
   {
    "duration": 0,
    "start_time": "2024-11-04T07:03:45.753Z"
   },
   {
    "duration": 0,
    "start_time": "2024-11-04T07:03:45.754Z"
   },
   {
    "duration": 0,
    "start_time": "2024-11-04T07:03:45.755Z"
   },
   {
    "duration": 0,
    "start_time": "2024-11-04T07:03:45.756Z"
   },
   {
    "duration": 0,
    "start_time": "2024-11-04T07:03:45.757Z"
   },
   {
    "duration": 0,
    "start_time": "2024-11-04T07:03:45.758Z"
   },
   {
    "duration": 0,
    "start_time": "2024-11-04T07:03:45.759Z"
   },
   {
    "duration": 0,
    "start_time": "2024-11-04T07:03:45.760Z"
   },
   {
    "duration": 0,
    "start_time": "2024-11-04T07:03:45.761Z"
   },
   {
    "duration": 0,
    "start_time": "2024-11-04T07:03:45.762Z"
   },
   {
    "duration": 0,
    "start_time": "2024-11-04T07:03:45.763Z"
   },
   {
    "duration": 0,
    "start_time": "2024-11-04T07:03:45.764Z"
   },
   {
    "duration": 0,
    "start_time": "2024-11-04T07:03:45.765Z"
   },
   {
    "duration": 0,
    "start_time": "2024-11-04T07:03:45.766Z"
   },
   {
    "duration": 0,
    "start_time": "2024-11-04T07:03:45.766Z"
   },
   {
    "duration": 106,
    "start_time": "2024-11-04T07:04:31.557Z"
   },
   {
    "duration": 70,
    "start_time": "2024-11-04T07:08:21.827Z"
   },
   {
    "duration": 86,
    "start_time": "2024-11-04T07:10:22.778Z"
   },
   {
    "duration": 10,
    "start_time": "2024-11-04T07:14:04.623Z"
   },
   {
    "duration": 95,
    "start_time": "2024-11-04T07:14:10.424Z"
   },
   {
    "duration": 18,
    "start_time": "2024-11-04T07:17:34.646Z"
   },
   {
    "duration": 28,
    "start_time": "2024-11-04T07:17:38.678Z"
   },
   {
    "duration": 23,
    "start_time": "2024-11-04T07:17:47.309Z"
   },
   {
    "duration": 67,
    "start_time": "2024-11-04T07:19:16.861Z"
   },
   {
    "duration": 37,
    "start_time": "2024-11-04T07:19:23.268Z"
   },
   {
    "duration": 26,
    "start_time": "2024-11-04T07:20:08.830Z"
   },
   {
    "duration": 16,
    "start_time": "2024-11-04T07:20:20.139Z"
   },
   {
    "duration": 41,
    "start_time": "2024-11-04T07:20:48.829Z"
   },
   {
    "duration": 27,
    "start_time": "2024-11-04T07:22:16.788Z"
   },
   {
    "duration": 6,
    "start_time": "2024-11-04T07:22:55.891Z"
   },
   {
    "duration": 80,
    "start_time": "2024-11-04T07:23:12.283Z"
   },
   {
    "duration": 55,
    "start_time": "2024-11-04T07:23:22.562Z"
   },
   {
    "duration": 3,
    "start_time": "2024-11-04T08:16:01.071Z"
   },
   {
    "duration": 756,
    "start_time": "2024-11-04T08:16:01.076Z"
   },
   {
    "duration": 109,
    "start_time": "2024-11-04T08:16:01.834Z"
   },
   {
    "duration": 22,
    "start_time": "2024-11-04T08:16:01.945Z"
   },
   {
    "duration": 353,
    "start_time": "2024-11-04T08:16:27.819Z"
   },
   {
    "duration": 100,
    "start_time": "2024-11-04T08:21:48.807Z"
   },
   {
    "duration": 68,
    "start_time": "2024-11-04T08:23:53.941Z"
   },
   {
    "duration": 31,
    "start_time": "2024-11-04T08:30:00.659Z"
   },
   {
    "duration": 28,
    "start_time": "2024-11-04T08:30:04.642Z"
   },
   {
    "duration": 30,
    "start_time": "2024-11-04T08:30:25.393Z"
   },
   {
    "duration": 24,
    "start_time": "2024-11-04T08:30:31.097Z"
   },
   {
    "duration": 33,
    "start_time": "2024-11-04T08:30:55.833Z"
   },
   {
    "duration": 3,
    "start_time": "2024-11-04T08:31:02.512Z"
   },
   {
    "duration": 6,
    "start_time": "2024-11-04T08:31:12.385Z"
   },
   {
    "duration": 20,
    "start_time": "2024-11-04T08:31:42.776Z"
   },
   {
    "duration": 12,
    "start_time": "2024-11-04T08:31:57.160Z"
   },
   {
    "duration": 33,
    "start_time": "2024-11-04T08:32:03.128Z"
   },
   {
    "duration": 18,
    "start_time": "2024-11-04T08:32:15.983Z"
   },
   {
    "duration": 41,
    "start_time": "2024-11-04T08:32:47.423Z"
   },
   {
    "duration": 32,
    "start_time": "2024-11-04T08:32:59.671Z"
   },
   {
    "duration": 48,
    "start_time": "2024-11-04T08:33:40.895Z"
   },
   {
    "duration": 18,
    "start_time": "2024-11-04T08:33:43.320Z"
   },
   {
    "duration": 108,
    "start_time": "2024-11-04T08:33:55.102Z"
   },
   {
    "duration": 94,
    "start_time": "2024-11-04T08:33:58.782Z"
   },
   {
    "duration": 11,
    "start_time": "2024-11-04T08:34:53.159Z"
   },
   {
    "duration": 100,
    "start_time": "2024-11-04T08:34:57.381Z"
   },
   {
    "duration": 4,
    "start_time": "2024-11-04T08:36:31.228Z"
   },
   {
    "duration": 9,
    "start_time": "2024-11-04T08:36:49.069Z"
   },
   {
    "duration": 7,
    "start_time": "2024-11-04T08:36:53.396Z"
   },
   {
    "duration": 7,
    "start_time": "2024-11-04T08:37:10.052Z"
   },
   {
    "duration": 5,
    "start_time": "2024-11-04T08:37:14.325Z"
   },
   {
    "duration": 5,
    "start_time": "2024-11-04T08:37:19.452Z"
   },
   {
    "duration": 3,
    "start_time": "2024-11-04T08:37:24.148Z"
   },
   {
    "duration": 3,
    "start_time": "2024-11-04T08:37:38.677Z"
   },
   {
    "duration": 2,
    "start_time": "2024-11-04T08:38:29.934Z"
   },
   {
    "duration": 715,
    "start_time": "2024-11-04T08:38:29.938Z"
   },
   {
    "duration": 107,
    "start_time": "2024-11-04T08:38:30.654Z"
   },
   {
    "duration": 36,
    "start_time": "2024-11-04T08:38:30.763Z"
   },
   {
    "duration": 98,
    "start_time": "2024-11-04T08:38:30.801Z"
   },
   {
    "duration": 108,
    "start_time": "2024-11-04T08:38:30.900Z"
   },
   {
    "duration": 34,
    "start_time": "2024-11-04T08:38:31.009Z"
   },
   {
    "duration": 6,
    "start_time": "2024-11-04T08:38:31.045Z"
   },
   {
    "duration": 6,
    "start_time": "2024-11-04T08:38:31.053Z"
   },
   {
    "duration": 55,
    "start_time": "2024-11-04T08:38:31.061Z"
   },
   {
    "duration": 104,
    "start_time": "2024-11-04T08:38:31.118Z"
   },
   {
    "duration": 200,
    "start_time": "2024-11-04T08:38:47.428Z"
   },
   {
    "duration": 197,
    "start_time": "2024-11-04T08:38:51.612Z"
   },
   {
    "duration": 112,
    "start_time": "2024-11-04T08:39:19.515Z"
   },
   {
    "duration": 4,
    "start_time": "2024-11-04T08:40:10.915Z"
   },
   {
    "duration": 4,
    "start_time": "2024-11-04T08:40:17.986Z"
   },
   {
    "duration": 18,
    "start_time": "2024-11-04T08:41:28.460Z"
   },
   {
    "duration": 17,
    "start_time": "2024-11-04T08:42:03.146Z"
   },
   {
    "duration": 30,
    "start_time": "2024-11-04T08:42:12.313Z"
   },
   {
    "duration": 19,
    "start_time": "2024-11-04T08:42:16.114Z"
   },
   {
    "duration": 19,
    "start_time": "2024-11-04T08:42:54.945Z"
   },
   {
    "duration": 32,
    "start_time": "2024-11-04T08:42:59.968Z"
   },
   {
    "duration": 18,
    "start_time": "2024-11-04T08:43:09.632Z"
   },
   {
    "duration": 30,
    "start_time": "2024-11-04T08:43:13.720Z"
   },
   {
    "duration": 110,
    "start_time": "2024-11-04T08:43:50.257Z"
   },
   {
    "duration": 346,
    "start_time": "2024-11-04T08:44:33.749Z"
   },
   {
    "duration": 759,
    "start_time": "2024-11-04T08:44:34.097Z"
   },
   {
    "duration": 118,
    "start_time": "2024-11-04T08:44:34.858Z"
   },
   {
    "duration": 30,
    "start_time": "2024-11-04T08:44:34.978Z"
   },
   {
    "duration": 109,
    "start_time": "2024-11-04T08:44:35.009Z"
   },
   {
    "duration": 28,
    "start_time": "2024-11-04T08:44:35.120Z"
   },
   {
    "duration": 3,
    "start_time": "2024-11-04T08:44:35.149Z"
   },
   {
    "duration": 109,
    "start_time": "2024-11-04T08:44:35.153Z"
   },
   {
    "duration": 110,
    "start_time": "2024-11-04T08:44:35.263Z"
   },
   {
    "duration": 105,
    "start_time": "2024-11-04T08:44:35.376Z"
   },
   {
    "duration": 17,
    "start_time": "2024-11-04T08:44:35.482Z"
   },
   {
    "duration": 2,
    "start_time": "2024-11-04T08:44:35.506Z"
   },
   {
    "duration": 20,
    "start_time": "2024-11-04T08:44:35.509Z"
   },
   {
    "duration": 39,
    "start_time": "2024-11-04T08:44:35.531Z"
   },
   {
    "duration": 65,
    "start_time": "2024-11-04T08:44:35.571Z"
   },
   {
    "duration": 111,
    "start_time": "2024-11-04T08:44:35.638Z"
   },
   {
    "duration": 83,
    "start_time": "2024-11-04T08:44:35.750Z"
   },
   {
    "duration": 52,
    "start_time": "2024-11-04T08:44:35.835Z"
   },
   {
    "duration": 72,
    "start_time": "2024-11-04T08:44:35.888Z"
   },
   {
    "duration": 104,
    "start_time": "2024-11-04T08:44:35.961Z"
   },
   {
    "duration": 936,
    "start_time": "2024-11-04T08:44:36.066Z"
   },
   {
    "duration": 135,
    "start_time": "2024-11-04T08:44:37.004Z"
   },
   {
    "duration": 380,
    "start_time": "2024-11-04T08:44:37.140Z"
   },
   {
    "duration": 449,
    "start_time": "2024-11-04T08:44:37.521Z"
   },
   {
    "duration": 108,
    "start_time": "2024-11-04T08:44:37.971Z"
   },
   {
    "duration": 15,
    "start_time": "2024-11-04T09:38:14.982Z"
   },
   {
    "duration": 14,
    "start_time": "2024-11-04T09:38:24.238Z"
   },
   {
    "duration": 109,
    "start_time": "2024-11-04T09:38:38.791Z"
   },
   {
    "duration": 14,
    "start_time": "2024-11-04T09:39:12.166Z"
   },
   {
    "duration": 95,
    "start_time": "2024-11-04T09:39:14.974Z"
   },
   {
    "duration": 698,
    "start_time": "2024-11-04T09:39:24.837Z"
   },
   {
    "duration": 83,
    "start_time": "2024-11-04T09:39:56.150Z"
   },
   {
    "duration": 5,
    "start_time": "2024-11-04T09:52:32.434Z"
   },
   {
    "duration": 23,
    "start_time": "2024-11-04T09:52:42.966Z"
   },
   {
    "duration": 19,
    "start_time": "2024-11-04T09:56:05.301Z"
   },
   {
    "duration": 42,
    "start_time": "2024-11-04T09:57:27.842Z"
   },
   {
    "duration": 19,
    "start_time": "2024-11-04T09:57:44.890Z"
   },
   {
    "duration": 21,
    "start_time": "2024-11-04T09:57:54.098Z"
   },
   {
    "duration": 21,
    "start_time": "2024-11-04T09:58:43.379Z"
   },
   {
    "duration": 24,
    "start_time": "2024-11-04T09:59:02.962Z"
   },
   {
    "duration": 23,
    "start_time": "2024-11-04T10:05:39.638Z"
   },
   {
    "duration": 19,
    "start_time": "2024-11-04T10:05:54.165Z"
   },
   {
    "duration": 45,
    "start_time": "2024-11-04T10:06:03.391Z"
   },
   {
    "duration": 30,
    "start_time": "2024-11-04T10:06:20.110Z"
   },
   {
    "duration": 19,
    "start_time": "2024-11-04T10:06:58.845Z"
   },
   {
    "duration": 21,
    "start_time": "2024-11-04T10:07:30.119Z"
   },
   {
    "duration": 7,
    "start_time": "2024-11-04T10:07:48.142Z"
   },
   {
    "duration": 7,
    "start_time": "2024-11-04T10:07:57.004Z"
   },
   {
    "duration": 69,
    "start_time": "2024-11-04T10:09:38.909Z"
   },
   {
    "duration": 11,
    "start_time": "2024-11-04T10:09:51.884Z"
   },
   {
    "duration": 9,
    "start_time": "2024-11-04T10:10:11.082Z"
   },
   {
    "duration": 8,
    "start_time": "2024-11-04T10:10:21.442Z"
   },
   {
    "duration": 19,
    "start_time": "2024-11-04T10:10:35.915Z"
   },
   {
    "duration": 7,
    "start_time": "2024-11-04T10:10:51.555Z"
   },
   {
    "duration": 8,
    "start_time": "2024-11-04T10:11:02.234Z"
   },
   {
    "duration": 7,
    "start_time": "2024-11-04T10:11:09.762Z"
   },
   {
    "duration": 10,
    "start_time": "2024-11-04T10:11:18.610Z"
   },
   {
    "duration": 7,
    "start_time": "2024-11-04T10:11:23.602Z"
   },
   {
    "duration": 7,
    "start_time": "2024-11-04T10:11:28.386Z"
   },
   {
    "duration": 8,
    "start_time": "2024-11-04T10:11:33.075Z"
   },
   {
    "duration": 7,
    "start_time": "2024-11-04T10:11:37.346Z"
   },
   {
    "duration": 7,
    "start_time": "2024-11-04T10:11:41.362Z"
   },
   {
    "duration": 7,
    "start_time": "2024-11-04T10:11:46.170Z"
   },
   {
    "duration": 7,
    "start_time": "2024-11-04T10:11:49.818Z"
   },
   {
    "duration": 6,
    "start_time": "2024-11-04T10:11:57.827Z"
   },
   {
    "duration": 7,
    "start_time": "2024-11-04T10:12:03.090Z"
   },
   {
    "duration": 7,
    "start_time": "2024-11-04T10:12:07.418Z"
   },
   {
    "duration": 5,
    "start_time": "2024-11-04T12:18:04.332Z"
   },
   {
    "duration": 14,
    "start_time": "2024-11-04T12:18:13.811Z"
   },
   {
    "duration": 18,
    "start_time": "2024-11-04T12:19:37.421Z"
   },
   {
    "duration": 88,
    "start_time": "2024-11-04T12:20:17.283Z"
   },
   {
    "duration": 23,
    "start_time": "2024-11-04T12:20:29.419Z"
   },
   {
    "duration": 19,
    "start_time": "2024-11-04T12:20:50.586Z"
   },
   {
    "duration": 456,
    "start_time": "2024-11-04T12:21:30.827Z"
   },
   {
    "duration": 50,
    "start_time": "2024-11-04T12:22:57.370Z"
   },
   {
    "duration": 68,
    "start_time": "2024-11-04T12:23:24.913Z"
   },
   {
    "duration": 33,
    "start_time": "2024-11-04T12:23:32.225Z"
   },
   {
    "duration": 43,
    "start_time": "2024-11-04T12:23:43.305Z"
   },
   {
    "duration": 30,
    "start_time": "2024-11-04T12:24:00.873Z"
   },
   {
    "duration": 68,
    "start_time": "2024-11-04T12:25:11.728Z"
   },
   {
    "duration": 7,
    "start_time": "2024-11-04T12:28:15.102Z"
   },
   {
    "duration": 486,
    "start_time": "2024-11-04T12:28:45.533Z"
   },
   {
    "duration": 4099,
    "start_time": "2024-11-04T12:29:04.429Z"
   },
   {
    "duration": 56,
    "start_time": "2024-11-04T12:29:10.534Z"
   },
   {
    "duration": 2634,
    "start_time": "2024-11-04T12:31:10.162Z"
   },
   {
    "duration": 1235,
    "start_time": "2024-11-04T12:31:12.798Z"
   },
   {
    "duration": 755,
    "start_time": "2024-11-04T12:31:14.035Z"
   },
   {
    "duration": 122,
    "start_time": "2024-11-04T12:31:14.792Z"
   },
   {
    "duration": 24,
    "start_time": "2024-11-04T12:31:14.916Z"
   },
   {
    "duration": 114,
    "start_time": "2024-11-04T12:31:14.942Z"
   },
   {
    "duration": 50,
    "start_time": "2024-11-04T12:31:15.058Z"
   },
   {
    "duration": 5,
    "start_time": "2024-11-04T12:31:15.110Z"
   },
   {
    "duration": 68,
    "start_time": "2024-11-04T12:31:15.116Z"
   },
   {
    "duration": 145,
    "start_time": "2024-11-04T12:31:15.187Z"
   },
   {
    "duration": 107,
    "start_time": "2024-11-04T12:31:15.333Z"
   },
   {
    "duration": 18,
    "start_time": "2024-11-04T12:31:15.441Z"
   },
   {
    "duration": 19,
    "start_time": "2024-11-04T12:31:15.460Z"
   },
   {
    "duration": 33,
    "start_time": "2024-11-04T12:31:15.480Z"
   },
   {
    "duration": 54,
    "start_time": "2024-11-04T12:31:15.515Z"
   },
   {
    "duration": 20,
    "start_time": "2024-11-04T12:31:15.570Z"
   },
   {
    "duration": 25,
    "start_time": "2024-11-04T12:31:15.591Z"
   },
   {
    "duration": 21,
    "start_time": "2024-11-04T12:31:15.617Z"
   },
   {
    "duration": 29,
    "start_time": "2024-11-04T12:31:15.639Z"
   },
   {
    "duration": 24,
    "start_time": "2024-11-04T12:31:15.669Z"
   },
   {
    "duration": 35,
    "start_time": "2024-11-04T12:31:15.694Z"
   },
   {
    "duration": 106,
    "start_time": "2024-11-04T12:31:15.730Z"
   },
   {
    "duration": 723,
    "start_time": "2024-11-04T12:31:15.837Z"
   },
   {
    "duration": 93,
    "start_time": "2024-11-04T12:31:16.562Z"
   },
   {
    "duration": 97,
    "start_time": "2024-11-04T12:31:16.656Z"
   },
   {
    "duration": 23,
    "start_time": "2024-11-04T12:31:16.755Z"
   },
   {
    "duration": 59,
    "start_time": "2024-11-04T12:31:16.779Z"
   },
   {
    "duration": 475,
    "start_time": "2024-11-04T12:31:16.841Z"
   },
   {
    "duration": 386,
    "start_time": "2024-11-04T12:31:17.318Z"
   },
   {
    "duration": 109,
    "start_time": "2024-11-04T12:31:17.707Z"
   },
   {
    "duration": 2621,
    "start_time": "2024-11-04T12:32:08.160Z"
   },
   {
    "duration": 1138,
    "start_time": "2024-11-04T12:32:10.783Z"
   },
   {
    "duration": 803,
    "start_time": "2024-11-04T12:32:11.922Z"
   },
   {
    "duration": 135,
    "start_time": "2024-11-04T12:32:12.727Z"
   },
   {
    "duration": 25,
    "start_time": "2024-11-04T12:32:12.863Z"
   },
   {
    "duration": 112,
    "start_time": "2024-11-04T12:32:12.889Z"
   },
   {
    "duration": 38,
    "start_time": "2024-11-04T12:32:13.007Z"
   },
   {
    "duration": 4,
    "start_time": "2024-11-04T12:32:13.047Z"
   },
   {
    "duration": 60,
    "start_time": "2024-11-04T12:32:13.052Z"
   },
   {
    "duration": 125,
    "start_time": "2024-11-04T12:32:13.113Z"
   },
   {
    "duration": 113,
    "start_time": "2024-11-04T12:32:13.239Z"
   },
   {
    "duration": 22,
    "start_time": "2024-11-04T12:32:13.354Z"
   },
   {
    "duration": 65,
    "start_time": "2024-11-04T12:32:13.378Z"
   },
   {
    "duration": 23,
    "start_time": "2024-11-04T12:32:13.447Z"
   },
   {
    "duration": 48,
    "start_time": "2024-11-04T12:32:13.471Z"
   },
   {
    "duration": 54,
    "start_time": "2024-11-04T12:32:13.520Z"
   },
   {
    "duration": 17,
    "start_time": "2024-11-04T12:32:13.576Z"
   },
   {
    "duration": 26,
    "start_time": "2024-11-04T12:32:13.594Z"
   },
   {
    "duration": 66,
    "start_time": "2024-11-04T12:32:13.622Z"
   },
   {
    "duration": 19,
    "start_time": "2024-11-04T12:32:13.689Z"
   },
   {
    "duration": 34,
    "start_time": "2024-11-04T12:32:13.710Z"
   },
   {
    "duration": 106,
    "start_time": "2024-11-04T12:32:13.745Z"
   },
   {
    "duration": 741,
    "start_time": "2024-11-04T12:32:13.852Z"
   },
   {
    "duration": 113,
    "start_time": "2024-11-04T12:32:14.595Z"
   },
   {
    "duration": 97,
    "start_time": "2024-11-04T12:32:14.710Z"
   },
   {
    "duration": 20,
    "start_time": "2024-11-04T12:32:14.808Z"
   },
   {
    "duration": 55,
    "start_time": "2024-11-04T12:32:14.829Z"
   },
   {
    "duration": 455,
    "start_time": "2024-11-04T12:32:14.885Z"
   },
   {
    "duration": 401,
    "start_time": "2024-11-04T12:32:15.342Z"
   },
   {
    "duration": 112,
    "start_time": "2024-11-04T12:32:15.745Z"
   },
   {
    "duration": 74,
    "start_time": "2024-11-04T12:32:15.859Z"
   },
   {
    "duration": 416,
    "start_time": "2024-11-04T12:33:27.765Z"
   },
   {
    "duration": 103,
    "start_time": "2024-11-04T12:33:33.955Z"
   },
   {
    "duration": 24,
    "start_time": "2024-11-04T12:34:40.379Z"
   },
   {
    "duration": 11,
    "start_time": "2024-11-04T12:35:56.554Z"
   },
   {
    "duration": 32,
    "start_time": "2024-11-04T12:36:20.539Z"
   },
   {
    "duration": 30,
    "start_time": "2024-11-04T12:36:28.227Z"
   },
   {
    "duration": 34,
    "start_time": "2024-11-04T12:36:39.985Z"
   },
   {
    "duration": 34,
    "start_time": "2024-11-04T12:36:50.082Z"
   },
   {
    "duration": 34,
    "start_time": "2024-11-04T12:39:05.321Z"
   },
   {
    "duration": 5,
    "start_time": "2024-11-04T12:39:21.904Z"
   },
   {
    "duration": 24,
    "start_time": "2024-11-04T12:39:35.335Z"
   },
   {
    "duration": 74,
    "start_time": "2024-11-04T12:40:28.480Z"
   },
   {
    "duration": 119,
    "start_time": "2024-11-04T12:40:34.736Z"
   },
   {
    "duration": 6,
    "start_time": "2024-11-04T12:41:28.000Z"
   },
   {
    "duration": 29,
    "start_time": "2024-11-04T12:41:42.894Z"
   },
   {
    "duration": 2571,
    "start_time": "2024-11-04T12:42:24.405Z"
   },
   {
    "duration": 1186,
    "start_time": "2024-11-04T12:42:26.978Z"
   },
   {
    "duration": 755,
    "start_time": "2024-11-04T12:42:28.165Z"
   },
   {
    "duration": 107,
    "start_time": "2024-11-04T12:42:28.923Z"
   },
   {
    "duration": 41,
    "start_time": "2024-11-04T12:42:29.031Z"
   },
   {
    "duration": 105,
    "start_time": "2024-11-04T12:42:29.073Z"
   },
   {
    "duration": 40,
    "start_time": "2024-11-04T12:42:29.180Z"
   },
   {
    "duration": 4,
    "start_time": "2024-11-04T12:42:29.221Z"
   },
   {
    "duration": 57,
    "start_time": "2024-11-04T12:42:29.226Z"
   },
   {
    "duration": 129,
    "start_time": "2024-11-04T12:42:29.286Z"
   },
   {
    "duration": 115,
    "start_time": "2024-11-04T12:42:29.417Z"
   },
   {
    "duration": 19,
    "start_time": "2024-11-04T12:42:29.534Z"
   },
   {
    "duration": 32,
    "start_time": "2024-11-04T12:42:29.555Z"
   },
   {
    "duration": 30,
    "start_time": "2024-11-04T12:42:29.589Z"
   },
   {
    "duration": 44,
    "start_time": "2024-11-04T12:42:29.621Z"
   },
   {
    "duration": 28,
    "start_time": "2024-11-04T12:42:29.667Z"
   },
   {
    "duration": 18,
    "start_time": "2024-11-04T12:42:29.696Z"
   },
   {
    "duration": 77,
    "start_time": "2024-11-04T12:42:29.715Z"
   },
   {
    "duration": 36,
    "start_time": "2024-11-04T12:42:29.794Z"
   },
   {
    "duration": 20,
    "start_time": "2024-11-04T12:42:29.832Z"
   },
   {
    "duration": 33,
    "start_time": "2024-11-04T12:42:29.853Z"
   },
   {
    "duration": 99,
    "start_time": "2024-11-04T12:42:29.888Z"
   },
   {
    "duration": 703,
    "start_time": "2024-11-04T12:42:29.989Z"
   },
   {
    "duration": 93,
    "start_time": "2024-11-04T12:42:30.694Z"
   },
   {
    "duration": 93,
    "start_time": "2024-11-04T12:42:30.789Z"
   },
   {
    "duration": 26,
    "start_time": "2024-11-04T12:42:30.883Z"
   },
   {
    "duration": 70,
    "start_time": "2024-11-04T12:42:30.910Z"
   },
   {
    "duration": 52,
    "start_time": "2024-11-04T12:42:30.982Z"
   },
   {
    "duration": 480,
    "start_time": "2024-11-04T12:42:31.035Z"
   },
   {
    "duration": 425,
    "start_time": "2024-11-04T12:42:31.517Z"
   },
   {
    "duration": 143,
    "start_time": "2024-11-04T12:42:31.944Z"
   },
   {
    "duration": 113,
    "start_time": "2024-11-04T12:42:53.045Z"
   },
   {
    "duration": 2506,
    "start_time": "2024-11-04T12:44:28.520Z"
   },
   {
    "duration": 1102,
    "start_time": "2024-11-04T12:44:31.028Z"
   },
   {
    "duration": 765,
    "start_time": "2024-11-04T12:44:32.132Z"
   },
   {
    "duration": 99,
    "start_time": "2024-11-04T12:44:32.899Z"
   },
   {
    "duration": 26,
    "start_time": "2024-11-04T12:44:33.000Z"
   },
   {
    "duration": 145,
    "start_time": "2024-11-04T12:44:33.027Z"
   },
   {
    "duration": 45,
    "start_time": "2024-11-04T12:44:33.174Z"
   },
   {
    "duration": 4,
    "start_time": "2024-11-04T12:44:33.221Z"
   },
   {
    "duration": 65,
    "start_time": "2024-11-04T12:44:33.227Z"
   },
   {
    "duration": 105,
    "start_time": "2024-11-04T12:44:33.295Z"
   },
   {
    "duration": 102,
    "start_time": "2024-11-04T12:44:33.407Z"
   },
   {
    "duration": 18,
    "start_time": "2024-11-04T12:44:33.511Z"
   },
   {
    "duration": 30,
    "start_time": "2024-11-04T12:44:33.531Z"
   },
   {
    "duration": 57,
    "start_time": "2024-11-04T12:44:33.563Z"
   },
   {
    "duration": 51,
    "start_time": "2024-11-04T12:44:33.621Z"
   },
   {
    "duration": 44,
    "start_time": "2024-11-04T12:44:33.673Z"
   },
   {
    "duration": 14,
    "start_time": "2024-11-04T12:44:33.718Z"
   },
   {
    "duration": 24,
    "start_time": "2024-11-04T12:44:33.733Z"
   },
   {
    "duration": 41,
    "start_time": "2024-11-04T12:44:33.758Z"
   },
   {
    "duration": 21,
    "start_time": "2024-11-04T12:44:33.801Z"
   },
   {
    "duration": 41,
    "start_time": "2024-11-04T12:44:33.823Z"
   },
   {
    "duration": 114,
    "start_time": "2024-11-04T12:44:33.866Z"
   },
   {
    "duration": 683,
    "start_time": "2024-11-04T12:44:33.981Z"
   },
   {
    "duration": 87,
    "start_time": "2024-11-04T12:44:34.665Z"
   },
   {
    "duration": 2,
    "start_time": "2024-11-04T12:44:34.754Z"
   },
   {
    "duration": 20,
    "start_time": "2024-11-04T12:44:34.763Z"
   },
   {
    "duration": 12,
    "start_time": "2024-11-04T12:44:34.784Z"
   },
   {
    "duration": 86,
    "start_time": "2024-11-04T12:44:34.798Z"
   },
   {
    "duration": 395,
    "start_time": "2024-11-04T12:44:34.886Z"
   },
   {
    "duration": 428,
    "start_time": "2024-11-04T12:44:35.283Z"
   },
   {
    "duration": 126,
    "start_time": "2024-11-04T12:44:35.713Z"
   },
   {
    "duration": 84,
    "start_time": "2024-11-04T12:45:04.223Z"
   },
   {
    "duration": 111,
    "start_time": "2024-11-04T12:55:41.487Z"
   },
   {
    "duration": 335,
    "start_time": "2024-11-04T12:55:55.134Z"
   },
   {
    "duration": 334,
    "start_time": "2024-11-04T12:56:12.582Z"
   },
   {
    "duration": 15,
    "start_time": "2024-11-04T12:56:24.422Z"
   },
   {
    "duration": 14,
    "start_time": "2024-11-04T12:57:14.318Z"
   },
   {
    "duration": 5,
    "start_time": "2024-11-04T12:57:26.966Z"
   },
   {
    "duration": 8,
    "start_time": "2024-11-04T12:57:37.357Z"
   },
   {
    "duration": 88,
    "start_time": "2024-11-04T12:57:41.494Z"
   },
   {
    "duration": 19,
    "start_time": "2024-11-04T12:58:43.589Z"
   },
   {
    "duration": 83,
    "start_time": "2024-11-04T12:58:46.414Z"
   },
   {
    "duration": 19,
    "start_time": "2024-11-04T12:59:02.389Z"
   },
   {
    "duration": 74,
    "start_time": "2024-11-04T13:00:25.213Z"
   },
   {
    "duration": 20,
    "start_time": "2024-11-04T13:00:40.236Z"
   },
   {
    "duration": 19,
    "start_time": "2024-11-04T13:01:24.852Z"
   },
   {
    "duration": 16,
    "start_time": "2024-11-04T13:01:38.555Z"
   },
   {
    "duration": 20,
    "start_time": "2024-11-04T13:01:42.148Z"
   },
   {
    "duration": 11,
    "start_time": "2024-11-04T13:02:00.459Z"
   },
   {
    "duration": 19,
    "start_time": "2024-11-04T13:02:02.707Z"
   },
   {
    "duration": 12,
    "start_time": "2024-11-04T13:02:26.899Z"
   },
   {
    "duration": 20,
    "start_time": "2024-11-04T13:02:30.469Z"
   },
   {
    "duration": 5,
    "start_time": "2024-11-04T13:02:55.651Z"
   },
   {
    "duration": 10,
    "start_time": "2024-11-04T13:03:02.164Z"
   },
   {
    "duration": 21,
    "start_time": "2024-11-04T13:03:09.011Z"
   },
   {
    "duration": 2628,
    "start_time": "2024-11-04T13:05:14.874Z"
   },
   {
    "duration": 1151,
    "start_time": "2024-11-04T13:05:17.504Z"
   },
   {
    "duration": 756,
    "start_time": "2024-11-04T13:05:18.657Z"
   },
   {
    "duration": 114,
    "start_time": "2024-11-04T13:05:19.414Z"
   },
   {
    "duration": 23,
    "start_time": "2024-11-04T13:05:19.529Z"
   },
   {
    "duration": 111,
    "start_time": "2024-11-04T13:05:19.554Z"
   },
   {
    "duration": 27,
    "start_time": "2024-11-04T13:05:19.667Z"
   },
   {
    "duration": 4,
    "start_time": "2024-11-04T13:05:19.706Z"
   },
   {
    "duration": 88,
    "start_time": "2024-11-04T13:05:19.711Z"
   },
   {
    "duration": 107,
    "start_time": "2024-11-04T13:05:19.801Z"
   },
   {
    "duration": 109,
    "start_time": "2024-11-04T13:05:19.910Z"
   },
   {
    "duration": 19,
    "start_time": "2024-11-04T13:05:20.021Z"
   },
   {
    "duration": 50,
    "start_time": "2024-11-04T13:05:20.041Z"
   },
   {
    "duration": 33,
    "start_time": "2024-11-04T13:05:20.092Z"
   },
   {
    "duration": 46,
    "start_time": "2024-11-04T13:05:20.126Z"
   },
   {
    "duration": 20,
    "start_time": "2024-11-04T13:05:20.173Z"
   },
   {
    "duration": 37,
    "start_time": "2024-11-04T13:05:20.195Z"
   },
   {
    "duration": 35,
    "start_time": "2024-11-04T13:05:20.234Z"
   },
   {
    "duration": 52,
    "start_time": "2024-11-04T13:05:20.270Z"
   },
   {
    "duration": 37,
    "start_time": "2024-11-04T13:05:20.324Z"
   },
   {
    "duration": 76,
    "start_time": "2024-11-04T13:05:20.363Z"
   },
   {
    "duration": 129,
    "start_time": "2024-11-04T13:05:20.440Z"
   },
   {
    "duration": 748,
    "start_time": "2024-11-04T13:05:20.571Z"
   },
   {
    "duration": 105,
    "start_time": "2024-11-04T13:05:21.321Z"
   },
   {
    "duration": 24,
    "start_time": "2024-11-04T13:05:21.427Z"
   },
   {
    "duration": 23,
    "start_time": "2024-11-04T13:05:21.452Z"
   },
   {
    "duration": 38,
    "start_time": "2024-11-04T13:05:21.477Z"
   },
   {
    "duration": 20,
    "start_time": "2024-11-04T13:05:21.518Z"
   },
   {
    "duration": 23,
    "start_time": "2024-11-04T13:05:21.539Z"
   },
   {
    "duration": 115,
    "start_time": "2024-11-04T13:05:21.563Z"
   },
   {
    "duration": 375,
    "start_time": "2024-11-04T13:05:21.680Z"
   },
   {
    "duration": 440,
    "start_time": "2024-11-04T13:05:22.057Z"
   },
   {
    "duration": 128,
    "start_time": "2024-11-04T13:05:22.499Z"
   },
   {
    "duration": 3650,
    "start_time": "2024-11-05T05:09:36.737Z"
   },
   {
    "duration": 1369,
    "start_time": "2024-11-05T05:09:40.390Z"
   },
   {
    "duration": 2898,
    "start_time": "2024-11-05T05:09:41.761Z"
   },
   {
    "duration": 112,
    "start_time": "2024-11-05T05:09:44.661Z"
   },
   {
    "duration": 21,
    "start_time": "2024-11-05T05:09:44.774Z"
   },
   {
    "duration": 127,
    "start_time": "2024-11-05T05:09:44.796Z"
   },
   {
    "duration": 31,
    "start_time": "2024-11-05T05:09:44.924Z"
   },
   {
    "duration": 4,
    "start_time": "2024-11-05T05:09:44.956Z"
   },
   {
    "duration": 63,
    "start_time": "2024-11-05T05:09:44.961Z"
   },
   {
    "duration": 114,
    "start_time": "2024-11-05T05:09:45.027Z"
   },
   {
    "duration": 112,
    "start_time": "2024-11-05T05:09:45.142Z"
   },
   {
    "duration": 22,
    "start_time": "2024-11-05T05:09:45.256Z"
   },
   {
    "duration": 38,
    "start_time": "2024-11-05T05:09:45.280Z"
   },
   {
    "duration": 34,
    "start_time": "2024-11-05T05:09:45.319Z"
   },
   {
    "duration": 36,
    "start_time": "2024-11-05T05:09:45.355Z"
   },
   {
    "duration": 20,
    "start_time": "2024-11-05T05:09:45.392Z"
   },
   {
    "duration": 40,
    "start_time": "2024-11-05T05:09:45.413Z"
   },
   {
    "duration": 18,
    "start_time": "2024-11-05T05:09:45.454Z"
   },
   {
    "duration": 30,
    "start_time": "2024-11-05T05:09:45.474Z"
   },
   {
    "duration": 18,
    "start_time": "2024-11-05T05:09:45.506Z"
   },
   {
    "duration": 38,
    "start_time": "2024-11-05T05:09:45.525Z"
   },
   {
    "duration": 114,
    "start_time": "2024-11-05T05:09:45.565Z"
   },
   {
    "duration": 752,
    "start_time": "2024-11-05T05:09:45.680Z"
   },
   {
    "duration": 91,
    "start_time": "2024-11-05T05:09:46.434Z"
   },
   {
    "duration": 22,
    "start_time": "2024-11-05T05:09:46.527Z"
   },
   {
    "duration": 18,
    "start_time": "2024-11-05T05:09:46.551Z"
   },
   {
    "duration": 17,
    "start_time": "2024-11-05T05:09:46.570Z"
   },
   {
    "duration": 39,
    "start_time": "2024-11-05T05:09:46.590Z"
   },
   {
    "duration": 11,
    "start_time": "2024-11-05T05:09:46.630Z"
   },
   {
    "duration": 115,
    "start_time": "2024-11-05T05:09:46.642Z"
   },
   {
    "duration": 443,
    "start_time": "2024-11-05T05:09:46.759Z"
   },
   {
    "duration": 400,
    "start_time": "2024-11-05T05:09:47.203Z"
   },
   {
    "duration": 112,
    "start_time": "2024-11-05T05:09:47.605Z"
   },
   {
    "duration": 8,
    "start_time": "2024-11-05T05:10:47.634Z"
   },
   {
    "duration": 654,
    "start_time": "2024-11-05T05:11:01.169Z"
   },
   {
    "duration": 8,
    "start_time": "2024-11-05T05:11:10.721Z"
   },
   {
    "duration": 6,
    "start_time": "2024-11-05T05:11:20.369Z"
   },
   {
    "duration": 7,
    "start_time": "2024-11-05T05:11:45.305Z"
   },
   {
    "duration": 6,
    "start_time": "2024-11-05T05:17:11.158Z"
   },
   {
    "duration": 2633,
    "start_time": "2024-11-05T05:17:57.838Z"
   },
   {
    "duration": 1079,
    "start_time": "2024-11-05T05:18:00.473Z"
   },
   {
    "duration": 767,
    "start_time": "2024-11-05T05:18:01.553Z"
   },
   {
    "duration": 119,
    "start_time": "2024-11-05T05:18:02.322Z"
   },
   {
    "duration": 21,
    "start_time": "2024-11-05T05:18:02.442Z"
   },
   {
    "duration": 124,
    "start_time": "2024-11-05T05:18:02.465Z"
   },
   {
    "duration": 32,
    "start_time": "2024-11-05T05:18:02.590Z"
   },
   {
    "duration": 4,
    "start_time": "2024-11-05T05:18:02.624Z"
   },
   {
    "duration": 76,
    "start_time": "2024-11-05T05:18:02.629Z"
   },
   {
    "duration": 113,
    "start_time": "2024-11-05T05:18:02.708Z"
   },
   {
    "duration": 114,
    "start_time": "2024-11-05T05:18:02.822Z"
   },
   {
    "duration": 18,
    "start_time": "2024-11-05T05:18:02.937Z"
   },
   {
    "duration": 34,
    "start_time": "2024-11-05T05:18:02.956Z"
   },
   {
    "duration": 32,
    "start_time": "2024-11-05T05:18:02.991Z"
   },
   {
    "duration": 53,
    "start_time": "2024-11-05T05:18:03.025Z"
   },
   {
    "duration": 45,
    "start_time": "2024-11-05T05:18:03.080Z"
   },
   {
    "duration": 27,
    "start_time": "2024-11-05T05:18:03.127Z"
   },
   {
    "duration": 27,
    "start_time": "2024-11-05T05:18:03.155Z"
   },
   {
    "duration": 34,
    "start_time": "2024-11-05T05:18:03.184Z"
   },
   {
    "duration": 23,
    "start_time": "2024-11-05T05:18:03.219Z"
   },
   {
    "duration": 39,
    "start_time": "2024-11-05T05:18:03.243Z"
   },
   {
    "duration": 104,
    "start_time": "2024-11-05T05:18:03.283Z"
   },
   {
    "duration": 733,
    "start_time": "2024-11-05T05:18:03.389Z"
   },
   {
    "duration": 97,
    "start_time": "2024-11-05T05:18:04.124Z"
   },
   {
    "duration": 25,
    "start_time": "2024-11-05T05:18:04.222Z"
   },
   {
    "duration": 19,
    "start_time": "2024-11-05T05:18:04.249Z"
   },
   {
    "duration": 21,
    "start_time": "2024-11-05T05:18:04.270Z"
   },
   {
    "duration": 21,
    "start_time": "2024-11-05T05:18:04.314Z"
   },
   {
    "duration": 6,
    "start_time": "2024-11-05T05:18:04.337Z"
   },
   {
    "duration": 109,
    "start_time": "2024-11-05T05:18:04.345Z"
   },
   {
    "duration": 358,
    "start_time": "2024-11-05T05:18:04.455Z"
   },
   {
    "duration": 436,
    "start_time": "2024-11-05T05:18:04.815Z"
   },
   {
    "duration": 131,
    "start_time": "2024-11-05T05:18:05.253Z"
   },
   {
    "duration": 2601,
    "start_time": "2024-11-05T05:21:14.218Z"
   },
   {
    "duration": 3,
    "start_time": "2024-11-05T05:21:16.821Z"
   },
   {
    "duration": 788,
    "start_time": "2024-11-05T05:21:16.826Z"
   },
   {
    "duration": 115,
    "start_time": "2024-11-05T05:21:17.616Z"
   },
   {
    "duration": 19,
    "start_time": "2024-11-05T05:21:17.733Z"
   },
   {
    "duration": 113,
    "start_time": "2024-11-05T05:21:17.753Z"
   },
   {
    "duration": 27,
    "start_time": "2024-11-05T05:21:17.868Z"
   },
   {
    "duration": 16,
    "start_time": "2024-11-05T05:21:17.897Z"
   },
   {
    "duration": 55,
    "start_time": "2024-11-05T05:21:17.914Z"
   },
   {
    "duration": 116,
    "start_time": "2024-11-05T05:21:17.971Z"
   },
   {
    "duration": 128,
    "start_time": "2024-11-05T05:21:18.088Z"
   },
   {
    "duration": 34,
    "start_time": "2024-11-05T05:21:18.218Z"
   },
   {
    "duration": 23,
    "start_time": "2024-11-05T05:21:18.254Z"
   },
   {
    "duration": 33,
    "start_time": "2024-11-05T05:21:18.279Z"
   },
   {
    "duration": 31,
    "start_time": "2024-11-05T05:21:18.314Z"
   },
   {
    "duration": 19,
    "start_time": "2024-11-05T05:21:18.346Z"
   },
   {
    "duration": 16,
    "start_time": "2024-11-05T05:21:18.367Z"
   },
   {
    "duration": 35,
    "start_time": "2024-11-05T05:21:18.384Z"
   },
   {
    "duration": 42,
    "start_time": "2024-11-05T05:21:18.421Z"
   },
   {
    "duration": 28,
    "start_time": "2024-11-05T05:21:18.464Z"
   },
   {
    "duration": 36,
    "start_time": "2024-11-05T05:21:18.494Z"
   },
   {
    "duration": 102,
    "start_time": "2024-11-05T05:21:18.532Z"
   },
   {
    "duration": 749,
    "start_time": "2024-11-05T05:21:18.636Z"
   },
   {
    "duration": 94,
    "start_time": "2024-11-05T05:21:19.387Z"
   },
   {
    "duration": 14,
    "start_time": "2024-11-05T05:21:19.482Z"
   },
   {
    "duration": 19,
    "start_time": "2024-11-05T05:21:38.167Z"
   },
   {
    "duration": 17,
    "start_time": "2024-11-05T05:21:50.831Z"
   },
   {
    "duration": 15,
    "start_time": "2024-11-05T05:34:21.704Z"
   },
   {
    "duration": 21,
    "start_time": "2024-11-05T05:34:23.976Z"
   },
   {
    "duration": 831,
    "start_time": "2024-11-05T05:45:48.221Z"
   },
   {
    "duration": 316,
    "start_time": "2024-11-05T06:23:57.202Z"
   },
   {
    "duration": 356,
    "start_time": "2024-11-05T06:23:59.162Z"
   },
   {
    "duration": 98,
    "start_time": "2024-11-05T06:24:04.434Z"
   },
   {
    "duration": 22,
    "start_time": "2024-11-05T06:30:29.087Z"
   },
   {
    "duration": 12,
    "start_time": "2024-11-05T06:34:17.141Z"
   },
   {
    "duration": 409,
    "start_time": "2024-11-05T06:34:23.796Z"
   },
   {
    "duration": 69,
    "start_time": "2024-11-05T06:54:45.144Z"
   },
   {
    "duration": 109,
    "start_time": "2024-11-05T06:56:01.519Z"
   },
   {
    "duration": 30,
    "start_time": "2024-11-05T06:56:15.807Z"
   },
   {
    "duration": 18,
    "start_time": "2024-11-05T06:56:19.519Z"
   },
   {
    "duration": 2543,
    "start_time": "2024-11-05T06:57:07.143Z"
   },
   {
    "duration": 297,
    "start_time": "2024-11-05T06:57:25.407Z"
   },
   {
    "duration": 1041,
    "start_time": "2024-11-05T07:00:13.949Z"
   },
   {
    "duration": 2551,
    "start_time": "2024-11-05T07:01:37.825Z"
   },
   {
    "duration": 1326,
    "start_time": "2024-11-05T07:01:40.378Z"
   },
   {
    "duration": 733,
    "start_time": "2024-11-05T07:01:41.705Z"
   },
   {
    "duration": 119,
    "start_time": "2024-11-05T07:01:42.440Z"
   },
   {
    "duration": 22,
    "start_time": "2024-11-05T07:01:42.561Z"
   },
   {
    "duration": 112,
    "start_time": "2024-11-05T07:01:42.585Z"
   },
   {
    "duration": 36,
    "start_time": "2024-11-05T07:01:42.699Z"
   },
   {
    "duration": 4,
    "start_time": "2024-11-05T07:01:42.738Z"
   },
   {
    "duration": 69,
    "start_time": "2024-11-05T07:01:42.743Z"
   },
   {
    "duration": 118,
    "start_time": "2024-11-05T07:01:42.814Z"
   },
   {
    "duration": 123,
    "start_time": "2024-11-05T07:01:42.933Z"
   },
   {
    "duration": 21,
    "start_time": "2024-11-05T07:01:43.058Z"
   },
   {
    "duration": 24,
    "start_time": "2024-11-05T07:01:43.081Z"
   },
   {
    "duration": 29,
    "start_time": "2024-11-05T07:01:43.107Z"
   },
   {
    "duration": 45,
    "start_time": "2024-11-05T07:01:43.137Z"
   },
   {
    "duration": 22,
    "start_time": "2024-11-05T07:01:43.183Z"
   },
   {
    "duration": 18,
    "start_time": "2024-11-05T07:01:43.206Z"
   },
   {
    "duration": 26,
    "start_time": "2024-11-05T07:01:43.225Z"
   },
   {
    "duration": 37,
    "start_time": "2024-11-05T07:01:43.252Z"
   },
   {
    "duration": 21,
    "start_time": "2024-11-05T07:01:43.291Z"
   },
   {
    "duration": 29,
    "start_time": "2024-11-05T07:01:43.314Z"
   },
   {
    "duration": 112,
    "start_time": "2024-11-05T07:01:43.344Z"
   },
   {
    "duration": 707,
    "start_time": "2024-11-05T07:01:43.457Z"
   },
   {
    "duration": 102,
    "start_time": "2024-11-05T07:01:44.166Z"
   },
   {
    "duration": 15,
    "start_time": "2024-11-05T07:01:44.269Z"
   },
   {
    "duration": 35,
    "start_time": "2024-11-05T07:01:44.285Z"
   },
   {
    "duration": 20,
    "start_time": "2024-11-05T07:01:44.322Z"
   },
   {
    "duration": 20,
    "start_time": "2024-11-05T07:01:44.357Z"
   },
   {
    "duration": 115,
    "start_time": "2024-11-05T07:01:44.378Z"
   },
   {
    "duration": 339,
    "start_time": "2024-11-05T07:01:44.494Z"
   },
   {
    "duration": 398,
    "start_time": "2024-11-05T07:01:44.834Z"
   },
   {
    "duration": 106,
    "start_time": "2024-11-05T07:01:45.233Z"
   },
   {
    "duration": 2601,
    "start_time": "2024-11-05T07:08:59.693Z"
   },
   {
    "duration": 1316,
    "start_time": "2024-11-05T07:09:02.296Z"
   },
   {
    "duration": 2812,
    "start_time": "2024-11-05T07:09:03.614Z"
   },
   {
    "duration": 112,
    "start_time": "2024-11-05T07:09:06.428Z"
   },
   {
    "duration": 21,
    "start_time": "2024-11-05T07:09:06.542Z"
   },
   {
    "duration": 119,
    "start_time": "2024-11-05T07:09:06.565Z"
   },
   {
    "duration": 35,
    "start_time": "2024-11-05T07:09:06.686Z"
   },
   {
    "duration": 4,
    "start_time": "2024-11-05T07:09:06.723Z"
   },
   {
    "duration": 88,
    "start_time": "2024-11-05T07:09:06.729Z"
   },
   {
    "duration": 127,
    "start_time": "2024-11-05T07:09:06.820Z"
   },
   {
    "duration": 150,
    "start_time": "2024-11-05T07:09:06.949Z"
   },
   {
    "duration": 26,
    "start_time": "2024-11-05T07:09:07.101Z"
   },
   {
    "duration": 26,
    "start_time": "2024-11-05T07:09:07.129Z"
   },
   {
    "duration": 37,
    "start_time": "2024-11-05T07:09:07.156Z"
   },
   {
    "duration": 32,
    "start_time": "2024-11-05T07:09:07.194Z"
   },
   {
    "duration": 35,
    "start_time": "2024-11-05T07:09:07.227Z"
   },
   {
    "duration": 28,
    "start_time": "2024-11-05T07:09:07.263Z"
   },
   {
    "duration": 22,
    "start_time": "2024-11-05T07:09:07.292Z"
   },
   {
    "duration": 29,
    "start_time": "2024-11-05T07:09:07.315Z"
   },
   {
    "duration": 42,
    "start_time": "2024-11-05T07:09:07.346Z"
   },
   {
    "duration": 37,
    "start_time": "2024-11-05T07:09:07.390Z"
   },
   {
    "duration": 119,
    "start_time": "2024-11-05T07:09:07.428Z"
   },
   {
    "duration": 736,
    "start_time": "2024-11-05T07:09:07.549Z"
   },
   {
    "duration": 92,
    "start_time": "2024-11-05T07:09:08.286Z"
   },
   {
    "duration": 14,
    "start_time": "2024-11-05T07:09:08.379Z"
   },
   {
    "duration": 29,
    "start_time": "2024-11-05T07:09:08.394Z"
   },
   {
    "duration": 18,
    "start_time": "2024-11-05T07:09:08.425Z"
   },
   {
    "duration": 19,
    "start_time": "2024-11-05T07:09:08.446Z"
   },
   {
    "duration": 116,
    "start_time": "2024-11-05T07:09:08.466Z"
   },
   {
    "duration": 375,
    "start_time": "2024-11-05T07:09:08.583Z"
   },
   {
    "duration": 400,
    "start_time": "2024-11-05T07:09:08.960Z"
   },
   {
    "duration": 107,
    "start_time": "2024-11-05T07:09:09.361Z"
   },
   {
    "duration": 108,
    "start_time": "2024-11-05T07:09:09.469Z"
   },
   {
    "duration": 0,
    "start_time": "2024-11-05T07:09:09.578Z"
   },
   {
    "duration": 0,
    "start_time": "2024-11-05T07:09:09.579Z"
   },
   {
    "duration": 0,
    "start_time": "2024-11-05T07:09:09.580Z"
   },
   {
    "duration": 0,
    "start_time": "2024-11-05T07:09:09.581Z"
   },
   {
    "duration": 114,
    "start_time": "2024-11-05T07:09:42.327Z"
   },
   {
    "duration": 31823,
    "start_time": "2024-11-05T07:09:49.927Z"
   },
   {
    "duration": 303,
    "start_time": "2024-11-05T07:11:41.790Z"
   },
   {
    "duration": 350,
    "start_time": "2024-11-05T07:12:24.365Z"
   },
   {
    "duration": 586,
    "start_time": "2024-11-05T07:13:10.948Z"
   },
   {
    "duration": 548,
    "start_time": "2024-11-05T07:13:59.668Z"
   },
   {
    "duration": 375,
    "start_time": "2024-11-05T07:14:44.340Z"
   },
   {
    "duration": 567,
    "start_time": "2024-11-05T07:14:54.100Z"
   },
   {
    "duration": 24,
    "start_time": "2024-11-05T07:17:26.066Z"
   },
   {
    "duration": 19,
    "start_time": "2024-11-05T07:17:33.041Z"
   },
   {
    "duration": 12,
    "start_time": "2024-11-05T07:30:58.290Z"
   },
   {
    "duration": 3,
    "start_time": "2024-11-05T07:31:02.785Z"
   },
   {
    "duration": 83,
    "start_time": "2024-11-05T07:31:06.241Z"
   },
   {
    "duration": 5,
    "start_time": "2024-11-05T07:31:09.008Z"
   },
   {
    "duration": 172,
    "start_time": "2024-11-05T07:31:12.409Z"
   },
   {
    "duration": 1107,
    "start_time": "2024-11-09T07:56:15.675Z"
   },
   {
    "duration": 2847,
    "start_time": "2024-11-09T07:56:16.784Z"
   },
   {
    "duration": 149,
    "start_time": "2024-11-09T07:56:19.632Z"
   },
   {
    "duration": 46,
    "start_time": "2024-11-09T07:56:19.783Z"
   },
   {
    "duration": 154,
    "start_time": "2024-11-09T07:56:19.830Z"
   },
   {
    "duration": 49,
    "start_time": "2024-11-09T07:56:19.986Z"
   },
   {
    "duration": 5,
    "start_time": "2024-11-09T07:56:20.036Z"
   },
   {
    "duration": 82,
    "start_time": "2024-11-09T07:56:20.043Z"
   },
   {
    "duration": 150,
    "start_time": "2024-11-09T07:56:20.127Z"
   },
   {
    "duration": 163,
    "start_time": "2024-11-09T07:56:20.281Z"
   },
   {
    "duration": 23,
    "start_time": "2024-11-09T07:56:20.446Z"
   },
   {
    "duration": 46,
    "start_time": "2024-11-09T07:56:20.470Z"
   },
   {
    "duration": 24,
    "start_time": "2024-11-09T07:56:20.517Z"
   },
   {
    "duration": 39,
    "start_time": "2024-11-09T07:56:20.543Z"
   },
   {
    "duration": 40,
    "start_time": "2024-11-09T07:56:20.583Z"
   },
   {
    "duration": 20,
    "start_time": "2024-11-09T07:56:20.625Z"
   },
   {
    "duration": 23,
    "start_time": "2024-11-09T07:56:20.646Z"
   },
   {
    "duration": 59,
    "start_time": "2024-11-09T07:56:20.671Z"
   },
   {
    "duration": 23,
    "start_time": "2024-11-09T07:56:20.732Z"
   },
   {
    "duration": 42,
    "start_time": "2024-11-09T07:56:20.757Z"
   },
   {
    "duration": 155,
    "start_time": "2024-11-09T07:56:20.800Z"
   },
   {
    "duration": 1240,
    "start_time": "2024-11-09T07:56:20.957Z"
   },
   {
    "duration": 94,
    "start_time": "2024-11-09T07:56:22.199Z"
   },
   {
    "duration": 25,
    "start_time": "2024-11-09T07:56:22.294Z"
   },
   {
    "duration": 20,
    "start_time": "2024-11-09T07:56:22.320Z"
   },
   {
    "duration": 20,
    "start_time": "2024-11-09T07:56:22.342Z"
   },
   {
    "duration": 20,
    "start_time": "2024-11-09T07:56:22.363Z"
   },
   {
    "duration": 116,
    "start_time": "2024-11-09T07:56:22.387Z"
   },
   {
    "duration": 419,
    "start_time": "2024-11-09T07:56:22.504Z"
   },
   {
    "duration": 494,
    "start_time": "2024-11-09T07:56:22.925Z"
   },
   {
    "duration": 168,
    "start_time": "2024-11-09T07:56:23.421Z"
   },
   {
    "duration": 140,
    "start_time": "2024-11-09T07:56:23.591Z"
   },
   {
    "duration": 0,
    "start_time": "2024-11-09T07:56:23.733Z"
   },
   {
    "duration": 0,
    "start_time": "2024-11-09T07:56:23.821Z"
   },
   {
    "duration": 0,
    "start_time": "2024-11-09T07:56:23.823Z"
   },
   {
    "duration": 0,
    "start_time": "2024-11-09T07:56:23.824Z"
   },
   {
    "duration": 462,
    "start_time": "2024-11-09T10:21:04.985Z"
   },
   {
    "duration": 505,
    "start_time": "2024-11-09T10:21:14.130Z"
   },
   {
    "duration": 443,
    "start_time": "2024-11-09T10:21:17.713Z"
   },
   {
    "duration": 142,
    "start_time": "2024-11-09T10:21:24.632Z"
   },
   {
    "duration": 77,
    "start_time": "2024-11-09T10:22:16.648Z"
   },
   {
    "duration": 3,
    "start_time": "2024-11-09T10:28:09.203Z"
   },
   {
    "duration": 3,
    "start_time": "2024-11-09T10:28:21.628Z"
   },
   {
    "duration": 689,
    "start_time": "2024-11-09T10:30:02.307Z"
   },
   {
    "duration": 3,
    "start_time": "2024-11-09T10:37:25.688Z"
   },
   {
    "duration": 20,
    "start_time": "2024-11-09T10:38:07.318Z"
   },
   {
    "duration": 43,
    "start_time": "2024-11-09T10:38:14.893Z"
   },
   {
    "duration": 179,
    "start_time": "2024-11-09T10:38:16.805Z"
   },
   {
    "duration": 189,
    "start_time": "2024-11-09T10:38:22.477Z"
   },
   {
    "duration": 4,
    "start_time": "2024-11-09T10:39:51.038Z"
   },
   {
    "duration": 183,
    "start_time": "2024-11-09T10:44:19.364Z"
   },
   {
    "duration": 205,
    "start_time": "2024-11-09T10:44:58.947Z"
   },
   {
    "duration": 55,
    "start_time": "2024-11-09T10:53:27.007Z"
   },
   {
    "duration": 3,
    "start_time": "2024-11-09T10:58:05.428Z"
   },
   {
    "duration": 28,
    "start_time": "2024-11-09T11:02:58.104Z"
   },
   {
    "duration": 39,
    "start_time": "2024-11-09T11:07:47.430Z"
   },
   {
    "duration": 4,
    "start_time": "2024-11-09T11:08:46.508Z"
   },
   {
    "duration": 42,
    "start_time": "2024-11-09T11:08:55.044Z"
   },
   {
    "duration": 193,
    "start_time": "2024-11-09T11:08:56.804Z"
   },
   {
    "duration": 1799,
    "start_time": "2024-11-09T11:08:59.996Z"
   },
   {
    "duration": 4478,
    "start_time": "2024-11-09T11:09:19.396Z"
   },
   {
    "duration": 12,
    "start_time": "2024-11-09T11:11:21.883Z"
   },
   {
    "duration": 1482,
    "start_time": "2024-11-09T11:11:57.328Z"
   },
   {
    "duration": 949,
    "start_time": "2024-11-09T11:11:58.812Z"
   },
   {
    "duration": 168,
    "start_time": "2024-11-09T11:11:59.763Z"
   },
   {
    "duration": 26,
    "start_time": "2024-11-09T11:11:59.933Z"
   },
   {
    "duration": 159,
    "start_time": "2024-11-09T11:11:59.961Z"
   },
   {
    "duration": 49,
    "start_time": "2024-11-09T11:12:00.122Z"
   },
   {
    "duration": 4,
    "start_time": "2024-11-09T11:12:00.173Z"
   },
   {
    "duration": 67,
    "start_time": "2024-11-09T11:12:00.178Z"
   },
   {
    "duration": 148,
    "start_time": "2024-11-09T11:12:00.246Z"
   },
   {
    "duration": 157,
    "start_time": "2024-11-09T11:12:00.397Z"
   },
   {
    "duration": 22,
    "start_time": "2024-11-09T11:12:00.556Z"
   },
   {
    "duration": 24,
    "start_time": "2024-11-09T11:12:00.580Z"
   },
   {
    "duration": 21,
    "start_time": "2024-11-09T11:12:00.618Z"
   },
   {
    "duration": 44,
    "start_time": "2024-11-09T11:12:00.641Z"
   },
   {
    "duration": 36,
    "start_time": "2024-11-09T11:12:00.687Z"
   },
   {
    "duration": 54,
    "start_time": "2024-11-09T11:12:00.725Z"
   },
   {
    "duration": 41,
    "start_time": "2024-11-09T11:12:00.781Z"
   },
   {
    "duration": 43,
    "start_time": "2024-11-09T11:12:00.824Z"
   },
   {
    "duration": 37,
    "start_time": "2024-11-09T11:12:00.868Z"
   },
   {
    "duration": 53,
    "start_time": "2024-11-09T11:12:00.906Z"
   },
   {
    "duration": 150,
    "start_time": "2024-11-09T11:12:00.961Z"
   },
   {
    "duration": 862,
    "start_time": "2024-11-09T11:12:01.118Z"
   },
   {
    "duration": 94,
    "start_time": "2024-11-09T11:12:01.982Z"
   },
   {
    "duration": 15,
    "start_time": "2024-11-09T11:12:02.078Z"
   },
   {
    "duration": 33,
    "start_time": "2024-11-09T11:12:02.095Z"
   },
   {
    "duration": 18,
    "start_time": "2024-11-09T11:12:02.129Z"
   },
   {
    "duration": 26,
    "start_time": "2024-11-09T11:12:02.148Z"
   },
   {
    "duration": 107,
    "start_time": "2024-11-09T11:12:02.178Z"
   },
   {
    "duration": 433,
    "start_time": "2024-11-09T11:12:02.287Z"
   },
   {
    "duration": 526,
    "start_time": "2024-11-09T11:12:02.722Z"
   },
   {
    "duration": 155,
    "start_time": "2024-11-09T11:12:03.250Z"
   },
   {
    "duration": 725,
    "start_time": "2024-11-09T11:12:03.407Z"
   },
   {
    "duration": 28,
    "start_time": "2024-11-09T11:12:04.134Z"
   },
   {
    "duration": 176,
    "start_time": "2024-11-09T11:12:04.164Z"
   },
   {
    "duration": 24,
    "start_time": "2024-11-09T11:12:04.342Z"
   },
   {
    "duration": 4618,
    "start_time": "2024-11-09T11:12:04.368Z"
   },
   {
    "duration": 130,
    "start_time": "2024-11-09T11:12:08.988Z"
   },
   {
    "duration": 0,
    "start_time": "2024-11-09T11:12:09.120Z"
   },
   {
    "duration": 0,
    "start_time": "2024-11-09T11:12:09.122Z"
   },
   {
    "duration": 0,
    "start_time": "2024-11-09T11:12:09.123Z"
   },
   {
    "duration": 19622,
    "start_time": "2024-11-09T11:14:14.734Z"
   },
   {
    "duration": 65,
    "start_time": "2024-11-09T11:17:25.516Z"
   },
   {
    "duration": 5,
    "start_time": "2024-11-09T11:17:30.994Z"
   },
   {
    "duration": 3,
    "start_time": "2024-11-09T11:20:22.749Z"
   },
   {
    "duration": 33061,
    "start_time": "2024-11-09T11:20:25.124Z"
   },
   {
    "duration": 31874,
    "start_time": "2024-11-09T11:21:33.420Z"
   },
   {
    "duration": 9,
    "start_time": "2024-11-09T11:23:13.243Z"
   },
   {
    "duration": 242,
    "start_time": "2024-11-09T11:23:26.779Z"
   },
   {
    "duration": 5,
    "start_time": "2024-11-09T11:23:52.842Z"
   },
   {
    "duration": 33017,
    "start_time": "2024-11-09T11:25:20.594Z"
   },
   {
    "duration": 3,
    "start_time": "2024-11-09T11:31:46.254Z"
   },
   {
    "duration": 27917,
    "start_time": "2024-11-09T11:31:48.245Z"
   },
   {
    "duration": 82,
    "start_time": "2024-11-09T11:33:13.037Z"
   },
   {
    "duration": 5,
    "start_time": "2024-11-09T11:34:44.956Z"
   },
   {
    "duration": 4,
    "start_time": "2024-11-09T11:35:13.164Z"
   },
   {
    "duration": 3,
    "start_time": "2024-11-09T11:40:39.385Z"
   },
   {
    "duration": 11105,
    "start_time": "2024-11-09T11:42:40.023Z"
   },
   {
    "duration": 1099,
    "start_time": "2024-11-09T11:44:36.047Z"
   },
   {
    "duration": 5,
    "start_time": "2024-11-09T11:45:04.461Z"
   },
   {
    "duration": 3,
    "start_time": "2024-11-09T11:45:18.101Z"
   },
   {
    "duration": 11022,
    "start_time": "2024-11-09T11:45:20.397Z"
   },
   {
    "duration": 1113,
    "start_time": "2024-11-09T11:45:34.606Z"
   },
   {
    "duration": 5,
    "start_time": "2024-11-09T11:45:38.517Z"
   },
   {
    "duration": 1414,
    "start_time": "2024-11-09T11:56:49.845Z"
   },
   {
    "duration": 897,
    "start_time": "2024-11-09T11:56:51.261Z"
   },
   {
    "duration": 159,
    "start_time": "2024-11-09T11:56:52.160Z"
   },
   {
    "duration": 25,
    "start_time": "2024-11-09T11:56:52.322Z"
   },
   {
    "duration": 154,
    "start_time": "2024-11-09T11:56:52.349Z"
   },
   {
    "duration": 45,
    "start_time": "2024-11-09T11:56:52.505Z"
   },
   {
    "duration": 4,
    "start_time": "2024-11-09T11:56:52.551Z"
   },
   {
    "duration": 70,
    "start_time": "2024-11-09T11:56:52.557Z"
   },
   {
    "duration": 144,
    "start_time": "2024-11-09T11:56:52.629Z"
   },
   {
    "duration": 169,
    "start_time": "2024-11-09T11:56:52.776Z"
   },
   {
    "duration": 25,
    "start_time": "2024-11-09T11:56:52.947Z"
   },
   {
    "duration": 98,
    "start_time": "2024-11-09T11:56:52.973Z"
   },
   {
    "duration": 45,
    "start_time": "2024-11-09T11:56:53.072Z"
   },
   {
    "duration": 57,
    "start_time": "2024-11-09T11:56:53.119Z"
   },
   {
    "duration": 29,
    "start_time": "2024-11-09T11:56:53.178Z"
   },
   {
    "duration": 21,
    "start_time": "2024-11-09T11:56:53.208Z"
   },
   {
    "duration": 29,
    "start_time": "2024-11-09T11:56:53.230Z"
   },
   {
    "duration": 69,
    "start_time": "2024-11-09T11:56:53.261Z"
   },
   {
    "duration": 23,
    "start_time": "2024-11-09T11:56:53.331Z"
   },
   {
    "duration": 39,
    "start_time": "2024-11-09T11:56:53.356Z"
   },
   {
    "duration": 151,
    "start_time": "2024-11-09T11:56:53.397Z"
   },
   {
    "duration": 881,
    "start_time": "2024-11-09T11:56:53.550Z"
   },
   {
    "duration": 107,
    "start_time": "2024-11-09T11:56:54.433Z"
   },
   {
    "duration": 17,
    "start_time": "2024-11-09T11:56:54.542Z"
   },
   {
    "duration": 20,
    "start_time": "2024-11-09T11:56:54.560Z"
   },
   {
    "duration": 37,
    "start_time": "2024-11-09T11:56:54.581Z"
   },
   {
    "duration": 22,
    "start_time": "2024-11-09T11:56:54.619Z"
   },
   {
    "duration": 111,
    "start_time": "2024-11-09T11:56:54.644Z"
   },
   {
    "duration": 401,
    "start_time": "2024-11-09T11:56:54.757Z"
   },
   {
    "duration": 459,
    "start_time": "2024-11-09T11:56:55.159Z"
   },
   {
    "duration": 155,
    "start_time": "2024-11-09T11:56:55.620Z"
   },
   {
    "duration": 758,
    "start_time": "2024-11-09T11:56:55.776Z"
   },
   {
    "duration": 35,
    "start_time": "2024-11-09T11:56:56.536Z"
   },
   {
    "duration": 172,
    "start_time": "2024-11-09T11:56:56.573Z"
   },
   {
    "duration": 5026,
    "start_time": "2024-11-09T11:56:56.747Z"
   },
   {
    "duration": 2,
    "start_time": "2024-11-09T11:57:01.775Z"
   },
   {
    "duration": 26392,
    "start_time": "2024-11-09T11:57:01.779Z"
   },
   {
    "duration": 246,
    "start_time": "2024-11-09T11:57:28.173Z"
   },
   {
    "duration": 97,
    "start_time": "2024-11-09T11:57:28.421Z"
   },
   {
    "duration": 2,
    "start_time": "2024-11-09T11:57:28.520Z"
   },
   {
    "duration": 3,
    "start_time": "2024-11-09T11:57:28.524Z"
   },
   {
    "duration": 5698,
    "start_time": "2024-11-09T11:57:28.528Z"
   },
   {
    "duration": 395,
    "start_time": "2024-11-09T11:57:34.228Z"
   },
   {
    "duration": 4,
    "start_time": "2024-11-09T11:57:34.624Z"
   },
   {
    "duration": 136,
    "start_time": "2024-11-09T11:57:34.630Z"
   },
   {
    "duration": 3,
    "start_time": "2024-11-09T12:02:22.611Z"
   },
   {
    "duration": 2680,
    "start_time": "2024-11-09T12:02:27.547Z"
   },
   {
    "duration": 322,
    "start_time": "2024-11-09T12:02:48.003Z"
   },
   {
    "duration": 4,
    "start_time": "2024-11-09T12:02:50.779Z"
   },
   {
    "duration": 1383,
    "start_time": "2024-11-09T12:14:44.360Z"
   },
   {
    "duration": 925,
    "start_time": "2024-11-09T12:14:45.745Z"
   },
   {
    "duration": 160,
    "start_time": "2024-11-09T12:14:46.671Z"
   },
   {
    "duration": 24,
    "start_time": "2024-11-09T12:14:46.833Z"
   },
   {
    "duration": 153,
    "start_time": "2024-11-09T12:14:46.859Z"
   },
   {
    "duration": 45,
    "start_time": "2024-11-09T12:14:47.013Z"
   },
   {
    "duration": 3,
    "start_time": "2024-11-09T12:14:47.060Z"
   },
   {
    "duration": 71,
    "start_time": "2024-11-09T12:14:47.065Z"
   },
   {
    "duration": 144,
    "start_time": "2024-11-09T12:14:47.138Z"
   },
   {
    "duration": 177,
    "start_time": "2024-11-09T12:14:47.285Z"
   },
   {
    "duration": 23,
    "start_time": "2024-11-09T12:14:47.464Z"
   },
   {
    "duration": 35,
    "start_time": "2024-11-09T12:14:47.489Z"
   },
   {
    "duration": 35,
    "start_time": "2024-11-09T12:14:47.526Z"
   },
   {
    "duration": 37,
    "start_time": "2024-11-09T12:14:47.563Z"
   },
   {
    "duration": 31,
    "start_time": "2024-11-09T12:14:47.601Z"
   },
   {
    "duration": 19,
    "start_time": "2024-11-09T12:14:47.634Z"
   },
   {
    "duration": 23,
    "start_time": "2024-11-09T12:14:47.655Z"
   },
   {
    "duration": 55,
    "start_time": "2024-11-09T12:14:47.680Z"
   },
   {
    "duration": 22,
    "start_time": "2024-11-09T12:14:47.736Z"
   },
   {
    "duration": 38,
    "start_time": "2024-11-09T12:14:47.760Z"
   },
   {
    "duration": 177,
    "start_time": "2024-11-09T12:14:47.800Z"
   },
   {
    "duration": 850,
    "start_time": "2024-11-09T12:14:47.979Z"
   },
   {
    "duration": 100,
    "start_time": "2024-11-09T12:14:48.830Z"
   },
   {
    "duration": 21,
    "start_time": "2024-11-09T12:14:48.931Z"
   },
   {
    "duration": 21,
    "start_time": "2024-11-09T12:14:48.954Z"
   },
   {
    "duration": 44,
    "start_time": "2024-11-09T12:14:48.977Z"
   },
   {
    "duration": 22,
    "start_time": "2024-11-09T12:14:49.023Z"
   },
   {
    "duration": 116,
    "start_time": "2024-11-09T12:14:49.048Z"
   },
   {
    "duration": 452,
    "start_time": "2024-11-09T12:14:49.166Z"
   },
   {
    "duration": 463,
    "start_time": "2024-11-09T12:14:49.620Z"
   },
   {
    "duration": 155,
    "start_time": "2024-11-09T12:14:50.085Z"
   },
   {
    "duration": 714,
    "start_time": "2024-11-09T12:14:50.241Z"
   },
   {
    "duration": 26,
    "start_time": "2024-11-09T12:14:50.956Z"
   },
   {
    "duration": 188,
    "start_time": "2024-11-09T12:14:50.984Z"
   },
   {
    "duration": 4896,
    "start_time": "2024-11-09T12:14:51.174Z"
   },
   {
    "duration": 3,
    "start_time": "2024-11-09T12:14:56.072Z"
   },
   {
    "duration": 8300,
    "start_time": "2024-11-09T12:14:56.077Z"
   },
   {
    "duration": 445,
    "start_time": "2024-11-09T12:15:04.378Z"
   },
   {
    "duration": 0,
    "start_time": "2024-11-09T12:15:04.825Z"
   },
   {
    "duration": 0,
    "start_time": "2024-11-09T12:15:04.826Z"
   },
   {
    "duration": 0,
    "start_time": "2024-11-09T12:15:04.827Z"
   },
   {
    "duration": 0,
    "start_time": "2024-11-09T12:15:04.828Z"
   },
   {
    "duration": 0,
    "start_time": "2024-11-09T12:15:04.829Z"
   },
   {
    "duration": 0,
    "start_time": "2024-11-09T12:15:04.830Z"
   },
   {
    "duration": 0,
    "start_time": "2024-11-09T12:15:04.832Z"
   },
   {
    "duration": 50,
    "start_time": "2024-11-09T12:15:59.174Z"
   },
   {
    "duration": 5,
    "start_time": "2024-11-09T12:16:02.430Z"
   },
   {
    "duration": 2,
    "start_time": "2024-11-09T12:16:10.695Z"
   },
   {
    "duration": 3,
    "start_time": "2024-11-09T12:16:11.958Z"
   },
   {
    "duration": 5507,
    "start_time": "2024-11-09T12:16:14.118Z"
   },
   {
    "duration": 412,
    "start_time": "2024-11-09T12:16:19.627Z"
   },
   {
    "duration": 4,
    "start_time": "2024-11-09T12:16:24.158Z"
   },
   {
    "duration": 12,
    "start_time": "2024-11-09T12:16:25.973Z"
   },
   {
    "duration": 10,
    "start_time": "2024-11-09T12:17:25.462Z"
   },
   {
    "duration": 11,
    "start_time": "2024-11-09T12:19:25.044Z"
   },
   {
    "duration": 4,
    "start_time": "2024-11-09T12:19:38.692Z"
   },
   {
    "duration": 11,
    "start_time": "2024-11-09T12:19:52.300Z"
   },
   {
    "duration": 4,
    "start_time": "2024-11-09T12:20:18.839Z"
   },
   {
    "duration": 6,
    "start_time": "2024-11-09T12:20:31.699Z"
   },
   {
    "duration": 5,
    "start_time": "2024-11-09T12:21:22.332Z"
   },
   {
    "duration": 3,
    "start_time": "2024-11-09T12:21:58.691Z"
   },
   {
    "duration": 38701,
    "start_time": "2024-11-09T12:22:00.491Z"
   },
   {
    "duration": 89,
    "start_time": "2024-11-09T12:24:34.729Z"
   },
   {
    "duration": 5,
    "start_time": "2024-11-09T12:24:37.915Z"
   },
   {
    "duration": 3,
    "start_time": "2024-11-09T12:24:55.409Z"
   },
   {
    "duration": 56117,
    "start_time": "2024-11-09T12:24:57.001Z"
   },
   {
    "duration": 4,
    "start_time": "2024-11-09T12:29:40.550Z"
   },
   {
    "duration": 13,
    "start_time": "2024-11-09T12:29:51.632Z"
   },
   {
    "duration": 4,
    "start_time": "2024-11-09T12:30:48.013Z"
   },
   {
    "duration": 1438,
    "start_time": "2024-11-09T12:34:53.161Z"
   },
   {
    "duration": 896,
    "start_time": "2024-11-09T12:34:54.601Z"
   },
   {
    "duration": 155,
    "start_time": "2024-11-09T12:34:55.499Z"
   },
   {
    "duration": 32,
    "start_time": "2024-11-09T12:34:55.656Z"
   },
   {
    "duration": 155,
    "start_time": "2024-11-09T12:34:55.689Z"
   },
   {
    "duration": 42,
    "start_time": "2024-11-09T12:34:55.845Z"
   },
   {
    "duration": 4,
    "start_time": "2024-11-09T12:34:55.889Z"
   },
   {
    "duration": 75,
    "start_time": "2024-11-09T12:34:55.895Z"
   },
   {
    "duration": 172,
    "start_time": "2024-11-09T12:34:55.972Z"
   },
   {
    "duration": 159,
    "start_time": "2024-11-09T12:34:56.146Z"
   },
   {
    "duration": 26,
    "start_time": "2024-11-09T12:34:56.307Z"
   },
   {
    "duration": 33,
    "start_time": "2024-11-09T12:34:56.335Z"
   },
   {
    "duration": 31,
    "start_time": "2024-11-09T12:34:56.370Z"
   },
   {
    "duration": 43,
    "start_time": "2024-11-09T12:34:56.402Z"
   },
   {
    "duration": 46,
    "start_time": "2024-11-09T12:34:56.447Z"
   },
   {
    "duration": 59,
    "start_time": "2024-11-09T12:34:56.494Z"
   },
   {
    "duration": 28,
    "start_time": "2024-11-09T12:34:56.555Z"
   },
   {
    "duration": 48,
    "start_time": "2024-11-09T12:34:56.584Z"
   },
   {
    "duration": 29,
    "start_time": "2024-11-09T12:34:56.633Z"
   },
   {
    "duration": 37,
    "start_time": "2024-11-09T12:34:56.664Z"
   },
   {
    "duration": 142,
    "start_time": "2024-11-09T12:34:56.703Z"
   },
   {
    "duration": 868,
    "start_time": "2024-11-09T12:34:56.846Z"
   },
   {
    "duration": 103,
    "start_time": "2024-11-09T12:34:57.718Z"
   },
   {
    "duration": 18,
    "start_time": "2024-11-09T12:34:57.822Z"
   },
   {
    "duration": 21,
    "start_time": "2024-11-09T12:34:57.841Z"
   },
   {
    "duration": 20,
    "start_time": "2024-11-09T12:34:57.863Z"
   },
   {
    "duration": 50,
    "start_time": "2024-11-09T12:34:57.884Z"
   },
   {
    "duration": 105,
    "start_time": "2024-11-09T12:34:57.938Z"
   },
   {
    "duration": 422,
    "start_time": "2024-11-09T12:34:58.045Z"
   },
   {
    "duration": 468,
    "start_time": "2024-11-09T12:34:58.468Z"
   },
   {
    "duration": 147,
    "start_time": "2024-11-09T12:34:58.937Z"
   },
   {
    "duration": 745,
    "start_time": "2024-11-09T12:34:59.086Z"
   },
   {
    "duration": 27,
    "start_time": "2024-11-09T12:34:59.833Z"
   },
   {
    "duration": 164,
    "start_time": "2024-11-09T12:34:59.862Z"
   },
   {
    "duration": 4895,
    "start_time": "2024-11-09T12:35:00.028Z"
   },
   {
    "duration": 4,
    "start_time": "2024-11-09T12:35:04.925Z"
   },
   {
    "duration": 46787,
    "start_time": "2024-11-09T12:35:04.930Z"
   },
   {
    "duration": 206,
    "start_time": "2024-11-09T12:35:51.719Z"
   },
   {
    "duration": 94,
    "start_time": "2024-11-09T12:35:51.927Z"
   },
   {
    "duration": 7,
    "start_time": "2024-11-09T12:35:52.023Z"
   },
   {
    "duration": 87,
    "start_time": "2024-11-09T12:35:52.032Z"
   },
   {
    "duration": 9407,
    "start_time": "2024-11-09T12:35:52.121Z"
   },
   {
    "duration": 412,
    "start_time": "2024-11-09T12:36:01.529Z"
   },
   {
    "duration": 4,
    "start_time": "2024-11-09T12:36:01.943Z"
   },
   {
    "duration": 70,
    "start_time": "2024-11-09T12:36:01.949Z"
   },
   {
    "duration": 4,
    "start_time": "2024-11-09T12:36:33.546Z"
   },
   {
    "duration": 26619,
    "start_time": "2024-11-09T12:36:35.658Z"
   },
   {
    "duration": 28,
    "start_time": "2024-11-09T12:37:06.170Z"
   },
   {
    "duration": 5,
    "start_time": "2024-11-09T12:37:08.449Z"
   },
   {
    "duration": 3,
    "start_time": "2024-11-09T12:37:19.522Z"
   },
   {
    "duration": 24190,
    "start_time": "2024-11-09T12:37:21.755Z"
   },
   {
    "duration": 26,
    "start_time": "2024-11-09T12:37:49.385Z"
   },
   {
    "duration": 5,
    "start_time": "2024-11-09T12:37:51.802Z"
   },
   {
    "duration": 3,
    "start_time": "2024-11-09T12:38:05.057Z"
   },
   {
    "duration": 17984,
    "start_time": "2024-11-09T12:38:09.386Z"
   },
   {
    "duration": 29,
    "start_time": "2024-11-09T12:38:30.176Z"
   },
   {
    "duration": 5,
    "start_time": "2024-11-09T12:38:33.090Z"
   },
   {
    "duration": 3,
    "start_time": "2024-11-09T12:38:41.009Z"
   },
   {
    "duration": 21507,
    "start_time": "2024-11-09T12:38:42.992Z"
   },
   {
    "duration": 26,
    "start_time": "2024-11-09T12:39:06.368Z"
   },
   {
    "duration": 4,
    "start_time": "2024-11-09T12:39:08.976Z"
   },
   {
    "duration": 3,
    "start_time": "2024-11-09T12:39:27.503Z"
   },
   {
    "duration": 3,
    "start_time": "2024-11-09T12:39:33.752Z"
   },
   {
    "duration": 22179,
    "start_time": "2024-11-09T12:39:35.559Z"
   },
   {
    "duration": 59,
    "start_time": "2024-11-09T12:40:05.759Z"
   },
   {
    "duration": 5,
    "start_time": "2024-11-09T12:40:08.015Z"
   },
   {
    "duration": 3,
    "start_time": "2024-11-09T12:40:43.495Z"
   },
   {
    "duration": 39116,
    "start_time": "2024-11-09T12:40:45.023Z"
   },
   {
    "duration": 78,
    "start_time": "2024-11-09T12:41:26.839Z"
   },
   {
    "duration": 5,
    "start_time": "2024-11-09T12:41:29.262Z"
   },
   {
    "duration": 3,
    "start_time": "2024-11-09T12:42:31.630Z"
   },
   {
    "duration": 1577,
    "start_time": "2024-11-09T12:49:40.193Z"
   },
   {
    "duration": 902,
    "start_time": "2024-11-09T12:49:41.772Z"
   },
   {
    "duration": 159,
    "start_time": "2024-11-09T12:49:42.675Z"
   },
   {
    "duration": 32,
    "start_time": "2024-11-09T12:49:42.837Z"
   },
   {
    "duration": 173,
    "start_time": "2024-11-09T12:49:42.871Z"
   },
   {
    "duration": 48,
    "start_time": "2024-11-09T12:49:43.046Z"
   },
   {
    "duration": 22,
    "start_time": "2024-11-09T12:49:43.096Z"
   },
   {
    "duration": 54,
    "start_time": "2024-11-09T12:49:43.120Z"
   },
   {
    "duration": 160,
    "start_time": "2024-11-09T12:49:43.176Z"
   },
   {
    "duration": 151,
    "start_time": "2024-11-09T12:49:43.339Z"
   },
   {
    "duration": 30,
    "start_time": "2024-11-09T12:49:43.491Z"
   },
   {
    "duration": 20,
    "start_time": "2024-11-09T12:49:43.523Z"
   },
   {
    "duration": 25,
    "start_time": "2024-11-09T12:49:43.545Z"
   },
   {
    "duration": 50,
    "start_time": "2024-11-09T12:49:43.572Z"
   },
   {
    "duration": 24,
    "start_time": "2024-11-09T12:49:43.624Z"
   },
   {
    "duration": 22,
    "start_time": "2024-11-09T12:49:43.650Z"
   },
   {
    "duration": 22,
    "start_time": "2024-11-09T12:49:43.674Z"
   },
   {
    "duration": 55,
    "start_time": "2024-11-09T12:49:43.698Z"
   },
   {
    "duration": 22,
    "start_time": "2024-11-09T12:49:43.755Z"
   },
   {
    "duration": 49,
    "start_time": "2024-11-09T12:49:43.779Z"
   },
   {
    "duration": 152,
    "start_time": "2024-11-09T12:49:43.830Z"
   },
   {
    "duration": 870,
    "start_time": "2024-11-09T12:49:43.983Z"
   },
   {
    "duration": 97,
    "start_time": "2024-11-09T12:49:44.855Z"
   },
   {
    "duration": 16,
    "start_time": "2024-11-09T12:49:44.954Z"
   },
   {
    "duration": 21,
    "start_time": "2024-11-09T12:49:44.971Z"
   },
   {
    "duration": 40,
    "start_time": "2024-11-09T12:49:44.994Z"
   },
   {
    "duration": 22,
    "start_time": "2024-11-09T12:49:45.036Z"
   },
   {
    "duration": 123,
    "start_time": "2024-11-09T12:49:45.063Z"
   },
   {
    "duration": 433,
    "start_time": "2024-11-09T12:49:45.188Z"
   },
   {
    "duration": 522,
    "start_time": "2024-11-09T12:49:45.622Z"
   },
   {
    "duration": 167,
    "start_time": "2024-11-09T12:49:46.145Z"
   },
   {
    "duration": 734,
    "start_time": "2024-11-09T12:49:46.317Z"
   },
   {
    "duration": 27,
    "start_time": "2024-11-09T12:49:47.053Z"
   },
   {
    "duration": 163,
    "start_time": "2024-11-09T12:49:47.081Z"
   },
   {
    "duration": 4931,
    "start_time": "2024-11-09T12:49:47.245Z"
   },
   {
    "duration": 3,
    "start_time": "2024-11-09T12:49:52.178Z"
   },
   {
    "duration": 125,
    "start_time": "2024-11-09T12:49:52.182Z"
   },
   {
    "duration": 0,
    "start_time": "2024-11-09T12:49:52.308Z"
   },
   {
    "duration": 0,
    "start_time": "2024-11-09T12:49:52.318Z"
   },
   {
    "duration": 0,
    "start_time": "2024-11-09T12:49:52.319Z"
   },
   {
    "duration": 0,
    "start_time": "2024-11-09T12:49:52.320Z"
   },
   {
    "duration": 0,
    "start_time": "2024-11-09T12:49:52.321Z"
   },
   {
    "duration": 0,
    "start_time": "2024-11-09T12:49:52.322Z"
   },
   {
    "duration": 0,
    "start_time": "2024-11-09T12:49:52.323Z"
   },
   {
    "duration": 0,
    "start_time": "2024-11-09T12:49:52.323Z"
   },
   {
    "duration": 0,
    "start_time": "2024-11-09T12:49:52.324Z"
   },
   {
    "duration": 5,
    "start_time": "2024-11-09T12:50:46.828Z"
   },
   {
    "duration": 16,
    "start_time": "2024-11-09T12:50:53.204Z"
   },
   {
    "duration": 392989,
    "start_time": "2024-11-09T12:57:47.132Z"
   },
   {
    "duration": 1421,
    "start_time": "2024-11-09T13:07:09.430Z"
   },
   {
    "duration": 899,
    "start_time": "2024-11-09T13:07:10.853Z"
   },
   {
    "duration": 165,
    "start_time": "2024-11-09T13:07:11.753Z"
   },
   {
    "duration": 24,
    "start_time": "2024-11-09T13:07:11.920Z"
   },
   {
    "duration": 155,
    "start_time": "2024-11-09T13:07:11.946Z"
   },
   {
    "duration": 49,
    "start_time": "2024-11-09T13:07:12.103Z"
   },
   {
    "duration": 4,
    "start_time": "2024-11-09T13:07:12.154Z"
   },
   {
    "duration": 77,
    "start_time": "2024-11-09T13:07:12.160Z"
   },
   {
    "duration": 179,
    "start_time": "2024-11-09T13:07:12.239Z"
   },
   {
    "duration": 169,
    "start_time": "2024-11-09T13:07:12.422Z"
   },
   {
    "duration": 27,
    "start_time": "2024-11-09T13:07:12.592Z"
   },
   {
    "duration": 25,
    "start_time": "2024-11-09T13:07:12.620Z"
   },
   {
    "duration": 32,
    "start_time": "2024-11-09T13:07:12.647Z"
   },
   {
    "duration": 41,
    "start_time": "2024-11-09T13:07:12.680Z"
   },
   {
    "duration": 24,
    "start_time": "2024-11-09T13:07:12.723Z"
   },
   {
    "duration": 28,
    "start_time": "2024-11-09T13:07:12.749Z"
   },
   {
    "duration": 22,
    "start_time": "2024-11-09T13:07:12.779Z"
   },
   {
    "duration": 60,
    "start_time": "2024-11-09T13:07:12.802Z"
   },
   {
    "duration": 21,
    "start_time": "2024-11-09T13:07:12.864Z"
   },
   {
    "duration": 42,
    "start_time": "2024-11-09T13:07:12.886Z"
   },
   {
    "duration": 177,
    "start_time": "2024-11-09T13:07:12.930Z"
   },
   {
    "duration": 860,
    "start_time": "2024-11-09T13:07:13.108Z"
   },
   {
    "duration": 94,
    "start_time": "2024-11-09T13:07:13.970Z"
   },
   {
    "duration": 18,
    "start_time": "2024-11-09T13:07:14.065Z"
   },
   {
    "duration": 41,
    "start_time": "2024-11-09T13:07:14.085Z"
   },
   {
    "duration": 37,
    "start_time": "2024-11-09T13:07:14.128Z"
   },
   {
    "duration": 48,
    "start_time": "2024-11-09T13:07:14.167Z"
   },
   {
    "duration": 103,
    "start_time": "2024-11-09T13:07:14.218Z"
   },
   {
    "duration": 409,
    "start_time": "2024-11-09T13:07:14.322Z"
   },
   {
    "duration": 550,
    "start_time": "2024-11-09T13:07:14.732Z"
   },
   {
    "duration": 147,
    "start_time": "2024-11-09T13:07:15.285Z"
   },
   {
    "duration": 687,
    "start_time": "2024-11-09T13:07:15.435Z"
   },
   {
    "duration": 36,
    "start_time": "2024-11-09T13:07:16.124Z"
   },
   {
    "duration": 177,
    "start_time": "2024-11-09T13:07:16.162Z"
   },
   {
    "duration": 4964,
    "start_time": "2024-11-09T13:07:16.341Z"
   },
   {
    "duration": 3,
    "start_time": "2024-11-09T13:07:21.306Z"
   },
   {
    "duration": 26000,
    "start_time": "2024-11-09T13:07:21.318Z"
   },
   {
    "duration": 213,
    "start_time": "2024-11-09T13:07:47.320Z"
   },
   {
    "duration": 7,
    "start_time": "2024-11-09T13:07:47.617Z"
   },
   {
    "duration": 92,
    "start_time": "2024-11-09T13:07:47.626Z"
   },
   {
    "duration": 9427,
    "start_time": "2024-11-09T13:07:47.720Z"
   },
   {
    "duration": 73,
    "start_time": "2024-11-09T13:07:57.149Z"
   },
   {
    "duration": 94,
    "start_time": "2024-11-09T13:07:57.224Z"
   },
   {
    "duration": 4,
    "start_time": "2024-11-09T13:07:57.320Z"
   },
   {
    "duration": 7,
    "start_time": "2024-11-09T13:07:57.325Z"
   },
   {
    "duration": 5091,
    "start_time": "2024-11-09T13:07:57.334Z"
   },
   {
    "duration": 402,
    "start_time": "2024-11-09T13:08:02.426Z"
   },
   {
    "duration": 4,
    "start_time": "2024-11-09T13:08:02.830Z"
   },
   {
    "duration": 15,
    "start_time": "2024-11-09T13:08:02.836Z"
   },
   {
    "duration": 132,
    "start_time": "2024-11-09T13:17:39.710Z"
   },
   {
    "duration": 5,
    "start_time": "2024-11-09T13:17:45.255Z"
   },
   {
    "duration": 3,
    "start_time": "2024-11-09T13:17:51.469Z"
   },
   {
    "duration": 2425,
    "start_time": "2024-11-09T13:17:53.301Z"
   },
   {
    "duration": 28,
    "start_time": "2024-11-09T13:17:57.582Z"
   },
   {
    "duration": 5,
    "start_time": "2024-11-09T13:18:00.277Z"
   },
   {
    "duration": 3,
    "start_time": "2024-11-09T13:18:09.733Z"
   },
   {
    "duration": 2605,
    "start_time": "2024-11-09T13:18:11.614Z"
   },
   {
    "duration": 26,
    "start_time": "2024-11-09T13:18:24.666Z"
   },
   {
    "duration": 4,
    "start_time": "2024-11-09T13:18:27.543Z"
   },
   {
    "duration": 4,
    "start_time": "2024-11-09T13:22:33.619Z"
   },
   {
    "duration": 8198,
    "start_time": "2024-11-09T13:22:35.827Z"
   },
   {
    "duration": 32,
    "start_time": "2024-11-09T13:22:46.403Z"
   },
   {
    "duration": 4,
    "start_time": "2024-11-09T13:22:48.898Z"
   },
   {
    "duration": 3,
    "start_time": "2024-11-09T13:24:24.633Z"
   },
   {
    "duration": 5591,
    "start_time": "2024-11-09T13:24:26.321Z"
   },
   {
    "duration": 25,
    "start_time": "2024-11-09T13:24:34.121Z"
   },
   {
    "duration": 4,
    "start_time": "2024-11-09T13:24:36.964Z"
   },
   {
    "duration": 3,
    "start_time": "2024-11-09T13:24:56.249Z"
   },
   {
    "duration": 8403,
    "start_time": "2024-11-09T13:24:58.370Z"
   },
   {
    "duration": 104,
    "start_time": "2024-11-09T13:25:08.514Z"
   },
   {
    "duration": 4,
    "start_time": "2024-11-09T13:25:11.393Z"
   },
   {
    "duration": 3,
    "start_time": "2024-11-09T13:26:16.160Z"
   },
   {
    "duration": 8167,
    "start_time": "2024-11-09T13:26:18.000Z"
   },
   {
    "duration": 70,
    "start_time": "2024-11-09T13:26:28.352Z"
   },
   {
    "duration": 4,
    "start_time": "2024-11-09T13:26:31.288Z"
   },
   {
    "duration": 6,
    "start_time": "2024-11-09T13:28:14.873Z"
   },
   {
    "duration": 13,
    "start_time": "2024-11-09T13:30:23.733Z"
   },
   {
    "duration": 5,
    "start_time": "2024-11-09T13:30:31.485Z"
   },
   {
    "duration": 4,
    "start_time": "2024-11-09T13:30:37.437Z"
   },
   {
    "duration": 81481,
    "start_time": "2024-11-09T13:31:30.869Z"
   },
   {
    "duration": 19,
    "start_time": "2024-11-09T13:33:35.305Z"
   },
   {
    "duration": 147038,
    "start_time": "2024-11-09T13:33:55.506Z"
   },
   {
    "duration": 3,
    "start_time": "2024-11-09T13:38:16.111Z"
   },
   {
    "duration": 4610,
    "start_time": "2024-11-09T13:38:20.047Z"
   },
   {
    "duration": 124,
    "start_time": "2024-11-09T13:38:27.695Z"
   },
   {
    "duration": 5,
    "start_time": "2024-11-09T13:38:30.095Z"
   },
   {
    "duration": 3,
    "start_time": "2024-11-09T13:39:35.071Z"
   },
   {
    "duration": 4594,
    "start_time": "2024-11-09T13:39:36.767Z"
   },
   {
    "duration": 65,
    "start_time": "2024-11-09T13:39:43.169Z"
   },
   {
    "duration": 5,
    "start_time": "2024-11-09T13:39:45.886Z"
   },
   {
    "duration": 3,
    "start_time": "2024-11-09T13:39:58.406Z"
   },
   {
    "duration": 3991,
    "start_time": "2024-11-09T13:40:00.149Z"
   },
   {
    "duration": 65,
    "start_time": "2024-11-09T13:40:05.958Z"
   },
   {
    "duration": 5,
    "start_time": "2024-11-09T13:40:09.078Z"
   },
   {
    "duration": 3,
    "start_time": "2024-11-09T13:40:40.469Z"
   },
   {
    "duration": 2872,
    "start_time": "2024-11-09T13:40:41.950Z"
   },
   {
    "duration": 5,
    "start_time": "2024-11-09T13:40:46.574Z"
   },
   {
    "duration": 2,
    "start_time": "2024-11-09T13:40:57.998Z"
   },
   {
    "duration": 9508,
    "start_time": "2024-11-09T13:40:59.981Z"
   },
   {
    "duration": 96,
    "start_time": "2024-11-09T13:41:11.477Z"
   },
   {
    "duration": 4,
    "start_time": "2024-11-09T13:41:13.982Z"
   },
   {
    "duration": 1470,
    "start_time": "2024-11-09T13:42:52.307Z"
   },
   {
    "duration": 902,
    "start_time": "2024-11-09T13:42:53.779Z"
   },
   {
    "duration": 152,
    "start_time": "2024-11-09T13:42:54.683Z"
   },
   {
    "duration": 26,
    "start_time": "2024-11-09T13:42:54.837Z"
   },
   {
    "duration": 172,
    "start_time": "2024-11-09T13:42:54.864Z"
   },
   {
    "duration": 41,
    "start_time": "2024-11-09T13:42:55.037Z"
   },
   {
    "duration": 4,
    "start_time": "2024-11-09T13:42:55.080Z"
   },
   {
    "duration": 75,
    "start_time": "2024-11-09T13:42:55.086Z"
   },
   {
    "duration": 155,
    "start_time": "2024-11-09T13:42:55.164Z"
   },
   {
    "duration": 142,
    "start_time": "2024-11-09T13:42:55.321Z"
   },
   {
    "duration": 22,
    "start_time": "2024-11-09T13:42:55.465Z"
   },
   {
    "duration": 39,
    "start_time": "2024-11-09T13:42:55.489Z"
   },
   {
    "duration": 29,
    "start_time": "2024-11-09T13:42:55.529Z"
   },
   {
    "duration": 87,
    "start_time": "2024-11-09T13:42:55.559Z"
   },
   {
    "duration": 29,
    "start_time": "2024-11-09T13:42:55.647Z"
   },
   {
    "duration": 21,
    "start_time": "2024-11-09T13:42:55.678Z"
   },
   {
    "duration": 40,
    "start_time": "2024-11-09T13:42:55.701Z"
   },
   {
    "duration": 38,
    "start_time": "2024-11-09T13:42:55.743Z"
   },
   {
    "duration": 39,
    "start_time": "2024-11-09T13:42:55.783Z"
   },
   {
    "duration": 38,
    "start_time": "2024-11-09T13:42:55.824Z"
   },
   {
    "duration": 160,
    "start_time": "2024-11-09T13:42:55.863Z"
   },
   {
    "duration": 860,
    "start_time": "2024-11-09T13:42:56.025Z"
   },
   {
    "duration": 98,
    "start_time": "2024-11-09T13:42:56.887Z"
   },
   {
    "duration": 31,
    "start_time": "2024-11-09T13:42:56.987Z"
   },
   {
    "duration": 22,
    "start_time": "2024-11-09T13:42:57.019Z"
   },
   {
    "duration": 19,
    "start_time": "2024-11-09T13:42:57.043Z"
   },
   {
    "duration": 22,
    "start_time": "2024-11-09T13:42:57.064Z"
   },
   {
    "duration": 104,
    "start_time": "2024-11-09T13:42:57.118Z"
   },
   {
    "duration": 431,
    "start_time": "2024-11-09T13:42:57.224Z"
   },
   {
    "duration": 547,
    "start_time": "2024-11-09T13:42:57.657Z"
   },
   {
    "duration": 156,
    "start_time": "2024-11-09T13:42:58.206Z"
   },
   {
    "duration": 668,
    "start_time": "2024-11-09T13:42:58.364Z"
   },
   {
    "duration": 38,
    "start_time": "2024-11-09T13:42:59.033Z"
   },
   {
    "duration": 173,
    "start_time": "2024-11-09T13:42:59.073Z"
   },
   {
    "duration": 5040,
    "start_time": "2024-11-09T13:42:59.248Z"
   },
   {
    "duration": 2,
    "start_time": "2024-11-09T13:43:04.290Z"
   },
   {
    "duration": 25632,
    "start_time": "2024-11-09T13:43:04.294Z"
   },
   {
    "duration": 300,
    "start_time": "2024-11-09T13:43:29.927Z"
   },
   {
    "duration": 92,
    "start_time": "2024-11-09T13:43:30.230Z"
   },
   {
    "duration": 94,
    "start_time": "2024-11-09T13:43:30.325Z"
   },
   {
    "duration": 9448,
    "start_time": "2024-11-09T13:43:30.421Z"
   },
   {
    "duration": 105,
    "start_time": "2024-11-09T13:43:39.870Z"
   },
   {
    "duration": 4,
    "start_time": "2024-11-09T13:43:39.977Z"
   },
   {
    "duration": 14,
    "start_time": "2024-11-09T13:43:39.982Z"
   },
   {
    "duration": 4,
    "start_time": "2024-11-09T13:43:39.997Z"
   },
   {
    "duration": 5616,
    "start_time": "2024-11-09T13:43:40.002Z"
   },
   {
    "duration": 399,
    "start_time": "2024-11-09T13:43:45.620Z"
   },
   {
    "duration": 5,
    "start_time": "2024-11-09T13:43:46.020Z"
   },
   {
    "duration": 16,
    "start_time": "2024-11-09T13:43:46.027Z"
   },
   {
    "duration": 1381,
    "start_time": "2024-11-09T13:48:03.057Z"
   },
   {
    "duration": 902,
    "start_time": "2024-11-09T13:48:04.440Z"
   },
   {
    "duration": 160,
    "start_time": "2024-11-09T13:48:05.343Z"
   },
   {
    "duration": 27,
    "start_time": "2024-11-09T13:48:05.505Z"
   },
   {
    "duration": 155,
    "start_time": "2024-11-09T13:48:05.534Z"
   },
   {
    "duration": 51,
    "start_time": "2024-11-09T13:48:05.690Z"
   },
   {
    "duration": 4,
    "start_time": "2024-11-09T13:48:05.742Z"
   },
   {
    "duration": 73,
    "start_time": "2024-11-09T13:48:05.748Z"
   },
   {
    "duration": 172,
    "start_time": "2024-11-09T13:48:05.823Z"
   },
   {
    "duration": 164,
    "start_time": "2024-11-09T13:48:05.998Z"
   },
   {
    "duration": 22,
    "start_time": "2024-11-09T13:48:06.164Z"
   },
   {
    "duration": 35,
    "start_time": "2024-11-09T13:48:06.187Z"
   },
   {
    "duration": 27,
    "start_time": "2024-11-09T13:48:06.224Z"
   },
   {
    "duration": 39,
    "start_time": "2024-11-09T13:48:06.253Z"
   },
   {
    "duration": 33,
    "start_time": "2024-11-09T13:48:06.294Z"
   },
   {
    "duration": 28,
    "start_time": "2024-11-09T13:48:06.328Z"
   },
   {
    "duration": 23,
    "start_time": "2024-11-09T13:48:06.358Z"
   },
   {
    "duration": 48,
    "start_time": "2024-11-09T13:48:06.383Z"
   },
   {
    "duration": 22,
    "start_time": "2024-11-09T13:48:06.433Z"
   },
   {
    "duration": 36,
    "start_time": "2024-11-09T13:48:06.457Z"
   },
   {
    "duration": 158,
    "start_time": "2024-11-09T13:48:06.495Z"
   },
   {
    "duration": 806,
    "start_time": "2024-11-09T13:48:06.655Z"
   },
   {
    "duration": 106,
    "start_time": "2024-11-09T13:48:07.463Z"
   },
   {
    "duration": 18,
    "start_time": "2024-11-09T13:48:07.571Z"
   },
   {
    "duration": 38,
    "start_time": "2024-11-09T13:48:07.590Z"
   },
   {
    "duration": 37,
    "start_time": "2024-11-09T13:48:07.631Z"
   },
   {
    "duration": 25,
    "start_time": "2024-11-09T13:48:07.673Z"
   },
   {
    "duration": 107,
    "start_time": "2024-11-09T13:48:07.703Z"
   },
   {
    "duration": 408,
    "start_time": "2024-11-09T13:48:07.812Z"
   },
   {
    "duration": 519,
    "start_time": "2024-11-09T13:48:08.222Z"
   },
   {
    "duration": 175,
    "start_time": "2024-11-09T13:48:08.743Z"
   },
   {
    "duration": 634,
    "start_time": "2024-11-09T13:48:08.919Z"
   },
   {
    "duration": 37,
    "start_time": "2024-11-09T13:48:09.555Z"
   },
   {
    "duration": 181,
    "start_time": "2024-11-09T13:48:09.594Z"
   },
   {
    "duration": 4816,
    "start_time": "2024-11-09T13:48:09.777Z"
   },
   {
    "duration": 3,
    "start_time": "2024-11-09T13:48:14.595Z"
   },
   {
    "duration": 25619,
    "start_time": "2024-11-09T13:48:14.599Z"
   },
   {
    "duration": 298,
    "start_time": "2024-11-09T13:48:40.220Z"
   },
   {
    "duration": 98,
    "start_time": "2024-11-09T13:48:40.520Z"
   },
   {
    "duration": 2,
    "start_time": "2024-11-09T13:48:40.620Z"
   },
   {
    "duration": 9505,
    "start_time": "2024-11-09T13:48:40.624Z"
   },
   {
    "duration": 109,
    "start_time": "2024-11-09T13:48:50.130Z"
   },
   {
    "duration": 4,
    "start_time": "2024-11-09T13:48:50.241Z"
   },
   {
    "duration": 3,
    "start_time": "2024-11-09T13:48:50.246Z"
   },
   {
    "duration": 3,
    "start_time": "2024-11-09T13:48:50.251Z"
   },
   {
    "duration": 5262,
    "start_time": "2024-11-09T13:48:50.255Z"
   },
   {
    "duration": 307,
    "start_time": "2024-11-09T13:48:55.520Z"
   },
   {
    "duration": 5,
    "start_time": "2024-11-09T13:48:55.829Z"
   },
   {
    "duration": 5,
    "start_time": "2024-11-09T13:48:55.836Z"
   },
   {
    "duration": 1433,
    "start_time": "2024-11-09T13:53:48.825Z"
   },
   {
    "duration": 882,
    "start_time": "2024-11-09T13:53:50.260Z"
   },
   {
    "duration": 157,
    "start_time": "2024-11-09T13:53:51.144Z"
   },
   {
    "duration": 33,
    "start_time": "2024-11-09T13:53:51.303Z"
   },
   {
    "duration": 152,
    "start_time": "2024-11-09T13:53:51.337Z"
   },
   {
    "duration": 54,
    "start_time": "2024-11-09T13:53:51.491Z"
   },
   {
    "duration": 4,
    "start_time": "2024-11-09T13:53:51.547Z"
   },
   {
    "duration": 76,
    "start_time": "2024-11-09T13:53:51.552Z"
   },
   {
    "duration": 164,
    "start_time": "2024-11-09T13:53:51.630Z"
   },
   {
    "duration": 183,
    "start_time": "2024-11-09T13:53:51.797Z"
   },
   {
    "duration": 23,
    "start_time": "2024-11-09T13:53:51.982Z"
   },
   {
    "duration": 26,
    "start_time": "2024-11-09T13:53:52.018Z"
   },
   {
    "duration": 36,
    "start_time": "2024-11-09T13:53:52.046Z"
   },
   {
    "duration": 56,
    "start_time": "2024-11-09T13:53:52.084Z"
   },
   {
    "duration": 31,
    "start_time": "2024-11-09T13:53:52.141Z"
   },
   {
    "duration": 48,
    "start_time": "2024-11-09T13:53:52.174Z"
   },
   {
    "duration": 34,
    "start_time": "2024-11-09T13:53:52.223Z"
   },
   {
    "duration": 49,
    "start_time": "2024-11-09T13:53:52.259Z"
   },
   {
    "duration": 51,
    "start_time": "2024-11-09T13:53:52.310Z"
   },
   {
    "duration": 44,
    "start_time": "2024-11-09T13:53:52.363Z"
   },
   {
    "duration": 175,
    "start_time": "2024-11-09T13:53:52.408Z"
   },
   {
    "duration": 859,
    "start_time": "2024-11-09T13:53:52.585Z"
   },
   {
    "duration": 108,
    "start_time": "2024-11-09T13:53:53.446Z"
   },
   {
    "duration": 17,
    "start_time": "2024-11-09T13:53:53.555Z"
   },
   {
    "duration": 28,
    "start_time": "2024-11-09T13:53:53.573Z"
   },
   {
    "duration": 34,
    "start_time": "2024-11-09T13:53:53.603Z"
   },
   {
    "duration": 24,
    "start_time": "2024-11-09T13:53:53.639Z"
   },
   {
    "duration": 114,
    "start_time": "2024-11-09T13:53:53.667Z"
   },
   {
    "duration": 406,
    "start_time": "2024-11-09T13:53:53.783Z"
   },
   {
    "duration": 508,
    "start_time": "2024-11-09T13:53:54.190Z"
   },
   {
    "duration": 147,
    "start_time": "2024-11-09T13:53:54.700Z"
   },
   {
    "duration": 619,
    "start_time": "2024-11-09T13:53:54.849Z"
   },
   {
    "duration": 48,
    "start_time": "2024-11-09T13:53:55.470Z"
   },
   {
    "duration": 170,
    "start_time": "2024-11-09T13:53:55.519Z"
   },
   {
    "duration": 4946,
    "start_time": "2024-11-09T13:53:55.691Z"
   },
   {
    "duration": 2,
    "start_time": "2024-11-09T13:54:00.639Z"
   },
   {
    "duration": 25081,
    "start_time": "2024-11-09T13:54:00.643Z"
   },
   {
    "duration": 292,
    "start_time": "2024-11-09T13:54:25.726Z"
   },
   {
    "duration": 7,
    "start_time": "2024-11-09T13:54:26.020Z"
   },
   {
    "duration": 2,
    "start_time": "2024-11-09T13:54:26.119Z"
   },
   {
    "duration": 9706,
    "start_time": "2024-11-09T13:54:26.123Z"
   },
   {
    "duration": 121,
    "start_time": "2024-11-09T13:54:35.830Z"
   },
   {
    "duration": 4,
    "start_time": "2024-11-09T13:54:35.953Z"
   },
   {
    "duration": 20,
    "start_time": "2024-11-09T13:54:35.959Z"
   },
   {
    "duration": 4,
    "start_time": "2024-11-09T13:54:35.981Z"
   },
   {
    "duration": 5433,
    "start_time": "2024-11-09T13:54:35.987Z"
   },
   {
    "duration": 397,
    "start_time": "2024-11-09T13:54:41.422Z"
   },
   {
    "duration": 5,
    "start_time": "2024-11-09T13:54:41.820Z"
   },
   {
    "duration": 6,
    "start_time": "2024-11-09T13:54:41.826Z"
   },
   {
    "duration": 1444,
    "start_time": "2024-11-09T14:01:53.825Z"
   },
   {
    "duration": 912,
    "start_time": "2024-11-09T14:01:55.271Z"
   },
   {
    "duration": 155,
    "start_time": "2024-11-09T14:01:56.185Z"
   },
   {
    "duration": 24,
    "start_time": "2024-11-09T14:01:56.343Z"
   },
   {
    "duration": 157,
    "start_time": "2024-11-09T14:01:56.368Z"
   },
   {
    "duration": 39,
    "start_time": "2024-11-09T14:01:56.526Z"
   },
   {
    "duration": 3,
    "start_time": "2024-11-09T14:01:56.567Z"
   },
   {
    "duration": 74,
    "start_time": "2024-11-09T14:01:56.571Z"
   },
   {
    "duration": 138,
    "start_time": "2024-11-09T14:01:56.646Z"
   },
   {
    "duration": 150,
    "start_time": "2024-11-09T14:01:56.786Z"
   },
   {
    "duration": 24,
    "start_time": "2024-11-09T14:01:56.937Z"
   },
   {
    "duration": 22,
    "start_time": "2024-11-09T14:01:56.963Z"
   },
   {
    "duration": 36,
    "start_time": "2024-11-09T14:01:56.987Z"
   },
   {
    "duration": 36,
    "start_time": "2024-11-09T14:01:57.025Z"
   },
   {
    "duration": 25,
    "start_time": "2024-11-09T14:01:57.063Z"
   },
   {
    "duration": 35,
    "start_time": "2024-11-09T14:01:57.089Z"
   },
   {
    "duration": 24,
    "start_time": "2024-11-09T14:01:57.126Z"
   },
   {
    "duration": 41,
    "start_time": "2024-11-09T14:01:57.151Z"
   },
   {
    "duration": 33,
    "start_time": "2024-11-09T14:01:57.194Z"
   },
   {
    "duration": 39,
    "start_time": "2024-11-09T14:01:57.228Z"
   },
   {
    "duration": 160,
    "start_time": "2024-11-09T14:01:57.269Z"
   },
   {
    "duration": 879,
    "start_time": "2024-11-09T14:01:57.431Z"
   },
   {
    "duration": 89,
    "start_time": "2024-11-09T14:01:58.312Z"
   },
   {
    "duration": 30,
    "start_time": "2024-11-09T14:01:58.403Z"
   },
   {
    "duration": 21,
    "start_time": "2024-11-09T14:01:58.434Z"
   },
   {
    "duration": 19,
    "start_time": "2024-11-09T14:01:58.456Z"
   },
   {
    "duration": 44,
    "start_time": "2024-11-09T14:01:58.477Z"
   },
   {
    "duration": 107,
    "start_time": "2024-11-09T14:01:58.524Z"
   },
   {
    "duration": 422,
    "start_time": "2024-11-09T14:01:58.632Z"
   },
   {
    "duration": 548,
    "start_time": "2024-11-09T14:01:59.057Z"
   },
   {
    "duration": 154,
    "start_time": "2024-11-09T14:01:59.607Z"
   },
   {
    "duration": 692,
    "start_time": "2024-11-09T14:01:59.763Z"
   },
   {
    "duration": 37,
    "start_time": "2024-11-09T14:02:00.457Z"
   },
   {
    "duration": 175,
    "start_time": "2024-11-09T14:02:00.495Z"
   },
   {
    "duration": 5071,
    "start_time": "2024-11-09T14:02:00.671Z"
   },
   {
    "duration": 2,
    "start_time": "2024-11-09T14:02:05.744Z"
   },
   {
    "duration": 29571,
    "start_time": "2024-11-09T14:02:05.748Z"
   },
   {
    "duration": 224,
    "start_time": "2024-11-09T14:02:35.322Z"
   },
   {
    "duration": 5,
    "start_time": "2024-11-09T14:02:35.717Z"
   },
   {
    "duration": 12,
    "start_time": "2024-11-09T14:02:35.723Z"
   },
   {
    "duration": 9622,
    "start_time": "2024-11-09T14:02:35.737Z"
   },
   {
    "duration": 112,
    "start_time": "2024-11-09T14:02:45.361Z"
   },
   {
    "duration": 5,
    "start_time": "2024-11-09T14:02:45.474Z"
   },
   {
    "duration": 27,
    "start_time": "2024-11-09T14:02:45.480Z"
   },
   {
    "duration": 15,
    "start_time": "2024-11-09T14:02:45.508Z"
   },
   {
    "duration": 5995,
    "start_time": "2024-11-09T14:02:45.524Z"
   },
   {
    "duration": 316,
    "start_time": "2024-11-09T14:02:51.521Z"
   },
   {
    "duration": 4,
    "start_time": "2024-11-09T14:02:51.839Z"
   },
   {
    "duration": 10,
    "start_time": "2024-11-09T14:02:51.919Z"
   },
   {
    "duration": 5206,
    "start_time": "2024-11-09T15:11:28.862Z"
   },
   {
    "duration": 2869,
    "start_time": "2024-11-09T15:11:34.070Z"
   },
   {
    "duration": 153,
    "start_time": "2024-11-09T15:11:36.941Z"
   },
   {
    "duration": 37,
    "start_time": "2024-11-09T15:11:37.096Z"
   },
   {
    "duration": 157,
    "start_time": "2024-11-09T15:11:37.134Z"
   },
   {
    "duration": 50,
    "start_time": "2024-11-09T15:11:37.292Z"
   },
   {
    "duration": 5,
    "start_time": "2024-11-09T15:11:37.343Z"
   },
   {
    "duration": 82,
    "start_time": "2024-11-09T15:11:37.349Z"
   },
   {
    "duration": 168,
    "start_time": "2024-11-09T15:11:37.432Z"
   },
   {
    "duration": 161,
    "start_time": "2024-11-09T15:11:37.603Z"
   },
   {
    "duration": 22,
    "start_time": "2024-11-09T15:11:37.766Z"
   },
   {
    "duration": 33,
    "start_time": "2024-11-09T15:11:37.790Z"
   },
   {
    "duration": 22,
    "start_time": "2024-11-09T15:11:37.825Z"
   },
   {
    "duration": 39,
    "start_time": "2024-11-09T15:11:37.848Z"
   },
   {
    "duration": 44,
    "start_time": "2024-11-09T15:11:37.889Z"
   },
   {
    "duration": 21,
    "start_time": "2024-11-09T15:11:37.934Z"
   },
   {
    "duration": 41,
    "start_time": "2024-11-09T15:11:37.957Z"
   },
   {
    "duration": 43,
    "start_time": "2024-11-09T15:11:38.000Z"
   },
   {
    "duration": 26,
    "start_time": "2024-11-09T15:11:38.045Z"
   },
   {
    "duration": 45,
    "start_time": "2024-11-09T15:11:38.073Z"
   },
   {
    "duration": 153,
    "start_time": "2024-11-09T15:11:38.120Z"
   },
   {
    "duration": 853,
    "start_time": "2024-11-09T15:11:38.275Z"
   },
   {
    "duration": 106,
    "start_time": "2024-11-09T15:11:39.129Z"
   },
   {
    "duration": 17,
    "start_time": "2024-11-09T15:11:39.236Z"
   },
   {
    "duration": 20,
    "start_time": "2024-11-09T15:11:39.255Z"
   },
   {
    "duration": 45,
    "start_time": "2024-11-09T15:11:39.277Z"
   },
   {
    "duration": 22,
    "start_time": "2024-11-09T15:11:39.324Z"
   },
   {
    "duration": 110,
    "start_time": "2024-11-09T15:11:39.350Z"
   },
   {
    "duration": 401,
    "start_time": "2024-11-09T15:11:39.462Z"
   },
   {
    "duration": 424,
    "start_time": "2024-11-09T15:11:39.865Z"
   },
   {
    "duration": 154,
    "start_time": "2024-11-09T15:11:40.291Z"
   },
   {
    "duration": 730,
    "start_time": "2024-11-09T15:11:40.447Z"
   },
   {
    "duration": 39,
    "start_time": "2024-11-09T15:11:41.179Z"
   },
   {
    "duration": 161,
    "start_time": "2024-11-09T15:11:41.219Z"
   },
   {
    "duration": 4366,
    "start_time": "2024-11-09T15:11:41.381Z"
   },
   {
    "duration": 1613,
    "start_time": "2024-11-09T16:53:22.423Z"
   },
   {
    "duration": 1193,
    "start_time": "2024-11-09T16:53:24.038Z"
   },
   {
    "duration": 167,
    "start_time": "2024-11-09T16:53:25.233Z"
   },
   {
    "duration": 35,
    "start_time": "2024-11-09T16:53:25.402Z"
   },
   {
    "duration": 154,
    "start_time": "2024-11-09T16:53:25.439Z"
   },
   {
    "duration": 49,
    "start_time": "2024-11-09T16:53:25.595Z"
   },
   {
    "duration": 4,
    "start_time": "2024-11-09T16:53:25.646Z"
   },
   {
    "duration": 74,
    "start_time": "2024-11-09T16:53:25.652Z"
   },
   {
    "duration": 153,
    "start_time": "2024-11-09T16:53:25.727Z"
   },
   {
    "duration": 151,
    "start_time": "2024-11-09T16:53:25.883Z"
   },
   {
    "duration": 23,
    "start_time": "2024-11-09T16:53:26.035Z"
   },
   {
    "duration": 21,
    "start_time": "2024-11-09T16:53:26.059Z"
   },
   {
    "duration": 102,
    "start_time": "2024-11-09T16:53:26.081Z"
   },
   {
    "duration": 21,
    "start_time": "2024-11-09T16:53:26.185Z"
   },
   {
    "duration": 24,
    "start_time": "2024-11-09T16:53:26.208Z"
   },
   {
    "duration": 19,
    "start_time": "2024-11-09T16:53:26.233Z"
   },
   {
    "duration": 22,
    "start_time": "2024-11-09T16:53:26.254Z"
   },
   {
    "duration": 21,
    "start_time": "2024-11-09T16:53:26.277Z"
   },
   {
    "duration": 35,
    "start_time": "2024-11-09T16:53:26.300Z"
   },
   {
    "duration": 22,
    "start_time": "2024-11-09T16:53:26.336Z"
   },
   {
    "duration": 138,
    "start_time": "2024-11-09T16:53:36.159Z"
   },
   {
    "duration": 3,
    "start_time": "2024-11-09T16:53:55.588Z"
   },
   {
    "duration": 923,
    "start_time": "2024-11-09T16:53:55.593Z"
   },
   {
    "duration": 155,
    "start_time": "2024-11-09T16:53:56.518Z"
   },
   {
    "duration": 41,
    "start_time": "2024-11-09T16:53:56.675Z"
   },
   {
    "duration": 146,
    "start_time": "2024-11-09T16:53:56.718Z"
   },
   {
    "duration": 56,
    "start_time": "2024-11-09T16:53:56.865Z"
   },
   {
    "duration": 4,
    "start_time": "2024-11-09T16:53:56.923Z"
   },
   {
    "duration": 70,
    "start_time": "2024-11-09T16:53:56.928Z"
   },
   {
    "duration": 159,
    "start_time": "2024-11-09T16:53:56.999Z"
   },
   {
    "duration": 174,
    "start_time": "2024-11-09T16:53:57.160Z"
   },
   {
    "duration": 33,
    "start_time": "2024-11-09T16:53:57.336Z"
   },
   {
    "duration": 21,
    "start_time": "2024-11-09T16:53:57.371Z"
   },
   {
    "duration": 43,
    "start_time": "2024-11-09T16:53:57.393Z"
   },
   {
    "duration": 21,
    "start_time": "2024-11-09T16:53:57.438Z"
   },
   {
    "duration": 22,
    "start_time": "2024-11-09T16:53:57.461Z"
   },
   {
    "duration": 54,
    "start_time": "2024-11-09T16:53:57.485Z"
   },
   {
    "duration": 41,
    "start_time": "2024-11-09T16:53:57.541Z"
   },
   {
    "duration": 79,
    "start_time": "2024-11-09T16:53:57.583Z"
   },
   {
    "duration": 23,
    "start_time": "2024-11-09T16:53:57.663Z"
   },
   {
    "duration": 34,
    "start_time": "2024-11-09T16:53:57.687Z"
   },
   {
    "duration": 147,
    "start_time": "2024-11-09T17:03:14.475Z"
   },
   {
    "duration": 286,
    "start_time": "2024-11-09T17:04:10.175Z"
   },
   {
    "duration": 173,
    "start_time": "2024-11-09T17:05:38.801Z"
   },
   {
    "duration": 106,
    "start_time": "2024-11-09T17:10:51.093Z"
   },
   {
    "duration": 3,
    "start_time": "2024-11-09T17:11:13.709Z"
   },
   {
    "duration": 148,
    "start_time": "2024-11-09T17:11:19.893Z"
   },
   {
    "duration": 231,
    "start_time": "2024-11-09T17:11:29.629Z"
   },
   {
    "duration": 336,
    "start_time": "2024-11-09T17:11:39.525Z"
   },
   {
    "duration": 636,
    "start_time": "2024-11-09T17:11:46.540Z"
   },
   {
    "duration": 222,
    "start_time": "2024-11-09T17:11:53.849Z"
   },
   {
    "duration": 8,
    "start_time": "2024-11-09T17:12:23.141Z"
   },
   {
    "duration": 5,
    "start_time": "2024-11-09T17:12:25.893Z"
   },
   {
    "duration": 208,
    "start_time": "2024-11-09T17:12:28.572Z"
   },
   {
    "duration": 9,
    "start_time": "2024-11-09T17:12:47.556Z"
   },
   {
    "duration": 230,
    "start_time": "2024-11-09T17:12:49.724Z"
   },
   {
    "duration": 12,
    "start_time": "2024-11-09T17:13:16.268Z"
   },
   {
    "duration": 236,
    "start_time": "2024-11-09T17:13:20.269Z"
   },
   {
    "duration": 6,
    "start_time": "2024-11-09T17:13:35.883Z"
   },
   {
    "duration": 226,
    "start_time": "2024-11-09T17:13:39.859Z"
   },
   {
    "duration": 95,
    "start_time": "2024-11-09T17:14:21.316Z"
   },
   {
    "duration": 6,
    "start_time": "2024-11-09T17:16:04.090Z"
   },
   {
    "duration": 340,
    "start_time": "2024-11-09T17:16:05.954Z"
   },
   {
    "duration": 133,
    "start_time": "2024-11-09T17:16:18.684Z"
   },
   {
    "duration": 46,
    "start_time": "2024-11-09T17:17:06.529Z"
   },
   {
    "duration": 23,
    "start_time": "2024-11-09T17:17:08.337Z"
   },
   {
    "duration": 3342,
    "start_time": "2024-11-09T17:19:54.168Z"
   },
   {
    "duration": 1461,
    "start_time": "2024-11-09T17:19:57.512Z"
   },
   {
    "duration": 1393,
    "start_time": "2024-11-09T17:19:59.021Z"
   },
   {
    "duration": 146,
    "start_time": "2024-11-09T17:20:00.417Z"
   },
   {
    "duration": 28,
    "start_time": "2024-11-09T17:20:00.565Z"
   },
   {
    "duration": 150,
    "start_time": "2024-11-09T17:20:00.594Z"
   },
   {
    "duration": 106,
    "start_time": "2024-11-09T17:20:00.745Z"
   },
   {
    "duration": 4,
    "start_time": "2024-11-09T17:20:00.852Z"
   },
   {
    "duration": 81,
    "start_time": "2024-11-09T17:20:00.857Z"
   },
   {
    "duration": 145,
    "start_time": "2024-11-09T17:20:00.940Z"
   },
   {
    "duration": 146,
    "start_time": "2024-11-09T17:20:01.087Z"
   },
   {
    "duration": 20,
    "start_time": "2024-11-09T17:20:01.234Z"
   },
   {
    "duration": 44,
    "start_time": "2024-11-09T17:20:01.255Z"
   },
   {
    "duration": 33,
    "start_time": "2024-11-09T17:20:01.301Z"
   },
   {
    "duration": 38,
    "start_time": "2024-11-09T17:20:01.336Z"
   },
   {
    "duration": 35,
    "start_time": "2024-11-09T17:20:01.376Z"
   },
   {
    "duration": 42,
    "start_time": "2024-11-09T17:20:01.412Z"
   },
   {
    "duration": 48,
    "start_time": "2024-11-09T17:20:01.455Z"
   },
   {
    "duration": 26,
    "start_time": "2024-11-09T17:20:01.505Z"
   },
   {
    "duration": 49,
    "start_time": "2024-11-09T17:20:01.533Z"
   },
   {
    "duration": 46,
    "start_time": "2024-11-09T17:20:01.583Z"
   },
   {
    "duration": 218,
    "start_time": "2024-11-09T17:20:01.630Z"
   },
   {
    "duration": 920,
    "start_time": "2024-11-09T17:20:01.849Z"
   },
   {
    "duration": 98,
    "start_time": "2024-11-09T17:20:02.771Z"
   },
   {
    "duration": 57,
    "start_time": "2024-11-09T17:20:02.870Z"
   },
   {
    "duration": 23,
    "start_time": "2024-11-09T17:20:02.929Z"
   },
   {
    "duration": 108,
    "start_time": "2024-11-09T17:20:02.953Z"
   },
   {
    "duration": 8,
    "start_time": "2024-11-09T17:20:03.066Z"
   },
   {
    "duration": 7,
    "start_time": "2024-11-09T17:20:03.076Z"
   },
   {
    "duration": 9,
    "start_time": "2024-11-09T17:20:03.085Z"
   },
   {
    "duration": 27,
    "start_time": "2024-11-09T17:20:03.121Z"
   },
   {
    "duration": 29,
    "start_time": "2024-11-09T17:20:03.150Z"
   },
   {
    "duration": 48,
    "start_time": "2024-11-09T17:20:03.181Z"
   },
   {
    "duration": 19,
    "start_time": "2024-11-09T17:20:03.230Z"
   },
   {
    "duration": 126,
    "start_time": "2024-11-09T17:20:03.251Z"
   },
   {
    "duration": 0,
    "start_time": "2024-11-09T17:20:03.379Z"
   },
   {
    "duration": 0,
    "start_time": "2024-11-09T17:20:03.381Z"
   },
   {
    "duration": 0,
    "start_time": "2024-11-09T17:20:03.383Z"
   },
   {
    "duration": 0,
    "start_time": "2024-11-09T17:20:03.384Z"
   },
   {
    "duration": 0,
    "start_time": "2024-11-09T17:20:03.385Z"
   },
   {
    "duration": 0,
    "start_time": "2024-11-09T17:20:03.387Z"
   },
   {
    "duration": 0,
    "start_time": "2024-11-09T17:20:03.388Z"
   },
   {
    "duration": 0,
    "start_time": "2024-11-09T17:20:03.390Z"
   },
   {
    "duration": 0,
    "start_time": "2024-11-09T17:20:03.391Z"
   },
   {
    "duration": 0,
    "start_time": "2024-11-09T17:20:03.393Z"
   },
   {
    "duration": 0,
    "start_time": "2024-11-09T17:20:03.394Z"
   },
   {
    "duration": 0,
    "start_time": "2024-11-09T17:20:03.422Z"
   },
   {
    "duration": 0,
    "start_time": "2024-11-09T17:20:03.423Z"
   },
   {
    "duration": 0,
    "start_time": "2024-11-09T17:20:03.425Z"
   },
   {
    "duration": 0,
    "start_time": "2024-11-09T17:20:03.426Z"
   },
   {
    "duration": 0,
    "start_time": "2024-11-09T17:20:03.428Z"
   },
   {
    "duration": 0,
    "start_time": "2024-11-09T17:20:03.429Z"
   },
   {
    "duration": 0,
    "start_time": "2024-11-09T17:20:03.431Z"
   },
   {
    "duration": 799,
    "start_time": "2024-11-09T17:22:01.880Z"
   },
   {
    "duration": 160,
    "start_time": "2024-11-09T17:22:23.215Z"
   },
   {
    "duration": 5,
    "start_time": "2024-11-09T17:23:06.174Z"
   },
   {
    "duration": 139,
    "start_time": "2024-11-09T17:23:08.896Z"
   },
   {
    "duration": 144,
    "start_time": "2024-11-09T17:23:18.975Z"
   },
   {
    "duration": 5,
    "start_time": "2024-11-09T17:23:21.046Z"
   },
   {
    "duration": 140,
    "start_time": "2024-11-09T17:23:22.694Z"
   },
   {
    "duration": 2320,
    "start_time": "2024-11-09T17:23:33.594Z"
   },
   {
    "duration": 4,
    "start_time": "2024-11-09T17:23:35.917Z"
   },
   {
    "duration": 851,
    "start_time": "2024-11-09T17:23:35.923Z"
   },
   {
    "duration": 145,
    "start_time": "2024-11-09T17:23:36.776Z"
   },
   {
    "duration": 20,
    "start_time": "2024-11-09T17:23:36.923Z"
   },
   {
    "duration": 144,
    "start_time": "2024-11-09T17:23:36.944Z"
   },
   {
    "duration": 47,
    "start_time": "2024-11-09T17:23:37.090Z"
   },
   {
    "duration": 4,
    "start_time": "2024-11-09T17:23:37.138Z"
   },
   {
    "duration": 45,
    "start_time": "2024-11-09T17:23:37.143Z"
   },
   {
    "duration": 171,
    "start_time": "2024-11-09T17:23:37.189Z"
   },
   {
    "duration": 145,
    "start_time": "2024-11-09T17:23:37.361Z"
   },
   {
    "duration": 28,
    "start_time": "2024-11-09T17:23:37.507Z"
   },
   {
    "duration": 27,
    "start_time": "2024-11-09T17:23:37.536Z"
   },
   {
    "duration": 20,
    "start_time": "2024-11-09T17:23:37.565Z"
   },
   {
    "duration": 62,
    "start_time": "2024-11-09T17:23:37.586Z"
   },
   {
    "duration": 89,
    "start_time": "2024-11-09T17:23:37.650Z"
   },
   {
    "duration": 20,
    "start_time": "2024-11-09T17:23:37.740Z"
   },
   {
    "duration": 25,
    "start_time": "2024-11-09T17:23:37.761Z"
   },
   {
    "duration": 19,
    "start_time": "2024-11-09T17:23:37.787Z"
   },
   {
    "duration": 21,
    "start_time": "2024-11-09T17:23:37.820Z"
   },
   {
    "duration": 23,
    "start_time": "2024-11-09T17:23:37.842Z"
   },
   {
    "duration": 139,
    "start_time": "2024-11-09T17:23:37.867Z"
   },
   {
    "duration": 888,
    "start_time": "2024-11-09T17:23:38.007Z"
   },
   {
    "duration": 86,
    "start_time": "2024-11-09T17:23:38.896Z"
   },
   {
    "duration": 46,
    "start_time": "2024-11-09T17:23:38.983Z"
   },
   {
    "duration": 156,
    "start_time": "2024-11-09T17:23:43.774Z"
   },
   {
    "duration": 52,
    "start_time": "2024-11-09T17:24:13.126Z"
   },
   {
    "duration": 137,
    "start_time": "2024-11-09T17:24:15.597Z"
   },
   {
    "duration": 41,
    "start_time": "2024-11-09T17:24:45.293Z"
   },
   {
    "duration": 142,
    "start_time": "2024-11-09T17:24:49.607Z"
   },
   {
    "duration": 20,
    "start_time": "2024-11-09T17:24:53.973Z"
   },
   {
    "duration": 2415,
    "start_time": "2024-11-09T17:27:11.022Z"
   },
   {
    "duration": 1346,
    "start_time": "2024-11-09T17:27:13.440Z"
   },
   {
    "duration": 846,
    "start_time": "2024-11-09T17:27:14.787Z"
   },
   {
    "duration": 159,
    "start_time": "2024-11-09T17:27:15.635Z"
   },
   {
    "duration": 34,
    "start_time": "2024-11-09T17:27:15.796Z"
   },
   {
    "duration": 143,
    "start_time": "2024-11-09T17:27:15.832Z"
   },
   {
    "duration": 52,
    "start_time": "2024-11-09T17:27:15.976Z"
   },
   {
    "duration": 4,
    "start_time": "2024-11-09T17:27:16.029Z"
   },
   {
    "duration": 65,
    "start_time": "2024-11-09T17:27:16.034Z"
   },
   {
    "duration": 150,
    "start_time": "2024-11-09T17:27:16.101Z"
   },
   {
    "duration": 150,
    "start_time": "2024-11-09T17:27:16.253Z"
   },
   {
    "duration": 25,
    "start_time": "2024-11-09T17:27:16.404Z"
   },
   {
    "duration": 19,
    "start_time": "2024-11-09T17:27:16.430Z"
   },
   {
    "duration": 20,
    "start_time": "2024-11-09T17:27:16.450Z"
   },
   {
    "duration": 115,
    "start_time": "2024-11-09T17:27:16.471Z"
   },
   {
    "duration": 31,
    "start_time": "2024-11-09T17:27:16.588Z"
   },
   {
    "duration": 21,
    "start_time": "2024-11-09T17:27:16.621Z"
   },
   {
    "duration": 23,
    "start_time": "2024-11-09T17:27:16.644Z"
   },
   {
    "duration": 18,
    "start_time": "2024-11-09T17:27:16.668Z"
   },
   {
    "duration": 34,
    "start_time": "2024-11-09T17:27:16.688Z"
   },
   {
    "duration": 19,
    "start_time": "2024-11-09T17:27:16.723Z"
   },
   {
    "duration": 145,
    "start_time": "2024-11-09T17:27:16.744Z"
   },
   {
    "duration": 934,
    "start_time": "2024-11-09T17:27:16.890Z"
   },
   {
    "duration": 86,
    "start_time": "2024-11-09T17:27:17.825Z"
   },
   {
    "duration": 50,
    "start_time": "2024-11-09T17:27:17.921Z"
   },
   {
    "duration": 152,
    "start_time": "2024-11-09T17:27:17.973Z"
   },
   {
    "duration": 15,
    "start_time": "2024-11-09T17:27:18.127Z"
   },
   {
    "duration": 50,
    "start_time": "2024-11-09T17:27:18.145Z"
   },
   {
    "duration": 35,
    "start_time": "2024-11-09T17:27:18.196Z"
   },
   {
    "duration": 111,
    "start_time": "2024-11-09T17:27:18.233Z"
   },
   {
    "duration": 340,
    "start_time": "2024-11-09T17:27:18.345Z"
   },
   {
    "duration": 319,
    "start_time": "2024-11-09T17:27:18.687Z"
   },
   {
    "duration": 123,
    "start_time": "2024-11-09T17:27:19.008Z"
   },
   {
    "duration": 116,
    "start_time": "2024-11-09T17:27:19.132Z"
   },
   {
    "duration": 0,
    "start_time": "2024-11-09T17:27:19.250Z"
   },
   {
    "duration": 0,
    "start_time": "2024-11-09T17:27:19.251Z"
   },
   {
    "duration": 0,
    "start_time": "2024-11-09T17:27:19.252Z"
   },
   {
    "duration": 0,
    "start_time": "2024-11-09T17:27:19.253Z"
   },
   {
    "duration": 0,
    "start_time": "2024-11-09T17:27:19.254Z"
   },
   {
    "duration": 0,
    "start_time": "2024-11-09T17:27:19.255Z"
   },
   {
    "duration": 0,
    "start_time": "2024-11-09T17:27:19.256Z"
   },
   {
    "duration": 0,
    "start_time": "2024-11-09T17:27:19.257Z"
   },
   {
    "duration": 0,
    "start_time": "2024-11-09T17:27:19.258Z"
   },
   {
    "duration": 0,
    "start_time": "2024-11-09T17:27:19.259Z"
   },
   {
    "duration": 0,
    "start_time": "2024-11-09T17:27:19.260Z"
   },
   {
    "duration": 0,
    "start_time": "2024-11-09T17:27:19.261Z"
   },
   {
    "duration": 0,
    "start_time": "2024-11-09T17:27:19.262Z"
   },
   {
    "duration": 0,
    "start_time": "2024-11-09T17:27:19.263Z"
   },
   {
    "duration": 0,
    "start_time": "2024-11-09T17:27:19.264Z"
   },
   {
    "duration": 0,
    "start_time": "2024-11-09T17:27:19.265Z"
   },
   {
    "duration": 0,
    "start_time": "2024-11-09T17:27:19.266Z"
   },
   {
    "duration": 0,
    "start_time": "2024-11-09T17:27:19.267Z"
   },
   {
    "duration": 2547,
    "start_time": "2024-11-09T17:32:56.838Z"
   },
   {
    "duration": 1449,
    "start_time": "2024-11-09T17:32:59.388Z"
   },
   {
    "duration": 874,
    "start_time": "2024-11-09T17:33:00.839Z"
   },
   {
    "duration": 164,
    "start_time": "2024-11-09T17:33:01.715Z"
   },
   {
    "duration": 26,
    "start_time": "2024-11-09T17:33:01.880Z"
   },
   {
    "duration": 156,
    "start_time": "2024-11-09T17:33:01.908Z"
   },
   {
    "duration": 53,
    "start_time": "2024-11-09T17:33:02.066Z"
   },
   {
    "duration": 13,
    "start_time": "2024-11-09T17:33:02.121Z"
   },
   {
    "duration": 91,
    "start_time": "2024-11-09T17:33:02.135Z"
   },
   {
    "duration": 165,
    "start_time": "2024-11-09T17:33:02.228Z"
   },
   {
    "duration": 152,
    "start_time": "2024-11-09T17:33:02.395Z"
   },
   {
    "duration": 21,
    "start_time": "2024-11-09T17:33:02.548Z"
   },
   {
    "duration": 35,
    "start_time": "2024-11-09T17:33:02.570Z"
   },
   {
    "duration": 61,
    "start_time": "2024-11-09T17:33:02.606Z"
   },
   {
    "duration": 33,
    "start_time": "2024-11-09T17:33:02.669Z"
   },
   {
    "duration": 50,
    "start_time": "2024-11-09T17:33:02.704Z"
   },
   {
    "duration": 105,
    "start_time": "2024-11-09T17:33:02.756Z"
   },
   {
    "duration": 51,
    "start_time": "2024-11-09T17:33:02.863Z"
   },
   {
    "duration": 54,
    "start_time": "2024-11-09T17:33:02.915Z"
   },
   {
    "duration": 42,
    "start_time": "2024-11-09T17:33:02.971Z"
   },
   {
    "duration": 38,
    "start_time": "2024-11-09T17:33:03.015Z"
   },
   {
    "duration": 164,
    "start_time": "2024-11-09T17:33:03.054Z"
   },
   {
    "duration": 890,
    "start_time": "2024-11-09T17:33:03.219Z"
   },
   {
    "duration": 91,
    "start_time": "2024-11-09T17:33:04.110Z"
   },
   {
    "duration": 787,
    "start_time": "2024-11-09T17:33:04.203Z"
   },
   {
    "duration": 4,
    "start_time": "2024-11-09T17:33:04.992Z"
   },
   {
    "duration": 114,
    "start_time": "2024-11-09T17:33:04.997Z"
   },
   {
    "duration": 14,
    "start_time": "2024-11-09T17:33:05.115Z"
   },
   {
    "duration": 26,
    "start_time": "2024-11-09T17:33:05.131Z"
   },
   {
    "duration": 108,
    "start_time": "2024-11-09T17:33:05.158Z"
   },
   {
    "duration": 17,
    "start_time": "2024-11-09T17:33:05.267Z"
   },
   {
    "duration": 54,
    "start_time": "2024-11-09T17:33:05.285Z"
   },
   {
    "duration": 70,
    "start_time": "2024-11-09T17:33:05.340Z"
   },
   {
    "duration": 339,
    "start_time": "2024-11-09T17:33:05.411Z"
   },
   {
    "duration": 385,
    "start_time": "2024-11-09T17:33:05.751Z"
   },
   {
    "duration": 145,
    "start_time": "2024-11-09T17:33:06.138Z"
   },
   {
    "duration": 125,
    "start_time": "2024-11-09T17:33:06.285Z"
   },
   {
    "duration": 0,
    "start_time": "2024-11-09T17:33:06.412Z"
   },
   {
    "duration": 0,
    "start_time": "2024-11-09T17:33:06.413Z"
   },
   {
    "duration": 0,
    "start_time": "2024-11-09T17:33:06.420Z"
   },
   {
    "duration": 0,
    "start_time": "2024-11-09T17:33:06.421Z"
   },
   {
    "duration": 0,
    "start_time": "2024-11-09T17:33:06.422Z"
   },
   {
    "duration": 0,
    "start_time": "2024-11-09T17:33:06.423Z"
   },
   {
    "duration": 0,
    "start_time": "2024-11-09T17:33:06.424Z"
   },
   {
    "duration": 0,
    "start_time": "2024-11-09T17:33:06.425Z"
   },
   {
    "duration": 0,
    "start_time": "2024-11-09T17:33:06.426Z"
   },
   {
    "duration": 0,
    "start_time": "2024-11-09T17:33:06.427Z"
   },
   {
    "duration": 0,
    "start_time": "2024-11-09T17:33:06.428Z"
   },
   {
    "duration": 0,
    "start_time": "2024-11-09T17:33:06.429Z"
   },
   {
    "duration": 0,
    "start_time": "2024-11-09T17:33:06.430Z"
   },
   {
    "duration": 0,
    "start_time": "2024-11-09T17:33:06.431Z"
   },
   {
    "duration": 0,
    "start_time": "2024-11-09T17:33:06.432Z"
   },
   {
    "duration": 0,
    "start_time": "2024-11-09T17:33:06.433Z"
   },
   {
    "duration": 0,
    "start_time": "2024-11-09T17:33:06.434Z"
   },
   {
    "duration": 0,
    "start_time": "2024-11-09T17:33:06.435Z"
   },
   {
    "duration": 148,
    "start_time": "2024-11-09T17:34:36.943Z"
   },
   {
    "duration": 156,
    "start_time": "2024-11-09T17:34:58.334Z"
   },
   {
    "duration": 256,
    "start_time": "2024-11-09T17:35:12.846Z"
   },
   {
    "duration": 504,
    "start_time": "2024-11-09T17:35:27.622Z"
   },
   {
    "duration": 259,
    "start_time": "2024-11-09T17:35:32.510Z"
   },
   {
    "duration": 243,
    "start_time": "2024-11-09T17:35:44.685Z"
   },
   {
    "duration": 244,
    "start_time": "2024-11-09T17:35:53.606Z"
   },
   {
    "duration": 2412,
    "start_time": "2024-11-09T17:38:01.086Z"
   },
   {
    "duration": 1432,
    "start_time": "2024-11-09T17:38:03.501Z"
   },
   {
    "duration": 850,
    "start_time": "2024-11-09T17:38:04.934Z"
   },
   {
    "duration": 148,
    "start_time": "2024-11-09T17:38:05.786Z"
   },
   {
    "duration": 22,
    "start_time": "2024-11-09T17:38:05.935Z"
   },
   {
    "duration": 152,
    "start_time": "2024-11-09T17:38:05.958Z"
   },
   {
    "duration": 42,
    "start_time": "2024-11-09T17:38:06.112Z"
   },
   {
    "duration": 16,
    "start_time": "2024-11-09T17:38:06.156Z"
   },
   {
    "duration": 57,
    "start_time": "2024-11-09T17:38:06.174Z"
   },
   {
    "duration": 156,
    "start_time": "2024-11-09T17:38:06.234Z"
   },
   {
    "duration": 145,
    "start_time": "2024-11-09T17:38:06.392Z"
   },
   {
    "duration": 22,
    "start_time": "2024-11-09T17:38:06.538Z"
   },
   {
    "duration": 19,
    "start_time": "2024-11-09T17:38:06.561Z"
   },
   {
    "duration": 40,
    "start_time": "2024-11-09T17:38:06.581Z"
   },
   {
    "duration": 20,
    "start_time": "2024-11-09T17:38:06.622Z"
   },
   {
    "duration": 24,
    "start_time": "2024-11-09T17:38:06.643Z"
   },
   {
    "duration": 20,
    "start_time": "2024-11-09T17:38:06.668Z"
   },
   {
    "duration": 38,
    "start_time": "2024-11-09T17:38:06.690Z"
   },
   {
    "duration": 34,
    "start_time": "2024-11-09T17:38:06.730Z"
   },
   {
    "duration": 31,
    "start_time": "2024-11-09T17:38:06.766Z"
   },
   {
    "duration": 86,
    "start_time": "2024-11-09T17:38:06.799Z"
   },
   {
    "duration": 152,
    "start_time": "2024-11-09T17:38:06.887Z"
   },
   {
    "duration": 913,
    "start_time": "2024-11-09T17:38:07.040Z"
   },
   {
    "duration": 103,
    "start_time": "2024-11-09T17:38:07.954Z"
   },
   {
    "duration": 244,
    "start_time": "2024-11-09T17:38:08.058Z"
   },
   {
    "duration": 5,
    "start_time": "2024-11-09T17:38:08.303Z"
   },
   {
    "duration": 113,
    "start_time": "2024-11-09T17:38:08.310Z"
   },
   {
    "duration": 18,
    "start_time": "2024-11-09T17:38:08.427Z"
   },
   {
    "duration": 5,
    "start_time": "2024-11-09T17:38:08.447Z"
   },
   {
    "duration": 122,
    "start_time": "2024-11-09T17:38:08.454Z"
   },
   {
    "duration": 17,
    "start_time": "2024-11-09T17:38:08.578Z"
   },
   {
    "duration": 3,
    "start_time": "2024-11-09T17:38:08.597Z"
   },
   {
    "duration": 51,
    "start_time": "2024-11-09T17:38:08.602Z"
   },
   {
    "duration": 1,
    "start_time": "2024-11-09T17:38:08.654Z"
   },
   {
    "duration": 0,
    "start_time": "2024-11-09T17:38:08.656Z"
   },
   {
    "duration": 0,
    "start_time": "2024-11-09T17:38:08.657Z"
   },
   {
    "duration": 0,
    "start_time": "2024-11-09T17:38:08.658Z"
   },
   {
    "duration": 0,
    "start_time": "2024-11-09T17:38:08.659Z"
   },
   {
    "duration": 0,
    "start_time": "2024-11-09T17:38:08.661Z"
   },
   {
    "duration": 0,
    "start_time": "2024-11-09T17:38:08.662Z"
   },
   {
    "duration": 0,
    "start_time": "2024-11-09T17:38:08.663Z"
   },
   {
    "duration": 0,
    "start_time": "2024-11-09T17:38:08.664Z"
   },
   {
    "duration": 0,
    "start_time": "2024-11-09T17:38:08.665Z"
   },
   {
    "duration": 0,
    "start_time": "2024-11-09T17:38:08.666Z"
   },
   {
    "duration": 0,
    "start_time": "2024-11-09T17:38:08.667Z"
   },
   {
    "duration": 0,
    "start_time": "2024-11-09T17:38:08.669Z"
   },
   {
    "duration": 0,
    "start_time": "2024-11-09T17:38:08.670Z"
   },
   {
    "duration": 0,
    "start_time": "2024-11-09T17:38:08.672Z"
   },
   {
    "duration": 0,
    "start_time": "2024-11-09T17:38:08.673Z"
   },
   {
    "duration": 0,
    "start_time": "2024-11-09T17:38:08.675Z"
   },
   {
    "duration": 0,
    "start_time": "2024-11-09T17:38:08.676Z"
   },
   {
    "duration": 0,
    "start_time": "2024-11-09T17:38:08.677Z"
   },
   {
    "duration": 0,
    "start_time": "2024-11-09T17:38:08.678Z"
   },
   {
    "duration": 0,
    "start_time": "2024-11-09T17:38:08.679Z"
   },
   {
    "duration": 0,
    "start_time": "2024-11-09T17:38:08.681Z"
   },
   {
    "duration": 82,
    "start_time": "2024-11-09T17:38:39.565Z"
   },
   {
    "duration": 24,
    "start_time": "2024-11-09T17:39:37.013Z"
   },
   {
    "duration": 37,
    "start_time": "2024-11-09T17:39:48.252Z"
   },
   {
    "duration": 63,
    "start_time": "2024-11-09T17:40:02.381Z"
   },
   {
    "duration": 159,
    "start_time": "2024-11-09T17:40:36.516Z"
   },
   {
    "duration": 363,
    "start_time": "2024-11-09T17:40:46.019Z"
   },
   {
    "duration": 63,
    "start_time": "2024-11-09T17:43:55.219Z"
   },
   {
    "duration": 171,
    "start_time": "2024-11-09T17:43:57.587Z"
   },
   {
    "duration": 125,
    "start_time": "2024-11-09T17:44:01.249Z"
   },
   {
    "duration": 2581,
    "start_time": "2024-11-09T17:44:22.218Z"
   },
   {
    "duration": 1423,
    "start_time": "2024-11-09T17:44:24.801Z"
   },
   {
    "duration": 918,
    "start_time": "2024-11-09T17:44:26.226Z"
   },
   {
    "duration": 163,
    "start_time": "2024-11-09T17:44:27.146Z"
   },
   {
    "duration": 41,
    "start_time": "2024-11-09T17:44:27.310Z"
   },
   {
    "duration": 176,
    "start_time": "2024-11-09T17:44:27.354Z"
   },
   {
    "duration": 40,
    "start_time": "2024-11-09T17:44:27.531Z"
   },
   {
    "duration": 4,
    "start_time": "2024-11-09T17:44:27.573Z"
   },
   {
    "duration": 80,
    "start_time": "2024-11-09T17:44:27.579Z"
   },
   {
    "duration": 163,
    "start_time": "2024-11-09T17:44:27.661Z"
   },
   {
    "duration": 145,
    "start_time": "2024-11-09T17:44:27.825Z"
   },
   {
    "duration": 21,
    "start_time": "2024-11-09T17:44:27.971Z"
   },
   {
    "duration": 34,
    "start_time": "2024-11-09T17:44:27.993Z"
   },
   {
    "duration": 21,
    "start_time": "2024-11-09T17:44:28.028Z"
   },
   {
    "duration": 19,
    "start_time": "2024-11-09T17:44:28.051Z"
   },
   {
    "duration": 26,
    "start_time": "2024-11-09T17:44:28.072Z"
   },
   {
    "duration": 37,
    "start_time": "2024-11-09T17:44:28.100Z"
   },
   {
    "duration": 22,
    "start_time": "2024-11-09T17:44:28.139Z"
   },
   {
    "duration": 19,
    "start_time": "2024-11-09T17:44:28.162Z"
   },
   {
    "duration": 44,
    "start_time": "2024-11-09T17:44:28.183Z"
   },
   {
    "duration": 20,
    "start_time": "2024-11-09T17:44:28.229Z"
   },
   {
    "duration": 225,
    "start_time": "2024-11-09T17:44:28.251Z"
   },
   {
    "duration": 949,
    "start_time": "2024-11-09T17:44:28.477Z"
   },
   {
    "duration": 109,
    "start_time": "2024-11-09T17:44:29.427Z"
   },
   {
    "duration": 257,
    "start_time": "2024-11-09T17:44:29.537Z"
   },
   {
    "duration": 6,
    "start_time": "2024-11-09T17:44:29.796Z"
   },
   {
    "duration": 107,
    "start_time": "2024-11-09T17:44:29.803Z"
   },
   {
    "duration": 17,
    "start_time": "2024-11-09T17:44:29.913Z"
   },
   {
    "duration": 4,
    "start_time": "2024-11-09T17:44:29.931Z"
   },
   {
    "duration": 108,
    "start_time": "2024-11-09T17:44:29.936Z"
   },
   {
    "duration": 17,
    "start_time": "2024-11-09T17:44:30.046Z"
   },
   {
    "duration": 103,
    "start_time": "2024-11-09T17:44:30.065Z"
   },
   {
    "duration": 166,
    "start_time": "2024-11-09T17:44:30.170Z"
   },
   {
    "duration": 21,
    "start_time": "2024-11-09T17:44:30.338Z"
   },
   {
    "duration": 47,
    "start_time": "2024-11-09T17:44:30.361Z"
   },
   {
    "duration": 0,
    "start_time": "2024-11-09T17:44:30.409Z"
   },
   {
    "duration": 0,
    "start_time": "2024-11-09T17:44:30.410Z"
   },
   {
    "duration": 0,
    "start_time": "2024-11-09T17:44:30.412Z"
   },
   {
    "duration": 0,
    "start_time": "2024-11-09T17:44:30.413Z"
   },
   {
    "duration": 1,
    "start_time": "2024-11-09T17:44:30.413Z"
   },
   {
    "duration": 0,
    "start_time": "2024-11-09T17:44:30.415Z"
   },
   {
    "duration": 0,
    "start_time": "2024-11-09T17:44:30.416Z"
   },
   {
    "duration": 0,
    "start_time": "2024-11-09T17:44:30.417Z"
   },
   {
    "duration": 0,
    "start_time": "2024-11-09T17:44:30.418Z"
   },
   {
    "duration": 0,
    "start_time": "2024-11-09T17:44:30.418Z"
   },
   {
    "duration": 0,
    "start_time": "2024-11-09T17:44:30.419Z"
   },
   {
    "duration": 0,
    "start_time": "2024-11-09T17:44:30.421Z"
   },
   {
    "duration": 0,
    "start_time": "2024-11-09T17:44:30.421Z"
   },
   {
    "duration": 0,
    "start_time": "2024-11-09T17:44:30.422Z"
   },
   {
    "duration": 0,
    "start_time": "2024-11-09T17:44:30.424Z"
   },
   {
    "duration": 0,
    "start_time": "2024-11-09T17:44:30.425Z"
   },
   {
    "duration": 0,
    "start_time": "2024-11-09T17:44:30.426Z"
   },
   {
    "duration": 0,
    "start_time": "2024-11-09T17:44:30.427Z"
   },
   {
    "duration": 0,
    "start_time": "2024-11-09T17:44:30.428Z"
   },
   {
    "duration": 0,
    "start_time": "2024-11-09T17:44:30.429Z"
   },
   {
    "duration": 0,
    "start_time": "2024-11-09T17:44:30.431Z"
   },
   {
    "duration": 304,
    "start_time": "2024-11-09T17:44:53.762Z"
   },
   {
    "duration": 21,
    "start_time": "2024-11-09T17:45:28.587Z"
   },
   {
    "duration": 2447,
    "start_time": "2024-11-09T17:46:35.350Z"
   },
   {
    "duration": 1443,
    "start_time": "2024-11-09T17:46:37.800Z"
   },
   {
    "duration": 953,
    "start_time": "2024-11-09T17:46:39.245Z"
   },
   {
    "duration": 184,
    "start_time": "2024-11-09T17:46:40.200Z"
   },
   {
    "duration": 39,
    "start_time": "2024-11-09T17:46:40.386Z"
   },
   {
    "duration": 174,
    "start_time": "2024-11-09T17:46:40.429Z"
   },
   {
    "duration": 60,
    "start_time": "2024-11-09T17:46:40.605Z"
   },
   {
    "duration": 4,
    "start_time": "2024-11-09T17:46:40.667Z"
   },
   {
    "duration": 81,
    "start_time": "2024-11-09T17:46:40.672Z"
   },
   {
    "duration": 178,
    "start_time": "2024-11-09T17:46:40.755Z"
   },
   {
    "duration": 167,
    "start_time": "2024-11-09T17:46:40.934Z"
   },
   {
    "duration": 36,
    "start_time": "2024-11-09T17:46:41.103Z"
   },
   {
    "duration": 37,
    "start_time": "2024-11-09T17:46:41.140Z"
   },
   {
    "duration": 30,
    "start_time": "2024-11-09T17:46:41.178Z"
   },
   {
    "duration": 38,
    "start_time": "2024-11-09T17:46:41.210Z"
   },
   {
    "duration": 41,
    "start_time": "2024-11-09T17:46:41.249Z"
   },
   {
    "duration": 48,
    "start_time": "2024-11-09T17:46:41.292Z"
   },
   {
    "duration": 23,
    "start_time": "2024-11-09T17:46:41.341Z"
   },
   {
    "duration": 75,
    "start_time": "2024-11-09T17:46:41.366Z"
   },
   {
    "duration": 46,
    "start_time": "2024-11-09T17:46:41.442Z"
   },
   {
    "duration": 52,
    "start_time": "2024-11-09T17:46:41.489Z"
   },
   {
    "duration": 192,
    "start_time": "2024-11-09T17:46:41.542Z"
   },
   {
    "duration": 952,
    "start_time": "2024-11-09T17:46:41.737Z"
   },
   {
    "duration": 115,
    "start_time": "2024-11-09T17:46:42.691Z"
   },
   {
    "duration": 316,
    "start_time": "2024-11-09T17:46:42.807Z"
   },
   {
    "duration": 5,
    "start_time": "2024-11-09T17:46:43.125Z"
   },
   {
    "duration": 123,
    "start_time": "2024-11-09T17:46:43.134Z"
   },
   {
    "duration": 18,
    "start_time": "2024-11-09T17:46:43.260Z"
   },
   {
    "duration": 18,
    "start_time": "2024-11-09T17:46:43.279Z"
   },
   {
    "duration": 133,
    "start_time": "2024-11-09T17:46:43.298Z"
   },
   {
    "duration": 19,
    "start_time": "2024-11-09T17:46:43.442Z"
   },
   {
    "duration": 112,
    "start_time": "2024-11-09T17:46:43.463Z"
   },
   {
    "duration": 169,
    "start_time": "2024-11-09T17:46:43.577Z"
   },
   {
    "duration": 69,
    "start_time": "2024-11-09T17:46:43.748Z"
   },
   {
    "duration": 145,
    "start_time": "2024-11-09T17:46:43.819Z"
   },
   {
    "duration": 0,
    "start_time": "2024-11-09T17:46:43.966Z"
   },
   {
    "duration": 0,
    "start_time": "2024-11-09T17:46:43.967Z"
   },
   {
    "duration": 0,
    "start_time": "2024-11-09T17:46:43.968Z"
   },
   {
    "duration": 0,
    "start_time": "2024-11-09T17:46:43.971Z"
   },
   {
    "duration": 0,
    "start_time": "2024-11-09T17:46:43.972Z"
   },
   {
    "duration": 0,
    "start_time": "2024-11-09T17:46:43.974Z"
   },
   {
    "duration": 0,
    "start_time": "2024-11-09T17:46:43.976Z"
   },
   {
    "duration": 0,
    "start_time": "2024-11-09T17:46:43.978Z"
   },
   {
    "duration": 1,
    "start_time": "2024-11-09T17:46:43.979Z"
   },
   {
    "duration": 0,
    "start_time": "2024-11-09T17:46:43.981Z"
   },
   {
    "duration": 0,
    "start_time": "2024-11-09T17:46:43.982Z"
   },
   {
    "duration": 0,
    "start_time": "2024-11-09T17:46:43.985Z"
   },
   {
    "duration": 0,
    "start_time": "2024-11-09T17:46:43.986Z"
   },
   {
    "duration": 0,
    "start_time": "2024-11-09T17:46:43.988Z"
   },
   {
    "duration": 0,
    "start_time": "2024-11-09T17:46:43.990Z"
   },
   {
    "duration": 0,
    "start_time": "2024-11-09T17:46:43.991Z"
   },
   {
    "duration": 0,
    "start_time": "2024-11-09T17:46:44.021Z"
   },
   {
    "duration": 0,
    "start_time": "2024-11-09T17:46:44.022Z"
   },
   {
    "duration": 0,
    "start_time": "2024-11-09T17:46:44.023Z"
   },
   {
    "duration": 0,
    "start_time": "2024-11-09T17:46:44.023Z"
   },
   {
    "duration": 0,
    "start_time": "2024-11-09T17:46:44.032Z"
   },
   {
    "duration": 0,
    "start_time": "2024-11-09T17:46:44.034Z"
   },
   {
    "duration": 24,
    "start_time": "2024-11-09T17:47:01.337Z"
   },
   {
    "duration": 207,
    "start_time": "2024-11-09T17:47:23.737Z"
   },
   {
    "duration": 32,
    "start_time": "2024-11-09T17:47:56.510Z"
   },
   {
    "duration": 25,
    "start_time": "2024-11-09T17:49:02.694Z"
   },
   {
    "duration": 23,
    "start_time": "2024-11-09T17:50:19.653Z"
   },
   {
    "duration": 166,
    "start_time": "2024-11-09T17:53:15.210Z"
   },
   {
    "duration": 186,
    "start_time": "2024-11-09T17:53:38.155Z"
   },
   {
    "duration": 94,
    "start_time": "2024-11-09T17:53:46.482Z"
   },
   {
    "duration": 6100,
    "start_time": "2024-11-09T17:54:26.586Z"
   },
   {
    "duration": 5995,
    "start_time": "2024-11-09T17:55:00.139Z"
   },
   {
    "duration": 29,
    "start_time": "2024-11-09T18:13:57.049Z"
   },
   {
    "duration": 67,
    "start_time": "2024-11-09T18:13:59.733Z"
   },
   {
    "duration": 4959,
    "start_time": "2024-11-09T18:14:02.653Z"
   },
   {
    "duration": 4,
    "start_time": "2024-11-09T18:22:48.801Z"
   },
   {
    "duration": 6,
    "start_time": "2024-11-09T18:37:58.295Z"
   },
   {
    "duration": 5,
    "start_time": "2024-11-09T18:38:24.440Z"
   },
   {
    "duration": 17,
    "start_time": "2024-11-09T18:47:09.121Z"
   },
   {
    "duration": 100,
    "start_time": "2024-11-09T18:48:43.377Z"
   },
   {
    "duration": 5,
    "start_time": "2024-11-09T18:48:56.713Z"
   },
   {
    "duration": 60,
    "start_time": "2024-11-09T18:49:02.408Z"
   },
   {
    "duration": 5,
    "start_time": "2024-11-09T18:50:29.463Z"
   },
   {
    "duration": 64,
    "start_time": "2024-11-09T18:50:46.871Z"
   },
   {
    "duration": 14,
    "start_time": "2024-11-09T18:53:20.548Z"
   },
   {
    "duration": 4,
    "start_time": "2024-11-09T18:53:36.861Z"
   },
   {
    "duration": 12,
    "start_time": "2024-11-09T18:54:44.989Z"
   },
   {
    "duration": 23395,
    "start_time": "2024-11-09T18:59:12.141Z"
   },
   {
    "duration": 4,
    "start_time": "2024-11-09T19:00:11.769Z"
   },
   {
    "duration": 2566,
    "start_time": "2024-11-09T19:02:42.946Z"
   },
   {
    "duration": 1487,
    "start_time": "2024-11-09T19:02:45.514Z"
   },
   {
    "duration": 971,
    "start_time": "2024-11-09T19:02:47.003Z"
   },
   {
    "duration": 160,
    "start_time": "2024-11-09T19:02:47.976Z"
   },
   {
    "duration": 23,
    "start_time": "2024-11-09T19:02:48.138Z"
   },
   {
    "duration": 174,
    "start_time": "2024-11-09T19:02:48.163Z"
   },
   {
    "duration": 42,
    "start_time": "2024-11-09T19:02:48.339Z"
   },
   {
    "duration": 5,
    "start_time": "2024-11-09T19:02:48.383Z"
   },
   {
    "duration": 78,
    "start_time": "2024-11-09T19:02:48.389Z"
   },
   {
    "duration": 144,
    "start_time": "2024-11-09T19:02:48.471Z"
   },
   {
    "duration": 154,
    "start_time": "2024-11-09T19:02:48.622Z"
   },
   {
    "duration": 22,
    "start_time": "2024-11-09T19:02:48.778Z"
   },
   {
    "duration": 44,
    "start_time": "2024-11-09T19:02:48.802Z"
   },
   {
    "duration": 26,
    "start_time": "2024-11-09T19:02:48.848Z"
   },
   {
    "duration": 63,
    "start_time": "2024-11-09T19:02:48.875Z"
   },
   {
    "duration": 24,
    "start_time": "2024-11-09T19:02:48.940Z"
   },
   {
    "duration": 18,
    "start_time": "2024-11-09T19:02:48.965Z"
   },
   {
    "duration": 21,
    "start_time": "2024-11-09T19:02:48.985Z"
   },
   {
    "duration": 41,
    "start_time": "2024-11-09T19:02:49.007Z"
   },
   {
    "duration": 21,
    "start_time": "2024-11-09T19:02:49.050Z"
   },
   {
    "duration": 28,
    "start_time": "2024-11-09T19:02:49.072Z"
   },
   {
    "duration": 181,
    "start_time": "2024-11-09T19:02:49.102Z"
   },
   {
    "duration": 944,
    "start_time": "2024-11-09T19:02:49.285Z"
   },
   {
    "duration": 94,
    "start_time": "2024-11-09T19:02:50.232Z"
   },
   {
    "duration": 268,
    "start_time": "2024-11-09T19:02:50.328Z"
   },
   {
    "duration": 4,
    "start_time": "2024-11-09T19:02:50.598Z"
   },
   {
    "duration": 108,
    "start_time": "2024-11-09T19:02:50.604Z"
   },
   {
    "duration": 21,
    "start_time": "2024-11-09T19:02:50.722Z"
   },
   {
    "duration": 5,
    "start_time": "2024-11-09T19:02:50.744Z"
   },
   {
    "duration": 110,
    "start_time": "2024-11-09T19:02:50.750Z"
   },
   {
    "duration": 16,
    "start_time": "2024-11-09T19:02:50.862Z"
   },
   {
    "duration": 103,
    "start_time": "2024-11-09T19:02:50.879Z"
   },
   {
    "duration": 159,
    "start_time": "2024-11-09T19:02:50.983Z"
   },
   {
    "duration": 22,
    "start_time": "2024-11-09T19:02:51.144Z"
   },
   {
    "duration": 16,
    "start_time": "2024-11-09T19:02:51.167Z"
   },
   {
    "duration": 47,
    "start_time": "2024-11-09T19:02:51.185Z"
   },
   {
    "duration": 196,
    "start_time": "2024-11-09T19:02:51.233Z"
   },
   {
    "duration": 173,
    "start_time": "2024-11-09T19:02:51.431Z"
   },
   {
    "duration": 90,
    "start_time": "2024-11-09T19:02:51.605Z"
   },
   {
    "duration": 5888,
    "start_time": "2024-11-09T19:02:51.697Z"
   },
   {
    "duration": 22,
    "start_time": "2024-11-09T19:02:57.587Z"
   },
   {
    "duration": 83,
    "start_time": "2024-11-09T19:02:57.610Z"
   },
   {
    "duration": 3,
    "start_time": "2024-11-09T19:02:57.695Z"
   },
   {
    "duration": 13,
    "start_time": "2024-11-09T19:02:57.701Z"
   },
   {
    "duration": 53,
    "start_time": "2024-11-09T19:04:05.537Z"
   },
   {
    "duration": 2510,
    "start_time": "2024-11-09T19:04:26.880Z"
   },
   {
    "duration": 1587,
    "start_time": "2024-11-09T19:04:29.394Z"
   },
   {
    "duration": 1215,
    "start_time": "2024-11-09T19:04:30.982Z"
   },
   {
    "duration": 178,
    "start_time": "2024-11-09T19:04:32.198Z"
   },
   {
    "duration": 27,
    "start_time": "2024-11-09T19:04:32.378Z"
   },
   {
    "duration": 177,
    "start_time": "2024-11-09T19:04:32.406Z"
   },
   {
    "duration": 54,
    "start_time": "2024-11-09T19:04:32.585Z"
   },
   {
    "duration": 4,
    "start_time": "2024-11-09T19:04:32.640Z"
   },
   {
    "duration": 80,
    "start_time": "2024-11-09T19:04:32.645Z"
   },
   {
    "duration": 164,
    "start_time": "2024-11-09T19:04:32.733Z"
   },
   {
    "duration": 173,
    "start_time": "2024-11-09T19:04:32.900Z"
   },
   {
    "duration": 22,
    "start_time": "2024-11-09T19:04:33.074Z"
   },
   {
    "duration": 97,
    "start_time": "2024-11-09T19:04:33.098Z"
   },
   {
    "duration": 56,
    "start_time": "2024-11-09T19:04:33.196Z"
   },
   {
    "duration": 30,
    "start_time": "2024-11-09T19:04:33.254Z"
   },
   {
    "duration": 33,
    "start_time": "2024-11-09T19:04:33.285Z"
   },
   {
    "duration": 41,
    "start_time": "2024-11-09T19:04:33.319Z"
   },
   {
    "duration": 21,
    "start_time": "2024-11-09T19:04:33.362Z"
   },
   {
    "duration": 19,
    "start_time": "2024-11-09T19:04:33.384Z"
   },
   {
    "duration": 26,
    "start_time": "2024-11-09T19:04:33.405Z"
   },
   {
    "duration": 41,
    "start_time": "2024-11-09T19:04:33.432Z"
   },
   {
    "duration": 165,
    "start_time": "2024-11-09T19:04:33.475Z"
   },
   {
    "duration": 938,
    "start_time": "2024-11-09T19:04:33.642Z"
   },
   {
    "duration": 91,
    "start_time": "2024-11-09T19:04:34.582Z"
   },
   {
    "duration": 275,
    "start_time": "2024-11-09T19:04:34.674Z"
   },
   {
    "duration": 5,
    "start_time": "2024-11-09T19:04:34.950Z"
   },
   {
    "duration": 107,
    "start_time": "2024-11-09T19:04:34.956Z"
   },
   {
    "duration": 18,
    "start_time": "2024-11-09T19:04:35.066Z"
   },
   {
    "duration": 4,
    "start_time": "2024-11-09T19:04:35.085Z"
   },
   {
    "duration": 114,
    "start_time": "2024-11-09T19:04:35.091Z"
   },
   {
    "duration": 26,
    "start_time": "2024-11-09T19:04:35.206Z"
   },
   {
    "duration": 92,
    "start_time": "2024-11-09T19:04:35.235Z"
   },
   {
    "duration": 153,
    "start_time": "2024-11-09T19:04:35.329Z"
   },
   {
    "duration": 21,
    "start_time": "2024-11-09T19:04:35.483Z"
   },
   {
    "duration": 48,
    "start_time": "2024-11-09T19:04:35.506Z"
   },
   {
    "duration": 45,
    "start_time": "2024-11-09T19:04:35.556Z"
   },
   {
    "duration": 180,
    "start_time": "2024-11-09T19:04:35.602Z"
   },
   {
    "duration": 176,
    "start_time": "2024-11-09T19:04:35.783Z"
   },
   {
    "duration": 100,
    "start_time": "2024-11-09T19:04:35.961Z"
   },
   {
    "duration": 5862,
    "start_time": "2024-11-09T19:04:36.062Z"
   },
   {
    "duration": 24,
    "start_time": "2024-11-09T19:04:41.926Z"
   },
   {
    "duration": 85,
    "start_time": "2024-11-09T19:04:41.951Z"
   },
   {
    "duration": 3,
    "start_time": "2024-11-09T19:04:42.038Z"
   },
   {
    "duration": 26,
    "start_time": "2024-11-09T19:04:42.043Z"
   },
   {
    "duration": 2388,
    "start_time": "2024-11-09T19:08:50.905Z"
   },
   {
    "duration": 1421,
    "start_time": "2024-11-09T19:08:53.296Z"
   },
   {
    "duration": 853,
    "start_time": "2024-11-09T19:08:54.718Z"
   },
   {
    "duration": 157,
    "start_time": "2024-11-09T19:08:55.573Z"
   },
   {
    "duration": 22,
    "start_time": "2024-11-09T19:08:55.732Z"
   },
   {
    "duration": 146,
    "start_time": "2024-11-09T19:08:55.756Z"
   },
   {
    "duration": 58,
    "start_time": "2024-11-09T19:08:55.904Z"
   },
   {
    "duration": 4,
    "start_time": "2024-11-09T19:08:55.963Z"
   },
   {
    "duration": 67,
    "start_time": "2024-11-09T19:08:55.968Z"
   },
   {
    "duration": 141,
    "start_time": "2024-11-09T19:08:56.038Z"
   },
   {
    "duration": 156,
    "start_time": "2024-11-09T19:08:56.180Z"
   },
   {
    "duration": 22,
    "start_time": "2024-11-09T19:08:56.337Z"
   },
   {
    "duration": 21,
    "start_time": "2024-11-09T19:08:56.361Z"
   },
   {
    "duration": 22,
    "start_time": "2024-11-09T19:08:56.384Z"
   },
   {
    "duration": 37,
    "start_time": "2024-11-09T19:08:56.408Z"
   },
   {
    "duration": 25,
    "start_time": "2024-11-09T19:08:56.447Z"
   },
   {
    "duration": 18,
    "start_time": "2024-11-09T19:08:56.474Z"
   },
   {
    "duration": 45,
    "start_time": "2024-11-09T19:08:56.493Z"
   },
   {
    "duration": 71,
    "start_time": "2024-11-09T19:08:56.539Z"
   },
   {
    "duration": 28,
    "start_time": "2024-11-09T19:08:56.611Z"
   },
   {
    "duration": 19,
    "start_time": "2024-11-09T19:08:56.640Z"
   },
   {
    "duration": 144,
    "start_time": "2024-11-09T19:08:56.660Z"
   },
   {
    "duration": 904,
    "start_time": "2024-11-09T19:08:56.806Z"
   },
   {
    "duration": 92,
    "start_time": "2024-11-09T19:08:57.711Z"
   },
   {
    "duration": 259,
    "start_time": "2024-11-09T19:08:57.804Z"
   },
   {
    "duration": 4,
    "start_time": "2024-11-09T19:08:58.065Z"
   },
   {
    "duration": 107,
    "start_time": "2024-11-09T19:08:58.070Z"
   },
   {
    "duration": 17,
    "start_time": "2024-11-09T19:08:58.180Z"
   },
   {
    "duration": 4,
    "start_time": "2024-11-09T19:08:58.199Z"
   },
   {
    "duration": 104,
    "start_time": "2024-11-09T19:08:58.204Z"
   },
   {
    "duration": 25,
    "start_time": "2024-11-09T19:08:58.310Z"
   },
   {
    "duration": 78,
    "start_time": "2024-11-09T19:08:58.337Z"
   },
   {
    "duration": 149,
    "start_time": "2024-11-09T19:08:58.422Z"
   },
   {
    "duration": 23,
    "start_time": "2024-11-09T19:08:58.572Z"
   },
   {
    "duration": 43,
    "start_time": "2024-11-09T19:08:58.596Z"
   },
   {
    "duration": 24,
    "start_time": "2024-11-09T19:08:58.640Z"
   },
   {
    "duration": 171,
    "start_time": "2024-11-09T19:08:58.666Z"
   },
   {
    "duration": 169,
    "start_time": "2024-11-09T19:08:58.839Z"
   },
   {
    "duration": 86,
    "start_time": "2024-11-09T19:08:59.009Z"
   },
   {
    "duration": 5544,
    "start_time": "2024-11-09T19:08:59.097Z"
   },
   {
    "duration": 21,
    "start_time": "2024-11-09T19:09:04.643Z"
   },
   {
    "duration": 90,
    "start_time": "2024-11-09T19:09:04.666Z"
   },
   {
    "duration": 2,
    "start_time": "2024-11-09T19:09:04.758Z"
   },
   {
    "duration": 14,
    "start_time": "2024-11-09T19:09:04.761Z"
   },
   {
    "duration": 2455,
    "start_time": "2024-11-09T19:19:48.048Z"
   },
   {
    "duration": 1495,
    "start_time": "2024-11-09T19:19:50.505Z"
   },
   {
    "duration": 1217,
    "start_time": "2024-11-09T19:19:52.002Z"
   },
   {
    "duration": 172,
    "start_time": "2024-11-09T19:19:53.221Z"
   },
   {
    "duration": 46,
    "start_time": "2024-11-09T19:19:53.394Z"
   },
   {
    "duration": 304,
    "start_time": "2024-11-09T19:19:53.442Z"
   },
   {
    "duration": 45,
    "start_time": "2024-11-09T19:19:53.747Z"
   },
   {
    "duration": 4,
    "start_time": "2024-11-09T19:19:53.794Z"
   },
   {
    "duration": 92,
    "start_time": "2024-11-09T19:19:53.800Z"
   },
   {
    "duration": 167,
    "start_time": "2024-11-09T19:19:53.894Z"
   },
   {
    "duration": 150,
    "start_time": "2024-11-09T19:19:54.063Z"
   },
   {
    "duration": 34,
    "start_time": "2024-11-09T19:19:54.214Z"
   },
   {
    "duration": 18,
    "start_time": "2024-11-09T19:19:54.250Z"
   },
   {
    "duration": 23,
    "start_time": "2024-11-09T19:19:54.270Z"
   },
   {
    "duration": 41,
    "start_time": "2024-11-09T19:19:54.294Z"
   },
   {
    "duration": 26,
    "start_time": "2024-11-09T19:19:54.341Z"
   },
   {
    "duration": 25,
    "start_time": "2024-11-09T19:19:54.369Z"
   },
   {
    "duration": 44,
    "start_time": "2024-11-09T19:19:54.395Z"
   },
   {
    "duration": 31,
    "start_time": "2024-11-09T19:19:54.440Z"
   },
   {
    "duration": 27,
    "start_time": "2024-11-09T19:19:54.473Z"
   },
   {
    "duration": 36,
    "start_time": "2024-11-09T19:19:54.501Z"
   },
   {
    "duration": 160,
    "start_time": "2024-11-09T19:19:54.539Z"
   },
   {
    "duration": 921,
    "start_time": "2024-11-09T19:19:54.701Z"
   },
   {
    "duration": 88,
    "start_time": "2024-11-09T19:19:55.629Z"
   },
   {
    "duration": 272,
    "start_time": "2024-11-09T19:19:55.718Z"
   },
   {
    "duration": 4,
    "start_time": "2024-11-09T19:19:55.991Z"
   },
   {
    "duration": 113,
    "start_time": "2024-11-09T19:19:55.997Z"
   },
   {
    "duration": 25,
    "start_time": "2024-11-09T19:19:56.114Z"
   },
   {
    "duration": 4,
    "start_time": "2024-11-09T19:19:56.140Z"
   },
   {
    "duration": 106,
    "start_time": "2024-11-09T19:19:56.145Z"
   },
   {
    "duration": 16,
    "start_time": "2024-11-09T19:19:56.253Z"
   },
   {
    "duration": 104,
    "start_time": "2024-11-09T19:19:56.270Z"
   },
   {
    "duration": 163,
    "start_time": "2024-11-09T19:19:56.375Z"
   },
   {
    "duration": 22,
    "start_time": "2024-11-09T19:19:56.539Z"
   },
   {
    "duration": 101,
    "start_time": "2024-11-09T19:19:56.562Z"
   },
   {
    "duration": 50,
    "start_time": "2024-11-09T19:19:56.665Z"
   },
   {
    "duration": 186,
    "start_time": "2024-11-09T19:19:56.717Z"
   },
   {
    "duration": 174,
    "start_time": "2024-11-09T19:19:56.905Z"
   },
   {
    "duration": 96,
    "start_time": "2024-11-09T19:19:57.080Z"
   },
   {
    "duration": 5711,
    "start_time": "2024-11-09T19:19:57.178Z"
   },
   {
    "duration": 29,
    "start_time": "2024-11-09T19:20:02.890Z"
   },
   {
    "duration": 87,
    "start_time": "2024-11-09T19:20:02.921Z"
   },
   {
    "duration": 3,
    "start_time": "2024-11-09T19:20:03.009Z"
   },
   {
    "duration": 37,
    "start_time": "2024-11-09T19:20:03.013Z"
   },
   {
    "duration": 2583,
    "start_time": "2024-11-09T19:33:10.782Z"
   },
   {
    "duration": 1435,
    "start_time": "2024-11-09T19:33:13.368Z"
   },
   {
    "duration": 971,
    "start_time": "2024-11-09T19:33:14.804Z"
   },
   {
    "duration": 187,
    "start_time": "2024-11-09T19:33:15.777Z"
   },
   {
    "duration": 24,
    "start_time": "2024-11-09T19:33:15.965Z"
   },
   {
    "duration": 185,
    "start_time": "2024-11-09T19:33:15.991Z"
   },
   {
    "duration": 37,
    "start_time": "2024-11-09T19:33:16.178Z"
   },
   {
    "duration": 4,
    "start_time": "2024-11-09T19:33:16.225Z"
   },
   {
    "duration": 56,
    "start_time": "2024-11-09T19:33:16.233Z"
   },
   {
    "duration": 198,
    "start_time": "2024-11-09T19:33:16.293Z"
   },
   {
    "duration": 181,
    "start_time": "2024-11-09T19:33:16.492Z"
   },
   {
    "duration": 25,
    "start_time": "2024-11-09T19:33:16.674Z"
   },
   {
    "duration": 29,
    "start_time": "2024-11-09T19:33:16.700Z"
   },
   {
    "duration": 32,
    "start_time": "2024-11-09T19:33:16.737Z"
   },
   {
    "duration": 18,
    "start_time": "2024-11-09T19:33:16.771Z"
   },
   {
    "duration": 24,
    "start_time": "2024-11-09T19:33:16.790Z"
   },
   {
    "duration": 30,
    "start_time": "2024-11-09T19:33:16.816Z"
   },
   {
    "duration": 30,
    "start_time": "2024-11-09T19:33:16.847Z"
   },
   {
    "duration": 24,
    "start_time": "2024-11-09T19:33:16.879Z"
   },
   {
    "duration": 45,
    "start_time": "2024-11-09T19:33:16.905Z"
   },
   {
    "duration": 24,
    "start_time": "2024-11-09T19:33:16.952Z"
   },
   {
    "duration": 186,
    "start_time": "2024-11-09T19:33:16.977Z"
   },
   {
    "duration": 971,
    "start_time": "2024-11-09T19:33:17.165Z"
   },
   {
    "duration": 88,
    "start_time": "2024-11-09T19:33:18.137Z"
   },
   {
    "duration": 271,
    "start_time": "2024-11-09T19:33:18.227Z"
   },
   {
    "duration": 5,
    "start_time": "2024-11-09T19:33:18.500Z"
   },
   {
    "duration": 124,
    "start_time": "2024-11-09T19:33:18.507Z"
   },
   {
    "duration": 27,
    "start_time": "2024-11-09T19:33:18.639Z"
   },
   {
    "duration": 4,
    "start_time": "2024-11-09T19:33:18.667Z"
   },
   {
    "duration": 99,
    "start_time": "2024-11-09T19:33:18.672Z"
   },
   {
    "duration": 17,
    "start_time": "2024-11-09T19:33:18.773Z"
   },
   {
    "duration": 95,
    "start_time": "2024-11-09T19:33:18.791Z"
   },
   {
    "duration": 183,
    "start_time": "2024-11-09T19:33:18.888Z"
   },
   {
    "duration": 20,
    "start_time": "2024-11-09T19:33:19.073Z"
   },
   {
    "duration": 39,
    "start_time": "2024-11-09T19:33:19.094Z"
   },
   {
    "duration": 38,
    "start_time": "2024-11-09T19:33:19.135Z"
   },
   {
    "duration": 191,
    "start_time": "2024-11-09T19:33:19.174Z"
   },
   {
    "duration": 194,
    "start_time": "2024-11-09T19:33:19.366Z"
   },
   {
    "duration": 104,
    "start_time": "2024-11-09T19:33:19.561Z"
   },
   {
    "duration": 6289,
    "start_time": "2024-11-09T19:33:19.666Z"
   },
   {
    "duration": 23,
    "start_time": "2024-11-09T19:33:25.957Z"
   },
   {
    "duration": 85,
    "start_time": "2024-11-09T19:33:25.981Z"
   },
   {
    "duration": 3,
    "start_time": "2024-11-09T19:33:26.067Z"
   },
   {
    "duration": 23,
    "start_time": "2024-11-09T19:33:26.072Z"
   },
   {
    "duration": 73,
    "start_time": "2024-11-09T19:33:26.096Z"
   },
   {
    "duration": 0,
    "start_time": "2024-11-09T19:33:26.171Z"
   },
   {
    "duration": 0,
    "start_time": "2024-11-09T19:33:26.172Z"
   },
   {
    "duration": 0,
    "start_time": "2024-11-09T19:33:26.174Z"
   },
   {
    "duration": 0,
    "start_time": "2024-11-09T19:33:26.175Z"
   },
   {
    "duration": 0,
    "start_time": "2024-11-09T19:33:26.177Z"
   },
   {
    "duration": 0,
    "start_time": "2024-11-09T19:33:26.178Z"
   },
   {
    "duration": 0,
    "start_time": "2024-11-09T19:33:26.180Z"
   },
   {
    "duration": 0,
    "start_time": "2024-11-09T19:33:26.181Z"
   },
   {
    "duration": 0,
    "start_time": "2024-11-09T19:33:26.182Z"
   },
   {
    "duration": 0,
    "start_time": "2024-11-09T19:33:26.184Z"
   },
   {
    "duration": 0,
    "start_time": "2024-11-09T19:33:26.185Z"
   },
   {
    "duration": 0,
    "start_time": "2024-11-09T19:33:26.186Z"
   },
   {
    "duration": 0,
    "start_time": "2024-11-09T19:33:26.188Z"
   },
   {
    "duration": 0,
    "start_time": "2024-11-09T19:33:26.189Z"
   },
   {
    "duration": 745,
    "start_time": "2024-11-09T19:33:47.486Z"
   },
   {
    "duration": 2617,
    "start_time": "2024-11-09T19:38:12.900Z"
   },
   {
    "duration": 1469,
    "start_time": "2024-11-09T19:38:15.519Z"
   },
   {
    "duration": 977,
    "start_time": "2024-11-09T19:38:16.990Z"
   },
   {
    "duration": 183,
    "start_time": "2024-11-09T19:38:17.969Z"
   },
   {
    "duration": 26,
    "start_time": "2024-11-09T19:38:18.154Z"
   },
   {
    "duration": 184,
    "start_time": "2024-11-09T19:38:18.181Z"
   },
   {
    "duration": 37,
    "start_time": "2024-11-09T19:38:18.366Z"
   },
   {
    "duration": 4,
    "start_time": "2024-11-09T19:38:18.404Z"
   },
   {
    "duration": 69,
    "start_time": "2024-11-09T19:38:18.430Z"
   },
   {
    "duration": 188,
    "start_time": "2024-11-09T19:38:18.502Z"
   },
   {
    "duration": 183,
    "start_time": "2024-11-09T19:38:18.691Z"
   },
   {
    "duration": 20,
    "start_time": "2024-11-09T19:38:18.875Z"
   },
   {
    "duration": 53,
    "start_time": "2024-11-09T19:38:18.897Z"
   },
   {
    "duration": 24,
    "start_time": "2024-11-09T19:38:18.952Z"
   },
   {
    "duration": 19,
    "start_time": "2024-11-09T19:38:18.977Z"
   },
   {
    "duration": 54,
    "start_time": "2024-11-09T19:38:18.997Z"
   },
   {
    "duration": 20,
    "start_time": "2024-11-09T19:38:19.056Z"
   },
   {
    "duration": 22,
    "start_time": "2024-11-09T19:38:19.077Z"
   },
   {
    "duration": 28,
    "start_time": "2024-11-09T19:38:19.100Z"
   },
   {
    "duration": 33,
    "start_time": "2024-11-09T19:38:19.137Z"
   },
   {
    "duration": 20,
    "start_time": "2024-11-09T19:38:19.171Z"
   },
   {
    "duration": 187,
    "start_time": "2024-11-09T19:38:19.192Z"
   },
   {
    "duration": 1021,
    "start_time": "2024-11-09T19:38:19.380Z"
   },
   {
    "duration": 101,
    "start_time": "2024-11-09T19:38:20.403Z"
   },
   {
    "duration": 285,
    "start_time": "2024-11-09T19:38:20.506Z"
   },
   {
    "duration": 5,
    "start_time": "2024-11-09T19:38:20.792Z"
   },
   {
    "duration": 137,
    "start_time": "2024-11-09T19:38:20.798Z"
   },
   {
    "duration": 20,
    "start_time": "2024-11-09T19:38:20.948Z"
   },
   {
    "duration": 5,
    "start_time": "2024-11-09T19:38:20.969Z"
   },
   {
    "duration": 92,
    "start_time": "2024-11-09T19:38:20.975Z"
   },
   {
    "duration": 16,
    "start_time": "2024-11-09T19:38:21.069Z"
   },
   {
    "duration": 99,
    "start_time": "2024-11-09T19:38:21.086Z"
   },
   {
    "duration": 192,
    "start_time": "2024-11-09T19:38:21.186Z"
   },
   {
    "duration": 25,
    "start_time": "2024-11-09T19:38:21.380Z"
   },
   {
    "duration": 32,
    "start_time": "2024-11-09T19:38:21.406Z"
   },
   {
    "duration": 38,
    "start_time": "2024-11-09T19:38:21.439Z"
   },
   {
    "duration": 191,
    "start_time": "2024-11-09T19:38:21.478Z"
   },
   {
    "duration": 190,
    "start_time": "2024-11-09T19:38:21.671Z"
   },
   {
    "duration": 107,
    "start_time": "2024-11-09T19:38:21.863Z"
   },
   {
    "duration": 6218,
    "start_time": "2024-11-09T19:38:21.971Z"
   },
   {
    "duration": 32,
    "start_time": "2024-11-09T19:38:28.191Z"
   },
   {
    "duration": 77,
    "start_time": "2024-11-09T19:38:28.225Z"
   },
   {
    "duration": 3,
    "start_time": "2024-11-09T19:38:28.303Z"
   },
   {
    "duration": 35,
    "start_time": "2024-11-09T19:38:28.307Z"
   },
   {
    "duration": 125,
    "start_time": "2024-11-09T19:38:28.355Z"
   },
   {
    "duration": 0,
    "start_time": "2024-11-09T19:38:28.482Z"
   },
   {
    "duration": 0,
    "start_time": "2024-11-09T19:38:28.483Z"
   },
   {
    "duration": 0,
    "start_time": "2024-11-09T19:38:28.484Z"
   },
   {
    "duration": 0,
    "start_time": "2024-11-09T19:38:28.485Z"
   },
   {
    "duration": 0,
    "start_time": "2024-11-09T19:38:28.486Z"
   },
   {
    "duration": 0,
    "start_time": "2024-11-09T19:38:28.487Z"
   },
   {
    "duration": 0,
    "start_time": "2024-11-09T19:38:28.488Z"
   },
   {
    "duration": 0,
    "start_time": "2024-11-09T19:38:28.489Z"
   },
   {
    "duration": 0,
    "start_time": "2024-11-09T19:38:28.490Z"
   },
   {
    "duration": 0,
    "start_time": "2024-11-09T19:38:28.491Z"
   },
   {
    "duration": 0,
    "start_time": "2024-11-09T19:38:28.492Z"
   },
   {
    "duration": 0,
    "start_time": "2024-11-09T19:38:28.493Z"
   },
   {
    "duration": 0,
    "start_time": "2024-11-09T19:38:28.494Z"
   },
   {
    "duration": 0,
    "start_time": "2024-11-09T19:38:28.495Z"
   },
   {
    "duration": 11,
    "start_time": "2024-11-09T19:38:57.885Z"
   },
   {
    "duration": 2570,
    "start_time": "2024-11-09T19:42:36.717Z"
   },
   {
    "duration": 1418,
    "start_time": "2024-11-09T19:42:39.289Z"
   },
   {
    "duration": 958,
    "start_time": "2024-11-09T19:42:40.709Z"
   },
   {
    "duration": 182,
    "start_time": "2024-11-09T19:42:41.669Z"
   },
   {
    "duration": 25,
    "start_time": "2024-11-09T19:42:41.853Z"
   },
   {
    "duration": 195,
    "start_time": "2024-11-09T19:42:41.880Z"
   },
   {
    "duration": 53,
    "start_time": "2024-11-09T19:42:42.077Z"
   },
   {
    "duration": 9,
    "start_time": "2024-11-09T19:42:42.138Z"
   },
   {
    "duration": 52,
    "start_time": "2024-11-09T19:42:42.158Z"
   },
   {
    "duration": 182,
    "start_time": "2024-11-09T19:42:42.213Z"
   },
   {
    "duration": 186,
    "start_time": "2024-11-09T19:42:42.396Z"
   },
   {
    "duration": 21,
    "start_time": "2024-11-09T19:42:42.583Z"
   },
   {
    "duration": 62,
    "start_time": "2024-11-09T19:42:42.605Z"
   },
   {
    "duration": 104,
    "start_time": "2024-11-09T19:42:42.668Z"
   },
   {
    "duration": 19,
    "start_time": "2024-11-09T19:42:42.773Z"
   },
   {
    "duration": 22,
    "start_time": "2024-11-09T19:42:42.793Z"
   },
   {
    "duration": 55,
    "start_time": "2024-11-09T19:42:42.816Z"
   },
   {
    "duration": 25,
    "start_time": "2024-11-09T19:42:42.873Z"
   },
   {
    "duration": 25,
    "start_time": "2024-11-09T19:42:42.900Z"
   },
   {
    "duration": 50,
    "start_time": "2024-11-09T19:42:42.934Z"
   },
   {
    "duration": 21,
    "start_time": "2024-11-09T19:42:42.986Z"
   },
   {
    "duration": 181,
    "start_time": "2024-11-09T19:42:43.009Z"
   },
   {
    "duration": 1015,
    "start_time": "2024-11-09T19:42:43.192Z"
   },
   {
    "duration": 100,
    "start_time": "2024-11-09T19:42:44.209Z"
   },
   {
    "duration": 287,
    "start_time": "2024-11-09T19:42:44.311Z"
   },
   {
    "duration": 5,
    "start_time": "2024-11-09T19:42:44.599Z"
   },
   {
    "duration": 134,
    "start_time": "2024-11-09T19:42:44.605Z"
   },
   {
    "duration": 25,
    "start_time": "2024-11-09T19:42:44.743Z"
   },
   {
    "duration": 5,
    "start_time": "2024-11-09T19:42:44.770Z"
   },
   {
    "duration": 90,
    "start_time": "2024-11-09T19:42:44.777Z"
   },
   {
    "duration": 17,
    "start_time": "2024-11-09T19:42:44.869Z"
   },
   {
    "duration": 106,
    "start_time": "2024-11-09T19:42:44.887Z"
   },
   {
    "duration": 195,
    "start_time": "2024-11-09T19:42:44.995Z"
   },
   {
    "duration": 38,
    "start_time": "2024-11-09T19:42:45.192Z"
   },
   {
    "duration": 33,
    "start_time": "2024-11-09T19:42:45.233Z"
   },
   {
    "duration": 31,
    "start_time": "2024-11-09T19:42:45.268Z"
   },
   {
    "duration": 211,
    "start_time": "2024-11-09T19:42:45.300Z"
   },
   {
    "duration": 188,
    "start_time": "2024-11-09T19:42:45.512Z"
   },
   {
    "duration": 104,
    "start_time": "2024-11-09T19:42:45.702Z"
   },
   {
    "duration": 6353,
    "start_time": "2024-11-09T19:42:45.808Z"
   },
   {
    "duration": 22,
    "start_time": "2024-11-09T19:42:52.163Z"
   },
   {
    "duration": 90,
    "start_time": "2024-11-09T19:42:52.186Z"
   },
   {
    "duration": 3,
    "start_time": "2024-11-09T19:42:52.278Z"
   },
   {
    "duration": 20,
    "start_time": "2024-11-09T19:42:52.282Z"
   },
   {
    "duration": 2713,
    "start_time": "2024-11-09T19:47:27.158Z"
   },
   {
    "duration": 1537,
    "start_time": "2024-11-09T19:47:29.873Z"
   },
   {
    "duration": 978,
    "start_time": "2024-11-09T19:47:31.412Z"
   },
   {
    "duration": 216,
    "start_time": "2024-11-09T19:47:32.392Z"
   },
   {
    "duration": 45,
    "start_time": "2024-11-09T19:47:32.610Z"
   },
   {
    "duration": 200,
    "start_time": "2024-11-09T19:47:32.656Z"
   },
   {
    "duration": 91,
    "start_time": "2024-11-09T19:47:32.858Z"
   },
   {
    "duration": 19,
    "start_time": "2024-11-09T19:47:32.958Z"
   },
   {
    "duration": 77,
    "start_time": "2024-11-09T19:47:32.981Z"
   },
   {
    "duration": 196,
    "start_time": "2024-11-09T19:47:33.062Z"
   },
   {
    "duration": 197,
    "start_time": "2024-11-09T19:47:33.265Z"
   },
   {
    "duration": 30,
    "start_time": "2024-11-09T19:47:33.463Z"
   },
   {
    "duration": 78,
    "start_time": "2024-11-09T19:47:33.495Z"
   },
   {
    "duration": 24,
    "start_time": "2024-11-09T19:47:33.574Z"
   },
   {
    "duration": 63,
    "start_time": "2024-11-09T19:47:33.600Z"
   },
   {
    "duration": 29,
    "start_time": "2024-11-09T19:47:33.671Z"
   },
   {
    "duration": 67,
    "start_time": "2024-11-09T19:47:33.702Z"
   },
   {
    "duration": 44,
    "start_time": "2024-11-09T19:47:33.771Z"
   },
   {
    "duration": 63,
    "start_time": "2024-11-09T19:47:33.816Z"
   },
   {
    "duration": 28,
    "start_time": "2024-11-09T19:47:33.881Z"
   },
   {
    "duration": 67,
    "start_time": "2024-11-09T19:47:33.911Z"
   },
   {
    "duration": 204,
    "start_time": "2024-11-09T19:47:33.979Z"
   },
   {
    "duration": 1005,
    "start_time": "2024-11-09T19:47:34.185Z"
   },
   {
    "duration": 98,
    "start_time": "2024-11-09T19:47:35.191Z"
   },
   {
    "duration": 290,
    "start_time": "2024-11-09T19:47:35.290Z"
   },
   {
    "duration": 4,
    "start_time": "2024-11-09T19:47:35.582Z"
   },
   {
    "duration": 108,
    "start_time": "2024-11-09T19:47:35.587Z"
   },
   {
    "duration": 16,
    "start_time": "2024-11-09T19:47:35.699Z"
   },
   {
    "duration": 26,
    "start_time": "2024-11-09T19:47:35.716Z"
   },
   {
    "duration": 112,
    "start_time": "2024-11-09T19:47:35.743Z"
   },
   {
    "duration": 21,
    "start_time": "2024-11-09T19:47:35.857Z"
   },
   {
    "duration": 99,
    "start_time": "2024-11-09T19:47:35.880Z"
   },
   {
    "duration": 194,
    "start_time": "2024-11-09T19:47:35.980Z"
   },
   {
    "duration": 21,
    "start_time": "2024-11-09T19:47:36.175Z"
   },
   {
    "duration": 32,
    "start_time": "2024-11-09T19:47:36.197Z"
   },
   {
    "duration": 63,
    "start_time": "2024-11-09T19:47:36.230Z"
   },
   {
    "duration": 20,
    "start_time": "2024-11-09T19:47:36.294Z"
   },
   {
    "duration": 58,
    "start_time": "2024-11-09T19:47:36.315Z"
   },
   {
    "duration": 0,
    "start_time": "2024-11-09T19:47:36.374Z"
   },
   {
    "duration": 0,
    "start_time": "2024-11-09T19:47:36.375Z"
   },
   {
    "duration": 0,
    "start_time": "2024-11-09T19:47:36.376Z"
   },
   {
    "duration": 0,
    "start_time": "2024-11-09T19:47:36.378Z"
   },
   {
    "duration": 0,
    "start_time": "2024-11-09T19:47:36.378Z"
   },
   {
    "duration": 0,
    "start_time": "2024-11-09T19:47:36.380Z"
   },
   {
    "duration": 0,
    "start_time": "2024-11-09T19:47:36.381Z"
   },
   {
    "duration": 0,
    "start_time": "2024-11-09T19:47:36.382Z"
   },
   {
    "duration": 0,
    "start_time": "2024-11-09T19:47:36.383Z"
   },
   {
    "duration": 0,
    "start_time": "2024-11-09T19:47:36.384Z"
   },
   {
    "duration": 0,
    "start_time": "2024-11-09T19:47:36.385Z"
   },
   {
    "duration": 0,
    "start_time": "2024-11-09T19:47:36.385Z"
   },
   {
    "duration": 0,
    "start_time": "2024-11-09T19:47:36.387Z"
   },
   {
    "duration": 0,
    "start_time": "2024-11-09T19:47:36.388Z"
   },
   {
    "duration": 0,
    "start_time": "2024-11-09T19:47:36.389Z"
   },
   {
    "duration": 0,
    "start_time": "2024-11-09T19:47:36.390Z"
   },
   {
    "duration": 0,
    "start_time": "2024-11-09T19:47:36.391Z"
   },
   {
    "duration": 0,
    "start_time": "2024-11-09T19:47:36.392Z"
   },
   {
    "duration": 0,
    "start_time": "2024-11-09T19:47:36.393Z"
   },
   {
    "duration": 0,
    "start_time": "2024-11-09T19:47:36.394Z"
   },
   {
    "duration": 0,
    "start_time": "2024-11-09T19:47:36.395Z"
   },
   {
    "duration": 0,
    "start_time": "2024-11-09T19:47:36.395Z"
   },
   {
    "duration": 396,
    "start_time": "2024-11-09T19:50:33.213Z"
   },
   {
    "duration": 24,
    "start_time": "2024-11-09T19:50:39.361Z"
   },
   {
    "duration": 745,
    "start_time": "2024-11-09T19:51:42.662Z"
   },
   {
    "duration": 20,
    "start_time": "2024-11-09T19:51:46.169Z"
   },
   {
    "duration": 205,
    "start_time": "2024-11-09T19:51:59.152Z"
   },
   {
    "duration": 25,
    "start_time": "2024-11-09T19:52:15.949Z"
   },
   {
    "duration": 1057,
    "start_time": "2024-11-09T19:52:35.971Z"
   },
   {
    "duration": 33,
    "start_time": "2024-11-09T19:52:44.246Z"
   },
   {
    "duration": 420,
    "start_time": "2024-11-09T19:53:13.927Z"
   },
   {
    "duration": 724,
    "start_time": "2024-11-09T19:53:16.348Z"
   },
   {
    "duration": 194,
    "start_time": "2024-11-09T19:53:18.403Z"
   },
   {
    "duration": 197,
    "start_time": "2024-11-09T19:53:21.099Z"
   },
   {
    "duration": 123,
    "start_time": "2024-11-09T19:53:25.644Z"
   },
   {
    "duration": 6590,
    "start_time": "2024-11-09T19:53:34.906Z"
   },
   {
    "duration": 22,
    "start_time": "2024-11-09T19:53:55.475Z"
   },
   {
    "duration": 70,
    "start_time": "2024-11-09T19:53:58.274Z"
   },
   {
    "duration": 3,
    "start_time": "2024-11-09T19:54:05.097Z"
   },
   {
    "duration": 2816,
    "start_time": "2024-11-09T19:59:43.582Z"
   },
   {
    "duration": 1546,
    "start_time": "2024-11-09T19:59:46.400Z"
   },
   {
    "duration": 1013,
    "start_time": "2024-11-09T19:59:47.950Z"
   },
   {
    "duration": 190,
    "start_time": "2024-11-09T19:59:48.965Z"
   },
   {
    "duration": 28,
    "start_time": "2024-11-09T19:59:49.160Z"
   },
   {
    "duration": 192,
    "start_time": "2024-11-09T19:59:49.189Z"
   },
   {
    "duration": 49,
    "start_time": "2024-11-09T19:59:49.385Z"
   },
   {
    "duration": 23,
    "start_time": "2024-11-09T19:59:49.443Z"
   },
   {
    "duration": 66,
    "start_time": "2024-11-09T19:59:49.471Z"
   },
   {
    "duration": 190,
    "start_time": "2024-11-09T19:59:49.547Z"
   },
   {
    "duration": 191,
    "start_time": "2024-11-09T19:59:49.743Z"
   },
   {
    "duration": 43,
    "start_time": "2024-11-09T19:59:49.935Z"
   },
   {
    "duration": 18,
    "start_time": "2024-11-09T19:59:49.979Z"
   },
   {
    "duration": 34,
    "start_time": "2024-11-09T19:59:49.998Z"
   },
   {
    "duration": 43,
    "start_time": "2024-11-09T19:59:50.034Z"
   },
   {
    "duration": 21,
    "start_time": "2024-11-09T19:59:50.078Z"
   },
   {
    "duration": 39,
    "start_time": "2024-11-09T19:59:50.100Z"
   },
   {
    "duration": 47,
    "start_time": "2024-11-09T19:59:50.141Z"
   },
   {
    "duration": 93,
    "start_time": "2024-11-09T19:59:50.190Z"
   },
   {
    "duration": 19,
    "start_time": "2024-11-09T19:59:50.284Z"
   },
   {
    "duration": 53,
    "start_time": "2024-11-09T19:59:50.304Z"
   },
   {
    "duration": 172,
    "start_time": "2024-11-09T19:59:50.359Z"
   },
   {
    "duration": 1049,
    "start_time": "2024-11-09T19:59:50.536Z"
   },
   {
    "duration": 101,
    "start_time": "2024-11-09T19:59:51.586Z"
   },
   {
    "duration": 288,
    "start_time": "2024-11-09T19:59:51.689Z"
   },
   {
    "duration": 4,
    "start_time": "2024-11-09T19:59:51.979Z"
   },
   {
    "duration": 100,
    "start_time": "2024-11-09T19:59:51.984Z"
   },
   {
    "duration": 16,
    "start_time": "2024-11-09T19:59:52.087Z"
   },
   {
    "duration": 4,
    "start_time": "2024-11-09T19:59:52.104Z"
   },
   {
    "duration": 121,
    "start_time": "2024-11-09T19:59:52.128Z"
   },
   {
    "duration": 21,
    "start_time": "2024-11-09T19:59:52.258Z"
   },
   {
    "duration": 163,
    "start_time": "2024-11-09T19:59:52.281Z"
   },
   {
    "duration": 196,
    "start_time": "2024-11-09T19:59:52.445Z"
   },
   {
    "duration": 26,
    "start_time": "2024-11-09T19:59:52.649Z"
   },
   {
    "duration": 15,
    "start_time": "2024-11-09T19:59:52.677Z"
   },
   {
    "duration": 98,
    "start_time": "2024-11-09T19:59:52.693Z"
   },
   {
    "duration": 19,
    "start_time": "2024-11-09T19:59:52.793Z"
   },
   {
    "duration": 440,
    "start_time": "2024-11-09T19:59:52.814Z"
   },
   {
    "duration": 728,
    "start_time": "2024-11-09T19:59:53.265Z"
   },
   {
    "duration": 270,
    "start_time": "2024-11-09T19:59:53.994Z"
   },
   {
    "duration": 207,
    "start_time": "2024-11-09T19:59:54.269Z"
   },
   {
    "duration": 256,
    "start_time": "2024-11-09T19:59:54.477Z"
   },
   {
    "duration": 6762,
    "start_time": "2024-11-09T19:59:54.735Z"
   },
   {
    "duration": 42,
    "start_time": "2024-11-09T20:00:01.499Z"
   },
   {
    "duration": 158,
    "start_time": "2024-11-09T20:00:01.543Z"
   },
   {
    "duration": 2,
    "start_time": "2024-11-09T20:00:01.703Z"
   },
   {
    "duration": 5,
    "start_time": "2024-11-09T20:00:01.706Z"
   },
   {
    "duration": 2622,
    "start_time": "2024-11-09T20:10:53.643Z"
   },
   {
    "duration": 1519,
    "start_time": "2024-11-09T20:10:56.270Z"
   },
   {
    "duration": 985,
    "start_time": "2024-11-09T20:10:57.791Z"
   },
   {
    "duration": 203,
    "start_time": "2024-11-09T20:10:58.779Z"
   },
   {
    "duration": 23,
    "start_time": "2024-11-09T20:10:58.983Z"
   },
   {
    "duration": 202,
    "start_time": "2024-11-09T20:10:59.008Z"
   },
   {
    "duration": 70,
    "start_time": "2024-11-09T20:10:59.220Z"
   },
   {
    "duration": 3,
    "start_time": "2024-11-09T20:10:59.292Z"
   },
   {
    "duration": 74,
    "start_time": "2024-11-09T20:10:59.297Z"
   },
   {
    "duration": 193,
    "start_time": "2024-11-09T20:10:59.375Z"
   },
   {
    "duration": 194,
    "start_time": "2024-11-09T20:10:59.570Z"
   },
   {
    "duration": 26,
    "start_time": "2024-11-09T20:10:59.765Z"
   },
   {
    "duration": 19,
    "start_time": "2024-11-09T20:10:59.792Z"
   },
   {
    "duration": 41,
    "start_time": "2024-11-09T20:10:59.812Z"
   },
   {
    "duration": 26,
    "start_time": "2024-11-09T20:10:59.858Z"
   },
   {
    "duration": 26,
    "start_time": "2024-11-09T20:10:59.886Z"
   },
   {
    "duration": 39,
    "start_time": "2024-11-09T20:10:59.914Z"
   },
   {
    "duration": 35,
    "start_time": "2024-11-09T20:10:59.955Z"
   },
   {
    "duration": 18,
    "start_time": "2024-11-09T20:10:59.992Z"
   },
   {
    "duration": 72,
    "start_time": "2024-11-09T20:11:00.011Z"
   },
   {
    "duration": 25,
    "start_time": "2024-11-09T20:11:00.084Z"
   },
   {
    "duration": 207,
    "start_time": "2024-11-09T20:11:00.111Z"
   },
   {
    "duration": 1022,
    "start_time": "2024-11-09T20:11:00.320Z"
   },
   {
    "duration": 97,
    "start_time": "2024-11-09T20:11:01.343Z"
   },
   {
    "duration": 290,
    "start_time": "2024-11-09T20:11:01.442Z"
   },
   {
    "duration": 28,
    "start_time": "2024-11-09T20:11:01.741Z"
   },
   {
    "duration": 172,
    "start_time": "2024-11-09T20:11:01.771Z"
   },
   {
    "duration": 19,
    "start_time": "2024-11-09T20:11:01.948Z"
   },
   {
    "duration": 12,
    "start_time": "2024-11-09T20:11:01.969Z"
   },
   {
    "duration": 99,
    "start_time": "2024-11-09T20:11:01.983Z"
   },
   {
    "duration": 15,
    "start_time": "2024-11-09T20:11:02.083Z"
   },
   {
    "duration": 105,
    "start_time": "2024-11-09T20:11:02.099Z"
   },
   {
    "duration": 200,
    "start_time": "2024-11-09T20:11:02.205Z"
   },
   {
    "duration": 50,
    "start_time": "2024-11-09T20:11:02.407Z"
   },
   {
    "duration": 35,
    "start_time": "2024-11-09T20:11:02.464Z"
   },
   {
    "duration": 40,
    "start_time": "2024-11-09T20:11:02.501Z"
   },
   {
    "duration": 32,
    "start_time": "2024-11-09T20:11:02.545Z"
   },
   {
    "duration": 426,
    "start_time": "2024-11-09T20:11:02.580Z"
   },
   {
    "duration": 766,
    "start_time": "2024-11-09T20:11:03.008Z"
   },
   {
    "duration": 200,
    "start_time": "2024-11-09T20:11:03.778Z"
   },
   {
    "duration": 195,
    "start_time": "2024-11-09T20:11:03.979Z"
   },
   {
    "duration": 116,
    "start_time": "2024-11-09T20:11:04.178Z"
   },
   {
    "duration": 6596,
    "start_time": "2024-11-09T20:11:04.296Z"
   },
   {
    "duration": 27,
    "start_time": "2024-11-09T20:11:10.894Z"
   },
   {
    "duration": 150,
    "start_time": "2024-11-09T20:11:10.923Z"
   },
   {
    "duration": 4,
    "start_time": "2024-11-09T20:11:11.075Z"
   },
   {
    "duration": 11,
    "start_time": "2024-11-09T20:11:11.081Z"
   },
   {
    "duration": 2697,
    "start_time": "2024-11-09T20:15:52.236Z"
   },
   {
    "duration": 1481,
    "start_time": "2024-11-09T20:15:54.935Z"
   },
   {
    "duration": 942,
    "start_time": "2024-11-09T20:15:56.417Z"
   },
   {
    "duration": 194,
    "start_time": "2024-11-09T20:15:57.362Z"
   },
   {
    "duration": 24,
    "start_time": "2024-11-09T20:15:57.558Z"
   },
   {
    "duration": 182,
    "start_time": "2024-11-09T20:15:57.583Z"
   },
   {
    "duration": 56,
    "start_time": "2024-11-09T20:15:57.770Z"
   },
   {
    "duration": 4,
    "start_time": "2024-11-09T20:15:57.831Z"
   },
   {
    "duration": 62,
    "start_time": "2024-11-09T20:15:57.841Z"
   },
   {
    "duration": 180,
    "start_time": "2024-11-09T20:15:57.906Z"
   },
   {
    "duration": 177,
    "start_time": "2024-11-09T20:15:58.087Z"
   },
   {
    "duration": 21,
    "start_time": "2024-11-09T20:15:58.265Z"
   },
   {
    "duration": 51,
    "start_time": "2024-11-09T20:15:58.287Z"
   },
   {
    "duration": 31,
    "start_time": "2024-11-09T20:15:58.345Z"
   },
   {
    "duration": 20,
    "start_time": "2024-11-09T20:15:58.377Z"
   },
   {
    "duration": 29,
    "start_time": "2024-11-09T20:15:58.399Z"
   },
   {
    "duration": 38,
    "start_time": "2024-11-09T20:15:58.429Z"
   },
   {
    "duration": 22,
    "start_time": "2024-11-09T20:15:58.469Z"
   },
   {
    "duration": 17,
    "start_time": "2024-11-09T20:15:58.492Z"
   },
   {
    "duration": 42,
    "start_time": "2024-11-09T20:15:58.510Z"
   },
   {
    "duration": 25,
    "start_time": "2024-11-09T20:15:58.554Z"
   },
   {
    "duration": 300,
    "start_time": "2024-11-09T20:15:58.581Z"
   },
   {
    "duration": 930,
    "start_time": "2024-11-09T20:15:58.883Z"
   },
   {
    "duration": 93,
    "start_time": "2024-11-09T20:15:59.814Z"
   },
   {
    "duration": 286,
    "start_time": "2024-11-09T20:15:59.908Z"
   },
   {
    "duration": 5,
    "start_time": "2024-11-09T20:16:00.195Z"
   },
   {
    "duration": 168,
    "start_time": "2024-11-09T20:16:00.201Z"
   },
   {
    "duration": 16,
    "start_time": "2024-11-09T20:16:00.373Z"
   },
   {
    "duration": 5,
    "start_time": "2024-11-09T20:16:00.390Z"
   },
   {
    "duration": 119,
    "start_time": "2024-11-09T20:16:00.396Z"
   },
   {
    "duration": 36,
    "start_time": "2024-11-09T20:16:00.516Z"
   },
   {
    "duration": 86,
    "start_time": "2024-11-09T20:16:00.560Z"
   },
   {
    "duration": 164,
    "start_time": "2024-11-09T20:16:00.647Z"
   },
   {
    "duration": 49,
    "start_time": "2024-11-09T20:16:00.813Z"
   },
   {
    "duration": 15,
    "start_time": "2024-11-09T20:16:00.864Z"
   },
   {
    "duration": 34,
    "start_time": "2024-11-09T20:16:00.881Z"
   },
   {
    "duration": 36,
    "start_time": "2024-11-09T20:16:00.917Z"
   },
   {
    "duration": 353,
    "start_time": "2024-11-09T20:16:00.955Z"
   },
   {
    "duration": 697,
    "start_time": "2024-11-09T20:16:01.310Z"
   },
   {
    "duration": 206,
    "start_time": "2024-11-09T20:16:02.008Z"
   },
   {
    "duration": 202,
    "start_time": "2024-11-09T20:16:02.220Z"
   },
   {
    "duration": 148,
    "start_time": "2024-11-09T20:16:02.424Z"
   },
   {
    "duration": 6170,
    "start_time": "2024-11-09T20:16:02.573Z"
   },
   {
    "duration": 26,
    "start_time": "2024-11-09T20:16:08.747Z"
   },
   {
    "duration": 198,
    "start_time": "2024-11-09T20:16:08.775Z"
   },
   {
    "duration": 2,
    "start_time": "2024-11-09T20:16:08.975Z"
   },
   {
    "duration": 25,
    "start_time": "2024-11-09T20:16:08.978Z"
   },
   {
    "duration": 57,
    "start_time": "2024-11-09T20:16:09.004Z"
   },
   {
    "duration": 0,
    "start_time": "2024-11-09T20:16:09.063Z"
   },
   {
    "duration": 0,
    "start_time": "2024-11-09T20:16:09.064Z"
   },
   {
    "duration": 0,
    "start_time": "2024-11-09T20:16:09.065Z"
   },
   {
    "duration": 0,
    "start_time": "2024-11-09T20:16:09.066Z"
   },
   {
    "duration": 0,
    "start_time": "2024-11-09T20:16:09.068Z"
   },
   {
    "duration": 0,
    "start_time": "2024-11-09T20:16:09.069Z"
   },
   {
    "duration": 0,
    "start_time": "2024-11-09T20:16:09.070Z"
   },
   {
    "duration": 0,
    "start_time": "2024-11-09T20:16:09.071Z"
   },
   {
    "duration": 0,
    "start_time": "2024-11-09T20:16:09.073Z"
   },
   {
    "duration": 0,
    "start_time": "2024-11-09T20:16:09.074Z"
   },
   {
    "duration": 0,
    "start_time": "2024-11-09T20:16:09.075Z"
   },
   {
    "duration": 0,
    "start_time": "2024-11-09T20:16:09.076Z"
   },
   {
    "duration": 0,
    "start_time": "2024-11-09T20:16:09.077Z"
   },
   {
    "duration": 0,
    "start_time": "2024-11-09T20:16:09.079Z"
   },
   {
    "duration": 148,
    "start_time": "2024-11-09T20:16:20.486Z"
   },
   {
    "duration": 2507,
    "start_time": "2024-11-09T20:19:27.789Z"
   },
   {
    "duration": 1403,
    "start_time": "2024-11-09T20:19:30.298Z"
   },
   {
    "duration": 960,
    "start_time": "2024-11-09T20:19:31.702Z"
   },
   {
    "duration": 193,
    "start_time": "2024-11-09T20:19:32.664Z"
   },
   {
    "duration": 26,
    "start_time": "2024-11-09T20:19:32.863Z"
   },
   {
    "duration": 204,
    "start_time": "2024-11-09T20:19:32.890Z"
   },
   {
    "duration": 69,
    "start_time": "2024-11-09T20:19:33.095Z"
   },
   {
    "duration": 4,
    "start_time": "2024-11-09T20:19:33.165Z"
   },
   {
    "duration": 86,
    "start_time": "2024-11-09T20:19:33.170Z"
   },
   {
    "duration": 169,
    "start_time": "2024-11-09T20:19:33.261Z"
   },
   {
    "duration": 173,
    "start_time": "2024-11-09T20:19:33.433Z"
   },
   {
    "duration": 55,
    "start_time": "2024-11-09T20:19:33.608Z"
   },
   {
    "duration": 20,
    "start_time": "2024-11-09T20:19:33.665Z"
   },
   {
    "duration": 19,
    "start_time": "2024-11-09T20:19:33.686Z"
   },
   {
    "duration": 42,
    "start_time": "2024-11-09T20:19:33.706Z"
   },
   {
    "duration": 23,
    "start_time": "2024-11-09T20:19:33.758Z"
   },
   {
    "duration": 17,
    "start_time": "2024-11-09T20:19:33.783Z"
   },
   {
    "duration": 28,
    "start_time": "2024-11-09T20:19:33.802Z"
   },
   {
    "duration": 39,
    "start_time": "2024-11-09T20:19:33.831Z"
   },
   {
    "duration": 21,
    "start_time": "2024-11-09T20:19:33.872Z"
   },
   {
    "duration": 19,
    "start_time": "2024-11-09T20:19:33.894Z"
   },
   {
    "duration": 185,
    "start_time": "2024-11-09T20:19:33.914Z"
   },
   {
    "duration": 991,
    "start_time": "2024-11-09T20:19:34.101Z"
   },
   {
    "duration": 94,
    "start_time": "2024-11-09T20:19:35.093Z"
   },
   {
    "duration": 290,
    "start_time": "2024-11-09T20:19:35.188Z"
   },
   {
    "duration": 5,
    "start_time": "2024-11-09T20:19:35.479Z"
   },
   {
    "duration": 130,
    "start_time": "2024-11-09T20:19:35.485Z"
   },
   {
    "duration": 35,
    "start_time": "2024-11-09T20:19:35.623Z"
   },
   {
    "duration": 4,
    "start_time": "2024-11-09T20:19:35.663Z"
   },
   {
    "duration": 101,
    "start_time": "2024-11-09T20:19:35.668Z"
   },
   {
    "duration": 16,
    "start_time": "2024-11-09T20:19:35.770Z"
   },
   {
    "duration": 94,
    "start_time": "2024-11-09T20:19:35.788Z"
   },
   {
    "duration": 171,
    "start_time": "2024-11-09T20:19:35.883Z"
   },
   {
    "duration": 20,
    "start_time": "2024-11-09T20:19:36.060Z"
   },
   {
    "duration": 15,
    "start_time": "2024-11-09T20:19:36.081Z"
   },
   {
    "duration": 53,
    "start_time": "2024-11-09T20:19:36.097Z"
   },
   {
    "duration": 21,
    "start_time": "2024-11-09T20:19:36.157Z"
   },
   {
    "duration": 365,
    "start_time": "2024-11-09T20:19:36.179Z"
   },
   {
    "duration": 645,
    "start_time": "2024-11-09T20:19:36.553Z"
   },
   {
    "duration": 236,
    "start_time": "2024-11-09T20:19:37.200Z"
   },
   {
    "duration": 176,
    "start_time": "2024-11-09T20:19:37.442Z"
   },
   {
    "duration": 112,
    "start_time": "2024-11-09T20:19:37.620Z"
   },
   {
    "duration": 5962,
    "start_time": "2024-11-09T20:19:37.739Z"
   },
   {
    "duration": 32,
    "start_time": "2024-11-09T20:19:43.702Z"
   },
   {
    "duration": 132,
    "start_time": "2024-11-09T20:19:43.736Z"
   },
   {
    "duration": 2,
    "start_time": "2024-11-09T20:19:43.870Z"
   },
   {
    "duration": 30,
    "start_time": "2024-11-09T20:19:43.873Z"
   },
   {
    "duration": 3418,
    "start_time": "2024-11-09T20:24:58.629Z"
   },
   {
    "duration": 1563,
    "start_time": "2024-11-09T20:25:02.049Z"
   },
   {
    "duration": 1388,
    "start_time": "2024-11-09T20:25:03.614Z"
   },
   {
    "duration": 191,
    "start_time": "2024-11-09T20:25:05.003Z"
   },
   {
    "duration": 43,
    "start_time": "2024-11-09T20:25:05.195Z"
   },
   {
    "duration": 170,
    "start_time": "2024-11-09T20:25:05.240Z"
   },
   {
    "duration": 67,
    "start_time": "2024-11-09T20:25:05.411Z"
   },
   {
    "duration": 4,
    "start_time": "2024-11-09T20:25:05.479Z"
   },
   {
    "duration": 78,
    "start_time": "2024-11-09T20:25:05.484Z"
   },
   {
    "duration": 176,
    "start_time": "2024-11-09T20:25:05.567Z"
   },
   {
    "duration": 163,
    "start_time": "2024-11-09T20:25:05.749Z"
   },
   {
    "duration": 43,
    "start_time": "2024-11-09T20:25:05.920Z"
   },
   {
    "duration": 20,
    "start_time": "2024-11-09T20:25:05.964Z"
   },
   {
    "duration": 19,
    "start_time": "2024-11-09T20:25:05.985Z"
   },
   {
    "duration": 57,
    "start_time": "2024-11-09T20:25:06.005Z"
   },
   {
    "duration": 21,
    "start_time": "2024-11-09T20:25:06.064Z"
   },
   {
    "duration": 19,
    "start_time": "2024-11-09T20:25:06.087Z"
   },
   {
    "duration": 34,
    "start_time": "2024-11-09T20:25:06.107Z"
   },
   {
    "duration": 31,
    "start_time": "2024-11-09T20:25:06.142Z"
   },
   {
    "duration": 24,
    "start_time": "2024-11-09T20:25:06.175Z"
   },
   {
    "duration": 34,
    "start_time": "2024-11-09T20:25:06.200Z"
   },
   {
    "duration": 175,
    "start_time": "2024-11-09T20:25:06.240Z"
   },
   {
    "duration": 962,
    "start_time": "2024-11-09T20:25:06.416Z"
   },
   {
    "duration": 98,
    "start_time": "2024-11-09T20:25:07.380Z"
   },
   {
    "duration": 287,
    "start_time": "2024-11-09T20:25:07.479Z"
   },
   {
    "duration": 9,
    "start_time": "2024-11-09T20:25:07.770Z"
   },
   {
    "duration": 117,
    "start_time": "2024-11-09T20:25:07.781Z"
   },
   {
    "duration": 32,
    "start_time": "2024-11-09T20:25:07.902Z"
   },
   {
    "duration": 9,
    "start_time": "2024-11-09T20:25:07.936Z"
   },
   {
    "duration": 114,
    "start_time": "2024-11-09T20:25:07.947Z"
   },
   {
    "duration": 18,
    "start_time": "2024-11-09T20:25:08.063Z"
   },
   {
    "duration": 104,
    "start_time": "2024-11-09T20:25:08.082Z"
   },
   {
    "duration": 194,
    "start_time": "2024-11-09T20:25:08.188Z"
   },
   {
    "duration": 19,
    "start_time": "2024-11-09T20:25:08.384Z"
   },
   {
    "duration": 31,
    "start_time": "2024-11-09T20:25:08.405Z"
   },
   {
    "duration": 40,
    "start_time": "2024-11-09T20:25:08.437Z"
   },
   {
    "duration": 20,
    "start_time": "2024-11-09T20:25:08.479Z"
   },
   {
    "duration": 405,
    "start_time": "2024-11-09T20:25:08.501Z"
   },
   {
    "duration": 696,
    "start_time": "2024-11-09T20:25:08.908Z"
   },
   {
    "duration": 198,
    "start_time": "2024-11-09T20:25:09.605Z"
   },
   {
    "duration": 196,
    "start_time": "2024-11-09T20:25:09.804Z"
   },
   {
    "duration": 117,
    "start_time": "2024-11-09T20:25:10.002Z"
   },
   {
    "duration": 6080,
    "start_time": "2024-11-09T20:25:10.120Z"
   },
   {
    "duration": 40,
    "start_time": "2024-11-09T20:25:16.202Z"
   },
   {
    "duration": 128,
    "start_time": "2024-11-09T20:25:16.244Z"
   },
   {
    "duration": 3,
    "start_time": "2024-11-09T20:25:16.374Z"
   },
   {
    "duration": 5,
    "start_time": "2024-11-09T20:25:16.378Z"
   },
   {
    "duration": 2471,
    "start_time": "2024-11-09T20:27:43.726Z"
   },
   {
    "duration": 1490,
    "start_time": "2024-11-09T20:27:46.199Z"
   },
   {
    "duration": 1294,
    "start_time": "2024-11-09T20:27:47.690Z"
   },
   {
    "duration": 177,
    "start_time": "2024-11-09T20:27:48.986Z"
   },
   {
    "duration": 57,
    "start_time": "2024-11-09T20:27:49.165Z"
   },
   {
    "duration": 164,
    "start_time": "2024-11-09T20:27:49.234Z"
   },
   {
    "duration": 65,
    "start_time": "2024-11-09T20:27:49.400Z"
   },
   {
    "duration": 93,
    "start_time": "2024-11-09T20:27:49.466Z"
   },
   {
    "duration": 73,
    "start_time": "2024-11-09T20:27:49.560Z"
   },
   {
    "duration": 168,
    "start_time": "2024-11-09T20:27:49.647Z"
   },
   {
    "duration": 178,
    "start_time": "2024-11-09T20:27:49.816Z"
   },
   {
    "duration": 28,
    "start_time": "2024-11-09T20:27:49.995Z"
   },
   {
    "duration": 46,
    "start_time": "2024-11-09T20:27:50.028Z"
   },
   {
    "duration": 42,
    "start_time": "2024-11-09T20:27:50.076Z"
   },
   {
    "duration": 45,
    "start_time": "2024-11-09T20:27:50.120Z"
   },
   {
    "duration": 75,
    "start_time": "2024-11-09T20:27:50.167Z"
   },
   {
    "duration": 35,
    "start_time": "2024-11-09T20:27:50.248Z"
   },
   {
    "duration": 99,
    "start_time": "2024-11-09T20:27:50.285Z"
   },
   {
    "duration": 46,
    "start_time": "2024-11-09T20:27:50.386Z"
   },
   {
    "duration": 44,
    "start_time": "2024-11-09T20:27:50.433Z"
   },
   {
    "duration": 33,
    "start_time": "2024-11-09T20:27:50.479Z"
   },
   {
    "duration": 189,
    "start_time": "2024-11-09T20:27:50.514Z"
   },
   {
    "duration": 943,
    "start_time": "2024-11-09T20:27:50.704Z"
   },
   {
    "duration": 98,
    "start_time": "2024-11-09T20:27:51.652Z"
   },
   {
    "duration": 256,
    "start_time": "2024-11-09T20:27:51.757Z"
   },
   {
    "duration": 21,
    "start_time": "2024-11-09T20:27:52.015Z"
   },
   {
    "duration": 101,
    "start_time": "2024-11-09T20:27:52.042Z"
   },
   {
    "duration": 17,
    "start_time": "2024-11-09T20:27:52.153Z"
   },
   {
    "duration": 18,
    "start_time": "2024-11-09T20:27:52.171Z"
   },
   {
    "duration": 103,
    "start_time": "2024-11-09T20:27:52.191Z"
   },
   {
    "duration": 14,
    "start_time": "2024-11-09T20:27:52.296Z"
   },
   {
    "duration": 130,
    "start_time": "2024-11-09T20:27:52.312Z"
   },
   {
    "duration": 161,
    "start_time": "2024-11-09T20:27:52.446Z"
   },
   {
    "duration": 28,
    "start_time": "2024-11-09T20:27:52.608Z"
   },
   {
    "duration": 25,
    "start_time": "2024-11-09T20:27:52.640Z"
   },
   {
    "duration": 37,
    "start_time": "2024-11-09T20:27:52.667Z"
   },
   {
    "duration": 30,
    "start_time": "2024-11-09T20:27:52.705Z"
   },
   {
    "duration": 432,
    "start_time": "2024-11-09T20:27:52.742Z"
   },
   {
    "duration": 853,
    "start_time": "2024-11-09T20:27:53.175Z"
   },
   {
    "duration": 180,
    "start_time": "2024-11-09T20:27:54.039Z"
   },
   {
    "duration": 193,
    "start_time": "2024-11-09T20:27:54.221Z"
   },
   {
    "duration": 107,
    "start_time": "2024-11-09T20:27:54.415Z"
   },
   {
    "duration": 6141,
    "start_time": "2024-11-09T20:27:54.523Z"
   },
   {
    "duration": 23,
    "start_time": "2024-11-09T20:28:00.665Z"
   },
   {
    "duration": 142,
    "start_time": "2024-11-09T20:28:00.689Z"
   },
   {
    "duration": 16,
    "start_time": "2024-11-09T20:28:00.842Z"
   },
   {
    "duration": 12,
    "start_time": "2024-11-09T20:28:00.861Z"
   },
   {
    "duration": 56,
    "start_time": "2024-11-09T20:28:00.874Z"
   },
   {
    "duration": 0,
    "start_time": "2024-11-09T20:28:00.931Z"
   },
   {
    "duration": 0,
    "start_time": "2024-11-09T20:28:00.932Z"
   },
   {
    "duration": 0,
    "start_time": "2024-11-09T20:28:00.933Z"
   },
   {
    "duration": 0,
    "start_time": "2024-11-09T20:28:00.934Z"
   },
   {
    "duration": 0,
    "start_time": "2024-11-09T20:28:00.935Z"
   },
   {
    "duration": 0,
    "start_time": "2024-11-09T20:28:00.936Z"
   },
   {
    "duration": 0,
    "start_time": "2024-11-09T20:28:00.937Z"
   },
   {
    "duration": 0,
    "start_time": "2024-11-09T20:28:00.937Z"
   },
   {
    "duration": 0,
    "start_time": "2024-11-09T20:28:00.938Z"
   },
   {
    "duration": 0,
    "start_time": "2024-11-09T20:28:00.939Z"
   },
   {
    "duration": 0,
    "start_time": "2024-11-09T20:28:00.940Z"
   },
   {
    "duration": 0,
    "start_time": "2024-11-09T20:28:00.941Z"
   },
   {
    "duration": 0,
    "start_time": "2024-11-09T20:28:00.942Z"
   },
   {
    "duration": 0,
    "start_time": "2024-11-09T20:28:00.943Z"
   },
   {
    "duration": 125,
    "start_time": "2024-11-09T20:28:07.363Z"
   },
   {
    "duration": 2593,
    "start_time": "2024-11-09T20:29:01.968Z"
   },
   {
    "duration": 1431,
    "start_time": "2024-11-09T20:29:04.563Z"
   },
   {
    "duration": 954,
    "start_time": "2024-11-09T20:29:05.996Z"
   },
   {
    "duration": 178,
    "start_time": "2024-11-09T20:29:06.954Z"
   },
   {
    "duration": 34,
    "start_time": "2024-11-09T20:29:07.133Z"
   },
   {
    "duration": 209,
    "start_time": "2024-11-09T20:29:07.169Z"
   },
   {
    "duration": 63,
    "start_time": "2024-11-09T20:29:07.379Z"
   },
   {
    "duration": 19,
    "start_time": "2024-11-09T20:29:07.443Z"
   },
   {
    "duration": 90,
    "start_time": "2024-11-09T20:29:07.463Z"
   },
   {
    "duration": 178,
    "start_time": "2024-11-09T20:29:07.560Z"
   },
   {
    "duration": 173,
    "start_time": "2024-11-09T20:29:07.741Z"
   },
   {
    "duration": 45,
    "start_time": "2024-11-09T20:29:07.924Z"
   },
   {
    "duration": 17,
    "start_time": "2024-11-09T20:29:07.971Z"
   },
   {
    "duration": 77,
    "start_time": "2024-11-09T20:29:07.989Z"
   },
   {
    "duration": 20,
    "start_time": "2024-11-09T20:29:08.067Z"
   },
   {
    "duration": 38,
    "start_time": "2024-11-09T20:29:08.089Z"
   },
   {
    "duration": 40,
    "start_time": "2024-11-09T20:29:08.129Z"
   },
   {
    "duration": 43,
    "start_time": "2024-11-09T20:29:08.170Z"
   },
   {
    "duration": 51,
    "start_time": "2024-11-09T20:29:08.214Z"
   },
   {
    "duration": 110,
    "start_time": "2024-11-09T20:29:08.266Z"
   },
   {
    "duration": 30,
    "start_time": "2024-11-09T20:29:08.378Z"
   },
   {
    "duration": 197,
    "start_time": "2024-11-09T20:29:08.410Z"
   },
   {
    "duration": 949,
    "start_time": "2024-11-09T20:29:08.609Z"
   },
   {
    "duration": 102,
    "start_time": "2024-11-09T20:29:09.559Z"
   },
   {
    "duration": 246,
    "start_time": "2024-11-09T20:29:09.662Z"
   },
   {
    "duration": 18,
    "start_time": "2024-11-09T20:29:09.909Z"
   },
   {
    "duration": 121,
    "start_time": "2024-11-09T20:29:09.932Z"
   },
   {
    "duration": 17,
    "start_time": "2024-11-09T20:29:10.063Z"
   },
   {
    "duration": 12,
    "start_time": "2024-11-09T20:29:10.081Z"
   },
   {
    "duration": 123,
    "start_time": "2024-11-09T20:29:10.094Z"
   },
   {
    "duration": 19,
    "start_time": "2024-11-09T20:29:10.218Z"
   },
   {
    "duration": 124,
    "start_time": "2024-11-09T20:29:10.238Z"
   },
   {
    "duration": 172,
    "start_time": "2024-11-09T20:29:10.365Z"
   },
   {
    "duration": 20,
    "start_time": "2024-11-09T20:29:10.547Z"
   },
   {
    "duration": 38,
    "start_time": "2024-11-09T20:29:10.569Z"
   },
   {
    "duration": 62,
    "start_time": "2024-11-09T20:29:10.608Z"
   },
   {
    "duration": 20,
    "start_time": "2024-11-09T20:29:10.671Z"
   },
   {
    "duration": 383,
    "start_time": "2024-11-09T20:29:10.693Z"
   },
   {
    "duration": 699,
    "start_time": "2024-11-09T20:29:11.077Z"
   },
   {
    "duration": 190,
    "start_time": "2024-11-09T20:29:11.777Z"
   },
   {
    "duration": 179,
    "start_time": "2024-11-09T20:29:11.969Z"
   },
   {
    "duration": 85,
    "start_time": "2024-11-09T20:29:12.154Z"
   },
   {
    "duration": 6130,
    "start_time": "2024-11-09T20:29:12.241Z"
   },
   {
    "duration": 22,
    "start_time": "2024-11-09T20:29:18.372Z"
   },
   {
    "duration": 146,
    "start_time": "2024-11-09T20:29:18.395Z"
   },
   {
    "duration": 11,
    "start_time": "2024-11-09T20:29:18.547Z"
   },
   {
    "duration": 3,
    "start_time": "2024-11-09T20:29:18.565Z"
   },
   {
    "duration": 2492,
    "start_time": "2024-11-09T20:35:21.063Z"
   },
   {
    "duration": 1407,
    "start_time": "2024-11-09T20:35:23.561Z"
   },
   {
    "duration": 922,
    "start_time": "2024-11-09T20:35:24.970Z"
   },
   {
    "duration": 191,
    "start_time": "2024-11-09T20:35:25.894Z"
   },
   {
    "duration": 22,
    "start_time": "2024-11-09T20:35:26.087Z"
   },
   {
    "duration": 191,
    "start_time": "2024-11-09T20:35:26.110Z"
   },
   {
    "duration": 77,
    "start_time": "2024-11-09T20:35:26.302Z"
   },
   {
    "duration": 4,
    "start_time": "2024-11-09T20:35:26.380Z"
   },
   {
    "duration": 73,
    "start_time": "2024-11-09T20:35:26.385Z"
   },
   {
    "duration": 174,
    "start_time": "2024-11-09T20:35:26.461Z"
   },
   {
    "duration": 170,
    "start_time": "2024-11-09T20:35:26.637Z"
   },
   {
    "duration": 52,
    "start_time": "2024-11-09T20:35:26.808Z"
   },
   {
    "duration": 36,
    "start_time": "2024-11-09T20:35:26.863Z"
   },
   {
    "duration": 35,
    "start_time": "2024-11-09T20:35:26.901Z"
   },
   {
    "duration": 30,
    "start_time": "2024-11-09T20:35:26.937Z"
   },
   {
    "duration": 21,
    "start_time": "2024-11-09T20:35:26.969Z"
   },
   {
    "duration": 37,
    "start_time": "2024-11-09T20:35:26.991Z"
   },
   {
    "duration": 39,
    "start_time": "2024-11-09T20:35:27.032Z"
   },
   {
    "duration": 71,
    "start_time": "2024-11-09T20:35:27.072Z"
   },
   {
    "duration": 22,
    "start_time": "2024-11-09T20:35:27.151Z"
   },
   {
    "duration": 20,
    "start_time": "2024-11-09T20:35:27.174Z"
   },
   {
    "duration": 214,
    "start_time": "2024-11-09T20:35:27.195Z"
   },
   {
    "duration": 960,
    "start_time": "2024-11-09T20:35:27.411Z"
   },
   {
    "duration": 110,
    "start_time": "2024-11-09T20:35:28.372Z"
   },
   {
    "duration": 296,
    "start_time": "2024-11-09T20:35:28.484Z"
   },
   {
    "duration": 4,
    "start_time": "2024-11-09T20:35:28.782Z"
   },
   {
    "duration": 183,
    "start_time": "2024-11-09T20:35:28.788Z"
   },
   {
    "duration": 15,
    "start_time": "2024-11-09T20:35:28.975Z"
   },
   {
    "duration": 4,
    "start_time": "2024-11-09T20:35:28.992Z"
   },
   {
    "duration": 95,
    "start_time": "2024-11-09T20:35:28.997Z"
   },
   {
    "duration": 16,
    "start_time": "2024-11-09T20:35:29.094Z"
   },
   {
    "duration": 94,
    "start_time": "2024-11-09T20:35:29.111Z"
   },
   {
    "duration": 195,
    "start_time": "2024-11-09T20:35:29.207Z"
   },
   {
    "duration": 41,
    "start_time": "2024-11-09T20:35:29.404Z"
   },
   {
    "duration": 18,
    "start_time": "2024-11-09T20:35:29.447Z"
   },
   {
    "duration": 24,
    "start_time": "2024-11-09T20:35:29.467Z"
   },
   {
    "duration": 42,
    "start_time": "2024-11-09T20:35:29.492Z"
   },
   {
    "duration": 382,
    "start_time": "2024-11-09T20:35:29.537Z"
   },
   {
    "duration": 699,
    "start_time": "2024-11-09T20:35:29.925Z"
   },
   {
    "duration": 231,
    "start_time": "2024-11-09T20:35:30.631Z"
   },
   {
    "duration": 186,
    "start_time": "2024-11-09T20:35:30.864Z"
   },
   {
    "duration": 107,
    "start_time": "2024-11-09T20:35:31.055Z"
   },
   {
    "duration": 6039,
    "start_time": "2024-11-09T20:35:31.164Z"
   },
   {
    "duration": 34,
    "start_time": "2024-11-09T20:35:37.205Z"
   },
   {
    "duration": 152,
    "start_time": "2024-11-09T20:35:37.240Z"
   },
   {
    "duration": 3,
    "start_time": "2024-11-09T20:35:37.393Z"
   },
   {
    "duration": 9,
    "start_time": "2024-11-09T20:35:37.397Z"
   },
   {
    "duration": 3369,
    "start_time": "2024-11-09T20:50:34.284Z"
   },
   {
    "duration": 1620,
    "start_time": "2024-11-09T20:50:37.655Z"
   },
   {
    "duration": 958,
    "start_time": "2024-11-09T20:50:39.276Z"
   },
   {
    "duration": 182,
    "start_time": "2024-11-09T20:50:40.235Z"
   },
   {
    "duration": 37,
    "start_time": "2024-11-09T20:50:40.425Z"
   },
   {
    "duration": 186,
    "start_time": "2024-11-09T20:50:40.463Z"
   },
   {
    "duration": 40,
    "start_time": "2024-11-09T20:50:40.654Z"
   },
   {
    "duration": 4,
    "start_time": "2024-11-09T20:50:40.695Z"
   },
   {
    "duration": 66,
    "start_time": "2024-11-09T20:50:40.700Z"
   },
   {
    "duration": 184,
    "start_time": "2024-11-09T20:50:40.767Z"
   },
   {
    "duration": 168,
    "start_time": "2024-11-09T20:50:40.956Z"
   },
   {
    "duration": 40,
    "start_time": "2024-11-09T20:50:41.125Z"
   },
   {
    "duration": 28,
    "start_time": "2024-11-09T20:50:41.166Z"
   },
   {
    "duration": 19,
    "start_time": "2024-11-09T20:50:41.197Z"
   },
   {
    "duration": 43,
    "start_time": "2024-11-09T20:50:41.217Z"
   },
   {
    "duration": 22,
    "start_time": "2024-11-09T20:50:41.262Z"
   },
   {
    "duration": 19,
    "start_time": "2024-11-09T20:50:41.286Z"
   },
   {
    "duration": 44,
    "start_time": "2024-11-09T20:50:41.307Z"
   },
   {
    "duration": 21,
    "start_time": "2024-11-09T20:50:41.353Z"
   },
   {
    "duration": 27,
    "start_time": "2024-11-09T20:50:41.376Z"
   },
   {
    "duration": 30,
    "start_time": "2024-11-09T20:50:41.404Z"
   },
   {
    "duration": 167,
    "start_time": "2024-11-09T20:50:41.437Z"
   },
   {
    "duration": 943,
    "start_time": "2024-11-09T20:50:41.605Z"
   },
   {
    "duration": 95,
    "start_time": "2024-11-09T20:50:42.550Z"
   },
   {
    "duration": 260,
    "start_time": "2024-11-09T20:50:42.649Z"
   },
   {
    "duration": 14,
    "start_time": "2024-11-09T20:50:42.911Z"
   },
   {
    "duration": 122,
    "start_time": "2024-11-09T20:50:42.927Z"
   },
   {
    "duration": 21,
    "start_time": "2024-11-09T20:50:43.051Z"
   },
   {
    "duration": 4,
    "start_time": "2024-11-09T20:50:43.074Z"
   },
   {
    "duration": 96,
    "start_time": "2024-11-09T20:50:43.079Z"
   },
   {
    "duration": 16,
    "start_time": "2024-11-09T20:50:43.176Z"
   },
   {
    "duration": 105,
    "start_time": "2024-11-09T20:50:43.193Z"
   },
   {
    "duration": 189,
    "start_time": "2024-11-09T20:50:43.300Z"
   },
   {
    "duration": 49,
    "start_time": "2024-11-09T20:50:43.491Z"
   },
   {
    "duration": 18,
    "start_time": "2024-11-09T20:50:43.549Z"
   },
   {
    "duration": 23,
    "start_time": "2024-11-09T20:50:43.568Z"
   },
   {
    "duration": 81,
    "start_time": "2024-11-09T20:50:43.592Z"
   },
   {
    "duration": 341,
    "start_time": "2024-11-09T20:50:43.675Z"
   },
   {
    "duration": 685,
    "start_time": "2024-11-09T20:50:44.024Z"
   },
   {
    "duration": 199,
    "start_time": "2024-11-09T20:50:44.710Z"
   },
   {
    "duration": 196,
    "start_time": "2024-11-09T20:50:44.912Z"
   },
   {
    "duration": 105,
    "start_time": "2024-11-09T20:50:45.110Z"
   },
   {
    "duration": 3625,
    "start_time": "2024-11-09T20:50:50.654Z"
   },
   {
    "duration": 1485,
    "start_time": "2024-11-09T20:50:54.282Z"
   },
   {
    "duration": 980,
    "start_time": "2024-11-09T20:50:55.769Z"
   },
   {
    "duration": 379,
    "start_time": "2024-11-09T20:50:56.755Z"
   },
   {
    "duration": 36,
    "start_time": "2024-11-09T20:50:57.140Z"
   },
   {
    "duration": 444,
    "start_time": "2024-11-09T20:50:57.225Z"
   },
   {
    "duration": 123,
    "start_time": "2024-11-09T20:50:57.721Z"
   },
   {
    "duration": 6,
    "start_time": "2024-11-09T20:50:57.847Z"
   },
   {
    "duration": 167,
    "start_time": "2024-11-09T20:50:57.856Z"
   },
   {
    "duration": 438,
    "start_time": "2024-11-09T20:50:58.027Z"
   },
   {
    "duration": 400,
    "start_time": "2024-11-09T20:50:58.469Z"
   },
   {
    "duration": 37,
    "start_time": "2024-11-09T20:50:58.871Z"
   },
   {
    "duration": 61,
    "start_time": "2024-11-09T20:50:58.910Z"
   },
   {
    "duration": 33,
    "start_time": "2024-11-09T20:50:58.975Z"
   },
   {
    "duration": 53,
    "start_time": "2024-11-09T20:50:59.010Z"
   },
   {
    "duration": 44,
    "start_time": "2024-11-09T20:50:59.064Z"
   },
   {
    "duration": 31,
    "start_time": "2024-11-09T20:50:59.109Z"
   },
   {
    "duration": 29,
    "start_time": "2024-11-09T20:50:59.148Z"
   },
   {
    "duration": 19,
    "start_time": "2024-11-09T20:50:59.178Z"
   },
   {
    "duration": 21,
    "start_time": "2024-11-09T20:50:59.198Z"
   },
   {
    "duration": 34,
    "start_time": "2024-11-09T20:50:59.220Z"
   },
   {
    "duration": 219,
    "start_time": "2024-11-09T20:50:59.255Z"
   },
   {
    "duration": 947,
    "start_time": "2024-11-09T20:50:59.475Z"
   },
   {
    "duration": 92,
    "start_time": "2024-11-09T20:51:00.427Z"
   },
   {
    "duration": 314,
    "start_time": "2024-11-09T20:51:00.525Z"
   },
   {
    "duration": 11,
    "start_time": "2024-11-09T20:51:00.844Z"
   },
   {
    "duration": 202,
    "start_time": "2024-11-09T20:51:00.859Z"
   },
   {
    "duration": 17,
    "start_time": "2024-11-09T20:51:01.063Z"
   },
   {
    "duration": 4,
    "start_time": "2024-11-09T20:51:01.081Z"
   },
   {
    "duration": 103,
    "start_time": "2024-11-09T20:51:01.087Z"
   },
   {
    "duration": 15,
    "start_time": "2024-11-09T20:51:01.191Z"
   },
   {
    "duration": 93,
    "start_time": "2024-11-09T20:51:01.207Z"
   },
   {
    "duration": 177,
    "start_time": "2024-11-09T20:51:01.302Z"
   },
   {
    "duration": 19,
    "start_time": "2024-11-09T20:51:01.481Z"
   },
   {
    "duration": 50,
    "start_time": "2024-11-09T20:51:01.502Z"
   },
   {
    "duration": 111,
    "start_time": "2024-11-09T20:51:01.553Z"
   },
   {
    "duration": 21,
    "start_time": "2024-11-09T20:51:01.665Z"
   },
   {
    "duration": 376,
    "start_time": "2024-11-09T20:51:01.687Z"
   },
   {
    "duration": 649,
    "start_time": "2024-11-09T20:51:02.064Z"
   },
   {
    "duration": 217,
    "start_time": "2024-11-09T20:51:02.715Z"
   },
   {
    "duration": 203,
    "start_time": "2024-11-09T20:51:02.936Z"
   },
   {
    "duration": 101,
    "start_time": "2024-11-09T20:51:03.140Z"
   },
   {
    "duration": 6141,
    "start_time": "2024-11-09T20:51:03.249Z"
   },
   {
    "duration": 21,
    "start_time": "2024-11-09T20:51:09.391Z"
   },
   {
    "duration": 127,
    "start_time": "2024-11-09T20:51:09.426Z"
   },
   {
    "duration": 2,
    "start_time": "2024-11-09T20:51:09.555Z"
   },
   {
    "duration": 72,
    "start_time": "2024-11-09T20:51:09.562Z"
   },
   {
    "duration": 157,
    "start_time": "2024-11-09T20:51:09.636Z"
   },
   {
    "duration": 0,
    "start_time": "2024-11-09T20:51:09.795Z"
   },
   {
    "duration": 0,
    "start_time": "2024-11-09T20:51:09.796Z"
   },
   {
    "duration": 0,
    "start_time": "2024-11-09T20:51:09.797Z"
   },
   {
    "duration": 0,
    "start_time": "2024-11-09T20:51:09.798Z"
   },
   {
    "duration": 0,
    "start_time": "2024-11-09T20:51:09.799Z"
   },
   {
    "duration": 0,
    "start_time": "2024-11-09T20:51:09.800Z"
   },
   {
    "duration": 0,
    "start_time": "2024-11-09T20:51:09.801Z"
   },
   {
    "duration": 0,
    "start_time": "2024-11-09T20:51:09.802Z"
   },
   {
    "duration": 0,
    "start_time": "2024-11-09T20:51:09.803Z"
   },
   {
    "duration": 0,
    "start_time": "2024-11-09T20:51:09.805Z"
   },
   {
    "duration": 0,
    "start_time": "2024-11-09T20:51:09.805Z"
   },
   {
    "duration": 0,
    "start_time": "2024-11-09T20:51:09.806Z"
   },
   {
    "duration": 0,
    "start_time": "2024-11-09T20:51:09.806Z"
   },
   {
    "duration": 0,
    "start_time": "2024-11-09T20:51:09.807Z"
   },
   {
    "duration": 6,
    "start_time": "2024-11-09T20:51:55.253Z"
   },
   {
    "duration": 2566,
    "start_time": "2024-11-09T20:56:12.826Z"
   },
   {
    "duration": 1506,
    "start_time": "2024-11-09T20:56:15.394Z"
   },
   {
    "duration": 970,
    "start_time": "2024-11-09T20:56:16.901Z"
   },
   {
    "duration": 191,
    "start_time": "2024-11-09T20:56:17.873Z"
   },
   {
    "duration": 25,
    "start_time": "2024-11-09T20:56:18.066Z"
   },
   {
    "duration": 194,
    "start_time": "2024-11-09T20:56:18.093Z"
   },
   {
    "duration": 73,
    "start_time": "2024-11-09T20:56:18.289Z"
   },
   {
    "duration": 4,
    "start_time": "2024-11-09T20:56:18.363Z"
   },
   {
    "duration": 84,
    "start_time": "2024-11-09T20:56:18.368Z"
   },
   {
    "duration": 208,
    "start_time": "2024-11-09T20:56:18.455Z"
   },
   {
    "duration": 169,
    "start_time": "2024-11-09T20:56:18.665Z"
   },
   {
    "duration": 34,
    "start_time": "2024-11-09T20:56:18.836Z"
   },
   {
    "duration": 19,
    "start_time": "2024-11-09T20:56:18.872Z"
   },
   {
    "duration": 88,
    "start_time": "2024-11-09T20:56:18.893Z"
   },
   {
    "duration": 25,
    "start_time": "2024-11-09T20:56:18.983Z"
   },
   {
    "duration": 62,
    "start_time": "2024-11-09T20:56:19.009Z"
   },
   {
    "duration": 18,
    "start_time": "2024-11-09T20:56:19.073Z"
   },
   {
    "duration": 45,
    "start_time": "2024-11-09T20:56:19.093Z"
   },
   {
    "duration": 40,
    "start_time": "2024-11-09T20:56:19.139Z"
   },
   {
    "duration": 30,
    "start_time": "2024-11-09T20:56:19.180Z"
   },
   {
    "duration": 54,
    "start_time": "2024-11-09T20:56:19.211Z"
   },
   {
    "duration": 203,
    "start_time": "2024-11-09T20:56:19.267Z"
   },
   {
    "duration": 956,
    "start_time": "2024-11-09T20:56:19.471Z"
   },
   {
    "duration": 105,
    "start_time": "2024-11-09T20:56:20.429Z"
   },
   {
    "duration": 261,
    "start_time": "2024-11-09T20:56:20.536Z"
   },
   {
    "duration": 4,
    "start_time": "2024-11-09T20:56:20.799Z"
   },
   {
    "duration": 133,
    "start_time": "2024-11-09T20:56:20.804Z"
   },
   {
    "duration": 17,
    "start_time": "2024-11-09T20:56:20.952Z"
   },
   {
    "duration": 4,
    "start_time": "2024-11-09T20:56:20.971Z"
   },
   {
    "duration": 91,
    "start_time": "2024-11-09T20:56:20.976Z"
   },
   {
    "duration": 16,
    "start_time": "2024-11-09T20:56:21.068Z"
   },
   {
    "duration": 97,
    "start_time": "2024-11-09T20:56:21.085Z"
   },
   {
    "duration": 175,
    "start_time": "2024-11-09T20:56:21.183Z"
   },
   {
    "duration": 20,
    "start_time": "2024-11-09T20:56:21.363Z"
   },
   {
    "duration": 21,
    "start_time": "2024-11-09T20:56:21.385Z"
   },
   {
    "duration": 46,
    "start_time": "2024-11-09T20:56:21.407Z"
   },
   {
    "duration": 33,
    "start_time": "2024-11-09T20:56:21.456Z"
   },
   {
    "duration": 383,
    "start_time": "2024-11-09T20:56:21.490Z"
   },
   {
    "duration": 660,
    "start_time": "2024-11-09T20:56:21.874Z"
   },
   {
    "duration": 34,
    "start_time": "2024-11-09T20:56:22.542Z"
   },
   {
    "duration": 79,
    "start_time": "2024-11-09T20:56:22.578Z"
   },
   {
    "duration": 0,
    "start_time": "2024-11-09T20:56:22.659Z"
   },
   {
    "duration": 0,
    "start_time": "2024-11-09T20:56:22.660Z"
   },
   {
    "duration": 0,
    "start_time": "2024-11-09T20:56:22.661Z"
   },
   {
    "duration": 0,
    "start_time": "2024-11-09T20:56:22.662Z"
   },
   {
    "duration": 0,
    "start_time": "2024-11-09T20:56:22.663Z"
   },
   {
    "duration": 0,
    "start_time": "2024-11-09T20:56:22.664Z"
   },
   {
    "duration": 0,
    "start_time": "2024-11-09T20:56:22.665Z"
   },
   {
    "duration": 0,
    "start_time": "2024-11-09T20:56:22.666Z"
   },
   {
    "duration": 0,
    "start_time": "2024-11-09T20:56:22.667Z"
   },
   {
    "duration": 0,
    "start_time": "2024-11-09T20:56:22.668Z"
   },
   {
    "duration": 0,
    "start_time": "2024-11-09T20:56:22.669Z"
   },
   {
    "duration": 0,
    "start_time": "2024-11-09T20:56:22.670Z"
   },
   {
    "duration": 0,
    "start_time": "2024-11-09T20:56:22.671Z"
   },
   {
    "duration": 0,
    "start_time": "2024-11-09T20:56:22.672Z"
   },
   {
    "duration": 0,
    "start_time": "2024-11-09T20:56:22.673Z"
   },
   {
    "duration": 0,
    "start_time": "2024-11-09T20:56:22.673Z"
   },
   {
    "duration": 0,
    "start_time": "2024-11-09T20:56:22.675Z"
   },
   {
    "duration": 0,
    "start_time": "2024-11-09T20:56:22.675Z"
   },
   {
    "duration": 0,
    "start_time": "2024-11-09T20:56:22.676Z"
   },
   {
    "duration": 0,
    "start_time": "2024-11-09T20:56:22.678Z"
   },
   {
    "duration": 0,
    "start_time": "2024-11-09T20:56:22.678Z"
   },
   {
    "duration": 0,
    "start_time": "2024-11-09T20:56:22.679Z"
   },
   {
    "duration": 148,
    "start_time": "2024-11-09T20:57:10.381Z"
   },
   {
    "duration": 24,
    "start_time": "2024-11-09T20:57:15.565Z"
   },
   {
    "duration": 20,
    "start_time": "2024-11-09T20:59:22.083Z"
   },
   {
    "duration": 329,
    "start_time": "2024-11-09T21:00:05.076Z"
   },
   {
    "duration": 24,
    "start_time": "2024-11-09T21:00:23.091Z"
   },
   {
    "duration": 22,
    "start_time": "2024-11-09T21:00:46.458Z"
   },
   {
    "duration": 94,
    "start_time": "2024-11-09T21:01:38.243Z"
   },
   {
    "duration": 76,
    "start_time": "2024-11-09T21:01:44.606Z"
   },
   {
    "duration": 35,
    "start_time": "2024-11-09T21:01:52.305Z"
   },
   {
    "duration": 21,
    "start_time": "2024-11-09T21:02:39.066Z"
   },
   {
    "duration": 49,
    "start_time": "2024-11-09T21:02:45.313Z"
   },
   {
    "duration": 24,
    "start_time": "2024-11-09T21:04:00.601Z"
   },
   {
    "duration": 2598,
    "start_time": "2024-11-09T21:06:43.511Z"
   },
   {
    "duration": 1584,
    "start_time": "2024-11-09T21:06:46.111Z"
   },
   {
    "duration": 1083,
    "start_time": "2024-11-09T21:06:47.697Z"
   },
   {
    "duration": 207,
    "start_time": "2024-11-09T21:06:48.782Z"
   },
   {
    "duration": 24,
    "start_time": "2024-11-09T21:06:48.991Z"
   },
   {
    "duration": 239,
    "start_time": "2024-11-09T21:06:49.025Z"
   },
   {
    "duration": 50,
    "start_time": "2024-11-09T21:06:49.267Z"
   },
   {
    "duration": 20,
    "start_time": "2024-11-09T21:06:49.318Z"
   },
   {
    "duration": 70,
    "start_time": "2024-11-09T21:06:49.345Z"
   },
   {
    "duration": 212,
    "start_time": "2024-11-09T21:06:49.418Z"
   },
   {
    "duration": 210,
    "start_time": "2024-11-09T21:06:49.631Z"
   },
   {
    "duration": 42,
    "start_time": "2024-11-09T21:06:49.844Z"
   },
   {
    "duration": 19,
    "start_time": "2024-11-09T21:06:49.889Z"
   },
   {
    "duration": 48,
    "start_time": "2024-11-09T21:06:49.909Z"
   },
   {
    "duration": 24,
    "start_time": "2024-11-09T21:06:49.967Z"
   },
   {
    "duration": 25,
    "start_time": "2024-11-09T21:06:49.993Z"
   },
   {
    "duration": 58,
    "start_time": "2024-11-09T21:06:50.019Z"
   },
   {
    "duration": 23,
    "start_time": "2024-11-09T21:06:50.079Z"
   },
   {
    "duration": 46,
    "start_time": "2024-11-09T21:06:50.103Z"
   },
   {
    "duration": 30,
    "start_time": "2024-11-09T21:06:50.156Z"
   },
   {
    "duration": 18,
    "start_time": "2024-11-09T21:06:50.188Z"
   },
   {
    "duration": 205,
    "start_time": "2024-11-09T21:06:50.207Z"
   },
   {
    "duration": 1103,
    "start_time": "2024-11-09T21:06:50.413Z"
   },
   {
    "duration": 93,
    "start_time": "2024-11-09T21:06:51.517Z"
   },
   {
    "duration": 298,
    "start_time": "2024-11-09T21:06:51.612Z"
   },
   {
    "duration": 4,
    "start_time": "2024-11-09T21:06:51.911Z"
   },
   {
    "duration": 229,
    "start_time": "2024-11-09T21:06:51.920Z"
   },
   {
    "duration": 18,
    "start_time": "2024-11-09T21:06:52.161Z"
   },
   {
    "duration": 5,
    "start_time": "2024-11-09T21:06:52.180Z"
   },
   {
    "duration": 92,
    "start_time": "2024-11-09T21:06:52.187Z"
   },
   {
    "duration": 17,
    "start_time": "2024-11-09T21:06:52.281Z"
   },
   {
    "duration": 102,
    "start_time": "2024-11-09T21:06:52.299Z"
   },
   {
    "duration": 186,
    "start_time": "2024-11-09T21:06:52.403Z"
   },
   {
    "duration": 39,
    "start_time": "2024-11-09T21:06:52.590Z"
   },
   {
    "duration": 31,
    "start_time": "2024-11-09T21:06:52.631Z"
   },
   {
    "duration": 26,
    "start_time": "2024-11-09T21:06:52.664Z"
   },
   {
    "duration": 36,
    "start_time": "2024-11-09T21:06:52.692Z"
   },
   {
    "duration": 448,
    "start_time": "2024-11-09T21:06:52.729Z"
   },
   {
    "duration": 700,
    "start_time": "2024-11-09T21:06:53.178Z"
   },
   {
    "duration": 22,
    "start_time": "2024-11-09T21:06:53.880Z"
   },
   {
    "duration": 200,
    "start_time": "2024-11-09T21:06:53.903Z"
   },
   {
    "duration": 191,
    "start_time": "2024-11-09T21:06:54.104Z"
   },
   {
    "duration": 107,
    "start_time": "2024-11-09T21:06:54.296Z"
   },
   {
    "duration": 6257,
    "start_time": "2024-11-09T21:06:54.404Z"
   },
   {
    "duration": 22,
    "start_time": "2024-11-09T21:07:00.663Z"
   },
   {
    "duration": 121,
    "start_time": "2024-11-09T21:07:00.687Z"
   },
   {
    "duration": 2,
    "start_time": "2024-11-09T21:07:00.810Z"
   },
   {
    "duration": 40,
    "start_time": "2024-11-09T21:07:00.814Z"
   },
   {
    "duration": 6397,
    "start_time": "2024-11-09T21:07:00.857Z"
   },
   {
    "duration": 0,
    "start_time": "2024-11-09T21:07:07.260Z"
   },
   {
    "duration": 0,
    "start_time": "2024-11-09T21:07:07.261Z"
   },
   {
    "duration": 0,
    "start_time": "2024-11-09T21:07:07.263Z"
   },
   {
    "duration": 0,
    "start_time": "2024-11-09T21:07:07.264Z"
   },
   {
    "duration": 0,
    "start_time": "2024-11-09T21:07:07.265Z"
   },
   {
    "duration": 0,
    "start_time": "2024-11-09T21:07:07.266Z"
   },
   {
    "duration": 0,
    "start_time": "2024-11-09T21:07:07.267Z"
   },
   {
    "duration": 0,
    "start_time": "2024-11-09T21:07:07.268Z"
   },
   {
    "duration": 0,
    "start_time": "2024-11-09T21:07:07.269Z"
   },
   {
    "duration": 0,
    "start_time": "2024-11-09T21:07:07.270Z"
   },
   {
    "duration": 0,
    "start_time": "2024-11-09T21:07:07.271Z"
   },
   {
    "duration": 0,
    "start_time": "2024-11-09T21:07:07.272Z"
   },
   {
    "duration": 0,
    "start_time": "2024-11-09T21:07:07.274Z"
   },
   {
    "duration": 0,
    "start_time": "2024-11-09T21:07:07.277Z"
   },
   {
    "duration": 2522,
    "start_time": "2024-11-09T21:13:28.735Z"
   },
   {
    "duration": 1449,
    "start_time": "2024-11-09T21:13:31.259Z"
   },
   {
    "duration": 948,
    "start_time": "2024-11-09T21:13:32.710Z"
   },
   {
    "duration": 169,
    "start_time": "2024-11-09T21:13:33.662Z"
   },
   {
    "duration": 31,
    "start_time": "2024-11-09T21:13:33.836Z"
   },
   {
    "duration": 170,
    "start_time": "2024-11-09T21:13:33.868Z"
   },
   {
    "duration": 45,
    "start_time": "2024-11-09T21:13:34.043Z"
   },
   {
    "duration": 6,
    "start_time": "2024-11-09T21:13:34.089Z"
   },
   {
    "duration": 82,
    "start_time": "2024-11-09T21:13:34.097Z"
   },
   {
    "duration": 188,
    "start_time": "2024-11-09T21:13:34.182Z"
   },
   {
    "duration": 165,
    "start_time": "2024-11-09T21:13:34.371Z"
   },
   {
    "duration": 33,
    "start_time": "2024-11-09T21:13:34.537Z"
   },
   {
    "duration": 22,
    "start_time": "2024-11-09T21:13:34.571Z"
   },
   {
    "duration": 68,
    "start_time": "2024-11-09T21:13:34.595Z"
   },
   {
    "duration": 18,
    "start_time": "2024-11-09T21:13:34.665Z"
   },
   {
    "duration": 32,
    "start_time": "2024-11-09T21:13:34.684Z"
   },
   {
    "duration": 54,
    "start_time": "2024-11-09T21:13:34.718Z"
   },
   {
    "duration": 82,
    "start_time": "2024-11-09T21:13:34.774Z"
   },
   {
    "duration": 22,
    "start_time": "2024-11-09T21:13:34.861Z"
   },
   {
    "duration": 34,
    "start_time": "2024-11-09T21:13:34.884Z"
   },
   {
    "duration": 141,
    "start_time": "2024-11-09T21:13:34.919Z"
   },
   {
    "duration": 175,
    "start_time": "2024-11-09T21:13:35.062Z"
   },
   {
    "duration": 947,
    "start_time": "2024-11-09T21:13:35.243Z"
   },
   {
    "duration": 106,
    "start_time": "2024-11-09T21:13:36.191Z"
   },
   {
    "duration": 277,
    "start_time": "2024-11-09T21:13:36.298Z"
   },
   {
    "duration": 4,
    "start_time": "2024-11-09T21:13:36.577Z"
   },
   {
    "duration": 165,
    "start_time": "2024-11-09T21:13:36.583Z"
   },
   {
    "duration": 18,
    "start_time": "2024-11-09T21:13:36.756Z"
   },
   {
    "duration": 4,
    "start_time": "2024-11-09T21:13:36.776Z"
   },
   {
    "duration": 101,
    "start_time": "2024-11-09T21:13:36.781Z"
   },
   {
    "duration": 15,
    "start_time": "2024-11-09T21:13:36.884Z"
   },
   {
    "duration": 90,
    "start_time": "2024-11-09T21:13:36.901Z"
   },
   {
    "duration": 174,
    "start_time": "2024-11-09T21:13:36.992Z"
   },
   {
    "duration": 18,
    "start_time": "2024-11-09T21:13:37.168Z"
   },
   {
    "duration": 15,
    "start_time": "2024-11-09T21:13:37.188Z"
   },
   {
    "duration": 63,
    "start_time": "2024-11-09T21:13:37.204Z"
   },
   {
    "duration": 30,
    "start_time": "2024-11-09T21:13:37.269Z"
   },
   {
    "duration": 392,
    "start_time": "2024-11-09T21:13:37.301Z"
   },
   {
    "duration": 678,
    "start_time": "2024-11-09T21:13:37.695Z"
   },
   {
    "duration": 23,
    "start_time": "2024-11-09T21:13:38.375Z"
   },
   {
    "duration": 200,
    "start_time": "2024-11-09T21:13:38.400Z"
   },
   {
    "duration": 193,
    "start_time": "2024-11-09T21:13:38.602Z"
   },
   {
    "duration": 111,
    "start_time": "2024-11-09T21:13:38.797Z"
   },
   {
    "duration": 6002,
    "start_time": "2024-11-09T21:13:38.910Z"
   },
   {
    "duration": 33,
    "start_time": "2024-11-09T21:13:44.914Z"
   },
   {
    "duration": 131,
    "start_time": "2024-11-09T21:13:44.950Z"
   },
   {
    "duration": 3,
    "start_time": "2024-11-09T21:13:45.083Z"
   },
   {
    "duration": 39,
    "start_time": "2024-11-09T21:13:45.087Z"
   },
   {
    "duration": 2404,
    "start_time": "2024-11-09T21:24:44.966Z"
   },
   {
    "duration": 1386,
    "start_time": "2024-11-09T21:24:47.373Z"
   },
   {
    "duration": 881,
    "start_time": "2024-11-09T21:24:48.761Z"
   },
   {
    "duration": 151,
    "start_time": "2024-11-09T21:24:49.646Z"
   },
   {
    "duration": 35,
    "start_time": "2024-11-09T21:24:49.798Z"
   },
   {
    "duration": 147,
    "start_time": "2024-11-09T21:24:49.842Z"
   },
   {
    "duration": 75,
    "start_time": "2024-11-09T21:24:49.991Z"
   },
   {
    "duration": 4,
    "start_time": "2024-11-09T21:24:50.067Z"
   },
   {
    "duration": 96,
    "start_time": "2024-11-09T21:24:50.072Z"
   },
   {
    "duration": 165,
    "start_time": "2024-11-09T21:24:50.170Z"
   },
   {
    "duration": 157,
    "start_time": "2024-11-09T21:24:50.342Z"
   },
   {
    "duration": 27,
    "start_time": "2024-11-09T21:24:50.501Z"
   },
   {
    "duration": 40,
    "start_time": "2024-11-09T21:24:50.529Z"
   },
   {
    "duration": 46,
    "start_time": "2024-11-09T21:24:50.570Z"
   },
   {
    "duration": 45,
    "start_time": "2024-11-09T21:24:50.617Z"
   },
   {
    "duration": 34,
    "start_time": "2024-11-09T21:24:50.664Z"
   },
   {
    "duration": 55,
    "start_time": "2024-11-09T21:24:50.699Z"
   },
   {
    "duration": 50,
    "start_time": "2024-11-09T21:24:50.756Z"
   },
   {
    "duration": 52,
    "start_time": "2024-11-09T21:24:50.807Z"
   },
   {
    "duration": 41,
    "start_time": "2024-11-09T21:24:50.860Z"
   },
   {
    "duration": 43,
    "start_time": "2024-11-09T21:24:50.902Z"
   },
   {
    "duration": 195,
    "start_time": "2024-11-09T21:24:50.949Z"
   },
   {
    "duration": 866,
    "start_time": "2024-11-09T21:24:51.146Z"
   },
   {
    "duration": 101,
    "start_time": "2024-11-09T21:24:52.014Z"
   },
   {
    "duration": 251,
    "start_time": "2024-11-09T21:24:52.117Z"
   },
   {
    "duration": 4,
    "start_time": "2024-11-09T21:24:52.370Z"
   },
   {
    "duration": 107,
    "start_time": "2024-11-09T21:24:52.376Z"
   },
   {
    "duration": 17,
    "start_time": "2024-11-09T21:24:52.486Z"
   },
   {
    "duration": 52,
    "start_time": "2024-11-09T21:24:52.504Z"
   },
   {
    "duration": 106,
    "start_time": "2024-11-09T21:24:52.557Z"
   },
   {
    "duration": 15,
    "start_time": "2024-11-09T21:24:52.665Z"
   },
   {
    "duration": 81,
    "start_time": "2024-11-09T21:24:52.681Z"
   },
   {
    "duration": 187,
    "start_time": "2024-11-09T21:24:52.764Z"
   },
   {
    "duration": 160,
    "start_time": "2024-11-09T21:24:52.953Z"
   },
   {
    "duration": 19,
    "start_time": "2024-11-09T21:24:53.115Z"
   },
   {
    "duration": 36,
    "start_time": "2024-11-09T21:24:53.136Z"
   },
   {
    "duration": 20,
    "start_time": "2024-11-09T21:24:53.173Z"
   },
   {
    "duration": 324,
    "start_time": "2024-11-09T21:24:53.194Z"
   },
   {
    "duration": 598,
    "start_time": "2024-11-09T21:24:53.527Z"
   },
   {
    "duration": 181,
    "start_time": "2024-11-09T21:24:54.135Z"
   },
   {
    "duration": 170,
    "start_time": "2024-11-09T21:24:54.317Z"
   },
   {
    "duration": 98,
    "start_time": "2024-11-09T21:24:54.489Z"
   },
   {
    "duration": 5762,
    "start_time": "2024-11-09T21:24:54.588Z"
   },
   {
    "duration": 20,
    "start_time": "2024-11-09T21:25:00.351Z"
   },
   {
    "duration": 159,
    "start_time": "2024-11-09T21:25:00.373Z"
   },
   {
    "duration": 5,
    "start_time": "2024-11-09T21:25:00.537Z"
   },
   {
    "duration": 22,
    "start_time": "2024-11-09T21:25:00.545Z"
   },
   {
    "duration": 58,
    "start_time": "2024-11-09T21:25:00.568Z"
   },
   {
    "duration": 0,
    "start_time": "2024-11-09T21:25:00.627Z"
   },
   {
    "duration": 0,
    "start_time": "2024-11-09T21:25:00.628Z"
   },
   {
    "duration": 0,
    "start_time": "2024-11-09T21:25:00.629Z"
   },
   {
    "duration": 0,
    "start_time": "2024-11-09T21:25:00.630Z"
   },
   {
    "duration": 0,
    "start_time": "2024-11-09T21:25:00.631Z"
   },
   {
    "duration": 0,
    "start_time": "2024-11-09T21:25:00.632Z"
   },
   {
    "duration": 0,
    "start_time": "2024-11-09T21:25:00.636Z"
   },
   {
    "duration": 0,
    "start_time": "2024-11-09T21:25:00.637Z"
   },
   {
    "duration": 0,
    "start_time": "2024-11-09T21:25:00.638Z"
   },
   {
    "duration": 0,
    "start_time": "2024-11-09T21:25:00.639Z"
   },
   {
    "duration": 0,
    "start_time": "2024-11-09T21:25:00.642Z"
   },
   {
    "duration": 0,
    "start_time": "2024-11-09T21:25:00.642Z"
   },
   {
    "duration": 0,
    "start_time": "2024-11-09T21:25:00.643Z"
   },
   {
    "duration": 0,
    "start_time": "2024-11-09T21:25:00.644Z"
   },
   {
    "duration": 527,
    "start_time": "2024-11-09T21:25:48.051Z"
   },
   {
    "duration": 4,
    "start_time": "2024-11-09T21:26:26.386Z"
   },
   {
    "duration": 2427,
    "start_time": "2024-11-09T21:33:04.956Z"
   },
   {
    "duration": 1365,
    "start_time": "2024-11-09T21:33:07.385Z"
   },
   {
    "duration": 871,
    "start_time": "2024-11-09T21:33:08.752Z"
   },
   {
    "duration": 173,
    "start_time": "2024-11-09T21:33:09.625Z"
   },
   {
    "duration": 47,
    "start_time": "2024-11-09T21:33:09.799Z"
   },
   {
    "duration": 145,
    "start_time": "2024-11-09T21:33:09.849Z"
   },
   {
    "duration": 62,
    "start_time": "2024-11-09T21:33:09.995Z"
   },
   {
    "duration": 4,
    "start_time": "2024-11-09T21:33:10.058Z"
   },
   {
    "duration": 81,
    "start_time": "2024-11-09T21:33:10.063Z"
   },
   {
    "duration": 152,
    "start_time": "2024-11-09T21:33:10.147Z"
   },
   {
    "duration": 169,
    "start_time": "2024-11-09T21:33:10.301Z"
   },
   {
    "duration": 21,
    "start_time": "2024-11-09T21:33:10.471Z"
   },
   {
    "duration": 83,
    "start_time": "2024-11-09T21:33:10.493Z"
   },
   {
    "duration": 21,
    "start_time": "2024-11-09T21:33:10.577Z"
   },
   {
    "duration": 18,
    "start_time": "2024-11-09T21:33:10.600Z"
   },
   {
    "duration": 35,
    "start_time": "2024-11-09T21:33:10.619Z"
   },
   {
    "duration": 31,
    "start_time": "2024-11-09T21:33:10.655Z"
   },
   {
    "duration": 20,
    "start_time": "2024-11-09T21:33:10.687Z"
   },
   {
    "duration": 35,
    "start_time": "2024-11-09T21:33:10.708Z"
   },
   {
    "duration": 21,
    "start_time": "2024-11-09T21:33:10.749Z"
   },
   {
    "duration": 20,
    "start_time": "2024-11-09T21:33:10.771Z"
   },
   {
    "duration": 161,
    "start_time": "2024-11-09T21:33:10.792Z"
   },
   {
    "duration": 890,
    "start_time": "2024-11-09T21:33:10.954Z"
   },
   {
    "duration": 97,
    "start_time": "2024-11-09T21:33:11.848Z"
   },
   {
    "duration": 246,
    "start_time": "2024-11-09T21:33:11.951Z"
   },
   {
    "duration": 5,
    "start_time": "2024-11-09T21:33:12.198Z"
   },
   {
    "duration": 112,
    "start_time": "2024-11-09T21:33:12.205Z"
   },
   {
    "duration": 27,
    "start_time": "2024-11-09T21:33:12.321Z"
   },
   {
    "duration": 4,
    "start_time": "2024-11-09T21:33:12.351Z"
   },
   {
    "duration": 100,
    "start_time": "2024-11-09T21:33:12.356Z"
   },
   {
    "duration": 15,
    "start_time": "2024-11-09T21:33:12.457Z"
   },
   {
    "duration": 96,
    "start_time": "2024-11-09T21:33:12.474Z"
   },
   {
    "duration": 163,
    "start_time": "2024-11-09T21:33:12.571Z"
   },
   {
    "duration": 20,
    "start_time": "2024-11-09T21:33:12.745Z"
   },
   {
    "duration": 15,
    "start_time": "2024-11-09T21:33:12.767Z"
   },
   {
    "duration": 31,
    "start_time": "2024-11-09T21:33:12.784Z"
   },
   {
    "duration": 37,
    "start_time": "2024-11-09T21:33:12.817Z"
   },
   {
    "duration": 712,
    "start_time": "2024-11-09T21:33:12.857Z"
   },
   {
    "duration": 1316,
    "start_time": "2024-11-09T21:33:13.620Z"
   },
   {
    "duration": 173,
    "start_time": "2024-11-09T21:33:14.938Z"
   },
   {
    "duration": 185,
    "start_time": "2024-11-09T21:33:15.122Z"
   },
   {
    "duration": 93,
    "start_time": "2024-11-09T21:33:15.309Z"
   },
   {
    "duration": 5678,
    "start_time": "2024-11-09T21:33:15.403Z"
   },
   {
    "duration": 22,
    "start_time": "2024-11-09T21:33:21.082Z"
   },
   {
    "duration": 205,
    "start_time": "2024-11-09T21:33:21.106Z"
   },
   {
    "duration": 3,
    "start_time": "2024-11-09T21:33:21.312Z"
   },
   {
    "duration": 17,
    "start_time": "2024-11-09T21:33:21.320Z"
   },
   {
    "duration": 57,
    "start_time": "2024-11-09T21:33:21.341Z"
   },
   {
    "duration": 0,
    "start_time": "2024-11-09T21:33:21.400Z"
   },
   {
    "duration": 0,
    "start_time": "2024-11-09T21:33:21.401Z"
   },
   {
    "duration": 0,
    "start_time": "2024-11-09T21:33:21.401Z"
   },
   {
    "duration": 0,
    "start_time": "2024-11-09T21:33:21.402Z"
   },
   {
    "duration": 0,
    "start_time": "2024-11-09T21:33:21.403Z"
   },
   {
    "duration": 0,
    "start_time": "2024-11-09T21:33:21.404Z"
   },
   {
    "duration": 0,
    "start_time": "2024-11-09T21:33:21.405Z"
   },
   {
    "duration": 0,
    "start_time": "2024-11-09T21:33:21.406Z"
   },
   {
    "duration": 0,
    "start_time": "2024-11-09T21:33:21.407Z"
   },
   {
    "duration": 0,
    "start_time": "2024-11-09T21:33:21.407Z"
   },
   {
    "duration": 0,
    "start_time": "2024-11-09T21:33:21.408Z"
   },
   {
    "duration": 0,
    "start_time": "2024-11-09T21:33:21.409Z"
   },
   {
    "duration": 0,
    "start_time": "2024-11-09T21:33:21.410Z"
   },
   {
    "duration": 0,
    "start_time": "2024-11-09T21:33:21.411Z"
   },
   {
    "duration": 118,
    "start_time": "2024-11-09T21:33:39.545Z"
   },
   {
    "duration": 4,
    "start_time": "2024-11-09T21:34:18.746Z"
   },
   {
    "duration": 2358,
    "start_time": "2024-11-09T21:43:49.943Z"
   },
   {
    "duration": 1412,
    "start_time": "2024-11-09T21:43:52.304Z"
   },
   {
    "duration": 1080,
    "start_time": "2024-11-09T21:43:53.717Z"
   },
   {
    "duration": 190,
    "start_time": "2024-11-09T21:43:54.798Z"
   },
   {
    "duration": 40,
    "start_time": "2024-11-09T21:43:54.990Z"
   },
   {
    "duration": 152,
    "start_time": "2024-11-09T21:43:55.035Z"
   },
   {
    "duration": 52,
    "start_time": "2024-11-09T21:43:55.188Z"
   },
   {
    "duration": 8,
    "start_time": "2024-11-09T21:43:55.245Z"
   },
   {
    "duration": 68,
    "start_time": "2024-11-09T21:43:55.254Z"
   },
   {
    "duration": 168,
    "start_time": "2024-11-09T21:43:55.330Z"
   },
   {
    "duration": 171,
    "start_time": "2024-11-09T21:43:55.499Z"
   },
   {
    "duration": 21,
    "start_time": "2024-11-09T21:43:55.671Z"
   },
   {
    "duration": 48,
    "start_time": "2024-11-09T21:43:55.693Z"
   },
   {
    "duration": 20,
    "start_time": "2024-11-09T21:43:55.745Z"
   },
   {
    "duration": 19,
    "start_time": "2024-11-09T21:43:55.766Z"
   },
   {
    "duration": 89,
    "start_time": "2024-11-09T21:43:55.786Z"
   },
   {
    "duration": 21,
    "start_time": "2024-11-09T21:43:55.876Z"
   },
   {
    "duration": 21,
    "start_time": "2024-11-09T21:43:55.898Z"
   },
   {
    "duration": 30,
    "start_time": "2024-11-09T21:43:55.924Z"
   },
   {
    "duration": 20,
    "start_time": "2024-11-09T21:43:55.955Z"
   },
   {
    "duration": 18,
    "start_time": "2024-11-09T21:43:55.977Z"
   },
   {
    "duration": 175,
    "start_time": "2024-11-09T21:43:55.996Z"
   },
   {
    "duration": 895,
    "start_time": "2024-11-09T21:43:56.172Z"
   },
   {
    "duration": 94,
    "start_time": "2024-11-09T21:43:57.068Z"
   },
   {
    "duration": 288,
    "start_time": "2024-11-09T21:43:57.163Z"
   },
   {
    "duration": 5,
    "start_time": "2024-11-09T21:43:57.453Z"
   },
   {
    "duration": 105,
    "start_time": "2024-11-09T21:43:57.459Z"
   },
   {
    "duration": 16,
    "start_time": "2024-11-09T21:43:57.568Z"
   },
   {
    "duration": 5,
    "start_time": "2024-11-09T21:43:57.586Z"
   },
   {
    "duration": 184,
    "start_time": "2024-11-09T21:43:57.592Z"
   },
   {
    "duration": 15,
    "start_time": "2024-11-09T21:43:57.778Z"
   },
   {
    "duration": 153,
    "start_time": "2024-11-09T21:43:57.795Z"
   },
   {
    "duration": 147,
    "start_time": "2024-11-09T21:43:57.950Z"
   },
   {
    "duration": 44,
    "start_time": "2024-11-09T21:43:58.098Z"
   },
   {
    "duration": 17,
    "start_time": "2024-11-09T21:43:58.143Z"
   },
   {
    "duration": 24,
    "start_time": "2024-11-09T21:43:58.161Z"
   },
   {
    "duration": 19,
    "start_time": "2024-11-09T21:43:58.186Z"
   },
   {
    "duration": 395,
    "start_time": "2024-11-09T21:43:58.206Z"
   },
   {
    "duration": 608,
    "start_time": "2024-11-09T21:43:58.603Z"
   },
   {
    "duration": 184,
    "start_time": "2024-11-09T21:43:59.212Z"
   },
   {
    "duration": 177,
    "start_time": "2024-11-09T21:43:59.398Z"
   },
   {
    "duration": 94,
    "start_time": "2024-11-09T21:43:59.577Z"
   },
   {
    "duration": 5704,
    "start_time": "2024-11-09T21:43:59.673Z"
   },
   {
    "duration": 22,
    "start_time": "2024-11-09T21:44:05.378Z"
   },
   {
    "duration": 87,
    "start_time": "2024-11-09T21:44:05.402Z"
   },
   {
    "duration": 3,
    "start_time": "2024-11-09T21:44:05.490Z"
   },
   {
    "duration": 37,
    "start_time": "2024-11-09T21:44:05.494Z"
   },
   {
    "duration": 3410,
    "start_time": "2024-11-09T21:44:05.539Z"
   },
   {
    "duration": 0,
    "start_time": "2024-11-09T21:44:08.951Z"
   },
   {
    "duration": 0,
    "start_time": "2024-11-09T21:44:08.953Z"
   },
   {
    "duration": 0,
    "start_time": "2024-11-09T21:44:08.954Z"
   },
   {
    "duration": 0,
    "start_time": "2024-11-09T21:44:08.955Z"
   },
   {
    "duration": 0,
    "start_time": "2024-11-09T21:44:08.957Z"
   },
   {
    "duration": 0,
    "start_time": "2024-11-09T21:44:08.958Z"
   },
   {
    "duration": 0,
    "start_time": "2024-11-09T21:44:08.959Z"
   },
   {
    "duration": 0,
    "start_time": "2024-11-09T21:44:08.960Z"
   },
   {
    "duration": 0,
    "start_time": "2024-11-09T21:44:08.961Z"
   },
   {
    "duration": 0,
    "start_time": "2024-11-09T21:44:08.962Z"
   },
   {
    "duration": 0,
    "start_time": "2024-11-09T21:44:08.963Z"
   },
   {
    "duration": 0,
    "start_time": "2024-11-09T21:44:08.964Z"
   },
   {
    "duration": 0,
    "start_time": "2024-11-09T21:44:08.965Z"
   },
   {
    "duration": 0,
    "start_time": "2024-11-09T21:44:08.966Z"
   },
   {
    "duration": 0,
    "start_time": "2024-11-09T21:44:08.967Z"
   },
   {
    "duration": 0,
    "start_time": "2024-11-09T21:44:08.968Z"
   },
   {
    "duration": 0,
    "start_time": "2024-11-09T21:44:08.969Z"
   },
   {
    "duration": 0,
    "start_time": "2024-11-09T21:44:08.970Z"
   },
   {
    "duration": 2946,
    "start_time": "2024-11-09T21:45:02.860Z"
   },
   {
    "duration": 2462,
    "start_time": "2024-11-09T21:45:39.529Z"
   },
   {
    "duration": 1493,
    "start_time": "2024-11-09T21:45:41.993Z"
   },
   {
    "duration": 1228,
    "start_time": "2024-11-09T21:45:43.487Z"
   },
   {
    "duration": 180,
    "start_time": "2024-11-09T21:45:44.717Z"
   },
   {
    "duration": 55,
    "start_time": "2024-11-09T21:45:44.898Z"
   },
   {
    "duration": 161,
    "start_time": "2024-11-09T21:45:44.957Z"
   },
   {
    "duration": 109,
    "start_time": "2024-11-09T21:45:45.119Z"
   },
   {
    "duration": 8,
    "start_time": "2024-11-09T21:45:45.230Z"
   },
   {
    "duration": 79,
    "start_time": "2024-11-09T21:45:45.240Z"
   },
   {
    "duration": 177,
    "start_time": "2024-11-09T21:45:45.322Z"
   },
   {
    "duration": 178,
    "start_time": "2024-11-09T21:45:45.501Z"
   },
   {
    "duration": 21,
    "start_time": "2024-11-09T21:45:45.680Z"
   },
   {
    "duration": 44,
    "start_time": "2024-11-09T21:45:45.702Z"
   },
   {
    "duration": 22,
    "start_time": "2024-11-09T21:45:45.751Z"
   },
   {
    "duration": 36,
    "start_time": "2024-11-09T21:45:45.774Z"
   },
   {
    "duration": 71,
    "start_time": "2024-11-09T21:45:45.811Z"
   },
   {
    "duration": 34,
    "start_time": "2024-11-09T21:45:45.883Z"
   },
   {
    "duration": 38,
    "start_time": "2024-11-09T21:45:45.919Z"
   },
   {
    "duration": 18,
    "start_time": "2024-11-09T21:45:45.958Z"
   },
   {
    "duration": 21,
    "start_time": "2024-11-09T21:45:45.978Z"
   },
   {
    "duration": 43,
    "start_time": "2024-11-09T21:45:46.001Z"
   },
   {
    "duration": 169,
    "start_time": "2024-11-09T21:45:46.045Z"
   },
   {
    "duration": 959,
    "start_time": "2024-11-09T21:45:46.215Z"
   },
   {
    "duration": 100,
    "start_time": "2024-11-09T21:45:47.175Z"
   },
   {
    "duration": 306,
    "start_time": "2024-11-09T21:45:47.277Z"
   },
   {
    "duration": 4,
    "start_time": "2024-11-09T21:45:47.585Z"
   },
   {
    "duration": 118,
    "start_time": "2024-11-09T21:45:47.590Z"
   },
   {
    "duration": 29,
    "start_time": "2024-11-09T21:45:47.711Z"
   },
   {
    "duration": 9,
    "start_time": "2024-11-09T21:45:47.745Z"
   },
   {
    "duration": 94,
    "start_time": "2024-11-09T21:45:47.755Z"
   },
   {
    "duration": 17,
    "start_time": "2024-11-09T21:45:47.851Z"
   },
   {
    "duration": 87,
    "start_time": "2024-11-09T21:45:47.869Z"
   },
   {
    "duration": 156,
    "start_time": "2024-11-09T21:45:47.957Z"
   },
   {
    "duration": 25,
    "start_time": "2024-11-09T21:45:48.125Z"
   },
   {
    "duration": 16,
    "start_time": "2024-11-09T21:45:48.152Z"
   },
   {
    "duration": 24,
    "start_time": "2024-11-09T21:45:48.169Z"
   },
   {
    "duration": 40,
    "start_time": "2024-11-09T21:45:48.195Z"
   },
   {
    "duration": 340,
    "start_time": "2024-11-09T21:45:48.237Z"
   },
   {
    "duration": 638,
    "start_time": "2024-11-09T21:45:48.578Z"
   },
   {
    "duration": 189,
    "start_time": "2024-11-09T21:45:49.217Z"
   },
   {
    "duration": 180,
    "start_time": "2024-11-09T21:45:49.409Z"
   },
   {
    "duration": 98,
    "start_time": "2024-11-09T21:45:49.590Z"
   },
   {
    "duration": 6019,
    "start_time": "2024-11-09T21:45:49.690Z"
   },
   {
    "duration": 31,
    "start_time": "2024-11-09T21:45:55.711Z"
   },
   {
    "duration": 67,
    "start_time": "2024-11-09T21:45:55.744Z"
   },
   {
    "duration": 2,
    "start_time": "2024-11-09T21:45:55.813Z"
   },
   {
    "duration": 3419,
    "start_time": "2024-11-09T21:45:55.816Z"
   },
   {
    "duration": 2601,
    "start_time": "2024-11-09T21:52:01.109Z"
   },
   {
    "duration": 1553,
    "start_time": "2024-11-09T21:52:03.713Z"
   },
   {
    "duration": 1285,
    "start_time": "2024-11-09T21:52:05.268Z"
   },
   {
    "duration": 163,
    "start_time": "2024-11-09T21:52:06.555Z"
   },
   {
    "duration": 35,
    "start_time": "2024-11-09T21:52:06.720Z"
   },
   {
    "duration": 181,
    "start_time": "2024-11-09T21:52:06.757Z"
   },
   {
    "duration": 44,
    "start_time": "2024-11-09T21:52:06.941Z"
   },
   {
    "duration": 5,
    "start_time": "2024-11-09T21:52:06.986Z"
   },
   {
    "duration": 68,
    "start_time": "2024-11-09T21:52:06.992Z"
   },
   {
    "duration": 166,
    "start_time": "2024-11-09T21:52:07.063Z"
   },
   {
    "duration": 203,
    "start_time": "2024-11-09T21:52:07.230Z"
   },
   {
    "duration": 31,
    "start_time": "2024-11-09T21:52:07.434Z"
   },
   {
    "duration": 19,
    "start_time": "2024-11-09T21:52:07.466Z"
   },
   {
    "duration": 20,
    "start_time": "2024-11-09T21:52:07.487Z"
   },
   {
    "duration": 33,
    "start_time": "2024-11-09T21:52:07.520Z"
   },
   {
    "duration": 38,
    "start_time": "2024-11-09T21:52:07.555Z"
   },
   {
    "duration": 18,
    "start_time": "2024-11-09T21:52:07.595Z"
   },
   {
    "duration": 40,
    "start_time": "2024-11-09T21:52:07.614Z"
   },
   {
    "duration": 17,
    "start_time": "2024-11-09T21:52:07.656Z"
   },
   {
    "duration": 35,
    "start_time": "2024-11-09T21:52:07.675Z"
   },
   {
    "duration": 41,
    "start_time": "2024-11-09T21:52:07.712Z"
   },
   {
    "duration": 161,
    "start_time": "2024-11-09T21:52:07.754Z"
   },
   {
    "duration": 939,
    "start_time": "2024-11-09T21:52:07.916Z"
   },
   {
    "duration": 106,
    "start_time": "2024-11-09T21:52:08.857Z"
   },
   {
    "duration": 250,
    "start_time": "2024-11-09T21:52:08.965Z"
   },
   {
    "duration": 8,
    "start_time": "2024-11-09T21:52:09.223Z"
   },
   {
    "duration": 109,
    "start_time": "2024-11-09T21:52:09.236Z"
   },
   {
    "duration": 17,
    "start_time": "2024-11-09T21:52:09.351Z"
   },
   {
    "duration": 5,
    "start_time": "2024-11-09T21:52:09.369Z"
   },
   {
    "duration": 111,
    "start_time": "2024-11-09T21:52:09.376Z"
   },
   {
    "duration": 15,
    "start_time": "2024-11-09T21:52:09.489Z"
   },
   {
    "duration": 96,
    "start_time": "2024-11-09T21:52:09.506Z"
   },
   {
    "duration": 167,
    "start_time": "2024-11-09T21:52:09.603Z"
   },
   {
    "duration": 19,
    "start_time": "2024-11-09T21:52:09.772Z"
   },
   {
    "duration": 44,
    "start_time": "2024-11-09T21:52:09.792Z"
   },
   {
    "duration": 30,
    "start_time": "2024-11-09T21:52:09.840Z"
   },
   {
    "duration": 60,
    "start_time": "2024-11-09T21:52:09.871Z"
   },
   {
    "duration": 342,
    "start_time": "2024-11-09T21:52:09.936Z"
   },
   {
    "duration": 631,
    "start_time": "2024-11-09T21:52:10.279Z"
   },
   {
    "duration": 190,
    "start_time": "2024-11-09T21:52:10.912Z"
   },
   {
    "duration": 186,
    "start_time": "2024-11-09T21:52:11.104Z"
   },
   {
    "duration": 101,
    "start_time": "2024-11-09T21:52:11.292Z"
   },
   {
    "duration": 5807,
    "start_time": "2024-11-09T21:52:11.395Z"
   },
   {
    "duration": 36,
    "start_time": "2024-11-09T21:52:17.204Z"
   },
   {
    "duration": 81,
    "start_time": "2024-11-09T21:52:17.244Z"
   },
   {
    "duration": 3,
    "start_time": "2024-11-09T21:52:17.327Z"
   },
   {
    "duration": 11,
    "start_time": "2024-11-09T21:52:17.332Z"
   },
   {
    "duration": 2411,
    "start_time": "2024-11-09T21:53:17.845Z"
   },
   {
    "duration": 1401,
    "start_time": "2024-11-09T21:53:20.258Z"
   },
   {
    "duration": 870,
    "start_time": "2024-11-09T21:53:21.660Z"
   },
   {
    "duration": 171,
    "start_time": "2024-11-09T21:53:22.532Z"
   },
   {
    "duration": 35,
    "start_time": "2024-11-09T21:53:22.704Z"
   },
   {
    "duration": 161,
    "start_time": "2024-11-09T21:53:22.740Z"
   },
   {
    "duration": 72,
    "start_time": "2024-11-09T21:53:22.903Z"
   },
   {
    "duration": 4,
    "start_time": "2024-11-09T21:53:22.976Z"
   },
   {
    "duration": 67,
    "start_time": "2024-11-09T21:53:22.981Z"
   },
   {
    "duration": 149,
    "start_time": "2024-11-09T21:53:23.051Z"
   },
   {
    "duration": 171,
    "start_time": "2024-11-09T21:53:23.201Z"
   },
   {
    "duration": 20,
    "start_time": "2024-11-09T21:53:23.373Z"
   },
   {
    "duration": 43,
    "start_time": "2024-11-09T21:53:23.395Z"
   },
   {
    "duration": 26,
    "start_time": "2024-11-09T21:53:23.446Z"
   },
   {
    "duration": 18,
    "start_time": "2024-11-09T21:53:23.474Z"
   },
   {
    "duration": 22,
    "start_time": "2024-11-09T21:53:23.493Z"
   },
   {
    "duration": 37,
    "start_time": "2024-11-09T21:53:23.516Z"
   },
   {
    "duration": 21,
    "start_time": "2024-11-09T21:53:23.555Z"
   },
   {
    "duration": 19,
    "start_time": "2024-11-09T21:53:23.577Z"
   },
   {
    "duration": 52,
    "start_time": "2024-11-09T21:53:23.597Z"
   },
   {
    "duration": 18,
    "start_time": "2024-11-09T21:53:23.651Z"
   },
   {
    "duration": 148,
    "start_time": "2024-11-09T21:53:23.670Z"
   },
   {
    "duration": 881,
    "start_time": "2024-11-09T21:53:23.824Z"
   },
   {
    "duration": 93,
    "start_time": "2024-11-09T21:53:24.706Z"
   },
   {
    "duration": 269,
    "start_time": "2024-11-09T21:53:24.801Z"
   },
   {
    "duration": 4,
    "start_time": "2024-11-09T21:53:25.072Z"
   },
   {
    "duration": 157,
    "start_time": "2024-11-09T21:53:25.078Z"
   },
   {
    "duration": 19,
    "start_time": "2024-11-09T21:53:25.243Z"
   },
   {
    "duration": 4,
    "start_time": "2024-11-09T21:53:25.263Z"
   },
   {
    "duration": 89,
    "start_time": "2024-11-09T21:53:25.268Z"
   },
   {
    "duration": 15,
    "start_time": "2024-11-09T21:53:25.358Z"
   },
   {
    "duration": 88,
    "start_time": "2024-11-09T21:53:25.375Z"
   },
   {
    "duration": 151,
    "start_time": "2024-11-09T21:53:25.464Z"
   },
   {
    "duration": 28,
    "start_time": "2024-11-09T21:53:25.623Z"
   },
   {
    "duration": 40,
    "start_time": "2024-11-09T21:53:25.652Z"
   },
   {
    "duration": 25,
    "start_time": "2024-11-09T21:53:25.693Z"
   },
   {
    "duration": 37,
    "start_time": "2024-11-09T21:53:25.719Z"
   },
   {
    "duration": 324,
    "start_time": "2024-11-09T21:53:25.757Z"
   },
   {
    "duration": 601,
    "start_time": "2024-11-09T21:53:26.083Z"
   },
   {
    "duration": 176,
    "start_time": "2024-11-09T21:53:26.685Z"
   },
   {
    "duration": 169,
    "start_time": "2024-11-09T21:53:26.862Z"
   },
   {
    "duration": 85,
    "start_time": "2024-11-09T21:53:27.032Z"
   },
   {
    "duration": 5784,
    "start_time": "2024-11-09T21:53:27.124Z"
   },
   {
    "duration": 28,
    "start_time": "2024-11-09T21:53:32.910Z"
   },
   {
    "duration": 72,
    "start_time": "2024-11-09T21:53:32.942Z"
   },
   {
    "duration": 3,
    "start_time": "2024-11-09T21:53:33.016Z"
   },
   {
    "duration": 15,
    "start_time": "2024-11-09T21:53:33.022Z"
   },
   {
    "duration": 121,
    "start_time": "2024-11-09T21:53:33.042Z"
   },
   {
    "duration": 0,
    "start_time": "2024-11-09T21:53:33.164Z"
   },
   {
    "duration": 1,
    "start_time": "2024-11-09T21:53:33.165Z"
   },
   {
    "duration": 0,
    "start_time": "2024-11-09T21:53:33.167Z"
   },
   {
    "duration": 0,
    "start_time": "2024-11-09T21:53:33.168Z"
   },
   {
    "duration": 0,
    "start_time": "2024-11-09T21:53:33.169Z"
   },
   {
    "duration": 0,
    "start_time": "2024-11-09T21:53:33.169Z"
   },
   {
    "duration": 0,
    "start_time": "2024-11-09T21:53:33.170Z"
   },
   {
    "duration": 0,
    "start_time": "2024-11-09T21:53:33.172Z"
   },
   {
    "duration": 0,
    "start_time": "2024-11-09T21:53:33.173Z"
   },
   {
    "duration": 0,
    "start_time": "2024-11-09T21:53:33.174Z"
   },
   {
    "duration": 0,
    "start_time": "2024-11-09T21:53:33.174Z"
   },
   {
    "duration": 0,
    "start_time": "2024-11-09T21:53:33.175Z"
   },
   {
    "duration": 0,
    "start_time": "2024-11-09T21:53:33.176Z"
   },
   {
    "duration": 0,
    "start_time": "2024-11-09T21:53:33.177Z"
   },
   {
    "duration": 0,
    "start_time": "2024-11-09T21:53:33.179Z"
   },
   {
    "duration": 12,
    "start_time": "2024-11-09T21:53:45.354Z"
   },
   {
    "duration": 2391,
    "start_time": "2024-11-09T21:54:34.098Z"
   },
   {
    "duration": 1416,
    "start_time": "2024-11-09T21:54:36.491Z"
   },
   {
    "duration": 857,
    "start_time": "2024-11-09T21:54:37.909Z"
   },
   {
    "duration": 175,
    "start_time": "2024-11-09T21:54:38.768Z"
   },
   {
    "duration": 25,
    "start_time": "2024-11-09T21:54:38.945Z"
   },
   {
    "duration": 162,
    "start_time": "2024-11-09T21:54:38.971Z"
   },
   {
    "duration": 41,
    "start_time": "2024-11-09T21:54:39.140Z"
   },
   {
    "duration": 7,
    "start_time": "2024-11-09T21:54:39.183Z"
   },
   {
    "duration": 76,
    "start_time": "2024-11-09T21:54:39.192Z"
   },
   {
    "duration": 163,
    "start_time": "2024-11-09T21:54:39.270Z"
   },
   {
    "duration": 148,
    "start_time": "2024-11-09T21:54:39.443Z"
   },
   {
    "duration": 40,
    "start_time": "2024-11-09T21:54:39.592Z"
   },
   {
    "duration": 22,
    "start_time": "2024-11-09T21:54:39.640Z"
   },
   {
    "duration": 23,
    "start_time": "2024-11-09T21:54:39.663Z"
   },
   {
    "duration": 21,
    "start_time": "2024-11-09T21:54:39.687Z"
   },
   {
    "duration": 40,
    "start_time": "2024-11-09T21:54:39.709Z"
   },
   {
    "duration": 17,
    "start_time": "2024-11-09T21:54:39.751Z"
   },
   {
    "duration": 20,
    "start_time": "2024-11-09T21:54:39.769Z"
   },
   {
    "duration": 18,
    "start_time": "2024-11-09T21:54:39.790Z"
   },
   {
    "duration": 33,
    "start_time": "2024-11-09T21:54:39.824Z"
   },
   {
    "duration": 54,
    "start_time": "2024-11-09T21:54:39.858Z"
   },
   {
    "duration": 171,
    "start_time": "2024-11-09T21:54:39.913Z"
   },
   {
    "duration": 886,
    "start_time": "2024-11-09T21:54:40.086Z"
   },
   {
    "duration": 103,
    "start_time": "2024-11-09T21:54:40.974Z"
   },
   {
    "duration": 253,
    "start_time": "2024-11-09T21:54:41.078Z"
   },
   {
    "duration": 16,
    "start_time": "2024-11-09T21:54:41.332Z"
   },
   {
    "duration": 95,
    "start_time": "2024-11-09T21:54:41.349Z"
   },
   {
    "duration": 15,
    "start_time": "2024-11-09T21:54:41.450Z"
   },
   {
    "duration": 4,
    "start_time": "2024-11-09T21:54:41.467Z"
   },
   {
    "duration": 94,
    "start_time": "2024-11-09T21:54:41.472Z"
   },
   {
    "duration": 15,
    "start_time": "2024-11-09T21:54:41.567Z"
   },
   {
    "duration": 85,
    "start_time": "2024-11-09T21:54:41.584Z"
   },
   {
    "duration": 164,
    "start_time": "2024-11-09T21:54:41.670Z"
   },
   {
    "duration": 24,
    "start_time": "2024-11-09T21:54:41.835Z"
   },
   {
    "duration": 58,
    "start_time": "2024-11-09T21:54:41.860Z"
   },
   {
    "duration": 39,
    "start_time": "2024-11-09T21:54:41.919Z"
   },
   {
    "duration": 20,
    "start_time": "2024-11-09T21:54:41.959Z"
   },
   {
    "duration": 389,
    "start_time": "2024-11-09T21:54:41.980Z"
   },
   {
    "duration": 613,
    "start_time": "2024-11-09T21:54:42.371Z"
   },
   {
    "duration": 175,
    "start_time": "2024-11-09T21:54:42.985Z"
   },
   {
    "duration": 166,
    "start_time": "2024-11-09T21:54:43.162Z"
   },
   {
    "duration": 83,
    "start_time": "2024-11-09T21:54:43.334Z"
   },
   {
    "duration": 5722,
    "start_time": "2024-11-09T21:54:43.418Z"
   },
   {
    "duration": 23,
    "start_time": "2024-11-09T21:54:49.148Z"
   },
   {
    "duration": 102,
    "start_time": "2024-11-09T21:54:49.173Z"
   },
   {
    "duration": 3,
    "start_time": "2024-11-09T21:54:49.276Z"
   },
   {
    "duration": 5,
    "start_time": "2024-11-09T21:54:49.281Z"
   },
   {
    "duration": 2423,
    "start_time": "2024-11-09T22:00:07.245Z"
   },
   {
    "duration": 1437,
    "start_time": "2024-11-09T22:00:09.670Z"
   },
   {
    "duration": 894,
    "start_time": "2024-11-09T22:00:11.109Z"
   },
   {
    "duration": 179,
    "start_time": "2024-11-09T22:00:12.005Z"
   },
   {
    "duration": 36,
    "start_time": "2024-11-09T22:00:12.186Z"
   },
   {
    "duration": 159,
    "start_time": "2024-11-09T22:00:12.224Z"
   },
   {
    "duration": 57,
    "start_time": "2024-11-09T22:00:12.386Z"
   },
   {
    "duration": 4,
    "start_time": "2024-11-09T22:00:12.449Z"
   },
   {
    "duration": 57,
    "start_time": "2024-11-09T22:00:12.454Z"
   },
   {
    "duration": 171,
    "start_time": "2024-11-09T22:00:12.513Z"
   },
   {
    "duration": 169,
    "start_time": "2024-11-09T22:00:12.686Z"
   },
   {
    "duration": 25,
    "start_time": "2024-11-09T22:00:12.856Z"
   },
   {
    "duration": 26,
    "start_time": "2024-11-09T22:00:12.883Z"
   },
   {
    "duration": 56,
    "start_time": "2024-11-09T22:00:12.911Z"
   },
   {
    "duration": 18,
    "start_time": "2024-11-09T22:00:12.969Z"
   },
   {
    "duration": 24,
    "start_time": "2024-11-09T22:00:12.988Z"
   },
   {
    "duration": 38,
    "start_time": "2024-11-09T22:00:13.014Z"
   },
   {
    "duration": 26,
    "start_time": "2024-11-09T22:00:13.053Z"
   },
   {
    "duration": 20,
    "start_time": "2024-11-09T22:00:13.081Z"
   },
   {
    "duration": 66,
    "start_time": "2024-11-09T22:00:13.103Z"
   },
   {
    "duration": 84,
    "start_time": "2024-11-09T22:00:13.170Z"
   },
   {
    "duration": 152,
    "start_time": "2024-11-09T22:00:13.256Z"
   },
   {
    "duration": 891,
    "start_time": "2024-11-09T22:00:13.409Z"
   },
   {
    "duration": 90,
    "start_time": "2024-11-09T22:00:14.301Z"
   },
   {
    "duration": 258,
    "start_time": "2024-11-09T22:00:14.392Z"
   },
   {
    "duration": 4,
    "start_time": "2024-11-09T22:00:14.652Z"
   },
   {
    "duration": 159,
    "start_time": "2024-11-09T22:00:14.658Z"
   },
   {
    "duration": 20,
    "start_time": "2024-11-09T22:00:14.823Z"
   },
   {
    "duration": 8,
    "start_time": "2024-11-09T22:00:14.845Z"
   },
   {
    "duration": 94,
    "start_time": "2024-11-09T22:00:14.854Z"
   },
   {
    "duration": 16,
    "start_time": "2024-11-09T22:00:14.950Z"
   },
   {
    "duration": 98,
    "start_time": "2024-11-09T22:00:14.968Z"
   },
   {
    "duration": 176,
    "start_time": "2024-11-09T22:00:15.068Z"
   },
   {
    "duration": 20,
    "start_time": "2024-11-09T22:00:15.248Z"
   },
   {
    "duration": 29,
    "start_time": "2024-11-09T22:00:15.270Z"
   },
   {
    "duration": 47,
    "start_time": "2024-11-09T22:00:15.301Z"
   },
   {
    "duration": 23,
    "start_time": "2024-11-09T22:00:15.349Z"
   },
   {
    "duration": 352,
    "start_time": "2024-11-09T22:00:15.374Z"
   },
   {
    "duration": 598,
    "start_time": "2024-11-09T22:00:15.727Z"
   },
   {
    "duration": 168,
    "start_time": "2024-11-09T22:00:16.337Z"
   },
   {
    "duration": 183,
    "start_time": "2024-11-09T22:00:16.507Z"
   },
   {
    "duration": 95,
    "start_time": "2024-11-09T22:00:16.691Z"
   },
   {
    "duration": 5621,
    "start_time": "2024-11-09T22:00:16.788Z"
   },
   {
    "duration": 28,
    "start_time": "2024-11-09T22:00:22.410Z"
   },
   {
    "duration": 68,
    "start_time": "2024-11-09T22:00:22.445Z"
   },
   {
    "duration": 3078,
    "start_time": "2024-11-09T22:00:22.514Z"
   },
   {
    "duration": 2,
    "start_time": "2024-11-09T22:00:25.593Z"
   },
   {
    "duration": 10,
    "start_time": "2024-11-09T22:00:25.596Z"
   },
   {
    "duration": 5,
    "start_time": "2024-11-09T22:00:25.607Z"
   },
   {
    "duration": 61710,
    "start_time": "2024-11-09T22:00:25.613Z"
   },
   {
    "duration": 320,
    "start_time": "2024-11-09T22:01:27.327Z"
   },
   {
    "duration": 77,
    "start_time": "2024-11-09T22:01:27.654Z"
   },
   {
    "duration": 403,
    "start_time": "2024-11-09T22:01:27.733Z"
   },
   {
    "duration": 3,
    "start_time": "2024-11-09T22:01:28.138Z"
   },
   {
    "duration": 8423,
    "start_time": "2024-11-09T22:01:28.142Z"
   },
   {
    "duration": 101,
    "start_time": "2024-11-09T22:01:36.567Z"
   },
   {
    "duration": 4,
    "start_time": "2024-11-09T22:01:36.669Z"
   },
   {
    "duration": 3,
    "start_time": "2024-11-09T22:01:36.675Z"
   },
   {
    "duration": 3,
    "start_time": "2024-11-09T22:01:36.679Z"
   },
   {
    "duration": 30849,
    "start_time": "2024-11-09T22:01:36.683Z"
   },
   {
    "duration": 314,
    "start_time": "2024-11-09T22:02:07.537Z"
   },
   {
    "duration": 6,
    "start_time": "2024-11-09T22:02:07.852Z"
   },
   {
    "duration": 108,
    "start_time": "2024-11-09T22:02:07.860Z"
   },
   {
    "duration": 3,
    "start_time": "2024-11-09T22:02:13.967Z"
   },
   {
    "duration": 2402,
    "start_time": "2024-11-09T22:06:02.993Z"
   },
   {
    "duration": 1407,
    "start_time": "2024-11-09T22:06:05.397Z"
   },
   {
    "duration": 910,
    "start_time": "2024-11-09T22:06:06.806Z"
   },
   {
    "duration": 178,
    "start_time": "2024-11-09T22:06:07.718Z"
   },
   {
    "duration": 41,
    "start_time": "2024-11-09T22:06:07.897Z"
   },
   {
    "duration": 150,
    "start_time": "2024-11-09T22:06:07.943Z"
   },
   {
    "duration": 55,
    "start_time": "2024-11-09T22:06:08.094Z"
   },
   {
    "duration": 3,
    "start_time": "2024-11-09T22:06:08.151Z"
   },
   {
    "duration": 73,
    "start_time": "2024-11-09T22:06:08.156Z"
   },
   {
    "duration": 156,
    "start_time": "2024-11-09T22:06:08.239Z"
   },
   {
    "duration": 172,
    "start_time": "2024-11-09T22:06:08.397Z"
   },
   {
    "duration": 20,
    "start_time": "2024-11-09T22:06:08.570Z"
   },
   {
    "duration": 33,
    "start_time": "2024-11-09T22:06:08.591Z"
   },
   {
    "duration": 60,
    "start_time": "2024-11-09T22:06:08.628Z"
   },
   {
    "duration": 20,
    "start_time": "2024-11-09T22:06:08.689Z"
   },
   {
    "duration": 39,
    "start_time": "2024-11-09T22:06:08.711Z"
   },
   {
    "duration": 18,
    "start_time": "2024-11-09T22:06:08.751Z"
   },
   {
    "duration": 34,
    "start_time": "2024-11-09T22:06:08.771Z"
   },
   {
    "duration": 33,
    "start_time": "2024-11-09T22:06:08.806Z"
   },
   {
    "duration": 22,
    "start_time": "2024-11-09T22:06:08.843Z"
   },
   {
    "duration": 21,
    "start_time": "2024-11-09T22:06:08.866Z"
   },
   {
    "duration": 166,
    "start_time": "2024-11-09T22:06:08.888Z"
   },
   {
    "duration": 869,
    "start_time": "2024-11-09T22:06:09.055Z"
   },
   {
    "duration": 98,
    "start_time": "2024-11-09T22:06:09.933Z"
   },
   {
    "duration": 261,
    "start_time": "2024-11-09T22:06:10.036Z"
   },
   {
    "duration": 5,
    "start_time": "2024-11-09T22:06:10.298Z"
   },
   {
    "duration": 111,
    "start_time": "2024-11-09T22:06:10.304Z"
   },
   {
    "duration": 33,
    "start_time": "2024-11-09T22:06:10.418Z"
   },
   {
    "duration": 4,
    "start_time": "2024-11-09T22:06:10.453Z"
   },
   {
    "duration": 97,
    "start_time": "2024-11-09T22:06:10.458Z"
   },
   {
    "duration": 15,
    "start_time": "2024-11-09T22:06:10.556Z"
   },
   {
    "duration": 94,
    "start_time": "2024-11-09T22:06:10.573Z"
   },
   {
    "duration": 170,
    "start_time": "2024-11-09T22:06:10.669Z"
   },
   {
    "duration": 20,
    "start_time": "2024-11-09T22:06:10.841Z"
   },
   {
    "duration": 17,
    "start_time": "2024-11-09T22:06:10.862Z"
   },
   {
    "duration": 25,
    "start_time": "2024-11-09T22:06:10.880Z"
   },
   {
    "duration": 49,
    "start_time": "2024-11-09T22:06:10.906Z"
   },
   {
    "duration": 327,
    "start_time": "2024-11-09T22:06:10.957Z"
   },
   {
    "duration": 602,
    "start_time": "2024-11-09T22:06:11.285Z"
   },
   {
    "duration": 186,
    "start_time": "2024-11-09T22:06:11.889Z"
   },
   {
    "duration": 174,
    "start_time": "2024-11-09T22:06:12.077Z"
   },
   {
    "duration": 100,
    "start_time": "2024-11-09T22:06:12.254Z"
   },
   {
    "duration": 5651,
    "start_time": "2024-11-09T22:06:12.357Z"
   },
   {
    "duration": 39,
    "start_time": "2024-11-09T22:06:18.009Z"
   },
   {
    "duration": 60,
    "start_time": "2024-11-09T22:06:18.050Z"
   },
   {
    "duration": 3246,
    "start_time": "2024-11-09T22:06:18.112Z"
   },
   {
    "duration": 2,
    "start_time": "2024-11-09T22:06:21.359Z"
   },
   {
    "duration": 15,
    "start_time": "2024-11-09T22:06:21.363Z"
   },
   {
    "duration": 9,
    "start_time": "2024-11-09T22:06:21.379Z"
   },
   {
    "duration": 65037,
    "start_time": "2024-11-09T22:06:21.390Z"
   },
   {
    "duration": 220,
    "start_time": "2024-11-09T22:07:26.431Z"
   },
   {
    "duration": 14,
    "start_time": "2024-11-09T22:07:26.729Z"
   },
   {
    "duration": 312998,
    "start_time": "2024-11-09T22:07:26.753Z"
   },
   {
    "duration": 8,
    "start_time": "2024-11-09T22:12:39.756Z"
   },
   {
    "duration": 8700,
    "start_time": "2024-11-09T22:12:39.768Z"
   },
   {
    "duration": 114,
    "start_time": "2024-11-09T22:12:48.470Z"
   },
   {
    "duration": 4,
    "start_time": "2024-11-09T22:12:48.586Z"
   },
   {
    "duration": 7,
    "start_time": "2024-11-09T22:12:48.591Z"
   },
   {
    "duration": 3,
    "start_time": "2024-11-09T22:12:48.599Z"
   },
   {
    "duration": 189,
    "start_time": "2024-11-09T22:12:48.604Z"
   },
   {
    "duration": 9,
    "start_time": "2024-11-09T22:12:48.795Z"
   },
   {
    "duration": 0,
    "start_time": "2024-11-09T22:12:48.805Z"
   },
   {
    "duration": 0,
    "start_time": "2024-11-09T22:12:48.806Z"
   },
   {
    "duration": 35022,
    "start_time": "2024-11-09T22:13:52.757Z"
   },
   {
    "duration": 3,
    "start_time": "2024-11-09T22:15:52.588Z"
   },
   {
    "duration": 186383,
    "start_time": "2024-11-09T22:15:55.246Z"
   },
   {
    "duration": 317,
    "start_time": "2024-11-09T22:20:27.384Z"
   },
   {
    "duration": 3,
    "start_time": "2024-11-09T22:22:02.976Z"
   },
   {
    "duration": 58,
    "start_time": "2024-11-09T22:22:05.016Z"
   },
   {
    "duration": 62,
    "start_time": "2024-11-09T22:24:14.286Z"
   },
   {
    "duration": 2596,
    "start_time": "2024-11-09T22:26:35.164Z"
   },
   {
    "duration": 1476,
    "start_time": "2024-11-09T22:26:37.764Z"
   },
   {
    "duration": 922,
    "start_time": "2024-11-09T22:26:39.242Z"
   },
   {
    "duration": 196,
    "start_time": "2024-11-09T22:26:40.166Z"
   },
   {
    "duration": 25,
    "start_time": "2024-11-09T22:26:40.364Z"
   },
   {
    "duration": 199,
    "start_time": "2024-11-09T22:26:40.391Z"
   },
   {
    "duration": 72,
    "start_time": "2024-11-09T22:26:40.591Z"
   },
   {
    "duration": 4,
    "start_time": "2024-11-09T22:26:40.665Z"
   },
   {
    "duration": 130,
    "start_time": "2024-11-09T22:26:40.670Z"
   },
   {
    "duration": 181,
    "start_time": "2024-11-09T22:26:40.802Z"
   },
   {
    "duration": 190,
    "start_time": "2024-11-09T22:26:40.985Z"
   },
   {
    "duration": 19,
    "start_time": "2024-11-09T22:26:41.177Z"
   },
   {
    "duration": 43,
    "start_time": "2024-11-09T22:26:41.197Z"
   },
   {
    "duration": 28,
    "start_time": "2024-11-09T22:26:41.245Z"
   },
   {
    "duration": 17,
    "start_time": "2024-11-09T22:26:41.274Z"
   },
   {
    "duration": 77,
    "start_time": "2024-11-09T22:26:41.292Z"
   },
   {
    "duration": 17,
    "start_time": "2024-11-09T22:26:41.370Z"
   },
   {
    "duration": 22,
    "start_time": "2024-11-09T22:26:41.389Z"
   },
   {
    "duration": 42,
    "start_time": "2024-11-09T22:26:41.412Z"
   },
   {
    "duration": 26,
    "start_time": "2024-11-09T22:26:41.455Z"
   },
   {
    "duration": 18,
    "start_time": "2024-11-09T22:26:41.482Z"
   },
   {
    "duration": 176,
    "start_time": "2024-11-09T22:26:41.501Z"
   },
   {
    "duration": 928,
    "start_time": "2024-11-09T22:26:41.679Z"
   },
   {
    "duration": 91,
    "start_time": "2024-11-09T22:26:42.609Z"
   },
   {
    "duration": 297,
    "start_time": "2024-11-09T22:26:42.702Z"
   },
   {
    "duration": 4,
    "start_time": "2024-11-09T22:26:43.001Z"
   },
   {
    "duration": 126,
    "start_time": "2024-11-09T22:26:43.006Z"
   },
   {
    "duration": 23,
    "start_time": "2024-11-09T22:26:43.138Z"
   },
   {
    "duration": 4,
    "start_time": "2024-11-09T22:26:43.165Z"
   },
   {
    "duration": 168,
    "start_time": "2024-11-09T22:26:43.171Z"
   },
   {
    "duration": 19,
    "start_time": "2024-11-09T22:26:43.345Z"
   },
   {
    "duration": 94,
    "start_time": "2024-11-09T22:26:43.365Z"
   },
   {
    "duration": 156,
    "start_time": "2024-11-09T22:26:43.461Z"
   },
   {
    "duration": 30,
    "start_time": "2024-11-09T22:26:43.619Z"
   },
   {
    "duration": 19,
    "start_time": "2024-11-09T22:26:43.651Z"
   },
   {
    "duration": 24,
    "start_time": "2024-11-09T22:26:43.671Z"
   },
   {
    "duration": 38,
    "start_time": "2024-11-09T22:26:43.696Z"
   },
   {
    "duration": 354,
    "start_time": "2024-11-09T22:26:43.735Z"
   },
   {
    "duration": 682,
    "start_time": "2024-11-09T22:26:44.091Z"
   },
   {
    "duration": 206,
    "start_time": "2024-11-09T22:26:44.775Z"
   },
   {
    "duration": 199,
    "start_time": "2024-11-09T22:26:44.983Z"
   },
   {
    "duration": 111,
    "start_time": "2024-11-09T22:26:45.183Z"
   },
   {
    "duration": 6154,
    "start_time": "2024-11-09T22:26:45.296Z"
   },
   {
    "duration": 22,
    "start_time": "2024-11-09T22:26:51.451Z"
   },
   {
    "duration": 87,
    "start_time": "2024-11-09T22:26:51.474Z"
   },
   {
    "duration": 3274,
    "start_time": "2024-11-09T22:26:51.565Z"
   },
   {
    "duration": 10,
    "start_time": "2024-11-09T22:26:54.850Z"
   },
   {
    "duration": 3,
    "start_time": "2024-11-09T22:26:54.862Z"
   },
   {
    "duration": 7,
    "start_time": "2024-11-09T22:26:54.866Z"
   },
   {
    "duration": 82255,
    "start_time": "2024-11-09T22:26:54.874Z"
   },
   {
    "duration": 205,
    "start_time": "2024-11-09T22:28:17.131Z"
   },
   {
    "duration": 3291,
    "start_time": "2024-11-10T13:38:25.709Z"
   },
   {
    "duration": 1653,
    "start_time": "2024-11-10T13:38:29.003Z"
   },
   {
    "duration": 3046,
    "start_time": "2024-11-10T13:38:30.658Z"
   },
   {
    "duration": 144,
    "start_time": "2024-11-10T13:38:33.706Z"
   },
   {
    "duration": 26,
    "start_time": "2024-11-10T13:38:33.852Z"
   },
   {
    "duration": 154,
    "start_time": "2024-11-10T13:38:33.879Z"
   },
   {
    "duration": 46,
    "start_time": "2024-11-10T13:38:34.035Z"
   },
   {
    "duration": 4,
    "start_time": "2024-11-10T13:38:34.083Z"
   },
   {
    "duration": 64,
    "start_time": "2024-11-10T13:38:34.088Z"
   },
   {
    "duration": 166,
    "start_time": "2024-11-10T13:38:34.154Z"
   },
   {
    "duration": 148,
    "start_time": "2024-11-10T13:38:34.322Z"
   },
   {
    "duration": 32,
    "start_time": "2024-11-10T13:38:34.471Z"
   },
   {
    "duration": 26,
    "start_time": "2024-11-10T13:38:34.504Z"
   },
   {
    "duration": 37,
    "start_time": "2024-11-10T13:38:34.532Z"
   },
   {
    "duration": 53,
    "start_time": "2024-11-10T13:38:34.571Z"
   },
   {
    "duration": 41,
    "start_time": "2024-11-10T13:38:34.625Z"
   },
   {
    "duration": 39,
    "start_time": "2024-11-10T13:38:34.667Z"
   },
   {
    "duration": 27,
    "start_time": "2024-11-10T13:38:34.708Z"
   },
   {
    "duration": 35,
    "start_time": "2024-11-10T13:38:34.737Z"
   },
   {
    "duration": 32,
    "start_time": "2024-11-10T13:38:34.774Z"
   },
   {
    "duration": 29,
    "start_time": "2024-11-10T13:38:34.808Z"
   },
   {
    "duration": 162,
    "start_time": "2024-11-10T13:38:34.839Z"
   },
   {
    "duration": 898,
    "start_time": "2024-11-10T13:38:35.003Z"
   },
   {
    "duration": 99,
    "start_time": "2024-11-10T13:38:35.902Z"
   },
   {
    "duration": 263,
    "start_time": "2024-11-10T13:38:36.002Z"
   },
   {
    "duration": 6,
    "start_time": "2024-11-10T13:38:36.267Z"
   },
   {
    "duration": 125,
    "start_time": "2024-11-10T13:38:36.275Z"
   },
   {
    "duration": 18,
    "start_time": "2024-11-10T13:38:36.405Z"
   },
   {
    "duration": 5,
    "start_time": "2024-11-10T13:38:36.425Z"
   },
   {
    "duration": 120,
    "start_time": "2024-11-10T13:38:36.431Z"
   },
   {
    "duration": 18,
    "start_time": "2024-11-10T13:38:36.553Z"
   },
   {
    "duration": 115,
    "start_time": "2024-11-10T13:38:36.573Z"
   },
   {
    "duration": 157,
    "start_time": "2024-11-10T13:38:36.690Z"
   },
   {
    "duration": 21,
    "start_time": "2024-11-10T13:38:36.848Z"
   },
   {
    "duration": 34,
    "start_time": "2024-11-10T13:38:36.871Z"
   },
   {
    "duration": 102,
    "start_time": "2024-11-10T13:38:36.907Z"
   },
   {
    "duration": 22,
    "start_time": "2024-11-10T13:38:37.011Z"
   },
   {
    "duration": 309,
    "start_time": "2024-11-10T13:38:37.034Z"
   },
   {
    "duration": 563,
    "start_time": "2024-11-10T13:38:37.345Z"
   },
   {
    "duration": 178,
    "start_time": "2024-11-10T13:38:37.910Z"
   },
   {
    "duration": 180,
    "start_time": "2024-11-10T13:38:38.090Z"
   },
   {
    "duration": 107,
    "start_time": "2024-11-10T13:38:38.272Z"
   },
   {
    "duration": 5564,
    "start_time": "2024-11-10T13:38:38.381Z"
   },
   {
    "duration": 21,
    "start_time": "2024-11-10T13:38:43.947Z"
   },
   {
    "duration": 118,
    "start_time": "2024-11-10T13:38:43.970Z"
   },
   {
    "duration": 3,
    "start_time": "2024-11-10T13:38:44.089Z"
   },
   {
    "duration": 21,
    "start_time": "2024-11-10T13:38:44.093Z"
   },
   {
    "duration": 836,
    "start_time": "2024-11-10T13:38:44.116Z"
   },
   {
    "duration": 3,
    "start_time": "2024-11-10T13:38:44.954Z"
   },
   {
    "duration": 38,
    "start_time": "2024-11-10T13:38:44.959Z"
   },
   {
    "duration": 306,
    "start_time": "2024-11-10T13:38:44.999Z"
   },
   {
    "duration": 0,
    "start_time": "2024-11-10T13:38:45.307Z"
   },
   {
    "duration": 0,
    "start_time": "2024-11-10T13:38:45.308Z"
   },
   {
    "duration": 0,
    "start_time": "2024-11-10T13:38:45.309Z"
   },
   {
    "duration": 0,
    "start_time": "2024-11-10T13:38:45.310Z"
   },
   {
    "duration": 0,
    "start_time": "2024-11-10T13:38:45.312Z"
   },
   {
    "duration": 0,
    "start_time": "2024-11-10T13:38:45.313Z"
   },
   {
    "duration": 0,
    "start_time": "2024-11-10T13:38:45.314Z"
   },
   {
    "duration": 0,
    "start_time": "2024-11-10T13:38:45.315Z"
   },
   {
    "duration": 0,
    "start_time": "2024-11-10T13:38:45.316Z"
   },
   {
    "duration": 0,
    "start_time": "2024-11-10T13:38:45.317Z"
   },
   {
    "duration": 0,
    "start_time": "2024-11-10T13:38:45.318Z"
   },
   {
    "duration": 15,
    "start_time": "2024-11-10T14:15:16.282Z"
   },
   {
    "duration": 5,
    "start_time": "2024-11-10T14:15:20.497Z"
   },
   {
    "duration": 14738,
    "start_time": "2024-11-10T14:15:34.505Z"
   },
   {
    "duration": 2428,
    "start_time": "2024-11-10T14:16:25.635Z"
   },
   {
    "duration": 1474,
    "start_time": "2024-11-10T14:16:28.066Z"
   },
   {
    "duration": 893,
    "start_time": "2024-11-10T14:16:29.542Z"
   },
   {
    "duration": 150,
    "start_time": "2024-11-10T14:16:30.437Z"
   },
   {
    "duration": 24,
    "start_time": "2024-11-10T14:16:30.589Z"
   },
   {
    "duration": 155,
    "start_time": "2024-11-10T14:16:30.615Z"
   },
   {
    "duration": 75,
    "start_time": "2024-11-10T14:16:30.771Z"
   },
   {
    "duration": 4,
    "start_time": "2024-11-10T14:16:30.848Z"
   },
   {
    "duration": 69,
    "start_time": "2024-11-10T14:16:30.854Z"
   },
   {
    "duration": 174,
    "start_time": "2024-11-10T14:16:30.926Z"
   },
   {
    "duration": 149,
    "start_time": "2024-11-10T14:16:31.103Z"
   },
   {
    "duration": 22,
    "start_time": "2024-11-10T14:16:31.254Z"
   },
   {
    "duration": 36,
    "start_time": "2024-11-10T14:16:31.277Z"
   },
   {
    "duration": 27,
    "start_time": "2024-11-10T14:16:31.315Z"
   },
   {
    "duration": 31,
    "start_time": "2024-11-10T14:16:31.344Z"
   },
   {
    "duration": 30,
    "start_time": "2024-11-10T14:16:31.377Z"
   },
   {
    "duration": 25,
    "start_time": "2024-11-10T14:16:31.408Z"
   },
   {
    "duration": 24,
    "start_time": "2024-11-10T14:16:31.435Z"
   },
   {
    "duration": 33,
    "start_time": "2024-11-10T14:16:31.461Z"
   },
   {
    "duration": 44,
    "start_time": "2024-11-10T14:16:31.495Z"
   },
   {
    "duration": 21,
    "start_time": "2024-11-10T14:16:31.541Z"
   },
   {
    "duration": 136,
    "start_time": "2024-11-10T14:16:31.564Z"
   },
   {
    "duration": 937,
    "start_time": "2024-11-10T14:16:31.702Z"
   },
   {
    "duration": 112,
    "start_time": "2024-11-10T14:16:32.642Z"
   },
   {
    "duration": 291,
    "start_time": "2024-11-10T14:16:32.756Z"
   },
   {
    "duration": 4,
    "start_time": "2024-11-10T14:16:33.049Z"
   },
   {
    "duration": 106,
    "start_time": "2024-11-10T14:16:33.055Z"
   },
   {
    "duration": 17,
    "start_time": "2024-11-10T14:16:33.165Z"
   },
   {
    "duration": 17,
    "start_time": "2024-11-10T14:16:33.184Z"
   },
   {
    "duration": 101,
    "start_time": "2024-11-10T14:16:33.202Z"
   },
   {
    "duration": 17,
    "start_time": "2024-11-10T14:16:33.305Z"
   },
   {
    "duration": 97,
    "start_time": "2024-11-10T14:16:33.324Z"
   },
   {
    "duration": 142,
    "start_time": "2024-11-10T14:16:33.423Z"
   },
   {
    "duration": 33,
    "start_time": "2024-11-10T14:16:33.567Z"
   },
   {
    "duration": 18,
    "start_time": "2024-11-10T14:16:33.602Z"
   },
   {
    "duration": 32,
    "start_time": "2024-11-10T14:16:33.622Z"
   },
   {
    "duration": 23,
    "start_time": "2024-11-10T14:16:33.655Z"
   },
   {
    "duration": 333,
    "start_time": "2024-11-10T14:16:33.679Z"
   },
   {
    "duration": 621,
    "start_time": "2024-11-10T14:16:34.013Z"
   },
   {
    "duration": 171,
    "start_time": "2024-11-10T14:16:34.636Z"
   },
   {
    "duration": 167,
    "start_time": "2024-11-10T14:16:34.808Z"
   },
   {
    "duration": 86,
    "start_time": "2024-11-10T14:16:34.977Z"
   },
   {
    "duration": 5568,
    "start_time": "2024-11-10T14:16:35.065Z"
   },
   {
    "duration": 20,
    "start_time": "2024-11-10T14:16:40.635Z"
   },
   {
    "duration": 147,
    "start_time": "2024-11-10T14:16:40.657Z"
   },
   {
    "duration": 3,
    "start_time": "2024-11-10T14:16:40.806Z"
   },
   {
    "duration": 6,
    "start_time": "2024-11-10T14:16:40.810Z"
   },
   {
    "duration": 990338,
    "start_time": "2024-11-10T14:16:40.817Z"
   },
   {
    "duration": 124,
    "start_time": "2024-11-10T14:33:11.157Z"
   },
   {
    "duration": 0,
    "start_time": "2024-11-10T14:33:11.282Z"
   },
   {
    "duration": 0,
    "start_time": "2024-11-10T14:33:11.284Z"
   },
   {
    "duration": 0,
    "start_time": "2024-11-10T14:33:11.285Z"
   },
   {
    "duration": 0,
    "start_time": "2024-11-10T14:33:11.286Z"
   },
   {
    "duration": 0,
    "start_time": "2024-11-10T14:33:11.287Z"
   },
   {
    "duration": 0,
    "start_time": "2024-11-10T14:33:11.300Z"
   },
   {
    "duration": 0,
    "start_time": "2024-11-10T14:33:11.301Z"
   },
   {
    "duration": 0,
    "start_time": "2024-11-10T14:33:11.303Z"
   },
   {
    "duration": 0,
    "start_time": "2024-11-10T14:33:11.305Z"
   },
   {
    "duration": 0,
    "start_time": "2024-11-10T14:33:11.306Z"
   },
   {
    "duration": 0,
    "start_time": "2024-11-10T14:33:11.307Z"
   },
   {
    "duration": 0,
    "start_time": "2024-11-10T14:33:11.309Z"
   },
   {
    "duration": 0,
    "start_time": "2024-11-10T14:33:11.310Z"
   },
   {
    "duration": 36,
    "start_time": "2024-11-10T14:37:38.160Z"
   },
   {
    "duration": 2454,
    "start_time": "2024-11-10T14:38:17.471Z"
   },
   {
    "duration": 1493,
    "start_time": "2024-11-10T14:38:19.928Z"
   },
   {
    "duration": 897,
    "start_time": "2024-11-10T14:38:21.423Z"
   },
   {
    "duration": 159,
    "start_time": "2024-11-10T14:38:22.322Z"
   },
   {
    "duration": 34,
    "start_time": "2024-11-10T14:38:22.483Z"
   },
   {
    "duration": 144,
    "start_time": "2024-11-10T14:38:22.519Z"
   },
   {
    "duration": 52,
    "start_time": "2024-11-10T14:38:22.664Z"
   },
   {
    "duration": 4,
    "start_time": "2024-11-10T14:38:22.718Z"
   },
   {
    "duration": 150,
    "start_time": "2024-11-10T14:38:22.723Z"
   },
   {
    "duration": 146,
    "start_time": "2024-11-10T14:38:22.876Z"
   },
   {
    "duration": 151,
    "start_time": "2024-11-10T14:38:23.024Z"
   },
   {
    "duration": 25,
    "start_time": "2024-11-10T14:38:23.176Z"
   },
   {
    "duration": 109,
    "start_time": "2024-11-10T14:38:23.203Z"
   },
   {
    "duration": 21,
    "start_time": "2024-11-10T14:38:23.314Z"
   },
   {
    "duration": 20,
    "start_time": "2024-11-10T14:38:23.337Z"
   },
   {
    "duration": 23,
    "start_time": "2024-11-10T14:38:23.359Z"
   },
   {
    "duration": 35,
    "start_time": "2024-11-10T14:38:23.384Z"
   },
   {
    "duration": 22,
    "start_time": "2024-11-10T14:38:23.420Z"
   },
   {
    "duration": 21,
    "start_time": "2024-11-10T14:38:23.444Z"
   },
   {
    "duration": 32,
    "start_time": "2024-11-10T14:38:23.466Z"
   },
   {
    "duration": 22,
    "start_time": "2024-11-10T14:38:23.500Z"
   },
   {
    "duration": 146,
    "start_time": "2024-11-10T14:38:23.523Z"
   },
   {
    "duration": 957,
    "start_time": "2024-11-10T14:38:23.670Z"
   },
   {
    "duration": 112,
    "start_time": "2024-11-10T14:38:24.629Z"
   },
   {
    "duration": 271,
    "start_time": "2024-11-10T14:38:24.743Z"
   },
   {
    "duration": 5,
    "start_time": "2024-11-10T14:38:25.016Z"
   },
   {
    "duration": 108,
    "start_time": "2024-11-10T14:38:25.022Z"
   },
   {
    "duration": 18,
    "start_time": "2024-11-10T14:38:25.134Z"
   },
   {
    "duration": 5,
    "start_time": "2024-11-10T14:38:25.153Z"
   },
   {
    "duration": 109,
    "start_time": "2024-11-10T14:38:25.159Z"
   },
   {
    "duration": 16,
    "start_time": "2024-11-10T14:38:25.270Z"
   },
   {
    "duration": 91,
    "start_time": "2024-11-10T14:38:25.287Z"
   },
   {
    "duration": 148,
    "start_time": "2024-11-10T14:38:25.380Z"
   },
   {
    "duration": 21,
    "start_time": "2024-11-10T14:38:25.529Z"
   },
   {
    "duration": 17,
    "start_time": "2024-11-10T14:38:25.552Z"
   },
   {
    "duration": 52,
    "start_time": "2024-11-10T14:38:25.570Z"
   },
   {
    "duration": 22,
    "start_time": "2024-11-10T14:38:25.623Z"
   },
   {
    "duration": 300,
    "start_time": "2024-11-10T14:38:25.647Z"
   },
   {
    "duration": 572,
    "start_time": "2024-11-10T14:38:25.948Z"
   },
   {
    "duration": 168,
    "start_time": "2024-11-10T14:38:26.521Z"
   },
   {
    "duration": 172,
    "start_time": "2024-11-10T14:38:26.690Z"
   },
   {
    "duration": 84,
    "start_time": "2024-11-10T14:38:26.864Z"
   },
   {
    "duration": 5543,
    "start_time": "2024-11-10T14:38:26.950Z"
   },
   {
    "duration": 36,
    "start_time": "2024-11-10T14:38:32.495Z"
   },
   {
    "duration": 6,
    "start_time": "2024-11-10T14:38:32.532Z"
   },
   {
    "duration": 16,
    "start_time": "2024-11-10T14:38:32.539Z"
   },
   {
    "duration": 15,
    "start_time": "2024-11-10T14:38:32.557Z"
   },
   {
    "duration": 50,
    "start_time": "2024-11-10T14:38:32.574Z"
   },
   {
    "duration": 83624,
    "start_time": "2024-11-10T14:38:32.626Z"
   },
   {
    "duration": 122,
    "start_time": "2024-11-10T14:39:56.252Z"
   },
   {
    "duration": 0,
    "start_time": "2024-11-10T14:39:56.376Z"
   },
   {
    "duration": 0,
    "start_time": "2024-11-10T14:39:56.377Z"
   },
   {
    "duration": 0,
    "start_time": "2024-11-10T14:39:56.378Z"
   },
   {
    "duration": 0,
    "start_time": "2024-11-10T14:39:56.379Z"
   },
   {
    "duration": 0,
    "start_time": "2024-11-10T14:39:56.380Z"
   },
   {
    "duration": 0,
    "start_time": "2024-11-10T14:39:56.382Z"
   },
   {
    "duration": 0,
    "start_time": "2024-11-10T14:39:56.383Z"
   },
   {
    "duration": 0,
    "start_time": "2024-11-10T14:39:56.399Z"
   },
   {
    "duration": 0,
    "start_time": "2024-11-10T14:39:56.400Z"
   },
   {
    "duration": 0,
    "start_time": "2024-11-10T14:39:56.401Z"
   },
   {
    "duration": 0,
    "start_time": "2024-11-10T14:39:56.402Z"
   },
   {
    "duration": 0,
    "start_time": "2024-11-10T14:39:56.403Z"
   },
   {
    "duration": 0,
    "start_time": "2024-11-10T14:39:56.404Z"
   },
   {
    "duration": 35,
    "start_time": "2024-11-10T14:40:44.490Z"
   },
   {
    "duration": 8,
    "start_time": "2024-11-10T14:40:46.449Z"
   },
   {
    "duration": 13,
    "start_time": "2024-11-10T14:40:48.953Z"
   },
   {
    "duration": 4,
    "start_time": "2024-11-10T14:40:53.001Z"
   },
   {
    "duration": 27,
    "start_time": "2024-11-10T14:42:42.616Z"
   },
   {
    "duration": 2,
    "start_time": "2024-11-10T14:44:02.889Z"
   },
   {
    "duration": 60,
    "start_time": "2024-11-10T14:44:06.962Z"
   },
   {
    "duration": 9,
    "start_time": "2024-11-10T14:46:02.766Z"
   },
   {
    "duration": 26,
    "start_time": "2024-11-10T14:46:18.862Z"
   },
   {
    "duration": 2462,
    "start_time": "2024-11-10T14:47:03.207Z"
   },
   {
    "duration": 1511,
    "start_time": "2024-11-10T14:47:05.671Z"
   },
   {
    "duration": 870,
    "start_time": "2024-11-10T14:47:07.183Z"
   },
   {
    "duration": 150,
    "start_time": "2024-11-10T14:47:08.055Z"
   },
   {
    "duration": 27,
    "start_time": "2024-11-10T14:47:08.206Z"
   },
   {
    "duration": 174,
    "start_time": "2024-11-10T14:47:08.235Z"
   },
   {
    "duration": 43,
    "start_time": "2024-11-10T14:47:08.411Z"
   },
   {
    "duration": 4,
    "start_time": "2024-11-10T14:47:08.456Z"
   },
   {
    "duration": 71,
    "start_time": "2024-11-10T14:47:08.461Z"
   },
   {
    "duration": 184,
    "start_time": "2024-11-10T14:47:08.535Z"
   },
   {
    "duration": 146,
    "start_time": "2024-11-10T14:47:08.721Z"
   },
   {
    "duration": 22,
    "start_time": "2024-11-10T14:47:08.869Z"
   },
   {
    "duration": 20,
    "start_time": "2024-11-10T14:47:08.900Z"
   },
   {
    "duration": 35,
    "start_time": "2024-11-10T14:47:08.922Z"
   },
   {
    "duration": 22,
    "start_time": "2024-11-10T14:47:08.959Z"
   },
   {
    "duration": 35,
    "start_time": "2024-11-10T14:47:08.983Z"
   },
   {
    "duration": 48,
    "start_time": "2024-11-10T14:47:09.019Z"
   },
   {
    "duration": 22,
    "start_time": "2024-11-10T14:47:09.069Z"
   },
   {
    "duration": 18,
    "start_time": "2024-11-10T14:47:09.093Z"
   },
   {
    "duration": 33,
    "start_time": "2024-11-10T14:47:09.113Z"
   },
   {
    "duration": 22,
    "start_time": "2024-11-10T14:47:09.149Z"
   },
   {
    "duration": 134,
    "start_time": "2024-11-10T14:47:09.173Z"
   },
   {
    "duration": 963,
    "start_time": "2024-11-10T14:47:09.308Z"
   },
   {
    "duration": 95,
    "start_time": "2024-11-10T14:47:10.274Z"
   },
   {
    "duration": 261,
    "start_time": "2024-11-10T14:47:10.371Z"
   },
   {
    "duration": 4,
    "start_time": "2024-11-10T14:47:10.634Z"
   },
   {
    "duration": 159,
    "start_time": "2024-11-10T14:47:10.640Z"
   },
   {
    "duration": 19,
    "start_time": "2024-11-10T14:47:10.802Z"
   },
   {
    "duration": 23,
    "start_time": "2024-11-10T14:47:10.823Z"
   },
   {
    "duration": 92,
    "start_time": "2024-11-10T14:47:10.847Z"
   },
   {
    "duration": 17,
    "start_time": "2024-11-10T14:47:10.941Z"
   },
   {
    "duration": 99,
    "start_time": "2024-11-10T14:47:10.959Z"
   },
   {
    "duration": 151,
    "start_time": "2024-11-10T14:47:11.059Z"
   },
   {
    "duration": 21,
    "start_time": "2024-11-10T14:47:11.212Z"
   },
   {
    "duration": 17,
    "start_time": "2024-11-10T14:47:11.235Z"
   },
   {
    "duration": 97,
    "start_time": "2024-11-10T14:47:11.253Z"
   },
   {
    "duration": 22,
    "start_time": "2024-11-10T14:47:11.351Z"
   },
   {
    "duration": 324,
    "start_time": "2024-11-10T14:47:11.375Z"
   },
   {
    "duration": 550,
    "start_time": "2024-11-10T14:47:11.701Z"
   },
   {
    "duration": 167,
    "start_time": "2024-11-10T14:47:12.253Z"
   },
   {
    "duration": 163,
    "start_time": "2024-11-10T14:47:12.422Z"
   },
   {
    "duration": 92,
    "start_time": "2024-11-10T14:47:12.586Z"
   },
   {
    "duration": 5538,
    "start_time": "2024-11-10T14:47:12.679Z"
   },
   {
    "duration": 42,
    "start_time": "2024-11-10T14:47:18.218Z"
   },
   {
    "duration": 6,
    "start_time": "2024-11-10T14:47:18.261Z"
   },
   {
    "duration": 12,
    "start_time": "2024-11-10T14:47:18.269Z"
   },
   {
    "duration": 3,
    "start_time": "2024-11-10T14:47:18.283Z"
   },
   {
    "duration": 4,
    "start_time": "2024-11-10T14:47:18.299Z"
   },
   {
    "duration": 171970,
    "start_time": "2024-11-10T14:47:18.304Z"
   },
   {
    "duration": 3,
    "start_time": "2024-11-10T14:50:10.275Z"
   },
   {
    "duration": 18,
    "start_time": "2024-11-10T14:50:10.279Z"
   },
   {
    "duration": 8,
    "start_time": "2024-11-10T14:50:10.299Z"
   },
   {
    "duration": 4,
    "start_time": "2024-11-10T14:50:10.309Z"
   },
   {
    "duration": 21,
    "start_time": "2024-11-10T14:50:10.314Z"
   },
   {
    "duration": 5,
    "start_time": "2024-11-10T14:50:10.336Z"
   },
   {
    "duration": 6,
    "start_time": "2024-11-10T14:50:10.342Z"
   },
   {
    "duration": 4,
    "start_time": "2024-11-10T14:50:10.349Z"
   },
   {
    "duration": 4,
    "start_time": "2024-11-10T14:50:10.354Z"
   },
   {
    "duration": 5,
    "start_time": "2024-11-10T14:50:10.360Z"
   },
   {
    "duration": 5,
    "start_time": "2024-11-10T14:50:10.366Z"
   },
   {
    "duration": 5,
    "start_time": "2024-11-10T14:50:10.372Z"
   },
   {
    "duration": 29,
    "start_time": "2024-11-10T14:50:10.378Z"
   },
   {
    "duration": 3,
    "start_time": "2024-11-10T15:07:12.371Z"
   },
   {
    "duration": 2501,
    "start_time": "2024-11-10T15:07:24.486Z"
   },
   {
    "duration": 1551,
    "start_time": "2024-11-10T15:07:26.989Z"
   },
   {
    "duration": 912,
    "start_time": "2024-11-10T15:07:28.542Z"
   },
   {
    "duration": 156,
    "start_time": "2024-11-10T15:07:29.456Z"
   },
   {
    "duration": 26,
    "start_time": "2024-11-10T15:07:29.613Z"
   },
   {
    "duration": 161,
    "start_time": "2024-11-10T15:07:29.640Z"
   },
   {
    "duration": 41,
    "start_time": "2024-11-10T15:07:29.802Z"
   },
   {
    "duration": 4,
    "start_time": "2024-11-10T15:07:29.844Z"
   },
   {
    "duration": 80,
    "start_time": "2024-11-10T15:07:29.850Z"
   },
   {
    "duration": 159,
    "start_time": "2024-11-10T15:07:29.933Z"
   },
   {
    "duration": 190,
    "start_time": "2024-11-10T15:07:30.094Z"
   },
   {
    "duration": 39,
    "start_time": "2024-11-10T15:07:30.286Z"
   },
   {
    "duration": 113,
    "start_time": "2024-11-10T15:07:30.326Z"
   },
   {
    "duration": 52,
    "start_time": "2024-11-10T15:07:30.441Z"
   },
   {
    "duration": 37,
    "start_time": "2024-11-10T15:07:30.495Z"
   },
   {
    "duration": 71,
    "start_time": "2024-11-10T15:07:30.533Z"
   },
   {
    "duration": 60,
    "start_time": "2024-11-10T15:07:30.606Z"
   },
   {
    "duration": 28,
    "start_time": "2024-11-10T15:07:30.667Z"
   },
   {
    "duration": 29,
    "start_time": "2024-11-10T15:07:30.696Z"
   },
   {
    "duration": 47,
    "start_time": "2024-11-10T15:07:30.727Z"
   },
   {
    "duration": 31,
    "start_time": "2024-11-10T15:07:30.775Z"
   },
   {
    "duration": 148,
    "start_time": "2024-11-10T15:07:30.808Z"
   },
   {
    "duration": 934,
    "start_time": "2024-11-10T15:07:30.958Z"
   },
   {
    "duration": 96,
    "start_time": "2024-11-10T15:07:31.894Z"
   },
   {
    "duration": 272,
    "start_time": "2024-11-10T15:07:31.992Z"
   },
   {
    "duration": 5,
    "start_time": "2024-11-10T15:07:32.266Z"
   },
   {
    "duration": 171,
    "start_time": "2024-11-10T15:07:32.272Z"
   },
   {
    "duration": 20,
    "start_time": "2024-11-10T15:07:32.446Z"
   },
   {
    "duration": 4,
    "start_time": "2024-11-10T15:07:32.468Z"
   },
   {
    "duration": 102,
    "start_time": "2024-11-10T15:07:32.474Z"
   },
   {
    "duration": 25,
    "start_time": "2024-11-10T15:07:32.578Z"
   },
   {
    "duration": 96,
    "start_time": "2024-11-10T15:07:32.605Z"
   },
   {
    "duration": 142,
    "start_time": "2024-11-10T15:07:32.702Z"
   },
   {
    "duration": 82,
    "start_time": "2024-11-10T15:07:32.846Z"
   },
   {
    "duration": 21,
    "start_time": "2024-11-10T15:07:32.930Z"
   },
   {
    "duration": 30,
    "start_time": "2024-11-10T15:07:32.952Z"
   },
   {
    "duration": 27,
    "start_time": "2024-11-10T15:07:32.983Z"
   },
   {
    "duration": 335,
    "start_time": "2024-11-10T15:07:33.012Z"
   },
   {
    "duration": 554,
    "start_time": "2024-11-10T15:07:33.349Z"
   },
   {
    "duration": 172,
    "start_time": "2024-11-10T15:07:33.905Z"
   },
   {
    "duration": 170,
    "start_time": "2024-11-10T15:07:34.078Z"
   },
   {
    "duration": 86,
    "start_time": "2024-11-10T15:07:34.250Z"
   },
   {
    "duration": 5581,
    "start_time": "2024-11-10T15:07:34.338Z"
   },
   {
    "duration": 40,
    "start_time": "2024-11-10T15:07:39.921Z"
   },
   {
    "duration": 12,
    "start_time": "2024-11-10T15:07:39.963Z"
   },
   {
    "duration": 80,
    "start_time": "2024-11-10T15:07:39.976Z"
   },
   {
    "duration": 3,
    "start_time": "2024-11-10T15:07:40.058Z"
   },
   {
    "duration": 16,
    "start_time": "2024-11-10T15:07:40.062Z"
   },
   {
    "duration": 2571,
    "start_time": "2024-11-10T15:14:45.334Z"
   },
   {
    "duration": 1552,
    "start_time": "2024-11-10T15:14:47.908Z"
   },
   {
    "duration": 955,
    "start_time": "2024-11-10T15:14:49.462Z"
   },
   {
    "duration": 168,
    "start_time": "2024-11-10T15:14:50.420Z"
   },
   {
    "duration": 31,
    "start_time": "2024-11-10T15:14:50.590Z"
   },
   {
    "duration": 150,
    "start_time": "2024-11-10T15:14:50.623Z"
   },
   {
    "duration": 63,
    "start_time": "2024-11-10T15:14:50.775Z"
   },
   {
    "duration": 10,
    "start_time": "2024-11-10T15:14:50.840Z"
   },
   {
    "duration": 85,
    "start_time": "2024-11-10T15:14:50.852Z"
   },
   {
    "duration": 164,
    "start_time": "2024-11-10T15:14:50.939Z"
   },
   {
    "duration": 146,
    "start_time": "2024-11-10T15:14:51.105Z"
   },
   {
    "duration": 22,
    "start_time": "2024-11-10T15:14:51.252Z"
   },
   {
    "duration": 34,
    "start_time": "2024-11-10T15:14:51.276Z"
   },
   {
    "duration": 37,
    "start_time": "2024-11-10T15:14:51.311Z"
   },
   {
    "duration": 28,
    "start_time": "2024-11-10T15:14:51.350Z"
   },
   {
    "duration": 90,
    "start_time": "2024-11-10T15:14:51.380Z"
   },
   {
    "duration": 29,
    "start_time": "2024-11-10T15:14:51.472Z"
   },
   {
    "duration": 44,
    "start_time": "2024-11-10T15:14:51.504Z"
   },
   {
    "duration": 52,
    "start_time": "2024-11-10T15:14:51.549Z"
   },
   {
    "duration": 34,
    "start_time": "2024-11-10T15:14:51.602Z"
   },
   {
    "duration": 52,
    "start_time": "2024-11-10T15:14:51.638Z"
   },
   {
    "duration": 145,
    "start_time": "2024-11-10T15:14:51.692Z"
   },
   {
    "duration": 992,
    "start_time": "2024-11-10T15:14:51.839Z"
   },
   {
    "duration": 116,
    "start_time": "2024-11-10T15:14:52.832Z"
   },
   {
    "duration": 264,
    "start_time": "2024-11-10T15:14:52.949Z"
   },
   {
    "duration": 5,
    "start_time": "2024-11-10T15:14:53.216Z"
   },
   {
    "duration": 116,
    "start_time": "2024-11-10T15:14:53.223Z"
   },
   {
    "duration": 21,
    "start_time": "2024-11-10T15:14:53.344Z"
   },
   {
    "duration": 64,
    "start_time": "2024-11-10T15:14:53.366Z"
   },
   {
    "duration": 128,
    "start_time": "2024-11-10T15:14:53.432Z"
   },
   {
    "duration": 21,
    "start_time": "2024-11-10T15:14:53.562Z"
   },
   {
    "duration": 91,
    "start_time": "2024-11-10T15:14:53.584Z"
   },
   {
    "duration": 159,
    "start_time": "2024-11-10T15:14:53.677Z"
   },
   {
    "duration": 31,
    "start_time": "2024-11-10T15:14:53.838Z"
   },
   {
    "duration": 39,
    "start_time": "2024-11-10T15:14:53.872Z"
   },
   {
    "duration": 37,
    "start_time": "2024-11-10T15:14:53.913Z"
   },
   {
    "duration": 26,
    "start_time": "2024-11-10T15:14:53.952Z"
   },
   {
    "duration": 361,
    "start_time": "2024-11-10T15:14:54.001Z"
   },
   {
    "duration": 589,
    "start_time": "2024-11-10T15:14:54.364Z"
   },
   {
    "duration": 181,
    "start_time": "2024-11-10T15:14:54.955Z"
   },
   {
    "duration": 172,
    "start_time": "2024-11-10T15:14:55.138Z"
   },
   {
    "duration": 103,
    "start_time": "2024-11-10T15:14:55.312Z"
   },
   {
    "duration": 5716,
    "start_time": "2024-11-10T15:14:55.417Z"
   },
   {
    "duration": 47,
    "start_time": "2024-11-10T15:15:01.135Z"
   },
   {
    "duration": 18,
    "start_time": "2024-11-10T15:15:01.184Z"
   },
   {
    "duration": 36,
    "start_time": "2024-11-10T15:15:01.204Z"
   },
   {
    "duration": 6,
    "start_time": "2024-11-10T15:15:01.242Z"
   },
   {
    "duration": 12,
    "start_time": "2024-11-10T15:15:01.249Z"
   },
   {
    "duration": 552,
    "start_time": "2024-11-10T15:15:01.262Z"
   },
   {
    "duration": 0,
    "start_time": "2024-11-10T15:15:01.816Z"
   },
   {
    "duration": 0,
    "start_time": "2024-11-10T15:15:01.818Z"
   },
   {
    "duration": 0,
    "start_time": "2024-11-10T15:15:01.819Z"
   },
   {
    "duration": 0,
    "start_time": "2024-11-10T15:15:01.820Z"
   },
   {
    "duration": 0,
    "start_time": "2024-11-10T15:15:01.821Z"
   },
   {
    "duration": 0,
    "start_time": "2024-11-10T15:15:01.823Z"
   },
   {
    "duration": 0,
    "start_time": "2024-11-10T15:15:01.824Z"
   },
   {
    "duration": 0,
    "start_time": "2024-11-10T15:15:01.825Z"
   },
   {
    "duration": 0,
    "start_time": "2024-11-10T15:15:01.826Z"
   },
   {
    "duration": 0,
    "start_time": "2024-11-10T15:15:01.826Z"
   },
   {
    "duration": 0,
    "start_time": "2024-11-10T15:15:01.828Z"
   },
   {
    "duration": 0,
    "start_time": "2024-11-10T15:15:01.829Z"
   },
   {
    "duration": 0,
    "start_time": "2024-11-10T15:15:01.830Z"
   },
   {
    "duration": 0,
    "start_time": "2024-11-10T15:15:01.831Z"
   },
   {
    "duration": 2766,
    "start_time": "2024-11-10T15:18:07.152Z"
   },
   {
    "duration": 1593,
    "start_time": "2024-11-10T15:18:09.921Z"
   },
   {
    "duration": 988,
    "start_time": "2024-11-10T15:18:11.516Z"
   },
   {
    "duration": 198,
    "start_time": "2024-11-10T15:18:12.507Z"
   },
   {
    "duration": 31,
    "start_time": "2024-11-10T15:18:12.707Z"
   },
   {
    "duration": 172,
    "start_time": "2024-11-10T15:18:12.740Z"
   },
   {
    "duration": 88,
    "start_time": "2024-11-10T15:18:12.914Z"
   },
   {
    "duration": 4,
    "start_time": "2024-11-10T15:18:13.004Z"
   },
   {
    "duration": 64,
    "start_time": "2024-11-10T15:18:13.010Z"
   },
   {
    "duration": 169,
    "start_time": "2024-11-10T15:18:13.077Z"
   },
   {
    "duration": 160,
    "start_time": "2024-11-10T15:18:13.249Z"
   },
   {
    "duration": 22,
    "start_time": "2024-11-10T15:18:13.411Z"
   },
   {
    "duration": 29,
    "start_time": "2024-11-10T15:18:13.435Z"
   },
   {
    "duration": 35,
    "start_time": "2024-11-10T15:18:13.466Z"
   },
   {
    "duration": 20,
    "start_time": "2024-11-10T15:18:13.502Z"
   },
   {
    "duration": 23,
    "start_time": "2024-11-10T15:18:13.524Z"
   },
   {
    "duration": 34,
    "start_time": "2024-11-10T15:18:13.549Z"
   },
   {
    "duration": 41,
    "start_time": "2024-11-10T15:18:13.584Z"
   },
   {
    "duration": 27,
    "start_time": "2024-11-10T15:18:13.627Z"
   },
   {
    "duration": 56,
    "start_time": "2024-11-10T15:18:13.656Z"
   },
   {
    "duration": 20,
    "start_time": "2024-11-10T15:18:13.714Z"
   },
   {
    "duration": 151,
    "start_time": "2024-11-10T15:18:13.736Z"
   },
   {
    "duration": 1036,
    "start_time": "2024-11-10T15:18:13.888Z"
   },
   {
    "duration": 100,
    "start_time": "2024-11-10T15:18:14.926Z"
   },
   {
    "duration": 268,
    "start_time": "2024-11-10T15:18:15.028Z"
   },
   {
    "duration": 6,
    "start_time": "2024-11-10T15:18:15.300Z"
   },
   {
    "duration": 129,
    "start_time": "2024-11-10T15:18:15.307Z"
   },
   {
    "duration": 19,
    "start_time": "2024-11-10T15:18:15.440Z"
   },
   {
    "duration": 13,
    "start_time": "2024-11-10T15:18:15.461Z"
   },
   {
    "duration": 119,
    "start_time": "2024-11-10T15:18:15.476Z"
   },
   {
    "duration": 27,
    "start_time": "2024-11-10T15:18:15.597Z"
   },
   {
    "duration": 103,
    "start_time": "2024-11-10T15:18:15.626Z"
   },
   {
    "duration": 154,
    "start_time": "2024-11-10T15:18:15.731Z"
   },
   {
    "duration": 33,
    "start_time": "2024-11-10T15:18:15.887Z"
   },
   {
    "duration": 23,
    "start_time": "2024-11-10T15:18:15.922Z"
   },
   {
    "duration": 55,
    "start_time": "2024-11-10T15:18:15.947Z"
   },
   {
    "duration": 37,
    "start_time": "2024-11-10T15:18:16.004Z"
   },
   {
    "duration": 371,
    "start_time": "2024-11-10T15:18:16.043Z"
   },
   {
    "duration": 602,
    "start_time": "2024-11-10T15:18:16.416Z"
   },
   {
    "duration": 170,
    "start_time": "2024-11-10T15:18:17.020Z"
   },
   {
    "duration": 187,
    "start_time": "2024-11-10T15:18:17.192Z"
   },
   {
    "duration": 88,
    "start_time": "2024-11-10T15:18:17.381Z"
   },
   {
    "duration": 5827,
    "start_time": "2024-11-10T15:18:17.470Z"
   },
   {
    "duration": 46,
    "start_time": "2024-11-10T15:18:23.299Z"
   },
   {
    "duration": 6,
    "start_time": "2024-11-10T15:18:23.347Z"
   },
   {
    "duration": 15,
    "start_time": "2024-11-10T15:18:23.355Z"
   },
   {
    "duration": 2,
    "start_time": "2024-11-10T15:18:23.372Z"
   },
   {
    "duration": 55,
    "start_time": "2024-11-10T15:18:23.375Z"
   },
   {
    "duration": 282143,
    "start_time": "2024-11-10T15:18:23.432Z"
   },
   {
    "duration": 3,
    "start_time": "2024-11-10T15:23:05.577Z"
   },
   {
    "duration": 46,
    "start_time": "2024-11-10T15:23:05.581Z"
   },
   {
    "duration": 41,
    "start_time": "2024-11-10T15:23:05.628Z"
   },
   {
    "duration": 48,
    "start_time": "2024-11-10T15:23:05.671Z"
   },
   {
    "duration": 56,
    "start_time": "2024-11-10T15:23:05.721Z"
   },
   {
    "duration": 48,
    "start_time": "2024-11-10T15:23:05.779Z"
   },
   {
    "duration": 39,
    "start_time": "2024-11-10T15:23:05.829Z"
   },
   {
    "duration": 28,
    "start_time": "2024-11-10T15:23:05.870Z"
   },
   {
    "duration": 90,
    "start_time": "2024-11-10T15:23:05.900Z"
   },
   {
    "duration": 45,
    "start_time": "2024-11-10T15:23:05.992Z"
   },
   {
    "duration": 28,
    "start_time": "2024-11-10T15:23:06.038Z"
   },
   {
    "duration": 59,
    "start_time": "2024-11-10T15:23:06.067Z"
   },
   {
    "duration": 63,
    "start_time": "2024-11-10T15:23:06.128Z"
   },
   {
    "duration": 167,
    "start_time": "2024-11-10T15:23:06.192Z"
   },
   {
    "duration": 2478,
    "start_time": "2024-11-10T15:25:59.727Z"
   },
   {
    "duration": 1558,
    "start_time": "2024-11-10T15:26:02.208Z"
   },
   {
    "duration": 1035,
    "start_time": "2024-11-10T15:26:03.768Z"
   },
   {
    "duration": 178,
    "start_time": "2024-11-10T15:26:04.804Z"
   },
   {
    "duration": 36,
    "start_time": "2024-11-10T15:26:04.984Z"
   },
   {
    "duration": 176,
    "start_time": "2024-11-10T15:26:05.023Z"
   },
   {
    "duration": 55,
    "start_time": "2024-11-10T15:26:05.201Z"
   },
   {
    "duration": 6,
    "start_time": "2024-11-10T15:26:05.259Z"
   },
   {
    "duration": 90,
    "start_time": "2024-11-10T15:26:05.267Z"
   },
   {
    "duration": 147,
    "start_time": "2024-11-10T15:26:05.359Z"
   },
   {
    "duration": 188,
    "start_time": "2024-11-10T15:26:05.507Z"
   },
   {
    "duration": 45,
    "start_time": "2024-11-10T15:26:05.700Z"
   },
   {
    "duration": 53,
    "start_time": "2024-11-10T15:26:05.747Z"
   },
   {
    "duration": 27,
    "start_time": "2024-11-10T15:26:05.803Z"
   },
   {
    "duration": 35,
    "start_time": "2024-11-10T15:26:05.832Z"
   },
   {
    "duration": 36,
    "start_time": "2024-11-10T15:26:05.868Z"
   },
   {
    "duration": 35,
    "start_time": "2024-11-10T15:26:05.906Z"
   },
   {
    "duration": 38,
    "start_time": "2024-11-10T15:26:05.943Z"
   },
   {
    "duration": 60,
    "start_time": "2024-11-10T15:26:05.983Z"
   },
   {
    "duration": 54,
    "start_time": "2024-11-10T15:26:06.045Z"
   },
   {
    "duration": 46,
    "start_time": "2024-11-10T15:26:06.101Z"
   },
   {
    "duration": 226,
    "start_time": "2024-11-10T15:26:06.149Z"
   },
   {
    "duration": 1083,
    "start_time": "2024-11-10T15:26:06.377Z"
   },
   {
    "duration": 107,
    "start_time": "2024-11-10T15:26:07.462Z"
   },
   {
    "duration": 275,
    "start_time": "2024-11-10T15:26:07.570Z"
   },
   {
    "duration": 5,
    "start_time": "2024-11-10T15:26:07.846Z"
   },
   {
    "duration": 176,
    "start_time": "2024-11-10T15:26:07.853Z"
   },
   {
    "duration": 23,
    "start_time": "2024-11-10T15:26:08.032Z"
   },
   {
    "duration": 5,
    "start_time": "2024-11-10T15:26:08.057Z"
   },
   {
    "duration": 120,
    "start_time": "2024-11-10T15:26:08.064Z"
   },
   {
    "duration": 25,
    "start_time": "2024-11-10T15:26:08.187Z"
   },
   {
    "duration": 190,
    "start_time": "2024-11-10T15:26:08.215Z"
   },
   {
    "duration": 258,
    "start_time": "2024-11-10T15:26:08.406Z"
   },
   {
    "duration": 23,
    "start_time": "2024-11-10T15:26:08.701Z"
   },
   {
    "duration": 33,
    "start_time": "2024-11-10T15:26:08.726Z"
   },
   {
    "duration": 26,
    "start_time": "2024-11-10T15:26:08.761Z"
   },
   {
    "duration": 25,
    "start_time": "2024-11-10T15:26:08.788Z"
   },
   {
    "duration": 305,
    "start_time": "2024-11-10T15:26:08.814Z"
   },
   {
    "duration": 571,
    "start_time": "2024-11-10T15:26:09.120Z"
   },
   {
    "duration": 203,
    "start_time": "2024-11-10T15:26:09.693Z"
   },
   {
    "duration": 169,
    "start_time": "2024-11-10T15:26:09.900Z"
   },
   {
    "duration": 105,
    "start_time": "2024-11-10T15:26:10.071Z"
   },
   {
    "duration": 5807,
    "start_time": "2024-11-10T15:26:10.178Z"
   },
   {
    "duration": 65,
    "start_time": "2024-11-10T15:26:15.987Z"
   },
   {
    "duration": 6,
    "start_time": "2024-11-10T15:26:16.054Z"
   },
   {
    "duration": 19,
    "start_time": "2024-11-10T15:26:16.062Z"
   },
   {
    "duration": 19,
    "start_time": "2024-11-10T15:26:16.082Z"
   },
   {
    "duration": 9,
    "start_time": "2024-11-10T15:26:16.103Z"
   },
   {
    "duration": 119410,
    "start_time": "2024-11-10T15:26:16.114Z"
   },
   {
    "duration": 3,
    "start_time": "2024-11-10T15:28:15.526Z"
   },
   {
    "duration": 9,
    "start_time": "2024-11-10T15:28:15.531Z"
   },
   {
    "duration": 35,
    "start_time": "2024-11-10T15:28:15.542Z"
   },
   {
    "duration": 8,
    "start_time": "2024-11-10T15:28:15.578Z"
   },
   {
    "duration": 10,
    "start_time": "2024-11-10T15:28:15.587Z"
   },
   {
    "duration": 14,
    "start_time": "2024-11-10T15:28:15.598Z"
   },
   {
    "duration": 9,
    "start_time": "2024-11-10T15:28:15.613Z"
   },
   {
    "duration": 28,
    "start_time": "2024-11-10T15:28:15.624Z"
   },
   {
    "duration": 11,
    "start_time": "2024-11-10T15:28:15.654Z"
   },
   {
    "duration": 5,
    "start_time": "2024-11-10T15:28:15.667Z"
   },
   {
    "duration": 17,
    "start_time": "2024-11-10T15:28:15.673Z"
   },
   {
    "duration": 9,
    "start_time": "2024-11-10T15:28:15.692Z"
   },
   {
    "duration": 37,
    "start_time": "2024-11-10T15:28:15.703Z"
   },
   {
    "duration": 134,
    "start_time": "2024-11-10T15:28:15.742Z"
   },
   {
    "duration": 2469,
    "start_time": "2024-11-10T15:36:29.597Z"
   },
   {
    "duration": 1435,
    "start_time": "2024-11-10T15:36:32.069Z"
   },
   {
    "duration": 906,
    "start_time": "2024-11-10T15:36:33.506Z"
   },
   {
    "duration": 162,
    "start_time": "2024-11-10T15:36:34.415Z"
   },
   {
    "duration": 39,
    "start_time": "2024-11-10T15:36:34.578Z"
   },
   {
    "duration": 145,
    "start_time": "2024-11-10T15:36:34.620Z"
   },
   {
    "duration": 56,
    "start_time": "2024-11-10T15:36:34.767Z"
   },
   {
    "duration": 5,
    "start_time": "2024-11-10T15:36:34.825Z"
   },
   {
    "duration": 91,
    "start_time": "2024-11-10T15:36:34.831Z"
   },
   {
    "duration": 157,
    "start_time": "2024-11-10T15:36:34.925Z"
   },
   {
    "duration": 174,
    "start_time": "2024-11-10T15:36:35.084Z"
   },
   {
    "duration": 22,
    "start_time": "2024-11-10T15:36:35.260Z"
   },
   {
    "duration": 38,
    "start_time": "2024-11-10T15:36:35.283Z"
   },
   {
    "duration": 21,
    "start_time": "2024-11-10T15:36:35.323Z"
   },
   {
    "duration": 29,
    "start_time": "2024-11-10T15:36:35.345Z"
   },
   {
    "duration": 39,
    "start_time": "2024-11-10T15:36:35.376Z"
   },
   {
    "duration": 26,
    "start_time": "2024-11-10T15:36:35.417Z"
   },
   {
    "duration": 32,
    "start_time": "2024-11-10T15:36:35.444Z"
   },
   {
    "duration": 29,
    "start_time": "2024-11-10T15:36:35.478Z"
   },
   {
    "duration": 30,
    "start_time": "2024-11-10T15:36:35.508Z"
   },
   {
    "duration": 33,
    "start_time": "2024-11-10T15:36:35.540Z"
   },
   {
    "duration": 164,
    "start_time": "2024-11-10T15:36:35.575Z"
   },
   {
    "duration": 933,
    "start_time": "2024-11-10T15:36:35.741Z"
   },
   {
    "duration": 111,
    "start_time": "2024-11-10T15:36:36.676Z"
   },
   {
    "duration": 270,
    "start_time": "2024-11-10T15:36:36.789Z"
   },
   {
    "duration": 5,
    "start_time": "2024-11-10T15:36:37.061Z"
   },
   {
    "duration": 121,
    "start_time": "2024-11-10T15:36:37.067Z"
   },
   {
    "duration": 22,
    "start_time": "2024-11-10T15:36:37.191Z"
   },
   {
    "duration": 4,
    "start_time": "2024-11-10T15:36:37.214Z"
   },
   {
    "duration": 128,
    "start_time": "2024-11-10T15:36:37.220Z"
   },
   {
    "duration": 17,
    "start_time": "2024-11-10T15:36:37.350Z"
   },
   {
    "duration": 98,
    "start_time": "2024-11-10T15:36:37.369Z"
   },
   {
    "duration": 149,
    "start_time": "2024-11-10T15:36:37.469Z"
   },
   {
    "duration": 23,
    "start_time": "2024-11-10T15:36:37.619Z"
   },
   {
    "duration": 20,
    "start_time": "2024-11-10T15:36:37.643Z"
   },
   {
    "duration": 47,
    "start_time": "2024-11-10T15:36:37.664Z"
   },
   {
    "duration": 32,
    "start_time": "2024-11-10T15:36:37.712Z"
   },
   {
    "duration": 316,
    "start_time": "2024-11-10T15:36:37.746Z"
   },
   {
    "duration": 604,
    "start_time": "2024-11-10T15:36:38.064Z"
   },
   {
    "duration": 178,
    "start_time": "2024-11-10T15:36:38.670Z"
   },
   {
    "duration": 166,
    "start_time": "2024-11-10T15:36:38.850Z"
   },
   {
    "duration": 90,
    "start_time": "2024-11-10T15:36:39.017Z"
   },
   {
    "duration": 5509,
    "start_time": "2024-11-10T15:36:39.108Z"
   },
   {
    "duration": 49,
    "start_time": "2024-11-10T15:36:44.619Z"
   },
   {
    "duration": 32,
    "start_time": "2024-11-10T15:36:44.669Z"
   },
   {
    "duration": 18,
    "start_time": "2024-11-10T15:36:44.703Z"
   },
   {
    "duration": 3,
    "start_time": "2024-11-10T15:36:44.723Z"
   },
   {
    "duration": 8,
    "start_time": "2024-11-10T15:36:44.728Z"
   },
   {
    "duration": 62649,
    "start_time": "2024-11-10T15:36:44.738Z"
   },
   {
    "duration": 2,
    "start_time": "2024-11-10T15:37:47.389Z"
   },
   {
    "duration": 6,
    "start_time": "2024-11-10T15:37:47.399Z"
   },
   {
    "duration": 27,
    "start_time": "2024-11-10T15:37:47.407Z"
   },
   {
    "duration": 10,
    "start_time": "2024-11-10T15:37:47.436Z"
   },
   {
    "duration": 4,
    "start_time": "2024-11-10T15:37:47.447Z"
   },
   {
    "duration": 3,
    "start_time": "2024-11-10T15:37:47.452Z"
   },
   {
    "duration": 4,
    "start_time": "2024-11-10T15:37:47.457Z"
   },
   {
    "duration": 4,
    "start_time": "2024-11-10T15:37:47.462Z"
   },
   {
    "duration": 17,
    "start_time": "2024-11-10T15:37:47.468Z"
   },
   {
    "duration": 66,
    "start_time": "2024-11-10T15:37:47.487Z"
   },
   {
    "duration": 9,
    "start_time": "2024-11-10T15:37:47.555Z"
   },
   {
    "duration": 5,
    "start_time": "2024-11-10T15:37:47.565Z"
   },
   {
    "duration": 28,
    "start_time": "2024-11-10T15:37:47.571Z"
   },
   {
    "duration": 116,
    "start_time": "2024-11-10T15:37:47.601Z"
   },
   {
    "duration": 2482,
    "start_time": "2024-11-10T15:40:26.444Z"
   },
   {
    "duration": 1501,
    "start_time": "2024-11-10T15:40:28.928Z"
   },
   {
    "duration": 931,
    "start_time": "2024-11-10T15:40:30.431Z"
   },
   {
    "duration": 160,
    "start_time": "2024-11-10T15:40:31.364Z"
   },
   {
    "duration": 26,
    "start_time": "2024-11-10T15:40:31.526Z"
   },
   {
    "duration": 166,
    "start_time": "2024-11-10T15:40:31.554Z"
   },
   {
    "duration": 41,
    "start_time": "2024-11-10T15:40:31.722Z"
   },
   {
    "duration": 3,
    "start_time": "2024-11-10T15:40:31.765Z"
   },
   {
    "duration": 83,
    "start_time": "2024-11-10T15:40:31.770Z"
   },
   {
    "duration": 153,
    "start_time": "2024-11-10T15:40:31.855Z"
   },
   {
    "duration": 147,
    "start_time": "2024-11-10T15:40:32.010Z"
   },
   {
    "duration": 23,
    "start_time": "2024-11-10T15:40:32.159Z"
   },
   {
    "duration": 30,
    "start_time": "2024-11-10T15:40:32.184Z"
   },
   {
    "duration": 25,
    "start_time": "2024-11-10T15:40:32.215Z"
   },
   {
    "duration": 41,
    "start_time": "2024-11-10T15:40:32.241Z"
   },
   {
    "duration": 35,
    "start_time": "2024-11-10T15:40:32.283Z"
   },
   {
    "duration": 27,
    "start_time": "2024-11-10T15:40:32.319Z"
   },
   {
    "duration": 93,
    "start_time": "2024-11-10T15:40:32.348Z"
   },
   {
    "duration": 26,
    "start_time": "2024-11-10T15:40:32.443Z"
   },
   {
    "duration": 58,
    "start_time": "2024-11-10T15:40:32.470Z"
   },
   {
    "duration": 23,
    "start_time": "2024-11-10T15:40:32.530Z"
   },
   {
    "duration": 139,
    "start_time": "2024-11-10T15:40:32.555Z"
   },
   {
    "duration": 914,
    "start_time": "2024-11-10T15:40:32.699Z"
   },
   {
    "duration": 104,
    "start_time": "2024-11-10T15:40:33.614Z"
   },
   {
    "duration": 250,
    "start_time": "2024-11-10T15:40:33.719Z"
   },
   {
    "duration": 5,
    "start_time": "2024-11-10T15:40:33.971Z"
   },
   {
    "duration": 125,
    "start_time": "2024-11-10T15:40:33.977Z"
   },
   {
    "duration": 20,
    "start_time": "2024-11-10T15:40:34.106Z"
   },
   {
    "duration": 5,
    "start_time": "2024-11-10T15:40:34.128Z"
   },
   {
    "duration": 119,
    "start_time": "2024-11-10T15:40:34.135Z"
   },
   {
    "duration": 18,
    "start_time": "2024-11-10T15:40:34.256Z"
   },
   {
    "duration": 109,
    "start_time": "2024-11-10T15:40:34.276Z"
   },
   {
    "duration": 156,
    "start_time": "2024-11-10T15:40:34.388Z"
   },
   {
    "duration": 29,
    "start_time": "2024-11-10T15:40:34.546Z"
   },
   {
    "duration": 30,
    "start_time": "2024-11-10T15:40:34.577Z"
   },
   {
    "duration": 36,
    "start_time": "2024-11-10T15:40:34.609Z"
   },
   {
    "duration": 32,
    "start_time": "2024-11-10T15:40:34.647Z"
   },
   {
    "duration": 294,
    "start_time": "2024-11-10T15:40:34.681Z"
   },
   {
    "duration": 539,
    "start_time": "2024-11-10T15:40:34.977Z"
   },
   {
    "duration": 194,
    "start_time": "2024-11-10T15:40:35.518Z"
   },
   {
    "duration": 171,
    "start_time": "2024-11-10T15:40:35.714Z"
   },
   {
    "duration": 97,
    "start_time": "2024-11-10T15:40:35.887Z"
   },
   {
    "duration": 5495,
    "start_time": "2024-11-10T15:40:35.986Z"
   },
   {
    "duration": 54,
    "start_time": "2024-11-10T15:40:41.483Z"
   },
   {
    "duration": 39,
    "start_time": "2024-11-10T15:40:41.538Z"
   },
   {
    "duration": 15,
    "start_time": "2024-11-10T15:40:41.579Z"
   },
   {
    "duration": 3,
    "start_time": "2024-11-10T15:40:41.596Z"
   },
   {
    "duration": 12,
    "start_time": "2024-11-10T15:40:41.601Z"
   },
   {
    "duration": 65106,
    "start_time": "2024-11-10T15:40:41.615Z"
   },
   {
    "duration": 2,
    "start_time": "2024-11-10T15:41:46.723Z"
   },
   {
    "duration": 3,
    "start_time": "2024-11-10T15:41:46.727Z"
   },
   {
    "duration": 6,
    "start_time": "2024-11-10T15:41:46.732Z"
   },
   {
    "duration": 10,
    "start_time": "2024-11-10T15:41:46.739Z"
   },
   {
    "duration": 6,
    "start_time": "2024-11-10T15:41:46.750Z"
   },
   {
    "duration": 3,
    "start_time": "2024-11-10T15:41:46.757Z"
   },
   {
    "duration": 16,
    "start_time": "2024-11-10T15:41:46.761Z"
   },
   {
    "duration": 3,
    "start_time": "2024-11-10T15:41:46.779Z"
   },
   {
    "duration": 3,
    "start_time": "2024-11-10T15:41:46.783Z"
   },
   {
    "duration": 8,
    "start_time": "2024-11-10T15:41:46.788Z"
   },
   {
    "duration": 12,
    "start_time": "2024-11-10T15:41:46.797Z"
   },
   {
    "duration": 5,
    "start_time": "2024-11-10T15:41:46.810Z"
   },
   {
    "duration": 31,
    "start_time": "2024-11-10T15:41:46.816Z"
   },
   {
    "duration": 111,
    "start_time": "2024-11-10T15:41:46.848Z"
   },
   {
    "duration": 7,
    "start_time": "2024-11-10T15:48:10.866Z"
   },
   {
    "duration": 6,
    "start_time": "2024-11-10T15:48:24.178Z"
   },
   {
    "duration": 6,
    "start_time": "2024-11-10T15:48:36.305Z"
   },
   {
    "duration": 6,
    "start_time": "2024-11-10T15:49:09.729Z"
   },
   {
    "duration": 11,
    "start_time": "2024-11-10T15:49:25.226Z"
   },
   {
    "duration": 9,
    "start_time": "2024-11-10T15:49:33.993Z"
   },
   {
    "duration": 9,
    "start_time": "2024-11-10T15:49:46.842Z"
   },
   {
    "duration": 26,
    "start_time": "2024-11-10T15:50:05.337Z"
   },
   {
    "duration": 2478,
    "start_time": "2024-11-10T15:59:20.011Z"
   },
   {
    "duration": 1534,
    "start_time": "2024-11-10T15:59:22.491Z"
   },
   {
    "duration": 949,
    "start_time": "2024-11-10T15:59:24.027Z"
   },
   {
    "duration": 162,
    "start_time": "2024-11-10T15:59:24.979Z"
   },
   {
    "duration": 27,
    "start_time": "2024-11-10T15:59:25.143Z"
   },
   {
    "duration": 160,
    "start_time": "2024-11-10T15:59:25.171Z"
   },
   {
    "duration": 41,
    "start_time": "2024-11-10T15:59:25.332Z"
   },
   {
    "duration": 4,
    "start_time": "2024-11-10T15:59:25.374Z"
   },
   {
    "duration": 95,
    "start_time": "2024-11-10T15:59:25.380Z"
   },
   {
    "duration": 160,
    "start_time": "2024-11-10T15:59:25.478Z"
   },
   {
    "duration": 148,
    "start_time": "2024-11-10T15:59:25.640Z"
   },
   {
    "duration": 25,
    "start_time": "2024-11-10T15:59:25.789Z"
   },
   {
    "duration": 19,
    "start_time": "2024-11-10T15:59:25.816Z"
   },
   {
    "duration": 38,
    "start_time": "2024-11-10T15:59:25.837Z"
   },
   {
    "duration": 23,
    "start_time": "2024-11-10T15:59:25.877Z"
   },
   {
    "duration": 23,
    "start_time": "2024-11-10T15:59:25.901Z"
   },
   {
    "duration": 32,
    "start_time": "2024-11-10T15:59:25.926Z"
   },
   {
    "duration": 27,
    "start_time": "2024-11-10T15:59:25.960Z"
   },
   {
    "duration": 51,
    "start_time": "2024-11-10T15:59:25.989Z"
   },
   {
    "duration": 24,
    "start_time": "2024-11-10T15:59:26.042Z"
   },
   {
    "duration": 24,
    "start_time": "2024-11-10T15:59:26.068Z"
   },
   {
    "duration": 178,
    "start_time": "2024-11-10T15:59:26.094Z"
   },
   {
    "duration": 928,
    "start_time": "2024-11-10T15:59:26.274Z"
   },
   {
    "duration": 98,
    "start_time": "2024-11-10T15:59:27.204Z"
   },
   {
    "duration": 255,
    "start_time": "2024-11-10T15:59:27.304Z"
   },
   {
    "duration": 5,
    "start_time": "2024-11-10T15:59:27.561Z"
   },
   {
    "duration": 118,
    "start_time": "2024-11-10T15:59:27.568Z"
   },
   {
    "duration": 22,
    "start_time": "2024-11-10T15:59:27.690Z"
   },
   {
    "duration": 5,
    "start_time": "2024-11-10T15:59:27.713Z"
   },
   {
    "duration": 109,
    "start_time": "2024-11-10T15:59:27.720Z"
   },
   {
    "duration": 17,
    "start_time": "2024-11-10T15:59:27.831Z"
   },
   {
    "duration": 98,
    "start_time": "2024-11-10T15:59:27.849Z"
   },
   {
    "duration": 161,
    "start_time": "2024-11-10T15:59:27.949Z"
   },
   {
    "duration": 21,
    "start_time": "2024-11-10T15:59:28.112Z"
   },
   {
    "duration": 17,
    "start_time": "2024-11-10T15:59:28.135Z"
   },
   {
    "duration": 55,
    "start_time": "2024-11-10T15:59:28.154Z"
   },
   {
    "duration": 33,
    "start_time": "2024-11-10T15:59:28.211Z"
   },
   {
    "duration": 311,
    "start_time": "2024-11-10T15:59:28.245Z"
   },
   {
    "duration": 588,
    "start_time": "2024-11-10T15:59:28.558Z"
   },
   {
    "duration": 174,
    "start_time": "2024-11-10T15:59:29.147Z"
   },
   {
    "duration": 183,
    "start_time": "2024-11-10T15:59:29.322Z"
   },
   {
    "duration": 93,
    "start_time": "2024-11-10T15:59:29.507Z"
   },
   {
    "duration": 5462,
    "start_time": "2024-11-10T15:59:29.603Z"
   },
   {
    "duration": 60,
    "start_time": "2024-11-10T15:59:35.067Z"
   },
   {
    "duration": 30,
    "start_time": "2024-11-10T15:59:35.129Z"
   },
   {
    "duration": 36,
    "start_time": "2024-11-10T15:59:35.161Z"
   },
   {
    "duration": 4,
    "start_time": "2024-11-10T15:59:35.198Z"
   },
   {
    "duration": 14,
    "start_time": "2024-11-10T15:59:35.204Z"
   },
   {
    "duration": 84,
    "start_time": "2024-11-10T15:59:35.220Z"
   },
   {
    "duration": 1,
    "start_time": "2024-11-10T15:59:35.306Z"
   },
   {
    "duration": 0,
    "start_time": "2024-11-10T15:59:35.308Z"
   },
   {
    "duration": 0,
    "start_time": "2024-11-10T15:59:35.310Z"
   },
   {
    "duration": 0,
    "start_time": "2024-11-10T15:59:35.311Z"
   },
   {
    "duration": 0,
    "start_time": "2024-11-10T15:59:35.313Z"
   },
   {
    "duration": 0,
    "start_time": "2024-11-10T15:59:35.315Z"
   },
   {
    "duration": 0,
    "start_time": "2024-11-10T15:59:35.316Z"
   },
   {
    "duration": 0,
    "start_time": "2024-11-10T15:59:35.318Z"
   },
   {
    "duration": 0,
    "start_time": "2024-11-10T15:59:35.319Z"
   },
   {
    "duration": 0,
    "start_time": "2024-11-10T15:59:35.321Z"
   },
   {
    "duration": 0,
    "start_time": "2024-11-10T15:59:35.322Z"
   },
   {
    "duration": 0,
    "start_time": "2024-11-10T15:59:35.324Z"
   },
   {
    "duration": 0,
    "start_time": "2024-11-10T15:59:35.325Z"
   },
   {
    "duration": 0,
    "start_time": "2024-11-10T15:59:35.327Z"
   },
   {
    "duration": 0,
    "start_time": "2024-11-10T15:59:35.328Z"
   },
   {
    "duration": 146,
    "start_time": "2024-11-10T16:04:30.097Z"
   },
   {
    "duration": 2520,
    "start_time": "2024-11-10T16:08:16.392Z"
   },
   {
    "duration": 1531,
    "start_time": "2024-11-10T16:08:18.914Z"
   },
   {
    "duration": 922,
    "start_time": "2024-11-10T16:08:20.446Z"
   },
   {
    "duration": 177,
    "start_time": "2024-11-10T16:08:21.370Z"
   },
   {
    "duration": 26,
    "start_time": "2024-11-10T16:08:21.549Z"
   },
   {
    "duration": 165,
    "start_time": "2024-11-10T16:08:21.576Z"
   },
   {
    "duration": 47,
    "start_time": "2024-11-10T16:08:21.743Z"
   },
   {
    "duration": 9,
    "start_time": "2024-11-10T16:08:21.792Z"
   },
   {
    "duration": 65,
    "start_time": "2024-11-10T16:08:21.803Z"
   },
   {
    "duration": 161,
    "start_time": "2024-11-10T16:08:21.871Z"
   },
   {
    "duration": 159,
    "start_time": "2024-11-10T16:08:22.034Z"
   },
   {
    "duration": 34,
    "start_time": "2024-11-10T16:08:22.195Z"
   },
   {
    "duration": 20,
    "start_time": "2024-11-10T16:08:22.232Z"
   },
   {
    "duration": 35,
    "start_time": "2024-11-10T16:08:22.254Z"
   },
   {
    "duration": 24,
    "start_time": "2024-11-10T16:08:22.291Z"
   },
   {
    "duration": 24,
    "start_time": "2024-11-10T16:08:22.317Z"
   },
   {
    "duration": 21,
    "start_time": "2024-11-10T16:08:22.342Z"
   },
   {
    "duration": 38,
    "start_time": "2024-11-10T16:08:22.365Z"
   },
   {
    "duration": 19,
    "start_time": "2024-11-10T16:08:22.405Z"
   },
   {
    "duration": 79,
    "start_time": "2024-11-10T16:08:22.426Z"
   },
   {
    "duration": 34,
    "start_time": "2024-11-10T16:08:22.507Z"
   },
   {
    "duration": 138,
    "start_time": "2024-11-10T16:08:22.543Z"
   },
   {
    "duration": 943,
    "start_time": "2024-11-10T16:08:22.682Z"
   },
   {
    "duration": 99,
    "start_time": "2024-11-10T16:08:23.626Z"
   },
   {
    "duration": 259,
    "start_time": "2024-11-10T16:08:23.726Z"
   },
   {
    "duration": 13,
    "start_time": "2024-11-10T16:08:23.987Z"
   },
   {
    "duration": 107,
    "start_time": "2024-11-10T16:08:24.002Z"
   },
   {
    "duration": 17,
    "start_time": "2024-11-10T16:08:24.113Z"
   },
   {
    "duration": 5,
    "start_time": "2024-11-10T16:08:24.132Z"
   },
   {
    "duration": 116,
    "start_time": "2024-11-10T16:08:24.138Z"
   },
   {
    "duration": 19,
    "start_time": "2024-11-10T16:08:24.256Z"
   },
   {
    "duration": 102,
    "start_time": "2024-11-10T16:08:24.277Z"
   },
   {
    "duration": 160,
    "start_time": "2024-11-10T16:08:24.381Z"
   },
   {
    "duration": 29,
    "start_time": "2024-11-10T16:08:24.542Z"
   },
   {
    "duration": 33,
    "start_time": "2024-11-10T16:08:24.574Z"
   },
   {
    "duration": 36,
    "start_time": "2024-11-10T16:08:24.608Z"
   },
   {
    "duration": 38,
    "start_time": "2024-11-10T16:08:24.645Z"
   },
   {
    "duration": 322,
    "start_time": "2024-11-10T16:08:24.685Z"
   },
   {
    "duration": 541,
    "start_time": "2024-11-10T16:08:25.009Z"
   },
   {
    "duration": 170,
    "start_time": "2024-11-10T16:08:25.552Z"
   },
   {
    "duration": 164,
    "start_time": "2024-11-10T16:08:25.724Z"
   },
   {
    "duration": 86,
    "start_time": "2024-11-10T16:08:25.890Z"
   },
   {
    "duration": 5649,
    "start_time": "2024-11-10T16:08:25.979Z"
   },
   {
    "duration": 46,
    "start_time": "2024-11-10T16:08:31.630Z"
   },
   {
    "duration": 7,
    "start_time": "2024-11-10T16:08:31.677Z"
   },
   {
    "duration": 71,
    "start_time": "2024-11-10T16:08:31.700Z"
   },
   {
    "duration": 3,
    "start_time": "2024-11-10T16:08:31.772Z"
   },
   {
    "duration": 4,
    "start_time": "2024-11-10T16:08:31.777Z"
   },
   {
    "duration": 60485,
    "start_time": "2024-11-10T16:08:31.783Z"
   },
   {
    "duration": 2,
    "start_time": "2024-11-10T16:09:32.270Z"
   },
   {
    "duration": 6,
    "start_time": "2024-11-10T16:09:32.274Z"
   },
   {
    "duration": 3,
    "start_time": "2024-11-10T16:09:32.282Z"
   },
   {
    "duration": 26,
    "start_time": "2024-11-10T16:09:32.286Z"
   },
   {
    "duration": 17,
    "start_time": "2024-11-10T16:09:32.313Z"
   },
   {
    "duration": 12,
    "start_time": "2024-11-10T16:09:32.332Z"
   },
   {
    "duration": 7,
    "start_time": "2024-11-10T16:09:32.346Z"
   },
   {
    "duration": 4,
    "start_time": "2024-11-10T16:09:32.354Z"
   },
   {
    "duration": 10,
    "start_time": "2024-11-10T16:09:32.359Z"
   },
   {
    "duration": 8,
    "start_time": "2024-11-10T16:09:32.370Z"
   },
   {
    "duration": 4,
    "start_time": "2024-11-10T16:09:32.380Z"
   },
   {
    "duration": 20,
    "start_time": "2024-11-10T16:09:32.386Z"
   },
   {
    "duration": 32,
    "start_time": "2024-11-10T16:09:32.407Z"
   },
   {
    "duration": 12,
    "start_time": "2024-11-10T16:10:18.885Z"
   },
   {
    "duration": 10,
    "start_time": "2024-11-10T16:12:02.156Z"
   },
   {
    "duration": 8,
    "start_time": "2024-11-10T16:13:19.899Z"
   },
   {
    "duration": 4,
    "start_time": "2024-11-10T16:13:55.723Z"
   },
   {
    "duration": 1105,
    "start_time": "2024-11-10T16:14:21.466Z"
   },
   {
    "duration": 1069,
    "start_time": "2024-11-10T16:14:34.377Z"
   },
   {
    "duration": 11,
    "start_time": "2024-11-10T16:36:21.788Z"
   },
   {
    "duration": 12,
    "start_time": "2024-11-10T16:36:29.555Z"
   },
   {
    "duration": 20,
    "start_time": "2024-11-10T16:38:18.890Z"
   },
   {
    "duration": 72,
    "start_time": "2024-11-10T16:42:35.111Z"
   },
   {
    "duration": 3623,
    "start_time": "2024-11-10T16:42:37.094Z"
   },
   {
    "duration": 11,
    "start_time": "2024-11-10T16:42:48.375Z"
   },
   {
    "duration": 27912,
    "start_time": "2024-11-10T16:43:06.904Z"
   },
   {
    "duration": 4,
    "start_time": "2024-11-10T16:44:05.454Z"
   },
   {
    "duration": 370,
    "start_time": "2024-11-10T16:47:23.772Z"
   },
   {
    "duration": 11211,
    "start_time": "2024-11-10T16:49:50.315Z"
   },
   {
    "duration": 12596,
    "start_time": "2024-11-10T16:50:05.114Z"
   },
   {
    "duration": 2398,
    "start_time": "2024-11-10T16:50:41.560Z"
   },
   {
    "duration": 1488,
    "start_time": "2024-11-10T16:50:43.961Z"
   },
   {
    "duration": 903,
    "start_time": "2024-11-10T16:50:45.450Z"
   },
   {
    "duration": 162,
    "start_time": "2024-11-10T16:50:46.356Z"
   },
   {
    "duration": 25,
    "start_time": "2024-11-10T16:50:46.520Z"
   },
   {
    "duration": 180,
    "start_time": "2024-11-10T16:50:46.546Z"
   },
   {
    "duration": 42,
    "start_time": "2024-11-10T16:50:46.728Z"
   },
   {
    "duration": 4,
    "start_time": "2024-11-10T16:50:46.772Z"
   },
   {
    "duration": 78,
    "start_time": "2024-11-10T16:50:46.778Z"
   },
   {
    "duration": 168,
    "start_time": "2024-11-10T16:50:46.859Z"
   },
   {
    "duration": 149,
    "start_time": "2024-11-10T16:50:47.029Z"
   },
   {
    "duration": 25,
    "start_time": "2024-11-10T16:50:47.179Z"
   },
   {
    "duration": 22,
    "start_time": "2024-11-10T16:50:47.206Z"
   },
   {
    "duration": 75,
    "start_time": "2024-11-10T16:50:47.229Z"
   },
   {
    "duration": 21,
    "start_time": "2024-11-10T16:50:47.306Z"
   },
   {
    "duration": 24,
    "start_time": "2024-11-10T16:50:47.328Z"
   },
   {
    "duration": 21,
    "start_time": "2024-11-10T16:50:47.354Z"
   },
   {
    "duration": 38,
    "start_time": "2024-11-10T16:50:47.377Z"
   },
   {
    "duration": 19,
    "start_time": "2024-11-10T16:50:47.417Z"
   },
   {
    "duration": 26,
    "start_time": "2024-11-10T16:50:47.438Z"
   },
   {
    "duration": 38,
    "start_time": "2024-11-10T16:50:47.465Z"
   },
   {
    "duration": 146,
    "start_time": "2024-11-10T16:50:47.505Z"
   },
   {
    "duration": 1001,
    "start_time": "2024-11-10T16:50:47.652Z"
   },
   {
    "duration": 110,
    "start_time": "2024-11-10T16:50:48.655Z"
   },
   {
    "duration": 266,
    "start_time": "2024-11-10T16:50:48.767Z"
   },
   {
    "duration": 5,
    "start_time": "2024-11-10T16:50:49.034Z"
   },
   {
    "duration": 115,
    "start_time": "2024-11-10T16:50:49.041Z"
   },
   {
    "duration": 19,
    "start_time": "2024-11-10T16:50:49.160Z"
   },
   {
    "duration": 19,
    "start_time": "2024-11-10T16:50:49.181Z"
   },
   {
    "duration": 103,
    "start_time": "2024-11-10T16:50:49.201Z"
   },
   {
    "duration": 18,
    "start_time": "2024-11-10T16:50:49.305Z"
   },
   {
    "duration": 102,
    "start_time": "2024-11-10T16:50:49.325Z"
   },
   {
    "duration": 146,
    "start_time": "2024-11-10T16:50:49.428Z"
   },
   {
    "duration": 31,
    "start_time": "2024-11-10T16:50:49.575Z"
   },
   {
    "duration": 17,
    "start_time": "2024-11-10T16:50:49.608Z"
   },
   {
    "duration": 26,
    "start_time": "2024-11-10T16:50:49.627Z"
   },
   {
    "duration": 50,
    "start_time": "2024-11-10T16:50:49.656Z"
   },
   {
    "duration": 326,
    "start_time": "2024-11-10T16:50:49.708Z"
   },
   {
    "duration": 593,
    "start_time": "2024-11-10T16:50:50.035Z"
   },
   {
    "duration": 171,
    "start_time": "2024-11-10T16:50:50.629Z"
   },
   {
    "duration": 157,
    "start_time": "2024-11-10T16:50:50.802Z"
   },
   {
    "duration": 87,
    "start_time": "2024-11-10T16:50:50.961Z"
   },
   {
    "duration": 5936,
    "start_time": "2024-11-10T16:50:51.049Z"
   },
   {
    "duration": 52,
    "start_time": "2024-11-10T16:50:56.987Z"
   },
   {
    "duration": 6,
    "start_time": "2024-11-10T16:50:57.041Z"
   },
   {
    "duration": 31,
    "start_time": "2024-11-10T16:50:57.049Z"
   },
   {
    "duration": 5,
    "start_time": "2024-11-10T16:50:57.082Z"
   },
   {
    "duration": 246874,
    "start_time": "2024-11-10T16:50:57.089Z"
   },
   {
    "duration": 2,
    "start_time": "2024-11-10T16:55:03.964Z"
   },
   {
    "duration": 10,
    "start_time": "2024-11-10T16:55:03.968Z"
   },
   {
    "duration": 4,
    "start_time": "2024-11-10T16:55:03.979Z"
   },
   {
    "duration": 12,
    "start_time": "2024-11-10T16:55:03.985Z"
   },
   {
    "duration": 11,
    "start_time": "2024-11-10T16:55:03.998Z"
   },
   {
    "duration": 10,
    "start_time": "2024-11-10T16:55:04.011Z"
   },
   {
    "duration": 29,
    "start_time": "2024-11-10T16:55:04.022Z"
   },
   {
    "duration": 6,
    "start_time": "2024-11-10T16:55:04.052Z"
   },
   {
    "duration": 28,
    "start_time": "2024-11-10T16:55:04.059Z"
   },
   {
    "duration": 62,
    "start_time": "2024-11-10T16:55:04.088Z"
   },
   {
    "duration": 3092,
    "start_time": "2024-11-10T16:55:04.152Z"
   },
   {
    "duration": 11354,
    "start_time": "2024-11-10T16:55:07.246Z"
   },
   {
    "duration": 63,
    "start_time": "2024-11-10T17:04:07.379Z"
   },
   {
    "duration": 72,
    "start_time": "2024-11-10T17:05:22.803Z"
   },
   {
    "duration": 3465,
    "start_time": "2024-11-10T19:20:34.293Z"
   },
   {
    "duration": 2485,
    "start_time": "2024-11-10T19:20:37.760Z"
   },
   {
    "duration": 2795,
    "start_time": "2024-11-10T19:20:40.246Z"
   },
   {
    "duration": 111,
    "start_time": "2024-11-10T19:20:43.043Z"
   },
   {
    "duration": 23,
    "start_time": "2024-11-10T19:20:43.156Z"
   },
   {
    "duration": 107,
    "start_time": "2024-11-10T19:20:43.180Z"
   },
   {
    "duration": 27,
    "start_time": "2024-11-10T19:20:43.289Z"
   },
   {
    "duration": 3,
    "start_time": "2024-11-10T19:20:43.317Z"
   },
   {
    "duration": 73,
    "start_time": "2024-11-10T19:20:43.321Z"
   },
   {
    "duration": 111,
    "start_time": "2024-11-10T19:20:43.397Z"
   },
   {
    "duration": 106,
    "start_time": "2024-11-10T19:20:43.510Z"
   },
   {
    "duration": 17,
    "start_time": "2024-11-10T19:20:43.617Z"
   },
   {
    "duration": 25,
    "start_time": "2024-11-10T19:20:43.635Z"
   },
   {
    "duration": 17,
    "start_time": "2024-11-10T19:20:43.661Z"
   },
   {
    "duration": 14,
    "start_time": "2024-11-10T19:20:43.679Z"
   },
   {
    "duration": 19,
    "start_time": "2024-11-10T19:20:43.695Z"
   },
   {
    "duration": 13,
    "start_time": "2024-11-10T19:20:43.715Z"
   },
   {
    "duration": 33,
    "start_time": "2024-11-10T19:20:43.729Z"
   },
   {
    "duration": 14,
    "start_time": "2024-11-10T19:20:43.764Z"
   },
   {
    "duration": 17,
    "start_time": "2024-11-10T19:20:43.779Z"
   },
   {
    "duration": 16,
    "start_time": "2024-11-10T19:20:43.797Z"
   },
   {
    "duration": 117,
    "start_time": "2024-11-10T19:20:43.814Z"
   },
   {
    "duration": 764,
    "start_time": "2024-11-10T19:20:43.932Z"
   },
   {
    "duration": 86,
    "start_time": "2024-11-10T19:20:44.698Z"
   },
   {
    "duration": 210,
    "start_time": "2024-11-10T19:20:44.786Z"
   },
   {
    "duration": 5,
    "start_time": "2024-11-10T19:20:44.997Z"
   },
   {
    "duration": 133,
    "start_time": "2024-11-10T19:20:45.003Z"
   },
   {
    "duration": 16,
    "start_time": "2024-11-10T19:20:45.139Z"
   },
   {
    "duration": 5,
    "start_time": "2024-11-10T19:20:45.157Z"
   },
   {
    "duration": 111,
    "start_time": "2024-11-10T19:20:45.164Z"
   },
   {
    "duration": 43,
    "start_time": "2024-11-10T19:20:45.276Z"
   },
   {
    "duration": 73,
    "start_time": "2024-11-10T19:20:45.321Z"
   },
   {
    "duration": 95,
    "start_time": "2024-11-10T19:20:45.395Z"
   },
   {
    "duration": 58,
    "start_time": "2024-11-10T19:20:45.491Z"
   },
   {
    "duration": 14,
    "start_time": "2024-11-10T19:20:45.550Z"
   },
   {
    "duration": 23,
    "start_time": "2024-11-10T19:20:45.565Z"
   },
   {
    "duration": 30,
    "start_time": "2024-11-10T19:20:45.590Z"
   },
   {
    "duration": 307,
    "start_time": "2024-11-10T19:20:45.621Z"
   },
   {
    "duration": 513,
    "start_time": "2024-11-10T19:20:45.929Z"
   },
   {
    "duration": 167,
    "start_time": "2024-11-10T19:20:46.444Z"
   },
   {
    "duration": 158,
    "start_time": "2024-11-10T19:20:46.612Z"
   },
   {
    "duration": 59,
    "start_time": "2024-11-10T19:20:46.772Z"
   },
   {
    "duration": 4823,
    "start_time": "2024-11-10T19:20:46.833Z"
   },
   {
    "duration": 33,
    "start_time": "2024-11-10T19:20:51.658Z"
   },
   {
    "duration": 4,
    "start_time": "2024-11-10T19:20:51.692Z"
   },
   {
    "duration": 14,
    "start_time": "2024-11-10T19:20:51.698Z"
   },
   {
    "duration": 3,
    "start_time": "2024-11-10T19:20:51.713Z"
   },
   {
    "duration": 343,
    "start_time": "2024-11-10T19:20:51.718Z"
   },
   {
    "duration": 0,
    "start_time": "2024-11-10T19:20:52.063Z"
   },
   {
    "duration": 0,
    "start_time": "2024-11-10T19:20:52.064Z"
   },
   {
    "duration": 0,
    "start_time": "2024-11-10T19:20:52.065Z"
   },
   {
    "duration": 0,
    "start_time": "2024-11-10T19:20:52.066Z"
   },
   {
    "duration": 0,
    "start_time": "2024-11-10T19:20:52.067Z"
   },
   {
    "duration": 0,
    "start_time": "2024-11-10T19:20:52.068Z"
   },
   {
    "duration": 0,
    "start_time": "2024-11-10T19:20:52.069Z"
   },
   {
    "duration": 0,
    "start_time": "2024-11-10T19:20:52.070Z"
   },
   {
    "duration": 0,
    "start_time": "2024-11-10T19:20:52.071Z"
   },
   {
    "duration": 0,
    "start_time": "2024-11-10T19:20:52.072Z"
   },
   {
    "duration": 0,
    "start_time": "2024-11-10T19:20:52.073Z"
   },
   {
    "duration": 0,
    "start_time": "2024-11-10T19:20:52.074Z"
   },
   {
    "duration": 9552,
    "start_time": "2024-11-10T19:22:22.536Z"
   },
   {
    "duration": 1315,
    "start_time": "2024-11-10T19:22:32.090Z"
   },
   {
    "duration": 762,
    "start_time": "2024-11-10T19:22:33.407Z"
   },
   {
    "duration": 122,
    "start_time": "2024-11-10T19:22:34.171Z"
   },
   {
    "duration": 29,
    "start_time": "2024-11-10T19:22:34.295Z"
   },
   {
    "duration": 133,
    "start_time": "2024-11-10T19:22:34.325Z"
   },
   {
    "duration": 33,
    "start_time": "2024-11-10T19:22:34.460Z"
   },
   {
    "duration": 3,
    "start_time": "2024-11-10T19:22:34.495Z"
   },
   {
    "duration": 72,
    "start_time": "2024-11-10T19:22:34.500Z"
   },
   {
    "duration": 124,
    "start_time": "2024-11-10T19:22:34.574Z"
   },
   {
    "duration": 208,
    "start_time": "2024-11-10T19:22:34.700Z"
   },
   {
    "duration": 18,
    "start_time": "2024-11-10T19:22:34.910Z"
   },
   {
    "duration": 32,
    "start_time": "2024-11-10T19:22:34.929Z"
   },
   {
    "duration": 21,
    "start_time": "2024-11-10T19:22:34.962Z"
   },
   {
    "duration": 27,
    "start_time": "2024-11-10T19:22:34.985Z"
   },
   {
    "duration": 20,
    "start_time": "2024-11-10T19:22:35.013Z"
   },
   {
    "duration": 15,
    "start_time": "2024-11-10T19:22:35.034Z"
   },
   {
    "duration": 26,
    "start_time": "2024-11-10T19:22:35.058Z"
   },
   {
    "duration": 32,
    "start_time": "2024-11-10T19:22:35.086Z"
   },
   {
    "duration": 19,
    "start_time": "2024-11-10T19:22:35.119Z"
   },
   {
    "duration": 30,
    "start_time": "2024-11-10T19:22:35.140Z"
   },
   {
    "duration": 109,
    "start_time": "2024-11-10T19:22:35.172Z"
   },
   {
    "duration": 869,
    "start_time": "2024-11-10T19:22:35.283Z"
   },
   {
    "duration": 86,
    "start_time": "2024-11-10T19:22:36.154Z"
   },
   {
    "duration": 551,
    "start_time": "2024-11-10T19:22:36.242Z"
   },
   {
    "duration": 3,
    "start_time": "2024-11-10T19:22:36.795Z"
   },
   {
    "duration": 189,
    "start_time": "2024-11-10T19:22:36.799Z"
   },
   {
    "duration": 72,
    "start_time": "2024-11-10T19:22:36.991Z"
   },
   {
    "duration": 4,
    "start_time": "2024-11-10T19:22:37.065Z"
   },
   {
    "duration": 190,
    "start_time": "2024-11-10T19:22:37.071Z"
   },
   {
    "duration": 18,
    "start_time": "2024-11-10T19:22:37.263Z"
   },
   {
    "duration": 188,
    "start_time": "2024-11-10T19:22:37.282Z"
   },
   {
    "duration": 214,
    "start_time": "2024-11-10T19:22:37.471Z"
   },
   {
    "duration": 20,
    "start_time": "2024-11-10T19:22:37.687Z"
   },
   {
    "duration": 50,
    "start_time": "2024-11-10T19:22:37.708Z"
   },
   {
    "duration": 32,
    "start_time": "2024-11-10T19:22:37.760Z"
   },
   {
    "duration": 21,
    "start_time": "2024-11-10T19:22:37.794Z"
   },
   {
    "duration": 334,
    "start_time": "2024-11-10T19:22:37.816Z"
   },
   {
    "duration": 616,
    "start_time": "2024-11-10T19:22:38.151Z"
   },
   {
    "duration": 189,
    "start_time": "2024-11-10T19:22:38.768Z"
   },
   {
    "duration": 249,
    "start_time": "2024-11-10T19:22:38.960Z"
   },
   {
    "duration": 72,
    "start_time": "2024-11-10T19:22:39.210Z"
   },
   {
    "duration": 5652,
    "start_time": "2024-11-10T19:22:39.284Z"
   },
   {
    "duration": 33,
    "start_time": "2024-11-10T19:22:44.938Z"
   },
   {
    "duration": 4,
    "start_time": "2024-11-10T19:22:44.973Z"
   },
   {
    "duration": 7,
    "start_time": "2024-11-10T19:22:44.978Z"
   },
   {
    "duration": 3,
    "start_time": "2024-11-10T19:22:44.986Z"
   },
   {
    "duration": 413224,
    "start_time": "2024-11-10T19:22:44.991Z"
   },
   {
    "duration": 2,
    "start_time": "2024-11-10T19:29:38.216Z"
   },
   {
    "duration": 9,
    "start_time": "2024-11-10T19:29:38.220Z"
   },
   {
    "duration": 2,
    "start_time": "2024-11-10T19:29:38.230Z"
   },
   {
    "duration": 3,
    "start_time": "2024-11-10T19:29:38.233Z"
   },
   {
    "duration": 3,
    "start_time": "2024-11-10T19:29:38.237Z"
   },
   {
    "duration": 8,
    "start_time": "2024-11-10T19:29:38.241Z"
   },
   {
    "duration": 2,
    "start_time": "2024-11-10T19:29:38.257Z"
   },
   {
    "duration": 10,
    "start_time": "2024-11-10T19:29:38.261Z"
   },
   {
    "duration": 26,
    "start_time": "2024-11-10T19:29:38.272Z"
   },
   {
    "duration": 64,
    "start_time": "2024-11-10T19:29:38.299Z"
   },
   {
    "duration": 1689,
    "start_time": "2024-11-10T19:29:38.364Z"
   },
   {
    "duration": 8620,
    "start_time": "2024-11-10T19:29:40.054Z"
   }
  ],
  "kernelspec": {
   "display_name": "Python 3 (ipykernel)",
   "language": "python",
   "name": "python3"
  },
  "language_info": {
   "codemirror_mode": {
    "name": "ipython",
    "version": 3
   },
   "file_extension": ".py",
   "mimetype": "text/x-python",
   "name": "python",
   "nbconvert_exporter": "python",
   "pygments_lexer": "ipython3",
   "version": "3.9.5"
  },
  "toc": {
   "base_numbering": 1,
   "nav_menu": {},
   "number_sections": true,
   "sideBar": true,
   "skip_h1_title": true,
   "title_cell": "Table of Contents",
   "title_sidebar": "Contents",
   "toc_cell": false,
   "toc_position": {
    "height": "calc(100% - 180px)",
    "left": "10px",
    "top": "150px",
    "width": "426.641px"
   },
   "toc_section_display": true,
   "toc_window_display": true
  }
 },
 "nbformat": 4,
 "nbformat_minor": 2
}
