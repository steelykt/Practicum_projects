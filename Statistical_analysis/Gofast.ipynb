{
 "cells": [
  {
   "cell_type": "markdown",
   "id": "6af07562",
   "metadata": {
    "toc": true
   },
   "source": [
    "<h1>Содержание<span class=\"tocSkip\"></span></h1>\n",
    "<div class=\"toc\"><ul class=\"toc-item\"><li><span><a href=\"#Загрузка-данных\" data-toc-modified-id=\"Загрузка-данных-1\"><span class=\"toc-item-num\">1&nbsp;&nbsp;</span>Загрузка данных</a></span><ul class=\"toc-item\"><li><span><a href=\"#Считаем-CSV-файлы-с-данными-с-помощью-библиотеки-pandas-и-сохраняем-их-в-датафреймы.\" data-toc-modified-id=\"Считаем-CSV-файлы-с-данными-с-помощью-библиотеки-pandas-и-сохраняем-их-в-датафреймы.-1.1\"><span class=\"toc-item-num\">1.1&nbsp;&nbsp;</span>Считаем CSV-файлы с данными с помощью библиотеки pandas и сохраняем их в датафреймы.</a></span></li><li><span><a href=\"#Выводим-первые-строки-каждого-набора-данных.-Изучаем-общую-информацию-о-каждом-датафрейме.\" data-toc-modified-id=\"Выводим-первые-строки-каждого-набора-данных.-Изучаем-общую-информацию-о-каждом-датафрейме.-1.2\"><span class=\"toc-item-num\">1.2&nbsp;&nbsp;</span>Выводим первые строки каждого набора данных. Изучаем общую информацию о каждом датафрейме.</a></span><ul class=\"toc-item\"><li><span><a href=\"#Пользователи\" data-toc-modified-id=\"Пользователи-1.2.1\"><span class=\"toc-item-num\">1.2.1&nbsp;&nbsp;</span>Пользователи</a></span></li><li><span><a href=\"#Поездки\" data-toc-modified-id=\"Поездки-1.2.2\"><span class=\"toc-item-num\">1.2.2&nbsp;&nbsp;</span>Поездки</a></span></li><li><span><a href=\"#Подписки\" data-toc-modified-id=\"Подписки-1.2.3\"><span class=\"toc-item-num\">1.2.3&nbsp;&nbsp;</span>Подписки</a></span></li></ul></li></ul></li><li><span><a href=\"#Предобработка-данных\" data-toc-modified-id=\"Предобработка-данных-2\"><span class=\"toc-item-num\">2&nbsp;&nbsp;</span>Предобработка данных</a></span><ul class=\"toc-item\"><li><span><a href=\"#Приводим-столбец-date-к-типу-даты-pandas.\" data-toc-modified-id=\"Приводим-столбец-date-к-типу-даты-pandas.-2.1\"><span class=\"toc-item-num\">2.1&nbsp;&nbsp;</span>Приводим столбец date к типу даты pandas.</a></span></li><li><span><a href=\"#Создаем-новый-столбец-с-номером-месяца-на-основе-столбца-date.\" data-toc-modified-id=\"Создаем-новый-столбец-с-номером-месяца-на-основе-столбца-date.-2.2\"><span class=\"toc-item-num\">2.2&nbsp;&nbsp;</span>Создаем новый столбец с номером месяца на основе столбца date.</a></span></li><li><span><a href=\"#Проверяем-наличие-пропущенных-значений-и-дубликатов-в-датафреймах.-Обработаем-их,-если-такие-значения-присутствуют.\" data-toc-modified-id=\"Проверяем-наличие-пропущенных-значений-и-дубликатов-в-датафреймах.-Обработаем-их,-если-такие-значения-присутствуют.-2.3\"><span class=\"toc-item-num\">2.3&nbsp;&nbsp;</span>Проверяем наличие пропущенных значений и дубликатов в датафреймах. Обработаем их, если такие значения присутствуют.</a></span><ul class=\"toc-item\"><li><span><a href=\"#Поиск-пропусков\" data-toc-modified-id=\"Поиск-пропусков-2.3.1\"><span class=\"toc-item-num\">2.3.1&nbsp;&nbsp;</span>Поиск пропусков</a></span></li><li><span><a href=\"#Поиск-дубликатов\" data-toc-modified-id=\"Поиск-дубликатов-2.3.2\"><span class=\"toc-item-num\">2.3.2&nbsp;&nbsp;</span>Поиск дубликатов</a></span></li></ul></li></ul></li><li><span><a href=\"#Исследовательский-анализ-данных\" data-toc-modified-id=\"Исследовательский-анализ-данных-3\"><span class=\"toc-item-num\">3&nbsp;&nbsp;</span>Исследовательский анализ данных</a></span><ul class=\"toc-item\"><li><span><a href=\"#Частота-встречаемости-городов\" data-toc-modified-id=\"Частота-встречаемости-городов-3.1\"><span class=\"toc-item-num\">3.1&nbsp;&nbsp;</span>Частота встречаемости городов</a></span></li><li><span><a href=\"#Cоотношение-пользователей-с-подпиской-и-без-подписки\" data-toc-modified-id=\"Cоотношение-пользователей-с-подпиской-и-без-подписки-3.2\"><span class=\"toc-item-num\">3.2&nbsp;&nbsp;</span>Cоотношение пользователей с подпиской и без подписки</a></span></li><li><span><a href=\"#Возраст-пользователей\" data-toc-modified-id=\"Возраст-пользователей-3.3\"><span class=\"toc-item-num\">3.3&nbsp;&nbsp;</span>Возраст пользователей</a></span></li><li><span><a href=\"#Расстояние,-которое-пользователь-преодолел-за-одну-поездку\" data-toc-modified-id=\"Расстояние,-которое-пользователь-преодолел-за-одну-поездку-3.4\"><span class=\"toc-item-num\">3.4&nbsp;&nbsp;</span>Расстояние, которое пользователь преодолел за одну поездку</a></span></li><li><span><a href=\"#Продолжительность-поездок\" data-toc-modified-id=\"Продолжительность-поездок-3.5\"><span class=\"toc-item-num\">3.5&nbsp;&nbsp;</span>Продолжительность поездок</a></span></li></ul></li><li><span><a href=\"#Объединение-данных\" data-toc-modified-id=\"Объединение-данных-4\"><span class=\"toc-item-num\">4&nbsp;&nbsp;</span>Объединение данных</a></span><ul class=\"toc-item\"><li><span><a href=\"#Объединение-данных-о-пользователях,-поездках-и-подписках-в-один-датафрейм\" data-toc-modified-id=\"Объединение-данных-о-пользователях,-поездках-и-подписках-в-один-датафрейм-4.1\"><span class=\"toc-item-num\">4.1&nbsp;&nbsp;</span>Объединение данных о пользователях, поездках и подписках в один датафрейм</a></span></li><li><span><a href=\"#Создание-ещё-двух-датафреймов-из-объединенного-датафрейма\" data-toc-modified-id=\"Создание-ещё-двух-датафреймов-из-объединенного-датафрейма-4.2\"><span class=\"toc-item-num\">4.2&nbsp;&nbsp;</span>Создание ещё двух датафреймов из объединенного датафрейма</a></span><ul class=\"toc-item\"><li><span><a href=\"#c-данными-о-пользователях-без-подписки\" data-toc-modified-id=\"c-данными-о-пользователях-без-подписки-4.2.1\"><span class=\"toc-item-num\">4.2.1&nbsp;&nbsp;</span>c данными о пользователях без подписки</a></span></li><li><span><a href=\"#с-данными-о-пользователях-с-подпиской\" data-toc-modified-id=\"с-данными-о-пользователях-с-подпиской-4.2.2\"><span class=\"toc-item-num\">4.2.2&nbsp;&nbsp;</span>с данными о пользователях с подпиской</a></span></li></ul></li><li><span><a href=\"#Визуализируйте-информацию-о-расстоянии-и-времени-поездок-для-пользователей-обеих-категорий\" data-toc-modified-id=\"Визуализируйте-информацию-о-расстоянии-и-времени-поездок-для-пользователей-обеих-категорий-4.3\"><span class=\"toc-item-num\">4.3&nbsp;&nbsp;</span>Визуализируйте информацию о расстоянии и времени поездок для пользователей обеих категорий</a></span><ul class=\"toc-item\"><li><span><a href=\"#Расстояние-о-пользователях-обеих-категорий\" data-toc-modified-id=\"Расстояние-о-пользователях-обеих-категорий-4.3.1\"><span class=\"toc-item-num\">4.3.1&nbsp;&nbsp;</span>Расстояние о пользователях обеих категорий</a></span></li><li><span><a href=\"#Время-о-пользователях-обеих-категорий\" data-toc-modified-id=\"Время-о-пользователях-обеих-категорий-4.3.2\"><span class=\"toc-item-num\">4.3.2&nbsp;&nbsp;</span>Время о пользователях обеих категорий</a></span></li></ul></li></ul></li><li><span><a href=\"#Подсчёт-выручки\" data-toc-modified-id=\"Подсчёт-выручки-5\"><span class=\"toc-item-num\">5&nbsp;&nbsp;</span>Подсчёт выручки</a></span><ul class=\"toc-item\"><li><span><a href=\"#Создание-датафрейма-с-агрегированными-данными-о-поездках-на-основе-датафрейма-с-объединёнными-данными-из-шага-4:-найти-суммарное-расстояние,-количество-поездок-и-суммарное-время-для-каждого-пользователя-за-каждый-месяц.\" data-toc-modified-id=\"Создание-датафрейма-с-агрегированными-данными-о-поездках-на-основе-датафрейма-с-объединёнными-данными-из-шага-4:-найти-суммарное-расстояние,-количество-поездок-и-суммарное-время-для-каждого-пользователя-за-каждый-месяц.-5.1\"><span class=\"toc-item-num\">5.1&nbsp;&nbsp;</span>Создание датафрейма с агрегированными данными о поездках на основе датафрейма с объединёнными данными из шага 4: найти суммарное расстояние, количество поездок и суммарное время для каждого пользователя за каждый месяц.</a></span></li><li><span><a href=\"#Добавление-столбца-с-помесячной-выручкой,-которую-принёс-каждый-пользователь.\" data-toc-modified-id=\"Добавление-столбца-с-помесячной-выручкой,-которую-принёс-каждый-пользователь.-5.2\"><span class=\"toc-item-num\">5.2&nbsp;&nbsp;</span>Добавление столбца с помесячной выручкой, которую принёс каждый пользователь.</a></span></li></ul></li><li><span><a href=\"#Проверка-гипотез\" data-toc-modified-id=\"Проверка-гипотез-6\"><span class=\"toc-item-num\">6&nbsp;&nbsp;</span>Проверка гипотез</a></span><ul class=\"toc-item\"><li><span><a href=\"#Важно-понять,-тратят-ли-пользователи-с-подпиской-больше-времени-на-поездки?-Если-да,-то-пользователи-с-подпиской-могут-быть-«выгоднее»-для-компании.-Проверьте-гипотезу.-Используйте-исходные-данные-о-продолжительности-каждой-сессии-—-отдельно-для-подписчиков-и-тех,-у-кого-нет-подписки.\" data-toc-modified-id=\"Важно-понять,-тратят-ли-пользователи-с-подпиской-больше-времени-на-поездки?-Если-да,-то-пользователи-с-подпиской-могут-быть-«выгоднее»-для-компании.-Проверьте-гипотезу.-Используйте-исходные-данные-о-продолжительности-каждой-сессии-—-отдельно-для-подписчиков-и-тех,-у-кого-нет-подписки.-6.1\"><span class=\"toc-item-num\">6.1&nbsp;&nbsp;</span>Важно понять, тратят ли пользователи с подпиской больше времени на поездки? Если да, то пользователи с подпиской могут быть «выгоднее» для компании. Проверьте гипотезу. Используйте исходные данные о продолжительности каждой сессии — отдельно для подписчиков и тех, у кого нет подписки.</a></span></li><li><span><a href=\"#Расстояние-одной-поездки-в-3130-метров-—-оптимальное-с-точки-зрения-износа-самоката.-Можно-ли-сказать,-что-среднее-расстояние,-которое-проезжают-пользователи-с-подпиской-за-одну-поездку,-не-превышает-3130-метров?-Проверьте-гипотезу-и-сделайте-выводы.\" data-toc-modified-id=\"Расстояние-одной-поездки-в-3130-метров-—-оптимальное-с-точки-зрения-износа-самоката.-Можно-ли-сказать,-что-среднее-расстояние,-которое-проезжают-пользователи-с-подпиской-за-одну-поездку,-не-превышает-3130-метров?-Проверьте-гипотезу-и-сделайте-выводы.-6.2\"><span class=\"toc-item-num\">6.2&nbsp;&nbsp;</span>Расстояние одной поездки в 3130 метров — оптимальное с точки зрения износа самоката. Можно ли сказать, что среднее расстояние, которое проезжают пользователи с подпиской за одну поездку, не превышает 3130 метров? Проверьте гипотезу и сделайте выводы.</a></span></li><li><span><a href=\"#Проверьте-гипотезу-о-том,-будет-ли-помесячная-выручка-от-пользователей-с-подпиской-по-месяцам-выше,-чем-выручка-от-пользователей-без-подписки.-Сделайте-вывод.\" data-toc-modified-id=\"Проверьте-гипотезу-о-том,-будет-ли-помесячная-выручка-от-пользователей-с-подпиской-по-месяцам-выше,-чем-выручка-от-пользователей-без-подписки.-Сделайте-вывод.-6.3\"><span class=\"toc-item-num\">6.3&nbsp;&nbsp;</span>Проверьте гипотезу о том, будет ли помесячная выручка от пользователей с подпиской по месяцам выше, чем выручка от пользователей без подписки. Сделайте вывод.</a></span></li><li><span><a href=\"#Представьте-такую-ситуацию:-техническая-команда-сервиса-обновила-сервера,-с-которыми-взаимодействует-мобильное-приложение.-Она-надеется,-что-из-за-этого-количество-обращений-в-техподдержку-значимо-снизилось.-Некоторый-файл-содержит-для-каждого-пользователя-данные-о-количестве-обращений-до-обновления-и-после-него.-Какой-тест-вам-понадобился-бы-для-проверки-этой-гипотезы?\" data-toc-modified-id=\"Представьте-такую-ситуацию:-техническая-команда-сервиса-обновила-сервера,-с-которыми-взаимодействует-мобильное-приложение.-Она-надеется,-что-из-за-этого-количество-обращений-в-техподдержку-значимо-снизилось.-Некоторый-файл-содержит-для-каждого-пользователя-данные-о-количестве-обращений-до-обновления-и-после-него.-Какой-тест-вам-понадобился-бы-для-проверки-этой-гипотезы?-6.4\"><span class=\"toc-item-num\">6.4&nbsp;&nbsp;</span>Представьте такую ситуацию: техническая команда сервиса обновила сервера, с которыми взаимодействует мобильное приложение. Она надеется, что из-за этого количество обращений в техподдержку значимо снизилось. Некоторый файл содержит для каждого пользователя данные о количестве обращений до обновления и после него. Какой тест вам понадобился бы для проверки этой гипотезы?</a></span></li></ul></li><li><span><a href=\"#Выводы\" data-toc-modified-id=\"Выводы-7\"><span class=\"toc-item-num\">7&nbsp;&nbsp;</span>Выводы</a></span></li></ul></div>"
   ]
  },
  {
   "cell_type": "markdown",
   "id": "b22917c5",
   "metadata": {},
   "source": [
    "## Загрузка данных"
   ]
  },
  {
   "cell_type": "code",
   "execution_count": 1,
   "id": "fa021221",
   "metadata": {},
   "outputs": [],
   "source": [
    "import pandas as pd"
   ]
  },
  {
   "cell_type": "code",
   "execution_count": 2,
   "id": "6497d70f",
   "metadata": {},
   "outputs": [],
   "source": [
    "import matplotlib.pyplot as plt"
   ]
  },
  {
   "cell_type": "code",
   "execution_count": 3,
   "id": "1f94bc29",
   "metadata": {},
   "outputs": [],
   "source": [
    "import numpy as np"
   ]
  },
  {
   "cell_type": "code",
   "execution_count": 4,
   "id": "a2c89b83",
   "metadata": {},
   "outputs": [],
   "source": [
    "from scipy import stats as st"
   ]
  },
  {
   "cell_type": "code",
   "execution_count": 5,
   "id": "33441e0e",
   "metadata": {},
   "outputs": [],
   "source": [
    "from math import factorial"
   ]
  },
  {
   "cell_type": "markdown",
   "id": "8cdf07b6",
   "metadata": {},
   "source": [
    "### Считаем CSV-файлы с данными с помощью библиотеки pandas и сохраняем их в датафреймы. "
   ]
  },
  {
   "cell_type": "markdown",
   "id": "e69e0e3c",
   "metadata": {},
   "source": [
    "В основных данных есть информация о пользователях, их поездках и подписках. Пути к файлам:\n",
    "- /datasets/users_go.csv\n",
    "- /datasets/rides_go.csv\n",
    "- /datasets/subscriptions_go.csv"
   ]
  },
  {
   "cell_type": "code",
   "execution_count": 6,
   "id": "d474991a",
   "metadata": {},
   "outputs": [],
   "source": [
    "users_data = pd.read_csv('/datasets/users_go.csv')"
   ]
  },
  {
   "cell_type": "code",
   "execution_count": 7,
   "id": "c8c13349",
   "metadata": {},
   "outputs": [],
   "source": [
    "rides_data = pd.read_csv('/datasets/rides_go.csv')"
   ]
  },
  {
   "cell_type": "code",
   "execution_count": 8,
   "id": "6fbe3b83",
   "metadata": {},
   "outputs": [],
   "source": [
    "subscriptions_data = pd.read_csv('/datasets/subscriptions_go.csv')"
   ]
  },
  {
   "cell_type": "markdown",
   "id": "65df3bd0",
   "metadata": {},
   "source": [
    "### Выводим первые строки каждого набора данных. Изучаем общую информацию о каждом датафрейме."
   ]
  },
  {
   "cell_type": "markdown",
   "id": "d1711106",
   "metadata": {},
   "source": [
    "#### Пользователи"
   ]
  },
  {
   "cell_type": "code",
   "execution_count": 9,
   "id": "ac570b39",
   "metadata": {
    "scrolled": true
   },
   "outputs": [
    {
     "name": "stdout",
     "output_type": "stream",
     "text": [
      "<class 'pandas.core.frame.DataFrame'>\n",
      "RangeIndex: 1565 entries, 0 to 1564\n",
      "Data columns (total 5 columns):\n",
      " #   Column             Non-Null Count  Dtype \n",
      "---  ------             --------------  ----- \n",
      " 0   user_id            1565 non-null   int64 \n",
      " 1   name               1565 non-null   object\n",
      " 2   age                1565 non-null   int64 \n",
      " 3   city               1565 non-null   object\n",
      " 4   subscription_type  1565 non-null   object\n",
      "dtypes: int64(2), object(3)\n",
      "memory usage: 61.3+ KB\n"
     ]
    },
    {
     "data": {
      "text/html": [
       "<div>\n",
       "<style scoped>\n",
       "    .dataframe tbody tr th:only-of-type {\n",
       "        vertical-align: middle;\n",
       "    }\n",
       "\n",
       "    .dataframe tbody tr th {\n",
       "        vertical-align: top;\n",
       "    }\n",
       "\n",
       "    .dataframe thead th {\n",
       "        text-align: right;\n",
       "    }\n",
       "</style>\n",
       "<table border=\"1\" class=\"dataframe\">\n",
       "  <thead>\n",
       "    <tr style=\"text-align: right;\">\n",
       "      <th></th>\n",
       "      <th>user_id</th>\n",
       "      <th>name</th>\n",
       "      <th>age</th>\n",
       "      <th>city</th>\n",
       "      <th>subscription_type</th>\n",
       "    </tr>\n",
       "  </thead>\n",
       "  <tbody>\n",
       "    <tr>\n",
       "      <th>0</th>\n",
       "      <td>1</td>\n",
       "      <td>Кира</td>\n",
       "      <td>22</td>\n",
       "      <td>Тюмень</td>\n",
       "      <td>ultra</td>\n",
       "    </tr>\n",
       "    <tr>\n",
       "      <th>1</th>\n",
       "      <td>2</td>\n",
       "      <td>Станислав</td>\n",
       "      <td>31</td>\n",
       "      <td>Омск</td>\n",
       "      <td>ultra</td>\n",
       "    </tr>\n",
       "    <tr>\n",
       "      <th>2</th>\n",
       "      <td>3</td>\n",
       "      <td>Алексей</td>\n",
       "      <td>20</td>\n",
       "      <td>Москва</td>\n",
       "      <td>ultra</td>\n",
       "    </tr>\n",
       "    <tr>\n",
       "      <th>3</th>\n",
       "      <td>4</td>\n",
       "      <td>Константин</td>\n",
       "      <td>26</td>\n",
       "      <td>Ростов-на-Дону</td>\n",
       "      <td>ultra</td>\n",
       "    </tr>\n",
       "    <tr>\n",
       "      <th>4</th>\n",
       "      <td>5</td>\n",
       "      <td>Адель</td>\n",
       "      <td>28</td>\n",
       "      <td>Омск</td>\n",
       "      <td>ultra</td>\n",
       "    </tr>\n",
       "  </tbody>\n",
       "</table>\n",
       "</div>"
      ],
      "text/plain": [
       "   user_id        name  age            city subscription_type\n",
       "0        1        Кира   22          Тюмень             ultra\n",
       "1        2   Станислав   31            Омск             ultra\n",
       "2        3     Алексей   20          Москва             ultra\n",
       "3        4  Константин   26  Ростов-на-Дону             ultra\n",
       "4        5       Адель   28            Омск             ultra"
      ]
     },
     "execution_count": 9,
     "metadata": {},
     "output_type": "execute_result"
    }
   ],
   "source": [
    "users_data.info()\n",
    "users_data.head()"
   ]
  },
  {
   "cell_type": "markdown",
   "id": "6a3a3dfc",
   "metadata": {},
   "source": [
    "Дана таблица из 5 колонок: \n",
    "- `user_id` - **уникальный идентификатор пользователя**, целое число\n",
    "- `name` - **имя пользователя**, текст\n",
    "- `age` - **возраст**, целое число\n",
    "- `city` - **город**, текст\n",
    "- `subscription_type` - **тип подписки (free, ultra)**, текст\n",
    "\n",
    "В каждой колонке 1565 ячеек, все заполнены. Где `free` -без подписки, `ultra` - с подпиской."
   ]
  },
  {
   "cell_type": "markdown",
   "id": "5cc55ac7",
   "metadata": {},
   "source": [
    "#### Поездки"
   ]
  },
  {
   "cell_type": "code",
   "execution_count": 10,
   "id": "780f1f01",
   "metadata": {
    "scrolled": true
   },
   "outputs": [
    {
     "name": "stdout",
     "output_type": "stream",
     "text": [
      "<class 'pandas.core.frame.DataFrame'>\n",
      "RangeIndex: 18068 entries, 0 to 18067\n",
      "Data columns (total 4 columns):\n",
      " #   Column    Non-Null Count  Dtype  \n",
      "---  ------    --------------  -----  \n",
      " 0   user_id   18068 non-null  int64  \n",
      " 1   distance  18068 non-null  float64\n",
      " 2   duration  18068 non-null  float64\n",
      " 3   date      18068 non-null  object \n",
      "dtypes: float64(2), int64(1), object(1)\n",
      "memory usage: 564.8+ KB\n"
     ]
    },
    {
     "data": {
      "text/html": [
       "<div>\n",
       "<style scoped>\n",
       "    .dataframe tbody tr th:only-of-type {\n",
       "        vertical-align: middle;\n",
       "    }\n",
       "\n",
       "    .dataframe tbody tr th {\n",
       "        vertical-align: top;\n",
       "    }\n",
       "\n",
       "    .dataframe thead th {\n",
       "        text-align: right;\n",
       "    }\n",
       "</style>\n",
       "<table border=\"1\" class=\"dataframe\">\n",
       "  <thead>\n",
       "    <tr style=\"text-align: right;\">\n",
       "      <th></th>\n",
       "      <th>user_id</th>\n",
       "      <th>distance</th>\n",
       "      <th>duration</th>\n",
       "      <th>date</th>\n",
       "    </tr>\n",
       "  </thead>\n",
       "  <tbody>\n",
       "    <tr>\n",
       "      <th>0</th>\n",
       "      <td>1</td>\n",
       "      <td>4409.919140</td>\n",
       "      <td>25.599769</td>\n",
       "      <td>2021-01-01</td>\n",
       "    </tr>\n",
       "    <tr>\n",
       "      <th>1</th>\n",
       "      <td>1</td>\n",
       "      <td>2617.592153</td>\n",
       "      <td>15.816871</td>\n",
       "      <td>2021-01-18</td>\n",
       "    </tr>\n",
       "    <tr>\n",
       "      <th>2</th>\n",
       "      <td>1</td>\n",
       "      <td>754.159807</td>\n",
       "      <td>6.232113</td>\n",
       "      <td>2021-04-20</td>\n",
       "    </tr>\n",
       "    <tr>\n",
       "      <th>3</th>\n",
       "      <td>1</td>\n",
       "      <td>2694.783254</td>\n",
       "      <td>18.511000</td>\n",
       "      <td>2021-08-11</td>\n",
       "    </tr>\n",
       "    <tr>\n",
       "      <th>4</th>\n",
       "      <td>1</td>\n",
       "      <td>4028.687306</td>\n",
       "      <td>26.265803</td>\n",
       "      <td>2021-08-28</td>\n",
       "    </tr>\n",
       "  </tbody>\n",
       "</table>\n",
       "</div>"
      ],
      "text/plain": [
       "   user_id     distance   duration        date\n",
       "0        1  4409.919140  25.599769  2021-01-01\n",
       "1        1  2617.592153  15.816871  2021-01-18\n",
       "2        1   754.159807   6.232113  2021-04-20\n",
       "3        1  2694.783254  18.511000  2021-08-11\n",
       "4        1  4028.687306  26.265803  2021-08-28"
      ]
     },
     "execution_count": 10,
     "metadata": {},
     "output_type": "execute_result"
    }
   ],
   "source": [
    "rides_data.info()\n",
    "rides_data.head()"
   ]
  },
  {
   "cell_type": "markdown",
   "id": "26854ea9",
   "metadata": {},
   "source": [
    "Дана таблица из 4 колонок: \n",
    "- `user_id` - **уникальный идентификатор пользователя**, целое число\n",
    "- `distance` - **расстояние, которое пользователь проехал в текущей сессии (в метрах)**, число с плавающей точкой\n",
    "- `duration` - **продолжительность сессии (в минутах) — время с того момента, как пользователь нажал кнопку «Начать поездку» до момента, как он нажал кнопку «Завершить поездку»**, число с плавающей точкой\n",
    "- `date` - **дата совершения поездки**, текст\n",
    "\n",
    "В каждой колонке 18068 ячеек, все заполнены. Колонку с датой нужно преобразовать в `datetime64`, для удобной работы дальше."
   ]
  },
  {
   "cell_type": "markdown",
   "id": "44509b8f",
   "metadata": {},
   "source": [
    "#### Подписки"
   ]
  },
  {
   "cell_type": "code",
   "execution_count": 11,
   "id": "0e4be4fd",
   "metadata": {
    "scrolled": true
   },
   "outputs": [
    {
     "name": "stdout",
     "output_type": "stream",
     "text": [
      "<class 'pandas.core.frame.DataFrame'>\n",
      "RangeIndex: 2 entries, 0 to 1\n",
      "Data columns (total 4 columns):\n",
      " #   Column             Non-Null Count  Dtype \n",
      "---  ------             --------------  ----- \n",
      " 0   subscription_type  2 non-null      object\n",
      " 1   minute_price       2 non-null      int64 \n",
      " 2   start_ride_price   2 non-null      int64 \n",
      " 3   subscription_fee   2 non-null      int64 \n",
      "dtypes: int64(3), object(1)\n",
      "memory usage: 192.0+ bytes\n"
     ]
    },
    {
     "data": {
      "text/html": [
       "<div>\n",
       "<style scoped>\n",
       "    .dataframe tbody tr th:only-of-type {\n",
       "        vertical-align: middle;\n",
       "    }\n",
       "\n",
       "    .dataframe tbody tr th {\n",
       "        vertical-align: top;\n",
       "    }\n",
       "\n",
       "    .dataframe thead th {\n",
       "        text-align: right;\n",
       "    }\n",
       "</style>\n",
       "<table border=\"1\" class=\"dataframe\">\n",
       "  <thead>\n",
       "    <tr style=\"text-align: right;\">\n",
       "      <th></th>\n",
       "      <th>subscription_type</th>\n",
       "      <th>minute_price</th>\n",
       "      <th>start_ride_price</th>\n",
       "      <th>subscription_fee</th>\n",
       "    </tr>\n",
       "  </thead>\n",
       "  <tbody>\n",
       "    <tr>\n",
       "      <th>0</th>\n",
       "      <td>free</td>\n",
       "      <td>8</td>\n",
       "      <td>50</td>\n",
       "      <td>0</td>\n",
       "    </tr>\n",
       "    <tr>\n",
       "      <th>1</th>\n",
       "      <td>ultra</td>\n",
       "      <td>6</td>\n",
       "      <td>0</td>\n",
       "      <td>199</td>\n",
       "    </tr>\n",
       "  </tbody>\n",
       "</table>\n",
       "</div>"
      ],
      "text/plain": [
       "  subscription_type  minute_price  start_ride_price  subscription_fee\n",
       "0              free             8                50                 0\n",
       "1             ultra             6                 0               199"
      ]
     },
     "execution_count": 11,
     "metadata": {},
     "output_type": "execute_result"
    }
   ],
   "source": [
    "subscriptions_data.info()\n",
    "subscriptions_data.head()"
   ]
  },
  {
   "cell_type": "markdown",
   "id": "39f02fe5",
   "metadata": {},
   "source": [
    "Дана таблица из 4 колонок: \n",
    "- `subscription_type` - **тип подписки**, текст\n",
    "- `minute_price` - **стоимость одной минуты поездки по данной подписке**, целое число\n",
    "- `start_ride_price` - **стоимость начала поездки**, целое число\n",
    "- `subscription_fee` - **стоимость ежемесячного платежа**, целое число\n",
    "\n",
    "В каждой колонке 2 ячейки, все заполнены."
   ]
  },
  {
   "cell_type": "markdown",
   "id": "dc2226a4",
   "metadata": {},
   "source": [
    "## Предобработка данных"
   ]
  },
  {
   "cell_type": "markdown",
   "id": "42eaddb6",
   "metadata": {},
   "source": [
    "### Приводим столбец date к типу даты pandas."
   ]
  },
  {
   "cell_type": "code",
   "execution_count": 12,
   "id": "4f84d894",
   "metadata": {},
   "outputs": [],
   "source": [
    "rides_data['date'] = pd.to_datetime(rides_data['date'], format='%Y.%m.%d %H:%M:%S')"
   ]
  },
  {
   "cell_type": "code",
   "execution_count": 13,
   "id": "3ea87783",
   "metadata": {},
   "outputs": [
    {
     "name": "stdout",
     "output_type": "stream",
     "text": [
      "<class 'pandas.core.frame.DataFrame'>\n",
      "RangeIndex: 18068 entries, 0 to 18067\n",
      "Data columns (total 4 columns):\n",
      " #   Column    Non-Null Count  Dtype         \n",
      "---  ------    --------------  -----         \n",
      " 0   user_id   18068 non-null  int64         \n",
      " 1   distance  18068 non-null  float64       \n",
      " 2   duration  18068 non-null  float64       \n",
      " 3   date      18068 non-null  datetime64[ns]\n",
      "dtypes: datetime64[ns](1), float64(2), int64(1)\n",
      "memory usage: 564.8 KB\n"
     ]
    }
   ],
   "source": [
    "rides_data.info()"
   ]
  },
  {
   "cell_type": "markdown",
   "id": "0f7320f7",
   "metadata": {},
   "source": [
    "### Создаем новый столбец с номером месяца на основе столбца date."
   ]
  },
  {
   "cell_type": "code",
   "execution_count": 14,
   "id": "5864b9c9",
   "metadata": {},
   "outputs": [
    {
     "data": {
      "text/html": [
       "<div>\n",
       "<style scoped>\n",
       "    .dataframe tbody tr th:only-of-type {\n",
       "        vertical-align: middle;\n",
       "    }\n",
       "\n",
       "    .dataframe tbody tr th {\n",
       "        vertical-align: top;\n",
       "    }\n",
       "\n",
       "    .dataframe thead th {\n",
       "        text-align: right;\n",
       "    }\n",
       "</style>\n",
       "<table border=\"1\" class=\"dataframe\">\n",
       "  <thead>\n",
       "    <tr style=\"text-align: right;\">\n",
       "      <th></th>\n",
       "      <th>user_id</th>\n",
       "      <th>distance</th>\n",
       "      <th>duration</th>\n",
       "      <th>date</th>\n",
       "      <th>month</th>\n",
       "    </tr>\n",
       "  </thead>\n",
       "  <tbody>\n",
       "    <tr>\n",
       "      <th>0</th>\n",
       "      <td>1</td>\n",
       "      <td>4409.919140</td>\n",
       "      <td>25.599769</td>\n",
       "      <td>2021-01-01</td>\n",
       "      <td>1</td>\n",
       "    </tr>\n",
       "    <tr>\n",
       "      <th>1</th>\n",
       "      <td>1</td>\n",
       "      <td>2617.592153</td>\n",
       "      <td>15.816871</td>\n",
       "      <td>2021-01-18</td>\n",
       "      <td>1</td>\n",
       "    </tr>\n",
       "    <tr>\n",
       "      <th>2</th>\n",
       "      <td>1</td>\n",
       "      <td>754.159807</td>\n",
       "      <td>6.232113</td>\n",
       "      <td>2021-04-20</td>\n",
       "      <td>4</td>\n",
       "    </tr>\n",
       "    <tr>\n",
       "      <th>3</th>\n",
       "      <td>1</td>\n",
       "      <td>2694.783254</td>\n",
       "      <td>18.511000</td>\n",
       "      <td>2021-08-11</td>\n",
       "      <td>8</td>\n",
       "    </tr>\n",
       "    <tr>\n",
       "      <th>4</th>\n",
       "      <td>1</td>\n",
       "      <td>4028.687306</td>\n",
       "      <td>26.265803</td>\n",
       "      <td>2021-08-28</td>\n",
       "      <td>8</td>\n",
       "    </tr>\n",
       "  </tbody>\n",
       "</table>\n",
       "</div>"
      ],
      "text/plain": [
       "   user_id     distance   duration       date  month\n",
       "0        1  4409.919140  25.599769 2021-01-01      1\n",
       "1        1  2617.592153  15.816871 2021-01-18      1\n",
       "2        1   754.159807   6.232113 2021-04-20      4\n",
       "3        1  2694.783254  18.511000 2021-08-11      8\n",
       "4        1  4028.687306  26.265803 2021-08-28      8"
      ]
     },
     "execution_count": 14,
     "metadata": {},
     "output_type": "execute_result"
    }
   ],
   "source": [
    "rides_data['month'] = pd.DatetimeIndex(rides_data['date']).month\n",
    "rides_data.head()"
   ]
  },
  {
   "cell_type": "code",
   "execution_count": 15,
   "id": "fd05a945",
   "metadata": {
    "scrolled": true
   },
   "outputs": [
    {
     "name": "stdout",
     "output_type": "stream",
     "text": [
      "Период даты с 2021-01-01 00:00:00 до 2021-12-30 00:00:00\n"
     ]
    }
   ],
   "source": [
    "print(f\"Период даты с {rides_data['date'].min()} до {rides_data['date'].max()}\")"
   ]
  },
  {
   "cell_type": "markdown",
   "id": "6afadf7a",
   "metadata": {},
   "source": [
    "В таблице приведены даты с 1 января по 30 декабря одного 2021 года."
   ]
  },
  {
   "cell_type": "markdown",
   "id": "98e95e1b",
   "metadata": {},
   "source": [
    "### Проверяем наличие пропущенных значений и дубликатов в датафреймах. Обработаем их, если такие значения присутствуют."
   ]
  },
  {
   "cell_type": "markdown",
   "id": "10e708b7",
   "metadata": {},
   "source": [
    "#### Поиск пропусков"
   ]
  },
  {
   "cell_type": "code",
   "execution_count": 16,
   "id": "2d7f7927",
   "metadata": {},
   "outputs": [
    {
     "data": {
      "text/plain": [
       "user_id              0\n",
       "name                 0\n",
       "age                  0\n",
       "city                 0\n",
       "subscription_type    0\n",
       "dtype: int64"
      ]
     },
     "execution_count": 16,
     "metadata": {},
     "output_type": "execute_result"
    }
   ],
   "source": [
    "users_data.isna().sum() # пропуски в \"пользователях\""
   ]
  },
  {
   "cell_type": "code",
   "execution_count": 17,
   "id": "bb645251",
   "metadata": {},
   "outputs": [
    {
     "data": {
      "text/plain": [
       "user_id     0\n",
       "distance    0\n",
       "duration    0\n",
       "date        0\n",
       "month       0\n",
       "dtype: int64"
      ]
     },
     "execution_count": 17,
     "metadata": {},
     "output_type": "execute_result"
    }
   ],
   "source": [
    "rides_data.isna().sum() # пропуски в \"поездках\""
   ]
  },
  {
   "cell_type": "code",
   "execution_count": 18,
   "id": "12c65a1d",
   "metadata": {},
   "outputs": [
    {
     "data": {
      "text/plain": [
       "subscription_type    0\n",
       "minute_price         0\n",
       "start_ride_price     0\n",
       "subscription_fee     0\n",
       "dtype: int64"
      ]
     },
     "execution_count": 18,
     "metadata": {},
     "output_type": "execute_result"
    }
   ],
   "source": [
    "subscriptions_data.isna().sum() # пропуски в \"подписках\""
   ]
  },
  {
   "cell_type": "markdown",
   "id": "31c4948e",
   "metadata": {},
   "source": [
    "#### Поиск дубликатов"
   ]
  },
  {
   "cell_type": "code",
   "execution_count": 19,
   "id": "215f5782",
   "metadata": {},
   "outputs": [
    {
     "data": {
      "text/plain": [
       "31"
      ]
     },
     "execution_count": 19,
     "metadata": {},
     "output_type": "execute_result"
    }
   ],
   "source": [
    "users_data.duplicated().sum()"
   ]
  },
  {
   "cell_type": "code",
   "execution_count": 20,
   "id": "af3a7810",
   "metadata": {},
   "outputs": [],
   "source": [
    "users_data = users_data.drop_duplicates().reset_index(drop=True) # удаляем дубликаты, сбрасываем индекс"
   ]
  },
  {
   "cell_type": "code",
   "execution_count": 21,
   "id": "09901448",
   "metadata": {},
   "outputs": [
    {
     "data": {
      "text/plain": [
       "0"
      ]
     },
     "execution_count": 21,
     "metadata": {},
     "output_type": "execute_result"
    }
   ],
   "source": [
    "users_data.duplicated().sum() # проверяем"
   ]
  },
  {
   "cell_type": "code",
   "execution_count": 22,
   "id": "0ee4c049",
   "metadata": {},
   "outputs": [
    {
     "data": {
      "text/plain": [
       "0"
      ]
     },
     "execution_count": 22,
     "metadata": {},
     "output_type": "execute_result"
    }
   ],
   "source": [
    "rides_data.duplicated().sum()"
   ]
  },
  {
   "cell_type": "code",
   "execution_count": 23,
   "id": "72521ece",
   "metadata": {},
   "outputs": [
    {
     "data": {
      "text/plain": [
       "0"
      ]
     },
     "execution_count": 23,
     "metadata": {},
     "output_type": "execute_result"
    }
   ],
   "source": [
    "subscriptions_data.duplicated().sum()"
   ]
  },
  {
   "cell_type": "code",
   "execution_count": 24,
   "id": "c91aa49a",
   "metadata": {},
   "outputs": [
    {
     "data": {
      "text/plain": [
       "array(['Тюмень', 'Омск', 'Москва', 'Ростов-на-Дону', 'Краснодар',\n",
       "       'Пятигорск', 'Екатеринбург', 'Сочи'], dtype=object)"
      ]
     },
     "execution_count": 24,
     "metadata": {},
     "output_type": "execute_result"
    }
   ],
   "source": [
    "users_data['city'].unique()"
   ]
  },
  {
   "cell_type": "code",
   "execution_count": 25,
   "id": "3a8bfc91",
   "metadata": {
    "scrolled": true
   },
   "outputs": [
    {
     "data": {
      "text/plain": [
       "array(['ultra', 'free'], dtype=object)"
      ]
     },
     "execution_count": 25,
     "metadata": {},
     "output_type": "execute_result"
    }
   ],
   "source": [
    "users_data['subscription_type'].unique()"
   ]
  },
  {
   "cell_type": "markdown",
   "id": "5fc00f27",
   "metadata": {},
   "source": [
    "**Вывод:** Во всех трех таблицах пропусков не обнаружено. В таблице с пользователями обнаружены 31 явный дубликат, которые были удалены. Не явных дубликатов не нашел."
   ]
  },
  {
   "cell_type": "markdown",
   "id": "41e7665f",
   "metadata": {},
   "source": [
    "## Исследовательский анализ данных"
   ]
  },
  {
   "cell_type": "markdown",
   "id": "bbcc9584",
   "metadata": {},
   "source": [
    "### Частота встречаемости городов"
   ]
  },
  {
   "cell_type": "code",
   "execution_count": 26,
   "id": "2731a2d6",
   "metadata": {
    "scrolled": false
   },
   "outputs": [
    {
     "data": {
      "image/png": "[encoded data removed]",
      "text/plain": [
       "<Figure size 936x360 with 1 Axes>"
      ]
     },
     "metadata": {
      "needs_background": "light"
     },
     "output_type": "display_data"
    }
   ],
   "source": [
    "(users_data['city'].value_counts(ascending=True)\n",
    " .to_frame()\n",
    " .plot(kind='barh', figsize=(13,5), fontsize=16)\n",
    ")\n",
    "plt.title('Частота встречаемости городов', fontsize=16)\n",
    "plt.xlabel('Количество', fontsize=16);"
   ]
  },
  {
   "cell_type": "markdown",
   "id": "79934035",
   "metadata": {},
   "source": [
    "Чаще всего поездки в Пятигорске, меньше всего в Москве."
   ]
  },
  {
   "cell_type": "markdown",
   "id": "68cce05d",
   "metadata": {},
   "source": [
    "### Cоотношение пользователей с подпиской и без подписки"
   ]
  },
  {
   "cell_type": "code",
   "execution_count": 27,
   "id": "583d3f4c",
   "metadata": {},
   "outputs": [
    {
     "data": {
      "image/png": "[encoded data removed]",
      "text/plain": [
       "<Figure size 432x288 with 1 Axes>"
      ]
     },
     "metadata": {},
     "output_type": "display_data"
    }
   ],
   "source": [
    "(users_data['subscription_type'].value_counts()\n",
    " .plot(kind='pie', subplots=True, autopct='%1.1f%%', fontsize=16)\n",
    ")\n",
    "plt.title('Cоотношение пользователей с подпиской и без подписки', fontsize=16)\n",
    "plt.ylabel('Проценты подписки', fontsize=16);"
   ]
  },
  {
   "cell_type": "markdown",
   "id": "d5166c62",
   "metadata": {},
   "source": [
    "Без подписки приблизительно на 8 % выше."
   ]
  },
  {
   "cell_type": "markdown",
   "id": "71aede7a",
   "metadata": {},
   "source": [
    "### Возраст пользователей"
   ]
  },
  {
   "cell_type": "code",
   "execution_count": 28,
   "id": "ff8d345c",
   "metadata": {
    "scrolled": true
   },
   "outputs": [
    {
     "data": {
      "image/png": "[encoded data removed]",
      "text/plain": [
       "<Figure size 936x360 with 1 Axes>"
      ]
     },
     "metadata": {
      "needs_background": "light"
     },
     "output_type": "display_data"
    }
   ],
   "source": [
    "(users_data['age'].to_frame()\n",
    " .plot(kind='hist', figsize=(13,5), fontsize=16, bins=100)\n",
    ")\n",
    "plt.title('Возраст пользователей', fontsize=16)\n",
    "plt.ylabel('Количество', fontsize=16)\n",
    "plt.xlabel('Возраст', fontsize=16);"
   ]
  },
  {
   "cell_type": "markdown",
   "id": "e6ebdff6",
   "metadata": {},
   "source": [
    "Основной возраст с 22 до 28 лет, пик около 25 лет. Минимальный возраст 12 лет, максимальный 43 года."
   ]
  },
  {
   "cell_type": "code",
   "execution_count": 29,
   "id": "df6dbd74",
   "metadata": {
    "scrolled": true
   },
   "outputs": [
    {
     "data": {
      "text/plain": [
       "count    1534.000000\n",
       "mean       24.903520\n",
       "std         4.572367\n",
       "min        12.000000\n",
       "25%        22.000000\n",
       "50%        25.000000\n",
       "75%        28.000000\n",
       "max        43.000000\n",
       "Name: age, dtype: float64"
      ]
     },
     "execution_count": 29,
     "metadata": {},
     "output_type": "execute_result"
    }
   ],
   "source": [
    "users_data['age'].describe()"
   ]
  },
  {
   "cell_type": "markdown",
   "id": "01c53b9f",
   "metadata": {},
   "source": [
    "### Расстояние, которое пользователь преодолел за одну поездку"
   ]
  },
  {
   "cell_type": "code",
   "execution_count": 30,
   "id": "dd24829c",
   "metadata": {},
   "outputs": [
    {
     "data": {
      "image/png": "[encoded data removed]",
      "text/plain": [
       "<Figure size 936x360 with 1 Axes>"
      ]
     },
     "metadata": {
      "needs_background": "light"
     },
     "output_type": "display_data"
    }
   ],
   "source": [
    "(rides_data['distance'].to_frame()\n",
    " .plot(kind='hist', figsize=(13,5), fontsize=16, bins=100)\n",
    ")\n",
    "plt.title('Расстояние, которое пользователь преодолел за одну поездку', fontsize=16)\n",
    "plt.ylabel('Количество', fontsize=16)\n",
    "plt.xlabel('Расстоние в метрах', fontsize=16);"
   ]
  },
  {
   "cell_type": "markdown",
   "id": "4cb10825",
   "metadata": {},
   "source": [
    "Основное расстояние 3 км. Также имеется второй пик,с короткими расстояними."
   ]
  },
  {
   "cell_type": "code",
   "execution_count": 31,
   "id": "678b9e8e",
   "metadata": {},
   "outputs": [
    {
     "data": {
      "text/plain": [
       "count    18068.000000\n",
       "mean      3070.659976\n",
       "std       1116.831209\n",
       "min          0.855683\n",
       "25%       2543.226360\n",
       "50%       3133.609994\n",
       "75%       3776.222735\n",
       "max       7211.007745\n",
       "Name: distance, dtype: float64"
      ]
     },
     "execution_count": 31,
     "metadata": {},
     "output_type": "execute_result"
    }
   ],
   "source": [
    "rides_data['distance'].describe()"
   ]
  },
  {
   "cell_type": "markdown",
   "id": "05e1a41b",
   "metadata": {},
   "source": [
    "### Продолжительность поездок"
   ]
  },
  {
   "cell_type": "code",
   "execution_count": 32,
   "id": "2a26a8f2",
   "metadata": {
    "scrolled": true
   },
   "outputs": [
    {
     "data": {
      "image/png": "[encoded data removed]",
      "text/plain": [
       "<Figure size 936x360 with 1 Axes>"
      ]
     },
     "metadata": {
      "needs_background": "light"
     },
     "output_type": "display_data"
    }
   ],
   "source": [
    "(rides_data['duration'].to_frame()\n",
    " .plot(kind='hist', figsize=(13,5), fontsize=16, bins=100)\n",
    ")\n",
    "plt.title('Продолжительность поездок', fontsize=16)\n",
    "plt.ylabel('Количество', fontsize=16)\n",
    "plt.xlabel('Время в минутах', fontsize=16);"
   ]
  },
  {
   "cell_type": "code",
   "execution_count": 33,
   "id": "34d6de55",
   "metadata": {},
   "outputs": [
    {
     "data": {
      "text/plain": [
       "count    18068.000000\n",
       "mean        17.805011\n",
       "std          6.091051\n",
       "min          0.500000\n",
       "25%         13.597563\n",
       "50%         17.678395\n",
       "75%         21.724800\n",
       "max         40.823963\n",
       "Name: duration, dtype: float64"
      ]
     },
     "execution_count": 33,
     "metadata": {},
     "output_type": "execute_result"
    }
   ],
   "source": [
    "rides_data['duration'].describe()"
   ]
  },
  {
   "cell_type": "markdown",
   "id": "a805e7d8",
   "metadata": {},
   "source": [
    "Основное время 15-20 мин. 100 поездок длительностью в 1 мин. аномалия. Простой и отказ от поездки?"
   ]
  },
  {
   "cell_type": "code",
   "execution_count": 34,
   "id": "169ff1af",
   "metadata": {
    "scrolled": false
   },
   "outputs": [
    {
     "data": {
      "text/html": [
       "<div>\n",
       "<style scoped>\n",
       "    .dataframe tbody tr th:only-of-type {\n",
       "        vertical-align: middle;\n",
       "    }\n",
       "\n",
       "    .dataframe tbody tr th {\n",
       "        vertical-align: top;\n",
       "    }\n",
       "\n",
       "    .dataframe thead th {\n",
       "        text-align: right;\n",
       "    }\n",
       "</style>\n",
       "<table border=\"1\" class=\"dataframe\">\n",
       "  <thead>\n",
       "    <tr style=\"text-align: right;\">\n",
       "      <th></th>\n",
       "      <th>user_id</th>\n",
       "      <th>distance</th>\n",
       "      <th>duration</th>\n",
       "      <th>date</th>\n",
       "      <th>month</th>\n",
       "    </tr>\n",
       "  </thead>\n",
       "  <tbody>\n",
       "    <tr>\n",
       "      <th>6531</th>\n",
       "      <td>701</td>\n",
       "      <td>4196.445201</td>\n",
       "      <td>0.5</td>\n",
       "      <td>2021-08-31</td>\n",
       "      <td>8</td>\n",
       "    </tr>\n",
       "    <tr>\n",
       "      <th>6570</th>\n",
       "      <td>704</td>\n",
       "      <td>4830.824371</td>\n",
       "      <td>0.5</td>\n",
       "      <td>2021-10-14</td>\n",
       "      <td>10</td>\n",
       "    </tr>\n",
       "    <tr>\n",
       "      <th>6680</th>\n",
       "      <td>712</td>\n",
       "      <td>4684.004397</td>\n",
       "      <td>0.5</td>\n",
       "      <td>2021-03-04</td>\n",
       "      <td>3</td>\n",
       "    </tr>\n",
       "    <tr>\n",
       "      <th>6695</th>\n",
       "      <td>713</td>\n",
       "      <td>5215.642710</td>\n",
       "      <td>0.5</td>\n",
       "      <td>2021-02-25</td>\n",
       "      <td>2</td>\n",
       "    </tr>\n",
       "    <tr>\n",
       "      <th>6768</th>\n",
       "      <td>718</td>\n",
       "      <td>5197.436649</td>\n",
       "      <td>0.5</td>\n",
       "      <td>2021-02-11</td>\n",
       "      <td>2</td>\n",
       "    </tr>\n",
       "    <tr>\n",
       "      <th>...</th>\n",
       "      <td>...</td>\n",
       "      <td>...</td>\n",
       "      <td>...</td>\n",
       "      <td>...</td>\n",
       "      <td>...</td>\n",
       "    </tr>\n",
       "    <tr>\n",
       "      <th>17004</th>\n",
       "      <td>1460</td>\n",
       "      <td>5531.335845</td>\n",
       "      <td>0.5</td>\n",
       "      <td>2021-01-19</td>\n",
       "      <td>1</td>\n",
       "    </tr>\n",
       "    <tr>\n",
       "      <th>17242</th>\n",
       "      <td>1477</td>\n",
       "      <td>6724.932981</td>\n",
       "      <td>0.5</td>\n",
       "      <td>2021-01-12</td>\n",
       "      <td>1</td>\n",
       "    </tr>\n",
       "    <tr>\n",
       "      <th>17314</th>\n",
       "      <td>1483</td>\n",
       "      <td>4445.481070</td>\n",
       "      <td>0.5</td>\n",
       "      <td>2021-03-06</td>\n",
       "      <td>3</td>\n",
       "    </tr>\n",
       "    <tr>\n",
       "      <th>17505</th>\n",
       "      <td>1496</td>\n",
       "      <td>5722.551787</td>\n",
       "      <td>0.5</td>\n",
       "      <td>2021-02-14</td>\n",
       "      <td>2</td>\n",
       "    </tr>\n",
       "    <tr>\n",
       "      <th>17909</th>\n",
       "      <td>1524</td>\n",
       "      <td>4103.998874</td>\n",
       "      <td>0.5</td>\n",
       "      <td>2021-06-18</td>\n",
       "      <td>6</td>\n",
       "    </tr>\n",
       "  </tbody>\n",
       "</table>\n",
       "<p>95 rows × 5 columns</p>\n",
       "</div>"
      ],
      "text/plain": [
       "       user_id     distance  duration       date  month\n",
       "6531       701  4196.445201       0.5 2021-08-31      8\n",
       "6570       704  4830.824371       0.5 2021-10-14     10\n",
       "6680       712  4684.004397       0.5 2021-03-04      3\n",
       "6695       713  5215.642710       0.5 2021-02-25      2\n",
       "6768       718  5197.436649       0.5 2021-02-11      2\n",
       "...        ...          ...       ...        ...    ...\n",
       "17004     1460  5531.335845       0.5 2021-01-19      1\n",
       "17242     1477  6724.932981       0.5 2021-01-12      1\n",
       "17314     1483  4445.481070       0.5 2021-03-06      3\n",
       "17505     1496  5722.551787       0.5 2021-02-14      2\n",
       "17909     1524  4103.998874       0.5 2021-06-18      6\n",
       "\n",
       "[95 rows x 5 columns]"
      ]
     },
     "execution_count": 34,
     "metadata": {},
     "output_type": "execute_result"
    }
   ],
   "source": [
    "check = rides_data.query('duration < 2')\n",
    "check"
   ]
  },
  {
   "cell_type": "code",
   "execution_count": 35,
   "id": "4117acd3",
   "metadata": {},
   "outputs": [
    {
     "data": {
      "text/plain": [
       "count      95.000000\n",
       "mean     5113.176549\n",
       "std       658.254104\n",
       "min      4030.308008\n",
       "25%      4611.510820\n",
       "50%      5052.769411\n",
       "75%      5488.459099\n",
       "max      7211.007745\n",
       "Name: distance, dtype: float64"
      ]
     },
     "execution_count": 35,
     "metadata": {},
     "output_type": "execute_result"
    }
   ],
   "source": [
    "check['distance'].describe()"
   ]
  },
  {
   "cell_type": "markdown",
   "id": "c8ee2f4d",
   "metadata": {},
   "source": [
    "## Объединение данных"
   ]
  },
  {
   "cell_type": "markdown",
   "id": "ee1ba5d4",
   "metadata": {},
   "source": [
    "### Объединение данных о пользователях, поездках и подписках в один датафрейм"
   ]
  },
  {
   "cell_type": "code",
   "execution_count": 36,
   "id": "dc3faaa9",
   "metadata": {
    "scrolled": true
   },
   "outputs": [
    {
     "data": {
      "text/html": [
       "<div>\n",
       "<style scoped>\n",
       "    .dataframe tbody tr th:only-of-type {\n",
       "        vertical-align: middle;\n",
       "    }\n",
       "\n",
       "    .dataframe tbody tr th {\n",
       "        vertical-align: top;\n",
       "    }\n",
       "\n",
       "    .dataframe thead th {\n",
       "        text-align: right;\n",
       "    }\n",
       "</style>\n",
       "<table border=\"1\" class=\"dataframe\">\n",
       "  <thead>\n",
       "    <tr style=\"text-align: right;\">\n",
       "      <th></th>\n",
       "      <th>user_id</th>\n",
       "      <th>name</th>\n",
       "      <th>age</th>\n",
       "      <th>city</th>\n",
       "      <th>subscription_type</th>\n",
       "      <th>distance</th>\n",
       "      <th>duration</th>\n",
       "      <th>date</th>\n",
       "      <th>month</th>\n",
       "    </tr>\n",
       "  </thead>\n",
       "  <tbody>\n",
       "    <tr>\n",
       "      <th>0</th>\n",
       "      <td>1</td>\n",
       "      <td>Кира</td>\n",
       "      <td>22</td>\n",
       "      <td>Тюмень</td>\n",
       "      <td>ultra</td>\n",
       "      <td>4409.919140</td>\n",
       "      <td>25.599769</td>\n",
       "      <td>2021-01-01</td>\n",
       "      <td>1</td>\n",
       "    </tr>\n",
       "    <tr>\n",
       "      <th>1</th>\n",
       "      <td>1</td>\n",
       "      <td>Кира</td>\n",
       "      <td>22</td>\n",
       "      <td>Тюмень</td>\n",
       "      <td>ultra</td>\n",
       "      <td>2617.592153</td>\n",
       "      <td>15.816871</td>\n",
       "      <td>2021-01-18</td>\n",
       "      <td>1</td>\n",
       "    </tr>\n",
       "    <tr>\n",
       "      <th>2</th>\n",
       "      <td>1</td>\n",
       "      <td>Кира</td>\n",
       "      <td>22</td>\n",
       "      <td>Тюмень</td>\n",
       "      <td>ultra</td>\n",
       "      <td>754.159807</td>\n",
       "      <td>6.232113</td>\n",
       "      <td>2021-04-20</td>\n",
       "      <td>4</td>\n",
       "    </tr>\n",
       "    <tr>\n",
       "      <th>3</th>\n",
       "      <td>1</td>\n",
       "      <td>Кира</td>\n",
       "      <td>22</td>\n",
       "      <td>Тюмень</td>\n",
       "      <td>ultra</td>\n",
       "      <td>2694.783254</td>\n",
       "      <td>18.511000</td>\n",
       "      <td>2021-08-11</td>\n",
       "      <td>8</td>\n",
       "    </tr>\n",
       "    <tr>\n",
       "      <th>4</th>\n",
       "      <td>1</td>\n",
       "      <td>Кира</td>\n",
       "      <td>22</td>\n",
       "      <td>Тюмень</td>\n",
       "      <td>ultra</td>\n",
       "      <td>4028.687306</td>\n",
       "      <td>26.265803</td>\n",
       "      <td>2021-08-28</td>\n",
       "      <td>8</td>\n",
       "    </tr>\n",
       "  </tbody>\n",
       "</table>\n",
       "</div>"
      ],
      "text/plain": [
       "   user_id  name  age    city subscription_type     distance   duration  \\\n",
       "0        1  Кира   22  Тюмень             ultra  4409.919140  25.599769   \n",
       "1        1  Кира   22  Тюмень             ultra  2617.592153  15.816871   \n",
       "2        1  Кира   22  Тюмень             ultra   754.159807   6.232113   \n",
       "3        1  Кира   22  Тюмень             ultra  2694.783254  18.511000   \n",
       "4        1  Кира   22  Тюмень             ultra  4028.687306  26.265803   \n",
       "\n",
       "        date  month  \n",
       "0 2021-01-01      1  \n",
       "1 2021-01-18      1  \n",
       "2 2021-04-20      4  \n",
       "3 2021-08-11      8  \n",
       "4 2021-08-28      8  "
      ]
     },
     "execution_count": 36,
     "metadata": {},
     "output_type": "execute_result"
    }
   ],
   "source": [
    "data_users_rides = users_data.merge(rides_data, on='user_id')\n",
    "data_users_rides.head()"
   ]
  },
  {
   "cell_type": "code",
   "execution_count": 37,
   "id": "9746915d",
   "metadata": {
    "scrolled": true
   },
   "outputs": [
    {
     "data": {
      "text/html": [
       "<div>\n",
       "<style scoped>\n",
       "    .dataframe tbody tr th:only-of-type {\n",
       "        vertical-align: middle;\n",
       "    }\n",
       "\n",
       "    .dataframe tbody tr th {\n",
       "        vertical-align: top;\n",
       "    }\n",
       "\n",
       "    .dataframe thead th {\n",
       "        text-align: right;\n",
       "    }\n",
       "</style>\n",
       "<table border=\"1\" class=\"dataframe\">\n",
       "  <thead>\n",
       "    <tr style=\"text-align: right;\">\n",
       "      <th></th>\n",
       "      <th>user_id</th>\n",
       "      <th>name</th>\n",
       "      <th>age</th>\n",
       "      <th>city</th>\n",
       "      <th>subscription_type</th>\n",
       "      <th>distance</th>\n",
       "      <th>duration</th>\n",
       "      <th>date</th>\n",
       "      <th>month</th>\n",
       "      <th>minute_price</th>\n",
       "      <th>start_ride_price</th>\n",
       "      <th>subscription_fee</th>\n",
       "    </tr>\n",
       "  </thead>\n",
       "  <tbody>\n",
       "    <tr>\n",
       "      <th>0</th>\n",
       "      <td>1</td>\n",
       "      <td>Кира</td>\n",
       "      <td>22</td>\n",
       "      <td>Тюмень</td>\n",
       "      <td>ultra</td>\n",
       "      <td>4409.919140</td>\n",
       "      <td>25.599769</td>\n",
       "      <td>2021-01-01</td>\n",
       "      <td>1</td>\n",
       "      <td>6</td>\n",
       "      <td>0</td>\n",
       "      <td>199</td>\n",
       "    </tr>\n",
       "    <tr>\n",
       "      <th>1</th>\n",
       "      <td>1</td>\n",
       "      <td>Кира</td>\n",
       "      <td>22</td>\n",
       "      <td>Тюмень</td>\n",
       "      <td>ultra</td>\n",
       "      <td>2617.592153</td>\n",
       "      <td>15.816871</td>\n",
       "      <td>2021-01-18</td>\n",
       "      <td>1</td>\n",
       "      <td>6</td>\n",
       "      <td>0</td>\n",
       "      <td>199</td>\n",
       "    </tr>\n",
       "    <tr>\n",
       "      <th>2</th>\n",
       "      <td>1</td>\n",
       "      <td>Кира</td>\n",
       "      <td>22</td>\n",
       "      <td>Тюмень</td>\n",
       "      <td>ultra</td>\n",
       "      <td>754.159807</td>\n",
       "      <td>6.232113</td>\n",
       "      <td>2021-04-20</td>\n",
       "      <td>4</td>\n",
       "      <td>6</td>\n",
       "      <td>0</td>\n",
       "      <td>199</td>\n",
       "    </tr>\n",
       "    <tr>\n",
       "      <th>3</th>\n",
       "      <td>1</td>\n",
       "      <td>Кира</td>\n",
       "      <td>22</td>\n",
       "      <td>Тюмень</td>\n",
       "      <td>ultra</td>\n",
       "      <td>2694.783254</td>\n",
       "      <td>18.511000</td>\n",
       "      <td>2021-08-11</td>\n",
       "      <td>8</td>\n",
       "      <td>6</td>\n",
       "      <td>0</td>\n",
       "      <td>199</td>\n",
       "    </tr>\n",
       "    <tr>\n",
       "      <th>4</th>\n",
       "      <td>1</td>\n",
       "      <td>Кира</td>\n",
       "      <td>22</td>\n",
       "      <td>Тюмень</td>\n",
       "      <td>ultra</td>\n",
       "      <td>4028.687306</td>\n",
       "      <td>26.265803</td>\n",
       "      <td>2021-08-28</td>\n",
       "      <td>8</td>\n",
       "      <td>6</td>\n",
       "      <td>0</td>\n",
       "      <td>199</td>\n",
       "    </tr>\n",
       "  </tbody>\n",
       "</table>\n",
       "</div>"
      ],
      "text/plain": [
       "   user_id  name  age    city subscription_type     distance   duration  \\\n",
       "0        1  Кира   22  Тюмень             ultra  4409.919140  25.599769   \n",
       "1        1  Кира   22  Тюмень             ultra  2617.592153  15.816871   \n",
       "2        1  Кира   22  Тюмень             ultra   754.159807   6.232113   \n",
       "3        1  Кира   22  Тюмень             ultra  2694.783254  18.511000   \n",
       "4        1  Кира   22  Тюмень             ultra  4028.687306  26.265803   \n",
       "\n",
       "        date  month  minute_price  start_ride_price  subscription_fee  \n",
       "0 2021-01-01      1             6                 0               199  \n",
       "1 2021-01-18      1             6                 0               199  \n",
       "2 2021-04-20      4             6                 0               199  \n",
       "3 2021-08-11      8             6                 0               199  \n",
       "4 2021-08-28      8             6                 0               199  "
      ]
     },
     "execution_count": 37,
     "metadata": {},
     "output_type": "execute_result"
    }
   ],
   "source": [
    "data = data_users_rides.merge(subscriptions_data, on='subscription_type')\n",
    "data.head()"
   ]
  },
  {
   "cell_type": "code",
   "execution_count": 38,
   "id": "3b49df70",
   "metadata": {},
   "outputs": [
    {
     "name": "stdout",
     "output_type": "stream",
     "text": [
      "<class 'pandas.core.frame.DataFrame'>\n",
      "RangeIndex: 18068 entries, 0 to 18067\n",
      "Data columns (total 5 columns):\n",
      " #   Column    Non-Null Count  Dtype         \n",
      "---  ------    --------------  -----         \n",
      " 0   user_id   18068 non-null  int64         \n",
      " 1   distance  18068 non-null  float64       \n",
      " 2   duration  18068 non-null  float64       \n",
      " 3   date      18068 non-null  datetime64[ns]\n",
      " 4   month     18068 non-null  int64         \n",
      "dtypes: datetime64[ns](1), float64(2), int64(2)\n",
      "memory usage: 705.9 KB\n"
     ]
    }
   ],
   "source": [
    "rides_data.info() # таблица пользователей до"
   ]
  },
  {
   "cell_type": "code",
   "execution_count": 39,
   "id": "0308fe4b",
   "metadata": {
    "scrolled": true
   },
   "outputs": [
    {
     "name": "stdout",
     "output_type": "stream",
     "text": [
      "<class 'pandas.core.frame.DataFrame'>\n",
      "Int64Index: 18068 entries, 0 to 18067\n",
      "Data columns (total 12 columns):\n",
      " #   Column             Non-Null Count  Dtype         \n",
      "---  ------             --------------  -----         \n",
      " 0   user_id            18068 non-null  int64         \n",
      " 1   name               18068 non-null  object        \n",
      " 2   age                18068 non-null  int64         \n",
      " 3   city               18068 non-null  object        \n",
      " 4   subscription_type  18068 non-null  object        \n",
      " 5   distance           18068 non-null  float64       \n",
      " 6   duration           18068 non-null  float64       \n",
      " 7   date               18068 non-null  datetime64[ns]\n",
      " 8   month              18068 non-null  int64         \n",
      " 9   minute_price       18068 non-null  int64         \n",
      " 10  start_ride_price   18068 non-null  int64         \n",
      " 11  subscription_fee   18068 non-null  int64         \n",
      "dtypes: datetime64[ns](1), float64(2), int64(6), object(3)\n",
      "memory usage: 1.8+ MB\n"
     ]
    }
   ],
   "source": [
    "data.info() # таблица пользователей после"
   ]
  },
  {
   "cell_type": "markdown",
   "id": "8641d3f3",
   "metadata": {},
   "source": [
    "После объединения получилось 12 колонок на 18068 строк. Все поля заполнены."
   ]
  },
  {
   "cell_type": "markdown",
   "id": "7c6c3b4f",
   "metadata": {},
   "source": [
    "### Создание ещё двух датафреймов из объединенного датафрейма\n",
    "\n"
   ]
  },
  {
   "cell_type": "markdown",
   "id": "f9a1145f",
   "metadata": {},
   "source": [
    "#### c данными о пользователях без подписки"
   ]
  },
  {
   "cell_type": "code",
   "execution_count": 40,
   "id": "370c022d",
   "metadata": {},
   "outputs": [
    {
     "data": {
      "text/html": [
       "<div>\n",
       "<style scoped>\n",
       "    .dataframe tbody tr th:only-of-type {\n",
       "        vertical-align: middle;\n",
       "    }\n",
       "\n",
       "    .dataframe tbody tr th {\n",
       "        vertical-align: top;\n",
       "    }\n",
       "\n",
       "    .dataframe thead th {\n",
       "        text-align: right;\n",
       "    }\n",
       "</style>\n",
       "<table border=\"1\" class=\"dataframe\">\n",
       "  <thead>\n",
       "    <tr style=\"text-align: right;\">\n",
       "      <th></th>\n",
       "      <th>user_id</th>\n",
       "      <th>name</th>\n",
       "      <th>age</th>\n",
       "      <th>city</th>\n",
       "      <th>subscription_type</th>\n",
       "      <th>distance</th>\n",
       "      <th>duration</th>\n",
       "      <th>date</th>\n",
       "      <th>month</th>\n",
       "      <th>minute_price</th>\n",
       "      <th>start_ride_price</th>\n",
       "      <th>subscription_fee</th>\n",
       "    </tr>\n",
       "  </thead>\n",
       "  <tbody>\n",
       "    <tr>\n",
       "      <th>6500</th>\n",
       "      <td>700</td>\n",
       "      <td>Айдар</td>\n",
       "      <td>22</td>\n",
       "      <td>Омск</td>\n",
       "      <td>free</td>\n",
       "      <td>2515.690719</td>\n",
       "      <td>14.944286</td>\n",
       "      <td>2021-01-02</td>\n",
       "      <td>1</td>\n",
       "      <td>8</td>\n",
       "      <td>50</td>\n",
       "      <td>0</td>\n",
       "    </tr>\n",
       "    <tr>\n",
       "      <th>6501</th>\n",
       "      <td>700</td>\n",
       "      <td>Айдар</td>\n",
       "      <td>22</td>\n",
       "      <td>Омск</td>\n",
       "      <td>free</td>\n",
       "      <td>846.932642</td>\n",
       "      <td>16.234663</td>\n",
       "      <td>2021-02-01</td>\n",
       "      <td>2</td>\n",
       "      <td>8</td>\n",
       "      <td>50</td>\n",
       "      <td>0</td>\n",
       "    </tr>\n",
       "    <tr>\n",
       "      <th>6502</th>\n",
       "      <td>700</td>\n",
       "      <td>Айдар</td>\n",
       "      <td>22</td>\n",
       "      <td>Омск</td>\n",
       "      <td>free</td>\n",
       "      <td>4004.434142</td>\n",
       "      <td>20.016628</td>\n",
       "      <td>2021-02-04</td>\n",
       "      <td>2</td>\n",
       "      <td>8</td>\n",
       "      <td>50</td>\n",
       "      <td>0</td>\n",
       "    </tr>\n",
       "    <tr>\n",
       "      <th>6503</th>\n",
       "      <td>700</td>\n",
       "      <td>Айдар</td>\n",
       "      <td>22</td>\n",
       "      <td>Омск</td>\n",
       "      <td>free</td>\n",
       "      <td>1205.911290</td>\n",
       "      <td>9.782872</td>\n",
       "      <td>2021-02-10</td>\n",
       "      <td>2</td>\n",
       "      <td>8</td>\n",
       "      <td>50</td>\n",
       "      <td>0</td>\n",
       "    </tr>\n",
       "    <tr>\n",
       "      <th>6504</th>\n",
       "      <td>700</td>\n",
       "      <td>Айдар</td>\n",
       "      <td>22</td>\n",
       "      <td>Омск</td>\n",
       "      <td>free</td>\n",
       "      <td>3047.379435</td>\n",
       "      <td>17.427673</td>\n",
       "      <td>2021-02-14</td>\n",
       "      <td>2</td>\n",
       "      <td>8</td>\n",
       "      <td>50</td>\n",
       "      <td>0</td>\n",
       "    </tr>\n",
       "  </tbody>\n",
       "</table>\n",
       "</div>"
      ],
      "text/plain": [
       "      user_id   name  age  city subscription_type     distance   duration  \\\n",
       "6500      700  Айдар   22  Омск              free  2515.690719  14.944286   \n",
       "6501      700  Айдар   22  Омск              free   846.932642  16.234663   \n",
       "6502      700  Айдар   22  Омск              free  4004.434142  20.016628   \n",
       "6503      700  Айдар   22  Омск              free  1205.911290   9.782872   \n",
       "6504      700  Айдар   22  Омск              free  3047.379435  17.427673   \n",
       "\n",
       "           date  month  minute_price  start_ride_price  subscription_fee  \n",
       "6500 2021-01-02      1             8                50                 0  \n",
       "6501 2021-02-01      2             8                50                 0  \n",
       "6502 2021-02-04      2             8                50                 0  \n",
       "6503 2021-02-10      2             8                50                 0  \n",
       "6504 2021-02-14      2             8                50                 0  "
      ]
     },
     "execution_count": 40,
     "metadata": {},
     "output_type": "execute_result"
    }
   ],
   "source": [
    "data_free = data[data['subscription_type'] == 'free']\n",
    "data_free.head()"
   ]
  },
  {
   "cell_type": "markdown",
   "id": "f2a4d681",
   "metadata": {},
   "source": [
    "#### с данными о пользователях с подпиской"
   ]
  },
  {
   "cell_type": "code",
   "execution_count": 41,
   "id": "615b38f8",
   "metadata": {},
   "outputs": [
    {
     "data": {
      "text/html": [
       "<div>\n",
       "<style scoped>\n",
       "    .dataframe tbody tr th:only-of-type {\n",
       "        vertical-align: middle;\n",
       "    }\n",
       "\n",
       "    .dataframe tbody tr th {\n",
       "        vertical-align: top;\n",
       "    }\n",
       "\n",
       "    .dataframe thead th {\n",
       "        text-align: right;\n",
       "    }\n",
       "</style>\n",
       "<table border=\"1\" class=\"dataframe\">\n",
       "  <thead>\n",
       "    <tr style=\"text-align: right;\">\n",
       "      <th></th>\n",
       "      <th>user_id</th>\n",
       "      <th>name</th>\n",
       "      <th>age</th>\n",
       "      <th>city</th>\n",
       "      <th>subscription_type</th>\n",
       "      <th>distance</th>\n",
       "      <th>duration</th>\n",
       "      <th>date</th>\n",
       "      <th>month</th>\n",
       "      <th>minute_price</th>\n",
       "      <th>start_ride_price</th>\n",
       "      <th>subscription_fee</th>\n",
       "    </tr>\n",
       "  </thead>\n",
       "  <tbody>\n",
       "    <tr>\n",
       "      <th>0</th>\n",
       "      <td>1</td>\n",
       "      <td>Кира</td>\n",
       "      <td>22</td>\n",
       "      <td>Тюмень</td>\n",
       "      <td>ultra</td>\n",
       "      <td>4409.919140</td>\n",
       "      <td>25.599769</td>\n",
       "      <td>2021-01-01</td>\n",
       "      <td>1</td>\n",
       "      <td>6</td>\n",
       "      <td>0</td>\n",
       "      <td>199</td>\n",
       "    </tr>\n",
       "    <tr>\n",
       "      <th>1</th>\n",
       "      <td>1</td>\n",
       "      <td>Кира</td>\n",
       "      <td>22</td>\n",
       "      <td>Тюмень</td>\n",
       "      <td>ultra</td>\n",
       "      <td>2617.592153</td>\n",
       "      <td>15.816871</td>\n",
       "      <td>2021-01-18</td>\n",
       "      <td>1</td>\n",
       "      <td>6</td>\n",
       "      <td>0</td>\n",
       "      <td>199</td>\n",
       "    </tr>\n",
       "    <tr>\n",
       "      <th>2</th>\n",
       "      <td>1</td>\n",
       "      <td>Кира</td>\n",
       "      <td>22</td>\n",
       "      <td>Тюмень</td>\n",
       "      <td>ultra</td>\n",
       "      <td>754.159807</td>\n",
       "      <td>6.232113</td>\n",
       "      <td>2021-04-20</td>\n",
       "      <td>4</td>\n",
       "      <td>6</td>\n",
       "      <td>0</td>\n",
       "      <td>199</td>\n",
       "    </tr>\n",
       "    <tr>\n",
       "      <th>3</th>\n",
       "      <td>1</td>\n",
       "      <td>Кира</td>\n",
       "      <td>22</td>\n",
       "      <td>Тюмень</td>\n",
       "      <td>ultra</td>\n",
       "      <td>2694.783254</td>\n",
       "      <td>18.511000</td>\n",
       "      <td>2021-08-11</td>\n",
       "      <td>8</td>\n",
       "      <td>6</td>\n",
       "      <td>0</td>\n",
       "      <td>199</td>\n",
       "    </tr>\n",
       "    <tr>\n",
       "      <th>4</th>\n",
       "      <td>1</td>\n",
       "      <td>Кира</td>\n",
       "      <td>22</td>\n",
       "      <td>Тюмень</td>\n",
       "      <td>ultra</td>\n",
       "      <td>4028.687306</td>\n",
       "      <td>26.265803</td>\n",
       "      <td>2021-08-28</td>\n",
       "      <td>8</td>\n",
       "      <td>6</td>\n",
       "      <td>0</td>\n",
       "      <td>199</td>\n",
       "    </tr>\n",
       "  </tbody>\n",
       "</table>\n",
       "</div>"
      ],
      "text/plain": [
       "   user_id  name  age    city subscription_type     distance   duration  \\\n",
       "0        1  Кира   22  Тюмень             ultra  4409.919140  25.599769   \n",
       "1        1  Кира   22  Тюмень             ultra  2617.592153  15.816871   \n",
       "2        1  Кира   22  Тюмень             ultra   754.159807   6.232113   \n",
       "3        1  Кира   22  Тюмень             ultra  2694.783254  18.511000   \n",
       "4        1  Кира   22  Тюмень             ultra  4028.687306  26.265803   \n",
       "\n",
       "        date  month  minute_price  start_ride_price  subscription_fee  \n",
       "0 2021-01-01      1             6                 0               199  \n",
       "1 2021-01-18      1             6                 0               199  \n",
       "2 2021-04-20      4             6                 0               199  \n",
       "3 2021-08-11      8             6                 0               199  \n",
       "4 2021-08-28      8             6                 0               199  "
      ]
     },
     "execution_count": 41,
     "metadata": {},
     "output_type": "execute_result"
    }
   ],
   "source": [
    "data_ultra = data[data['subscription_type'] == 'ultra']\n",
    "data_ultra.head()"
   ]
  },
  {
   "cell_type": "markdown",
   "id": "f967876a",
   "metadata": {},
   "source": [
    "### Визуализируйте информацию о расстоянии и времени поездок для пользователей обеих категорий"
   ]
  },
  {
   "cell_type": "markdown",
   "id": "bf915e7c",
   "metadata": {},
   "source": [
    "#### Расстояние о пользователях обеих категорий"
   ]
  },
  {
   "cell_type": "code",
   "execution_count": 42,
   "id": "785788cc",
   "metadata": {
    "scrolled": true
   },
   "outputs": [
    {
     "data": {
      "image/png": "[encoded data removed]",
      "text/plain": [
       "<Figure size 936x360 with 1 Axes>"
      ]
     },
     "metadata": {
      "needs_background": "light"
     },
     "output_type": "display_data"
    }
   ],
   "source": [
    "data_free['distance'].plot(kind='hist', figsize=(13,5), fontsize=16, bins=100, label='free', alpha=0.7)\n",
    "data_ultra['distance'].plot(kind='hist', figsize=(13,5), fontsize=16, bins=100, label='ultra', alpha=0.7)\n",
    "plt.title('Расстояние, которое пользователь преодолел за одну поездку', fontsize=16)\n",
    "plt.ylabel('Количество', fontsize=16)\n",
    "plt.xlabel('Расстоние в метрах', fontsize=16)\n",
    "plt.legend();"
   ]
  },
  {
   "cell_type": "markdown",
   "id": "d336c959",
   "metadata": {},
   "source": [
    "#### Время о пользователях обеих категорий"
   ]
  },
  {
   "cell_type": "code",
   "execution_count": 43,
   "id": "a1ac4c9e",
   "metadata": {},
   "outputs": [
    {
     "data": {
      "image/png": "[encoded data removed]",
      "text/plain": [
       "<Figure size 936x360 with 1 Axes>"
      ]
     },
     "metadata": {
      "needs_background": "light"
     },
     "output_type": "display_data"
    }
   ],
   "source": [
    "data_free['duration'].plot(kind='hist', figsize=(13,5), fontsize=16, bins=100, label='free', alpha=0.7)\n",
    "data_ultra['duration'].plot(kind='hist', figsize=(13,5), fontsize=16, bins=100, label='ultra', alpha=0.7)\n",
    "plt.title('Продолжительность поездок', fontsize=16)\n",
    "plt.ylabel('Количество', fontsize=16)\n",
    "plt.xlabel('Время в минутах', fontsize=16)\n",
    "plt.legend();"
   ]
  },
  {
   "cell_type": "markdown",
   "id": "baa56f9f",
   "metadata": {},
   "source": [
    "**Вывод:** Исходя из графиков видно, что расстояния, которые пользователи преодолели за одну поездку, около 3 км. и чуть больше, чаще преобладает у клиентов с подпиской, в остальном, как на коротких, ниже 500 м. так и на длинных, свыше 5 км у клиентов без подписки. По времени можно сказать одинаково, за исключением очень коротких меньше 5 мин. у без подписанных или долгих свыше 35 мин у подписанных."
   ]
  },
  {
   "cell_type": "markdown",
   "id": "b4611f02",
   "metadata": {},
   "source": [
    "## Подсчёт выручки"
   ]
  },
  {
   "cell_type": "markdown",
   "id": "394d64d6",
   "metadata": {},
   "source": [
    "### Создание датафрейма с агрегированными данными о поездках на основе датафрейма с объединёнными данными из шага 4: найти суммарное расстояние, количество поездок и суммарное время для каждого пользователя за каждый месяц."
   ]
  },
  {
   "cell_type": "code",
   "execution_count": 44,
   "id": "f714aeb6",
   "metadata": {},
   "outputs": [],
   "source": [
    "data['duration'] = np.ceil(data['duration']) # округление продолжительности поездок"
   ]
  },
  {
   "cell_type": "code",
   "execution_count": 45,
   "id": "1e24ca32",
   "metadata": {
    "scrolled": false
   },
   "outputs": [
    {
     "data": {
      "text/html": [
       "<div>\n",
       "<style scoped>\n",
       "    .dataframe tbody tr th:only-of-type {\n",
       "        vertical-align: middle;\n",
       "    }\n",
       "\n",
       "    .dataframe tbody tr th {\n",
       "        vertical-align: top;\n",
       "    }\n",
       "\n",
       "    .dataframe thead tr th {\n",
       "        text-align: left;\n",
       "    }\n",
       "\n",
       "    .dataframe thead tr:last-of-type th {\n",
       "        text-align: right;\n",
       "    }\n",
       "</style>\n",
       "<table border=\"1\" class=\"dataframe\">\n",
       "  <thead>\n",
       "    <tr>\n",
       "      <th></th>\n",
       "      <th></th>\n",
       "      <th></th>\n",
       "      <th colspan=\"2\" halign=\"left\">distance</th>\n",
       "      <th>duration</th>\n",
       "      <th>minute_price</th>\n",
       "      <th>start_ride_price</th>\n",
       "      <th>subscription_fee</th>\n",
       "    </tr>\n",
       "    <tr>\n",
       "      <th></th>\n",
       "      <th></th>\n",
       "      <th></th>\n",
       "      <th>count</th>\n",
       "      <th>sum</th>\n",
       "      <th>sum</th>\n",
       "      <th>first</th>\n",
       "      <th>first</th>\n",
       "      <th>first</th>\n",
       "    </tr>\n",
       "    <tr>\n",
       "      <th>user_id</th>\n",
       "      <th>month</th>\n",
       "      <th>subscription_type</th>\n",
       "      <th></th>\n",
       "      <th></th>\n",
       "      <th></th>\n",
       "      <th></th>\n",
       "      <th></th>\n",
       "      <th></th>\n",
       "    </tr>\n",
       "  </thead>\n",
       "  <tbody>\n",
       "    <tr>\n",
       "      <th rowspan=\"5\" valign=\"top\">1</th>\n",
       "      <th>1</th>\n",
       "      <th>ultra</th>\n",
       "      <td>2</td>\n",
       "      <td>7027.511294</td>\n",
       "      <td>42.0</td>\n",
       "      <td>6</td>\n",
       "      <td>0</td>\n",
       "      <td>199</td>\n",
       "    </tr>\n",
       "    <tr>\n",
       "      <th>4</th>\n",
       "      <th>ultra</th>\n",
       "      <td>1</td>\n",
       "      <td>754.159807</td>\n",
       "      <td>7.0</td>\n",
       "      <td>6</td>\n",
       "      <td>0</td>\n",
       "      <td>199</td>\n",
       "    </tr>\n",
       "    <tr>\n",
       "      <th>8</th>\n",
       "      <th>ultra</th>\n",
       "      <td>2</td>\n",
       "      <td>6723.470560</td>\n",
       "      <td>46.0</td>\n",
       "      <td>6</td>\n",
       "      <td>0</td>\n",
       "      <td>199</td>\n",
       "    </tr>\n",
       "    <tr>\n",
       "      <th>10</th>\n",
       "      <th>ultra</th>\n",
       "      <td>2</td>\n",
       "      <td>5809.911100</td>\n",
       "      <td>32.0</td>\n",
       "      <td>6</td>\n",
       "      <td>0</td>\n",
       "      <td>199</td>\n",
       "    </tr>\n",
       "    <tr>\n",
       "      <th>11</th>\n",
       "      <th>ultra</th>\n",
       "      <td>3</td>\n",
       "      <td>7003.499363</td>\n",
       "      <td>56.0</td>\n",
       "      <td>6</td>\n",
       "      <td>0</td>\n",
       "      <td>199</td>\n",
       "    </tr>\n",
       "    <tr>\n",
       "      <th>...</th>\n",
       "      <th>...</th>\n",
       "      <th>...</th>\n",
       "      <td>...</td>\n",
       "      <td>...</td>\n",
       "      <td>...</td>\n",
       "      <td>...</td>\n",
       "      <td>...</td>\n",
       "      <td>...</td>\n",
       "    </tr>\n",
       "    <tr>\n",
       "      <th rowspan=\"5\" valign=\"top\">1534</th>\n",
       "      <th>6</th>\n",
       "      <th>free</th>\n",
       "      <td>2</td>\n",
       "      <td>3409.468534</td>\n",
       "      <td>26.0</td>\n",
       "      <td>8</td>\n",
       "      <td>50</td>\n",
       "      <td>0</td>\n",
       "    </tr>\n",
       "    <tr>\n",
       "      <th>8</th>\n",
       "      <th>free</th>\n",
       "      <td>2</td>\n",
       "      <td>7622.453034</td>\n",
       "      <td>48.0</td>\n",
       "      <td>8</td>\n",
       "      <td>50</td>\n",
       "      <td>0</td>\n",
       "    </tr>\n",
       "    <tr>\n",
       "      <th>9</th>\n",
       "      <th>free</th>\n",
       "      <td>1</td>\n",
       "      <td>4928.173852</td>\n",
       "      <td>23.0</td>\n",
       "      <td>8</td>\n",
       "      <td>50</td>\n",
       "      <td>0</td>\n",
       "    </tr>\n",
       "    <tr>\n",
       "      <th>11</th>\n",
       "      <th>free</th>\n",
       "      <td>4</td>\n",
       "      <td>13350.015305</td>\n",
       "      <td>78.0</td>\n",
       "      <td>8</td>\n",
       "      <td>50</td>\n",
       "      <td>0</td>\n",
       "    </tr>\n",
       "    <tr>\n",
       "      <th>12</th>\n",
       "      <th>free</th>\n",
       "      <td>1</td>\n",
       "      <td>2371.711192</td>\n",
       "      <td>16.0</td>\n",
       "      <td>8</td>\n",
       "      <td>50</td>\n",
       "      <td>0</td>\n",
       "    </tr>\n",
       "  </tbody>\n",
       "</table>\n",
       "<p>11331 rows × 6 columns</p>\n",
       "</div>"
      ],
      "text/plain": [
       "                                distance               duration minute_price  \\\n",
       "                                   count           sum      sum        first   \n",
       "user_id month subscription_type                                                \n",
       "1       1     ultra                    2   7027.511294     42.0            6   \n",
       "        4     ultra                    1    754.159807      7.0            6   \n",
       "        8     ultra                    2   6723.470560     46.0            6   \n",
       "        10    ultra                    2   5809.911100     32.0            6   \n",
       "        11    ultra                    3   7003.499363     56.0            6   \n",
       "...                                  ...           ...      ...          ...   \n",
       "1534    6     free                     2   3409.468534     26.0            8   \n",
       "        8     free                     2   7622.453034     48.0            8   \n",
       "        9     free                     1   4928.173852     23.0            8   \n",
       "        11    free                     4  13350.015305     78.0            8   \n",
       "        12    free                     1   2371.711192     16.0            8   \n",
       "\n",
       "                                start_ride_price subscription_fee  \n",
       "                                           first            first  \n",
       "user_id month subscription_type                                    \n",
       "1       1     ultra                            0              199  \n",
       "        4     ultra                            0              199  \n",
       "        8     ultra                            0              199  \n",
       "        10    ultra                            0              199  \n",
       "        11    ultra                            0              199  \n",
       "...                                          ...              ...  \n",
       "1534    6     free                            50                0  \n",
       "        8     free                            50                0  \n",
       "        9     free                            50                0  \n",
       "        11    free                            50                0  \n",
       "        12    free                            50                0  \n",
       "\n",
       "[11331 rows x 6 columns]"
      ]
     },
     "execution_count": 45,
     "metadata": {},
     "output_type": "execute_result"
    }
   ],
   "source": [
    "month_rides = data.pivot_table(index=['user_id', 'month', 'subscription_type'],\n",
    "                               values=['distance', 'duration', 'minute_price', 'start_ride_price', 'subscription_fee'], \n",
    "                               aggfunc={'distance': ['sum', 'count'], 'duration': 'sum', 'minute_price': 'first', \n",
    "                                        'start_ride_price': 'first', 'subscription_fee': 'first'})\n",
    "month_rides "
   ]
  },
  {
   "cell_type": "markdown",
   "id": "2ce1259e",
   "metadata": {},
   "source": [
    "### Добавление столбца с помесячной выручкой, которую принёс каждый пользователь."
   ]
  },
  {
   "cell_type": "code",
   "execution_count": 46,
   "id": "098155f8",
   "metadata": {},
   "outputs": [
    {
     "data": {
      "text/html": [
       "<div>\n",
       "<style scoped>\n",
       "    .dataframe tbody tr th:only-of-type {\n",
       "        vertical-align: middle;\n",
       "    }\n",
       "\n",
       "    .dataframe tbody tr th {\n",
       "        vertical-align: top;\n",
       "    }\n",
       "\n",
       "    .dataframe thead tr th {\n",
       "        text-align: left;\n",
       "    }\n",
       "\n",
       "    .dataframe thead tr:last-of-type th {\n",
       "        text-align: right;\n",
       "    }\n",
       "</style>\n",
       "<table border=\"1\" class=\"dataframe\">\n",
       "  <thead>\n",
       "    <tr>\n",
       "      <th></th>\n",
       "      <th></th>\n",
       "      <th></th>\n",
       "      <th colspan=\"2\" halign=\"left\">distance</th>\n",
       "      <th>duration</th>\n",
       "      <th>minute_price</th>\n",
       "      <th>start_ride_price</th>\n",
       "      <th>subscription_fee</th>\n",
       "      <th>income</th>\n",
       "    </tr>\n",
       "    <tr>\n",
       "      <th></th>\n",
       "      <th></th>\n",
       "      <th></th>\n",
       "      <th>count</th>\n",
       "      <th>sum</th>\n",
       "      <th>sum</th>\n",
       "      <th>first</th>\n",
       "      <th>first</th>\n",
       "      <th>first</th>\n",
       "      <th></th>\n",
       "    </tr>\n",
       "    <tr>\n",
       "      <th>user_id</th>\n",
       "      <th>month</th>\n",
       "      <th>subscription_type</th>\n",
       "      <th></th>\n",
       "      <th></th>\n",
       "      <th></th>\n",
       "      <th></th>\n",
       "      <th></th>\n",
       "      <th></th>\n",
       "      <th></th>\n",
       "    </tr>\n",
       "  </thead>\n",
       "  <tbody>\n",
       "    <tr>\n",
       "      <th rowspan=\"5\" valign=\"top\">1</th>\n",
       "      <th>1</th>\n",
       "      <th>ultra</th>\n",
       "      <td>2</td>\n",
       "      <td>7027.511294</td>\n",
       "      <td>42.0</td>\n",
       "      <td>6</td>\n",
       "      <td>0</td>\n",
       "      <td>199</td>\n",
       "      <td>451.0</td>\n",
       "    </tr>\n",
       "    <tr>\n",
       "      <th>4</th>\n",
       "      <th>ultra</th>\n",
       "      <td>1</td>\n",
       "      <td>754.159807</td>\n",
       "      <td>7.0</td>\n",
       "      <td>6</td>\n",
       "      <td>0</td>\n",
       "      <td>199</td>\n",
       "      <td>241.0</td>\n",
       "    </tr>\n",
       "    <tr>\n",
       "      <th>8</th>\n",
       "      <th>ultra</th>\n",
       "      <td>2</td>\n",
       "      <td>6723.470560</td>\n",
       "      <td>46.0</td>\n",
       "      <td>6</td>\n",
       "      <td>0</td>\n",
       "      <td>199</td>\n",
       "      <td>475.0</td>\n",
       "    </tr>\n",
       "    <tr>\n",
       "      <th>10</th>\n",
       "      <th>ultra</th>\n",
       "      <td>2</td>\n",
       "      <td>5809.911100</td>\n",
       "      <td>32.0</td>\n",
       "      <td>6</td>\n",
       "      <td>0</td>\n",
       "      <td>199</td>\n",
       "      <td>391.0</td>\n",
       "    </tr>\n",
       "    <tr>\n",
       "      <th>11</th>\n",
       "      <th>ultra</th>\n",
       "      <td>3</td>\n",
       "      <td>7003.499363</td>\n",
       "      <td>56.0</td>\n",
       "      <td>6</td>\n",
       "      <td>0</td>\n",
       "      <td>199</td>\n",
       "      <td>535.0</td>\n",
       "    </tr>\n",
       "    <tr>\n",
       "      <th>...</th>\n",
       "      <th>...</th>\n",
       "      <th>...</th>\n",
       "      <td>...</td>\n",
       "      <td>...</td>\n",
       "      <td>...</td>\n",
       "      <td>...</td>\n",
       "      <td>...</td>\n",
       "      <td>...</td>\n",
       "      <td>...</td>\n",
       "    </tr>\n",
       "    <tr>\n",
       "      <th rowspan=\"5\" valign=\"top\">1534</th>\n",
       "      <th>6</th>\n",
       "      <th>free</th>\n",
       "      <td>2</td>\n",
       "      <td>3409.468534</td>\n",
       "      <td>26.0</td>\n",
       "      <td>8</td>\n",
       "      <td>50</td>\n",
       "      <td>0</td>\n",
       "      <td>308.0</td>\n",
       "    </tr>\n",
       "    <tr>\n",
       "      <th>8</th>\n",
       "      <th>free</th>\n",
       "      <td>2</td>\n",
       "      <td>7622.453034</td>\n",
       "      <td>48.0</td>\n",
       "      <td>8</td>\n",
       "      <td>50</td>\n",
       "      <td>0</td>\n",
       "      <td>484.0</td>\n",
       "    </tr>\n",
       "    <tr>\n",
       "      <th>9</th>\n",
       "      <th>free</th>\n",
       "      <td>1</td>\n",
       "      <td>4928.173852</td>\n",
       "      <td>23.0</td>\n",
       "      <td>8</td>\n",
       "      <td>50</td>\n",
       "      <td>0</td>\n",
       "      <td>234.0</td>\n",
       "    </tr>\n",
       "    <tr>\n",
       "      <th>11</th>\n",
       "      <th>free</th>\n",
       "      <td>4</td>\n",
       "      <td>13350.015305</td>\n",
       "      <td>78.0</td>\n",
       "      <td>8</td>\n",
       "      <td>50</td>\n",
       "      <td>0</td>\n",
       "      <td>824.0</td>\n",
       "    </tr>\n",
       "    <tr>\n",
       "      <th>12</th>\n",
       "      <th>free</th>\n",
       "      <td>1</td>\n",
       "      <td>2371.711192</td>\n",
       "      <td>16.0</td>\n",
       "      <td>8</td>\n",
       "      <td>50</td>\n",
       "      <td>0</td>\n",
       "      <td>178.0</td>\n",
       "    </tr>\n",
       "  </tbody>\n",
       "</table>\n",
       "<p>11331 rows × 7 columns</p>\n",
       "</div>"
      ],
      "text/plain": [
       "                                distance               duration minute_price  \\\n",
       "                                   count           sum      sum        first   \n",
       "user_id month subscription_type                                                \n",
       "1       1     ultra                    2   7027.511294     42.0            6   \n",
       "        4     ultra                    1    754.159807      7.0            6   \n",
       "        8     ultra                    2   6723.470560     46.0            6   \n",
       "        10    ultra                    2   5809.911100     32.0            6   \n",
       "        11    ultra                    3   7003.499363     56.0            6   \n",
       "...                                  ...           ...      ...          ...   \n",
       "1534    6     free                     2   3409.468534     26.0            8   \n",
       "        8     free                     2   7622.453034     48.0            8   \n",
       "        9     free                     1   4928.173852     23.0            8   \n",
       "        11    free                     4  13350.015305     78.0            8   \n",
       "        12    free                     1   2371.711192     16.0            8   \n",
       "\n",
       "                                start_ride_price subscription_fee income  \n",
       "                                           first            first         \n",
       "user_id month subscription_type                                           \n",
       "1       1     ultra                            0              199  451.0  \n",
       "        4     ultra                            0              199  241.0  \n",
       "        8     ultra                            0              199  475.0  \n",
       "        10    ultra                            0              199  391.0  \n",
       "        11    ultra                            0              199  535.0  \n",
       "...                                          ...              ...    ...  \n",
       "1534    6     free                            50                0  308.0  \n",
       "        8     free                            50                0  484.0  \n",
       "        9     free                            50                0  234.0  \n",
       "        11    free                            50                0  824.0  \n",
       "        12    free                            50                0  178.0  \n",
       "\n",
       "[11331 rows x 7 columns]"
      ]
     },
     "execution_count": 46,
     "metadata": {},
     "output_type": "execute_result"
    }
   ],
   "source": [
    "month_rides['income'] = month_rides['distance']['count'] * month_rides['start_ride_price']['first'] \\\n",
    "+ month_rides['duration']['sum'] * month_rides['minute_price']['first'] + month_rides['subscription_fee']['first']\n",
    "month_rides"
   ]
  },
  {
   "cell_type": "markdown",
   "id": "2e685bcb",
   "metadata": {},
   "source": [
    "## Проверка гипотез"
   ]
  },
  {
   "cell_type": "markdown",
   "id": "856f6b2b",
   "metadata": {},
   "source": [
    "Продакт-менеджеры сервиса хотят увеличить количество пользователей с подпиской. Для этого они будут проводить различные акции, но сначала нужно выяснить несколько важных моментов."
   ]
  },
  {
   "cell_type": "markdown",
   "id": "b439a46b",
   "metadata": {},
   "source": [
    "### Важно понять, тратят ли пользователи с подпиской больше времени на поездки? Если да, то пользователи с подпиской могут быть «выгоднее» для компании. Проверьте гипотезу. Используйте исходные данные о продолжительности каждой сессии — отдельно для подписчиков и тех, у кого нет подписки."
   ]
  },
  {
   "cell_type": "markdown",
   "id": "141a0340",
   "metadata": {},
   "source": [
    "**Нулевая гипотеза:** среднее значение времени поездки пользователей с подпиской и без равны.\n",
    "\n",
    "**Альтернативная гипотеза:** среднее значение времени поездки пользователей с подпиской больше среднего значения времени поездки пользователей без подписки."
   ]
  },
  {
   "cell_type": "code",
   "execution_count": 47,
   "id": "42cbafd9",
   "metadata": {},
   "outputs": [
    {
     "name": "stdout",
     "output_type": "stream",
     "text": [
      "среднее первой выборки: 18.54198516280583\n",
      "среднее второй выборки: 17.39090929866399\n",
      "p-значение 1.2804098316645618e-34\n",
      "Отвергаем нулевую гипотезу\n"
     ]
    }
   ],
   "source": [
    "sample1 = data_ultra['duration']\n",
    "sample2 = data_free['duration']\n",
    "print(f'среднее первой выборки: {np.mean(sample1)}')\n",
    "print(f'среднее второй выборки: {np.mean(sample2)}')\n",
    "alpha = 0.05\n",
    "results = st.ttest_ind(sample1, sample2, alternative='greater')\n",
    "print('p-значение', results.pvalue)\n",
    "if results.pvalue < alpha:\n",
    "    print('Отвергаем нулевую гипотезу')\n",
    "else:\n",
    "    print('Не получилось опровергнуть нулевую гипотезу')"
   ]
  },
  {
   "cell_type": "markdown",
   "id": "1c09681b",
   "metadata": {},
   "source": [
    "Вывод: Отвергаем нулевую гипотезу, есть вероятность, что пользователи с подпиской могут быть \"выгоднее\"."
   ]
  },
  {
   "cell_type": "markdown",
   "id": "a971c353",
   "metadata": {},
   "source": [
    "### Расстояние одной поездки в 3130 метров — оптимальное с точки зрения износа самоката. Можно ли сказать, что среднее расстояние, которое проезжают пользователи с подпиской за одну поездку, не превышает 3130 метров? Проверьте гипотезу и сделайте выводы."
   ]
  },
  {
   "cell_type": "markdown",
   "id": "0ae1d8ac",
   "metadata": {},
   "source": [
    "**Нулевая гипотеза:** пользователи с подпиской за одну сессию проезжают 3130 метров.\n",
    "\n",
    "**Альтернативная гипотеза:** пользователи с подпиской за одну сессию проезжают больше 3130 метров."
   ]
  },
  {
   "cell_type": "code",
   "execution_count": 48,
   "id": "9eb5f88f",
   "metadata": {},
   "outputs": [
    {
     "name": "stdout",
     "output_type": "stream",
     "text": [
      "среднее выборки: 3115.4453880370247\n",
      "p-значение 0.9195368847849785\n",
      "Не получилось опровергнуть нулевую гипотезу\n"
     ]
    }
   ],
   "source": [
    "sample = data_ultra['distance']\n",
    "print(f'среднее выборки: {np.mean(sample)}')\n",
    "value = 3130\n",
    "alpha = 0.05\n",
    "results = st.ttest_1samp(sample, value, alternative='greater')\n",
    "print('p-значение', results.pvalue)\n",
    "if results.pvalue < alpha:\n",
    "    print('Отвергаем нулевую гипотезу')\n",
    "else:\n",
    "    print('Не получилось опровергнуть нулевую гипотезу')"
   ]
  },
  {
   "cell_type": "markdown",
   "id": "29a840dd",
   "metadata": {},
   "source": [
    "Вывод: Не получилось опровергнуть нулевую гипотезу, можно сказать, что среднее расстояние, которое проезжают пользователи с подпиской за одну поездку, не превышает 3130 метров."
   ]
  },
  {
   "cell_type": "markdown",
   "id": "67c1005b",
   "metadata": {},
   "source": [
    "### Проверьте гипотезу о том, будет ли помесячная выручка от пользователей с подпиской по месяцам выше, чем выручка от пользователей без подписки. Сделайте вывод."
   ]
  },
  {
   "cell_type": "markdown",
   "id": "73021668",
   "metadata": {},
   "source": [
    "**Нулевая гипотеза:** помесячная выручка от пользователей с подпиской  по месяцам равна выручке от пользователей без подписки.\n",
    "\n",
    "**Альтернативная гипотеза:** помесячная выручка от пользователей с подпиской по месяцам выше, чем выручка от пользователей без подписки."
   ]
  },
  {
   "cell_type": "code",
   "execution_count": 49,
   "id": "b01a8088",
   "metadata": {},
   "outputs": [
    {
     "name": "stdout",
     "output_type": "stream",
     "text": [
      "среднее первой выборки: 362.7921906022502\n",
      "среднее второй выборки: 328.6413651073845\n",
      "p-значение 1.8850394384715216e-31\n",
      "Отвергаем нулевую гипотезу\n"
     ]
    }
   ],
   "source": [
    "sample1 = month_rides.query('subscription_type == \"ultra\"')['income']\n",
    "sample2 = month_rides.query('subscription_type == \"free\"')['income']\n",
    "print(f'среднее первой выборки: {np.mean(sample1)}')\n",
    "print(f'среднее второй выборки: {np.mean(sample2)}')\n",
    "alpha = 0.05\n",
    "results = st.ttest_ind(sample1, sample2, alternative='greater')\n",
    "print('p-значение', results.pvalue)\n",
    "if results.pvalue < alpha:\n",
    "    print('Отвергаем нулевую гипотезу')\n",
    "else:\n",
    "    print('Не получилось опровергнуть нулевую гипотезу')"
   ]
  },
  {
   "cell_type": "markdown",
   "id": "b03e26d8",
   "metadata": {},
   "source": [
    "Вывод: Отвергаем нулевую гипотезу, есть вероятности, что помесячная выручка от пользователей с подпиской по месяцам выше, чем выручка от пользователей без подписки."
   ]
  },
  {
   "cell_type": "markdown",
   "id": "4e0c02e9",
   "metadata": {},
   "source": [
    "### Представьте такую ситуацию: техническая команда сервиса обновила сервера, с которыми взаимодействует мобильное приложение. Она надеется, что из-за этого количество обращений в техподдержку значимо снизилось. Некоторый файл содержит для каждого пользователя данные о количестве обращений до обновления и после него. Какой тест вам понадобился бы для проверки этой гипотезы?"
   ]
  },
  {
   "cell_type": "markdown",
   "id": "969027e5",
   "metadata": {},
   "source": [
    "Двухвыборочный t-тест для зависимых выборок, `st.ttest_rel()`"
   ]
  },
  {
   "cell_type": "markdown",
   "id": "23f11d6f",
   "metadata": {},
   "source": [
    "## Выводы"
   ]
  },
  {
   "cell_type": "markdown",
   "id": "b3ba285f",
   "metadata": {},
   "source": [
    "**Вывод:** Получив данные сервиса аренды самокатов GoFast, в виде трех таблиц: пользователи, поездки и подписки. Провели предобработку: поиск пропусков и удаление дубликатов, а также исследовательский анализ, который показал: \n",
    "- чаще всего поездки совершаются в городе Пятегорске, реже всего в Москве\n",
    "- из 1534 пользователей без подписки 54,4% (835), с подпиской 45,6 (699)\n",
    "- минимальный возраст 12 лет, максимальный 43 года, основной возраст с 22 до 28 лет.\n",
    "- среднее расстояние пользователей 3 с лишним км., продолжительность в среднем около 18 мин.\n",
    "\n",
    "Затем объеденив все данные в одну таблицу и добавив выручку каждого пользователя за месяц как с подпиской, так и без. Проведя проверку гипотез, вероятнее всего, что пользователи с подпиской \"выгодннее\" для компании. Но я рекомендовал бы провести еще анализ после увеличения процента пользователей с подпиской. А также проверить зависимость выручки, платежоспособности по возрастной категории."
   ]
  }
 ],
 "metadata": {
  "ExecuteTimeLog": [
   {
    "duration": 62,
    "start_time": "2024-03-14T12:57:03.820Z"
   },
   {
    "duration": 423,
    "start_time": "2024-03-14T12:57:09.252Z"
   },
   {
    "duration": 84,
    "start_time": "2024-03-14T12:57:11.372Z"
   },
   {
    "duration": 87,
    "start_time": "2024-03-14T12:58:02.467Z"
   },
   {
    "duration": 64,
    "start_time": "2024-03-14T13:01:20.034Z"
   },
   {
    "duration": 439,
    "start_time": "2024-03-14T13:01:25.427Z"
   },
   {
    "duration": 29,
    "start_time": "2024-03-14T13:01:25.868Z"
   },
   {
    "duration": 76,
    "start_time": "2024-03-14T13:01:25.899Z"
   },
   {
    "duration": 15,
    "start_time": "2024-03-14T13:01:25.977Z"
   },
   {
    "duration": 37,
    "start_time": "2024-03-14T13:01:51.297Z"
   },
   {
    "duration": 44,
    "start_time": "2024-03-14T13:02:39.863Z"
   },
   {
    "duration": 29,
    "start_time": "2024-03-14T13:02:43.695Z"
   },
   {
    "duration": 351,
    "start_time": "2024-03-15T02:10:00.618Z"
   },
   {
    "duration": 87,
    "start_time": "2024-03-15T02:10:02.948Z"
   },
   {
    "duration": 33,
    "start_time": "2024-03-15T02:10:27.284Z"
   },
   {
    "duration": 418,
    "start_time": "2024-03-15T02:11:25.953Z"
   },
   {
    "duration": 36,
    "start_time": "2024-03-15T02:11:26.373Z"
   },
   {
    "duration": 85,
    "start_time": "2024-03-15T02:11:26.412Z"
   },
   {
    "duration": 59,
    "start_time": "2024-03-15T02:11:26.499Z"
   },
   {
    "duration": 407,
    "start_time": "2024-03-15T02:12:46.748Z"
   },
   {
    "duration": 45,
    "start_time": "2024-03-15T02:12:47.157Z"
   },
   {
    "duration": 38,
    "start_time": "2024-03-15T02:12:47.204Z"
   },
   {
    "duration": 27,
    "start_time": "2024-03-15T02:12:47.244Z"
   },
   {
    "duration": 386,
    "start_time": "2024-03-15T02:31:17.877Z"
   },
   {
    "duration": 70,
    "start_time": "2024-03-15T02:31:18.265Z"
   },
   {
    "duration": 0,
    "start_time": "2024-03-15T02:31:18.337Z"
   },
   {
    "duration": 0,
    "start_time": "2024-03-15T02:31:18.338Z"
   },
   {
    "duration": 0,
    "start_time": "2024-03-15T02:31:18.339Z"
   },
   {
    "duration": 0,
    "start_time": "2024-03-15T02:31:18.340Z"
   },
   {
    "duration": 0,
    "start_time": "2024-03-15T02:31:18.341Z"
   },
   {
    "duration": 0,
    "start_time": "2024-03-15T02:31:18.341Z"
   },
   {
    "duration": 417,
    "start_time": "2024-03-15T02:50:13.250Z"
   },
   {
    "duration": 29,
    "start_time": "2024-03-15T02:50:13.669Z"
   },
   {
    "duration": 30,
    "start_time": "2024-03-15T02:50:13.700Z"
   },
   {
    "duration": 15,
    "start_time": "2024-03-15T02:50:13.732Z"
   },
   {
    "duration": 22,
    "start_time": "2024-03-15T02:50:13.749Z"
   },
   {
    "duration": 19,
    "start_time": "2024-03-15T02:50:13.773Z"
   },
   {
    "duration": 17,
    "start_time": "2024-03-15T02:50:13.794Z"
   },
   {
    "duration": 401,
    "start_time": "2024-03-15T02:52:31.731Z"
   },
   {
    "duration": 29,
    "start_time": "2024-03-15T02:52:32.134Z"
   },
   {
    "duration": 29,
    "start_time": "2024-03-15T02:52:32.164Z"
   },
   {
    "duration": 15,
    "start_time": "2024-03-15T02:52:32.195Z"
   },
   {
    "duration": 21,
    "start_time": "2024-03-15T02:52:32.211Z"
   },
   {
    "duration": 17,
    "start_time": "2024-03-15T02:52:32.234Z"
   },
   {
    "duration": 17,
    "start_time": "2024-03-15T02:52:32.252Z"
   },
   {
    "duration": 368,
    "start_time": "2024-03-15T10:43:57.323Z"
   },
   {
    "duration": 85,
    "start_time": "2024-03-15T10:43:57.693Z"
   },
   {
    "duration": 157,
    "start_time": "2024-03-15T10:43:57.780Z"
   },
   {
    "duration": 54,
    "start_time": "2024-03-15T10:43:57.939Z"
   },
   {
    "duration": 24,
    "start_time": "2024-03-15T10:43:57.995Z"
   },
   {
    "duration": 33,
    "start_time": "2024-03-15T10:43:58.020Z"
   },
   {
    "duration": 14,
    "start_time": "2024-03-15T10:43:58.055Z"
   },
   {
    "duration": 96,
    "start_time": "2024-03-15T10:43:58.070Z"
   },
   {
    "duration": 97,
    "start_time": "2024-03-15T10:44:42.717Z"
   },
   {
    "duration": 9,
    "start_time": "2024-03-15T10:45:37.895Z"
   },
   {
    "duration": 12,
    "start_time": "2024-03-15T10:45:58.054Z"
   },
   {
    "duration": 6,
    "start_time": "2024-03-15T10:46:19.278Z"
   },
   {
    "duration": 65,
    "start_time": "2024-03-15T10:46:24.758Z"
   },
   {
    "duration": 438,
    "start_time": "2024-03-15T10:46:50.254Z"
   },
   {
    "duration": 29,
    "start_time": "2024-03-15T10:46:50.694Z"
   },
   {
    "duration": 37,
    "start_time": "2024-03-15T10:46:50.724Z"
   },
   {
    "duration": 15,
    "start_time": "2024-03-15T10:46:50.764Z"
   },
   {
    "duration": 24,
    "start_time": "2024-03-15T10:46:50.781Z"
   },
   {
    "duration": 17,
    "start_time": "2024-03-15T10:46:50.807Z"
   },
   {
    "duration": 20,
    "start_time": "2024-03-15T10:46:50.825Z"
   },
   {
    "duration": 10,
    "start_time": "2024-03-15T10:46:50.847Z"
   },
   {
    "duration": 28,
    "start_time": "2024-03-15T10:46:50.859Z"
   },
   {
    "duration": 5,
    "start_time": "2024-03-15T10:49:58.689Z"
   },
   {
    "duration": 12,
    "start_time": "2024-03-15T10:50:16.466Z"
   },
   {
    "duration": 7,
    "start_time": "2024-03-15T10:53:43.655Z"
   },
   {
    "duration": 8,
    "start_time": "2024-03-15T10:54:16.279Z"
   },
   {
    "duration": 6,
    "start_time": "2024-03-15T10:55:08.655Z"
   },
   {
    "duration": 5,
    "start_time": "2024-03-15T11:02:00.083Z"
   },
   {
    "duration": 3,
    "start_time": "2024-03-15T11:03:43.363Z"
   },
   {
    "duration": 3,
    "start_time": "2024-03-15T11:04:41.594Z"
   },
   {
    "duration": 6,
    "start_time": "2024-03-15T11:05:12.081Z"
   },
   {
    "duration": 5,
    "start_time": "2024-03-15T11:10:09.190Z"
   },
   {
    "duration": 4,
    "start_time": "2024-03-15T11:10:29.838Z"
   },
   {
    "duration": 63,
    "start_time": "2024-03-15T11:28:15.514Z"
   },
   {
    "duration": 8,
    "start_time": "2024-03-15T11:28:36.458Z"
   },
   {
    "duration": 5,
    "start_time": "2024-03-15T11:28:45.185Z"
   },
   {
    "duration": 13,
    "start_time": "2024-03-15T11:28:59.778Z"
   },
   {
    "duration": 7,
    "start_time": "2024-03-15T11:29:31.625Z"
   },
   {
    "duration": 6,
    "start_time": "2024-03-15T11:29:38.184Z"
   },
   {
    "duration": 8,
    "start_time": "2024-03-15T11:30:45.544Z"
   },
   {
    "duration": 6,
    "start_time": "2024-03-15T11:30:48.698Z"
   },
   {
    "duration": 6,
    "start_time": "2024-03-15T11:33:54.590Z"
   },
   {
    "duration": 6,
    "start_time": "2024-03-15T11:34:58.542Z"
   },
   {
    "duration": 6,
    "start_time": "2024-03-15T11:35:52.364Z"
   },
   {
    "duration": 6,
    "start_time": "2024-03-15T11:36:11.740Z"
   },
   {
    "duration": 13,
    "start_time": "2024-03-15T11:37:52.724Z"
   },
   {
    "duration": 6,
    "start_time": "2024-03-15T11:37:59.394Z"
   },
   {
    "duration": 2,
    "start_time": "2024-03-15T11:41:18.257Z"
   },
   {
    "duration": 414,
    "start_time": "2024-03-15T11:41:52.387Z"
   },
   {
    "duration": 28,
    "start_time": "2024-03-15T11:41:52.803Z"
   },
   {
    "duration": 28,
    "start_time": "2024-03-15T11:41:52.833Z"
   },
   {
    "duration": 16,
    "start_time": "2024-03-15T11:41:52.863Z"
   },
   {
    "duration": 22,
    "start_time": "2024-03-15T11:41:52.880Z"
   },
   {
    "duration": 17,
    "start_time": "2024-03-15T11:41:52.903Z"
   },
   {
    "duration": 14,
    "start_time": "2024-03-15T11:41:52.921Z"
   },
   {
    "duration": 32,
    "start_time": "2024-03-15T11:41:52.937Z"
   },
   {
    "duration": 16,
    "start_time": "2024-03-15T11:41:52.971Z"
   },
   {
    "duration": 27,
    "start_time": "2024-03-15T11:41:52.990Z"
   },
   {
    "duration": 45,
    "start_time": "2024-03-15T11:41:53.019Z"
   },
   {
    "duration": 14,
    "start_time": "2024-03-15T11:41:53.066Z"
   },
   {
    "duration": 13,
    "start_time": "2024-03-15T11:41:53.082Z"
   },
   {
    "duration": 33,
    "start_time": "2024-03-15T11:41:53.096Z"
   },
   {
    "duration": 5,
    "start_time": "2024-03-15T11:41:53.130Z"
   },
   {
    "duration": 6,
    "start_time": "2024-03-15T11:41:53.136Z"
   },
   {
    "duration": 6,
    "start_time": "2024-03-15T11:41:53.143Z"
   },
   {
    "duration": 14,
    "start_time": "2024-03-15T11:41:53.150Z"
   },
   {
    "duration": 8,
    "start_time": "2024-03-15T11:44:40.801Z"
   },
   {
    "duration": 5,
    "start_time": "2024-03-15T11:45:39.783Z"
   },
   {
    "duration": 4,
    "start_time": "2024-03-15T11:48:14.854Z"
   },
   {
    "duration": 100,
    "start_time": "2024-03-15T11:53:23.881Z"
   },
   {
    "duration": 536,
    "start_time": "2024-03-15T13:07:14.001Z"
   },
   {
    "duration": 147,
    "start_time": "2024-03-15T13:07:37.237Z"
   },
   {
    "duration": 135,
    "start_time": "2024-03-15T13:08:13.880Z"
   },
   {
    "duration": 134,
    "start_time": "2024-03-15T13:37:04.511Z"
   },
   {
    "duration": 123,
    "start_time": "2024-03-15T13:37:25.750Z"
   },
   {
    "duration": 181,
    "start_time": "2024-03-15T13:50:28.246Z"
   },
   {
    "duration": 392,
    "start_time": "2024-03-15T13:52:40.521Z"
   },
   {
    "duration": 265,
    "start_time": "2024-03-15T13:52:40.915Z"
   },
   {
    "duration": 29,
    "start_time": "2024-03-15T13:52:41.182Z"
   },
   {
    "duration": 30,
    "start_time": "2024-03-15T13:52:41.213Z"
   },
   {
    "duration": 15,
    "start_time": "2024-03-15T13:52:41.246Z"
   },
   {
    "duration": 24,
    "start_time": "2024-03-15T13:52:41.262Z"
   },
   {
    "duration": 18,
    "start_time": "2024-03-15T13:52:41.288Z"
   },
   {
    "duration": 16,
    "start_time": "2024-03-15T13:52:41.307Z"
   },
   {
    "duration": 8,
    "start_time": "2024-03-15T13:52:41.325Z"
   },
   {
    "duration": 14,
    "start_time": "2024-03-15T13:52:41.336Z"
   },
   {
    "duration": 12,
    "start_time": "2024-03-15T13:52:41.380Z"
   },
   {
    "duration": 10,
    "start_time": "2024-03-15T13:52:41.394Z"
   },
   {
    "duration": 7,
    "start_time": "2024-03-15T13:52:41.406Z"
   },
   {
    "duration": 6,
    "start_time": "2024-03-15T13:52:41.414Z"
   },
   {
    "duration": 7,
    "start_time": "2024-03-15T13:52:41.421Z"
   },
   {
    "duration": 7,
    "start_time": "2024-03-15T13:52:41.429Z"
   },
   {
    "duration": 43,
    "start_time": "2024-03-15T13:52:41.438Z"
   },
   {
    "duration": 9,
    "start_time": "2024-03-15T13:52:41.483Z"
   },
   {
    "duration": 6,
    "start_time": "2024-03-15T13:52:41.494Z"
   },
   {
    "duration": 9,
    "start_time": "2024-03-15T13:52:41.501Z"
   },
   {
    "duration": 4,
    "start_time": "2024-03-15T13:52:41.511Z"
   },
   {
    "duration": 98,
    "start_time": "2024-03-15T13:52:41.517Z"
   },
   {
    "duration": 0,
    "start_time": "2024-03-15T13:52:41.617Z"
   },
   {
    "duration": 163,
    "start_time": "2024-03-15T13:53:10.669Z"
   },
   {
    "duration": 188,
    "start_time": "2024-03-15T13:53:46.271Z"
   },
   {
    "duration": 135,
    "start_time": "2024-03-15T13:54:14.636Z"
   },
   {
    "duration": 131,
    "start_time": "2024-03-15T13:54:50.962Z"
   },
   {
    "duration": 167,
    "start_time": "2024-03-15T13:54:54.554Z"
   },
   {
    "duration": 156,
    "start_time": "2024-03-15T13:55:14.538Z"
   },
   {
    "duration": 144,
    "start_time": "2024-03-15T13:55:28.521Z"
   },
   {
    "duration": 124,
    "start_time": "2024-03-15T13:56:23.394Z"
   },
   {
    "duration": 147,
    "start_time": "2024-03-15T13:57:11.203Z"
   },
   {
    "duration": 156,
    "start_time": "2024-03-15T13:57:26.761Z"
   },
   {
    "duration": 154,
    "start_time": "2024-03-15T13:58:23.402Z"
   },
   {
    "duration": 172,
    "start_time": "2024-03-15T13:58:31.961Z"
   },
   {
    "duration": 199,
    "start_time": "2024-03-15T13:59:04.258Z"
   },
   {
    "duration": 7,
    "start_time": "2024-03-15T14:11:15.185Z"
   },
   {
    "duration": 6,
    "start_time": "2024-03-15T14:11:39.897Z"
   },
   {
    "duration": 9,
    "start_time": "2024-03-15T14:12:31.536Z"
   },
   {
    "duration": 4,
    "start_time": "2024-03-15T14:12:36.567Z"
   },
   {
    "duration": 109,
    "start_time": "2024-03-15T14:12:38.977Z"
   },
   {
    "duration": 200,
    "start_time": "2024-03-15T14:15:37.582Z"
   },
   {
    "duration": 247,
    "start_time": "2024-03-15T14:16:43.077Z"
   },
   {
    "duration": 140,
    "start_time": "2024-03-15T14:18:15.196Z"
   },
   {
    "duration": 186,
    "start_time": "2024-03-15T14:18:28.555Z"
   },
   {
    "duration": 97,
    "start_time": "2024-03-15T14:18:48.970Z"
   },
   {
    "duration": 194,
    "start_time": "2024-03-15T14:18:57.329Z"
   },
   {
    "duration": 176,
    "start_time": "2024-03-15T14:19:12.010Z"
   },
   {
    "duration": 128,
    "start_time": "2024-03-15T14:50:26.337Z"
   },
   {
    "duration": 124,
    "start_time": "2024-03-15T14:50:40.070Z"
   },
   {
    "duration": 127,
    "start_time": "2024-03-15T14:50:45.598Z"
   },
   {
    "duration": 129,
    "start_time": "2024-03-15T14:51:16.607Z"
   },
   {
    "duration": 125,
    "start_time": "2024-03-15T14:51:24.472Z"
   },
   {
    "duration": 117,
    "start_time": "2024-03-15T14:52:06.078Z"
   },
   {
    "duration": 137,
    "start_time": "2024-03-15T14:53:00.710Z"
   },
   {
    "duration": 241,
    "start_time": "2024-03-15T14:53:38.174Z"
   },
   {
    "duration": 138,
    "start_time": "2024-03-15T14:55:41.148Z"
   },
   {
    "duration": 157,
    "start_time": "2024-03-15T14:58:38.754Z"
   },
   {
    "duration": 162,
    "start_time": "2024-03-15T14:58:57.596Z"
   },
   {
    "duration": 11,
    "start_time": "2024-03-15T15:01:51.041Z"
   },
   {
    "duration": 102,
    "start_time": "2024-03-15T15:02:22.712Z"
   },
   {
    "duration": 10,
    "start_time": "2024-03-15T15:03:47.976Z"
   },
   {
    "duration": 10,
    "start_time": "2024-03-15T15:04:09.552Z"
   },
   {
    "duration": 10,
    "start_time": "2024-03-15T15:04:26.215Z"
   },
   {
    "duration": 11,
    "start_time": "2024-03-15T15:04:52.632Z"
   },
   {
    "duration": 9,
    "start_time": "2024-03-15T15:05:26.807Z"
   },
   {
    "duration": 149,
    "start_time": "2024-03-15T15:05:56.022Z"
   },
   {
    "duration": 207,
    "start_time": "2024-03-15T15:06:20.909Z"
   },
   {
    "duration": 10,
    "start_time": "2024-03-15T15:06:27.622Z"
   },
   {
    "duration": 1562,
    "start_time": "2024-03-15T15:09:12.860Z"
   },
   {
    "duration": 148,
    "start_time": "2024-03-15T15:11:23.699Z"
   },
   {
    "duration": 163,
    "start_time": "2024-03-15T15:26:52.356Z"
   },
   {
    "duration": 253,
    "start_time": "2024-03-15T15:27:08.098Z"
   },
   {
    "duration": 150,
    "start_time": "2024-03-15T15:27:28.914Z"
   },
   {
    "duration": 156,
    "start_time": "2024-03-15T15:27:42.346Z"
   },
   {
    "duration": 165,
    "start_time": "2024-03-15T15:28:05.082Z"
   },
   {
    "duration": 152,
    "start_time": "2024-03-15T15:28:31.051Z"
   },
   {
    "duration": 154,
    "start_time": "2024-03-15T15:28:41.161Z"
   },
   {
    "duration": 148,
    "start_time": "2024-03-15T15:29:00.843Z"
   },
   {
    "duration": 143,
    "start_time": "2024-03-15T15:29:17.969Z"
   },
   {
    "duration": 162,
    "start_time": "2024-03-15T15:29:28.507Z"
   },
   {
    "duration": 164,
    "start_time": "2024-03-15T15:34:49.550Z"
   },
   {
    "duration": 184,
    "start_time": "2024-03-15T15:40:20.051Z"
   },
   {
    "duration": 155,
    "start_time": "2024-03-15T15:41:37.251Z"
   },
   {
    "duration": 242,
    "start_time": "2024-03-15T15:45:37.090Z"
   },
   {
    "duration": 149,
    "start_time": "2024-03-15T15:45:50.343Z"
   },
   {
    "duration": 361,
    "start_time": "2024-03-25T03:06:41.416Z"
   },
   {
    "duration": 370,
    "start_time": "2024-03-25T03:06:41.779Z"
   },
   {
    "duration": 76,
    "start_time": "2024-03-25T03:06:42.150Z"
   },
   {
    "duration": 80,
    "start_time": "2024-03-25T03:06:42.228Z"
   },
   {
    "duration": 60,
    "start_time": "2024-03-25T03:06:42.310Z"
   },
   {
    "duration": 23,
    "start_time": "2024-03-25T03:06:42.372Z"
   },
   {
    "duration": 17,
    "start_time": "2024-03-25T03:06:42.397Z"
   },
   {
    "duration": 15,
    "start_time": "2024-03-25T03:06:42.416Z"
   },
   {
    "duration": 7,
    "start_time": "2024-03-25T03:06:42.432Z"
   },
   {
    "duration": 10,
    "start_time": "2024-03-25T03:06:42.442Z"
   },
   {
    "duration": 9,
    "start_time": "2024-03-25T03:06:42.453Z"
   },
   {
    "duration": 12,
    "start_time": "2024-03-25T03:06:42.463Z"
   },
   {
    "duration": 29,
    "start_time": "2024-03-25T03:06:42.477Z"
   },
   {
    "duration": 8,
    "start_time": "2024-03-25T03:06:42.507Z"
   },
   {
    "duration": 11,
    "start_time": "2024-03-25T03:06:42.517Z"
   },
   {
    "duration": 10,
    "start_time": "2024-03-25T03:06:42.530Z"
   },
   {
    "duration": 13,
    "start_time": "2024-03-25T03:06:42.542Z"
   },
   {
    "duration": 11,
    "start_time": "2024-03-25T03:06:42.556Z"
   },
   {
    "duration": 5,
    "start_time": "2024-03-25T03:06:42.568Z"
   },
   {
    "duration": 32,
    "start_time": "2024-03-25T03:06:42.574Z"
   },
   {
    "duration": 12,
    "start_time": "2024-03-25T03:06:42.607Z"
   },
   {
    "duration": 179,
    "start_time": "2024-03-25T03:06:42.620Z"
   },
   {
    "duration": 141,
    "start_time": "2024-03-25T03:06:42.801Z"
   },
   {
    "duration": 153,
    "start_time": "2024-03-25T03:06:42.944Z"
   },
   {
    "duration": 1044,
    "start_time": "2024-03-25T03:06:43.101Z"
   },
   {
    "duration": 0,
    "start_time": "2024-03-25T03:06:44.146Z"
   },
   {
    "duration": 169,
    "start_time": "2024-03-25T03:07:42.455Z"
   },
   {
    "duration": 182,
    "start_time": "2024-03-25T03:07:45.670Z"
   },
   {
    "duration": 160,
    "start_time": "2024-03-25T03:08:14.437Z"
   },
   {
    "duration": 136,
    "start_time": "2024-03-25T03:08:39.102Z"
   },
   {
    "duration": 257,
    "start_time": "2024-03-25T03:09:40.076Z"
   },
   {
    "duration": 146,
    "start_time": "2024-03-25T03:10:06.173Z"
   },
   {
    "duration": 148,
    "start_time": "2024-03-25T03:10:29.342Z"
   },
   {
    "duration": 107,
    "start_time": "2024-03-25T03:13:45.869Z"
   },
   {
    "duration": 224,
    "start_time": "2024-03-25T03:13:57.874Z"
   },
   {
    "duration": 176,
    "start_time": "2024-03-25T03:14:36.899Z"
   },
   {
    "duration": 243,
    "start_time": "2024-03-25T03:15:14.236Z"
   },
   {
    "duration": 239,
    "start_time": "2024-03-25T03:15:29.841Z"
   },
   {
    "duration": 267,
    "start_time": "2024-03-25T03:15:59.818Z"
   },
   {
    "duration": 242,
    "start_time": "2024-03-25T03:17:38.058Z"
   },
   {
    "duration": 274,
    "start_time": "2024-03-25T03:19:56.921Z"
   },
   {
    "duration": 169,
    "start_time": "2024-03-25T03:20:08.415Z"
   },
   {
    "duration": 295,
    "start_time": "2024-03-25T03:20:32.241Z"
   },
   {
    "duration": 64,
    "start_time": "2024-03-25T04:03:50.434Z"
   },
   {
    "duration": 128,
    "start_time": "2024-03-25T04:03:59.450Z"
   },
   {
    "duration": 122,
    "start_time": "2024-03-25T04:10:35.470Z"
   },
   {
    "duration": 409,
    "start_time": "2024-03-25T04:17:54.188Z"
   },
   {
    "duration": 468,
    "start_time": "2024-03-25T04:18:02.442Z"
   },
   {
    "duration": 308,
    "start_time": "2024-03-25T04:18:12.242Z"
   },
   {
    "duration": 8,
    "start_time": "2024-03-25T04:42:35.719Z"
   },
   {
    "duration": 24,
    "start_time": "2024-03-25T04:42:49.310Z"
   },
   {
    "duration": 17,
    "start_time": "2024-03-25T04:49:08.893Z"
   },
   {
    "duration": 20,
    "start_time": "2024-03-25T04:49:42.179Z"
   },
   {
    "duration": 17,
    "start_time": "2024-03-25T04:49:50.750Z"
   },
   {
    "duration": 44,
    "start_time": "2024-03-25T05:00:04.735Z"
   },
   {
    "duration": 5,
    "start_time": "2024-03-25T05:00:14.399Z"
   },
   {
    "duration": 5,
    "start_time": "2024-03-25T05:05:31.938Z"
   },
   {
    "duration": 434,
    "start_time": "2024-03-25T05:05:39.864Z"
   },
   {
    "duration": 208,
    "start_time": "2024-03-25T05:05:40.300Z"
   },
   {
    "duration": 73,
    "start_time": "2024-03-25T05:05:40.510Z"
   },
   {
    "duration": 75,
    "start_time": "2024-03-25T05:05:40.584Z"
   },
   {
    "duration": 59,
    "start_time": "2024-03-25T05:05:40.660Z"
   },
   {
    "duration": 17,
    "start_time": "2024-03-25T05:05:40.721Z"
   },
   {
    "duration": 12,
    "start_time": "2024-03-25T05:05:40.739Z"
   },
   {
    "duration": 11,
    "start_time": "2024-03-25T05:05:40.752Z"
   },
   {
    "duration": 6,
    "start_time": "2024-03-25T05:05:40.764Z"
   },
   {
    "duration": 7,
    "start_time": "2024-03-25T05:05:40.772Z"
   },
   {
    "duration": 21,
    "start_time": "2024-03-25T05:05:40.781Z"
   },
   {
    "duration": 5,
    "start_time": "2024-03-25T05:05:40.803Z"
   },
   {
    "duration": 6,
    "start_time": "2024-03-25T05:05:40.810Z"
   },
   {
    "duration": 6,
    "start_time": "2024-03-25T05:05:40.817Z"
   },
   {
    "duration": 6,
    "start_time": "2024-03-25T05:05:40.824Z"
   },
   {
    "duration": 5,
    "start_time": "2024-03-25T05:05:40.832Z"
   },
   {
    "duration": 5,
    "start_time": "2024-03-25T05:05:40.838Z"
   },
   {
    "duration": 11,
    "start_time": "2024-03-25T05:05:40.844Z"
   },
   {
    "duration": 4,
    "start_time": "2024-03-25T05:05:40.856Z"
   },
   {
    "duration": 41,
    "start_time": "2024-03-25T05:05:40.861Z"
   },
   {
    "duration": 4,
    "start_time": "2024-03-25T05:05:40.903Z"
   },
   {
    "duration": 171,
    "start_time": "2024-03-25T05:05:40.908Z"
   },
   {
    "duration": 147,
    "start_time": "2024-03-25T05:05:41.080Z"
   },
   {
    "duration": 266,
    "start_time": "2024-03-25T05:05:41.228Z"
   },
   {
    "duration": 287,
    "start_time": "2024-03-25T05:05:41.495Z"
   },
   {
    "duration": 251,
    "start_time": "2024-03-25T05:05:41.784Z"
   },
   {
    "duration": 17,
    "start_time": "2024-03-25T05:05:42.036Z"
   },
   {
    "duration": 15,
    "start_time": "2024-03-25T05:05:42.055Z"
   },
   {
    "duration": 23,
    "start_time": "2024-03-25T05:07:42.654Z"
   },
   {
    "duration": 15,
    "start_time": "2024-03-25T05:08:03.231Z"
   },
   {
    "duration": 18,
    "start_time": "2024-03-25T05:13:43.522Z"
   },
   {
    "duration": 19,
    "start_time": "2024-03-25T05:30:11.276Z"
   },
   {
    "duration": 13,
    "start_time": "2024-03-25T05:30:45.779Z"
   },
   {
    "duration": 14,
    "start_time": "2024-03-25T05:31:05.213Z"
   },
   {
    "duration": 12,
    "start_time": "2024-03-25T05:31:40.508Z"
   },
   {
    "duration": 17,
    "start_time": "2024-03-25T05:31:56.317Z"
   },
   {
    "duration": 16,
    "start_time": "2024-03-25T05:32:09.973Z"
   },
   {
    "duration": 17,
    "start_time": "2024-03-25T05:33:55.835Z"
   },
   {
    "duration": 12,
    "start_time": "2024-03-25T05:34:10.995Z"
   },
   {
    "duration": 13,
    "start_time": "2024-03-25T05:34:46.970Z"
   },
   {
    "duration": 12,
    "start_time": "2024-03-25T05:34:50.546Z"
   },
   {
    "duration": 88,
    "start_time": "2024-03-25T05:46:51.406Z"
   },
   {
    "duration": 1113,
    "start_time": "2024-03-25T05:46:59.869Z"
   },
   {
    "duration": 1071,
    "start_time": "2024-03-25T05:47:34.725Z"
   },
   {
    "duration": 288,
    "start_time": "2024-03-25T05:49:20.066Z"
   },
   {
    "duration": 334,
    "start_time": "2024-03-25T05:54:28.534Z"
   },
   {
    "duration": 191,
    "start_time": "2024-03-25T05:54:28.870Z"
   },
   {
    "duration": 28,
    "start_time": "2024-03-25T05:54:29.062Z"
   },
   {
    "duration": 26,
    "start_time": "2024-03-25T05:54:29.091Z"
   },
   {
    "duration": 15,
    "start_time": "2024-03-25T05:54:29.118Z"
   },
   {
    "duration": 16,
    "start_time": "2024-03-25T05:54:29.134Z"
   },
   {
    "duration": 16,
    "start_time": "2024-03-25T05:54:29.151Z"
   },
   {
    "duration": 13,
    "start_time": "2024-03-25T05:54:29.168Z"
   },
   {
    "duration": 7,
    "start_time": "2024-03-25T05:54:29.183Z"
   },
   {
    "duration": 10,
    "start_time": "2024-03-25T05:54:29.201Z"
   },
   {
    "duration": 11,
    "start_time": "2024-03-25T05:54:29.213Z"
   },
   {
    "duration": 27,
    "start_time": "2024-03-25T05:54:29.225Z"
   },
   {
    "duration": 31,
    "start_time": "2024-03-25T05:54:29.253Z"
   },
   {
    "duration": 6,
    "start_time": "2024-03-25T05:54:29.286Z"
   },
   {
    "duration": 6,
    "start_time": "2024-03-25T05:54:29.294Z"
   },
   {
    "duration": 10,
    "start_time": "2024-03-25T05:54:29.302Z"
   },
   {
    "duration": 7,
    "start_time": "2024-03-25T05:54:29.314Z"
   },
   {
    "duration": 10,
    "start_time": "2024-03-25T05:54:29.322Z"
   },
   {
    "duration": 5,
    "start_time": "2024-03-25T05:54:29.333Z"
   },
   {
    "duration": 32,
    "start_time": "2024-03-25T05:54:29.339Z"
   },
   {
    "duration": 15,
    "start_time": "2024-03-25T05:54:29.373Z"
   },
   {
    "duration": 161,
    "start_time": "2024-03-25T05:54:29.390Z"
   },
   {
    "duration": 139,
    "start_time": "2024-03-25T05:54:29.552Z"
   },
   {
    "duration": 241,
    "start_time": "2024-03-25T05:54:29.692Z"
   },
   {
    "duration": 305,
    "start_time": "2024-03-25T05:54:29.935Z"
   },
   {
    "duration": 298,
    "start_time": "2024-03-25T05:54:30.242Z"
   },
   {
    "duration": 15,
    "start_time": "2024-03-25T05:54:30.541Z"
   },
   {
    "duration": 41,
    "start_time": "2024-03-25T05:54:30.559Z"
   },
   {
    "duration": 59,
    "start_time": "2024-03-25T05:54:30.601Z"
   },
   {
    "duration": 35,
    "start_time": "2024-03-25T05:54:30.661Z"
   },
   {
    "duration": 290,
    "start_time": "2024-03-25T05:54:30.697Z"
   },
   {
    "duration": 271,
    "start_time": "2024-03-25T05:54:30.988Z"
   },
   {
    "duration": 246,
    "start_time": "2024-03-25T05:54:31.260Z"
   },
   {
    "duration": 302,
    "start_time": "2024-03-25T05:54:31.508Z"
   },
   {
    "duration": 261,
    "start_time": "2024-03-25T06:02:09.359Z"
   },
   {
    "duration": 189,
    "start_time": "2024-03-25T06:02:20.895Z"
   },
   {
    "duration": 11,
    "start_time": "2024-03-25T06:48:42.836Z"
   },
   {
    "duration": 22,
    "start_time": "2024-03-25T06:48:56.506Z"
   },
   {
    "duration": 26,
    "start_time": "2024-03-25T06:52:25.538Z"
   },
   {
    "duration": 59,
    "start_time": "2024-03-25T06:53:03.506Z"
   },
   {
    "duration": 21,
    "start_time": "2024-03-25T06:53:11.298Z"
   },
   {
    "duration": 68,
    "start_time": "2024-03-25T06:54:03.833Z"
   },
   {
    "duration": 7,
    "start_time": "2024-03-25T06:54:37.665Z"
   },
   {
    "duration": 4,
    "start_time": "2024-03-25T06:55:19.489Z"
   },
   {
    "duration": 32,
    "start_time": "2024-03-25T07:02:59.062Z"
   },
   {
    "duration": 20,
    "start_time": "2024-03-25T07:03:45.189Z"
   },
   {
    "duration": 45,
    "start_time": "2024-03-25T07:07:44.399Z"
   },
   {
    "duration": 33,
    "start_time": "2024-03-25T07:08:29.525Z"
   },
   {
    "duration": 17,
    "start_time": "2024-03-25T07:09:56.808Z"
   },
   {
    "duration": 21,
    "start_time": "2024-03-25T07:10:10.559Z"
   },
   {
    "duration": 393,
    "start_time": "2024-03-26T00:17:45.099Z"
   },
   {
    "duration": 432,
    "start_time": "2024-03-26T00:17:45.493Z"
   },
   {
    "duration": 3,
    "start_time": "2024-03-26T00:17:45.927Z"
   },
   {
    "duration": 114,
    "start_time": "2024-03-26T00:17:45.931Z"
   },
   {
    "duration": 135,
    "start_time": "2024-03-26T00:17:46.046Z"
   },
   {
    "duration": 65,
    "start_time": "2024-03-26T00:17:46.182Z"
   },
   {
    "duration": 19,
    "start_time": "2024-03-26T00:17:46.249Z"
   },
   {
    "duration": 26,
    "start_time": "2024-03-26T00:17:46.269Z"
   },
   {
    "duration": 21,
    "start_time": "2024-03-26T00:17:46.297Z"
   },
   {
    "duration": 36,
    "start_time": "2024-03-26T00:17:46.320Z"
   },
   {
    "duration": 31,
    "start_time": "2024-03-26T00:17:46.357Z"
   },
   {
    "duration": 22,
    "start_time": "2024-03-26T00:17:46.390Z"
   },
   {
    "duration": 10,
    "start_time": "2024-03-26T00:17:46.413Z"
   },
   {
    "duration": 34,
    "start_time": "2024-03-26T00:17:46.424Z"
   },
   {
    "duration": 11,
    "start_time": "2024-03-26T00:17:46.459Z"
   },
   {
    "duration": 16,
    "start_time": "2024-03-26T00:17:46.471Z"
   },
   {
    "duration": 17,
    "start_time": "2024-03-26T00:17:46.489Z"
   },
   {
    "duration": 27,
    "start_time": "2024-03-26T00:17:46.508Z"
   },
   {
    "duration": 16,
    "start_time": "2024-03-26T00:17:46.536Z"
   },
   {
    "duration": 25,
    "start_time": "2024-03-26T00:17:46.554Z"
   },
   {
    "duration": 30,
    "start_time": "2024-03-26T00:17:46.581Z"
   },
   {
    "duration": 68,
    "start_time": "2024-03-26T00:17:46.613Z"
   },
   {
    "duration": 204,
    "start_time": "2024-03-26T00:17:46.682Z"
   },
   {
    "duration": 147,
    "start_time": "2024-03-26T00:17:46.888Z"
   },
   {
    "duration": 359,
    "start_time": "2024-03-26T00:17:47.037Z"
   },
   {
    "duration": 322,
    "start_time": "2024-03-26T00:17:47.397Z"
   },
   {
    "duration": 314,
    "start_time": "2024-03-26T00:17:47.721Z"
   },
   {
    "duration": 18,
    "start_time": "2024-03-26T00:17:48.038Z"
   },
   {
    "duration": 27,
    "start_time": "2024-03-26T00:17:48.058Z"
   },
   {
    "duration": 17,
    "start_time": "2024-03-26T00:17:48.086Z"
   },
   {
    "duration": 14,
    "start_time": "2024-03-26T00:17:48.104Z"
   },
   {
    "duration": 367,
    "start_time": "2024-03-26T00:17:48.119Z"
   },
   {
    "duration": 318,
    "start_time": "2024-03-26T00:17:48.489Z"
   },
   {
    "duration": 314,
    "start_time": "2024-03-26T00:17:48.808Z"
   },
   {
    "duration": 393,
    "start_time": "2024-03-26T00:17:49.124Z"
   },
   {
    "duration": 86,
    "start_time": "2024-03-26T00:17:49.518Z"
   },
   {
    "duration": 25,
    "start_time": "2024-03-26T00:18:24.793Z"
   },
   {
    "duration": 16,
    "start_time": "2024-03-26T00:50:13.211Z"
   },
   {
    "duration": 17,
    "start_time": "2024-03-26T00:50:40.516Z"
   },
   {
    "duration": 13,
    "start_time": "2024-03-26T00:50:52.302Z"
   },
   {
    "duration": 5,
    "start_time": "2024-03-26T00:51:21.324Z"
   },
   {
    "duration": 91,
    "start_time": "2024-03-26T00:53:12.075Z"
   },
   {
    "duration": 9,
    "start_time": "2024-03-26T00:53:38.811Z"
   },
   {
    "duration": 35,
    "start_time": "2024-03-26T01:00:26.609Z"
   },
   {
    "duration": 21,
    "start_time": "2024-03-26T01:00:48.224Z"
   },
   {
    "duration": 8,
    "start_time": "2024-03-26T01:11:34.565Z"
   },
   {
    "duration": 29,
    "start_time": "2024-03-26T01:11:45.817Z"
   },
   {
    "duration": 29,
    "start_time": "2024-03-26T01:12:25.586Z"
   },
   {
    "duration": 55,
    "start_time": "2024-03-26T01:13:21.185Z"
   },
   {
    "duration": 59,
    "start_time": "2024-03-26T01:14:01.057Z"
   },
   {
    "duration": 30,
    "start_time": "2024-03-26T01:14:34.578Z"
   },
   {
    "duration": 27,
    "start_time": "2024-03-26T01:28:11.535Z"
   },
   {
    "duration": 357,
    "start_time": "2024-03-26T01:28:32.030Z"
   },
   {
    "duration": 238,
    "start_time": "2024-03-26T01:28:32.389Z"
   },
   {
    "duration": 2,
    "start_time": "2024-03-26T01:28:32.628Z"
   },
   {
    "duration": 37,
    "start_time": "2024-03-26T01:28:32.631Z"
   },
   {
    "duration": 27,
    "start_time": "2024-03-26T01:28:32.670Z"
   },
   {
    "duration": 14,
    "start_time": "2024-03-26T01:28:32.699Z"
   },
   {
    "duration": 18,
    "start_time": "2024-03-26T01:28:32.714Z"
   },
   {
    "duration": 21,
    "start_time": "2024-03-26T01:28:32.734Z"
   },
   {
    "duration": 13,
    "start_time": "2024-03-26T01:28:32.756Z"
   },
   {
    "duration": 6,
    "start_time": "2024-03-26T01:28:32.771Z"
   },
   {
    "duration": 22,
    "start_time": "2024-03-26T01:28:32.778Z"
   },
   {
    "duration": 9,
    "start_time": "2024-03-26T01:28:32.802Z"
   },
   {
    "duration": 16,
    "start_time": "2024-03-26T01:28:32.813Z"
   },
   {
    "duration": 8,
    "start_time": "2024-03-26T01:28:32.831Z"
   },
   {
    "duration": 5,
    "start_time": "2024-03-26T01:28:32.840Z"
   },
   {
    "duration": 14,
    "start_time": "2024-03-26T01:28:32.847Z"
   },
   {
    "duration": 9,
    "start_time": "2024-03-26T01:28:32.862Z"
   },
   {
    "duration": 6,
    "start_time": "2024-03-26T01:28:32.872Z"
   },
   {
    "duration": 22,
    "start_time": "2024-03-26T01:28:32.879Z"
   },
   {
    "duration": 6,
    "start_time": "2024-03-26T01:28:32.903Z"
   },
   {
    "duration": 4,
    "start_time": "2024-03-26T01:28:32.910Z"
   },
   {
    "duration": 6,
    "start_time": "2024-03-26T01:28:32.915Z"
   },
   {
    "duration": 183,
    "start_time": "2024-03-26T01:28:32.923Z"
   },
   {
    "duration": 151,
    "start_time": "2024-03-26T01:28:33.108Z"
   },
   {
    "duration": 313,
    "start_time": "2024-03-26T01:28:33.261Z"
   },
   {
    "duration": 360,
    "start_time": "2024-03-26T01:28:33.576Z"
   },
   {
    "duration": 313,
    "start_time": "2024-03-26T01:28:33.937Z"
   },
   {
    "duration": 22,
    "start_time": "2024-03-26T01:28:34.252Z"
   },
   {
    "duration": 17,
    "start_time": "2024-03-26T01:28:34.276Z"
   },
   {
    "duration": 16,
    "start_time": "2024-03-26T01:28:34.295Z"
   },
   {
    "duration": 15,
    "start_time": "2024-03-26T01:28:34.313Z"
   },
   {
    "duration": 347,
    "start_time": "2024-03-26T01:28:34.330Z"
   },
   {
    "duration": 304,
    "start_time": "2024-03-26T01:28:34.679Z"
   },
   {
    "duration": 302,
    "start_time": "2024-03-26T01:28:34.985Z"
   },
   {
    "duration": 395,
    "start_time": "2024-03-26T01:28:35.288Z"
   },
   {
    "duration": 28,
    "start_time": "2024-03-26T01:28:35.685Z"
   },
   {
    "duration": 37,
    "start_time": "2024-03-26T01:28:50.226Z"
   },
   {
    "duration": 78,
    "start_time": "2024-03-26T01:37:58.677Z"
   },
   {
    "duration": 37,
    "start_time": "2024-03-26T01:39:13.034Z"
   },
   {
    "duration": 34,
    "start_time": "2024-03-26T01:49:21.269Z"
   },
   {
    "duration": 31,
    "start_time": "2024-03-26T01:49:43.888Z"
   },
   {
    "duration": 32,
    "start_time": "2024-03-26T01:49:59.077Z"
   },
   {
    "duration": 32,
    "start_time": "2024-03-26T01:58:44.254Z"
   },
   {
    "duration": 10,
    "start_time": "2024-03-26T02:00:25.239Z"
   },
   {
    "duration": 8,
    "start_time": "2024-03-26T02:07:42.754Z"
   },
   {
    "duration": 21,
    "start_time": "2024-03-26T02:08:08.100Z"
   },
   {
    "duration": 98,
    "start_time": "2024-03-26T02:11:58.620Z"
   },
   {
    "duration": 99,
    "start_time": "2024-03-26T02:12:04.114Z"
   },
   {
    "duration": 22,
    "start_time": "2024-03-26T02:12:12.315Z"
   },
   {
    "duration": 21,
    "start_time": "2024-03-26T02:12:16.162Z"
   },
   {
    "duration": 23,
    "start_time": "2024-03-26T02:12:39.052Z"
   },
   {
    "duration": 22,
    "start_time": "2024-03-26T02:12:55.243Z"
   },
   {
    "duration": 11,
    "start_time": "2024-03-26T02:15:21.208Z"
   },
   {
    "duration": 8,
    "start_time": "2024-03-26T02:15:57.432Z"
   },
   {
    "duration": 19,
    "start_time": "2024-03-26T02:16:05.612Z"
   },
   {
    "duration": 19,
    "start_time": "2024-03-26T02:16:42.859Z"
   },
   {
    "duration": 19,
    "start_time": "2024-03-26T02:16:46.083Z"
   },
   {
    "duration": 2,
    "start_time": "2024-03-26T02:23:54.940Z"
   },
   {
    "duration": 3,
    "start_time": "2024-03-26T02:23:59.839Z"
   },
   {
    "duration": 389,
    "start_time": "2024-03-26T02:26:00.900Z"
   },
   {
    "duration": 252,
    "start_time": "2024-03-26T02:26:01.291Z"
   },
   {
    "duration": 3,
    "start_time": "2024-03-26T02:26:01.544Z"
   },
   {
    "duration": 89,
    "start_time": "2024-03-26T02:26:01.549Z"
   },
   {
    "duration": 68,
    "start_time": "2024-03-26T02:26:01.640Z"
   },
   {
    "duration": 36,
    "start_time": "2024-03-26T02:26:01.709Z"
   },
   {
    "duration": 54,
    "start_time": "2024-03-26T02:26:01.747Z"
   },
   {
    "duration": 69,
    "start_time": "2024-03-26T02:26:01.802Z"
   },
   {
    "duration": 60,
    "start_time": "2024-03-26T02:26:01.873Z"
   },
   {
    "duration": 45,
    "start_time": "2024-03-26T02:26:01.936Z"
   },
   {
    "duration": 70,
    "start_time": "2024-03-26T02:26:01.983Z"
   },
   {
    "duration": 54,
    "start_time": "2024-03-26T02:26:02.055Z"
   },
   {
    "duration": 47,
    "start_time": "2024-03-26T02:26:02.111Z"
   },
   {
    "duration": 37,
    "start_time": "2024-03-26T02:26:02.160Z"
   },
   {
    "duration": 26,
    "start_time": "2024-03-26T02:26:02.198Z"
   },
   {
    "duration": 47,
    "start_time": "2024-03-26T02:26:02.226Z"
   },
   {
    "duration": 50,
    "start_time": "2024-03-26T02:26:02.275Z"
   },
   {
    "duration": 65,
    "start_time": "2024-03-26T02:26:02.327Z"
   },
   {
    "duration": 24,
    "start_time": "2024-03-26T02:26:02.394Z"
   },
   {
    "duration": 24,
    "start_time": "2024-03-26T02:26:02.420Z"
   },
   {
    "duration": 46,
    "start_time": "2024-03-26T02:26:02.446Z"
   },
   {
    "duration": 19,
    "start_time": "2024-03-26T02:26:02.494Z"
   },
   {
    "duration": 202,
    "start_time": "2024-03-26T02:26:02.515Z"
   },
   {
    "duration": 153,
    "start_time": "2024-03-26T02:26:02.718Z"
   },
   {
    "duration": 299,
    "start_time": "2024-03-26T02:26:02.872Z"
   },
   {
    "duration": 363,
    "start_time": "2024-03-26T02:26:03.173Z"
   },
   {
    "duration": 319,
    "start_time": "2024-03-26T02:26:03.538Z"
   },
   {
    "duration": 23,
    "start_time": "2024-03-26T02:26:03.860Z"
   },
   {
    "duration": 16,
    "start_time": "2024-03-26T02:26:03.885Z"
   },
   {
    "duration": 21,
    "start_time": "2024-03-26T02:26:03.903Z"
   },
   {
    "duration": 13,
    "start_time": "2024-03-26T02:26:03.926Z"
   },
   {
    "duration": 331,
    "start_time": "2024-03-26T02:26:03.940Z"
   },
   {
    "duration": 300,
    "start_time": "2024-03-26T02:26:04.273Z"
   },
   {
    "duration": 310,
    "start_time": "2024-03-26T02:26:04.575Z"
   },
   {
    "duration": 377,
    "start_time": "2024-03-26T02:26:04.887Z"
   },
   {
    "duration": 23,
    "start_time": "2024-03-26T02:26:05.268Z"
   },
   {
    "duration": 19,
    "start_time": "2024-03-26T02:26:05.293Z"
   },
   {
    "duration": 21,
    "start_time": "2024-03-26T02:26:05.314Z"
   },
   {
    "duration": 43,
    "start_time": "2024-03-26T02:26:05.337Z"
   },
   {
    "duration": 418,
    "start_time": "2024-03-26T02:47:01.573Z"
   },
   {
    "duration": 7,
    "start_time": "2024-03-26T03:02:06.446Z"
   },
   {
    "duration": 6,
    "start_time": "2024-03-26T03:11:42.095Z"
   },
   {
    "duration": 7,
    "start_time": "2024-03-26T03:12:05.879Z"
   },
   {
    "duration": 6,
    "start_time": "2024-03-26T03:12:42.206Z"
   },
   {
    "duration": 6,
    "start_time": "2024-03-26T03:13:05.718Z"
   },
   {
    "duration": 5,
    "start_time": "2024-03-26T03:13:49.231Z"
   },
   {
    "duration": 6,
    "start_time": "2024-03-26T03:14:07.359Z"
   },
   {
    "duration": 6,
    "start_time": "2024-03-26T03:14:27.749Z"
   },
   {
    "duration": 7,
    "start_time": "2024-03-26T03:15:14.477Z"
   },
   {
    "duration": 6,
    "start_time": "2024-03-26T03:19:37.155Z"
   },
   {
    "duration": 11,
    "start_time": "2024-03-26T03:27:52.167Z"
   },
   {
    "duration": 9,
    "start_time": "2024-03-26T03:28:13.661Z"
   },
   {
    "duration": 6,
    "start_time": "2024-03-26T03:35:42.617Z"
   },
   {
    "duration": 5,
    "start_time": "2024-03-26T03:36:35.394Z"
   },
   {
    "duration": 7,
    "start_time": "2024-03-26T03:37:40.449Z"
   },
   {
    "duration": 10,
    "start_time": "2024-03-26T03:39:33.664Z"
   },
   {
    "duration": 11,
    "start_time": "2024-03-26T03:39:54.022Z"
   },
   {
    "duration": 9,
    "start_time": "2024-03-26T03:40:15.312Z"
   },
   {
    "duration": 10,
    "start_time": "2024-03-26T03:41:41.127Z"
   },
   {
    "duration": 9,
    "start_time": "2024-03-26T03:45:10.932Z"
   },
   {
    "duration": 3,
    "start_time": "2024-03-26T04:00:48.138Z"
   },
   {
    "duration": 417,
    "start_time": "2024-03-26T07:20:13.928Z"
   },
   {
    "duration": 364,
    "start_time": "2024-03-26T07:20:14.347Z"
   },
   {
    "duration": 3,
    "start_time": "2024-03-26T07:20:14.712Z"
   },
   {
    "duration": 514,
    "start_time": "2024-03-26T07:20:14.716Z"
   },
   {
    "duration": 2,
    "start_time": "2024-03-26T07:20:15.232Z"
   },
   {
    "duration": 105,
    "start_time": "2024-03-26T07:20:15.235Z"
   },
   {
    "duration": 78,
    "start_time": "2024-03-26T07:20:15.342Z"
   },
   {
    "duration": 58,
    "start_time": "2024-03-26T07:20:15.421Z"
   },
   {
    "duration": 21,
    "start_time": "2024-03-26T07:20:15.480Z"
   },
   {
    "duration": 41,
    "start_time": "2024-03-26T07:20:15.504Z"
   },
   {
    "duration": 28,
    "start_time": "2024-03-26T07:20:15.546Z"
   },
   {
    "duration": 32,
    "start_time": "2024-03-26T07:20:15.575Z"
   },
   {
    "duration": 21,
    "start_time": "2024-03-26T07:20:15.609Z"
   },
   {
    "duration": 11,
    "start_time": "2024-03-26T07:20:15.632Z"
   },
   {
    "duration": 11,
    "start_time": "2024-03-26T07:20:15.644Z"
   },
   {
    "duration": 18,
    "start_time": "2024-03-26T07:20:15.656Z"
   },
   {
    "duration": 10,
    "start_time": "2024-03-26T07:20:15.675Z"
   },
   {
    "duration": 14,
    "start_time": "2024-03-26T07:20:15.686Z"
   },
   {
    "duration": 41,
    "start_time": "2024-03-26T07:20:15.702Z"
   },
   {
    "duration": 20,
    "start_time": "2024-03-26T07:20:15.744Z"
   },
   {
    "duration": 33,
    "start_time": "2024-03-26T07:20:15.766Z"
   },
   {
    "duration": 12,
    "start_time": "2024-03-26T07:20:15.801Z"
   },
   {
    "duration": 15,
    "start_time": "2024-03-26T07:20:15.814Z"
   },
   {
    "duration": 18,
    "start_time": "2024-03-26T07:20:15.831Z"
   },
   {
    "duration": 170,
    "start_time": "2024-03-26T07:20:15.851Z"
   },
   {
    "duration": 149,
    "start_time": "2024-03-26T07:20:16.023Z"
   },
   {
    "duration": 323,
    "start_time": "2024-03-26T07:20:16.174Z"
   },
   {
    "duration": 338,
    "start_time": "2024-03-26T07:20:16.500Z"
   },
   {
    "duration": 307,
    "start_time": "2024-03-26T07:20:16.840Z"
   },
   {
    "duration": 27,
    "start_time": "2024-03-26T07:20:17.149Z"
   },
   {
    "duration": 17,
    "start_time": "2024-03-26T07:20:17.178Z"
   },
   {
    "duration": 16,
    "start_time": "2024-03-26T07:20:17.197Z"
   },
   {
    "duration": 14,
    "start_time": "2024-03-26T07:20:17.215Z"
   },
   {
    "duration": 401,
    "start_time": "2024-03-26T07:20:17.231Z"
   },
   {
    "duration": 314,
    "start_time": "2024-03-26T07:20:17.634Z"
   },
   {
    "duration": 328,
    "start_time": "2024-03-26T07:20:17.950Z"
   },
   {
    "duration": 300,
    "start_time": "2024-03-26T07:20:18.280Z"
   },
   {
    "duration": 23,
    "start_time": "2024-03-26T07:20:18.582Z"
   },
   {
    "duration": 19,
    "start_time": "2024-03-26T07:20:18.606Z"
   },
   {
    "duration": 40,
    "start_time": "2024-03-26T07:20:18.626Z"
   },
   {
    "duration": 18,
    "start_time": "2024-03-26T07:20:18.668Z"
   },
   {
    "duration": 6,
    "start_time": "2024-03-26T07:20:18.688Z"
   },
   {
    "duration": 7,
    "start_time": "2024-03-26T07:20:18.695Z"
   },
   {
    "duration": 13,
    "start_time": "2024-03-26T07:20:18.703Z"
   },
   {
    "duration": 6,
    "start_time": "2024-03-26T07:26:07.949Z"
   },
   {
    "duration": 7,
    "start_time": "2024-03-26T07:26:12.824Z"
   },
   {
    "duration": 53,
    "start_time": "2024-03-26T13:12:29.097Z"
   },
   {
    "duration": 383,
    "start_time": "2024-03-26T13:12:41.982Z"
   },
   {
    "duration": 377,
    "start_time": "2024-03-26T13:12:42.368Z"
   },
   {
    "duration": 2,
    "start_time": "2024-03-26T13:12:42.747Z"
   },
   {
    "duration": 472,
    "start_time": "2024-03-26T13:12:42.751Z"
   },
   {
    "duration": 2,
    "start_time": "2024-03-26T13:12:43.225Z"
   },
   {
    "duration": 110,
    "start_time": "2024-03-26T13:12:43.228Z"
   },
   {
    "duration": 138,
    "start_time": "2024-03-26T13:12:43.340Z"
   },
   {
    "duration": 70,
    "start_time": "2024-03-26T13:12:43.479Z"
   },
   {
    "duration": 20,
    "start_time": "2024-03-26T13:12:43.550Z"
   },
   {
    "duration": 16,
    "start_time": "2024-03-26T13:12:43.572Z"
   },
   {
    "duration": 17,
    "start_time": "2024-03-26T13:12:43.590Z"
   },
   {
    "duration": 18,
    "start_time": "2024-03-26T13:12:43.608Z"
   },
   {
    "duration": 8,
    "start_time": "2024-03-26T13:12:43.628Z"
   },
   {
    "duration": 9,
    "start_time": "2024-03-26T13:12:43.638Z"
   },
   {
    "duration": 151,
    "start_time": "2024-03-26T13:12:43.649Z"
   },
   {
    "duration": 6,
    "start_time": "2024-03-26T13:12:43.801Z"
   },
   {
    "duration": 14,
    "start_time": "2024-03-26T13:12:43.808Z"
   },
   {
    "duration": 7,
    "start_time": "2024-03-26T13:12:43.824Z"
   },
   {
    "duration": 6,
    "start_time": "2024-03-26T13:12:43.832Z"
   },
   {
    "duration": 4,
    "start_time": "2024-03-26T13:12:43.839Z"
   },
   {
    "duration": 7,
    "start_time": "2024-03-26T13:12:43.845Z"
   },
   {
    "duration": 23,
    "start_time": "2024-03-26T13:12:43.853Z"
   },
   {
    "duration": 4,
    "start_time": "2024-03-26T13:12:43.877Z"
   },
   {
    "duration": 3,
    "start_time": "2024-03-26T13:12:43.883Z"
   },
   {
    "duration": 4,
    "start_time": "2024-03-26T13:12:43.887Z"
   },
   {
    "duration": 190,
    "start_time": "2024-03-26T13:12:43.892Z"
   },
   {
    "duration": 161,
    "start_time": "2024-03-26T13:12:44.084Z"
   },
   {
    "duration": 300,
    "start_time": "2024-03-26T13:12:44.248Z"
   },
   {
    "duration": 305,
    "start_time": "2024-03-26T13:12:44.550Z"
   },
   {
    "duration": 305,
    "start_time": "2024-03-26T13:12:44.857Z"
   },
   {
    "duration": 21,
    "start_time": "2024-03-26T13:12:45.163Z"
   },
   {
    "duration": 68,
    "start_time": "2024-03-26T13:12:45.185Z"
   },
   {
    "duration": 31,
    "start_time": "2024-03-26T13:12:45.255Z"
   },
   {
    "duration": 22,
    "start_time": "2024-03-26T13:12:45.287Z"
   },
   {
    "duration": 413,
    "start_time": "2024-03-26T13:12:45.310Z"
   },
   {
    "duration": 295,
    "start_time": "2024-03-26T13:12:45.725Z"
   },
   {
    "duration": 309,
    "start_time": "2024-03-26T13:12:46.022Z"
   },
   {
    "duration": 303,
    "start_time": "2024-03-26T13:12:46.332Z"
   },
   {
    "duration": 23,
    "start_time": "2024-03-26T13:12:46.636Z"
   },
   {
    "duration": 25,
    "start_time": "2024-03-26T13:12:46.661Z"
   },
   {
    "duration": 27,
    "start_time": "2024-03-26T13:12:46.688Z"
   },
   {
    "duration": 26,
    "start_time": "2024-03-26T13:12:46.717Z"
   },
   {
    "duration": 7,
    "start_time": "2024-03-26T13:12:46.745Z"
   },
   {
    "duration": 6,
    "start_time": "2024-03-26T13:12:46.769Z"
   },
   {
    "duration": 11,
    "start_time": "2024-03-26T13:12:46.777Z"
   },
   {
    "duration": 218,
    "start_time": "2024-03-26T13:15:46.167Z"
   },
   {
    "duration": 4,
    "start_time": "2024-03-26T13:16:33.197Z"
   },
   {
    "duration": 5,
    "start_time": "2024-03-26T13:16:53.335Z"
   },
   {
    "duration": 90,
    "start_time": "2024-03-26T13:18:14.734Z"
   },
   {
    "duration": 86,
    "start_time": "2024-03-26T13:18:53.035Z"
   },
   {
    "duration": 85,
    "start_time": "2024-03-26T13:19:22.722Z"
   },
   {
    "duration": 90,
    "start_time": "2024-03-26T13:19:47.349Z"
   },
   {
    "duration": 111,
    "start_time": "2024-03-26T13:20:09.825Z"
   },
   {
    "duration": 89,
    "start_time": "2024-03-26T13:20:51.993Z"
   },
   {
    "duration": 87,
    "start_time": "2024-03-26T13:21:06.728Z"
   },
   {
    "duration": 3,
    "start_time": "2024-03-26T13:23:25.160Z"
   },
   {
    "duration": 92,
    "start_time": "2024-03-26T13:37:36.445Z"
   },
   {
    "duration": 133,
    "start_time": "2024-03-26T13:38:02.438Z"
   },
   {
    "duration": 253,
    "start_time": "2024-03-26T13:38:58.197Z"
   },
   {
    "duration": 136,
    "start_time": "2024-03-26T13:39:17.766Z"
   },
   {
    "duration": 141,
    "start_time": "2024-03-26T13:40:14.269Z"
   },
   {
    "duration": 84,
    "start_time": "2024-03-26T13:40:41.229Z"
   },
   {
    "duration": 134,
    "start_time": "2024-03-26T13:40:51.180Z"
   },
   {
    "duration": 142,
    "start_time": "2024-03-26T13:41:21.468Z"
   },
   {
    "duration": 136,
    "start_time": "2024-03-26T13:41:29.092Z"
   },
   {
    "duration": 134,
    "start_time": "2024-03-26T13:45:15.872Z"
   },
   {
    "duration": 135,
    "start_time": "2024-03-26T13:46:52.438Z"
   },
   {
    "duration": 160,
    "start_time": "2024-03-26T13:49:37.632Z"
   },
   {
    "duration": 134,
    "start_time": "2024-03-26T13:49:44.575Z"
   },
   {
    "duration": 155,
    "start_time": "2024-03-26T13:52:44.968Z"
   },
   {
    "duration": 157,
    "start_time": "2024-03-26T13:54:12.062Z"
   },
   {
    "duration": 132,
    "start_time": "2024-03-26T13:54:45.767Z"
   },
   {
    "duration": 96,
    "start_time": "2024-03-26T13:55:45.084Z"
   },
   {
    "duration": 8,
    "start_time": "2024-03-26T13:58:20.021Z"
   },
   {
    "duration": 9,
    "start_time": "2024-03-26T13:59:17.030Z"
   },
   {
    "duration": 15,
    "start_time": "2024-03-26T14:06:47.217Z"
   },
   {
    "duration": 102,
    "start_time": "2024-03-26T14:07:06.417Z"
   },
   {
    "duration": 14,
    "start_time": "2024-03-26T14:08:10.633Z"
   },
   {
    "duration": 16,
    "start_time": "2024-03-26T14:09:54.120Z"
   },
   {
    "duration": 11,
    "start_time": "2024-03-26T14:10:25.655Z"
   },
   {
    "duration": 13,
    "start_time": "2024-03-26T14:13:49.221Z"
   },
   {
    "duration": 13,
    "start_time": "2024-03-26T14:21:19.197Z"
   },
   {
    "duration": 14,
    "start_time": "2024-03-26T14:21:33.850Z"
   },
   {
    "duration": 18,
    "start_time": "2024-03-26T14:23:33.709Z"
   },
   {
    "duration": 9,
    "start_time": "2024-03-26T14:25:11.937Z"
   },
   {
    "duration": 17,
    "start_time": "2024-03-26T14:28:12.365Z"
   },
   {
    "duration": 6,
    "start_time": "2024-03-26T14:28:32.552Z"
   },
   {
    "duration": 5,
    "start_time": "2024-03-26T14:28:40.181Z"
   },
   {
    "duration": 13,
    "start_time": "2024-03-26T14:28:56.622Z"
   },
   {
    "duration": 13,
    "start_time": "2024-03-26T14:29:21.206Z"
   },
   {
    "duration": 4,
    "start_time": "2024-03-26T14:29:56.624Z"
   },
   {
    "duration": 9,
    "start_time": "2024-03-26T14:30:00.133Z"
   },
   {
    "duration": 9,
    "start_time": "2024-03-26T14:30:12.501Z"
   },
   {
    "duration": 7,
    "start_time": "2024-03-26T14:30:30.254Z"
   },
   {
    "duration": 15,
    "start_time": "2024-03-26T14:30:33.012Z"
   },
   {
    "duration": 8,
    "start_time": "2024-03-26T14:31:15.661Z"
   },
   {
    "duration": 89,
    "start_time": "2024-03-26T14:31:20.196Z"
   },
   {
    "duration": 97,
    "start_time": "2024-03-26T14:31:29.973Z"
   },
   {
    "duration": 12,
    "start_time": "2024-03-26T14:32:38.375Z"
   },
   {
    "duration": 12,
    "start_time": "2024-03-26T14:33:58.420Z"
   },
   {
    "duration": 12,
    "start_time": "2024-03-26T14:34:49.787Z"
   },
   {
    "duration": 583,
    "start_time": "2024-03-26T14:45:53.343Z"
   },
   {
    "duration": 591,
    "start_time": "2024-03-26T14:46:06.526Z"
   },
   {
    "duration": 138,
    "start_time": "2024-03-26T14:53:09.908Z"
   },
   {
    "duration": 415,
    "start_time": "2024-03-26T14:53:38.420Z"
   },
   {
    "duration": 467,
    "start_time": "2024-03-26T14:53:52.819Z"
   },
   {
    "duration": 447,
    "start_time": "2024-03-26T14:54:23.268Z"
   },
   {
    "duration": 480,
    "start_time": "2024-03-26T14:55:14.489Z"
   },
   {
    "duration": 541,
    "start_time": "2024-03-26T14:57:49.425Z"
   },
   {
    "duration": 455,
    "start_time": "2024-03-26T14:58:03.425Z"
   },
   {
    "duration": 502,
    "start_time": "2024-03-26T15:17:00.757Z"
   },
   {
    "duration": 462,
    "start_time": "2024-03-26T15:17:18.349Z"
   },
   {
    "duration": 643,
    "start_time": "2024-03-26T15:17:30.004Z"
   },
   {
    "duration": 460,
    "start_time": "2024-03-26T15:17:43.545Z"
   },
   {
    "duration": 36,
    "start_time": "2024-03-26T15:29:43.955Z"
   },
   {
    "duration": 42,
    "start_time": "2024-03-26T15:29:59.277Z"
   },
   {
    "duration": 10,
    "start_time": "2024-03-26T15:30:56.346Z"
   },
   {
    "duration": 10,
    "start_time": "2024-03-26T15:31:56.899Z"
   },
   {
    "duration": 130,
    "start_time": "2024-03-26T15:32:05.810Z"
   },
   {
    "duration": 131,
    "start_time": "2024-03-26T15:32:33.484Z"
   },
   {
    "duration": 49,
    "start_time": "2024-03-26T15:32:57.491Z"
   },
   {
    "duration": 46,
    "start_time": "2024-03-26T15:33:41.018Z"
   },
   {
    "duration": 52,
    "start_time": "2024-03-26T15:34:03.425Z"
   },
   {
    "duration": 147,
    "start_time": "2024-03-26T15:50:18.135Z"
   },
   {
    "duration": 96,
    "start_time": "2024-03-26T15:51:05.845Z"
   },
   {
    "duration": 54,
    "start_time": "2024-03-26T15:52:35.612Z"
   },
   {
    "duration": 50,
    "start_time": "2024-03-26T16:05:50.605Z"
   },
   {
    "duration": 19,
    "start_time": "2024-03-26T16:09:22.526Z"
   },
   {
    "duration": 4,
    "start_time": "2024-03-26T16:10:53.116Z"
   },
   {
    "duration": 49,
    "start_time": "2024-03-26T16:10:56.677Z"
   },
   {
    "duration": 28,
    "start_time": "2024-03-26T16:14:16.515Z"
   },
   {
    "duration": 7,
    "start_time": "2024-03-26T16:39:38.847Z"
   },
   {
    "duration": 7,
    "start_time": "2024-03-26T16:43:22.309Z"
   },
   {
    "duration": 6,
    "start_time": "2024-03-26T16:49:14.514Z"
   },
   {
    "duration": 6,
    "start_time": "2024-03-26T16:53:28.065Z"
   },
   {
    "duration": 6,
    "start_time": "2024-03-26T16:57:05.798Z"
   },
   {
    "duration": 336,
    "start_time": "2024-03-26T16:57:58.527Z"
   },
   {
    "duration": 235,
    "start_time": "2024-03-26T16:57:58.868Z"
   },
   {
    "duration": 2,
    "start_time": "2024-03-26T16:57:59.104Z"
   },
   {
    "duration": 485,
    "start_time": "2024-03-26T16:57:59.108Z"
   },
   {
    "duration": 2,
    "start_time": "2024-03-26T16:57:59.595Z"
   },
   {
    "duration": 33,
    "start_time": "2024-03-26T16:57:59.598Z"
   },
   {
    "duration": 28,
    "start_time": "2024-03-26T16:57:59.632Z"
   },
   {
    "duration": 15,
    "start_time": "2024-03-26T16:57:59.662Z"
   },
   {
    "duration": 19,
    "start_time": "2024-03-26T16:57:59.678Z"
   },
   {
    "duration": 15,
    "start_time": "2024-03-26T16:57:59.700Z"
   },
   {
    "duration": 13,
    "start_time": "2024-03-26T16:57:59.717Z"
   },
   {
    "duration": 14,
    "start_time": "2024-03-26T16:57:59.731Z"
   },
   {
    "duration": 27,
    "start_time": "2024-03-26T16:57:59.746Z"
   },
   {
    "duration": 10,
    "start_time": "2024-03-26T16:57:59.775Z"
   },
   {
    "duration": 4,
    "start_time": "2024-03-26T16:57:59.786Z"
   },
   {
    "duration": 6,
    "start_time": "2024-03-26T16:57:59.791Z"
   },
   {
    "duration": 6,
    "start_time": "2024-03-26T16:57:59.798Z"
   },
   {
    "duration": 5,
    "start_time": "2024-03-26T16:57:59.806Z"
   },
   {
    "duration": 6,
    "start_time": "2024-03-26T16:57:59.812Z"
   },
   {
    "duration": 5,
    "start_time": "2024-03-26T16:57:59.820Z"
   },
   {
    "duration": 47,
    "start_time": "2024-03-26T16:57:59.826Z"
   },
   {
    "duration": 8,
    "start_time": "2024-03-26T16:57:59.875Z"
   },
   {
    "duration": 4,
    "start_time": "2024-03-26T16:57:59.884Z"
   },
   {
    "duration": 5,
    "start_time": "2024-03-26T16:57:59.890Z"
   },
   {
    "duration": 10,
    "start_time": "2024-03-26T16:57:59.896Z"
   },
   {
    "duration": 209,
    "start_time": "2024-03-26T16:57:59.907Z"
   },
   {
    "duration": 100,
    "start_time": "2024-03-26T16:58:00.118Z"
   },
   {
    "duration": 348,
    "start_time": "2024-03-26T16:58:00.221Z"
   },
   {
    "duration": 8,
    "start_time": "2024-03-26T16:58:00.571Z"
   },
   {
    "duration": 392,
    "start_time": "2024-03-26T16:58:00.581Z"
   },
   {
    "duration": 10,
    "start_time": "2024-03-26T16:58:00.975Z"
   },
   {
    "duration": 398,
    "start_time": "2024-03-26T16:58:00.986Z"
   },
   {
    "duration": 15,
    "start_time": "2024-03-26T16:58:01.386Z"
   },
   {
    "duration": 48,
    "start_time": "2024-03-26T16:58:01.403Z"
   },
   {
    "duration": 58,
    "start_time": "2024-03-26T16:58:01.453Z"
   },
   {
    "duration": 48,
    "start_time": "2024-03-26T16:58:01.513Z"
   },
   {
    "duration": 65,
    "start_time": "2024-03-26T16:58:01.564Z"
   },
   {
    "duration": 86,
    "start_time": "2024-03-26T16:58:01.631Z"
   },
   {
    "duration": 130,
    "start_time": "2024-03-26T16:58:01.719Z"
   },
   {
    "duration": 67,
    "start_time": "2024-03-26T16:58:01.850Z"
   },
   {
    "duration": 577,
    "start_time": "2024-03-26T16:58:01.919Z"
   },
   {
    "duration": 461,
    "start_time": "2024-03-26T16:58:02.498Z"
   },
   {
    "duration": 4,
    "start_time": "2024-03-26T16:58:02.961Z"
   },
   {
    "duration": 59,
    "start_time": "2024-03-26T16:58:02.970Z"
   },
   {
    "duration": 31,
    "start_time": "2024-03-26T16:58:03.031Z"
   },
   {
    "duration": 80,
    "start_time": "2024-03-26T16:58:03.069Z"
   },
   {
    "duration": 98,
    "start_time": "2024-03-26T16:58:03.150Z"
   },
   {
    "duration": 98,
    "start_time": "2024-03-26T16:58:03.249Z"
   },
   {
    "duration": 57,
    "start_time": "2024-03-26T17:03:26.697Z"
   },
   {
    "duration": 28,
    "start_time": "2024-03-26T17:03:43.760Z"
   },
   {
    "duration": 15,
    "start_time": "2024-03-26T17:04:42.656Z"
   },
   {
    "duration": 11,
    "start_time": "2024-03-26T17:05:27.111Z"
   },
   {
    "duration": 32,
    "start_time": "2024-03-26T17:05:34.926Z"
   },
   {
    "duration": 439,
    "start_time": "2024-03-26T17:05:49.542Z"
   },
   {
    "duration": 251,
    "start_time": "2024-03-26T17:05:49.983Z"
   },
   {
    "duration": 3,
    "start_time": "2024-03-26T17:05:50.235Z"
   },
   {
    "duration": 500,
    "start_time": "2024-03-26T17:05:50.240Z"
   },
   {
    "duration": 3,
    "start_time": "2024-03-26T17:05:50.742Z"
   },
   {
    "duration": 39,
    "start_time": "2024-03-26T17:05:50.746Z"
   },
   {
    "duration": 37,
    "start_time": "2024-03-26T17:05:50.787Z"
   },
   {
    "duration": 15,
    "start_time": "2024-03-26T17:05:50.826Z"
   },
   {
    "duration": 30,
    "start_time": "2024-03-26T17:05:50.843Z"
   },
   {
    "duration": 17,
    "start_time": "2024-03-26T17:05:50.876Z"
   },
   {
    "duration": 20,
    "start_time": "2024-03-26T17:05:50.894Z"
   },
   {
    "duration": 13,
    "start_time": "2024-03-26T17:05:50.916Z"
   },
   {
    "duration": 39,
    "start_time": "2024-03-26T17:05:50.931Z"
   },
   {
    "duration": 16,
    "start_time": "2024-03-26T17:05:50.972Z"
   },
   {
    "duration": 4,
    "start_time": "2024-03-26T17:05:50.990Z"
   },
   {
    "duration": 14,
    "start_time": "2024-03-26T17:05:50.996Z"
   },
   {
    "duration": 10,
    "start_time": "2024-03-26T17:05:51.012Z"
   },
   {
    "duration": 19,
    "start_time": "2024-03-26T17:05:51.024Z"
   },
   {
    "duration": 35,
    "start_time": "2024-03-26T17:05:51.045Z"
   },
   {
    "duration": 23,
    "start_time": "2024-03-26T17:05:51.082Z"
   },
   {
    "duration": 9,
    "start_time": "2024-03-26T17:05:51.106Z"
   },
   {
    "duration": 9,
    "start_time": "2024-03-26T17:05:51.117Z"
   },
   {
    "duration": 6,
    "start_time": "2024-03-26T17:05:51.127Z"
   },
   {
    "duration": 6,
    "start_time": "2024-03-26T17:05:51.134Z"
   },
   {
    "duration": 5,
    "start_time": "2024-03-26T17:05:51.141Z"
   },
   {
    "duration": 199,
    "start_time": "2024-03-26T17:05:51.148Z"
   },
   {
    "duration": 95,
    "start_time": "2024-03-26T17:05:51.349Z"
   },
   {
    "duration": 318,
    "start_time": "2024-03-26T17:05:51.448Z"
   },
   {
    "duration": 7,
    "start_time": "2024-03-26T17:05:51.769Z"
   },
   {
    "duration": 359,
    "start_time": "2024-03-26T17:05:51.778Z"
   },
   {
    "duration": 9,
    "start_time": "2024-03-26T17:05:52.139Z"
   },
   {
    "duration": 324,
    "start_time": "2024-03-26T17:05:52.150Z"
   },
   {
    "duration": 17,
    "start_time": "2024-03-26T17:05:52.476Z"
   },
   {
    "duration": 12,
    "start_time": "2024-03-26T17:05:52.494Z"
   },
   {
    "duration": 24,
    "start_time": "2024-03-26T17:05:52.508Z"
   },
   {
    "duration": 38,
    "start_time": "2024-03-26T17:05:52.534Z"
   },
   {
    "duration": 18,
    "start_time": "2024-03-26T17:05:52.574Z"
   },
   {
    "duration": 21,
    "start_time": "2024-03-26T17:05:52.594Z"
   },
   {
    "duration": 17,
    "start_time": "2024-03-26T17:05:52.617Z"
   },
   {
    "duration": 15,
    "start_time": "2024-03-26T17:05:52.636Z"
   },
   {
    "duration": 577,
    "start_time": "2024-03-26T17:05:52.653Z"
   },
   {
    "duration": 469,
    "start_time": "2024-03-26T17:05:53.232Z"
   },
   {
    "duration": 4,
    "start_time": "2024-03-26T17:05:53.702Z"
   },
   {
    "duration": 66,
    "start_time": "2024-03-26T17:05:53.707Z"
   },
   {
    "duration": 32,
    "start_time": "2024-03-26T17:05:53.775Z"
   },
   {
    "duration": 6,
    "start_time": "2024-03-26T17:05:53.809Z"
   },
   {
    "duration": 6,
    "start_time": "2024-03-26T17:05:53.816Z"
   },
   {
    "duration": 140,
    "start_time": "2024-03-26T17:05:53.823Z"
   },
   {
    "duration": 0,
    "start_time": "2024-03-26T17:05:53.969Z"
   },
   {
    "duration": 25,
    "start_time": "2024-03-26T17:06:16.319Z"
   },
   {
    "duration": 12,
    "start_time": "2024-03-26T17:06:28.712Z"
   },
   {
    "duration": 24,
    "start_time": "2024-03-26T17:06:37.797Z"
   },
   {
    "duration": 12,
    "start_time": "2024-03-26T17:06:47.733Z"
   },
   {
    "duration": 15,
    "start_time": "2024-03-26T17:07:31.846Z"
   },
   {
    "duration": 14,
    "start_time": "2024-03-26T17:13:40.170Z"
   },
   {
    "duration": 20,
    "start_time": "2024-03-26T17:14:18.212Z"
   },
   {
    "duration": 19,
    "start_time": "2024-03-26T17:14:34.522Z"
   },
   {
    "duration": 22,
    "start_time": "2024-03-26T17:15:10.490Z"
   },
   {
    "duration": 10,
    "start_time": "2024-03-26T17:38:39.674Z"
   },
   {
    "duration": 6,
    "start_time": "2024-03-26T17:38:50.787Z"
   },
   {
    "duration": 5,
    "start_time": "2024-03-26T17:39:14.754Z"
   },
   {
    "duration": 9,
    "start_time": "2024-03-26T17:45:56.206Z"
   },
   {
    "duration": 423,
    "start_time": "2024-03-26T18:07:23.848Z"
   },
   {
    "duration": 239,
    "start_time": "2024-03-26T18:07:24.273Z"
   },
   {
    "duration": 3,
    "start_time": "2024-03-26T18:07:24.513Z"
   },
   {
    "duration": 494,
    "start_time": "2024-03-26T18:07:24.517Z"
   },
   {
    "duration": 3,
    "start_time": "2024-03-26T18:07:25.013Z"
   },
   {
    "duration": 42,
    "start_time": "2024-03-26T18:07:25.017Z"
   },
   {
    "duration": 28,
    "start_time": "2024-03-26T18:07:25.060Z"
   },
   {
    "duration": 14,
    "start_time": "2024-03-26T18:07:25.090Z"
   },
   {
    "duration": 34,
    "start_time": "2024-03-26T18:07:25.106Z"
   },
   {
    "duration": 17,
    "start_time": "2024-03-26T18:07:25.144Z"
   },
   {
    "duration": 15,
    "start_time": "2024-03-26T18:07:25.163Z"
   },
   {
    "duration": 7,
    "start_time": "2024-03-26T18:07:25.180Z"
   },
   {
    "duration": 16,
    "start_time": "2024-03-26T18:07:25.189Z"
   },
   {
    "duration": 11,
    "start_time": "2024-03-26T18:07:25.207Z"
   },
   {
    "duration": 3,
    "start_time": "2024-03-26T18:07:25.220Z"
   },
   {
    "duration": 37,
    "start_time": "2024-03-26T18:07:25.225Z"
   },
   {
    "duration": 36,
    "start_time": "2024-03-26T18:07:25.263Z"
   },
   {
    "duration": 12,
    "start_time": "2024-03-26T18:07:25.301Z"
   },
   {
    "duration": 7,
    "start_time": "2024-03-26T18:07:25.314Z"
   },
   {
    "duration": 19,
    "start_time": "2024-03-26T18:07:25.322Z"
   },
   {
    "duration": 12,
    "start_time": "2024-03-26T18:07:25.342Z"
   },
   {
    "duration": 9,
    "start_time": "2024-03-26T18:07:25.355Z"
   },
   {
    "duration": 4,
    "start_time": "2024-03-26T18:07:25.365Z"
   },
   {
    "duration": 11,
    "start_time": "2024-03-26T18:07:25.371Z"
   },
   {
    "duration": 18,
    "start_time": "2024-03-26T18:07:25.384Z"
   },
   {
    "duration": 187,
    "start_time": "2024-03-26T18:07:25.404Z"
   },
   {
    "duration": 95,
    "start_time": "2024-03-26T18:07:25.593Z"
   },
   {
    "duration": 320,
    "start_time": "2024-03-26T18:07:25.691Z"
   },
   {
    "duration": 8,
    "start_time": "2024-03-26T18:07:26.012Z"
   },
   {
    "duration": 326,
    "start_time": "2024-03-26T18:07:26.021Z"
   },
   {
    "duration": 8,
    "start_time": "2024-03-26T18:07:26.348Z"
   },
   {
    "duration": 307,
    "start_time": "2024-03-26T18:07:26.357Z"
   },
   {
    "duration": 8,
    "start_time": "2024-03-26T18:07:26.669Z"
   },
   {
    "duration": 26,
    "start_time": "2024-03-26T18:07:26.678Z"
   },
   {
    "duration": 68,
    "start_time": "2024-03-26T18:07:26.706Z"
   },
   {
    "duration": 34,
    "start_time": "2024-03-26T18:07:26.775Z"
   },
   {
    "duration": 18,
    "start_time": "2024-03-26T18:07:26.811Z"
   },
   {
    "duration": 10,
    "start_time": "2024-03-26T18:07:26.831Z"
   },
   {
    "duration": 13,
    "start_time": "2024-03-26T18:07:26.842Z"
   },
   {
    "duration": 15,
    "start_time": "2024-03-26T18:07:26.870Z"
   },
   {
    "duration": 14,
    "start_time": "2024-03-26T18:07:26.886Z"
   },
   {
    "duration": 565,
    "start_time": "2024-03-26T18:07:26.902Z"
   },
   {
    "duration": 484,
    "start_time": "2024-03-26T18:07:27.468Z"
   },
   {
    "duration": 4,
    "start_time": "2024-03-26T18:07:27.953Z"
   },
   {
    "duration": 67,
    "start_time": "2024-03-26T18:07:27.958Z"
   },
   {
    "duration": 29,
    "start_time": "2024-03-26T18:07:28.026Z"
   },
   {
    "duration": 16,
    "start_time": "2024-03-26T18:07:28.057Z"
   },
   {
    "duration": 7,
    "start_time": "2024-03-26T18:07:28.075Z"
   },
   {
    "duration": 18,
    "start_time": "2024-03-26T18:07:28.083Z"
   },
   {
    "duration": 5,
    "start_time": "2024-03-26T18:07:28.103Z"
   },
   {
    "duration": 373,
    "start_time": "2024-03-27T01:19:09.807Z"
   },
   {
    "duration": 222,
    "start_time": "2024-03-27T01:19:10.182Z"
   },
   {
    "duration": 3,
    "start_time": "2024-03-27T01:19:10.405Z"
   },
   {
    "duration": 383,
    "start_time": "2024-03-27T01:19:10.409Z"
   },
   {
    "duration": 2,
    "start_time": "2024-03-27T01:19:10.793Z"
   },
   {
    "duration": 29,
    "start_time": "2024-03-27T01:19:10.801Z"
   },
   {
    "duration": 24,
    "start_time": "2024-03-27T01:19:10.831Z"
   },
   {
    "duration": 14,
    "start_time": "2024-03-27T01:19:10.857Z"
   },
   {
    "duration": 17,
    "start_time": "2024-03-27T01:19:10.872Z"
   },
   {
    "duration": 13,
    "start_time": "2024-03-27T01:19:10.891Z"
   },
   {
    "duration": 11,
    "start_time": "2024-03-27T01:19:10.905Z"
   },
   {
    "duration": 5,
    "start_time": "2024-03-27T01:19:10.917Z"
   },
   {
    "duration": 8,
    "start_time": "2024-03-27T01:19:10.924Z"
   },
   {
    "duration": 8,
    "start_time": "2024-03-27T01:19:10.933Z"
   },
   {
    "duration": 3,
    "start_time": "2024-03-27T01:19:10.942Z"
   },
   {
    "duration": 6,
    "start_time": "2024-03-27T01:19:10.946Z"
   },
   {
    "duration": 5,
    "start_time": "2024-03-27T01:19:10.953Z"
   },
   {
    "duration": 16,
    "start_time": "2024-03-27T01:19:10.959Z"
   },
   {
    "duration": 30,
    "start_time": "2024-03-27T01:19:10.976Z"
   },
   {
    "duration": 12,
    "start_time": "2024-03-27T01:19:11.007Z"
   },
   {
    "duration": 7,
    "start_time": "2024-03-27T01:19:11.021Z"
   },
   {
    "duration": 7,
    "start_time": "2024-03-27T01:19:11.029Z"
   },
   {
    "duration": 4,
    "start_time": "2024-03-27T01:19:11.037Z"
   },
   {
    "duration": 8,
    "start_time": "2024-03-27T01:19:11.042Z"
   },
   {
    "duration": 5,
    "start_time": "2024-03-27T01:19:11.051Z"
   },
   {
    "duration": 172,
    "start_time": "2024-03-27T01:19:11.057Z"
   },
   {
    "duration": 83,
    "start_time": "2024-03-27T01:19:11.231Z"
   },
   {
    "duration": 248,
    "start_time": "2024-03-27T01:19:11.317Z"
   },
   {
    "duration": 6,
    "start_time": "2024-03-27T01:19:11.566Z"
   },
   {
    "duration": 253,
    "start_time": "2024-03-27T01:19:11.573Z"
   },
   {
    "duration": 6,
    "start_time": "2024-03-27T01:19:11.827Z"
   },
   {
    "duration": 255,
    "start_time": "2024-03-27T01:19:11.834Z"
   },
   {
    "duration": 13,
    "start_time": "2024-03-27T01:19:12.090Z"
   },
   {
    "duration": 11,
    "start_time": "2024-03-27T01:19:12.104Z"
   },
   {
    "duration": 5,
    "start_time": "2024-03-27T01:19:12.116Z"
   },
   {
    "duration": 23,
    "start_time": "2024-03-27T01:19:12.122Z"
   },
   {
    "duration": 13,
    "start_time": "2024-03-27T01:19:12.147Z"
   },
   {
    "duration": 8,
    "start_time": "2024-03-27T01:19:12.161Z"
   },
   {
    "duration": 9,
    "start_time": "2024-03-27T01:19:12.170Z"
   },
   {
    "duration": 32,
    "start_time": "2024-03-27T01:19:12.180Z"
   },
   {
    "duration": 10,
    "start_time": "2024-03-27T01:19:12.213Z"
   },
   {
    "duration": 444,
    "start_time": "2024-03-27T01:19:12.224Z"
   },
   {
    "duration": 372,
    "start_time": "2024-03-27T01:19:12.669Z"
   },
   {
    "duration": 4,
    "start_time": "2024-03-27T01:19:13.042Z"
   },
   {
    "duration": 56,
    "start_time": "2024-03-27T01:19:13.047Z"
   },
   {
    "duration": 25,
    "start_time": "2024-03-27T01:19:13.105Z"
   },
   {
    "duration": 5,
    "start_time": "2024-03-27T01:19:13.131Z"
   },
   {
    "duration": 12,
    "start_time": "2024-03-27T01:19:13.138Z"
   },
   {
    "duration": 20,
    "start_time": "2024-03-27T01:19:13.151Z"
   },
   {
    "duration": 4,
    "start_time": "2024-03-27T01:19:13.172Z"
   },
   {
    "duration": 91,
    "start_time": "2024-03-27T01:21:49.437Z"
   },
   {
    "duration": 6,
    "start_time": "2024-03-27T01:21:57.213Z"
   }
  ],
  "kernelspec": {
   "display_name": "Python 3 (ipykernel)",
   "language": "python",
   "name": "python3"
  },
  "language_info": {
   "codemirror_mode": {
    "name": "ipython",
    "version": 3
   },
   "file_extension": ".py",
   "mimetype": "text/x-python",
   "name": "python",
   "nbconvert_exporter": "python",
   "pygments_lexer": "ipython3",
   "version": "3.9.5"
  },
  "toc": {
   "base_numbering": 1,
   "nav_menu": {},
   "number_sections": true,
   "sideBar": true,
   "skip_h1_title": true,
   "title_cell": "Содержание",
   "title_sidebar": "Contents",
   "toc_cell": true,
   "toc_position": {
    "height": "calc(100% - 180px)",
    "left": "10px",
    "top": "150px",
    "width": "384px"
   },
   "toc_section_display": true,
   "toc_window_display": true
  }
 },
 "nbformat": 4,
 "nbformat_minor": 5
}
