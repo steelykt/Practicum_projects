{
 "cells": [
  {
   "cell_type": "markdown",
   "metadata": {},
   "source": [
    "#  Прогнозирование заказов такси"
   ]
  },
  {
   "cell_type": "markdown",
   "metadata": {},
   "source": [
    "Компания «Чётенькое такси» собрала исторические данные о заказах такси в аэропортах. Чтобы привлекать больше водителей в период пиковой нагрузки, нужно спрогнозировать количество заказов такси на следующий час. Постройте модель для такого предсказания.\n",
    "\n",
    "Значение метрики *RMSE* на тестовой выборке должно быть не больше 48.\n",
    "\n",
    "Вам нужно:\n",
    "\n",
    "1. Загрузить данные и выполнить их ресемплирование по одному часу.\n",
    "2. Проанализировать данные.\n",
    "3. Обучить разные модели с различными гиперпараметрами. Сделать тестовую выборку размером 10% от исходных данных.\n",
    "4. Проверить данные на тестовой выборке и сделать выводы.\n"
   ]
  },
  {
   "cell_type": "markdown",
   "metadata": {},
   "source": [
    "## Подготовка"
   ]
  },
  {
   "cell_type": "markdown",
   "metadata": {},
   "source": [
    "### Загрузка библиотек"
   ]
  },
  {
   "cell_type": "code",
   "execution_count": 1,
   "metadata": {},
   "outputs": [],
   "source": [
    "import pandas as pd\n",
    "import numpy as np\n",
    "import matplotlib.pyplot as plt\n",
    "import lightgbm as lgb\n",
    "\n",
    "from sklearn.model_selection import train_test_split, RandomizedSearchCV, GridSearchCV, TimeSeriesSplit\n",
    "from sklearn.metrics import mean_squared_error\n",
    "from statsmodels.tsa.seasonal import seasonal_decompose\n",
    "from sklearn.linear_model import LinearRegression\n",
    "from sklearn.pipeline import Pipeline\n",
    "from sklearn.preprocessing import StandardScaler, MinMaxScaler\n",
    "from sklearn.tree import DecisionTreeRegressor\n",
    "from sklearn.ensemble import RandomForestRegressor\n",
    "\n",
    "RANDOM_STATE = 42"
   ]
  },
  {
   "cell_type": "markdown",
   "metadata": {},
   "source": [
    "### Загрузка данных"
   ]
  },
  {
   "cell_type": "code",
   "execution_count": 2,
   "metadata": {},
   "outputs": [],
   "source": [
    "data = pd.read_csv('taxi.csv', index_col=[0], parse_dates=[0])"
   ]
  },
  {
   "cell_type": "markdown",
   "metadata": {},
   "source": [
    "### Обзор данных"
   ]
  },
  {
   "cell_type": "code",
   "execution_count": 3,
   "metadata": {},
   "outputs": [
    {
     "name": "stdout",
     "output_type": "stream",
     "text": [
      "<class 'pandas.core.frame.DataFrame'>\n",
      "DatetimeIndex: 26496 entries, 2018-03-01 00:00:00 to 2018-08-31 23:50:00\n",
      "Data columns (total 1 columns):\n",
      " #   Column      Non-Null Count  Dtype\n",
      "---  ------      --------------  -----\n",
      " 0   num_orders  26496 non-null  int64\n",
      "dtypes: int64(1)\n",
      "memory usage: 414.0 KB\n"
     ]
    }
   ],
   "source": [
    "data.info()"
   ]
  },
  {
   "cell_type": "code",
   "execution_count": 4,
   "metadata": {
    "scrolled": true
   },
   "outputs": [
    {
     "data": {
      "text/html": [
       "<div>\n",
       "<style scoped>\n",
       "    .dataframe tbody tr th:only-of-type {\n",
       "        vertical-align: middle;\n",
       "    }\n",
       "\n",
       "    .dataframe tbody tr th {\n",
       "        vertical-align: top;\n",
       "    }\n",
       "\n",
       "    .dataframe thead th {\n",
       "        text-align: right;\n",
       "    }\n",
       "</style>\n",
       "<table border=\"1\" class=\"dataframe\">\n",
       "  <thead>\n",
       "    <tr style=\"text-align: right;\">\n",
       "      <th></th>\n",
       "      <th>num_orders</th>\n",
       "    </tr>\n",
       "    <tr>\n",
       "      <th>datetime</th>\n",
       "      <th></th>\n",
       "    </tr>\n",
       "  </thead>\n",
       "  <tbody>\n",
       "    <tr>\n",
       "      <th>2018-03-01 00:00:00</th>\n",
       "      <td>9</td>\n",
       "    </tr>\n",
       "    <tr>\n",
       "      <th>2018-03-01 00:10:00</th>\n",
       "      <td>14</td>\n",
       "    </tr>\n",
       "    <tr>\n",
       "      <th>2018-03-01 00:20:00</th>\n",
       "      <td>28</td>\n",
       "    </tr>\n",
       "    <tr>\n",
       "      <th>2018-03-01 00:30:00</th>\n",
       "      <td>20</td>\n",
       "    </tr>\n",
       "    <tr>\n",
       "      <th>2018-03-01 00:40:00</th>\n",
       "      <td>32</td>\n",
       "    </tr>\n",
       "  </tbody>\n",
       "</table>\n",
       "</div>"
      ],
      "text/plain": [
       "                     num_orders\n",
       "datetime                       \n",
       "2018-03-01 00:00:00           9\n",
       "2018-03-01 00:10:00          14\n",
       "2018-03-01 00:20:00          28\n",
       "2018-03-01 00:30:00          20\n",
       "2018-03-01 00:40:00          32"
      ]
     },
     "execution_count": 4,
     "metadata": {},
     "output_type": "execute_result"
    }
   ],
   "source": [
    "data.head()"
   ]
  },
  {
   "cell_type": "markdown",
   "metadata": {},
   "source": [
    "Данные представлены количеством заказов за каждые 10 мин."
   ]
  },
  {
   "cell_type": "markdown",
   "metadata": {},
   "source": [
    "### Проверка, что индекс монотонный"
   ]
  },
  {
   "cell_type": "code",
   "execution_count": 5,
   "metadata": {
    "scrolled": true
   },
   "outputs": [
    {
     "data": {
      "text/plain": [
       "True"
      ]
     },
     "execution_count": 5,
     "metadata": {},
     "output_type": "execute_result"
    }
   ],
   "source": [
    "data.index.is_monotonic"
   ]
  },
  {
   "cell_type": "markdown",
   "metadata": {},
   "source": [
    "### Ресемплирование по одному часу"
   ]
  },
  {
   "cell_type": "code",
   "execution_count": 6,
   "metadata": {},
   "outputs": [],
   "source": [
    "data = data.resample('1H').sum()"
   ]
  },
  {
   "cell_type": "markdown",
   "metadata": {},
   "source": [
    "## Анализ"
   ]
  },
  {
   "cell_type": "markdown",
   "metadata": {},
   "source": [
    "### График временного ряда"
   ]
  },
  {
   "cell_type": "code",
   "execution_count": 7,
   "metadata": {
    "scrolled": true
   },
   "outputs": [
    {
     "data": {
      "image/png": "[encoded data removed]",
      "text/plain": [
       "<Figure size 432x288 with 1 Axes>"
      ]
     },
     "metadata": {
      "needs_background": "light"
     },
     "output_type": "display_data"
    }
   ],
   "source": [
    "data.plot();"
   ]
  },
  {
   "cell_type": "code",
   "execution_count": 8,
   "metadata": {},
   "outputs": [
    {
     "data": {
      "image/png": "[encoded data removed]",
      "text/plain": [
       "<Figure size 432x288 with 1 Axes>"
      ]
     },
     "metadata": {
      "needs_background": "light"
     },
     "output_type": "display_data"
    }
   ],
   "source": [
    "data.resample('1D').mean().plot();"
   ]
  },
  {
   "cell_type": "code",
   "execution_count": 9,
   "metadata": {},
   "outputs": [
    {
     "data": {
      "image/png": "[encoded data removed]",
      "text/plain": [
       "<Figure size 432x288 with 1 Axes>"
      ]
     },
     "metadata": {
      "needs_background": "light"
     },
     "output_type": "display_data"
    }
   ],
   "source": [
    "data.resample('1W').mean().plot();"
   ]
  },
  {
   "cell_type": "code",
   "execution_count": 10,
   "metadata": {
    "scrolled": true
   },
   "outputs": [
    {
     "data": {
      "image/png": "[encoded data removed]",
      "text/plain": [
       "<Figure size 432x288 with 1 Axes>"
      ]
     },
     "metadata": {
      "needs_background": "light"
     },
     "output_type": "display_data"
    }
   ],
   "source": [
    "data.resample('1M').mean().plot();"
   ]
  },
  {
   "cell_type": "markdown",
   "metadata": {},
   "source": [
    "### Разложение временного ряда на тренд, сезонность и остаток"
   ]
  },
  {
   "cell_type": "code",
   "execution_count": 11,
   "metadata": {
    "scrolled": false
   },
   "outputs": [
    {
     "data": {
      "image/png": "[encoded data removed]",
      "text/plain": [
       "<Figure size 432x720 with 3 Axes>"
      ]
     },
     "metadata": {
      "needs_background": "light"
     },
     "output_type": "display_data"
    }
   ],
   "source": [
    "decomposed = seasonal_decompose(data)\n",
    "\n",
    "plt.figure(figsize=(6, 10))\n",
    "plt.subplot(311)\n",
    "\n",
    "decomposed.trend.plot(ax=plt.gca())\n",
    "plt.title('Trend')\n",
    "plt.subplot(312)\n",
    "decomposed.seasonal.plot(ax=plt.gca())\n",
    "plt.title('Seasonality')\n",
    "plt.subplot(313)\n",
    "decomposed.resid.plot(ax=plt.gca())\n",
    "plt.title('Residuals')\n",
    "plt.tight_layout()"
   ]
  },
  {
   "cell_type": "markdown",
   "metadata": {},
   "source": [
    "### Сезонность"
   ]
  },
  {
   "cell_type": "code",
   "execution_count": 12,
   "metadata": {
    "scrolled": true
   },
   "outputs": [
    {
     "data": {
      "image/png": "[encoded data removed]",
      "text/plain": [
       "<Figure size 432x288 with 1 Axes>"
      ]
     },
     "metadata": {
      "needs_background": "light"
     },
     "output_type": "display_data"
    }
   ],
   "source": [
    "decomposed.seasonal.head(24*7).plot(ax=plt.gca());"
   ]
  },
  {
   "cell_type": "code",
   "execution_count": 13,
   "metadata": {},
   "outputs": [
    {
     "data": {
      "image/png": "[encoded data removed]",
      "text/plain": [
       "<Figure size 432x288 with 1 Axes>"
      ]
     },
     "metadata": {
      "needs_background": "light"
     },
     "output_type": "display_data"
    }
   ],
   "source": [
    "decomposed.seasonal.tail(24*7).plot(ax=plt.gca());"
   ]
  },
  {
   "cell_type": "code",
   "execution_count": 14,
   "metadata": {
    "scrolled": true
   },
   "outputs": [
    {
     "data": {
      "image/png": "[encoded data removed]",
      "text/plain": [
       "<Figure size 432x288 with 1 Axes>"
      ]
     },
     "metadata": {
      "needs_background": "light"
     },
     "output_type": "display_data"
    }
   ],
   "source": [
    "decomposition = seasonal_decompose(data.resample('1D').mean())\n",
    "seasonal_component = decomposition.seasonal['2018-08-01':'2018-08-15']\n",
    "ax = seasonal_component.plot(ax=plt.gca())\n",
    "ax.set_xticks(seasonal_component.index)\n",
    "ax.set_xticklabels(seasonal_component.index.day_name(), rotation=45)\n",
    "plt.show();"
   ]
  },
  {
   "cell_type": "code",
   "execution_count": 15,
   "metadata": {
    "scrolled": true
   },
   "outputs": [
    {
     "data": {
      "image/png": "[encoded data removed]",
      "text/plain": [
       "<Figure size 432x288 with 1 Axes>"
      ]
     },
     "metadata": {
      "needs_background": "light"
     },
     "output_type": "display_data"
    }
   ],
   "source": [
    "decomposed.seasonal['2018-08-30':'2018-08-30'].plot(ax=plt.gca());"
   ]
  },
  {
   "cell_type": "markdown",
   "metadata": {},
   "source": [
    "### Разности временного ряда"
   ]
  },
  {
   "cell_type": "code",
   "execution_count": 16,
   "metadata": {
    "scrolled": true
   },
   "outputs": [
    {
     "data": {
      "image/png": "[encoded data removed]",
      "text/plain": [
       "<Figure size 432x288 with 1 Axes>"
      ]
     },
     "metadata": {
      "needs_background": "light"
     },
     "output_type": "display_data"
    }
   ],
   "source": [
    "data_new = data - data.shift()\n",
    "data_new['mean'] = data_new['num_orders'].rolling(15).mean()\n",
    "data_new['std'] = data_new['num_orders'].rolling(15).std()\n",
    "data_new.plot();"
   ]
  },
  {
   "cell_type": "markdown",
   "metadata": {},
   "source": [
    "Имеется положительный тренд, количество заказов увеличивается. Имеется сезонность по дням, пик приходится с вечера на ночное время, спад рано утром, затем рост с началом рабочих часов. Если взять по дням недели, то вторник минимум заказов и в воскресенье тоже, пик это понедельник и пятница. Временной ряд стационарный."
   ]
  },
  {
   "cell_type": "markdown",
   "metadata": {},
   "source": [
    "## Обучение"
   ]
  },
  {
   "cell_type": "markdown",
   "metadata": {},
   "source": [
    "### Создание календарных, отстающих  и скользящего среднего признаков"
   ]
  },
  {
   "cell_type": "code",
   "execution_count": 17,
   "metadata": {},
   "outputs": [],
   "source": [
    "def make_features(data):\n",
    "    df = data.copy()\n",
    "    df['month'] = data.index.month\n",
    "    df['day'] = data.index.day\n",
    "    df['dayofweek'] = data.index.dayofweek\n",
    "    df['hour'] = data.index.hour\n",
    "    \n",
    "    for lag in range(1, 6):\n",
    "        df['lag_{}'.format(lag)] = df['num_orders'].shift(lag)\n",
    "\n",
    "    df['rolling_mean'] = df['num_orders'].shift().rolling(1).mean()\n",
    "    df.dropna(inplace=True)\n",
    "    \n",
    "    return df"
   ]
  },
  {
   "cell_type": "code",
   "execution_count": 18,
   "metadata": {},
   "outputs": [],
   "source": [
    "df = make_features(data)"
   ]
  },
  {
   "cell_type": "markdown",
   "metadata": {},
   "source": [
    "### Разделение данных на тренировочную и тестовую выборки"
   ]
  },
  {
   "cell_type": "code",
   "execution_count": 19,
   "metadata": {},
   "outputs": [],
   "source": [
    "X = df.drop(['num_orders'], axis=1)\n",
    "y = df['num_orders']"
   ]
  },
  {
   "cell_type": "code",
   "execution_count": 20,
   "metadata": {},
   "outputs": [],
   "source": [
    "X_train, X_test, y_train, y_test = train_test_split(X, y, shuffle=False, test_size=0.1, random_state=RANDOM_STATE)"
   ]
  },
  {
   "cell_type": "markdown",
   "metadata": {},
   "source": [
    "### Обучение нескольких моделей"
   ]
  },
  {
   "cell_type": "code",
   "execution_count": 21,
   "metadata": {},
   "outputs": [],
   "source": [
    "train_models = []"
   ]
  },
  {
   "cell_type": "code",
   "execution_count": 22,
   "metadata": {},
   "outputs": [],
   "source": [
    "tscv = TimeSeriesSplit(n_splits=3)"
   ]
  },
  {
   "cell_type": "markdown",
   "metadata": {},
   "source": [
    "### Линейная регрессия"
   ]
  },
  {
   "cell_type": "code",
   "execution_count": 23,
   "metadata": {},
   "outputs": [
    {
     "name": "stdout",
     "output_type": "stream",
     "text": [
      "RMSE: 30.49423537423937\n"
     ]
    }
   ],
   "source": [
    "model = LinearRegression()\n",
    "model.fit(X_train, y_train)\n",
    "y_pred = model.predict(X_train)\n",
    "rmse = np.sqrt(mean_squared_error(y_train, y_pred))\n",
    "print(f'RMSE: {rmse}')"
   ]
  },
  {
   "cell_type": "code",
   "execution_count": 24,
   "metadata": {},
   "outputs": [],
   "source": [
    "train_models.append([model, rmse])"
   ]
  },
  {
   "cell_type": "markdown",
   "metadata": {},
   "source": [
    "### DecisionTreeRegressor"
   ]
  },
  {
   "cell_type": "code",
   "execution_count": 25,
   "metadata": {},
   "outputs": [
    {
     "name": "stdout",
     "output_type": "stream",
     "text": [
      "RMSE: 22.023192400699568\n"
     ]
    }
   ],
   "source": [
    "model = DecisionTreeRegressor(random_state=RANDOM_STATE)\n",
    "parameters = {'max_depth':range(1,11,2)}\n",
    "\n",
    "gsearch = GridSearchCV(estimator=model, cv=tscv, param_grid=parameters)\n",
    "gsearch.fit(X_train, y_train)\n",
    "gsearch.best_params_\n",
    "y_pred = gsearch.predict(X_train)\n",
    "rmse = np.sqrt(mean_squared_error(y_train, y_pred))\n",
    "print(f'RMSE: {rmse}')"
   ]
  },
  {
   "cell_type": "code",
   "execution_count": 26,
   "metadata": {},
   "outputs": [],
   "source": [
    "train_models.append([model, rmse])"
   ]
  },
  {
   "cell_type": "markdown",
   "metadata": {},
   "source": [
    "### RandomForestRegressor"
   ]
  },
  {
   "cell_type": "code",
   "execution_count": 27,
   "metadata": {},
   "outputs": [
    {
     "data": {
      "text/plain": [
       "{'max_depth': 9, 'n_estimators': 80}"
      ]
     },
     "metadata": {},
     "output_type": "display_data"
    },
    {
     "name": "stdout",
     "output_type": "stream",
     "text": [
      "RMSE: 17.14855830604277\n"
     ]
    }
   ],
   "source": [
    "model = RandomForestRegressor(random_state=RANDOM_STATE)\n",
    "parameters = {'n_estimators':range(50,100,10), 'max_depth':range(1,11,2)}\n",
    "\n",
    "gsearch = GridSearchCV(estimator=model, cv=tscv, param_grid=parameters)\n",
    "gsearch.fit(X_train, y_train)\n",
    "display(gsearch.best_params_)\n",
    "y_pred = gsearch.predict(X_train)\n",
    "rmse = np.sqrt(mean_squared_error(y_train, y_pred))\n",
    "print(f'RMSE: {rmse}')"
   ]
  },
  {
   "cell_type": "code",
   "execution_count": 28,
   "metadata": {},
   "outputs": [],
   "source": [
    "train_models.append([model, rmse])"
   ]
  },
  {
   "cell_type": "markdown",
   "metadata": {},
   "source": [
    "### LightGBM"
   ]
  },
  {
   "cell_type": "code",
   "execution_count": 29,
   "metadata": {},
   "outputs": [
    {
     "data": {
      "text/plain": [
       "{'max_depth': 5, 'n_estimators': 90}"
      ]
     },
     "metadata": {},
     "output_type": "display_data"
    },
    {
     "name": "stdout",
     "output_type": "stream",
     "text": [
      "RMSE: 17.358925759415204\n"
     ]
    }
   ],
   "source": [
    "model = lgb.LGBMRegressor(random_state=RANDOM_STATE)\n",
    "parameters = {'n_estimators':range(50,100,10), 'max_depth': range(1,11,2)}\n",
    "\n",
    "gsearch = GridSearchCV(estimator=model, cv=tscv, param_grid=parameters)\n",
    "gsearch.fit(X_train, y_train)\n",
    "display(gsearch.best_params_)\n",
    "y_pred = gsearch.predict(X_train)\n",
    "rmse = np.sqrt(mean_squared_error(y_train, y_pred))\n",
    "print(f'RMSE: {rmse}')"
   ]
  },
  {
   "cell_type": "code",
   "execution_count": 30,
   "metadata": {},
   "outputs": [],
   "source": [
    "train_models.append([model, rmse])"
   ]
  },
  {
   "cell_type": "markdown",
   "metadata": {},
   "source": [
    "## Тестирование"
   ]
  },
  {
   "cell_type": "code",
   "execution_count": 32,
   "metadata": {},
   "outputs": [
    {
     "data": {
      "text/html": [
       "<div>\n",
       "<style scoped>\n",
       "    .dataframe tbody tr th:only-of-type {\n",
       "        vertical-align: middle;\n",
       "    }\n",
       "\n",
       "    .dataframe tbody tr th {\n",
       "        vertical-align: top;\n",
       "    }\n",
       "\n",
       "    .dataframe thead th {\n",
       "        text-align: right;\n",
       "    }\n",
       "</style>\n",
       "<table border=\"1\" class=\"dataframe\">\n",
       "  <thead>\n",
       "    <tr style=\"text-align: right;\">\n",
       "      <th></th>\n",
       "      <th>model</th>\n",
       "      <th>rmse_train</th>\n",
       "    </tr>\n",
       "  </thead>\n",
       "  <tbody>\n",
       "    <tr>\n",
       "      <th>2</th>\n",
       "      <td>RandomForestRegressor(random_state=42)</td>\n",
       "      <td>17.148558</td>\n",
       "    </tr>\n",
       "    <tr>\n",
       "      <th>3</th>\n",
       "      <td>LGBMRegressor(random_state=42)</td>\n",
       "      <td>17.358926</td>\n",
       "    </tr>\n",
       "    <tr>\n",
       "      <th>1</th>\n",
       "      <td>DecisionTreeRegressor(random_state=42)</td>\n",
       "      <td>22.023192</td>\n",
       "    </tr>\n",
       "    <tr>\n",
       "      <th>0</th>\n",
       "      <td>LinearRegression()</td>\n",
       "      <td>30.494235</td>\n",
       "    </tr>\n",
       "  </tbody>\n",
       "</table>\n",
       "</div>"
      ],
      "text/plain": [
       "                                    model  rmse_train\n",
       "2  RandomForestRegressor(random_state=42)  17.148558 \n",
       "3  LGBMRegressor(random_state=42)          17.358926 \n",
       "1  DecisionTreeRegressor(random_state=42)  22.023192 \n",
       "0  LinearRegression()                      30.494235 "
      ]
     },
     "metadata": {},
     "output_type": "display_data"
    }
   ],
   "source": [
    "result = pd.DataFrame(train_models, columns=['model', 'rmse_train'])\n",
    "pd.options.display.max_colwidth = 0\n",
    "display(result.sort_values(by='rmse_train'))"
   ]
  },
  {
   "cell_type": "code",
   "execution_count": null,
   "metadata": {},
   "outputs": [],
   "source": []
  },
  {
   "cell_type": "code",
   "execution_count": 34,
   "metadata": {},
   "outputs": [
    {
     "name": "stdout",
     "output_type": "stream",
     "text": [
      "RMSE тестовой выборки: 49.50143757783718\n"
     ]
    }
   ],
   "source": [
    "model = RandomForestRegressor(random_state=RANDOM_STATE, max_depth=9, n_estimators=80)\n",
    "\n",
    "model.fit(X_train, y_train)\n",
    "\n",
    "y_test_pred = model.predict(X_test)\n",
    "\n",
    "rmse_test = np.sqrt(mean_squared_error(y_test, y_test_pred))\n",
    "\n",
    "print(\"RMSE тестовой выборки:\", rmse_test)"
   ]
  },
  {
   "cell_type": "code",
   "execution_count": 33,
   "metadata": {},
   "outputs": [
    {
     "name": "stdout",
     "output_type": "stream",
     "text": [
      "RMSE тестовой выборки: 44.73909599193767\n"
     ]
    }
   ],
   "source": [
    "model = lgb.LGBMRegressor(random_state=RANDOM_STATE, max_depth=5, n_estimators=90)\n",
    "\n",
    "model.fit(X_train, y_train)\n",
    "\n",
    "y_test_pred = model.predict(X_test)\n",
    "\n",
    "rmse_test = np.sqrt(mean_squared_error(y_test, y_test_pred))\n",
    "\n",
    "print(\"RMSE тестовой выборки:\", rmse_test)"
   ]
  },
  {
   "cell_type": "code",
   "execution_count": 35,
   "metadata": {},
   "outputs": [
    {
     "data": {
      "image/png": "[encoded data removed]",
      "text/plain": [
       "<Figure size 1080x432 with 1 Axes>"
      ]
     },
     "metadata": {
      "needs_background": "light"
     },
     "output_type": "display_data"
    }
   ],
   "source": [
    "plt.figure(figsize=(15, 6))\n",
    "plt.plot(y_test.index, y_test, label='Реальные значения', color='blue')\n",
    "plt.plot(y_test.index, y_test_pred, label='Предсказанные значения', color='red', linestyle='--')\n",
    "plt.title('Сравнение реальных и предсказанных значений количества заказов такси')\n",
    "plt.xlabel('Дата и время')\n",
    "plt.ylabel('Количество заказов')\n",
    "plt.legend()\n",
    "plt.show()"
   ]
  },
  {
   "cell_type": "markdown",
   "metadata": {},
   "source": [
    "**Вывод**: Проверили несколько моделей, результаты на тренировочных данных хорошие, лучшей моделью оказались LGBMRegressor и RandomForestRegressor, но значение метрики RMSE на тестовой выборке не больше 48 получилось только у LGBMRegressor"
   ]
  }
 ],
 "metadata": {
  "ExecuteTimeLog": [
   {
    "duration": 460,
    "start_time": "2024-11-13T07:02:17.538Z"
   },
   {
    "duration": 90,
    "start_time": "2024-11-13T07:03:13.961Z"
   },
   {
    "duration": 12,
    "start_time": "2024-11-13T07:03:45.305Z"
   },
   {
    "duration": 18,
    "start_time": "2024-11-13T07:04:04.969Z"
   },
   {
    "duration": 49,
    "start_time": "2024-11-13T07:05:01.816Z"
   },
   {
    "duration": 10,
    "start_time": "2024-11-13T07:05:06.535Z"
   },
   {
    "duration": 7,
    "start_time": "2024-11-13T07:05:13.392Z"
   },
   {
    "duration": 13,
    "start_time": "2024-11-13T07:06:51.135Z"
   },
   {
    "duration": 11,
    "start_time": "2024-11-13T07:09:17.902Z"
   },
   {
    "duration": 12,
    "start_time": "2024-11-13T07:09:26.117Z"
   },
   {
    "duration": 798,
    "start_time": "2024-11-13T07:10:27.429Z"
   },
   {
    "duration": 214,
    "start_time": "2024-11-13T07:10:34.907Z"
   },
   {
    "duration": 396,
    "start_time": "2024-11-13T07:11:07.735Z"
   },
   {
    "duration": 48,
    "start_time": "2024-11-13T07:11:08.133Z"
   },
   {
    "duration": 11,
    "start_time": "2024-11-13T07:11:08.183Z"
   },
   {
    "duration": 17,
    "start_time": "2024-11-13T07:11:08.197Z"
   },
   {
    "duration": 15,
    "start_time": "2024-11-13T07:11:08.216Z"
   },
   {
    "duration": 935,
    "start_time": "2024-11-13T07:11:08.232Z"
   },
   {
    "duration": 310,
    "start_time": "2024-11-13T07:11:40.772Z"
   },
   {
    "duration": 597,
    "start_time": "2024-11-13T07:15:41.026Z"
   },
   {
    "duration": 427,
    "start_time": "2024-11-13T07:15:52.085Z"
   },
   {
    "duration": 50,
    "start_time": "2024-11-13T07:15:52.514Z"
   },
   {
    "duration": 11,
    "start_time": "2024-11-13T07:15:52.565Z"
   },
   {
    "duration": 17,
    "start_time": "2024-11-13T07:15:52.578Z"
   },
   {
    "duration": 11,
    "start_time": "2024-11-13T07:15:52.598Z"
   },
   {
    "duration": 527,
    "start_time": "2024-11-13T07:15:52.610Z"
   },
   {
    "duration": 1936,
    "start_time": "2024-11-13T07:15:53.139Z"
   },
   {
    "duration": 2728,
    "start_time": "2024-11-13T07:16:27.880Z"
   },
   {
    "duration": 345,
    "start_time": "2024-11-13T07:16:55.945Z"
   },
   {
    "duration": 7,
    "start_time": "2024-11-13T07:18:16.497Z"
   },
   {
    "duration": 1298,
    "start_time": "2024-11-13T07:19:11.319Z"
   },
   {
    "duration": 48,
    "start_time": "2024-11-13T07:19:12.619Z"
   },
   {
    "duration": 11,
    "start_time": "2024-11-13T07:19:12.669Z"
   },
   {
    "duration": 10,
    "start_time": "2024-11-13T07:19:12.682Z"
   },
   {
    "duration": 9,
    "start_time": "2024-11-13T07:19:12.693Z"
   },
   {
    "duration": 229,
    "start_time": "2024-11-13T07:19:12.703Z"
   },
   {
    "duration": 252,
    "start_time": "2024-11-13T07:19:12.934Z"
   },
   {
    "duration": 334,
    "start_time": "2024-11-13T07:19:13.188Z"
   },
   {
    "duration": 101,
    "start_time": "2024-11-13T07:20:28.150Z"
   },
   {
    "duration": 4,
    "start_time": "2024-11-13T07:24:21.611Z"
   },
   {
    "duration": 1184,
    "start_time": "2024-11-13T07:26:33.553Z"
   },
   {
    "duration": 48,
    "start_time": "2024-11-13T07:26:34.739Z"
   },
   {
    "duration": 11,
    "start_time": "2024-11-13T07:26:34.788Z"
   },
   {
    "duration": 21,
    "start_time": "2024-11-13T07:26:34.801Z"
   },
   {
    "duration": 25,
    "start_time": "2024-11-13T07:26:34.824Z"
   },
   {
    "duration": 643,
    "start_time": "2024-11-13T07:26:34.850Z"
   },
   {
    "duration": 10,
    "start_time": "2024-11-13T07:26:35.495Z"
   },
   {
    "duration": 755,
    "start_time": "2024-11-13T07:26:35.519Z"
   },
   {
    "duration": 383,
    "start_time": "2024-11-13T07:26:36.276Z"
   },
   {
    "duration": 3,
    "start_time": "2024-11-13T07:27:53.912Z"
   },
   {
    "duration": 1226,
    "start_time": "2024-11-13T07:29:39.392Z"
   },
   {
    "duration": 49,
    "start_time": "2024-11-13T07:29:40.619Z"
   },
   {
    "duration": 11,
    "start_time": "2024-11-13T07:29:40.670Z"
   },
   {
    "duration": 10,
    "start_time": "2024-11-13T07:29:40.684Z"
   },
   {
    "duration": 4,
    "start_time": "2024-11-13T07:29:40.696Z"
   },
   {
    "duration": 651,
    "start_time": "2024-11-13T07:29:40.701Z"
   },
   {
    "duration": 8,
    "start_time": "2024-11-13T07:29:41.353Z"
   },
   {
    "duration": 255,
    "start_time": "2024-11-13T07:29:41.363Z"
   },
   {
    "duration": 790,
    "start_time": "2024-11-13T07:29:41.620Z"
   },
   {
    "duration": 310,
    "start_time": "2024-11-13T07:29:42.413Z"
   },
   {
    "duration": 343,
    "start_time": "2024-11-13T07:31:13.566Z"
   },
   {
    "duration": 233,
    "start_time": "2024-11-13T07:31:55.605Z"
   },
   {
    "duration": 146,
    "start_time": "2024-11-13T07:33:16.900Z"
   },
   {
    "duration": 158,
    "start_time": "2024-11-13T07:33:26.892Z"
   },
   {
    "duration": 289,
    "start_time": "2024-11-13T07:33:34.036Z"
   },
   {
    "duration": 305,
    "start_time": "2024-11-13T07:33:43.972Z"
   },
   {
    "duration": 235,
    "start_time": "2024-11-13T07:34:01.596Z"
   },
   {
    "duration": 1967,
    "start_time": "2024-11-13T07:35:24.003Z"
   },
   {
    "duration": 358,
    "start_time": "2024-11-13T07:37:37.978Z"
   },
   {
    "duration": 360,
    "start_time": "2024-11-13T07:37:57.641Z"
   },
   {
    "duration": 11,
    "start_time": "2024-11-13T07:38:35.137Z"
   },
   {
    "duration": 1127,
    "start_time": "2024-11-13T07:41:15.772Z"
   },
   {
    "duration": 63,
    "start_time": "2024-11-13T07:41:16.901Z"
   },
   {
    "duration": 11,
    "start_time": "2024-11-13T07:41:16.965Z"
   },
   {
    "duration": 11,
    "start_time": "2024-11-13T07:41:16.978Z"
   },
   {
    "duration": 4,
    "start_time": "2024-11-13T07:41:16.991Z"
   },
   {
    "duration": 689,
    "start_time": "2024-11-13T07:41:16.996Z"
   },
   {
    "duration": 7,
    "start_time": "2024-11-13T07:41:17.687Z"
   },
   {
    "duration": 229,
    "start_time": "2024-11-13T07:41:17.696Z"
   },
   {
    "duration": 796,
    "start_time": "2024-11-13T07:42:58.905Z"
   },
   {
    "duration": 276,
    "start_time": "2024-11-13T07:45:48.248Z"
   },
   {
    "duration": 317,
    "start_time": "2024-11-13T07:49:23.550Z"
   },
   {
    "duration": 1161,
    "start_time": "2024-11-13T10:25:07.164Z"
   },
   {
    "duration": 50,
    "start_time": "2024-11-13T10:25:08.327Z"
   },
   {
    "duration": 11,
    "start_time": "2024-11-13T10:25:08.378Z"
   },
   {
    "duration": 9,
    "start_time": "2024-11-13T10:25:08.390Z"
   },
   {
    "duration": 4,
    "start_time": "2024-11-13T10:25:08.401Z"
   },
   {
    "duration": 667,
    "start_time": "2024-11-13T10:25:08.407Z"
   },
   {
    "duration": 9,
    "start_time": "2024-11-13T10:25:09.076Z"
   },
   {
    "duration": 229,
    "start_time": "2024-11-13T10:25:09.087Z"
   },
   {
    "duration": 780,
    "start_time": "2024-11-13T10:25:09.318Z"
   },
   {
    "duration": 268,
    "start_time": "2024-11-13T10:25:10.100Z"
   },
   {
    "duration": 320,
    "start_time": "2024-11-13T10:25:10.370Z"
   },
   {
    "duration": 124,
    "start_time": "2024-11-13T10:50:21.544Z"
   },
   {
    "duration": 302,
    "start_time": "2024-11-13T10:50:32.249Z"
   },
   {
    "duration": 215,
    "start_time": "2024-11-13T11:02:27.633Z"
   },
   {
    "duration": 201,
    "start_time": "2024-11-13T11:02:53.569Z"
   },
   {
    "duration": 317,
    "start_time": "2024-11-13T11:04:52.071Z"
   },
   {
    "duration": 203,
    "start_time": "2024-11-13T11:05:28.471Z"
   },
   {
    "duration": 230,
    "start_time": "2024-11-13T11:05:44.893Z"
   },
   {
    "duration": 215,
    "start_time": "2024-11-13T11:06:00.692Z"
   },
   {
    "duration": 157,
    "start_time": "2024-11-13T11:06:22.365Z"
   },
   {
    "duration": 22,
    "start_time": "2024-11-13T11:06:59.469Z"
   },
   {
    "duration": 6,
    "start_time": "2024-11-13T11:07:21.734Z"
   },
   {
    "duration": 15,
    "start_time": "2024-11-13T11:07:33.449Z"
   },
   {
    "duration": 14,
    "start_time": "2024-11-13T11:07:46.320Z"
   },
   {
    "duration": 25,
    "start_time": "2024-11-13T11:08:04.444Z"
   },
   {
    "duration": 1407,
    "start_time": "2024-11-13T11:12:09.356Z"
   },
   {
    "duration": 51,
    "start_time": "2024-11-13T11:12:10.765Z"
   },
   {
    "duration": 11,
    "start_time": "2024-11-13T11:12:10.817Z"
   },
   {
    "duration": 12,
    "start_time": "2024-11-13T11:12:10.831Z"
   },
   {
    "duration": 6,
    "start_time": "2024-11-13T11:12:10.845Z"
   },
   {
    "duration": 10,
    "start_time": "2024-11-13T11:12:10.853Z"
   },
   {
    "duration": 265,
    "start_time": "2024-11-13T11:12:10.864Z"
   },
   {
    "duration": 740,
    "start_time": "2024-11-13T11:12:11.132Z"
   },
   {
    "duration": 302,
    "start_time": "2024-11-13T11:12:11.874Z"
   },
   {
    "duration": 13,
    "start_time": "2024-11-13T11:12:12.178Z"
   },
   {
    "duration": 7,
    "start_time": "2024-11-13T11:12:12.193Z"
   },
   {
    "duration": 19,
    "start_time": "2024-11-13T11:12:12.201Z"
   },
   {
    "duration": 126,
    "start_time": "2024-11-13T11:12:12.221Z"
   },
   {
    "duration": 0,
    "start_time": "2024-11-13T11:12:12.348Z"
   },
   {
    "duration": 22,
    "start_time": "2024-11-13T11:12:43.634Z"
   },
   {
    "duration": 28,
    "start_time": "2024-11-13T11:21:49.557Z"
   },
   {
    "duration": 20,
    "start_time": "2024-11-13T11:22:07.005Z"
   },
   {
    "duration": 11,
    "start_time": "2024-11-13T11:23:46.403Z"
   },
   {
    "duration": 1430,
    "start_time": "2024-11-13T11:24:16.775Z"
   },
   {
    "duration": 49,
    "start_time": "2024-11-13T11:24:18.206Z"
   },
   {
    "duration": 10,
    "start_time": "2024-11-13T11:24:18.256Z"
   },
   {
    "duration": 9,
    "start_time": "2024-11-13T11:24:18.268Z"
   },
   {
    "duration": 3,
    "start_time": "2024-11-13T11:24:18.279Z"
   },
   {
    "duration": 8,
    "start_time": "2024-11-13T11:24:18.284Z"
   },
   {
    "duration": 255,
    "start_time": "2024-11-13T11:24:18.293Z"
   },
   {
    "duration": 750,
    "start_time": "2024-11-13T11:24:18.549Z"
   },
   {
    "duration": 12,
    "start_time": "2024-11-13T11:24:19.301Z"
   },
   {
    "duration": 6,
    "start_time": "2024-11-13T11:24:19.315Z"
   },
   {
    "duration": 14,
    "start_time": "2024-11-13T11:24:19.323Z"
   },
   {
    "duration": 8,
    "start_time": "2024-11-13T11:24:19.339Z"
   },
   {
    "duration": 10,
    "start_time": "2024-11-13T11:24:19.348Z"
   },
   {
    "duration": 159,
    "start_time": "2024-11-13T11:24:19.359Z"
   },
   {
    "duration": 112,
    "start_time": "2024-11-13T11:24:51.854Z"
   },
   {
    "duration": 1440,
    "start_time": "2024-11-13T11:25:07.654Z"
   },
   {
    "duration": 50,
    "start_time": "2024-11-13T11:25:09.096Z"
   },
   {
    "duration": 11,
    "start_time": "2024-11-13T11:25:09.148Z"
   },
   {
    "duration": 9,
    "start_time": "2024-11-13T11:25:09.161Z"
   },
   {
    "duration": 4,
    "start_time": "2024-11-13T11:25:09.172Z"
   },
   {
    "duration": 17,
    "start_time": "2024-11-13T11:25:09.177Z"
   },
   {
    "duration": 257,
    "start_time": "2024-11-13T11:25:09.195Z"
   },
   {
    "duration": 777,
    "start_time": "2024-11-13T11:25:09.453Z"
   },
   {
    "duration": 15,
    "start_time": "2024-11-13T11:25:10.232Z"
   },
   {
    "duration": 6,
    "start_time": "2024-11-13T11:25:10.250Z"
   },
   {
    "duration": 4,
    "start_time": "2024-11-13T11:25:10.257Z"
   },
   {
    "duration": 11,
    "start_time": "2024-11-13T11:25:10.263Z"
   },
   {
    "duration": 26,
    "start_time": "2024-11-13T11:25:10.275Z"
   },
   {
    "duration": 30,
    "start_time": "2024-11-13T11:25:10.302Z"
   },
   {
    "duration": 1478,
    "start_time": "2024-11-13T11:25:48.210Z"
   },
   {
    "duration": 50,
    "start_time": "2024-11-13T11:25:49.690Z"
   },
   {
    "duration": 11,
    "start_time": "2024-11-13T11:25:49.742Z"
   },
   {
    "duration": 10,
    "start_time": "2024-11-13T11:25:49.755Z"
   },
   {
    "duration": 4,
    "start_time": "2024-11-13T11:25:49.766Z"
   },
   {
    "duration": 11,
    "start_time": "2024-11-13T11:25:49.772Z"
   },
   {
    "duration": 257,
    "start_time": "2024-11-13T11:25:49.785Z"
   },
   {
    "duration": 792,
    "start_time": "2024-11-13T11:25:50.043Z"
   },
   {
    "duration": 12,
    "start_time": "2024-11-13T11:25:50.836Z"
   },
   {
    "duration": 6,
    "start_time": "2024-11-13T11:25:50.850Z"
   },
   {
    "duration": 6,
    "start_time": "2024-11-13T11:25:50.858Z"
   },
   {
    "duration": 6,
    "start_time": "2024-11-13T11:25:50.866Z"
   },
   {
    "duration": 19,
    "start_time": "2024-11-13T11:25:50.873Z"
   },
   {
    "duration": 128,
    "start_time": "2024-11-13T11:25:50.893Z"
   },
   {
    "duration": 22,
    "start_time": "2024-11-13T11:26:08.051Z"
   },
   {
    "duration": 372,
    "start_time": "2024-11-13T11:26:40.347Z"
   },
   {
    "duration": 186,
    "start_time": "2024-11-13T11:27:02.163Z"
   },
   {
    "duration": 194,
    "start_time": "2024-11-13T11:28:38.865Z"
   },
   {
    "duration": 165,
    "start_time": "2024-11-13T11:29:45.008Z"
   },
   {
    "duration": 141,
    "start_time": "2024-11-13T11:30:06.425Z"
   },
   {
    "duration": 119,
    "start_time": "2024-11-13T11:30:34.496Z"
   },
   {
    "duration": 136,
    "start_time": "2024-11-13T11:30:43.983Z"
   },
   {
    "duration": 1889,
    "start_time": "2024-11-13T11:31:05.448Z"
   },
   {
    "duration": 129,
    "start_time": "2024-11-13T11:31:18.768Z"
   },
   {
    "duration": 21,
    "start_time": "2024-11-13T11:31:58.864Z"
   },
   {
    "duration": 21,
    "start_time": "2024-11-13T11:32:59.319Z"
   },
   {
    "duration": 21,
    "start_time": "2024-11-13T11:33:05.103Z"
   },
   {
    "duration": 187,
    "start_time": "2024-11-13T11:33:52.775Z"
   },
   {
    "duration": 21,
    "start_time": "2024-11-13T11:34:35.855Z"
   },
   {
    "duration": 7,
    "start_time": "2024-11-13T11:34:47.274Z"
   },
   {
    "duration": 20,
    "start_time": "2024-11-13T11:35:01.374Z"
   },
   {
    "duration": 299,
    "start_time": "2024-11-13T11:35:11.414Z"
   },
   {
    "duration": 223,
    "start_time": "2024-11-13T11:35:36.478Z"
   },
   {
    "duration": 645,
    "start_time": "2024-11-13T11:37:37.941Z"
   },
   {
    "duration": 1831,
    "start_time": "2024-11-13T11:38:39.995Z"
   },
   {
    "duration": 2531,
    "start_time": "2024-11-13T11:39:01.883Z"
   },
   {
    "duration": 1574,
    "start_time": "2024-11-13T11:39:10.856Z"
   },
   {
    "duration": 48,
    "start_time": "2024-11-13T11:39:12.432Z"
   },
   {
    "duration": 10,
    "start_time": "2024-11-13T11:39:12.482Z"
   },
   {
    "duration": 22,
    "start_time": "2024-11-13T11:39:12.493Z"
   },
   {
    "duration": 9,
    "start_time": "2024-11-13T11:39:12.516Z"
   },
   {
    "duration": 23,
    "start_time": "2024-11-13T11:39:12.527Z"
   },
   {
    "duration": 242,
    "start_time": "2024-11-13T11:39:12.552Z"
   },
   {
    "duration": 851,
    "start_time": "2024-11-13T11:39:12.796Z"
   },
   {
    "duration": 219,
    "start_time": "2024-11-13T11:39:13.649Z"
   },
   {
    "duration": 2435,
    "start_time": "2024-11-13T11:39:13.870Z"
   },
   {
    "duration": 0,
    "start_time": "2024-11-13T11:39:16.307Z"
   },
   {
    "duration": 0,
    "start_time": "2024-11-13T11:39:16.308Z"
   },
   {
    "duration": 0,
    "start_time": "2024-11-13T11:39:16.309Z"
   },
   {
    "duration": 0,
    "start_time": "2024-11-13T11:39:16.310Z"
   },
   {
    "duration": 0,
    "start_time": "2024-11-13T11:39:16.311Z"
   },
   {
    "duration": 0,
    "start_time": "2024-11-13T11:39:16.312Z"
   },
   {
    "duration": 128,
    "start_time": "2024-11-13T11:39:46.432Z"
   },
   {
    "duration": 183,
    "start_time": "2024-11-13T11:40:31.224Z"
   },
   {
    "duration": 7,
    "start_time": "2024-11-13T11:41:49.023Z"
   },
   {
    "duration": 10,
    "start_time": "2024-11-13T11:42:06.352Z"
   },
   {
    "duration": 10,
    "start_time": "2024-11-13T11:42:50.615Z"
   },
   {
    "duration": 15,
    "start_time": "2024-11-13T11:43:03.247Z"
   },
   {
    "duration": 31,
    "start_time": "2024-11-13T11:43:06.991Z"
   },
   {
    "duration": 1514,
    "start_time": "2024-11-13T11:44:07.325Z"
   },
   {
    "duration": 49,
    "start_time": "2024-11-13T11:44:08.841Z"
   },
   {
    "duration": 12,
    "start_time": "2024-11-13T11:44:08.892Z"
   },
   {
    "duration": 20,
    "start_time": "2024-11-13T11:44:08.906Z"
   },
   {
    "duration": 4,
    "start_time": "2024-11-13T11:44:08.928Z"
   },
   {
    "duration": 14,
    "start_time": "2024-11-13T11:44:08.934Z"
   },
   {
    "duration": 256,
    "start_time": "2024-11-13T11:44:08.950Z"
   },
   {
    "duration": 827,
    "start_time": "2024-11-13T11:44:09.208Z"
   },
   {
    "duration": 222,
    "start_time": "2024-11-13T11:44:10.037Z"
   },
   {
    "duration": 141,
    "start_time": "2024-11-13T11:44:10.263Z"
   },
   {
    "duration": 19,
    "start_time": "2024-11-13T11:44:10.406Z"
   },
   {
    "duration": 7,
    "start_time": "2024-11-13T11:44:10.426Z"
   },
   {
    "duration": 6,
    "start_time": "2024-11-13T11:44:10.435Z"
   },
   {
    "duration": 18,
    "start_time": "2024-11-13T11:44:10.442Z"
   },
   {
    "duration": 17,
    "start_time": "2024-11-13T11:44:10.461Z"
   },
   {
    "duration": 41,
    "start_time": "2024-11-13T11:44:10.480Z"
   },
   {
    "duration": 11,
    "start_time": "2024-11-13T11:45:02.415Z"
   },
   {
    "duration": 8,
    "start_time": "2024-11-13T11:45:23.358Z"
   },
   {
    "duration": 5,
    "start_time": "2024-11-13T11:45:33.798Z"
   },
   {
    "duration": 8,
    "start_time": "2024-11-13T11:45:37.294Z"
   },
   {
    "duration": 14,
    "start_time": "2024-11-13T11:45:40.086Z"
   },
   {
    "duration": 188,
    "start_time": "2024-11-13T11:48:20.511Z"
   },
   {
    "duration": 264,
    "start_time": "2024-11-13T11:48:50.455Z"
   },
   {
    "duration": 5,
    "start_time": "2024-11-13T11:49:31.857Z"
   },
   {
    "duration": 38,
    "start_time": "2024-11-13T11:50:52.079Z"
   },
   {
    "duration": 17,
    "start_time": "2024-11-13T11:53:08.846Z"
   },
   {
    "duration": 1568,
    "start_time": "2024-11-13T12:16:33.083Z"
   },
   {
    "duration": 49,
    "start_time": "2024-11-13T12:16:34.653Z"
   },
   {
    "duration": 14,
    "start_time": "2024-11-13T12:16:34.704Z"
   },
   {
    "duration": 15,
    "start_time": "2024-11-13T12:16:34.720Z"
   },
   {
    "duration": 20,
    "start_time": "2024-11-13T12:16:34.737Z"
   },
   {
    "duration": 27,
    "start_time": "2024-11-13T12:16:34.759Z"
   },
   {
    "duration": 248,
    "start_time": "2024-11-13T12:16:34.787Z"
   },
   {
    "duration": 822,
    "start_time": "2024-11-13T12:16:35.037Z"
   },
   {
    "duration": 204,
    "start_time": "2024-11-13T12:16:35.861Z"
   },
   {
    "duration": 154,
    "start_time": "2024-11-13T12:16:36.067Z"
   },
   {
    "duration": 10,
    "start_time": "2024-11-13T12:16:36.223Z"
   },
   {
    "duration": 25,
    "start_time": "2024-11-13T12:16:36.234Z"
   },
   {
    "duration": 9,
    "start_time": "2024-11-13T12:16:36.261Z"
   },
   {
    "duration": 142,
    "start_time": "2024-11-13T12:16:36.272Z"
   },
   {
    "duration": 0,
    "start_time": "2024-11-13T12:16:36.418Z"
   },
   {
    "duration": 0,
    "start_time": "2024-11-13T12:16:36.419Z"
   },
   {
    "duration": 1621,
    "start_time": "2024-11-13T12:17:09.740Z"
   },
   {
    "duration": 56,
    "start_time": "2024-11-13T12:17:11.362Z"
   },
   {
    "duration": 11,
    "start_time": "2024-11-13T12:17:11.420Z"
   },
   {
    "duration": 43,
    "start_time": "2024-11-13T12:17:11.433Z"
   },
   {
    "duration": 21,
    "start_time": "2024-11-13T12:17:11.478Z"
   },
   {
    "duration": 31,
    "start_time": "2024-11-13T12:17:11.501Z"
   },
   {
    "duration": 262,
    "start_time": "2024-11-13T12:17:11.534Z"
   },
   {
    "duration": 843,
    "start_time": "2024-11-13T12:17:11.798Z"
   },
   {
    "duration": 197,
    "start_time": "2024-11-13T12:17:12.643Z"
   },
   {
    "duration": 149,
    "start_time": "2024-11-13T12:17:12.843Z"
   },
   {
    "duration": 13,
    "start_time": "2024-11-13T12:17:12.994Z"
   },
   {
    "duration": 38,
    "start_time": "2024-11-13T12:17:13.009Z"
   },
   {
    "duration": 29,
    "start_time": "2024-11-13T12:17:13.050Z"
   },
   {
    "duration": 159,
    "start_time": "2024-11-13T12:17:13.080Z"
   },
   {
    "duration": 1,
    "start_time": "2024-11-13T12:17:13.240Z"
   },
   {
    "duration": 0,
    "start_time": "2024-11-13T12:17:13.242Z"
   },
   {
    "duration": 27,
    "start_time": "2024-11-13T12:18:23.473Z"
   },
   {
    "duration": 29,
    "start_time": "2024-11-13T12:19:59.720Z"
   },
   {
    "duration": 29,
    "start_time": "2024-11-13T12:23:47.787Z"
   },
   {
    "duration": 4476,
    "start_time": "2024-11-13T12:24:35.053Z"
   },
   {
    "duration": 33,
    "start_time": "2024-11-13T12:25:00.757Z"
   },
   {
    "duration": 4506,
    "start_time": "2024-11-13T12:29:44.426Z"
   },
   {
    "duration": 3,
    "start_time": "2024-11-13T12:31:11.848Z"
   },
   {
    "duration": 4,
    "start_time": "2024-11-13T12:31:24.168Z"
   },
   {
    "duration": 9,
    "start_time": "2024-11-13T12:31:36.527Z"
   },
   {
    "duration": 3,
    "start_time": "2024-11-13T12:32:24.095Z"
   },
   {
    "duration": 14,
    "start_time": "2024-11-13T12:32:28.847Z"
   },
   {
    "duration": 6,
    "start_time": "2024-11-13T12:33:35.431Z"
   },
   {
    "duration": 2,
    "start_time": "2024-11-13T12:33:47.639Z"
   },
   {
    "duration": 10,
    "start_time": "2024-11-13T12:33:50.663Z"
   },
   {
    "duration": 1659,
    "start_time": "2024-11-13T12:36:31.325Z"
   },
   {
    "duration": 61,
    "start_time": "2024-11-13T12:36:32.986Z"
   },
   {
    "duration": 16,
    "start_time": "2024-11-13T12:36:33.050Z"
   },
   {
    "duration": 13,
    "start_time": "2024-11-13T12:36:33.069Z"
   },
   {
    "duration": 9,
    "start_time": "2024-11-13T12:36:33.084Z"
   },
   {
    "duration": 31,
    "start_time": "2024-11-13T12:36:33.095Z"
   },
   {
    "duration": 247,
    "start_time": "2024-11-13T12:36:33.128Z"
   },
   {
    "duration": 804,
    "start_time": "2024-11-13T12:36:33.377Z"
   },
   {
    "duration": 203,
    "start_time": "2024-11-13T12:36:34.182Z"
   },
   {
    "duration": 140,
    "start_time": "2024-11-13T12:36:34.388Z"
   },
   {
    "duration": 12,
    "start_time": "2024-11-13T12:36:34.530Z"
   },
   {
    "duration": 11,
    "start_time": "2024-11-13T12:36:34.544Z"
   },
   {
    "duration": 6,
    "start_time": "2024-11-13T12:36:34.557Z"
   },
   {
    "duration": 113574,
    "start_time": "2024-11-13T12:36:34.564Z"
   },
   {
    "duration": 34,
    "start_time": "2024-11-13T12:38:28.140Z"
   },
   {
    "duration": 21,
    "start_time": "2024-11-13T12:38:28.177Z"
   },
   {
    "duration": 23,
    "start_time": "2024-11-13T12:38:28.200Z"
   },
   {
    "duration": 121,
    "start_time": "2024-11-13T12:38:50.543Z"
   },
   {
    "duration": 1519,
    "start_time": "2024-11-13T12:41:25.873Z"
   },
   {
    "duration": 50,
    "start_time": "2024-11-13T12:41:27.394Z"
   },
   {
    "duration": 11,
    "start_time": "2024-11-13T12:41:27.445Z"
   },
   {
    "duration": 9,
    "start_time": "2024-11-13T12:41:27.458Z"
   },
   {
    "duration": 4,
    "start_time": "2024-11-13T12:41:27.469Z"
   },
   {
    "duration": 26,
    "start_time": "2024-11-13T12:41:27.474Z"
   },
   {
    "duration": 249,
    "start_time": "2024-11-13T12:41:27.502Z"
   },
   {
    "duration": 793,
    "start_time": "2024-11-13T12:41:27.753Z"
   },
   {
    "duration": 204,
    "start_time": "2024-11-13T12:41:28.548Z"
   },
   {
    "duration": 145,
    "start_time": "2024-11-13T12:41:28.755Z"
   },
   {
    "duration": 20,
    "start_time": "2024-11-13T12:41:28.902Z"
   },
   {
    "duration": 7,
    "start_time": "2024-11-13T12:41:28.924Z"
   },
   {
    "duration": 6,
    "start_time": "2024-11-13T12:41:28.933Z"
   },
   {
    "duration": 7518,
    "start_time": "2024-11-13T12:41:28.941Z"
   },
   {
    "duration": 0,
    "start_time": "2024-11-13T12:41:36.461Z"
   },
   {
    "duration": 0,
    "start_time": "2024-11-13T12:41:36.462Z"
   },
   {
    "duration": 0,
    "start_time": "2024-11-13T12:41:36.463Z"
   },
   {
    "duration": 81040,
    "start_time": "2024-11-13T12:41:51.586Z"
   },
   {
    "duration": 167556,
    "start_time": "2024-11-13T12:43:23.169Z"
   },
   {
    "duration": 37,
    "start_time": "2024-11-13T12:46:41.591Z"
   },
   {
    "duration": 3,
    "start_time": "2024-11-13T12:46:45.206Z"
   },
   {
    "duration": 16,
    "start_time": "2024-11-13T12:46:47.761Z"
   },
   {
    "duration": 1678,
    "start_time": "2024-11-15T14:47:47.272Z"
   },
   {
    "duration": 102,
    "start_time": "2024-11-15T14:47:48.952Z"
   },
   {
    "duration": 14,
    "start_time": "2024-11-15T14:47:49.056Z"
   },
   {
    "duration": 12,
    "start_time": "2024-11-15T14:47:49.072Z"
   },
   {
    "duration": 4,
    "start_time": "2024-11-15T14:47:49.086Z"
   },
   {
    "duration": 14,
    "start_time": "2024-11-15T14:47:49.092Z"
   },
   {
    "duration": 238,
    "start_time": "2024-11-15T14:47:49.117Z"
   },
   {
    "duration": 867,
    "start_time": "2024-11-15T14:47:49.356Z"
   },
   {
    "duration": 217,
    "start_time": "2024-11-15T14:47:50.225Z"
   },
   {
    "duration": 146,
    "start_time": "2024-11-15T14:47:50.445Z"
   },
   {
    "duration": 25,
    "start_time": "2024-11-15T14:47:50.593Z"
   },
   {
    "duration": 8,
    "start_time": "2024-11-15T14:47:50.619Z"
   },
   {
    "duration": 6,
    "start_time": "2024-11-15T14:47:50.628Z"
   },
   {
    "duration": 218803,
    "start_time": "2024-11-15T14:47:50.635Z"
   },
   {
    "duration": 117,
    "start_time": "2024-11-15T14:51:29.440Z"
   },
   {
    "duration": 4,
    "start_time": "2024-11-15T14:51:29.559Z"
   },
   {
    "duration": 67,
    "start_time": "2024-11-15T14:51:29.565Z"
   },
   {
    "duration": 126,
    "start_time": "2024-11-15T14:52:34.763Z"
   },
   {
    "duration": 4,
    "start_time": "2024-11-15T14:53:10.978Z"
   },
   {
    "duration": 12,
    "start_time": "2024-11-15T14:53:19.395Z"
   },
   {
    "duration": 12,
    "start_time": "2024-11-15T14:53:47.650Z"
   },
   {
    "duration": 7244,
    "start_time": "2024-11-15T14:54:19.275Z"
   },
   {
    "duration": 3,
    "start_time": "2024-11-15T14:54:43.097Z"
   },
   {
    "duration": 3822,
    "start_time": "2024-11-15T14:54:44.897Z"
   },
   {
    "duration": 12,
    "start_time": "2024-11-15T14:55:00.866Z"
   },
   {
    "duration": 7,
    "start_time": "2024-11-15T14:55:13.233Z"
   },
   {
    "duration": 5,
    "start_time": "2024-11-15T14:55:15.169Z"
   },
   {
    "duration": 4,
    "start_time": "2024-11-15T14:55:22.057Z"
   },
   {
    "duration": 3779,
    "start_time": "2024-11-15T14:55:24.345Z"
   },
   {
    "duration": 9,
    "start_time": "2024-11-15T14:55:40.304Z"
   },
   {
    "duration": 8,
    "start_time": "2024-11-15T14:55:47.432Z"
   },
   {
    "duration": 5,
    "start_time": "2024-11-15T14:55:49.025Z"
   },
   {
    "duration": 4,
    "start_time": "2024-11-15T14:55:56.672Z"
   },
   {
    "duration": 3512,
    "start_time": "2024-11-15T14:56:01.010Z"
   },
   {
    "duration": 3,
    "start_time": "2024-11-15T14:57:12.072Z"
   },
   {
    "duration": 3711,
    "start_time": "2024-11-15T14:57:14.912Z"
   },
   {
    "duration": 3,
    "start_time": "2024-11-15T14:58:16.831Z"
   },
   {
    "duration": 45050,
    "start_time": "2024-11-15T14:58:19.175Z"
   },
   {
    "duration": 1472,
    "start_time": "2024-11-15T14:59:42.018Z"
   },
   {
    "duration": 53,
    "start_time": "2024-11-15T14:59:43.492Z"
   },
   {
    "duration": 10,
    "start_time": "2024-11-15T14:59:43.547Z"
   },
   {
    "duration": 11,
    "start_time": "2024-11-15T14:59:43.559Z"
   },
   {
    "duration": 4,
    "start_time": "2024-11-15T14:59:43.571Z"
   },
   {
    "duration": 10,
    "start_time": "2024-11-15T14:59:43.576Z"
   },
   {
    "duration": 291,
    "start_time": "2024-11-15T14:59:43.587Z"
   },
   {
    "duration": 788,
    "start_time": "2024-11-15T14:59:43.880Z"
   },
   {
    "duration": 200,
    "start_time": "2024-11-15T14:59:44.670Z"
   },
   {
    "duration": 145,
    "start_time": "2024-11-15T14:59:44.873Z"
   },
   {
    "duration": 11,
    "start_time": "2024-11-15T14:59:45.019Z"
   },
   {
    "duration": 63,
    "start_time": "2024-11-15T14:59:45.032Z"
   },
   {
    "duration": 9,
    "start_time": "2024-11-15T14:59:45.097Z"
   },
   {
    "duration": 72,
    "start_time": "2024-11-15T14:59:45.107Z"
   },
   {
    "duration": 0,
    "start_time": "2024-11-15T14:59:45.181Z"
   },
   {
    "duration": 0,
    "start_time": "2024-11-15T14:59:45.182Z"
   },
   {
    "duration": 0,
    "start_time": "2024-11-15T14:59:45.184Z"
   },
   {
    "duration": 213282,
    "start_time": "2024-11-15T14:59:52.646Z"
   },
   {
    "duration": 38,
    "start_time": "2024-11-15T15:04:10.683Z"
   },
   {
    "duration": 3,
    "start_time": "2024-11-15T15:04:18.195Z"
   },
   {
    "duration": 6,
    "start_time": "2024-11-15T15:04:20.083Z"
   },
   {
    "duration": 1432,
    "start_time": "2024-11-15T15:06:08.526Z"
   },
   {
    "duration": 52,
    "start_time": "2024-11-15T15:06:09.959Z"
   },
   {
    "duration": 11,
    "start_time": "2024-11-15T15:06:10.012Z"
   },
   {
    "duration": 27,
    "start_time": "2024-11-15T15:06:10.024Z"
   },
   {
    "duration": 8,
    "start_time": "2024-11-15T15:06:10.053Z"
   },
   {
    "duration": 35,
    "start_time": "2024-11-15T15:06:10.062Z"
   },
   {
    "duration": 259,
    "start_time": "2024-11-15T15:06:10.098Z"
   },
   {
    "duration": 814,
    "start_time": "2024-11-15T15:06:10.359Z"
   },
   {
    "duration": 194,
    "start_time": "2024-11-15T15:06:11.175Z"
   },
   {
    "duration": 138,
    "start_time": "2024-11-15T15:06:11.372Z"
   },
   {
    "duration": 13,
    "start_time": "2024-11-15T15:06:11.512Z"
   },
   {
    "duration": 56,
    "start_time": "2024-11-15T15:06:11.527Z"
   },
   {
    "duration": 22,
    "start_time": "2024-11-15T15:06:11.585Z"
   },
   {
    "duration": 477718,
    "start_time": "2024-11-15T15:06:11.608Z"
   },
   {
    "duration": 36,
    "start_time": "2024-11-15T15:14:09.328Z"
   },
   {
    "duration": 11,
    "start_time": "2024-11-15T15:14:09.366Z"
   },
   {
    "duration": 53,
    "start_time": "2024-11-15T15:14:09.379Z"
   },
   {
    "duration": 1465,
    "start_time": "2024-11-15T15:15:08.124Z"
   },
   {
    "duration": 474,
    "start_time": "2024-11-15T15:15:29.501Z"
   },
   {
    "duration": 1631,
    "start_time": "2024-11-15T15:16:00.564Z"
   },
   {
    "duration": 579,
    "start_time": "2024-11-15T15:16:18.131Z"
   },
   {
    "duration": 1406,
    "start_time": "2024-11-15T15:19:37.370Z"
   },
   {
    "duration": 52,
    "start_time": "2024-11-15T15:19:38.778Z"
   },
   {
    "duration": 11,
    "start_time": "2024-11-15T15:19:38.832Z"
   },
   {
    "duration": 10,
    "start_time": "2024-11-15T15:19:38.845Z"
   },
   {
    "duration": 10,
    "start_time": "2024-11-15T15:19:38.857Z"
   },
   {
    "duration": 16,
    "start_time": "2024-11-15T15:19:38.868Z"
   },
   {
    "duration": 242,
    "start_time": "2024-11-15T15:19:38.886Z"
   },
   {
    "duration": 345,
    "start_time": "2024-11-15T15:19:39.130Z"
   },
   {
    "duration": 129,
    "start_time": "2024-11-15T15:19:39.477Z"
   },
   {
    "duration": 0,
    "start_time": "2024-11-15T15:19:39.608Z"
   },
   {
    "duration": 0,
    "start_time": "2024-11-15T15:19:39.610Z"
   },
   {
    "duration": 0,
    "start_time": "2024-11-15T15:19:39.618Z"
   },
   {
    "duration": 0,
    "start_time": "2024-11-15T15:19:39.619Z"
   },
   {
    "duration": 0,
    "start_time": "2024-11-15T15:19:39.620Z"
   },
   {
    "duration": 0,
    "start_time": "2024-11-15T15:19:39.622Z"
   },
   {
    "duration": 0,
    "start_time": "2024-11-15T15:19:39.622Z"
   },
   {
    "duration": 0,
    "start_time": "2024-11-15T15:19:39.624Z"
   },
   {
    "duration": 0,
    "start_time": "2024-11-15T15:19:39.624Z"
   },
   {
    "duration": 7,
    "start_time": "2024-11-15T15:20:46.985Z"
   },
   {
    "duration": 12,
    "start_time": "2024-11-15T15:21:50.129Z"
   },
   {
    "duration": 7,
    "start_time": "2024-11-15T15:22:01.415Z"
   },
   {
    "duration": 299,
    "start_time": "2024-11-15T15:22:04.439Z"
   },
   {
    "duration": 1417,
    "start_time": "2024-11-15T15:22:12.270Z"
   },
   {
    "duration": 51,
    "start_time": "2024-11-15T15:22:13.689Z"
   },
   {
    "duration": 12,
    "start_time": "2024-11-15T15:22:13.742Z"
   },
   {
    "duration": 10,
    "start_time": "2024-11-15T15:22:13.756Z"
   },
   {
    "duration": 5,
    "start_time": "2024-11-15T15:22:13.768Z"
   },
   {
    "duration": 8,
    "start_time": "2024-11-15T15:22:13.775Z"
   },
   {
    "duration": 267,
    "start_time": "2024-11-15T15:22:13.785Z"
   },
   {
    "duration": 760,
    "start_time": "2024-11-15T15:22:14.054Z"
   },
   {
    "duration": 203,
    "start_time": "2024-11-15T15:22:14.817Z"
   },
   {
    "duration": 137,
    "start_time": "2024-11-15T15:22:15.022Z"
   },
   {
    "duration": 10,
    "start_time": "2024-11-15T15:22:15.161Z"
   },
   {
    "duration": 29,
    "start_time": "2024-11-15T15:22:15.173Z"
   },
   {
    "duration": 6,
    "start_time": "2024-11-15T15:22:15.205Z"
   },
   {
    "duration": 5605,
    "start_time": "2024-11-15T15:22:15.214Z"
   },
   {
    "duration": 36,
    "start_time": "2024-11-15T15:22:20.820Z"
   },
   {
    "duration": 21,
    "start_time": "2024-11-15T15:22:20.857Z"
   },
   {
    "duration": 37,
    "start_time": "2024-11-15T15:22:20.880Z"
   },
   {
    "duration": 1432,
    "start_time": "2024-11-15T15:23:17.796Z"
   },
   {
    "duration": 52,
    "start_time": "2024-11-15T15:23:19.230Z"
   },
   {
    "duration": 11,
    "start_time": "2024-11-15T15:23:19.284Z"
   },
   {
    "duration": 9,
    "start_time": "2024-11-15T15:23:19.297Z"
   },
   {
    "duration": 10,
    "start_time": "2024-11-15T15:23:19.309Z"
   },
   {
    "duration": 12,
    "start_time": "2024-11-15T15:23:19.321Z"
   },
   {
    "duration": 296,
    "start_time": "2024-11-15T15:23:19.335Z"
   },
   {
    "duration": 785,
    "start_time": "2024-11-15T15:23:19.633Z"
   },
   {
    "duration": 199,
    "start_time": "2024-11-15T15:23:20.419Z"
   },
   {
    "duration": 161,
    "start_time": "2024-11-15T15:23:20.619Z"
   },
   {
    "duration": 13,
    "start_time": "2024-11-15T15:23:20.781Z"
   },
   {
    "duration": 22,
    "start_time": "2024-11-15T15:23:20.796Z"
   },
   {
    "duration": 5,
    "start_time": "2024-11-15T15:23:20.819Z"
   },
   {
    "duration": 10599,
    "start_time": "2024-11-15T15:23:20.827Z"
   },
   {
    "duration": 37,
    "start_time": "2024-11-15T15:23:31.427Z"
   },
   {
    "duration": 60,
    "start_time": "2024-11-15T15:23:31.466Z"
   },
   {
    "duration": 25,
    "start_time": "2024-11-15T15:23:31.528Z"
   },
   {
    "duration": 1497,
    "start_time": "2024-11-15T15:24:32.418Z"
   },
   {
    "duration": 51,
    "start_time": "2024-11-15T15:24:33.917Z"
   },
   {
    "duration": 10,
    "start_time": "2024-11-15T15:24:33.970Z"
   },
   {
    "duration": 15,
    "start_time": "2024-11-15T15:24:33.982Z"
   },
   {
    "duration": 30,
    "start_time": "2024-11-15T15:24:33.999Z"
   },
   {
    "duration": 16,
    "start_time": "2024-11-15T15:24:34.031Z"
   },
   {
    "duration": 252,
    "start_time": "2024-11-15T15:24:34.048Z"
   },
   {
    "duration": 761,
    "start_time": "2024-11-15T15:24:34.301Z"
   },
   {
    "duration": 204,
    "start_time": "2024-11-15T15:24:35.063Z"
   },
   {
    "duration": 155,
    "start_time": "2024-11-15T15:24:35.269Z"
   },
   {
    "duration": 13,
    "start_time": "2024-11-15T15:24:35.426Z"
   },
   {
    "duration": 11,
    "start_time": "2024-11-15T15:24:35.440Z"
   },
   {
    "duration": 13,
    "start_time": "2024-11-15T15:24:35.452Z"
   },
   {
    "duration": 8861,
    "start_time": "2024-11-15T15:24:35.467Z"
   },
   {
    "duration": 37,
    "start_time": "2024-11-15T15:24:44.330Z"
   },
   {
    "duration": 52,
    "start_time": "2024-11-15T15:24:44.368Z"
   },
   {
    "duration": 27,
    "start_time": "2024-11-15T15:24:44.422Z"
   },
   {
    "duration": 1443,
    "start_time": "2024-11-15T15:25:49.331Z"
   },
   {
    "duration": 52,
    "start_time": "2024-11-15T15:25:50.776Z"
   },
   {
    "duration": 10,
    "start_time": "2024-11-15T15:25:50.830Z"
   },
   {
    "duration": 13,
    "start_time": "2024-11-15T15:25:50.842Z"
   },
   {
    "duration": 9,
    "start_time": "2024-11-15T15:25:50.856Z"
   },
   {
    "duration": 20,
    "start_time": "2024-11-15T15:25:50.866Z"
   },
   {
    "duration": 255,
    "start_time": "2024-11-15T15:25:50.888Z"
   },
   {
    "duration": 806,
    "start_time": "2024-11-15T15:25:51.144Z"
   },
   {
    "duration": 197,
    "start_time": "2024-11-15T15:25:51.952Z"
   },
   {
    "duration": 138,
    "start_time": "2024-11-15T15:25:52.151Z"
   },
   {
    "duration": 12,
    "start_time": "2024-11-15T15:25:52.290Z"
   },
   {
    "duration": 26,
    "start_time": "2024-11-15T15:25:52.304Z"
   },
   {
    "duration": 8,
    "start_time": "2024-11-15T15:25:52.332Z"
   },
   {
    "duration": 8682,
    "start_time": "2024-11-15T15:25:52.342Z"
   },
   {
    "duration": 37,
    "start_time": "2024-11-15T15:26:01.026Z"
   },
   {
    "duration": 44,
    "start_time": "2024-11-15T15:26:01.065Z"
   },
   {
    "duration": 22,
    "start_time": "2024-11-15T15:26:01.111Z"
   },
   {
    "duration": 1506,
    "start_time": "2024-11-15T15:27:10.317Z"
   },
   {
    "duration": 52,
    "start_time": "2024-11-15T15:27:11.825Z"
   },
   {
    "duration": 11,
    "start_time": "2024-11-15T15:27:11.879Z"
   },
   {
    "duration": 11,
    "start_time": "2024-11-15T15:27:11.891Z"
   },
   {
    "duration": 4,
    "start_time": "2024-11-15T15:27:11.904Z"
   },
   {
    "duration": 18,
    "start_time": "2024-11-15T15:27:11.909Z"
   },
   {
    "duration": 248,
    "start_time": "2024-11-15T15:27:11.928Z"
   },
   {
    "duration": 770,
    "start_time": "2024-11-15T15:27:12.179Z"
   },
   {
    "duration": 253,
    "start_time": "2024-11-15T15:27:12.951Z"
   },
   {
    "duration": 141,
    "start_time": "2024-11-15T15:27:13.206Z"
   },
   {
    "duration": 11,
    "start_time": "2024-11-15T15:27:13.349Z"
   },
   {
    "duration": 8,
    "start_time": "2024-11-15T15:27:13.362Z"
   },
   {
    "duration": 6,
    "start_time": "2024-11-15T15:27:13.371Z"
   },
   {
    "duration": 1369,
    "start_time": "2024-11-15T15:32:08.969Z"
   },
   {
    "duration": 52,
    "start_time": "2024-11-15T15:32:10.340Z"
   },
   {
    "duration": 12,
    "start_time": "2024-11-15T15:32:10.393Z"
   },
   {
    "duration": 10,
    "start_time": "2024-11-15T15:32:10.407Z"
   },
   {
    "duration": 5,
    "start_time": "2024-11-15T15:32:10.419Z"
   },
   {
    "duration": 10,
    "start_time": "2024-11-15T15:32:10.425Z"
   },
   {
    "duration": 263,
    "start_time": "2024-11-15T15:32:10.436Z"
   },
   {
    "duration": 775,
    "start_time": "2024-11-15T15:32:10.701Z"
   },
   {
    "duration": 250,
    "start_time": "2024-11-15T15:32:11.478Z"
   },
   {
    "duration": 155,
    "start_time": "2024-11-15T15:32:11.731Z"
   },
   {
    "duration": 13,
    "start_time": "2024-11-15T15:32:11.888Z"
   },
   {
    "duration": 19,
    "start_time": "2024-11-15T15:32:11.903Z"
   },
   {
    "duration": 14,
    "start_time": "2024-11-15T15:32:11.923Z"
   },
   {
    "duration": 1409,
    "start_time": "2024-11-15T15:38:14.065Z"
   },
   {
    "duration": 52,
    "start_time": "2024-11-15T15:38:15.476Z"
   },
   {
    "duration": 13,
    "start_time": "2024-11-15T15:38:15.530Z"
   },
   {
    "duration": 11,
    "start_time": "2024-11-15T15:38:15.545Z"
   },
   {
    "duration": 11,
    "start_time": "2024-11-15T15:38:15.557Z"
   },
   {
    "duration": 10,
    "start_time": "2024-11-15T15:38:15.570Z"
   },
   {
    "duration": 356,
    "start_time": "2024-11-15T15:38:15.581Z"
   },
   {
    "duration": 810,
    "start_time": "2024-11-15T15:38:15.939Z"
   },
   {
    "duration": 254,
    "start_time": "2024-11-15T15:38:16.750Z"
   },
   {
    "duration": 197,
    "start_time": "2024-11-15T15:38:17.007Z"
   },
   {
    "duration": 23,
    "start_time": "2024-11-15T15:38:17.206Z"
   },
   {
    "duration": 9,
    "start_time": "2024-11-15T15:38:17.231Z"
   },
   {
    "duration": 6,
    "start_time": "2024-11-15T15:38:17.242Z"
   },
   {
    "duration": 388871,
    "start_time": "2024-11-15T15:38:17.250Z"
   },
   {
    "duration": 33,
    "start_time": "2024-11-15T15:44:46.123Z"
   },
   {
    "duration": 3,
    "start_time": "2024-11-15T15:44:46.158Z"
   },
   {
    "duration": 63,
    "start_time": "2024-11-15T15:44:46.162Z"
   },
   {
    "duration": 174,
    "start_time": "2024-11-15T15:45:42.986Z"
   },
   {
    "duration": 3,
    "start_time": "2024-11-15T15:45:59.417Z"
   },
   {
    "duration": 11,
    "start_time": "2024-11-15T15:46:01.929Z"
   },
   {
    "duration": 31946,
    "start_time": "2024-11-15T15:46:32.273Z"
   },
   {
    "duration": 14,
    "start_time": "2024-11-15T15:47:11.785Z"
   },
   {
    "duration": 2,
    "start_time": "2024-11-15T15:47:42.425Z"
   },
   {
    "duration": 14,
    "start_time": "2024-11-15T15:48:34.697Z"
   },
   {
    "duration": 59240,
    "start_time": "2024-11-15T15:48:51.200Z"
   },
   {
    "duration": 14,
    "start_time": "2024-11-15T15:50:00.224Z"
   },
   {
    "duration": 1479,
    "start_time": "2024-11-15T15:50:50.912Z"
   },
   {
    "duration": 51,
    "start_time": "2024-11-15T15:50:52.393Z"
   },
   {
    "duration": 10,
    "start_time": "2024-11-15T15:50:52.446Z"
   },
   {
    "duration": 10,
    "start_time": "2024-11-15T15:50:52.458Z"
   },
   {
    "duration": 17,
    "start_time": "2024-11-15T15:50:52.469Z"
   },
   {
    "duration": 18,
    "start_time": "2024-11-15T15:50:52.488Z"
   },
   {
    "duration": 236,
    "start_time": "2024-11-15T15:50:52.507Z"
   },
   {
    "duration": 797,
    "start_time": "2024-11-15T15:50:52.745Z"
   },
   {
    "duration": 238,
    "start_time": "2024-11-15T15:50:53.544Z"
   },
   {
    "duration": 140,
    "start_time": "2024-11-15T15:50:53.784Z"
   },
   {
    "duration": 12,
    "start_time": "2024-11-15T15:50:53.926Z"
   },
   {
    "duration": 7,
    "start_time": "2024-11-15T15:50:53.940Z"
   },
   {
    "duration": 4,
    "start_time": "2024-11-15T15:50:53.948Z"
   },
   {
    "duration": 1549,
    "start_time": "2024-11-15T16:00:04.749Z"
   },
   {
    "duration": 74,
    "start_time": "2024-11-15T16:00:06.301Z"
   },
   {
    "duration": 15,
    "start_time": "2024-11-15T16:00:06.378Z"
   },
   {
    "duration": 10,
    "start_time": "2024-11-15T16:00:06.395Z"
   },
   {
    "duration": 48,
    "start_time": "2024-11-15T16:00:06.407Z"
   },
   {
    "duration": 13,
    "start_time": "2024-11-15T16:00:06.457Z"
   },
   {
    "duration": 348,
    "start_time": "2024-11-15T16:00:06.472Z"
   },
   {
    "duration": 951,
    "start_time": "2024-11-15T16:00:06.822Z"
   },
   {
    "duration": 250,
    "start_time": "2024-11-15T16:00:07.775Z"
   },
   {
    "duration": 152,
    "start_time": "2024-11-15T16:00:08.029Z"
   },
   {
    "duration": 13,
    "start_time": "2024-11-15T16:00:08.183Z"
   },
   {
    "duration": 23,
    "start_time": "2024-11-15T16:00:08.198Z"
   },
   {
    "duration": 12,
    "start_time": "2024-11-15T16:00:08.222Z"
   },
   {
    "duration": 382497,
    "start_time": "2024-11-15T16:00:08.236Z"
   },
   {
    "duration": 0,
    "start_time": "2024-11-15T16:06:30.735Z"
   },
   {
    "duration": 0,
    "start_time": "2024-11-15T16:06:30.737Z"
   },
   {
    "duration": 0,
    "start_time": "2024-11-15T16:06:30.739Z"
   },
   {
    "duration": 1545,
    "start_time": "2024-11-15T16:06:39.193Z"
   },
   {
    "duration": 55,
    "start_time": "2024-11-15T16:06:40.740Z"
   },
   {
    "duration": 14,
    "start_time": "2024-11-15T16:06:40.797Z"
   },
   {
    "duration": 11,
    "start_time": "2024-11-15T16:06:40.813Z"
   },
   {
    "duration": 5,
    "start_time": "2024-11-15T16:06:40.827Z"
   },
   {
    "duration": 19,
    "start_time": "2024-11-15T16:06:40.834Z"
   },
   {
    "duration": 285,
    "start_time": "2024-11-15T16:06:40.855Z"
   },
   {
    "duration": 788,
    "start_time": "2024-11-15T16:06:41.141Z"
   },
   {
    "duration": 208,
    "start_time": "2024-11-15T16:06:41.931Z"
   },
   {
    "duration": 151,
    "start_time": "2024-11-15T16:06:42.142Z"
   },
   {
    "duration": 29,
    "start_time": "2024-11-15T16:06:42.295Z"
   },
   {
    "duration": 8,
    "start_time": "2024-11-15T16:06:42.326Z"
   },
   {
    "duration": 5,
    "start_time": "2024-11-15T16:06:42.336Z"
   },
   {
    "duration": 1407,
    "start_time": "2024-11-17T03:48:23.954Z"
   },
   {
    "duration": 103,
    "start_time": "2024-11-17T03:48:25.363Z"
   },
   {
    "duration": 12,
    "start_time": "2024-11-17T03:48:25.468Z"
   },
   {
    "duration": 9,
    "start_time": "2024-11-17T03:48:25.482Z"
   },
   {
    "duration": 14,
    "start_time": "2024-11-17T03:48:25.493Z"
   },
   {
    "duration": 8,
    "start_time": "2024-11-17T03:48:25.508Z"
   },
   {
    "duration": 196,
    "start_time": "2024-11-17T03:48:32.845Z"
   },
   {
    "duration": 114,
    "start_time": "2024-11-17T03:53:39.264Z"
   },
   {
    "duration": 136,
    "start_time": "2024-11-17T03:54:12.592Z"
   },
   {
    "duration": 261,
    "start_time": "2024-11-17T03:54:42.519Z"
   },
   {
    "duration": 184,
    "start_time": "2024-11-17T03:54:59.259Z"
   },
   {
    "duration": 118,
    "start_time": "2024-11-17T03:55:03.997Z"
   },
   {
    "duration": 195,
    "start_time": "2024-11-17T03:59:36.882Z"
   },
   {
    "duration": 185,
    "start_time": "2024-11-17T04:00:00.505Z"
   },
   {
    "duration": 399,
    "start_time": "2024-11-17T04:01:19.226Z"
   },
   {
    "duration": 776,
    "start_time": "2024-11-17T04:01:56.581Z"
   },
   {
    "duration": 550,
    "start_time": "2024-11-17T04:03:11.698Z"
   },
   {
    "duration": 622,
    "start_time": "2024-11-17T04:03:43.878Z"
   },
   {
    "duration": 263,
    "start_time": "2024-11-17T04:04:46.357Z"
   },
   {
    "duration": 765,
    "start_time": "2024-11-17T04:05:00.220Z"
   },
   {
    "duration": 193,
    "start_time": "2024-11-17T04:05:35.686Z"
   },
   {
    "duration": 180,
    "start_time": "2024-11-17T04:05:47.651Z"
   },
   {
    "duration": 76,
    "start_time": "2024-11-17T04:06:40.464Z"
   },
   {
    "duration": 190,
    "start_time": "2024-11-17T04:06:49.999Z"
   },
   {
    "duration": 7,
    "start_time": "2024-11-17T04:10:01.416Z"
   },
   {
    "duration": 125,
    "start_time": "2024-11-17T04:10:15.399Z"
   },
   {
    "duration": 161,
    "start_time": "2024-11-17T04:11:40.928Z"
   },
   {
    "duration": 245,
    "start_time": "2024-11-17T04:11:55.547Z"
   },
   {
    "duration": 17,
    "start_time": "2024-11-17T04:12:07.332Z"
   },
   {
    "duration": 15,
    "start_time": "2024-11-17T04:12:15.023Z"
   },
   {
    "duration": 15,
    "start_time": "2024-11-17T04:12:26.018Z"
   },
   {
    "duration": 135,
    "start_time": "2024-11-17T04:13:37.275Z"
   },
   {
    "duration": 13,
    "start_time": "2024-11-17T04:14:20.721Z"
   },
   {
    "duration": 156,
    "start_time": "2024-11-17T04:14:26.421Z"
   },
   {
    "duration": 160,
    "start_time": "2024-11-17T04:18:43.276Z"
   },
   {
    "duration": 110,
    "start_time": "2024-11-17T04:18:46.648Z"
   },
   {
    "duration": 1256,
    "start_time": "2024-11-17T04:24:21.135Z"
   },
   {
    "duration": 331,
    "start_time": "2024-11-17T04:24:53.404Z"
   },
   {
    "duration": 124,
    "start_time": "2024-11-17T04:28:03.883Z"
   },
   {
    "duration": 120,
    "start_time": "2024-11-17T04:28:07.094Z"
   },
   {
    "duration": 155,
    "start_time": "2024-11-17T04:28:39.720Z"
   },
   {
    "duration": 116,
    "start_time": "2024-11-17T04:28:53.657Z"
   },
   {
    "duration": 181,
    "start_time": "2024-11-17T04:36:24.547Z"
   },
   {
    "duration": 185,
    "start_time": "2024-11-17T04:36:41.572Z"
   },
   {
    "duration": 171,
    "start_time": "2024-11-17T04:38:14.922Z"
   },
   {
    "duration": 117,
    "start_time": "2024-11-17T04:38:50.796Z"
   },
   {
    "duration": 22,
    "start_time": "2024-11-17T04:40:35.906Z"
   },
   {
    "duration": 21,
    "start_time": "2024-11-17T04:40:49.919Z"
   },
   {
    "duration": 6,
    "start_time": "2024-11-17T04:41:40.959Z"
   },
   {
    "duration": 16,
    "start_time": "2024-11-17T04:42:05.888Z"
   },
   {
    "duration": 10,
    "start_time": "2024-11-17T04:42:31.967Z"
   },
   {
    "duration": 11,
    "start_time": "2024-11-17T04:43:00.013Z"
   },
   {
    "duration": 4,
    "start_time": "2024-11-17T04:44:27.775Z"
   },
   {
    "duration": 14,
    "start_time": "2024-11-17T04:44:33.201Z"
   },
   {
    "duration": 13,
    "start_time": "2024-11-17T04:44:48.554Z"
   },
   {
    "duration": 276,
    "start_time": "2024-11-17T04:45:12.953Z"
   },
   {
    "duration": 1255,
    "start_time": "2024-11-17T04:45:39.444Z"
   },
   {
    "duration": 46,
    "start_time": "2024-11-17T04:45:40.701Z"
   },
   {
    "duration": 12,
    "start_time": "2024-11-17T04:45:40.748Z"
   },
   {
    "duration": 11,
    "start_time": "2024-11-17T04:45:40.762Z"
   },
   {
    "duration": 5,
    "start_time": "2024-11-17T04:45:40.774Z"
   },
   {
    "duration": 11,
    "start_time": "2024-11-17T04:45:40.780Z"
   },
   {
    "duration": 234,
    "start_time": "2024-11-17T04:45:40.792Z"
   },
   {
    "duration": 172,
    "start_time": "2024-11-17T04:45:41.027Z"
   },
   {
    "duration": 167,
    "start_time": "2024-11-17T04:45:41.206Z"
   },
   {
    "duration": 175,
    "start_time": "2024-11-17T04:45:41.377Z"
   },
   {
    "duration": 652,
    "start_time": "2024-11-17T04:45:41.553Z"
   },
   {
    "duration": 127,
    "start_time": "2024-11-17T04:45:42.207Z"
   },
   {
    "duration": 123,
    "start_time": "2024-11-17T04:45:42.335Z"
   },
   {
    "duration": 120,
    "start_time": "2024-11-17T04:45:42.460Z"
   },
   {
    "duration": 0,
    "start_time": "2024-11-17T04:45:42.582Z"
   },
   {
    "duration": 0,
    "start_time": "2024-11-17T04:45:42.583Z"
   },
   {
    "duration": 0,
    "start_time": "2024-11-17T04:45:42.584Z"
   },
   {
    "duration": 0,
    "start_time": "2024-11-17T04:45:42.586Z"
   },
   {
    "duration": 0,
    "start_time": "2024-11-17T04:45:42.587Z"
   },
   {
    "duration": 0,
    "start_time": "2024-11-17T04:45:42.588Z"
   },
   {
    "duration": 0,
    "start_time": "2024-11-17T04:45:42.589Z"
   },
   {
    "duration": 0,
    "start_time": "2024-11-17T04:45:42.608Z"
   },
   {
    "duration": 0,
    "start_time": "2024-11-17T04:45:42.609Z"
   },
   {
    "duration": 11,
    "start_time": "2024-11-17T04:46:22.950Z"
   },
   {
    "duration": 177,
    "start_time": "2024-11-17T04:47:02.115Z"
   },
   {
    "duration": 150,
    "start_time": "2024-11-17T04:47:43.409Z"
   },
   {
    "duration": 136,
    "start_time": "2024-11-17T04:48:22.160Z"
   },
   {
    "duration": 160,
    "start_time": "2024-11-17T04:48:41.547Z"
   },
   {
    "duration": 214,
    "start_time": "2024-11-17T04:49:09.396Z"
   },
   {
    "duration": 132,
    "start_time": "2024-11-17T04:49:36.903Z"
   },
   {
    "duration": 15,
    "start_time": "2024-11-17T04:50:48.193Z"
   },
   {
    "duration": 142,
    "start_time": "2024-11-17T04:51:02.027Z"
   },
   {
    "duration": 25,
    "start_time": "2024-11-17T04:51:19.721Z"
   },
   {
    "duration": 147,
    "start_time": "2024-11-17T04:51:35.655Z"
   },
   {
    "duration": 149,
    "start_time": "2024-11-17T04:52:00.609Z"
   },
   {
    "duration": 147,
    "start_time": "2024-11-17T04:53:09.254Z"
   },
   {
    "duration": 160,
    "start_time": "2024-11-17T04:54:17.597Z"
   },
   {
    "duration": 137,
    "start_time": "2024-11-17T04:54:35.531Z"
   },
   {
    "duration": 161,
    "start_time": "2024-11-17T04:54:48.989Z"
   },
   {
    "duration": 171,
    "start_time": "2024-11-17T04:55:51.512Z"
   },
   {
    "duration": 146,
    "start_time": "2024-11-17T04:56:35.490Z"
   },
   {
    "duration": 150,
    "start_time": "2024-11-17T04:56:48.870Z"
   },
   {
    "duration": 152,
    "start_time": "2024-11-17T04:57:11.308Z"
   },
   {
    "duration": 221,
    "start_time": "2024-11-17T04:57:19.589Z"
   },
   {
    "duration": 133,
    "start_time": "2024-11-17T04:57:44.337Z"
   },
   {
    "duration": 275,
    "start_time": "2024-11-17T04:57:52.521Z"
   },
   {
    "duration": 143,
    "start_time": "2024-11-17T05:09:39.919Z"
   },
   {
    "duration": 173,
    "start_time": "2024-11-17T05:14:01.984Z"
   },
   {
    "duration": 158,
    "start_time": "2024-11-17T05:15:10.464Z"
   },
   {
    "duration": 207,
    "start_time": "2024-11-17T05:15:39.148Z"
   },
   {
    "duration": 153,
    "start_time": "2024-11-17T05:16:04.804Z"
   },
   {
    "duration": 2126,
    "start_time": "2024-11-17T05:16:31.543Z"
   },
   {
    "duration": 145,
    "start_time": "2024-11-17T05:17:17.538Z"
   },
   {
    "duration": 170,
    "start_time": "2024-11-17T05:17:40.329Z"
   },
   {
    "duration": 163,
    "start_time": "2024-11-17T05:18:18.164Z"
   },
   {
    "duration": 199,
    "start_time": "2024-11-17T05:18:43.175Z"
   },
   {
    "duration": 165,
    "start_time": "2024-11-17T05:19:19.130Z"
   },
   {
    "duration": 186,
    "start_time": "2024-11-17T05:22:10.997Z"
   },
   {
    "duration": 228,
    "start_time": "2024-11-17T05:23:11.264Z"
   },
   {
    "duration": 4116,
    "start_time": "2024-11-17T05:24:34.079Z"
   },
   {
    "duration": 175,
    "start_time": "2024-11-17T05:24:54.157Z"
   },
   {
    "duration": 174,
    "start_time": "2024-11-17T05:26:17.485Z"
   },
   {
    "duration": 173,
    "start_time": "2024-11-17T05:27:07.963Z"
   },
   {
    "duration": 174,
    "start_time": "2024-11-17T05:27:17.216Z"
   },
   {
    "duration": 193,
    "start_time": "2024-11-17T05:27:31.163Z"
   },
   {
    "duration": 1285,
    "start_time": "2024-11-17T05:56:06.353Z"
   },
   {
    "duration": 46,
    "start_time": "2024-11-17T05:56:07.639Z"
   },
   {
    "duration": 10,
    "start_time": "2024-11-17T05:56:07.686Z"
   },
   {
    "duration": 79,
    "start_time": "2024-11-17T05:56:07.698Z"
   },
   {
    "duration": 5,
    "start_time": "2024-11-17T05:56:07.779Z"
   },
   {
    "duration": 14,
    "start_time": "2024-11-17T05:56:07.785Z"
   },
   {
    "duration": 190,
    "start_time": "2024-11-17T05:56:07.800Z"
   },
   {
    "duration": 169,
    "start_time": "2024-11-17T05:56:07.992Z"
   },
   {
    "duration": 163,
    "start_time": "2024-11-17T05:56:08.162Z"
   },
   {
    "duration": 180,
    "start_time": "2024-11-17T05:56:08.328Z"
   },
   {
    "duration": 683,
    "start_time": "2024-11-17T05:56:08.510Z"
   },
   {
    "duration": 134,
    "start_time": "2024-11-17T05:56:09.195Z"
   },
   {
    "duration": 124,
    "start_time": "2024-11-17T05:56:09.331Z"
   },
   {
    "duration": 7,
    "start_time": "2024-11-17T05:56:09.457Z"
   },
   {
    "duration": 263,
    "start_time": "2024-11-17T05:56:09.465Z"
   },
   {
    "duration": 0,
    "start_time": "2024-11-17T05:56:09.730Z"
   },
   {
    "duration": 0,
    "start_time": "2024-11-17T05:56:09.731Z"
   },
   {
    "duration": 0,
    "start_time": "2024-11-17T05:56:09.731Z"
   },
   {
    "duration": 0,
    "start_time": "2024-11-17T05:56:09.732Z"
   },
   {
    "duration": 0,
    "start_time": "2024-11-17T05:56:09.733Z"
   },
   {
    "duration": 0,
    "start_time": "2024-11-17T05:56:09.734Z"
   },
   {
    "duration": 0,
    "start_time": "2024-11-17T05:56:09.735Z"
   },
   {
    "duration": 0,
    "start_time": "2024-11-17T05:56:09.736Z"
   },
   {
    "duration": 0,
    "start_time": "2024-11-17T05:56:09.737Z"
   },
   {
    "duration": 148,
    "start_time": "2024-11-17T05:56:42.443Z"
   },
   {
    "duration": 151,
    "start_time": "2024-11-17T05:57:32.884Z"
   },
   {
    "duration": 159,
    "start_time": "2024-11-17T05:58:12.937Z"
   },
   {
    "duration": 262,
    "start_time": "2024-11-17T06:00:05.230Z"
   },
   {
    "duration": 147,
    "start_time": "2024-11-17T06:01:02.835Z"
   },
   {
    "duration": 189,
    "start_time": "2024-11-17T06:02:20.996Z"
   },
   {
    "duration": 1311,
    "start_time": "2024-11-17T06:02:27.765Z"
   },
   {
    "duration": 50,
    "start_time": "2024-11-17T06:02:29.078Z"
   },
   {
    "duration": 10,
    "start_time": "2024-11-17T06:02:29.130Z"
   },
   {
    "duration": 16,
    "start_time": "2024-11-17T06:02:29.142Z"
   },
   {
    "duration": 4,
    "start_time": "2024-11-17T06:02:29.160Z"
   },
   {
    "duration": 18,
    "start_time": "2024-11-17T06:02:29.165Z"
   },
   {
    "duration": 209,
    "start_time": "2024-11-17T06:02:29.185Z"
   },
   {
    "duration": 199,
    "start_time": "2024-11-17T06:02:29.395Z"
   },
   {
    "duration": 157,
    "start_time": "2024-11-17T06:02:29.595Z"
   },
   {
    "duration": 186,
    "start_time": "2024-11-17T06:02:29.754Z"
   },
   {
    "duration": 676,
    "start_time": "2024-11-17T06:02:29.942Z"
   },
   {
    "duration": 116,
    "start_time": "2024-11-17T06:02:30.620Z"
   },
   {
    "duration": 118,
    "start_time": "2024-11-17T06:02:30.737Z"
   },
   {
    "duration": 175,
    "start_time": "2024-11-17T06:02:30.857Z"
   },
   {
    "duration": 126,
    "start_time": "2024-11-17T06:02:31.034Z"
   },
   {
    "duration": 327,
    "start_time": "2024-11-17T06:02:31.162Z"
   },
   {
    "duration": 36,
    "start_time": "2024-11-17T06:02:31.491Z"
   },
   {
    "duration": 3,
    "start_time": "2024-11-17T06:02:31.528Z"
   },
   {
    "duration": 12,
    "start_time": "2024-11-17T06:02:31.533Z"
   },
   {
    "duration": 29763,
    "start_time": "2024-11-17T06:02:31.546Z"
   },
   {
    "duration": 30,
    "start_time": "2024-11-17T06:03:01.310Z"
   },
   {
    "duration": 43,
    "start_time": "2024-11-17T06:03:01.342Z"
   },
   {
    "duration": 128,
    "start_time": "2024-11-17T06:03:01.386Z"
   },
   {
    "duration": 1407,
    "start_time": "2024-11-17T06:06:08.978Z"
   },
   {
    "duration": 46,
    "start_time": "2024-11-17T06:06:10.386Z"
   },
   {
    "duration": 8,
    "start_time": "2024-11-17T06:06:10.434Z"
   },
   {
    "duration": 8,
    "start_time": "2024-11-17T06:06:10.444Z"
   },
   {
    "duration": 22,
    "start_time": "2024-11-17T06:06:10.453Z"
   },
   {
    "duration": 48,
    "start_time": "2024-11-17T06:06:10.476Z"
   },
   {
    "duration": 195,
    "start_time": "2024-11-17T06:06:10.525Z"
   },
   {
    "duration": 176,
    "start_time": "2024-11-17T06:06:10.721Z"
   },
   {
    "duration": 159,
    "start_time": "2024-11-17T06:06:10.899Z"
   },
   {
    "duration": 199,
    "start_time": "2024-11-17T06:06:11.060Z"
   },
   {
    "duration": 700,
    "start_time": "2024-11-17T06:06:11.261Z"
   },
   {
    "duration": 112,
    "start_time": "2024-11-17T06:06:11.963Z"
   },
   {
    "duration": 116,
    "start_time": "2024-11-17T06:06:12.077Z"
   },
   {
    "duration": 176,
    "start_time": "2024-11-17T06:06:12.194Z"
   },
   {
    "duration": 123,
    "start_time": "2024-11-17T06:06:12.371Z"
   },
   {
    "duration": 353,
    "start_time": "2024-11-17T06:06:12.495Z"
   },
   {
    "duration": 26,
    "start_time": "2024-11-17T06:06:12.850Z"
   },
   {
    "duration": 118,
    "start_time": "2024-11-17T06:06:12.877Z"
   },
   {
    "duration": 0,
    "start_time": "2024-11-17T06:06:12.996Z"
   },
   {
    "duration": 0,
    "start_time": "2024-11-17T06:06:12.997Z"
   },
   {
    "duration": 0,
    "start_time": "2024-11-17T06:06:12.998Z"
   },
   {
    "duration": 0,
    "start_time": "2024-11-17T06:06:13.000Z"
   },
   {
    "duration": 0,
    "start_time": "2024-11-17T06:06:13.007Z"
   },
   {
    "duration": 1285,
    "start_time": "2024-11-17T06:08:07.360Z"
   },
   {
    "duration": 46,
    "start_time": "2024-11-17T06:08:08.647Z"
   },
   {
    "duration": 9,
    "start_time": "2024-11-17T06:08:08.695Z"
   },
   {
    "duration": 12,
    "start_time": "2024-11-17T06:08:08.706Z"
   },
   {
    "duration": 8,
    "start_time": "2024-11-17T06:08:08.719Z"
   },
   {
    "duration": 8,
    "start_time": "2024-11-17T06:08:08.728Z"
   },
   {
    "duration": 206,
    "start_time": "2024-11-17T06:08:08.738Z"
   },
   {
    "duration": 181,
    "start_time": "2024-11-17T06:08:08.945Z"
   },
   {
    "duration": 185,
    "start_time": "2024-11-17T06:08:09.128Z"
   },
   {
    "duration": 192,
    "start_time": "2024-11-17T06:08:09.315Z"
   },
   {
    "duration": 685,
    "start_time": "2024-11-17T06:08:09.508Z"
   },
   {
    "duration": 113,
    "start_time": "2024-11-17T06:08:10.195Z"
   },
   {
    "duration": 123,
    "start_time": "2024-11-17T06:08:10.310Z"
   },
   {
    "duration": 201,
    "start_time": "2024-11-17T06:08:10.434Z"
   },
   {
    "duration": 121,
    "start_time": "2024-11-17T06:08:10.637Z"
   },
   {
    "duration": 326,
    "start_time": "2024-11-17T06:08:10.759Z"
   },
   {
    "duration": 4,
    "start_time": "2024-11-17T06:08:11.086Z"
   },
   {
    "duration": 36,
    "start_time": "2024-11-17T06:08:11.091Z"
   },
   {
    "duration": 10,
    "start_time": "2024-11-17T06:08:11.129Z"
   },
   {
    "duration": 10,
    "start_time": "2024-11-17T06:08:11.140Z"
   },
   {
    "duration": 1305,
    "start_time": "2024-11-17T06:19:08.315Z"
   },
   {
    "duration": 47,
    "start_time": "2024-11-17T06:19:09.622Z"
   },
   {
    "duration": 55,
    "start_time": "2024-11-17T06:19:09.670Z"
   },
   {
    "duration": 9,
    "start_time": "2024-11-17T06:19:09.727Z"
   },
   {
    "duration": 5,
    "start_time": "2024-11-17T06:19:09.737Z"
   },
   {
    "duration": 27,
    "start_time": "2024-11-17T06:19:09.743Z"
   },
   {
    "duration": 204,
    "start_time": "2024-11-17T06:19:09.771Z"
   },
   {
    "duration": 210,
    "start_time": "2024-11-17T06:19:09.977Z"
   },
   {
    "duration": 158,
    "start_time": "2024-11-17T06:19:10.189Z"
   },
   {
    "duration": 180,
    "start_time": "2024-11-17T06:19:10.349Z"
   },
   {
    "duration": 695,
    "start_time": "2024-11-17T06:19:10.530Z"
   },
   {
    "duration": 117,
    "start_time": "2024-11-17T06:19:11.227Z"
   },
   {
    "duration": 120,
    "start_time": "2024-11-17T06:19:11.346Z"
   },
   {
    "duration": 179,
    "start_time": "2024-11-17T06:19:11.468Z"
   },
   {
    "duration": 132,
    "start_time": "2024-11-17T06:19:11.649Z"
   },
   {
    "duration": 343,
    "start_time": "2024-11-17T06:19:11.782Z"
   },
   {
    "duration": 4,
    "start_time": "2024-11-17T06:19:12.126Z"
   },
   {
    "duration": 20,
    "start_time": "2024-11-17T06:19:12.131Z"
   },
   {
    "duration": 3,
    "start_time": "2024-11-17T06:19:12.153Z"
   },
   {
    "duration": 8,
    "start_time": "2024-11-17T06:19:12.157Z"
   },
   {
    "duration": 1479,
    "start_time": "2024-11-17T06:28:18.765Z"
   },
   {
    "duration": 48,
    "start_time": "2024-11-17T06:28:20.249Z"
   },
   {
    "duration": 9,
    "start_time": "2024-11-17T06:28:20.299Z"
   },
   {
    "duration": 12,
    "start_time": "2024-11-17T06:28:20.310Z"
   },
   {
    "duration": 4,
    "start_time": "2024-11-17T06:28:20.323Z"
   },
   {
    "duration": 10,
    "start_time": "2024-11-17T06:28:20.328Z"
   },
   {
    "duration": 200,
    "start_time": "2024-11-17T06:28:20.339Z"
   },
   {
    "duration": 176,
    "start_time": "2024-11-17T06:28:20.541Z"
   },
   {
    "duration": 155,
    "start_time": "2024-11-17T06:28:20.719Z"
   },
   {
    "duration": 179,
    "start_time": "2024-11-17T06:28:20.876Z"
   },
   {
    "duration": 653,
    "start_time": "2024-11-17T06:28:21.056Z"
   },
   {
    "duration": 149,
    "start_time": "2024-11-17T06:28:21.711Z"
   },
   {
    "duration": 122,
    "start_time": "2024-11-17T06:28:21.861Z"
   },
   {
    "duration": 198,
    "start_time": "2024-11-17T06:28:21.984Z"
   },
   {
    "duration": 119,
    "start_time": "2024-11-17T06:28:22.183Z"
   },
   {
    "duration": 340,
    "start_time": "2024-11-17T06:28:22.303Z"
   },
   {
    "duration": 4,
    "start_time": "2024-11-17T06:28:22.645Z"
   },
   {
    "duration": 13,
    "start_time": "2024-11-17T06:28:22.650Z"
   },
   {
    "duration": 3,
    "start_time": "2024-11-17T06:28:22.664Z"
   },
   {
    "duration": 5,
    "start_time": "2024-11-17T06:28:22.668Z"
   },
   {
    "duration": 1324,
    "start_time": "2024-11-17T06:36:00.430Z"
   },
   {
    "duration": 47,
    "start_time": "2024-11-17T06:36:01.756Z"
   },
   {
    "duration": 125,
    "start_time": "2024-11-17T06:36:01.804Z"
   },
   {
    "duration": 17,
    "start_time": "2024-11-17T06:36:01.932Z"
   },
   {
    "duration": 34,
    "start_time": "2024-11-17T06:36:01.951Z"
   },
   {
    "duration": 28,
    "start_time": "2024-11-17T06:36:01.988Z"
   },
   {
    "duration": 187,
    "start_time": "2024-11-17T06:36:02.018Z"
   },
   {
    "duration": 179,
    "start_time": "2024-11-17T06:36:02.206Z"
   },
   {
    "duration": 161,
    "start_time": "2024-11-17T06:36:02.387Z"
   },
   {
    "duration": 189,
    "start_time": "2024-11-17T06:36:02.550Z"
   },
   {
    "duration": 681,
    "start_time": "2024-11-17T06:36:02.740Z"
   },
   {
    "duration": 109,
    "start_time": "2024-11-17T06:36:03.423Z"
   },
   {
    "duration": 126,
    "start_time": "2024-11-17T06:36:03.533Z"
   },
   {
    "duration": 202,
    "start_time": "2024-11-17T06:36:03.661Z"
   },
   {
    "duration": 115,
    "start_time": "2024-11-17T06:36:03.865Z"
   },
   {
    "duration": 321,
    "start_time": "2024-11-17T06:36:03.981Z"
   },
   {
    "duration": 3,
    "start_time": "2024-11-17T06:36:04.307Z"
   },
   {
    "duration": 15,
    "start_time": "2024-11-17T06:36:04.312Z"
   },
   {
    "duration": 4,
    "start_time": "2024-11-17T06:36:04.328Z"
   },
   {
    "duration": 11,
    "start_time": "2024-11-17T06:36:04.333Z"
   },
   {
    "duration": 1251,
    "start_time": "2024-11-17T06:41:55.029Z"
   },
   {
    "duration": 45,
    "start_time": "2024-11-17T06:41:56.282Z"
   },
   {
    "duration": 10,
    "start_time": "2024-11-17T06:41:56.329Z"
   },
   {
    "duration": 8,
    "start_time": "2024-11-17T06:41:56.341Z"
   },
   {
    "duration": 3,
    "start_time": "2024-11-17T06:41:56.350Z"
   },
   {
    "duration": 9,
    "start_time": "2024-11-17T06:41:56.354Z"
   },
   {
    "duration": 224,
    "start_time": "2024-11-17T06:41:56.364Z"
   },
   {
    "duration": 172,
    "start_time": "2024-11-17T06:41:56.590Z"
   },
   {
    "duration": 160,
    "start_time": "2024-11-17T06:41:56.764Z"
   },
   {
    "duration": 182,
    "start_time": "2024-11-17T06:41:56.926Z"
   },
   {
    "duration": 692,
    "start_time": "2024-11-17T06:41:57.109Z"
   },
   {
    "duration": 110,
    "start_time": "2024-11-17T06:41:57.803Z"
   },
   {
    "duration": 119,
    "start_time": "2024-11-17T06:41:57.915Z"
   },
   {
    "duration": 176,
    "start_time": "2024-11-17T06:41:58.035Z"
   },
   {
    "duration": 121,
    "start_time": "2024-11-17T06:41:58.213Z"
   },
   {
    "duration": 332,
    "start_time": "2024-11-17T06:41:58.336Z"
   },
   {
    "duration": 4,
    "start_time": "2024-11-17T06:41:58.670Z"
   },
   {
    "duration": 16,
    "start_time": "2024-11-17T06:41:58.675Z"
   },
   {
    "duration": 15,
    "start_time": "2024-11-17T06:41:58.692Z"
   },
   {
    "duration": 5,
    "start_time": "2024-11-17T06:41:58.708Z"
   },
   {
    "duration": 1270,
    "start_time": "2024-11-17T06:42:42.630Z"
   },
   {
    "duration": 45,
    "start_time": "2024-11-17T06:42:43.902Z"
   },
   {
    "duration": 9,
    "start_time": "2024-11-17T06:42:43.949Z"
   },
   {
    "duration": 24,
    "start_time": "2024-11-17T06:42:43.960Z"
   },
   {
    "duration": 17,
    "start_time": "2024-11-17T06:42:43.985Z"
   },
   {
    "duration": 17,
    "start_time": "2024-11-17T06:42:44.003Z"
   },
   {
    "duration": 203,
    "start_time": "2024-11-17T06:42:44.022Z"
   },
   {
    "duration": 177,
    "start_time": "2024-11-17T06:42:44.227Z"
   },
   {
    "duration": 161,
    "start_time": "2024-11-17T06:42:44.405Z"
   },
   {
    "duration": 182,
    "start_time": "2024-11-17T06:42:44.569Z"
   },
   {
    "duration": 693,
    "start_time": "2024-11-17T06:42:44.752Z"
   },
   {
    "duration": 111,
    "start_time": "2024-11-17T06:42:45.447Z"
   },
   {
    "duration": 119,
    "start_time": "2024-11-17T06:42:45.559Z"
   },
   {
    "duration": 173,
    "start_time": "2024-11-17T06:42:45.679Z"
   },
   {
    "duration": 123,
    "start_time": "2024-11-17T06:42:45.854Z"
   },
   {
    "duration": 349,
    "start_time": "2024-11-17T06:42:45.979Z"
   },
   {
    "duration": 4,
    "start_time": "2024-11-17T06:42:46.329Z"
   },
   {
    "duration": 20,
    "start_time": "2024-11-17T06:42:46.335Z"
   },
   {
    "duration": 4,
    "start_time": "2024-11-17T06:42:46.356Z"
   },
   {
    "duration": 30,
    "start_time": "2024-11-17T06:42:46.362Z"
   },
   {
    "duration": 1365,
    "start_time": "2024-11-17T06:46:01.079Z"
   },
   {
    "duration": 46,
    "start_time": "2024-11-17T06:46:02.446Z"
   },
   {
    "duration": 57,
    "start_time": "2024-11-17T06:46:02.493Z"
   },
   {
    "duration": 78,
    "start_time": "2024-11-17T06:46:02.552Z"
   },
   {
    "duration": 59,
    "start_time": "2024-11-17T06:46:02.632Z"
   },
   {
    "duration": 22,
    "start_time": "2024-11-17T06:46:02.692Z"
   },
   {
    "duration": 201,
    "start_time": "2024-11-17T06:46:02.716Z"
   },
   {
    "duration": 177,
    "start_time": "2024-11-17T06:46:02.919Z"
   },
   {
    "duration": 163,
    "start_time": "2024-11-17T06:46:03.098Z"
   },
   {
    "duration": 186,
    "start_time": "2024-11-17T06:46:03.262Z"
   },
   {
    "duration": 639,
    "start_time": "2024-11-17T06:46:03.450Z"
   },
   {
    "duration": 113,
    "start_time": "2024-11-17T06:46:04.091Z"
   },
   {
    "duration": 124,
    "start_time": "2024-11-17T06:46:04.207Z"
   },
   {
    "duration": 203,
    "start_time": "2024-11-17T06:46:04.334Z"
   },
   {
    "duration": 113,
    "start_time": "2024-11-17T06:46:04.538Z"
   },
   {
    "duration": 315,
    "start_time": "2024-11-17T06:46:04.653Z"
   },
   {
    "duration": 4,
    "start_time": "2024-11-17T06:46:04.969Z"
   },
   {
    "duration": 31,
    "start_time": "2024-11-17T06:46:04.974Z"
   },
   {
    "duration": 3,
    "start_time": "2024-11-17T06:46:05.007Z"
   },
   {
    "duration": 10,
    "start_time": "2024-11-17T06:46:05.012Z"
   },
   {
    "duration": 1377,
    "start_time": "2024-11-17T06:54:27.140Z"
   },
   {
    "duration": 47,
    "start_time": "2024-11-17T06:54:28.519Z"
   },
   {
    "duration": 9,
    "start_time": "2024-11-17T06:54:28.568Z"
   },
   {
    "duration": 21,
    "start_time": "2024-11-17T06:54:28.579Z"
   },
   {
    "duration": 19,
    "start_time": "2024-11-17T06:54:28.602Z"
   },
   {
    "duration": 8,
    "start_time": "2024-11-17T06:54:28.622Z"
   },
   {
    "duration": 246,
    "start_time": "2024-11-17T06:54:28.632Z"
   },
   {
    "duration": 180,
    "start_time": "2024-11-17T06:54:28.880Z"
   },
   {
    "duration": 226,
    "start_time": "2024-11-17T06:54:29.062Z"
   },
   {
    "duration": 199,
    "start_time": "2024-11-17T06:54:29.291Z"
   },
   {
    "duration": 898,
    "start_time": "2024-11-17T06:54:29.492Z"
   },
   {
    "duration": 172,
    "start_time": "2024-11-17T06:54:30.392Z"
   },
   {
    "duration": 167,
    "start_time": "2024-11-17T06:54:30.566Z"
   },
   {
    "duration": 203,
    "start_time": "2024-11-17T06:54:30.735Z"
   },
   {
    "duration": 155,
    "start_time": "2024-11-17T06:54:30.940Z"
   },
   {
    "duration": 415,
    "start_time": "2024-11-17T06:54:31.097Z"
   },
   {
    "duration": 7,
    "start_time": "2024-11-17T06:54:31.513Z"
   },
   {
    "duration": 42,
    "start_time": "2024-11-17T06:54:31.521Z"
   },
   {
    "duration": 31,
    "start_time": "2024-11-17T06:54:31.565Z"
   },
   {
    "duration": 7,
    "start_time": "2024-11-17T06:54:31.598Z"
   },
   {
    "duration": 1006412,
    "start_time": "2024-11-17T06:54:31.606Z"
   },
   {
    "duration": 28,
    "start_time": "2024-11-17T07:11:18.021Z"
   },
   {
    "duration": 6,
    "start_time": "2024-11-17T07:11:18.051Z"
   },
   {
    "duration": 60,
    "start_time": "2024-11-17T07:11:18.059Z"
   },
   {
    "duration": 4,
    "start_time": "2024-11-17T07:11:18.123Z"
   },
   {
    "duration": 155,
    "start_time": "2024-11-17T07:11:18.128Z"
   },
   {
    "duration": 0,
    "start_time": "2024-11-17T07:11:18.284Z"
   },
   {
    "duration": 1305,
    "start_time": "2024-11-17T07:30:26.684Z"
   },
   {
    "duration": 46,
    "start_time": "2024-11-17T07:30:27.991Z"
   },
   {
    "duration": 9,
    "start_time": "2024-11-17T07:30:28.039Z"
   },
   {
    "duration": 9,
    "start_time": "2024-11-17T07:30:28.050Z"
   },
   {
    "duration": 4,
    "start_time": "2024-11-17T07:30:28.061Z"
   },
   {
    "duration": 9,
    "start_time": "2024-11-17T07:30:28.066Z"
   },
   {
    "duration": 220,
    "start_time": "2024-11-17T07:30:28.076Z"
   },
   {
    "duration": 170,
    "start_time": "2024-11-17T07:30:28.297Z"
   },
   {
    "duration": 158,
    "start_time": "2024-11-17T07:30:28.469Z"
   },
   {
    "duration": 181,
    "start_time": "2024-11-17T07:30:28.630Z"
   },
   {
    "duration": 664,
    "start_time": "2024-11-17T07:30:28.813Z"
   },
   {
    "duration": 110,
    "start_time": "2024-11-17T07:30:29.479Z"
   },
   {
    "duration": 117,
    "start_time": "2024-11-17T07:30:29.590Z"
   },
   {
    "duration": 167,
    "start_time": "2024-11-17T07:30:29.708Z"
   },
   {
    "duration": 124,
    "start_time": "2024-11-17T07:30:29.877Z"
   },
   {
    "duration": 331,
    "start_time": "2024-11-17T07:30:30.006Z"
   },
   {
    "duration": 4,
    "start_time": "2024-11-17T07:30:30.338Z"
   },
   {
    "duration": 40,
    "start_time": "2024-11-17T07:30:30.343Z"
   },
   {
    "duration": 26,
    "start_time": "2024-11-17T07:30:30.385Z"
   },
   {
    "duration": 11,
    "start_time": "2024-11-17T07:30:30.412Z"
   },
   {
    "duration": 6,
    "start_time": "2024-11-17T07:30:30.424Z"
   },
   {
    "duration": 105,
    "start_time": "2024-11-17T07:30:30.431Z"
   },
   {
    "duration": 0,
    "start_time": "2024-11-17T07:30:30.538Z"
   },
   {
    "duration": 0,
    "start_time": "2024-11-17T07:30:30.538Z"
   },
   {
    "duration": 0,
    "start_time": "2024-11-17T07:30:30.539Z"
   },
   {
    "duration": 0,
    "start_time": "2024-11-17T07:30:30.540Z"
   },
   {
    "duration": 0,
    "start_time": "2024-11-17T07:30:30.541Z"
   },
   {
    "duration": 0,
    "start_time": "2024-11-17T07:30:30.542Z"
   },
   {
    "duration": 0,
    "start_time": "2024-11-17T07:30:30.542Z"
   },
   {
    "duration": 0,
    "start_time": "2024-11-17T07:30:30.543Z"
   },
   {
    "duration": 0,
    "start_time": "2024-11-17T07:30:30.544Z"
   },
   {
    "duration": 0,
    "start_time": "2024-11-17T07:30:30.544Z"
   },
   {
    "duration": 0,
    "start_time": "2024-11-17T07:30:30.545Z"
   },
   {
    "duration": 0,
    "start_time": "2024-11-17T07:30:30.546Z"
   },
   {
    "duration": 0,
    "start_time": "2024-11-17T07:30:30.547Z"
   },
   {
    "duration": 0,
    "start_time": "2024-11-17T07:30:30.548Z"
   },
   {
    "duration": 0,
    "start_time": "2024-11-17T07:30:30.548Z"
   },
   {
    "duration": 1326,
    "start_time": "2024-11-17T07:31:05.590Z"
   },
   {
    "duration": 46,
    "start_time": "2024-11-17T07:31:06.918Z"
   },
   {
    "duration": 10,
    "start_time": "2024-11-17T07:31:06.966Z"
   },
   {
    "duration": 20,
    "start_time": "2024-11-17T07:31:06.977Z"
   },
   {
    "duration": 3,
    "start_time": "2024-11-17T07:31:06.999Z"
   },
   {
    "duration": 11,
    "start_time": "2024-11-17T07:31:07.003Z"
   },
   {
    "duration": 199,
    "start_time": "2024-11-17T07:31:07.016Z"
   },
   {
    "duration": 171,
    "start_time": "2024-11-17T07:31:07.217Z"
   },
   {
    "duration": 160,
    "start_time": "2024-11-17T07:31:07.390Z"
   },
   {
    "duration": 183,
    "start_time": "2024-11-17T07:31:07.552Z"
   },
   {
    "duration": 664,
    "start_time": "2024-11-17T07:31:07.737Z"
   },
   {
    "duration": 111,
    "start_time": "2024-11-17T07:31:08.403Z"
   },
   {
    "duration": 119,
    "start_time": "2024-11-17T07:31:08.515Z"
   },
   {
    "duration": 192,
    "start_time": "2024-11-17T07:31:08.636Z"
   },
   {
    "duration": 120,
    "start_time": "2024-11-17T07:31:08.829Z"
   },
   {
    "duration": 339,
    "start_time": "2024-11-17T07:31:08.951Z"
   },
   {
    "duration": 3,
    "start_time": "2024-11-17T07:31:09.292Z"
   },
   {
    "duration": 19,
    "start_time": "2024-11-17T07:31:09.307Z"
   },
   {
    "duration": 10,
    "start_time": "2024-11-17T07:31:09.328Z"
   },
   {
    "duration": 9,
    "start_time": "2024-11-17T07:31:09.339Z"
   },
   {
    "duration": 21,
    "start_time": "2024-11-17T07:31:09.350Z"
   },
   {
    "duration": 9,
    "start_time": "2024-11-17T07:31:09.372Z"
   },
   {
    "duration": 14,
    "start_time": "2024-11-17T07:31:09.382Z"
   },
   {
    "duration": 109,
    "start_time": "2024-11-17T07:31:09.397Z"
   },
   {
    "duration": 349,
    "start_time": "2024-11-17T07:31:09.508Z"
   },
   {
    "duration": 0,
    "start_time": "2024-11-17T07:31:09.859Z"
   },
   {
    "duration": 0,
    "start_time": "2024-11-17T07:31:09.860Z"
   },
   {
    "duration": 1,
    "start_time": "2024-11-17T07:31:09.861Z"
   },
   {
    "duration": 0,
    "start_time": "2024-11-17T07:31:09.862Z"
   },
   {
    "duration": 0,
    "start_time": "2024-11-17T07:31:09.863Z"
   },
   {
    "duration": 0,
    "start_time": "2024-11-17T07:31:09.864Z"
   },
   {
    "duration": 0,
    "start_time": "2024-11-17T07:31:09.865Z"
   },
   {
    "duration": 0,
    "start_time": "2024-11-17T07:31:09.866Z"
   },
   {
    "duration": 0,
    "start_time": "2024-11-17T07:31:09.867Z"
   },
   {
    "duration": 0,
    "start_time": "2024-11-17T07:31:09.867Z"
   },
   {
    "duration": 0,
    "start_time": "2024-11-17T07:31:09.868Z"
   },
   {
    "duration": 0,
    "start_time": "2024-11-17T07:31:09.869Z"
   },
   {
    "duration": 146,
    "start_time": "2024-11-17T07:31:44.032Z"
   },
   {
    "duration": 3,
    "start_time": "2024-11-17T07:31:47.895Z"
   },
   {
    "duration": 3,
    "start_time": "2024-11-17T07:31:49.640Z"
   },
   {
    "duration": 21132,
    "start_time": "2024-11-17T07:31:52.997Z"
   },
   {
    "duration": 21059,
    "start_time": "2024-11-17T07:32:25.663Z"
   },
   {
    "duration": 3,
    "start_time": "2024-11-17T07:33:26.478Z"
   },
   {
    "duration": 52208,
    "start_time": "2024-11-17T07:33:30.204Z"
   },
   {
    "duration": 2,
    "start_time": "2024-11-17T07:34:57.204Z"
   },
   {
    "duration": 10,
    "start_time": "2024-11-17T07:35:01.060Z"
   },
   {
    "duration": 1276,
    "start_time": "2024-11-17T07:35:54.059Z"
   },
   {
    "duration": 46,
    "start_time": "2024-11-17T07:35:55.337Z"
   },
   {
    "duration": 9,
    "start_time": "2024-11-17T07:35:55.384Z"
   },
   {
    "duration": 10,
    "start_time": "2024-11-17T07:35:55.395Z"
   },
   {
    "duration": 14,
    "start_time": "2024-11-17T07:35:55.406Z"
   },
   {
    "duration": 17,
    "start_time": "2024-11-17T07:35:55.421Z"
   },
   {
    "duration": 201,
    "start_time": "2024-11-17T07:35:55.440Z"
   },
   {
    "duration": 173,
    "start_time": "2024-11-17T07:35:55.642Z"
   },
   {
    "duration": 156,
    "start_time": "2024-11-17T07:35:55.817Z"
   },
   {
    "duration": 178,
    "start_time": "2024-11-17T07:35:55.976Z"
   },
   {
    "duration": 654,
    "start_time": "2024-11-17T07:35:56.155Z"
   },
   {
    "duration": 115,
    "start_time": "2024-11-17T07:35:56.811Z"
   },
   {
    "duration": 127,
    "start_time": "2024-11-17T07:35:56.927Z"
   },
   {
    "duration": 180,
    "start_time": "2024-11-17T07:35:57.056Z"
   },
   {
    "duration": 136,
    "start_time": "2024-11-17T07:35:57.238Z"
   },
   {
    "duration": 320,
    "start_time": "2024-11-17T07:35:57.376Z"
   },
   {
    "duration": 4,
    "start_time": "2024-11-17T07:35:57.697Z"
   },
   {
    "duration": 15,
    "start_time": "2024-11-17T07:35:57.702Z"
   },
   {
    "duration": 7,
    "start_time": "2024-11-17T07:35:57.719Z"
   },
   {
    "duration": 6,
    "start_time": "2024-11-17T07:35:57.728Z"
   },
   {
    "duration": 4,
    "start_time": "2024-11-17T07:35:57.735Z"
   },
   {
    "duration": 8,
    "start_time": "2024-11-17T07:35:57.740Z"
   },
   {
    "duration": 59,
    "start_time": "2024-11-17T07:35:57.750Z"
   },
   {
    "duration": 3,
    "start_time": "2024-11-17T07:35:57.811Z"
   },
   {
    "duration": 264,
    "start_time": "2024-11-17T07:35:57.816Z"
   },
   {
    "duration": 2,
    "start_time": "2024-11-17T07:35:58.081Z"
   },
   {
    "duration": 20851,
    "start_time": "2024-11-17T07:35:58.085Z"
   },
   {
    "duration": 3,
    "start_time": "2024-11-17T07:36:18.939Z"
   },
   {
    "duration": 27374,
    "start_time": "2024-11-17T07:36:18.943Z"
   },
   {
    "duration": 3,
    "start_time": "2024-11-17T07:36:46.407Z"
   },
   {
    "duration": 6,
    "start_time": "2024-11-17T07:36:46.411Z"
   },
   {
    "duration": 14,
    "start_time": "2024-11-17T07:36:46.418Z"
   },
   {
    "duration": 130,
    "start_time": "2024-11-17T07:36:46.433Z"
   },
   {
    "duration": 0,
    "start_time": "2024-11-17T07:36:46.564Z"
   },
   {
    "duration": 20803,
    "start_time": "2024-11-17T07:38:32.017Z"
   },
   {
    "duration": 1359,
    "start_time": "2024-11-17T07:47:30.184Z"
   },
   {
    "duration": 46,
    "start_time": "2024-11-17T07:47:31.545Z"
   },
   {
    "duration": 10,
    "start_time": "2024-11-17T07:47:31.592Z"
   },
   {
    "duration": 13,
    "start_time": "2024-11-17T07:47:31.604Z"
   },
   {
    "duration": 4,
    "start_time": "2024-11-17T07:47:31.618Z"
   },
   {
    "duration": 22,
    "start_time": "2024-11-17T07:47:31.623Z"
   },
   {
    "duration": 258,
    "start_time": "2024-11-17T07:47:31.646Z"
   },
   {
    "duration": 175,
    "start_time": "2024-11-17T07:47:31.907Z"
   },
   {
    "duration": 166,
    "start_time": "2024-11-17T07:47:32.083Z"
   },
   {
    "duration": 195,
    "start_time": "2024-11-17T07:47:32.251Z"
   },
   {
    "duration": 718,
    "start_time": "2024-11-17T07:47:32.448Z"
   },
   {
    "duration": 124,
    "start_time": "2024-11-17T07:47:33.167Z"
   },
   {
    "duration": 129,
    "start_time": "2024-11-17T07:47:33.293Z"
   },
   {
    "duration": 170,
    "start_time": "2024-11-17T07:47:33.423Z"
   },
   {
    "duration": 126,
    "start_time": "2024-11-17T07:47:33.595Z"
   },
   {
    "duration": 330,
    "start_time": "2024-11-17T07:47:33.723Z"
   },
   {
    "duration": 4,
    "start_time": "2024-11-17T07:47:34.055Z"
   },
   {
    "duration": 31,
    "start_time": "2024-11-17T07:47:34.061Z"
   },
   {
    "duration": 11,
    "start_time": "2024-11-17T07:47:34.093Z"
   },
   {
    "duration": 29,
    "start_time": "2024-11-17T07:47:34.105Z"
   },
   {
    "duration": 10,
    "start_time": "2024-11-17T07:47:34.135Z"
   },
   {
    "duration": 20,
    "start_time": "2024-11-17T07:47:34.146Z"
   },
   {
    "duration": 318,
    "start_time": "2024-11-17T07:47:34.168Z"
   },
   {
    "duration": 0,
    "start_time": "2024-11-17T07:47:34.489Z"
   },
   {
    "duration": 0,
    "start_time": "2024-11-17T07:47:34.490Z"
   },
   {
    "duration": 0,
    "start_time": "2024-11-17T07:47:34.491Z"
   },
   {
    "duration": 0,
    "start_time": "2024-11-17T07:47:34.492Z"
   },
   {
    "duration": 0,
    "start_time": "2024-11-17T07:47:34.493Z"
   },
   {
    "duration": 0,
    "start_time": "2024-11-17T07:47:34.507Z"
   },
   {
    "duration": 0,
    "start_time": "2024-11-17T07:47:34.509Z"
   },
   {
    "duration": 0,
    "start_time": "2024-11-17T07:47:34.510Z"
   },
   {
    "duration": 0,
    "start_time": "2024-11-17T07:47:34.511Z"
   },
   {
    "duration": 0,
    "start_time": "2024-11-17T07:47:34.512Z"
   },
   {
    "duration": 1,
    "start_time": "2024-11-17T07:47:34.513Z"
   },
   {
    "duration": 0,
    "start_time": "2024-11-17T07:47:34.515Z"
   },
   {
    "duration": 0,
    "start_time": "2024-11-17T07:47:34.516Z"
   },
   {
    "duration": 8,
    "start_time": "2024-11-17T07:47:46.570Z"
   },
   {
    "duration": 3,
    "start_time": "2024-11-17T07:47:48.874Z"
   },
   {
    "duration": 22,
    "start_time": "2024-11-17T07:47:50.429Z"
   },
   {
    "duration": 65,
    "start_time": "2024-11-17T07:48:08.600Z"
   },
   {
    "duration": 151,
    "start_time": "2024-11-17T07:48:18.928Z"
   },
   {
    "duration": 2,
    "start_time": "2024-11-17T07:48:21.802Z"
   },
   {
    "duration": 20716,
    "start_time": "2024-11-17T07:48:24.082Z"
   },
   {
    "duration": 48579,
    "start_time": "2024-11-17T07:48:59.530Z"
   },
   {
    "duration": 2,
    "start_time": "2024-11-17T07:49:48.111Z"
   },
   {
    "duration": 2,
    "start_time": "2024-11-17T07:50:07.719Z"
   },
   {
    "duration": 10,
    "start_time": "2024-11-17T07:50:10.488Z"
   },
   {
    "duration": 2,
    "start_time": "2024-11-17T07:50:14.065Z"
   },
   {
    "duration": 10,
    "start_time": "2024-11-17T07:50:16.087Z"
   },
   {
    "duration": 9,
    "start_time": "2024-11-17T07:50:45.899Z"
   },
   {
    "duration": 10,
    "start_time": "2024-11-17T07:50:54.972Z"
   },
   {
    "duration": 4,
    "start_time": "2024-11-17T07:51:27.245Z"
   },
   {
    "duration": 9,
    "start_time": "2024-11-17T07:51:30.519Z"
   },
   {
    "duration": 3,
    "start_time": "2024-11-17T07:52:58.671Z"
   },
   {
    "duration": 11,
    "start_time": "2024-11-17T07:53:00.866Z"
   },
   {
    "duration": 590,
    "start_time": "2024-11-17T07:53:38.019Z"
   },
   {
    "duration": 1339,
    "start_time": "2024-11-17T07:56:22.904Z"
   },
   {
    "duration": 46,
    "start_time": "2024-11-17T07:56:24.244Z"
   },
   {
    "duration": 9,
    "start_time": "2024-11-17T07:56:24.292Z"
   },
   {
    "duration": 11,
    "start_time": "2024-11-17T07:56:24.303Z"
   },
   {
    "duration": 3,
    "start_time": "2024-11-17T07:56:24.315Z"
   },
   {
    "duration": 12,
    "start_time": "2024-11-17T07:56:24.319Z"
   },
   {
    "duration": 224,
    "start_time": "2024-11-17T07:56:24.333Z"
   },
   {
    "duration": 177,
    "start_time": "2024-11-17T07:56:24.559Z"
   },
   {
    "duration": 155,
    "start_time": "2024-11-17T07:56:24.738Z"
   },
   {
    "duration": 181,
    "start_time": "2024-11-17T07:56:24.896Z"
   },
   {
    "duration": 658,
    "start_time": "2024-11-17T07:56:25.079Z"
   },
   {
    "duration": 111,
    "start_time": "2024-11-17T07:56:25.739Z"
   },
   {
    "duration": 113,
    "start_time": "2024-11-17T07:56:25.852Z"
   },
   {
    "duration": 176,
    "start_time": "2024-11-17T07:56:25.967Z"
   },
   {
    "duration": 132,
    "start_time": "2024-11-17T07:56:26.144Z"
   },
   {
    "duration": 323,
    "start_time": "2024-11-17T07:56:26.277Z"
   },
   {
    "duration": 3,
    "start_time": "2024-11-17T07:56:26.606Z"
   },
   {
    "duration": 21,
    "start_time": "2024-11-17T07:56:26.611Z"
   },
   {
    "duration": 3,
    "start_time": "2024-11-17T07:56:26.633Z"
   },
   {
    "duration": 33,
    "start_time": "2024-11-17T07:56:26.638Z"
   },
   {
    "duration": 32,
    "start_time": "2024-11-17T07:56:26.673Z"
   },
   {
    "duration": 11,
    "start_time": "2024-11-17T07:56:26.706Z"
   },
   {
    "duration": 17,
    "start_time": "2024-11-17T07:56:26.719Z"
   },
   {
    "duration": 3,
    "start_time": "2024-11-17T07:56:26.809Z"
   },
   {
    "duration": 243,
    "start_time": "2024-11-17T07:56:26.814Z"
   },
   {
    "duration": 2,
    "start_time": "2024-11-17T07:56:27.058Z"
   },
   {
    "duration": 20873,
    "start_time": "2024-11-17T07:56:27.061Z"
   },
   {
    "duration": 3,
    "start_time": "2024-11-17T07:56:47.937Z"
   },
   {
    "duration": 51573,
    "start_time": "2024-11-17T07:56:47.941Z"
   },
   {
    "duration": 91,
    "start_time": "2024-11-17T07:57:39.516Z"
   },
   {
    "duration": 30,
    "start_time": "2024-11-17T07:57:39.609Z"
   },
   {
    "duration": 37,
    "start_time": "2024-11-17T07:57:39.640Z"
   },
   {
    "duration": 19,
    "start_time": "2024-11-17T07:57:39.678Z"
   },
   {
    "duration": 1316,
    "start_time": "2024-11-17T07:57:39.698Z"
   },
   {
    "duration": 651,
    "start_time": "2024-11-17T07:58:57.257Z"
   },
   {
    "duration": 1242,
    "start_time": "2024-11-17T08:00:40.355Z"
   },
   {
    "duration": 46,
    "start_time": "2024-11-17T08:00:41.599Z"
   },
   {
    "duration": 9,
    "start_time": "2024-11-17T08:00:41.646Z"
   },
   {
    "duration": 8,
    "start_time": "2024-11-17T08:00:41.657Z"
   },
   {
    "duration": 7,
    "start_time": "2024-11-17T08:00:41.666Z"
   },
   {
    "duration": 12,
    "start_time": "2024-11-17T08:00:41.674Z"
   },
   {
    "duration": 213,
    "start_time": "2024-11-17T08:00:41.688Z"
   },
   {
    "duration": 171,
    "start_time": "2024-11-17T08:00:41.902Z"
   },
   {
    "duration": 173,
    "start_time": "2024-11-17T08:00:42.075Z"
   },
   {
    "duration": 195,
    "start_time": "2024-11-17T08:00:42.250Z"
   },
   {
    "duration": 683,
    "start_time": "2024-11-17T08:00:42.446Z"
   },
   {
    "duration": 123,
    "start_time": "2024-11-17T08:00:43.131Z"
   },
   {
    "duration": 115,
    "start_time": "2024-11-17T08:00:43.255Z"
   },
   {
    "duration": 175,
    "start_time": "2024-11-17T08:00:43.372Z"
   },
   {
    "duration": 123,
    "start_time": "2024-11-17T08:00:43.549Z"
   },
   {
    "duration": 361,
    "start_time": "2024-11-17T08:00:43.673Z"
   },
   {
    "duration": 4,
    "start_time": "2024-11-17T08:00:44.036Z"
   },
   {
    "duration": 21,
    "start_time": "2024-11-17T08:00:44.041Z"
   },
   {
    "duration": 4,
    "start_time": "2024-11-17T08:00:44.064Z"
   },
   {
    "duration": 9,
    "start_time": "2024-11-17T08:00:44.070Z"
   },
   {
    "duration": 3,
    "start_time": "2024-11-17T08:00:44.081Z"
   },
   {
    "duration": 6,
    "start_time": "2024-11-17T08:00:44.086Z"
   },
   {
    "duration": 109,
    "start_time": "2024-11-17T08:00:44.107Z"
   },
   {
    "duration": 3,
    "start_time": "2024-11-17T08:00:44.217Z"
   },
   {
    "duration": 321,
    "start_time": "2024-11-17T08:00:44.221Z"
   },
   {
    "duration": 2,
    "start_time": "2024-11-17T08:00:44.544Z"
   },
   {
    "duration": 21371,
    "start_time": "2024-11-17T08:00:44.548Z"
   },
   {
    "duration": 2,
    "start_time": "2024-11-17T08:01:05.922Z"
   },
   {
    "duration": 120087,
    "start_time": "2024-11-17T08:01:05.925Z"
   },
   {
    "duration": 2,
    "start_time": "2024-11-17T08:03:06.016Z"
   },
   {
    "duration": 3,
    "start_time": "2024-11-17T08:03:06.019Z"
   },
   {
    "duration": 90,
    "start_time": "2024-11-17T08:03:06.023Z"
   },
   {
    "duration": 1400,
    "start_time": "2024-11-17T08:03:06.114Z"
   },
   {
    "duration": 1016,
    "start_time": "2024-11-17T08:03:07.515Z"
   },
   {
    "duration": 1732,
    "start_time": "2024-11-18T12:05:04.510Z"
   },
   {
    "duration": 100,
    "start_time": "2024-11-18T12:05:06.255Z"
   },
   {
    "duration": 11,
    "start_time": "2024-11-18T12:05:06.356Z"
   },
   {
    "duration": 66,
    "start_time": "2024-11-18T12:05:06.369Z"
   },
   {
    "duration": 58,
    "start_time": "2024-11-18T12:05:06.436Z"
   },
   {
    "duration": 65,
    "start_time": "2024-11-18T12:05:06.496Z"
   },
   {
    "duration": 293,
    "start_time": "2024-11-18T12:05:06.563Z"
   },
   {
    "duration": 220,
    "start_time": "2024-11-18T12:05:06.858Z"
   },
   {
    "duration": 213,
    "start_time": "2024-11-18T12:05:07.080Z"
   },
   {
    "duration": 229,
    "start_time": "2024-11-18T12:05:07.295Z"
   },
   {
    "duration": 825,
    "start_time": "2024-11-18T12:05:07.526Z"
   },
   {
    "duration": 152,
    "start_time": "2024-11-18T12:05:08.353Z"
   },
   {
    "duration": 167,
    "start_time": "2024-11-18T12:05:08.507Z"
   },
   {
    "duration": 228,
    "start_time": "2024-11-18T12:05:08.675Z"
   },
   {
    "duration": 162,
    "start_time": "2024-11-18T12:05:08.905Z"
   },
   {
    "duration": 394,
    "start_time": "2024-11-18T12:05:09.069Z"
   },
   {
    "duration": 4,
    "start_time": "2024-11-18T12:05:09.465Z"
   },
   {
    "duration": 32,
    "start_time": "2024-11-18T12:05:09.470Z"
   },
   {
    "duration": 4,
    "start_time": "2024-11-18T12:05:09.503Z"
   },
   {
    "duration": 20,
    "start_time": "2024-11-18T12:05:09.508Z"
   },
   {
    "duration": 25,
    "start_time": "2024-11-18T12:05:09.530Z"
   },
   {
    "duration": 22,
    "start_time": "2024-11-18T12:05:09.557Z"
   },
   {
    "duration": 74,
    "start_time": "2024-11-18T12:05:09.580Z"
   },
   {
    "duration": 6,
    "start_time": "2024-11-18T12:05:09.656Z"
   },
   {
    "duration": 260,
    "start_time": "2024-11-18T12:05:09.663Z"
   },
   {
    "duration": 2,
    "start_time": "2024-11-18T12:05:09.926Z"
   },
   {
    "duration": 22045,
    "start_time": "2024-11-18T12:05:09.930Z"
   },
   {
    "duration": 2,
    "start_time": "2024-11-18T12:05:31.978Z"
   },
   {
    "duration": 530899,
    "start_time": "2024-11-18T12:05:31.981Z"
   },
   {
    "duration": 4,
    "start_time": "2024-11-18T12:14:22.958Z"
   },
   {
    "duration": 27,
    "start_time": "2024-11-18T12:14:22.964Z"
   },
   {
    "duration": 18,
    "start_time": "2024-11-18T12:14:22.993Z"
   },
   {
    "duration": 18557,
    "start_time": "2024-11-18T12:14:23.012Z"
   },
   {
    "duration": 1114,
    "start_time": "2024-11-18T12:14:41.574Z"
   },
   {
    "duration": 496,
    "start_time": "2024-11-18T12:14:42.690Z"
   }
  ],
  "celltoolbar": "Отсутствует",
  "kernelspec": {
   "display_name": "Python 3 (ipykernel)",
   "language": "python",
   "name": "python3"
  },
  "language_info": {
   "codemirror_mode": {
    "name": "ipython",
    "version": 3
   },
   "file_extension": ".py",
   "mimetype": "text/x-python",
   "name": "python",
   "nbconvert_exporter": "python",
   "pygments_lexer": "ipython3",
   "version": "3.9.5"
  },
  "toc": {
   "base_numbering": 1,
   "nav_menu": {},
   "number_sections": true,
   "sideBar": true,
   "skip_h1_title": true,
   "title_cell": "Содержание",
   "title_sidebar": "Contents",
   "toc_cell": true,
   "toc_position": {
    "height": "calc(100% - 180px)",
    "left": "10px",
    "top": "150px",
    "width": "426.641px"
   },
   "toc_section_display": true,
   "toc_window_display": false
  }
 },
 "nbformat": 4,
 "nbformat_minor": 2
}
