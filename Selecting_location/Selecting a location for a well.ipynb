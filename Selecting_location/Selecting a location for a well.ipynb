{
 "cells": [
  {
   "cell_type": "markdown",
   "metadata": {},
   "source": [
    "## Загрузка и подготовка данных"
   ]
  },
  {
   "cell_type": "markdown",
   "metadata": {},
   "source": [
    "<a id='info1'></a>\n",
    "### Загрузка библиотек"
   ]
  },
  {
   "cell_type": "code",
   "execution_count": 1,
   "metadata": {},
   "outputs": [],
   "source": [
    "import pandas as pd\n",
    "import numpy as np\n",
    "\n",
    "from sklearn.model_selection import train_test_split\n",
    "from sklearn.linear_model import LinearRegression\n",
    "from sklearn.metrics import mean_squared_error\n",
    "from sklearn.model_selection import cross_val_score\n",
    "\n",
    "model = LinearRegression()\n",
    "RANDOM_STATE = 42\n",
    "state = np.random.RandomState(12345)"
   ]
  },
  {
   "cell_type": "markdown",
   "metadata": {},
   "source": [
    "### Загрузка данных"
   ]
  },
  {
   "cell_type": "code",
   "execution_count": 2,
   "metadata": {},
   "outputs": [],
   "source": [
    "geo_data_0 = pd.read_csv('/datasets/geo_data_0.csv', index_col='id')\n",
    "geo_data_1 = pd.read_csv('/datasets/geo_data_1.csv', index_col='id')\n",
    "geo_data_2 = pd.read_csv('/datasets/geo_data_2.csv', index_col='id')"
   ]
  },
  {
   "cell_type": "markdown",
   "metadata": {},
   "source": [
    "<a id='info2'></a>\n",
    "### Обзор данных"
   ]
  },
  {
   "cell_type": "code",
   "execution_count": 3,
   "metadata": {},
   "outputs": [
    {
     "name": "stdout",
     "output_type": "stream",
     "text": [
      "<class 'pandas.core.frame.DataFrame'>\n",
      "Index: 100000 entries, txEyH to 1CWhH\n",
      "Data columns (total 4 columns):\n",
      " #   Column   Non-Null Count   Dtype  \n",
      "---  ------   --------------   -----  \n",
      " 0   f0       100000 non-null  float64\n",
      " 1   f1       100000 non-null  float64\n",
      " 2   f2       100000 non-null  float64\n",
      " 3   product  100000 non-null  float64\n",
      "dtypes: float64(4)\n",
      "memory usage: 3.8+ MB\n"
     ]
    }
   ],
   "source": [
    "geo_data_0.info()"
   ]
  },
  {
   "cell_type": "code",
   "execution_count": 4,
   "metadata": {
    "scrolled": true
   },
   "outputs": [
    {
     "data": {
      "text/html": [
       "<div>\n",
       "<style scoped>\n",
       "    .dataframe tbody tr th:only-of-type {\n",
       "        vertical-align: middle;\n",
       "    }\n",
       "\n",
       "    .dataframe tbody tr th {\n",
       "        vertical-align: top;\n",
       "    }\n",
       "\n",
       "    .dataframe thead th {\n",
       "        text-align: right;\n",
       "    }\n",
       "</style>\n",
       "<table border=\"1\" class=\"dataframe\">\n",
       "  <thead>\n",
       "    <tr style=\"text-align: right;\">\n",
       "      <th></th>\n",
       "      <th>f0</th>\n",
       "      <th>f1</th>\n",
       "      <th>f2</th>\n",
       "      <th>product</th>\n",
       "    </tr>\n",
       "    <tr>\n",
       "      <th>id</th>\n",
       "      <th></th>\n",
       "      <th></th>\n",
       "      <th></th>\n",
       "      <th></th>\n",
       "    </tr>\n",
       "  </thead>\n",
       "  <tbody>\n",
       "    <tr>\n",
       "      <th>uSuxb</th>\n",
       "      <td>-0.860028</td>\n",
       "      <td>0.186620</td>\n",
       "      <td>-2.850494</td>\n",
       "      <td>23.411418</td>\n",
       "    </tr>\n",
       "    <tr>\n",
       "      <th>Qpek2</th>\n",
       "      <td>0.361223</td>\n",
       "      <td>0.931696</td>\n",
       "      <td>-2.868632</td>\n",
       "      <td>78.713022</td>\n",
       "    </tr>\n",
       "    <tr>\n",
       "      <th>os9aQ</th>\n",
       "      <td>-1.038109</td>\n",
       "      <td>0.100215</td>\n",
       "      <td>5.474367</td>\n",
       "      <td>127.546168</td>\n",
       "    </tr>\n",
       "    <tr>\n",
       "      <th>hUm5f</th>\n",
       "      <td>1.002522</td>\n",
       "      <td>0.345089</td>\n",
       "      <td>1.135205</td>\n",
       "      <td>31.775404</td>\n",
       "    </tr>\n",
       "    <tr>\n",
       "      <th>N4KOe</th>\n",
       "      <td>0.863687</td>\n",
       "      <td>-0.284945</td>\n",
       "      <td>0.626453</td>\n",
       "      <td>89.688048</td>\n",
       "    </tr>\n",
       "    <tr>\n",
       "      <th>VCOgp</th>\n",
       "      <td>0.720623</td>\n",
       "      <td>-0.395868</td>\n",
       "      <td>-4.518592</td>\n",
       "      <td>33.133972</td>\n",
       "    </tr>\n",
       "    <tr>\n",
       "      <th>PxNR7</th>\n",
       "      <td>0.490030</td>\n",
       "      <td>0.765245</td>\n",
       "      <td>3.249860</td>\n",
       "      <td>38.461654</td>\n",
       "    </tr>\n",
       "    <tr>\n",
       "      <th>QnpP7</th>\n",
       "      <td>0.258734</td>\n",
       "      <td>-0.312024</td>\n",
       "      <td>0.614154</td>\n",
       "      <td>79.755292</td>\n",
       "    </tr>\n",
       "    <tr>\n",
       "      <th>MYKmH</th>\n",
       "      <td>0.845636</td>\n",
       "      <td>0.468374</td>\n",
       "      <td>1.185441</td>\n",
       "      <td>127.431676</td>\n",
       "    </tr>\n",
       "    <tr>\n",
       "      <th>0TP9X</th>\n",
       "      <td>1.805315</td>\n",
       "      <td>0.044226</td>\n",
       "      <td>3.038539</td>\n",
       "      <td>108.737047</td>\n",
       "    </tr>\n",
       "  </tbody>\n",
       "</table>\n",
       "</div>"
      ],
      "text/plain": [
       "             f0        f1        f2     product\n",
       "id                                             \n",
       "uSuxb -0.860028  0.186620 -2.850494   23.411418\n",
       "Qpek2  0.361223  0.931696 -2.868632   78.713022\n",
       "os9aQ -1.038109  0.100215  5.474367  127.546168\n",
       "hUm5f  1.002522  0.345089  1.135205   31.775404\n",
       "N4KOe  0.863687 -0.284945  0.626453   89.688048\n",
       "VCOgp  0.720623 -0.395868 -4.518592   33.133972\n",
       "PxNR7  0.490030  0.765245  3.249860   38.461654\n",
       "QnpP7  0.258734 -0.312024  0.614154   79.755292\n",
       "MYKmH  0.845636  0.468374  1.185441  127.431676\n",
       "0TP9X  1.805315  0.044226  3.038539  108.737047"
      ]
     },
     "execution_count": 4,
     "metadata": {},
     "output_type": "execute_result"
    }
   ],
   "source": [
    "geo_data_0.sample(10)"
   ]
  },
  {
   "cell_type": "code",
   "execution_count": 5,
   "metadata": {
    "scrolled": true
   },
   "outputs": [
    {
     "name": "stdout",
     "output_type": "stream",
     "text": [
      "<class 'pandas.core.frame.DataFrame'>\n",
      "Index: 100000 entries, kBEdx to relB0\n",
      "Data columns (total 4 columns):\n",
      " #   Column   Non-Null Count   Dtype  \n",
      "---  ------   --------------   -----  \n",
      " 0   f0       100000 non-null  float64\n",
      " 1   f1       100000 non-null  float64\n",
      " 2   f2       100000 non-null  float64\n",
      " 3   product  100000 non-null  float64\n",
      "dtypes: float64(4)\n",
      "memory usage: 3.8+ MB\n"
     ]
    }
   ],
   "source": [
    "geo_data_1.info()"
   ]
  },
  {
   "cell_type": "code",
   "execution_count": 6,
   "metadata": {
    "scrolled": true
   },
   "outputs": [
    {
     "data": {
      "text/html": [
       "<div>\n",
       "<style scoped>\n",
       "    .dataframe tbody tr th:only-of-type {\n",
       "        vertical-align: middle;\n",
       "    }\n",
       "\n",
       "    .dataframe tbody tr th {\n",
       "        vertical-align: top;\n",
       "    }\n",
       "\n",
       "    .dataframe thead th {\n",
       "        text-align: right;\n",
       "    }\n",
       "</style>\n",
       "<table border=\"1\" class=\"dataframe\">\n",
       "  <thead>\n",
       "    <tr style=\"text-align: right;\">\n",
       "      <th></th>\n",
       "      <th>f0</th>\n",
       "      <th>f1</th>\n",
       "      <th>f2</th>\n",
       "      <th>product</th>\n",
       "    </tr>\n",
       "    <tr>\n",
       "      <th>id</th>\n",
       "      <th></th>\n",
       "      <th></th>\n",
       "      <th></th>\n",
       "      <th></th>\n",
       "    </tr>\n",
       "  </thead>\n",
       "  <tbody>\n",
       "    <tr>\n",
       "      <th>sgPeB</th>\n",
       "      <td>8.367184</td>\n",
       "      <td>-2.251110</td>\n",
       "      <td>-0.004600</td>\n",
       "      <td>0.000000</td>\n",
       "    </tr>\n",
       "    <tr>\n",
       "      <th>okPXU</th>\n",
       "      <td>-6.968897</td>\n",
       "      <td>3.809828</td>\n",
       "      <td>0.001407</td>\n",
       "      <td>3.179103</td>\n",
       "    </tr>\n",
       "    <tr>\n",
       "      <th>Y1vfa</th>\n",
       "      <td>-0.752484</td>\n",
       "      <td>5.861915</td>\n",
       "      <td>1.001569</td>\n",
       "      <td>26.953261</td>\n",
       "    </tr>\n",
       "    <tr>\n",
       "      <th>8Zp1A</th>\n",
       "      <td>5.584500</td>\n",
       "      <td>-10.552420</td>\n",
       "      <td>4.993565</td>\n",
       "      <td>134.766305</td>\n",
       "    </tr>\n",
       "    <tr>\n",
       "      <th>1i1Ax</th>\n",
       "      <td>-7.648644</td>\n",
       "      <td>-1.538179</td>\n",
       "      <td>2.996192</td>\n",
       "      <td>84.038886</td>\n",
       "    </tr>\n",
       "    <tr>\n",
       "      <th>khWd2</th>\n",
       "      <td>8.482623</td>\n",
       "      <td>-5.689899</td>\n",
       "      <td>1.003194</td>\n",
       "      <td>26.953261</td>\n",
       "    </tr>\n",
       "    <tr>\n",
       "      <th>hqC4M</th>\n",
       "      <td>10.208121</td>\n",
       "      <td>3.108155</td>\n",
       "      <td>0.997522</td>\n",
       "      <td>26.953261</td>\n",
       "    </tr>\n",
       "    <tr>\n",
       "      <th>1twsx</th>\n",
       "      <td>11.200454</td>\n",
       "      <td>-4.392766</td>\n",
       "      <td>5.002457</td>\n",
       "      <td>134.766305</td>\n",
       "    </tr>\n",
       "    <tr>\n",
       "      <th>R1nHs</th>\n",
       "      <td>-6.016249</td>\n",
       "      <td>2.221784</td>\n",
       "      <td>2.996343</td>\n",
       "      <td>84.038886</td>\n",
       "    </tr>\n",
       "    <tr>\n",
       "      <th>ioyO0</th>\n",
       "      <td>7.522464</td>\n",
       "      <td>-0.777984</td>\n",
       "      <td>1.997060</td>\n",
       "      <td>53.906522</td>\n",
       "    </tr>\n",
       "  </tbody>\n",
       "</table>\n",
       "</div>"
      ],
      "text/plain": [
       "              f0         f1        f2     product\n",
       "id                                               \n",
       "sgPeB   8.367184  -2.251110 -0.004600    0.000000\n",
       "okPXU  -6.968897   3.809828  0.001407    3.179103\n",
       "Y1vfa  -0.752484   5.861915  1.001569   26.953261\n",
       "8Zp1A   5.584500 -10.552420  4.993565  134.766305\n",
       "1i1Ax  -7.648644  -1.538179  2.996192   84.038886\n",
       "khWd2   8.482623  -5.689899  1.003194   26.953261\n",
       "hqC4M  10.208121   3.108155  0.997522   26.953261\n",
       "1twsx  11.200454  -4.392766  5.002457  134.766305\n",
       "R1nHs  -6.016249   2.221784  2.996343   84.038886\n",
       "ioyO0   7.522464  -0.777984  1.997060   53.906522"
      ]
     },
     "execution_count": 6,
     "metadata": {},
     "output_type": "execute_result"
    }
   ],
   "source": [
    "geo_data_1.sample(10)"
   ]
  },
  {
   "cell_type": "code",
   "execution_count": 7,
   "metadata": {},
   "outputs": [
    {
     "name": "stdout",
     "output_type": "stream",
     "text": [
      "<class 'pandas.core.frame.DataFrame'>\n",
      "Index: 100000 entries, fwXo0 to V9kWn\n",
      "Data columns (total 4 columns):\n",
      " #   Column   Non-Null Count   Dtype  \n",
      "---  ------   --------------   -----  \n",
      " 0   f0       100000 non-null  float64\n",
      " 1   f1       100000 non-null  float64\n",
      " 2   f2       100000 non-null  float64\n",
      " 3   product  100000 non-null  float64\n",
      "dtypes: float64(4)\n",
      "memory usage: 3.8+ MB\n"
     ]
    }
   ],
   "source": [
    "geo_data_2.info()"
   ]
  },
  {
   "cell_type": "code",
   "execution_count": 8,
   "metadata": {
    "scrolled": true
   },
   "outputs": [
    {
     "data": {
      "text/html": [
       "<div>\n",
       "<style scoped>\n",
       "    .dataframe tbody tr th:only-of-type {\n",
       "        vertical-align: middle;\n",
       "    }\n",
       "\n",
       "    .dataframe tbody tr th {\n",
       "        vertical-align: top;\n",
       "    }\n",
       "\n",
       "    .dataframe thead th {\n",
       "        text-align: right;\n",
       "    }\n",
       "</style>\n",
       "<table border=\"1\" class=\"dataframe\">\n",
       "  <thead>\n",
       "    <tr style=\"text-align: right;\">\n",
       "      <th></th>\n",
       "      <th>f0</th>\n",
       "      <th>f1</th>\n",
       "      <th>f2</th>\n",
       "      <th>product</th>\n",
       "    </tr>\n",
       "    <tr>\n",
       "      <th>id</th>\n",
       "      <th></th>\n",
       "      <th></th>\n",
       "      <th></th>\n",
       "      <th></th>\n",
       "    </tr>\n",
       "  </thead>\n",
       "  <tbody>\n",
       "    <tr>\n",
       "      <th>sFML2</th>\n",
       "      <td>-1.796448</td>\n",
       "      <td>-2.251426</td>\n",
       "      <td>-0.051647</td>\n",
       "      <td>38.239589</td>\n",
       "    </tr>\n",
       "    <tr>\n",
       "      <th>WfIV6</th>\n",
       "      <td>0.678231</td>\n",
       "      <td>-3.589307</td>\n",
       "      <td>2.754652</td>\n",
       "      <td>117.013721</td>\n",
       "    </tr>\n",
       "    <tr>\n",
       "      <th>p6bbA</th>\n",
       "      <td>0.349538</td>\n",
       "      <td>-1.353792</td>\n",
       "      <td>2.279853</td>\n",
       "      <td>126.870345</td>\n",
       "    </tr>\n",
       "    <tr>\n",
       "      <th>ckplc</th>\n",
       "      <td>-3.114208</td>\n",
       "      <td>1.113927</td>\n",
       "      <td>1.290460</td>\n",
       "      <td>105.011914</td>\n",
       "    </tr>\n",
       "    <tr>\n",
       "      <th>wnU0C</th>\n",
       "      <td>-0.241383</td>\n",
       "      <td>0.282447</td>\n",
       "      <td>10.220742</td>\n",
       "      <td>150.803361</td>\n",
       "    </tr>\n",
       "    <tr>\n",
       "      <th>baSR3</th>\n",
       "      <td>0.138306</td>\n",
       "      <td>-2.043267</td>\n",
       "      <td>9.283011</td>\n",
       "      <td>150.300101</td>\n",
       "    </tr>\n",
       "    <tr>\n",
       "      <th>mxUla</th>\n",
       "      <td>3.873716</td>\n",
       "      <td>-3.745049</td>\n",
       "      <td>7.979813</td>\n",
       "      <td>113.905696</td>\n",
       "    </tr>\n",
       "    <tr>\n",
       "      <th>dv9Cj</th>\n",
       "      <td>-0.424991</td>\n",
       "      <td>-1.573405</td>\n",
       "      <td>-2.742091</td>\n",
       "      <td>155.412974</td>\n",
       "    </tr>\n",
       "    <tr>\n",
       "      <th>VHJBL</th>\n",
       "      <td>-0.273623</td>\n",
       "      <td>2.494995</td>\n",
       "      <td>-1.617064</td>\n",
       "      <td>44.125398</td>\n",
       "    </tr>\n",
       "    <tr>\n",
       "      <th>2TCeL</th>\n",
       "      <td>1.370352</td>\n",
       "      <td>1.558100</td>\n",
       "      <td>-0.242173</td>\n",
       "      <td>59.749235</td>\n",
       "    </tr>\n",
       "  </tbody>\n",
       "</table>\n",
       "</div>"
      ],
      "text/plain": [
       "             f0        f1         f2     product\n",
       "id                                              \n",
       "sFML2 -1.796448 -2.251426  -0.051647   38.239589\n",
       "WfIV6  0.678231 -3.589307   2.754652  117.013721\n",
       "p6bbA  0.349538 -1.353792   2.279853  126.870345\n",
       "ckplc -3.114208  1.113927   1.290460  105.011914\n",
       "wnU0C -0.241383  0.282447  10.220742  150.803361\n",
       "baSR3  0.138306 -2.043267   9.283011  150.300101\n",
       "mxUla  3.873716 -3.745049   7.979813  113.905696\n",
       "dv9Cj -0.424991 -1.573405  -2.742091  155.412974\n",
       "VHJBL -0.273623  2.494995  -1.617064   44.125398\n",
       "2TCeL  1.370352  1.558100  -0.242173   59.749235"
      ]
     },
     "execution_count": 8,
     "metadata": {},
     "output_type": "execute_result"
    }
   ],
   "source": [
    "geo_data_2.sample(10)"
   ]
  },
  {
   "cell_type": "markdown",
   "metadata": {},
   "source": [
    "<a id='info3'></a>\n",
    "### Объединение данных"
   ]
  },
  {
   "cell_type": "code",
   "execution_count": 9,
   "metadata": {
    "scrolled": true
   },
   "outputs": [],
   "source": [
    "geo_data_all = pd.concat([geo_data_0, geo_data_1, geo_data_2])"
   ]
  },
  {
   "cell_type": "code",
   "execution_count": 10,
   "metadata": {},
   "outputs": [
    {
     "data": {
      "text/plain": [
       "<bound method DataFrame.info of              f0        f1        f2     product\n",
       "id                                             \n",
       "txEyH  0.705745 -0.497823  1.221170  105.280062\n",
       "2acmU  1.334711 -0.340164  4.365080   73.037750\n",
       "409Wp  1.022732  0.151990  1.419926   85.265647\n",
       "iJLyR -0.032172  0.139033  2.978566  168.620776\n",
       "Xdl7t  1.988431  0.155413  4.751769  154.036647\n",
       "...         ...       ...       ...         ...\n",
       "4GxBu -1.777037  1.125220  6.263374  172.327046\n",
       "YKFjq -1.261523 -0.894828  2.524545  138.748846\n",
       "tKPY3 -1.199934 -2.957637  5.219411  157.080080\n",
       "nmxp2 -2.419896  2.417221 -5.548444   51.795253\n",
       "V9kWn -2.551421 -2.025625  6.090891  102.775767\n",
       "\n",
       "[300000 rows x 4 columns]>"
      ]
     },
     "execution_count": 10,
     "metadata": {},
     "output_type": "execute_result"
    }
   ],
   "source": [
    "geo_data_all.info"
   ]
  },
  {
   "cell_type": "code",
   "execution_count": 11,
   "metadata": {},
   "outputs": [
    {
     "data": {
      "text/html": [
       "<div>\n",
       "<style scoped>\n",
       "    .dataframe tbody tr th:only-of-type {\n",
       "        vertical-align: middle;\n",
       "    }\n",
       "\n",
       "    .dataframe tbody tr th {\n",
       "        vertical-align: top;\n",
       "    }\n",
       "\n",
       "    .dataframe thead th {\n",
       "        text-align: right;\n",
       "    }\n",
       "</style>\n",
       "<table border=\"1\" class=\"dataframe\">\n",
       "  <thead>\n",
       "    <tr style=\"text-align: right;\">\n",
       "      <th></th>\n",
       "      <th>f0</th>\n",
       "      <th>f1</th>\n",
       "      <th>f2</th>\n",
       "      <th>product</th>\n",
       "    </tr>\n",
       "  </thead>\n",
       "  <tbody>\n",
       "    <tr>\n",
       "      <th>count</th>\n",
       "      <td>300000.000000</td>\n",
       "      <td>300000.000000</td>\n",
       "      <td>300000.000000</td>\n",
       "      <td>300000.000000</td>\n",
       "    </tr>\n",
       "    <tr>\n",
       "      <th>mean</th>\n",
       "      <td>0.547913</td>\n",
       "      <td>-1.516172</td>\n",
       "      <td>2.497439</td>\n",
       "      <td>85.441667</td>\n",
       "    </tr>\n",
       "    <tr>\n",
       "      <th>std</th>\n",
       "      <td>5.316634</td>\n",
       "      <td>3.900220</td>\n",
       "      <td>2.916502</td>\n",
       "      <td>46.519494</td>\n",
       "    </tr>\n",
       "    <tr>\n",
       "      <th>min</th>\n",
       "      <td>-31.609576</td>\n",
       "      <td>-26.358598</td>\n",
       "      <td>-12.088328</td>\n",
       "      <td>0.000000</td>\n",
       "    </tr>\n",
       "    <tr>\n",
       "      <th>25%</th>\n",
       "      <td>-1.003037</td>\n",
       "      <td>-2.478939</td>\n",
       "      <td>0.648213</td>\n",
       "      <td>52.666629</td>\n",
       "    </tr>\n",
       "    <tr>\n",
       "      <th>50%</th>\n",
       "      <td>0.347934</td>\n",
       "      <td>-0.229632</td>\n",
       "      <td>2.491215</td>\n",
       "      <td>84.038886</td>\n",
       "    </tr>\n",
       "    <tr>\n",
       "      <th>75%</th>\n",
       "      <td>1.755365</td>\n",
       "      <td>0.678562</td>\n",
       "      <td>4.344943</td>\n",
       "      <td>124.174086</td>\n",
       "    </tr>\n",
       "    <tr>\n",
       "      <th>max</th>\n",
       "      <td>29.421755</td>\n",
       "      <td>18.734063</td>\n",
       "      <td>16.739402</td>\n",
       "      <td>190.029838</td>\n",
       "    </tr>\n",
       "  </tbody>\n",
       "</table>\n",
       "</div>"
      ],
      "text/plain": [
       "                  f0             f1             f2        product\n",
       "count  300000.000000  300000.000000  300000.000000  300000.000000\n",
       "mean        0.547913      -1.516172       2.497439      85.441667\n",
       "std         5.316634       3.900220       2.916502      46.519494\n",
       "min       -31.609576     -26.358598     -12.088328       0.000000\n",
       "25%        -1.003037      -2.478939       0.648213      52.666629\n",
       "50%         0.347934      -0.229632       2.491215      84.038886\n",
       "75%         1.755365       0.678562       4.344943     124.174086\n",
       "max        29.421755      18.734063      16.739402     190.029838"
      ]
     },
     "execution_count": 11,
     "metadata": {},
     "output_type": "execute_result"
    }
   ],
   "source": [
    "geo_data_all.describe()"
   ]
  },
  {
   "cell_type": "markdown",
   "metadata": {},
   "source": [
    "### Проверка на дубликаты и пропуски"
   ]
  },
  {
   "cell_type": "code",
   "execution_count": 12,
   "metadata": {
    "scrolled": true
   },
   "outputs": [
    {
     "data": {
      "text/plain": [
       "f0         0\n",
       "f1         0\n",
       "f2         0\n",
       "product    0\n",
       "dtype: int64"
      ]
     },
     "execution_count": 12,
     "metadata": {},
     "output_type": "execute_result"
    }
   ],
   "source": [
    "geo_data_all.isnull().sum()"
   ]
  },
  {
   "cell_type": "code",
   "execution_count": 13,
   "metadata": {},
   "outputs": [
    {
     "data": {
      "text/plain": [
       "0"
      ]
     },
     "execution_count": 13,
     "metadata": {},
     "output_type": "execute_result"
    }
   ],
   "source": [
    "geo_data_all.duplicated().sum()"
   ]
  },
  {
   "cell_type": "markdown",
   "metadata": {},
   "source": [
    "## Обучение и проверка модели"
   ]
  },
  {
   "cell_type": "markdown",
   "metadata": {},
   "source": [
    "2.1. Разбейте данные на обучающую и валидационную выборки в соотношении 75:25.\n",
    "\n",
    "2.2. Обучите модель и сделайте предсказания на валидационной выборке.\n",
    "\n",
    "2.3. Сохраните предсказания и правильные ответы на валидационной выборке.\n",
    "\n",
    "2.4. Напечатайте на экране средний запас предсказанного сырья и RMSE модели."
   ]
  },
  {
   "cell_type": "markdown",
   "metadata": {},
   "source": [
    "<a id='model1'></a>\n",
    "### Обучение модели"
   ]
  },
  {
   "cell_type": "code",
   "execution_count": 14,
   "metadata": {
    "scrolled": false
   },
   "outputs": [
    {
     "name": "stdout",
     "output_type": "stream",
     "text": [
      "Средний запас предсказанного сырья для региона: 92.39879990657768, RMSE: 37.75660035026169\n",
      "Средняя оценка качества модели: 0.2756742735466014\n",
      "Средний запас предсказанного сырья для региона: 68.71287803913762, RMSE: 0.890280100102884\n",
      "Средняя оценка качества модели: 0.9996243886479773\n",
      "Средний запас предсказанного сырья для региона: 94.77102387765939, RMSE: 40.145872311342174\n",
      "Средняя оценка качества модели: 0.1987398624233513\n"
     ]
    }
   ],
   "source": [
    "results = []\n",
    "\n",
    "for region_data in [geo_data_0, geo_data_1, geo_data_2]:\n",
    "    X = region_data[['f0', 'f1', 'f2']]\n",
    "    y = region_data['product']\n",
    "    \n",
    "    X_train, X_valid, y_train, y_valid = train_test_split(X, y, test_size=0.25, random_state=RANDOM_STATE)\n",
    "    \n",
    "    \n",
    "    model.fit(X_train, y_train)\n",
    "    predictions = model.predict(X_valid)\n",
    "    \n",
    "    results.append(pd.DataFrame({'actual': y_valid, 'predictions': predictions}))\n",
    "    \n",
    "    rmse = mean_squared_error(y_valid, predictions, squared=False)\n",
    "    mean_prediction = predictions.mean()\n",
    "    \n",
    "    \n",
    "    print(f\"Средний запас предсказанного сырья для региона: {mean_prediction}, RMSE: {rmse}\")\n",
    "\n",
    "    scores = cross_val_score(model, X, y, cv=3)\n",
    "\n",
    "    final_score = scores.mean()\n",
    "\n",
    "    print('Средняя оценка качества модели:', final_score)"
   ]
  },
  {
   "cell_type": "markdown",
   "metadata": {},
   "source": [
    "<a id='model2'></a>\n",
    "### Результат"
   ]
  },
  {
   "cell_type": "markdown",
   "metadata": {},
   "source": [
    "**Вывод:** Средняя оценка качества модели у региона 1 практически 100%, лучшая модель, но при этом точность меньше 1%, у региона 0 и 2 качество моделей ниже 3%, зато точность выше 37 %"
   ]
  },
  {
   "cell_type": "markdown",
   "metadata": {},
   "source": [
    "## Подготовка к расчёту прибыли"
   ]
  },
  {
   "cell_type": "markdown",
   "metadata": {},
   "source": [
    "3.1. Все ключевые значения для расчётов сохраните в отдельных переменных.\n",
    "\n",
    "3.2. Рассчитайте достаточный объём сырья для безубыточной разработки новой скважины. Сравните полученный объём сырья со средним запасом в каждом регионе. \n",
    "\n",
    "3.3. Напишите выводы по этапу подготовки расчёта прибыли."
   ]
  },
  {
   "cell_type": "markdown",
   "metadata": {},
   "source": [
    "<a id='preparation1'></a>\n",
    "### Переменные ключевых значений"
   ]
  },
  {
   "cell_type": "code",
   "execution_count": 15,
   "metadata": {},
   "outputs": [],
   "source": [
    "BUDGET = 10000000000 # Бюджет на разработку\n",
    "PRICE_PER_BARREL = 450000 # Доход с каждой единицы продукта"
   ]
  },
  {
   "cell_type": "markdown",
   "metadata": {},
   "source": [
    "### Рассчеты"
   ]
  },
  {
   "cell_type": "code",
   "execution_count": 16,
   "metadata": {},
   "outputs": [
    {
     "data": {
      "text/plain": [
       "111.11111111111111"
      ]
     },
     "execution_count": 16,
     "metadata": {},
     "output_type": "execute_result"
    }
   ],
   "source": [
    "required_volume = BUDGET / (PRICE_PER_BARREL * 200)\n",
    "required_volume # Необходимый объём сырья для безубыточной разработки новой скважины"
   ]
  },
  {
   "cell_type": "markdown",
   "metadata": {},
   "source": [
    "<a id='preparation2'></a>\n",
    "### Результат"
   ]
  },
  {
   "cell_type": "code",
   "execution_count": 17,
   "metadata": {
    "scrolled": true
   },
   "outputs": [
    {
     "name": "stdout",
     "output_type": "stream",
     "text": [
      "Регион: 92.50000000000001, Необходимый объём: 111.11111111111111\n",
      "Регион: 68.82500000000002, Необходимый объём: 111.11111111111111\n",
      "Регион: 95.00000000000004, Необходимый объём: 111.11111111111111\n"
     ]
    }
   ],
   "source": [
    "for region in [geo_data_0, geo_data_1, geo_data_2]:\n",
    "    mean_volume = region['product'].mean()\n",
    "    print(f\"Регион: {mean_volume}, Необходимый объём: {required_volume}\")"
   ]
  },
  {
   "cell_type": "markdown",
   "metadata": {},
   "source": [
    "**Вывод:** В среднем объема в регионах не хватает до необходимого объема"
   ]
  },
  {
   "cell_type": "markdown",
   "metadata": {},
   "source": [
    "## Функция для расчёта прибыли"
   ]
  },
  {
   "cell_type": "markdown",
   "metadata": {},
   "source": [
    "4.1. Выберите скважины с максимальными значениями предсказаний. \n",
    "\n",
    "4.2. Просуммируйте целевое значение объёма сырья, соответствующее этим предсказаниям.\n",
    "\n",
    "4.3. Рассчитайте прибыль для полученного объёма сырья."
   ]
  },
  {
   "cell_type": "code",
   "execution_count": 18,
   "metadata": {},
   "outputs": [],
   "source": [
    "results_0_df = pd.DataFrame(results[0])\n",
    "results_1_df = pd.DataFrame(results[1])\n",
    "results_2_df = pd.DataFrame(results[2])"
   ]
  },
  {
   "cell_type": "markdown",
   "metadata": {},
   "source": [
    "<a id='function'></a>\n",
    "### Функция"
   ]
  },
  {
   "cell_type": "code",
   "execution_count": 19,
   "metadata": {},
   "outputs": [],
   "source": [
    "def calculate_profit(data, n_wells=200):\n",
    "    top_wells = data.nlargest(n_wells, 'predictions')\n",
    "    total_extracted = top_wells['actual'].sum()\n",
    "    profit = total_extracted * PRICE_PER_BARREL - BUDGET\n",
    "    return profit"
   ]
  },
  {
   "cell_type": "code",
   "execution_count": 20,
   "metadata": {},
   "outputs": [
    {
     "data": {
      "text/plain": [
       "3359141114.462179"
      ]
     },
     "execution_count": 20,
     "metadata": {},
     "output_type": "execute_result"
    }
   ],
   "source": [
    "profit_0 = calculate_profit(results_0_df)\n",
    "profit_0"
   ]
  },
  {
   "cell_type": "code",
   "execution_count": 21,
   "metadata": {},
   "outputs": [
    {
     "data": {
      "text/plain": [
       "2415086696.681511"
      ]
     },
     "execution_count": 21,
     "metadata": {},
     "output_type": "execute_result"
    }
   ],
   "source": [
    "profit_1 = calculate_profit(results_1_df)\n",
    "profit_1"
   ]
  },
  {
   "cell_type": "code",
   "execution_count": 22,
   "metadata": {},
   "outputs": [
    {
     "data": {
      "text/plain": [
       "2598571759.374111"
      ]
     },
     "execution_count": 22,
     "metadata": {},
     "output_type": "execute_result"
    }
   ],
   "source": [
    "profit_2 = calculate_profit(results_2_df)\n",
    "profit_2"
   ]
  },
  {
   "cell_type": "markdown",
   "metadata": {},
   "source": [
    "## Посчитайте риски и прибыль для каждого региона"
   ]
  },
  {
   "cell_type": "markdown",
   "metadata": {},
   "source": [
    "5.1. Примените технику Bootstrap с 1000 выборок, чтобы найти распределение прибыли.\n",
    "\n",
    "5.2. Найдите среднюю прибыль, 95%-й доверительный интервал и риск убытков. Убыток — это отрицательная прибыль.\n",
    "\n",
    "5.3. Напишите выводы: предложите регион для разработки скважин и обоснуйте выбор."
   ]
  },
  {
   "cell_type": "markdown",
   "metadata": {},
   "source": [
    "<a id='profit'></a>\n",
    "### Функция распределения прибыли"
   ]
  },
  {
   "cell_type": "code",
   "execution_count": 23,
   "metadata": {},
   "outputs": [],
   "source": [
    "def profit_distribution(data, n_iterations=1000):\n",
    "    profits = []\n",
    "    for _ in range(n_iterations):\n",
    "        sample = data.sample(n=500, replace=True, random_state=state)\n",
    "        profit = calculate_profit(sample)\n",
    "        profits.append(profit)\n",
    "    return profits"
   ]
  },
  {
   "cell_type": "code",
   "execution_count": 24,
   "metadata": {},
   "outputs": [],
   "source": [
    "profits_0 = profit_distribution(results_0_df)\n",
    "profits_1 = profit_distribution(results_1_df)\n",
    "profits_2 = profit_distribution(results_2_df)"
   ]
  },
  {
   "cell_type": "markdown",
   "metadata": {},
   "source": [
    "<a id='risk'></a>\n",
    "### Средняя прибыль, доверительный интервал, риски"
   ]
  },
  {
   "cell_type": "code",
   "execution_count": 25,
   "metadata": {},
   "outputs": [
    {
     "name": "stdout",
     "output_type": "stream",
     "text": [
      "Средняя прибыль: 406278783.42\n",
      "95% Доверительный интервал: [-117742136.49, 911737050.75]\n",
      "Риск убытков: 6.7 %\n"
     ]
    }
   ],
   "source": [
    "profits_0 = pd.Series(profits_0)\n",
    "mean_profit = profits_0.mean()\n",
    "lower = profits_0.quantile(0.025)\n",
    "upper = profits_0.quantile(0.975)\n",
    "risk_of_loss = (profits_0 < 0).mean() * 100\n",
    "\n",
    "print(f\"Средняя прибыль: {mean_profit:.2f}\")\n",
    "print(f\"95% Доверительный интервал: [{lower:.2f}, {upper:.2f}]\")\n",
    "print(f\"Риск убытков: {risk_of_loss:.1f} %\")"
   ]
  },
  {
   "cell_type": "code",
   "execution_count": 26,
   "metadata": {},
   "outputs": [
    {
     "name": "stdout",
     "output_type": "stream",
     "text": [
      "Средняя прибыль: 441504277.59\n",
      "95% Доверительный интервал: [35728489.28, 828006639.00]\n",
      "Риск убытков: 1.6 %\n"
     ]
    }
   ],
   "source": [
    "profits_1 = pd.Series(profits_1)\n",
    "mean_profit = profits_1.mean()\n",
    "lower = profits_1.quantile(0.025)\n",
    "upper = profits_1.quantile(0.975)\n",
    "risk_of_loss = (profits_1 < 0).mean() * 100\n",
    "\n",
    "print(f\"Средняя прибыль: {mean_profit:.2f}\")\n",
    "print(f\"95% Доверительный интервал: [{lower:.2f}, {upper:.2f}]\")\n",
    "print(f\"Риск убытков: {risk_of_loss:.1f} %\")"
   ]
  },
  {
   "cell_type": "code",
   "execution_count": 27,
   "metadata": {
    "scrolled": true
   },
   "outputs": [
    {
     "name": "stdout",
     "output_type": "stream",
     "text": [
      "Средняя прибыль: 385213195.91\n",
      "95% Доверительный интервал: [-164785166.11, 888206234.20]\n",
      "Риск убытков: 7.8 %\n"
     ]
    }
   ],
   "source": [
    "profits_2 = pd.Series(profits_2)\n",
    "mean_profit = profits_2.mean()\n",
    "lower = profits_2.quantile(0.025)\n",
    "upper = profits_2.quantile(0.975)\n",
    "risk_of_loss = (profits_2 < 0).mean() * 100\n",
    "\n",
    "print(f\"Средняя прибыль: {mean_profit:.2f}\")\n",
    "print(f\"95% Доверительный интервал: [{lower:.2f}, {upper:.2f}]\")\n",
    "print(f\"Риск убытков: {risk_of_loss:.1f} %\")"
   ]
  },
  {
   "cell_type": "markdown",
   "metadata": {},
   "source": [
    "<a id='results'></a>\n",
    "### Вывод"
   ]
  },
  {
   "cell_type": "markdown",
   "metadata": {},
   "source": [
    "Исходя из полученных данных: регион \"1\" с наибольшей средней прибылью и вероятностью убытков меньше 2.5%"
   ]
  }
 ],
 "metadata": {
  "ExecuteTimeLog": [
   {
    "duration": 358,
    "start_time": "2024-07-28T08:24:44.045Z"
   },
   {
    "duration": 364,
    "start_time": "2024-07-29T03:33:13.806Z"
   },
   {
    "duration": 832,
    "start_time": "2024-07-29T03:33:15.715Z"
   },
   {
    "duration": 11,
    "start_time": "2024-07-29T03:34:03.112Z"
   },
   {
    "duration": 15,
    "start_time": "2024-07-29T03:34:25.946Z"
   },
   {
    "duration": 12,
    "start_time": "2024-07-29T03:35:42.302Z"
   },
   {
    "duration": 10,
    "start_time": "2024-07-29T03:36:07.145Z"
   },
   {
    "duration": 16,
    "start_time": "2024-07-29T03:36:11.230Z"
   },
   {
    "duration": 10,
    "start_time": "2024-07-29T03:36:23.198Z"
   },
   {
    "duration": 328,
    "start_time": "2024-07-29T03:46:07.481Z"
   },
   {
    "duration": 11,
    "start_time": "2024-07-29T03:46:10.923Z"
   },
   {
    "duration": 10,
    "start_time": "2024-07-29T03:46:15.898Z"
   },
   {
    "duration": 391,
    "start_time": "2024-07-29T03:46:34.675Z"
   },
   {
    "duration": 330,
    "start_time": "2024-07-29T03:46:35.067Z"
   },
   {
    "duration": 14,
    "start_time": "2024-07-29T03:46:35.398Z"
   },
   {
    "duration": 18,
    "start_time": "2024-07-29T03:46:35.414Z"
   },
   {
    "duration": 134,
    "start_time": "2024-07-29T03:46:35.433Z"
   },
   {
    "duration": 39,
    "start_time": "2024-07-29T03:46:35.569Z"
   },
   {
    "duration": 11,
    "start_time": "2024-07-29T03:46:35.610Z"
   },
   {
    "duration": 13,
    "start_time": "2024-07-29T03:46:35.623Z"
   },
   {
    "duration": 325,
    "start_time": "2024-07-29T03:46:55.661Z"
   },
   {
    "duration": 397,
    "start_time": "2024-07-29T03:47:01.881Z"
   },
   {
    "duration": 338,
    "start_time": "2024-07-29T03:47:02.280Z"
   },
   {
    "duration": 13,
    "start_time": "2024-07-29T03:47:02.620Z"
   },
   {
    "duration": 18,
    "start_time": "2024-07-29T03:47:02.634Z"
   },
   {
    "duration": 10,
    "start_time": "2024-07-29T03:47:02.654Z"
   },
   {
    "duration": 9,
    "start_time": "2024-07-29T03:47:02.666Z"
   },
   {
    "duration": 30,
    "start_time": "2024-07-29T03:47:02.676Z"
   },
   {
    "duration": 10,
    "start_time": "2024-07-29T03:47:02.707Z"
   },
   {
    "duration": 336,
    "start_time": "2024-07-29T03:48:07.954Z"
   },
   {
    "duration": 10,
    "start_time": "2024-07-29T03:48:09.858Z"
   },
   {
    "duration": 10,
    "start_time": "2024-07-29T03:48:13.018Z"
   },
   {
    "duration": 351,
    "start_time": "2024-07-29T03:48:41.025Z"
   },
   {
    "duration": 386,
    "start_time": "2024-07-29T03:48:41.378Z"
   },
   {
    "duration": 8,
    "start_time": "2024-07-29T03:48:41.765Z"
   },
   {
    "duration": 77,
    "start_time": "2024-07-29T03:48:41.775Z"
   },
   {
    "duration": 87,
    "start_time": "2024-07-29T03:48:41.853Z"
   },
   {
    "duration": 13,
    "start_time": "2024-07-29T03:48:41.941Z"
   },
   {
    "duration": 11,
    "start_time": "2024-07-29T03:48:41.955Z"
   },
   {
    "duration": 8,
    "start_time": "2024-07-29T03:48:41.967Z"
   },
   {
    "duration": 366,
    "start_time": "2024-07-29T03:48:58.189Z"
   },
   {
    "duration": 362,
    "start_time": "2024-07-29T03:49:07.913Z"
   },
   {
    "duration": 381,
    "start_time": "2024-07-29T03:49:08.277Z"
   },
   {
    "duration": 9,
    "start_time": "2024-07-29T03:49:08.660Z"
   },
   {
    "duration": 27,
    "start_time": "2024-07-29T03:49:08.670Z"
   },
   {
    "duration": 10,
    "start_time": "2024-07-29T03:49:08.698Z"
   },
   {
    "duration": 9,
    "start_time": "2024-07-29T03:49:08.709Z"
   },
   {
    "duration": 11,
    "start_time": "2024-07-29T03:49:08.720Z"
   },
   {
    "duration": 13,
    "start_time": "2024-07-29T03:49:08.733Z"
   },
   {
    "duration": 32,
    "start_time": "2024-07-29T03:50:04.603Z"
   },
   {
    "duration": 376,
    "start_time": "2024-07-29T03:50:44.097Z"
   },
   {
    "duration": 376,
    "start_time": "2024-07-29T03:50:44.474Z"
   },
   {
    "duration": 8,
    "start_time": "2024-07-29T03:50:44.851Z"
   },
   {
    "duration": 17,
    "start_time": "2024-07-29T03:50:44.861Z"
   },
   {
    "duration": 44,
    "start_time": "2024-07-29T03:50:44.880Z"
   },
   {
    "duration": 7,
    "start_time": "2024-07-29T03:50:44.925Z"
   },
   {
    "duration": 10,
    "start_time": "2024-07-29T03:50:44.933Z"
   },
   {
    "duration": 30,
    "start_time": "2024-07-29T03:50:44.945Z"
   },
   {
    "duration": 25,
    "start_time": "2024-07-29T03:50:44.977Z"
   },
   {
    "duration": 65,
    "start_time": "2024-07-29T03:50:45.004Z"
   },
   {
    "duration": 123,
    "start_time": "2024-07-29T03:50:45.070Z"
   },
   {
    "duration": 60,
    "start_time": "2024-07-29T04:33:35.320Z"
   },
   {
    "duration": 7,
    "start_time": "2024-07-29T04:33:45.040Z"
   },
   {
    "duration": 694,
    "start_time": "2024-07-29T04:34:03.592Z"
   },
   {
    "duration": 59,
    "start_time": "2024-07-29T04:34:09.297Z"
   },
   {
    "duration": 41,
    "start_time": "2024-07-29T04:34:31.074Z"
   },
   {
    "duration": 40,
    "start_time": "2024-07-29T04:36:51.718Z"
   },
   {
    "duration": 120,
    "start_time": "2024-07-29T04:54:01.593Z"
   },
   {
    "duration": 9,
    "start_time": "2024-07-29T04:54:13.460Z"
   },
   {
    "duration": 131,
    "start_time": "2024-07-29T04:57:26.591Z"
   },
   {
    "duration": 62,
    "start_time": "2024-07-29T04:57:28.903Z"
   },
   {
    "duration": 1158,
    "start_time": "2024-07-30T03:55:55.273Z"
   },
   {
    "duration": 991,
    "start_time": "2024-07-30T03:55:56.433Z"
   },
   {
    "duration": 12,
    "start_time": "2024-07-30T03:55:57.426Z"
   },
   {
    "duration": 23,
    "start_time": "2024-07-30T03:55:57.440Z"
   },
   {
    "duration": 10,
    "start_time": "2024-07-30T03:55:57.466Z"
   },
   {
    "duration": 28,
    "start_time": "2024-07-30T03:55:57.478Z"
   },
   {
    "duration": 10,
    "start_time": "2024-07-30T03:55:57.508Z"
   },
   {
    "duration": 11,
    "start_time": "2024-07-30T03:55:57.520Z"
   },
   {
    "duration": 35,
    "start_time": "2024-07-30T03:55:57.532Z"
   },
   {
    "duration": 74,
    "start_time": "2024-07-30T03:55:57.569Z"
   },
   {
    "duration": 70,
    "start_time": "2024-07-30T03:55:57.646Z"
   },
   {
    "duration": 0,
    "start_time": "2024-07-30T03:55:57.718Z"
   },
   {
    "duration": 63,
    "start_time": "2024-07-30T03:56:23.632Z"
   },
   {
    "duration": 61,
    "start_time": "2024-07-30T03:56:51.527Z"
   },
   {
    "duration": 1110,
    "start_time": "2024-07-30T03:57:14.065Z"
   },
   {
    "duration": 473,
    "start_time": "2024-07-30T03:57:15.177Z"
   },
   {
    "duration": 15,
    "start_time": "2024-07-30T03:57:15.651Z"
   },
   {
    "duration": 18,
    "start_time": "2024-07-30T03:57:15.667Z"
   },
   {
    "duration": 9,
    "start_time": "2024-07-30T03:57:15.687Z"
   },
   {
    "duration": 11,
    "start_time": "2024-07-30T03:57:15.697Z"
   },
   {
    "duration": 10,
    "start_time": "2024-07-30T03:57:15.709Z"
   },
   {
    "duration": 46,
    "start_time": "2024-07-30T03:57:15.720Z"
   },
   {
    "duration": 14,
    "start_time": "2024-07-30T03:57:15.768Z"
   },
   {
    "duration": 85,
    "start_time": "2024-07-30T03:57:15.784Z"
   },
   {
    "duration": 66,
    "start_time": "2024-07-30T03:57:15.871Z"
   },
   {
    "duration": 0,
    "start_time": "2024-07-30T03:57:15.939Z"
   },
   {
    "duration": 63,
    "start_time": "2024-07-30T03:57:37.071Z"
   },
   {
    "duration": 104,
    "start_time": "2024-07-30T03:57:51.022Z"
   },
   {
    "duration": 69,
    "start_time": "2024-07-30T03:58:11.350Z"
   },
   {
    "duration": 63,
    "start_time": "2024-07-30T03:59:37.581Z"
   },
   {
    "duration": 96,
    "start_time": "2024-07-30T03:59:44.629Z"
   },
   {
    "duration": 3,
    "start_time": "2024-07-30T04:00:28.196Z"
   },
   {
    "duration": 12,
    "start_time": "2024-07-30T04:00:34.386Z"
   },
   {
    "duration": 575,
    "start_time": "2024-07-30T04:02:06.593Z"
   },
   {
    "duration": 88,
    "start_time": "2024-08-01T01:29:10.262Z"
   },
   {
    "duration": 1018,
    "start_time": "2024-08-04T03:28:05.747Z"
   },
   {
    "duration": 965,
    "start_time": "2024-08-04T03:28:06.767Z"
   },
   {
    "duration": 8,
    "start_time": "2024-08-04T03:28:07.734Z"
   },
   {
    "duration": 23,
    "start_time": "2024-08-04T03:28:07.744Z"
   },
   {
    "duration": 21,
    "start_time": "2024-08-04T03:28:07.769Z"
   },
   {
    "duration": 20,
    "start_time": "2024-08-04T03:28:07.791Z"
   },
   {
    "duration": 25,
    "start_time": "2024-08-04T03:28:07.812Z"
   },
   {
    "duration": 13,
    "start_time": "2024-08-04T03:28:07.838Z"
   },
   {
    "duration": 25,
    "start_time": "2024-08-04T03:28:07.853Z"
   },
   {
    "duration": 70,
    "start_time": "2024-08-04T03:28:07.879Z"
   },
   {
    "duration": 95,
    "start_time": "2024-08-04T03:28:07.950Z"
   },
   {
    "duration": 397,
    "start_time": "2024-08-04T03:28:33.533Z"
   },
   {
    "duration": 382,
    "start_time": "2024-08-04T03:47:50.326Z"
   },
   {
    "duration": 2,
    "start_time": "2024-08-04T03:48:10.979Z"
   },
   {
    "duration": 86,
    "start_time": "2024-08-04T03:48:13.722Z"
   },
   {
    "duration": 7,
    "start_time": "2024-08-04T03:52:26.202Z"
   },
   {
    "duration": 2,
    "start_time": "2024-08-04T03:52:46.153Z"
   },
   {
    "duration": 5,
    "start_time": "2024-08-04T03:52:48.585Z"
   },
   {
    "duration": 4,
    "start_time": "2024-08-04T03:53:05.784Z"
   },
   {
    "duration": 4,
    "start_time": "2024-08-04T03:53:09.385Z"
   },
   {
    "duration": 76838,
    "start_time": "2024-08-04T03:53:13.584Z"
   },
   {
    "duration": 455,
    "start_time": "2024-08-04T04:57:49.752Z"
   },
   {
    "duration": 438,
    "start_time": "2024-08-04T04:58:02.073Z"
   },
   {
    "duration": 12,
    "start_time": "2024-08-04T05:18:07.589Z"
   },
   {
    "duration": 3,
    "start_time": "2024-08-04T05:18:15.090Z"
   },
   {
    "duration": 133,
    "start_time": "2024-08-04T05:18:18.876Z"
   },
   {
    "duration": 453,
    "start_time": "2024-08-04T05:18:37.357Z"
   },
   {
    "duration": 501,
    "start_time": "2024-08-04T05:26:30.001Z"
   },
   {
    "duration": 2,
    "start_time": "2024-08-04T05:26:38.873Z"
   },
   {
    "duration": 1358,
    "start_time": "2024-08-04T05:26:59.152Z"
   },
   {
    "duration": 1125,
    "start_time": "2024-08-16T03:16:38.671Z"
   },
   {
    "duration": 1036,
    "start_time": "2024-08-16T03:16:39.798Z"
   },
   {
    "duration": 22,
    "start_time": "2024-08-16T03:16:40.836Z"
   },
   {
    "duration": 18,
    "start_time": "2024-08-16T03:16:40.860Z"
   },
   {
    "duration": 13,
    "start_time": "2024-08-16T03:16:40.879Z"
   },
   {
    "duration": 10,
    "start_time": "2024-08-16T03:16:40.894Z"
   },
   {
    "duration": 11,
    "start_time": "2024-08-16T03:16:40.905Z"
   },
   {
    "duration": 37,
    "start_time": "2024-08-16T03:16:40.917Z"
   },
   {
    "duration": 17,
    "start_time": "2024-08-16T03:16:40.956Z"
   },
   {
    "duration": 86,
    "start_time": "2024-08-16T03:16:40.975Z"
   },
   {
    "duration": 123,
    "start_time": "2024-08-16T03:16:41.062Z"
   },
   {
    "duration": 1975,
    "start_time": "2024-08-16T03:16:41.187Z"
   },
   {
    "duration": 7,
    "start_time": "2024-08-16T03:16:43.254Z"
   },
   {
    "duration": 105,
    "start_time": "2024-08-16T03:16:43.264Z"
   },
   {
    "duration": 20,
    "start_time": "2024-08-16T03:16:43.370Z"
   },
   {
    "duration": 21,
    "start_time": "2024-08-16T03:16:43.392Z"
   },
   {
    "duration": 4,
    "start_time": "2024-08-16T03:16:43.414Z"
   },
   {
    "duration": 5,
    "start_time": "2024-08-16T03:16:43.420Z"
   },
   {
    "duration": 93038,
    "start_time": "2024-08-16T03:16:43.426Z"
   },
   {
    "duration": 50,
    "start_time": "2024-08-17T04:14:16.575Z"
   },
   {
    "duration": 1089,
    "start_time": "2024-08-17T04:14:22.251Z"
   },
   {
    "duration": 490,
    "start_time": "2024-08-17T04:14:23.342Z"
   },
   {
    "duration": 11,
    "start_time": "2024-08-17T04:14:23.834Z"
   },
   {
    "duration": 22,
    "start_time": "2024-08-17T04:14:23.848Z"
   },
   {
    "duration": 10,
    "start_time": "2024-08-17T04:14:23.871Z"
   },
   {
    "duration": 11,
    "start_time": "2024-08-17T04:14:23.882Z"
   },
   {
    "duration": 10,
    "start_time": "2024-08-17T04:14:23.894Z"
   },
   {
    "duration": 10,
    "start_time": "2024-08-17T04:14:23.906Z"
   },
   {
    "duration": 49,
    "start_time": "2024-08-17T04:14:23.918Z"
   },
   {
    "duration": 7,
    "start_time": "2024-08-17T04:14:23.970Z"
   },
   {
    "duration": 88,
    "start_time": "2024-08-17T04:14:23.978Z"
   },
   {
    "duration": 120,
    "start_time": "2024-08-17T04:14:24.067Z"
   },
   {
    "duration": 1965,
    "start_time": "2024-08-17T04:14:24.189Z"
   },
   {
    "duration": 3,
    "start_time": "2024-08-17T04:14:26.156Z"
   },
   {
    "duration": 100,
    "start_time": "2024-08-17T04:14:26.161Z"
   },
   {
    "duration": 4,
    "start_time": "2024-08-17T04:14:26.262Z"
   },
   {
    "duration": 7,
    "start_time": "2024-08-17T04:14:26.267Z"
   },
   {
    "duration": 4,
    "start_time": "2024-08-17T04:14:26.276Z"
   },
   {
    "duration": 6,
    "start_time": "2024-08-17T04:14:26.282Z"
   },
   {
    "duration": 92056,
    "start_time": "2024-08-17T04:14:26.290Z"
   },
   {
    "duration": 14,
    "start_time": "2024-08-17T04:17:55.482Z"
   },
   {
    "duration": 121,
    "start_time": "2024-08-17T04:19:53.169Z"
   },
   {
    "duration": 7,
    "start_time": "2024-08-17T04:20:11.533Z"
   },
   {
    "duration": 112,
    "start_time": "2024-08-17T04:20:13.497Z"
   },
   {
    "duration": 63,
    "start_time": "2024-08-17T04:39:06.007Z"
   },
   {
    "duration": 14,
    "start_time": "2024-08-17T04:41:46.965Z"
   },
   {
    "duration": 14,
    "start_time": "2024-08-17T04:41:57.404Z"
   },
   {
    "duration": 3,
    "start_time": "2024-08-17T04:58:35.531Z"
   },
   {
    "duration": 4,
    "start_time": "2024-08-17T04:58:47.345Z"
   },
   {
    "duration": 3,
    "start_time": "2024-08-17T05:01:23.552Z"
   },
   {
    "duration": 4,
    "start_time": "2024-08-17T05:01:25.432Z"
   },
   {
    "duration": 3,
    "start_time": "2024-08-17T05:05:10.038Z"
   },
   {
    "duration": 4,
    "start_time": "2024-08-17T05:05:12.838Z"
   },
   {
    "duration": 3,
    "start_time": "2024-08-17T05:06:09.469Z"
   },
   {
    "duration": 4,
    "start_time": "2024-08-17T05:06:12.189Z"
   },
   {
    "duration": 2,
    "start_time": "2024-08-17T05:07:17.805Z"
   },
   {
    "duration": 4,
    "start_time": "2024-08-17T05:07:19.520Z"
   },
   {
    "duration": 2,
    "start_time": "2024-08-17T05:07:25.909Z"
   },
   {
    "duration": 3,
    "start_time": "2024-08-17T05:07:28.125Z"
   },
   {
    "duration": 120,
    "start_time": "2024-08-17T05:12:56.531Z"
   },
   {
    "duration": 6,
    "start_time": "2024-08-17T05:13:23.473Z"
   },
   {
    "duration": 4,
    "start_time": "2024-08-17T05:26:21.064Z"
   },
   {
    "duration": 17,
    "start_time": "2024-08-17T05:26:23.641Z"
   },
   {
    "duration": 34,
    "start_time": "2024-08-17T05:26:34.499Z"
   },
   {
    "duration": 4,
    "start_time": "2024-08-17T05:26:54.152Z"
   },
   {
    "duration": 14,
    "start_time": "2024-08-17T05:28:05.825Z"
   },
   {
    "duration": 65,
    "start_time": "2024-08-17T05:37:12.694Z"
   },
   {
    "duration": 1977,
    "start_time": "2024-08-17T05:37:25.586Z"
   },
   {
    "duration": 9,
    "start_time": "2024-08-17T05:37:45.714Z"
   },
   {
    "duration": 1114,
    "start_time": "2024-08-17T05:38:57.628Z"
   },
   {
    "duration": 479,
    "start_time": "2024-08-17T05:38:58.744Z"
   },
   {
    "duration": 11,
    "start_time": "2024-08-17T05:38:59.224Z"
   },
   {
    "duration": 24,
    "start_time": "2024-08-17T05:38:59.237Z"
   },
   {
    "duration": 9,
    "start_time": "2024-08-17T05:38:59.263Z"
   },
   {
    "duration": 12,
    "start_time": "2024-08-17T05:38:59.273Z"
   },
   {
    "duration": 9,
    "start_time": "2024-08-17T05:38:59.286Z"
   },
   {
    "duration": 11,
    "start_time": "2024-08-17T05:38:59.297Z"
   },
   {
    "duration": 45,
    "start_time": "2024-08-17T05:38:59.309Z"
   },
   {
    "duration": 8,
    "start_time": "2024-08-17T05:38:59.356Z"
   },
   {
    "duration": 106,
    "start_time": "2024-08-17T05:38:59.365Z"
   },
   {
    "duration": 7,
    "start_time": "2024-08-17T05:38:59.472Z"
   },
   {
    "duration": 125,
    "start_time": "2024-08-17T05:38:59.480Z"
   },
   {
    "duration": 2155,
    "start_time": "2024-08-17T05:38:59.607Z"
   },
   {
    "duration": 9,
    "start_time": "2024-08-17T05:39:01.854Z"
   },
   {
    "duration": 18,
    "start_time": "2024-08-17T05:39:01.865Z"
   },
   {
    "duration": 69,
    "start_time": "2024-08-17T05:39:01.885Z"
   },
   {
    "duration": 13,
    "start_time": "2024-08-17T05:39:01.955Z"
   },
   {
    "duration": 4,
    "start_time": "2024-08-17T05:39:01.970Z"
   },
   {
    "duration": 9,
    "start_time": "2024-08-17T05:39:01.975Z"
   },
   {
    "duration": 132,
    "start_time": "2024-08-17T05:39:01.985Z"
   },
   {
    "duration": 1994,
    "start_time": "2024-08-17T05:45:42.680Z"
   },
   {
    "duration": 12,
    "start_time": "2024-08-17T05:45:47.361Z"
   },
   {
    "duration": 22,
    "start_time": "2024-08-17T05:47:59.527Z"
   },
   {
    "duration": 10,
    "start_time": "2024-08-17T05:50:08.680Z"
   },
   {
    "duration": 10,
    "start_time": "2024-08-17T05:50:16.978Z"
   },
   {
    "duration": 11,
    "start_time": "2024-08-17T05:50:22.547Z"
   },
   {
    "duration": 11,
    "start_time": "2024-08-17T05:53:28.449Z"
   },
   {
    "duration": 12,
    "start_time": "2024-08-17T05:53:36.434Z"
   },
   {
    "duration": 10,
    "start_time": "2024-08-17T05:53:44.017Z"
   },
   {
    "duration": 15,
    "start_time": "2024-08-17T05:53:50.347Z"
   },
   {
    "duration": 14,
    "start_time": "2024-08-17T05:54:14.811Z"
   },
   {
    "duration": 15,
    "start_time": "2024-08-17T05:54:47.888Z"
   },
   {
    "duration": 16,
    "start_time": "2024-08-17T05:55:05.917Z"
   },
   {
    "duration": 20,
    "start_time": "2024-08-17T05:57:02.970Z"
   },
   {
    "duration": 18,
    "start_time": "2024-08-17T05:58:52.303Z"
   },
   {
    "duration": 1069,
    "start_time": "2024-08-17T06:06:35.546Z"
   },
   {
    "duration": 17,
    "start_time": "2024-08-17T06:06:49.882Z"
   },
   {
    "duration": 919,
    "start_time": "2024-08-17T06:07:01.657Z"
   },
   {
    "duration": 935,
    "start_time": "2024-08-17T06:07:12.586Z"
   },
   {
    "duration": 15,
    "start_time": "2024-08-17T06:07:19.506Z"
   },
   {
    "duration": 32,
    "start_time": "2024-08-17T06:11:48.374Z"
   },
   {
    "duration": 3,
    "start_time": "2024-08-17T06:12:56.335Z"
   },
   {
    "duration": 1037,
    "start_time": "2024-08-17T06:12:59.254Z"
   },
   {
    "duration": 1192,
    "start_time": "2024-08-17T06:13:20.974Z"
   },
   {
    "duration": 1014,
    "start_time": "2024-08-17T06:13:29.662Z"
   },
   {
    "duration": 31,
    "start_time": "2024-08-17T06:13:38.726Z"
   },
   {
    "duration": 4,
    "start_time": "2024-08-17T06:13:59.517Z"
   },
   {
    "duration": 13,
    "start_time": "2024-08-17T06:14:07.515Z"
   },
   {
    "duration": 25,
    "start_time": "2024-08-17T06:14:33.167Z"
   },
   {
    "duration": 3,
    "start_time": "2024-08-17T06:14:44.414Z"
   },
   {
    "duration": 9,
    "start_time": "2024-08-17T06:14:46.616Z"
   },
   {
    "duration": 9,
    "start_time": "2024-08-17T06:15:01.200Z"
   },
   {
    "duration": 4,
    "start_time": "2024-08-17T06:15:31.421Z"
   },
   {
    "duration": 8,
    "start_time": "2024-08-17T06:15:33.393Z"
   },
   {
    "duration": 1139,
    "start_time": "2024-08-17T06:16:44.619Z"
   },
   {
    "duration": 474,
    "start_time": "2024-08-17T06:16:45.760Z"
   },
   {
    "duration": 11,
    "start_time": "2024-08-17T06:16:46.235Z"
   },
   {
    "duration": 23,
    "start_time": "2024-08-17T06:16:46.248Z"
   },
   {
    "duration": 13,
    "start_time": "2024-08-17T06:16:46.272Z"
   },
   {
    "duration": 13,
    "start_time": "2024-08-17T06:16:46.287Z"
   },
   {
    "duration": 15,
    "start_time": "2024-08-17T06:16:46.301Z"
   },
   {
    "duration": 36,
    "start_time": "2024-08-17T06:16:46.318Z"
   },
   {
    "duration": 16,
    "start_time": "2024-08-17T06:16:46.356Z"
   },
   {
    "duration": 11,
    "start_time": "2024-08-17T06:16:46.374Z"
   },
   {
    "duration": 83,
    "start_time": "2024-08-17T06:16:46.387Z"
   },
   {
    "duration": 7,
    "start_time": "2024-08-17T06:16:46.471Z"
   },
   {
    "duration": 143,
    "start_time": "2024-08-17T06:16:46.480Z"
   },
   {
    "duration": 2042,
    "start_time": "2024-08-17T06:16:46.624Z"
   },
   {
    "duration": 3,
    "start_time": "2024-08-17T06:16:48.753Z"
   },
   {
    "duration": 115,
    "start_time": "2024-08-17T06:16:48.759Z"
   },
   {
    "duration": 16,
    "start_time": "2024-08-17T06:16:48.876Z"
   },
   {
    "duration": 23,
    "start_time": "2024-08-17T06:16:48.894Z"
   },
   {
    "duration": 3,
    "start_time": "2024-08-17T06:16:48.918Z"
   },
   {
    "duration": 106,
    "start_time": "2024-08-17T06:16:48.922Z"
   },
   {
    "duration": 14,
    "start_time": "2024-08-17T06:17:06.206Z"
   },
   {
    "duration": 3,
    "start_time": "2024-08-17T06:17:32.330Z"
   },
   {
    "duration": 11,
    "start_time": "2024-08-17T06:17:35.507Z"
   },
   {
    "duration": 6,
    "start_time": "2024-08-17T06:18:43.769Z"
   },
   {
    "duration": 4,
    "start_time": "2024-08-17T06:18:52.158Z"
   },
   {
    "duration": 4,
    "start_time": "2024-08-17T06:19:16.380Z"
   },
   {
    "duration": 5,
    "start_time": "2024-08-17T06:26:48.204Z"
   },
   {
    "duration": 5,
    "start_time": "2024-08-17T06:28:07.527Z"
   },
   {
    "duration": 6,
    "start_time": "2024-08-17T06:28:16.054Z"
   },
   {
    "duration": 6,
    "start_time": "2024-08-17T06:29:40.774Z"
   },
   {
    "duration": 5,
    "start_time": "2024-08-17T06:34:10.814Z"
   },
   {
    "duration": 5,
    "start_time": "2024-08-17T06:34:19.666Z"
   },
   {
    "duration": 1133,
    "start_time": "2024-08-17T06:46:32.517Z"
   },
   {
    "duration": 490,
    "start_time": "2024-08-17T06:46:33.651Z"
   },
   {
    "duration": 12,
    "start_time": "2024-08-17T06:46:34.143Z"
   },
   {
    "duration": 24,
    "start_time": "2024-08-17T06:46:34.157Z"
   },
   {
    "duration": 9,
    "start_time": "2024-08-17T06:46:34.183Z"
   },
   {
    "duration": 11,
    "start_time": "2024-08-17T06:46:34.194Z"
   },
   {
    "duration": 11,
    "start_time": "2024-08-17T06:46:34.207Z"
   },
   {
    "duration": 42,
    "start_time": "2024-08-17T06:46:34.219Z"
   },
   {
    "duration": 20,
    "start_time": "2024-08-17T06:46:34.262Z"
   },
   {
    "duration": 9,
    "start_time": "2024-08-17T06:46:34.284Z"
   },
   {
    "duration": 92,
    "start_time": "2024-08-17T06:46:34.294Z"
   },
   {
    "duration": 8,
    "start_time": "2024-08-17T06:46:34.388Z"
   },
   {
    "duration": 133,
    "start_time": "2024-08-17T06:46:34.398Z"
   },
   {
    "duration": 2324,
    "start_time": "2024-08-17T06:46:34.533Z"
   },
   {
    "duration": 91,
    "start_time": "2024-08-17T06:46:36.863Z"
   },
   {
    "duration": 21,
    "start_time": "2024-08-17T06:46:36.955Z"
   },
   {
    "duration": 7,
    "start_time": "2024-08-17T06:46:36.977Z"
   },
   {
    "duration": 28,
    "start_time": "2024-08-17T06:46:36.986Z"
   },
   {
    "duration": 3,
    "start_time": "2024-08-17T06:46:37.016Z"
   },
   {
    "duration": 21,
    "start_time": "2024-08-17T06:46:37.020Z"
   },
   {
    "duration": 13,
    "start_time": "2024-08-17T06:46:37.043Z"
   },
   {
    "duration": 19,
    "start_time": "2024-08-17T06:46:37.058Z"
   },
   {
    "duration": 8,
    "start_time": "2024-08-17T06:46:37.078Z"
   },
   {
    "duration": 97,
    "start_time": "2024-08-17T06:53:34.911Z"
   },
   {
    "duration": 13,
    "start_time": "2024-08-17T06:53:56.020Z"
   },
   {
    "duration": 1059,
    "start_time": "2024-08-17T06:54:49.919Z"
   },
   {
    "duration": 6,
    "start_time": "2024-08-17T06:54:57.540Z"
   },
   {
    "duration": 3,
    "start_time": "2024-08-17T06:59:20.706Z"
   },
   {
    "duration": 9,
    "start_time": "2024-08-17T07:00:23.846Z"
   },
   {
    "duration": 19062,
    "start_time": "2024-08-17T07:00:41.483Z"
   },
   {
    "duration": 4677,
    "start_time": "2024-08-17T07:07:53.664Z"
   },
   {
    "duration": 6,
    "start_time": "2024-08-17T07:08:08.383Z"
   },
   {
    "duration": 4689,
    "start_time": "2024-08-17T07:14:18.214Z"
   },
   {
    "duration": 9,
    "start_time": "2024-08-17T07:15:57.896Z"
   },
   {
    "duration": 12,
    "start_time": "2024-08-17T07:16:12.695Z"
   },
   {
    "duration": 19,
    "start_time": "2024-08-17T07:37:57.255Z"
   },
   {
    "duration": 18,
    "start_time": "2024-08-17T07:40:44.356Z"
   },
   {
    "duration": 4,
    "start_time": "2024-08-17T07:57:44.679Z"
   },
   {
    "duration": 6,
    "start_time": "2024-08-17T07:57:48.542Z"
   },
   {
    "duration": 6,
    "start_time": "2024-08-17T07:58:01.986Z"
   },
   {
    "duration": 13,
    "start_time": "2024-08-17T07:59:55.928Z"
   },
   {
    "duration": 4,
    "start_time": "2024-08-17T08:01:39.112Z"
   },
   {
    "duration": 9,
    "start_time": "2024-08-17T08:02:04.421Z"
   },
   {
    "duration": 3,
    "start_time": "2024-08-17T08:02:20.013Z"
   },
   {
    "duration": 3,
    "start_time": "2024-08-17T08:02:22.355Z"
   },
   {
    "duration": 6,
    "start_time": "2024-08-17T08:02:30.907Z"
   },
   {
    "duration": 8,
    "start_time": "2024-08-17T08:04:49.246Z"
   },
   {
    "duration": 9,
    "start_time": "2024-08-17T08:05:01.107Z"
   },
   {
    "duration": 3050,
    "start_time": "2024-08-17T10:13:45.710Z"
   },
   {
    "duration": 237,
    "start_time": "2024-08-17T10:21:32.942Z"
   },
   {
    "duration": 3,
    "start_time": "2024-08-17T10:21:47.892Z"
   },
   {
    "duration": 1057,
    "start_time": "2024-08-17T10:21:54.697Z"
   },
   {
    "duration": 493,
    "start_time": "2024-08-17T10:21:55.756Z"
   },
   {
    "duration": 12,
    "start_time": "2024-08-17T10:21:56.251Z"
   },
   {
    "duration": 67,
    "start_time": "2024-08-17T10:21:56.265Z"
   },
   {
    "duration": 10,
    "start_time": "2024-08-17T10:21:56.333Z"
   },
   {
    "duration": 13,
    "start_time": "2024-08-17T10:21:56.344Z"
   },
   {
    "duration": 11,
    "start_time": "2024-08-17T10:21:56.359Z"
   },
   {
    "duration": 12,
    "start_time": "2024-08-17T10:21:56.371Z"
   },
   {
    "duration": 17,
    "start_time": "2024-08-17T10:21:56.384Z"
   },
   {
    "duration": 7,
    "start_time": "2024-08-17T10:21:56.404Z"
   },
   {
    "duration": 102,
    "start_time": "2024-08-17T10:21:56.413Z"
   },
   {
    "duration": 7,
    "start_time": "2024-08-17T10:21:56.517Z"
   },
   {
    "duration": 157,
    "start_time": "2024-08-17T10:21:56.525Z"
   },
   {
    "duration": 1978,
    "start_time": "2024-08-17T10:21:56.684Z"
   },
   {
    "duration": 4,
    "start_time": "2024-08-17T10:21:58.754Z"
   },
   {
    "duration": 95,
    "start_time": "2024-08-17T10:21:58.760Z"
   },
   {
    "duration": 6,
    "start_time": "2024-08-17T10:21:58.856Z"
   },
   {
    "duration": 23,
    "start_time": "2024-08-17T10:21:58.863Z"
   },
   {
    "duration": 4,
    "start_time": "2024-08-17T10:21:58.887Z"
   },
   {
    "duration": 130,
    "start_time": "2024-08-17T10:21:58.893Z"
   },
   {
    "duration": 8,
    "start_time": "2024-08-17T10:21:59.025Z"
   },
   {
    "duration": 20,
    "start_time": "2024-08-17T10:21:59.035Z"
   },
   {
    "duration": 105,
    "start_time": "2024-08-17T10:21:59.056Z"
   },
   {
    "duration": 0,
    "start_time": "2024-08-17T10:21:59.163Z"
   },
   {
    "duration": 0,
    "start_time": "2024-08-17T10:21:59.164Z"
   },
   {
    "duration": 0,
    "start_time": "2024-08-17T10:21:59.165Z"
   },
   {
    "duration": 0,
    "start_time": "2024-08-17T10:21:59.167Z"
   },
   {
    "duration": 0,
    "start_time": "2024-08-17T10:21:59.168Z"
   },
   {
    "duration": 4176,
    "start_time": "2024-08-17T10:22:33.452Z"
   },
   {
    "duration": 14,
    "start_time": "2024-08-17T10:22:40.009Z"
   },
   {
    "duration": 1112,
    "start_time": "2024-08-17T10:24:30.441Z"
   },
   {
    "duration": 494,
    "start_time": "2024-08-17T10:24:31.555Z"
   },
   {
    "duration": 10,
    "start_time": "2024-08-17T10:24:32.051Z"
   },
   {
    "duration": 19,
    "start_time": "2024-08-17T10:24:32.062Z"
   },
   {
    "duration": 9,
    "start_time": "2024-08-17T10:24:32.082Z"
   },
   {
    "duration": 31,
    "start_time": "2024-08-17T10:24:32.093Z"
   },
   {
    "duration": 12,
    "start_time": "2024-08-17T10:24:32.125Z"
   },
   {
    "duration": 25,
    "start_time": "2024-08-17T10:24:32.139Z"
   },
   {
    "duration": 18,
    "start_time": "2024-08-17T10:24:32.166Z"
   },
   {
    "duration": 8,
    "start_time": "2024-08-17T10:24:32.187Z"
   },
   {
    "duration": 106,
    "start_time": "2024-08-17T10:24:32.196Z"
   },
   {
    "duration": 7,
    "start_time": "2024-08-17T10:24:32.306Z"
   },
   {
    "duration": 149,
    "start_time": "2024-08-17T10:24:32.315Z"
   },
   {
    "duration": 1993,
    "start_time": "2024-08-17T10:24:32.465Z"
   },
   {
    "duration": 93,
    "start_time": "2024-08-17T10:24:34.460Z"
   },
   {
    "duration": 34,
    "start_time": "2024-08-17T10:24:34.555Z"
   },
   {
    "duration": 5,
    "start_time": "2024-08-17T10:24:34.591Z"
   },
   {
    "duration": 22,
    "start_time": "2024-08-17T10:24:34.597Z"
   },
   {
    "duration": 3,
    "start_time": "2024-08-17T10:24:34.621Z"
   },
   {
    "duration": 110,
    "start_time": "2024-08-17T10:24:34.625Z"
   },
   {
    "duration": 10,
    "start_time": "2024-08-17T10:24:34.736Z"
   },
   {
    "duration": 10,
    "start_time": "2024-08-17T10:24:34.753Z"
   },
   {
    "duration": 4172,
    "start_time": "2024-08-17T10:24:34.765Z"
   },
   {
    "duration": 18,
    "start_time": "2024-08-17T10:24:38.938Z"
   },
   {
    "duration": 129,
    "start_time": "2024-08-17T10:24:38.958Z"
   },
   {
    "duration": 0,
    "start_time": "2024-08-17T10:24:39.089Z"
   },
   {
    "duration": 0,
    "start_time": "2024-08-17T10:24:39.090Z"
   },
   {
    "duration": 0,
    "start_time": "2024-08-17T10:24:39.091Z"
   },
   {
    "duration": 9,
    "start_time": "2024-08-17T10:25:05.718Z"
   },
   {
    "duration": 1073,
    "start_time": "2024-08-17T10:25:10.779Z"
   },
   {
    "duration": 484,
    "start_time": "2024-08-17T10:25:11.854Z"
   },
   {
    "duration": 10,
    "start_time": "2024-08-17T10:25:12.339Z"
   },
   {
    "duration": 36,
    "start_time": "2024-08-17T10:25:12.351Z"
   },
   {
    "duration": 14,
    "start_time": "2024-08-17T10:25:12.389Z"
   },
   {
    "duration": 11,
    "start_time": "2024-08-17T10:25:12.404Z"
   },
   {
    "duration": 16,
    "start_time": "2024-08-17T10:25:12.416Z"
   },
   {
    "duration": 10,
    "start_time": "2024-08-17T10:25:12.433Z"
   },
   {
    "duration": 22,
    "start_time": "2024-08-17T10:25:12.445Z"
   },
   {
    "duration": 7,
    "start_time": "2024-08-17T10:25:12.470Z"
   },
   {
    "duration": 82,
    "start_time": "2024-08-17T10:25:12.478Z"
   },
   {
    "duration": 6,
    "start_time": "2024-08-17T10:25:12.562Z"
   },
   {
    "duration": 124,
    "start_time": "2024-08-17T10:25:12.570Z"
   },
   {
    "duration": 1960,
    "start_time": "2024-08-17T10:25:12.696Z"
   },
   {
    "duration": 93,
    "start_time": "2024-08-17T10:25:14.659Z"
   },
   {
    "duration": 7,
    "start_time": "2024-08-17T10:25:14.754Z"
   },
   {
    "duration": 9,
    "start_time": "2024-08-17T10:25:14.763Z"
   },
   {
    "duration": 38,
    "start_time": "2024-08-17T10:25:14.774Z"
   },
   {
    "duration": 3,
    "start_time": "2024-08-17T10:25:14.813Z"
   },
   {
    "duration": 22,
    "start_time": "2024-08-17T10:25:14.818Z"
   },
   {
    "duration": 12,
    "start_time": "2024-08-17T10:25:14.841Z"
   },
   {
    "duration": 11,
    "start_time": "2024-08-17T10:25:14.855Z"
   },
   {
    "duration": 4096,
    "start_time": "2024-08-17T10:25:14.867Z"
   },
   {
    "duration": 15,
    "start_time": "2024-08-17T10:25:18.964Z"
   },
   {
    "duration": 108,
    "start_time": "2024-08-17T10:25:18.981Z"
   },
   {
    "duration": 0,
    "start_time": "2024-08-17T10:25:19.091Z"
   },
   {
    "duration": 0,
    "start_time": "2024-08-17T10:25:19.092Z"
   },
   {
    "duration": 0,
    "start_time": "2024-08-17T10:25:19.093Z"
   },
   {
    "duration": 4134,
    "start_time": "2024-08-17T10:25:56.425Z"
   },
   {
    "duration": 4077,
    "start_time": "2024-08-17T10:26:25.076Z"
   },
   {
    "duration": 4241,
    "start_time": "2024-08-17T10:26:29.155Z"
   },
   {
    "duration": 14,
    "start_time": "2024-08-17T10:26:40.092Z"
   },
   {
    "duration": 14,
    "start_time": "2024-08-17T10:26:48.774Z"
   },
   {
    "duration": 8,
    "start_time": "2024-08-17T10:31:36.304Z"
   },
   {
    "duration": 14,
    "start_time": "2024-08-17T10:31:41.044Z"
   },
   {
    "duration": 4,
    "start_time": "2024-08-17T10:42:21.756Z"
   },
   {
    "duration": 9,
    "start_time": "2024-08-17T10:43:19.386Z"
   },
   {
    "duration": 12,
    "start_time": "2024-08-17T10:43:27.514Z"
   },
   {
    "duration": 12,
    "start_time": "2024-08-17T10:44:04.889Z"
   },
   {
    "duration": 1093,
    "start_time": "2024-08-17T10:44:39.932Z"
   },
   {
    "duration": 474,
    "start_time": "2024-08-17T10:44:41.027Z"
   },
   {
    "duration": 11,
    "start_time": "2024-08-17T10:44:41.503Z"
   },
   {
    "duration": 18,
    "start_time": "2024-08-17T10:44:41.516Z"
   },
   {
    "duration": 21,
    "start_time": "2024-08-17T10:44:41.536Z"
   },
   {
    "duration": 15,
    "start_time": "2024-08-17T10:44:41.558Z"
   },
   {
    "duration": 11,
    "start_time": "2024-08-17T10:44:41.574Z"
   },
   {
    "duration": 10,
    "start_time": "2024-08-17T10:44:41.587Z"
   },
   {
    "duration": 16,
    "start_time": "2024-08-17T10:44:41.599Z"
   },
   {
    "duration": 7,
    "start_time": "2024-08-17T10:44:41.618Z"
   },
   {
    "duration": 101,
    "start_time": "2024-08-17T10:44:41.626Z"
   },
   {
    "duration": 7,
    "start_time": "2024-08-17T10:44:41.729Z"
   },
   {
    "duration": 137,
    "start_time": "2024-08-17T10:44:41.737Z"
   },
   {
    "duration": 2178,
    "start_time": "2024-08-17T10:44:41.876Z"
   },
   {
    "duration": 3,
    "start_time": "2024-08-17T10:44:44.056Z"
   },
   {
    "duration": 102,
    "start_time": "2024-08-17T10:44:44.061Z"
   },
   {
    "duration": 8,
    "start_time": "2024-08-17T10:44:44.165Z"
   },
   {
    "duration": 117,
    "start_time": "2024-08-17T10:44:44.175Z"
   },
   {
    "duration": 0,
    "start_time": "2024-08-17T10:44:44.294Z"
   },
   {
    "duration": 0,
    "start_time": "2024-08-17T10:44:44.295Z"
   },
   {
    "duration": 0,
    "start_time": "2024-08-17T10:44:44.297Z"
   },
   {
    "duration": 0,
    "start_time": "2024-08-17T10:44:44.299Z"
   },
   {
    "duration": 0,
    "start_time": "2024-08-17T10:44:44.300Z"
   },
   {
    "duration": 0,
    "start_time": "2024-08-17T10:44:44.302Z"
   },
   {
    "duration": 0,
    "start_time": "2024-08-17T10:44:44.303Z"
   },
   {
    "duration": 0,
    "start_time": "2024-08-17T10:44:44.305Z"
   },
   {
    "duration": 0,
    "start_time": "2024-08-17T10:44:44.306Z"
   },
   {
    "duration": 0,
    "start_time": "2024-08-17T10:44:44.308Z"
   },
   {
    "duration": 0,
    "start_time": "2024-08-17T10:44:44.309Z"
   },
   {
    "duration": 0,
    "start_time": "2024-08-17T10:44:44.311Z"
   },
   {
    "duration": 0,
    "start_time": "2024-08-17T10:44:44.312Z"
   },
   {
    "duration": 3,
    "start_time": "2024-08-17T10:45:13.559Z"
   },
   {
    "duration": 14,
    "start_time": "2024-08-17T10:45:16.184Z"
   },
   {
    "duration": 3,
    "start_time": "2024-08-17T10:45:45.222Z"
   },
   {
    "duration": 12,
    "start_time": "2024-08-17T10:45:47.599Z"
   },
   {
    "duration": 3,
    "start_time": "2024-08-17T10:45:58.753Z"
   },
   {
    "duration": 21,
    "start_time": "2024-08-17T10:46:00.774Z"
   },
   {
    "duration": 13,
    "start_time": "2024-08-17T10:49:59.420Z"
   },
   {
    "duration": 3,
    "start_time": "2024-08-17T10:50:02.957Z"
   },
   {
    "duration": 20,
    "start_time": "2024-08-17T10:50:05.636Z"
   },
   {
    "duration": 1926,
    "start_time": "2024-08-17T10:50:21.236Z"
   },
   {
    "duration": 23,
    "start_time": "2024-08-17T10:50:31.086Z"
   },
   {
    "duration": 3,
    "start_time": "2024-08-17T10:50:35.909Z"
   },
   {
    "duration": 9,
    "start_time": "2024-08-17T10:50:38.975Z"
   },
   {
    "duration": 11,
    "start_time": "2024-08-17T10:50:41.251Z"
   },
   {
    "duration": 10,
    "start_time": "2024-08-17T10:50:43.198Z"
   },
   {
    "duration": 9,
    "start_time": "2024-08-17T10:51:37.043Z"
   },
   {
    "duration": 9,
    "start_time": "2024-08-17T10:51:46.060Z"
   },
   {
    "duration": 18,
    "start_time": "2024-08-17T10:53:23.041Z"
   },
   {
    "duration": 28,
    "start_time": "2024-08-17T10:53:55.741Z"
   },
   {
    "duration": 4079,
    "start_time": "2024-08-17T10:54:51.937Z"
   },
   {
    "duration": 16,
    "start_time": "2024-08-17T10:55:00.016Z"
   },
   {
    "duration": 12,
    "start_time": "2024-08-17T11:05:51.044Z"
   },
   {
    "duration": 7,
    "start_time": "2024-08-17T11:19:18.199Z"
   },
   {
    "duration": 4162,
    "start_time": "2024-08-17T11:21:09.213Z"
   },
   {
    "duration": 6,
    "start_time": "2024-08-17T11:21:15.013Z"
   },
   {
    "duration": 4210,
    "start_time": "2024-08-17T11:21:18.013Z"
   },
   {
    "duration": 7,
    "start_time": "2024-08-17T11:21:22.224Z"
   },
   {
    "duration": 375,
    "start_time": "2024-08-17T11:28:48.938Z"
   },
   {
    "duration": 7,
    "start_time": "2024-08-17T11:28:54.552Z"
   },
   {
    "duration": 4147,
    "start_time": "2024-08-17T11:30:11.883Z"
   },
   {
    "duration": 7,
    "start_time": "2024-08-17T11:30:16.032Z"
   },
   {
    "duration": 7,
    "start_time": "2024-08-17T11:31:41.803Z"
   },
   {
    "duration": 1135,
    "start_time": "2024-08-17T11:38:34.033Z"
   },
   {
    "duration": 495,
    "start_time": "2024-08-17T11:38:35.169Z"
   },
   {
    "duration": 11,
    "start_time": "2024-08-17T11:38:35.665Z"
   },
   {
    "duration": 18,
    "start_time": "2024-08-17T11:38:35.678Z"
   },
   {
    "duration": 9,
    "start_time": "2024-08-17T11:38:35.697Z"
   },
   {
    "duration": 20,
    "start_time": "2024-08-17T11:38:35.708Z"
   },
   {
    "duration": 32,
    "start_time": "2024-08-17T11:38:35.730Z"
   },
   {
    "duration": 30,
    "start_time": "2024-08-17T11:38:35.764Z"
   },
   {
    "duration": 29,
    "start_time": "2024-08-17T11:38:35.796Z"
   },
   {
    "duration": 7,
    "start_time": "2024-08-17T11:38:35.829Z"
   },
   {
    "duration": 74,
    "start_time": "2024-08-17T11:38:35.838Z"
   },
   {
    "duration": 7,
    "start_time": "2024-08-17T11:38:35.915Z"
   },
   {
    "duration": 138,
    "start_time": "2024-08-17T11:38:35.924Z"
   },
   {
    "duration": 1902,
    "start_time": "2024-08-17T11:38:36.064Z"
   },
   {
    "duration": 94,
    "start_time": "2024-08-17T11:38:38.059Z"
   },
   {
    "duration": 12,
    "start_time": "2024-08-17T11:38:38.155Z"
   },
   {
    "duration": 18,
    "start_time": "2024-08-17T11:38:38.168Z"
   },
   {
    "duration": 25,
    "start_time": "2024-08-17T11:38:38.187Z"
   },
   {
    "duration": 3,
    "start_time": "2024-08-17T11:38:38.214Z"
   },
   {
    "duration": 15,
    "start_time": "2024-08-17T11:38:38.219Z"
   },
   {
    "duration": 21,
    "start_time": "2024-08-17T11:38:38.236Z"
   },
   {
    "duration": 11,
    "start_time": "2024-08-17T11:38:38.259Z"
   },
   {
    "duration": 26,
    "start_time": "2024-08-17T11:38:38.271Z"
   },
   {
    "duration": 4064,
    "start_time": "2024-08-17T11:38:38.298Z"
   },
   {
    "duration": 6,
    "start_time": "2024-08-17T11:38:42.363Z"
   },
   {
    "duration": 4166,
    "start_time": "2024-08-17T11:38:42.371Z"
   },
   {
    "duration": 15,
    "start_time": "2024-08-17T11:38:46.538Z"
   },
   {
    "duration": 4123,
    "start_time": "2024-08-17T11:38:46.556Z"
   },
   {
    "duration": 6,
    "start_time": "2024-08-17T11:38:50.681Z"
   },
   {
    "duration": 51,
    "start_time": "2024-08-18T06:13:52.999Z"
   },
   {
    "duration": 1081,
    "start_time": "2024-08-18T06:13:57.174Z"
   },
   {
    "duration": 1047,
    "start_time": "2024-08-18T06:13:58.257Z"
   },
   {
    "duration": 10,
    "start_time": "2024-08-18T06:13:59.306Z"
   },
   {
    "duration": 21,
    "start_time": "2024-08-18T06:13:59.318Z"
   },
   {
    "duration": 9,
    "start_time": "2024-08-18T06:13:59.341Z"
   },
   {
    "duration": 11,
    "start_time": "2024-08-18T06:13:59.351Z"
   },
   {
    "duration": 11,
    "start_time": "2024-08-18T06:13:59.363Z"
   },
   {
    "duration": 11,
    "start_time": "2024-08-18T06:13:59.375Z"
   },
   {
    "duration": 19,
    "start_time": "2024-08-18T06:13:59.387Z"
   },
   {
    "duration": 8,
    "start_time": "2024-08-18T06:13:59.408Z"
   },
   {
    "duration": 97,
    "start_time": "2024-08-18T06:13:59.417Z"
   },
   {
    "duration": 7,
    "start_time": "2024-08-18T06:13:59.516Z"
   },
   {
    "duration": 147,
    "start_time": "2024-08-18T06:13:59.524Z"
   },
   {
    "duration": 2076,
    "start_time": "2024-08-18T06:13:59.674Z"
   },
   {
    "duration": 93,
    "start_time": "2024-08-18T06:14:01.752Z"
   },
   {
    "duration": 112,
    "start_time": "2024-08-18T06:14:01.847Z"
   },
   {
    "duration": 0,
    "start_time": "2024-08-18T06:14:01.960Z"
   },
   {
    "duration": 0,
    "start_time": "2024-08-18T06:14:01.962Z"
   },
   {
    "duration": 0,
    "start_time": "2024-08-18T06:14:01.963Z"
   },
   {
    "duration": 0,
    "start_time": "2024-08-18T06:14:01.965Z"
   },
   {
    "duration": 0,
    "start_time": "2024-08-18T06:14:01.966Z"
   },
   {
    "duration": 0,
    "start_time": "2024-08-18T06:14:01.967Z"
   },
   {
    "duration": 0,
    "start_time": "2024-08-18T06:14:01.968Z"
   },
   {
    "duration": 0,
    "start_time": "2024-08-18T06:14:01.969Z"
   },
   {
    "duration": 0,
    "start_time": "2024-08-18T06:14:01.969Z"
   },
   {
    "duration": 0,
    "start_time": "2024-08-18T06:14:01.971Z"
   },
   {
    "duration": 0,
    "start_time": "2024-08-18T06:14:01.972Z"
   },
   {
    "duration": 0,
    "start_time": "2024-08-18T06:14:01.973Z"
   },
   {
    "duration": 0,
    "start_time": "2024-08-18T06:14:01.974Z"
   },
   {
    "duration": 5,
    "start_time": "2024-08-18T06:29:51.511Z"
   },
   {
    "duration": 6,
    "start_time": "2024-08-18T06:29:53.655Z"
   },
   {
    "duration": 35,
    "start_time": "2024-08-18T06:29:57.422Z"
   },
   {
    "duration": 4,
    "start_time": "2024-08-18T06:29:59.120Z"
   },
   {
    "duration": 20,
    "start_time": "2024-08-18T06:30:00.615Z"
   },
   {
    "duration": 3,
    "start_time": "2024-08-18T06:30:07.959Z"
   },
   {
    "duration": 9,
    "start_time": "2024-08-18T06:30:09.585Z"
   },
   {
    "duration": 11,
    "start_time": "2024-08-18T06:30:11.850Z"
   },
   {
    "duration": 11,
    "start_time": "2024-08-18T06:30:13.569Z"
   },
   {
    "duration": 12,
    "start_time": "2024-08-18T06:30:18.429Z"
   },
   {
    "duration": 1031,
    "start_time": "2024-08-19T01:20:24.825Z"
   },
   {
    "duration": 1833,
    "start_time": "2024-08-19T01:20:25.858Z"
   },
   {
    "duration": 10,
    "start_time": "2024-08-19T01:20:27.692Z"
   },
   {
    "duration": 16,
    "start_time": "2024-08-19T01:20:27.704Z"
   },
   {
    "duration": 8,
    "start_time": "2024-08-19T01:20:27.721Z"
   },
   {
    "duration": 14,
    "start_time": "2024-08-19T01:20:27.730Z"
   },
   {
    "duration": 10,
    "start_time": "2024-08-19T01:20:27.745Z"
   },
   {
    "duration": 12,
    "start_time": "2024-08-19T01:20:27.756Z"
   },
   {
    "duration": 13,
    "start_time": "2024-08-19T01:20:27.782Z"
   },
   {
    "duration": 7,
    "start_time": "2024-08-19T01:20:27.798Z"
   },
   {
    "duration": 78,
    "start_time": "2024-08-19T01:20:27.806Z"
   },
   {
    "duration": 7,
    "start_time": "2024-08-19T01:20:27.885Z"
   },
   {
    "duration": 119,
    "start_time": "2024-08-19T01:20:27.893Z"
   },
   {
    "duration": 1971,
    "start_time": "2024-08-19T01:20:28.014Z"
   },
   {
    "duration": 93,
    "start_time": "2024-08-19T01:20:29.990Z"
   },
   {
    "duration": 68,
    "start_time": "2024-08-19T01:20:30.084Z"
   },
   {
    "duration": 72,
    "start_time": "2024-08-19T01:20:30.154Z"
   },
   {
    "duration": 20,
    "start_time": "2024-08-19T01:20:30.227Z"
   },
   {
    "duration": 156,
    "start_time": "2024-08-19T01:20:30.249Z"
   },
   {
    "duration": 0,
    "start_time": "2024-08-19T01:20:30.407Z"
   },
   {
    "duration": 0,
    "start_time": "2024-08-19T01:20:30.408Z"
   },
   {
    "duration": 0,
    "start_time": "2024-08-19T01:20:30.409Z"
   },
   {
    "duration": 0,
    "start_time": "2024-08-19T01:20:30.410Z"
   },
   {
    "duration": 0,
    "start_time": "2024-08-19T01:20:30.411Z"
   },
   {
    "duration": 0,
    "start_time": "2024-08-19T01:20:30.412Z"
   },
   {
    "duration": 0,
    "start_time": "2024-08-19T01:20:30.413Z"
   },
   {
    "duration": 0,
    "start_time": "2024-08-19T01:20:30.414Z"
   },
   {
    "duration": 0,
    "start_time": "2024-08-19T01:20:30.414Z"
   },
   {
    "duration": 0,
    "start_time": "2024-08-19T01:20:30.415Z"
   },
   {
    "duration": 0,
    "start_time": "2024-08-19T01:20:30.416Z"
   },
   {
    "duration": 10,
    "start_time": "2024-08-19T01:20:52.840Z"
   },
   {
    "duration": 11,
    "start_time": "2024-08-19T01:21:57.666Z"
   },
   {
    "duration": 3,
    "start_time": "2024-08-19T01:23:23.062Z"
   },
   {
    "duration": 10,
    "start_time": "2024-08-19T01:23:25.347Z"
   },
   {
    "duration": 7,
    "start_time": "2024-08-19T01:23:39.329Z"
   },
   {
    "duration": 1970,
    "start_time": "2024-08-19T01:24:46.513Z"
   },
   {
    "duration": 8,
    "start_time": "2024-08-19T01:25:02.847Z"
   },
   {
    "duration": 8,
    "start_time": "2024-08-19T01:25:44.356Z"
   },
   {
    "duration": 7,
    "start_time": "2024-08-19T01:26:21.114Z"
   },
   {
    "duration": 2069,
    "start_time": "2024-08-19T01:26:29.014Z"
   },
   {
    "duration": 7,
    "start_time": "2024-08-19T01:26:32.810Z"
   },
   {
    "duration": 10,
    "start_time": "2024-08-19T01:27:04.096Z"
   },
   {
    "duration": 8,
    "start_time": "2024-08-19T01:27:47.994Z"
   },
   {
    "duration": 3,
    "start_time": "2024-08-19T01:28:18.104Z"
   },
   {
    "duration": 9,
    "start_time": "2024-08-19T01:28:29.905Z"
   },
   {
    "duration": 12,
    "start_time": "2024-08-19T01:31:34.374Z"
   },
   {
    "duration": 2,
    "start_time": "2024-08-19T01:31:50.139Z"
   },
   {
    "duration": 2,
    "start_time": "2024-08-19T01:32:28.207Z"
   },
   {
    "duration": 2,
    "start_time": "2024-08-19T01:32:42.019Z"
   },
   {
    "duration": 8,
    "start_time": "2024-08-19T01:32:43.873Z"
   },
   {
    "duration": 3,
    "start_time": "2024-08-19T01:33:04.186Z"
   },
   {
    "duration": 11,
    "start_time": "2024-08-19T01:33:49.951Z"
   },
   {
    "duration": 3,
    "start_time": "2024-08-19T01:34:10.146Z"
   },
   {
    "duration": 10,
    "start_time": "2024-08-19T01:34:13.054Z"
   },
   {
    "duration": 3,
    "start_time": "2024-08-19T01:34:29.245Z"
   },
   {
    "duration": 6,
    "start_time": "2024-08-19T01:34:31.850Z"
   },
   {
    "duration": 6,
    "start_time": "2024-08-19T01:35:09.522Z"
   },
   {
    "duration": 5,
    "start_time": "2024-08-19T01:35:11.526Z"
   },
   {
    "duration": 1496,
    "start_time": "2024-08-19T01:51:28.346Z"
   },
   {
    "duration": 1464,
    "start_time": "2024-08-19T01:52:00.891Z"
   },
   {
    "duration": 1450,
    "start_time": "2024-08-19T01:52:11.062Z"
   },
   {
    "duration": 4,
    "start_time": "2024-08-19T02:00:21.674Z"
   },
   {
    "duration": 1058,
    "start_time": "2024-08-19T02:01:08.673Z"
   },
   {
    "duration": 2,
    "start_time": "2024-08-19T02:01:11.402Z"
   },
   {
    "duration": 3,
    "start_time": "2024-08-19T02:01:37.357Z"
   },
   {
    "duration": 1071,
    "start_time": "2024-08-19T02:01:41.105Z"
   },
   {
    "duration": 1060,
    "start_time": "2024-08-19T02:02:13.930Z"
   },
   {
    "duration": 12,
    "start_time": "2024-08-19T02:02:16.003Z"
   },
   {
    "duration": 7,
    "start_time": "2024-08-19T02:02:24.690Z"
   },
   {
    "duration": 3,
    "start_time": "2024-08-19T02:03:41.256Z"
   },
   {
    "duration": 1105,
    "start_time": "2024-08-19T02:06:29.870Z"
   },
   {
    "duration": 3246,
    "start_time": "2024-08-19T02:07:01.099Z"
   },
   {
    "duration": 14,
    "start_time": "2024-08-19T02:11:32.843Z"
   },
   {
    "duration": 8,
    "start_time": "2024-08-19T02:11:38.950Z"
   },
   {
    "duration": 6,
    "start_time": "2024-08-19T02:11:55.371Z"
   },
   {
    "duration": 5,
    "start_time": "2024-08-19T02:12:23.102Z"
   },
   {
    "duration": 5,
    "start_time": "2024-08-19T02:12:33.762Z"
   },
   {
    "duration": 6,
    "start_time": "2024-08-19T02:15:06.380Z"
   },
   {
    "duration": 6,
    "start_time": "2024-08-19T02:15:08.937Z"
   },
   {
    "duration": 6,
    "start_time": "2024-08-19T02:15:11.456Z"
   },
   {
    "duration": 6,
    "start_time": "2024-08-19T02:15:50.545Z"
   },
   {
    "duration": 7,
    "start_time": "2024-08-19T02:15:52.339Z"
   },
   {
    "duration": 4,
    "start_time": "2024-08-19T02:22:31.905Z"
   },
   {
    "duration": 3,
    "start_time": "2024-08-19T02:22:58.372Z"
   },
   {
    "duration": 3,
    "start_time": "2024-08-19T02:23:01.892Z"
   },
   {
    "duration": 4,
    "start_time": "2024-08-19T02:23:05.747Z"
   },
   {
    "duration": 3,
    "start_time": "2024-08-19T02:23:09.203Z"
   },
   {
    "duration": 7,
    "start_time": "2024-08-19T02:26:51.004Z"
   },
   {
    "duration": 4,
    "start_time": "2024-08-19T02:28:11.196Z"
   },
   {
    "duration": 6,
    "start_time": "2024-08-19T02:30:10.136Z"
   },
   {
    "duration": 6,
    "start_time": "2024-08-19T02:30:27.583Z"
   },
   {
    "duration": 6,
    "start_time": "2024-08-19T02:30:39.671Z"
   },
   {
    "duration": 6,
    "start_time": "2024-08-19T02:30:43.577Z"
   },
   {
    "duration": 6,
    "start_time": "2024-08-19T02:30:49.038Z"
   },
   {
    "duration": 7,
    "start_time": "2024-08-19T02:31:14.391Z"
   },
   {
    "duration": 7,
    "start_time": "2024-08-19T02:31:55.662Z"
   },
   {
    "duration": 7,
    "start_time": "2024-08-19T02:31:57.230Z"
   },
   {
    "duration": 7,
    "start_time": "2024-08-19T02:31:58.774Z"
   },
   {
    "duration": 1016,
    "start_time": "2024-08-19T02:44:15.613Z"
   },
   {
    "duration": 453,
    "start_time": "2024-08-19T02:44:16.631Z"
   },
   {
    "duration": 10,
    "start_time": "2024-08-19T02:44:17.086Z"
   },
   {
    "duration": 24,
    "start_time": "2024-08-19T02:44:17.099Z"
   },
   {
    "duration": 9,
    "start_time": "2024-08-19T02:44:17.125Z"
   },
   {
    "duration": 36,
    "start_time": "2024-08-19T02:44:17.136Z"
   },
   {
    "duration": 27,
    "start_time": "2024-08-19T02:44:17.173Z"
   },
   {
    "duration": 11,
    "start_time": "2024-08-19T02:44:17.202Z"
   },
   {
    "duration": 19,
    "start_time": "2024-08-19T02:44:17.215Z"
   },
   {
    "duration": 19,
    "start_time": "2024-08-19T02:44:17.236Z"
   },
   {
    "duration": 92,
    "start_time": "2024-08-19T02:44:17.257Z"
   },
   {
    "duration": 7,
    "start_time": "2024-08-19T02:44:17.351Z"
   },
   {
    "duration": 107,
    "start_time": "2024-08-19T02:44:17.359Z"
   },
   {
    "duration": 1928,
    "start_time": "2024-08-19T02:44:17.468Z"
   },
   {
    "duration": 85,
    "start_time": "2024-08-19T02:44:19.398Z"
   },
   {
    "duration": 99,
    "start_time": "2024-08-19T02:44:19.486Z"
   },
   {
    "duration": 5,
    "start_time": "2024-08-19T02:44:19.587Z"
   },
   {
    "duration": 2,
    "start_time": "2024-08-19T02:44:19.594Z"
   },
   {
    "duration": 3,
    "start_time": "2024-08-19T02:44:19.597Z"
   },
   {
    "duration": 6,
    "start_time": "2024-08-19T02:44:19.602Z"
   },
   {
    "duration": 5,
    "start_time": "2024-08-19T02:44:19.609Z"
   },
   {
    "duration": 5,
    "start_time": "2024-08-19T02:44:19.615Z"
   },
   {
    "duration": 3,
    "start_time": "2024-08-19T02:44:19.622Z"
   },
   {
    "duration": 3289,
    "start_time": "2024-08-19T02:44:19.626Z"
   },
   {
    "duration": 8,
    "start_time": "2024-08-19T02:44:22.916Z"
   },
   {
    "duration": 30,
    "start_time": "2024-08-19T02:44:22.925Z"
   },
   {
    "duration": 16,
    "start_time": "2024-08-19T02:44:22.957Z"
   },
   {
    "duration": 1040,
    "start_time": "2024-08-19T02:45:01.028Z"
   },
   {
    "duration": 451,
    "start_time": "2024-08-19T02:45:02.070Z"
   },
   {
    "duration": 10,
    "start_time": "2024-08-19T02:45:02.522Z"
   },
   {
    "duration": 17,
    "start_time": "2024-08-19T02:45:02.534Z"
   },
   {
    "duration": 10,
    "start_time": "2024-08-19T02:45:02.552Z"
   },
   {
    "duration": 28,
    "start_time": "2024-08-19T02:45:02.563Z"
   },
   {
    "duration": 72,
    "start_time": "2024-08-19T02:45:02.592Z"
   },
   {
    "duration": 10,
    "start_time": "2024-08-19T02:45:02.666Z"
   },
   {
    "duration": 37,
    "start_time": "2024-08-19T02:45:02.677Z"
   },
   {
    "duration": 14,
    "start_time": "2024-08-19T02:45:02.716Z"
   },
   {
    "duration": 64,
    "start_time": "2024-08-19T02:45:02.732Z"
   },
   {
    "duration": 7,
    "start_time": "2024-08-19T02:45:02.798Z"
   },
   {
    "duration": 116,
    "start_time": "2024-08-19T02:45:02.806Z"
   },
   {
    "duration": 2167,
    "start_time": "2024-08-19T02:45:02.923Z"
   },
   {
    "duration": 92,
    "start_time": "2024-08-19T02:45:05.092Z"
   },
   {
    "duration": 9,
    "start_time": "2024-08-19T02:45:05.186Z"
   },
   {
    "duration": 85,
    "start_time": "2024-08-19T02:45:05.197Z"
   },
   {
    "duration": 4,
    "start_time": "2024-08-19T02:45:05.284Z"
   },
   {
    "duration": 13,
    "start_time": "2024-08-19T02:45:05.289Z"
   },
   {
    "duration": 13,
    "start_time": "2024-08-19T02:45:05.303Z"
   },
   {
    "duration": 16,
    "start_time": "2024-08-19T02:45:05.318Z"
   },
   {
    "duration": 13,
    "start_time": "2024-08-19T02:45:05.335Z"
   },
   {
    "duration": 12,
    "start_time": "2024-08-19T02:45:05.349Z"
   },
   {
    "duration": 3199,
    "start_time": "2024-08-19T02:45:05.362Z"
   },
   {
    "duration": 8,
    "start_time": "2024-08-19T02:45:08.563Z"
   },
   {
    "duration": 6,
    "start_time": "2024-08-19T02:45:08.581Z"
   },
   {
    "duration": 40,
    "start_time": "2024-08-19T02:45:08.588Z"
   },
   {
    "duration": 1003,
    "start_time": "2024-08-19T02:47:08.229Z"
   },
   {
    "duration": 449,
    "start_time": "2024-08-19T02:47:09.234Z"
   },
   {
    "duration": 10,
    "start_time": "2024-08-19T02:47:09.685Z"
   },
   {
    "duration": 17,
    "start_time": "2024-08-19T02:47:09.697Z"
   },
   {
    "duration": 9,
    "start_time": "2024-08-19T02:47:09.715Z"
   },
   {
    "duration": 10,
    "start_time": "2024-08-19T02:47:09.725Z"
   },
   {
    "duration": 30,
    "start_time": "2024-08-19T02:47:09.736Z"
   },
   {
    "duration": 19,
    "start_time": "2024-08-19T02:47:09.767Z"
   },
   {
    "duration": 42,
    "start_time": "2024-08-19T02:47:09.787Z"
   },
   {
    "duration": 6,
    "start_time": "2024-08-19T02:47:09.832Z"
   },
   {
    "duration": 68,
    "start_time": "2024-08-19T02:47:09.840Z"
   },
   {
    "duration": 8,
    "start_time": "2024-08-19T02:47:09.910Z"
   },
   {
    "duration": 113,
    "start_time": "2024-08-19T02:47:09.919Z"
   },
   {
    "duration": 1961,
    "start_time": "2024-08-19T02:47:10.034Z"
   },
   {
    "duration": 88,
    "start_time": "2024-08-19T02:47:11.996Z"
   },
   {
    "duration": 99,
    "start_time": "2024-08-19T02:47:12.086Z"
   },
   {
    "duration": 9,
    "start_time": "2024-08-19T02:47:12.186Z"
   },
   {
    "duration": 3,
    "start_time": "2024-08-19T02:47:12.196Z"
   },
   {
    "duration": 4,
    "start_time": "2024-08-19T02:47:12.200Z"
   },
   {
    "duration": 7,
    "start_time": "2024-08-19T02:47:12.205Z"
   },
   {
    "duration": 5,
    "start_time": "2024-08-19T02:47:12.213Z"
   },
   {
    "duration": 5,
    "start_time": "2024-08-19T02:47:12.219Z"
   },
   {
    "duration": 3,
    "start_time": "2024-08-19T02:47:12.226Z"
   },
   {
    "duration": 3266,
    "start_time": "2024-08-19T02:47:12.230Z"
   },
   {
    "duration": 8,
    "start_time": "2024-08-19T02:47:15.497Z"
   },
   {
    "duration": 18,
    "start_time": "2024-08-19T02:47:15.506Z"
   },
   {
    "duration": 18,
    "start_time": "2024-08-19T02:47:15.525Z"
   },
   {
    "duration": 1054,
    "start_time": "2024-08-19T02:50:02.787Z"
   },
   {
    "duration": 453,
    "start_time": "2024-08-19T02:50:03.843Z"
   },
   {
    "duration": 9,
    "start_time": "2024-08-19T02:50:04.297Z"
   },
   {
    "duration": 16,
    "start_time": "2024-08-19T02:50:04.308Z"
   },
   {
    "duration": 9,
    "start_time": "2024-08-19T02:50:04.325Z"
   },
   {
    "duration": 10,
    "start_time": "2024-08-19T02:50:04.335Z"
   },
   {
    "duration": 37,
    "start_time": "2024-08-19T02:50:04.347Z"
   },
   {
    "duration": 10,
    "start_time": "2024-08-19T02:50:04.386Z"
   },
   {
    "duration": 25,
    "start_time": "2024-08-19T02:50:04.397Z"
   },
   {
    "duration": 7,
    "start_time": "2024-08-19T02:50:04.424Z"
   },
   {
    "duration": 76,
    "start_time": "2024-08-19T02:50:04.433Z"
   },
   {
    "duration": 6,
    "start_time": "2024-08-19T02:50:04.510Z"
   },
   {
    "duration": 112,
    "start_time": "2024-08-19T02:50:04.518Z"
   },
   {
    "duration": 1963,
    "start_time": "2024-08-19T02:50:04.631Z"
   },
   {
    "duration": 91,
    "start_time": "2024-08-19T02:50:06.596Z"
   },
   {
    "duration": 94,
    "start_time": "2024-08-19T02:50:06.691Z"
   },
   {
    "duration": 11,
    "start_time": "2024-08-19T02:50:06.786Z"
   },
   {
    "duration": 4,
    "start_time": "2024-08-19T02:50:06.798Z"
   },
   {
    "duration": 14,
    "start_time": "2024-08-19T02:50:06.803Z"
   },
   {
    "duration": 8,
    "start_time": "2024-08-19T02:50:06.818Z"
   },
   {
    "duration": 18,
    "start_time": "2024-08-19T02:50:06.828Z"
   },
   {
    "duration": 5,
    "start_time": "2024-08-19T02:50:06.848Z"
   },
   {
    "duration": 4,
    "start_time": "2024-08-19T02:50:06.854Z"
   },
   {
    "duration": 3246,
    "start_time": "2024-08-19T02:50:06.859Z"
   },
   {
    "duration": 7,
    "start_time": "2024-08-19T02:50:10.106Z"
   },
   {
    "duration": 10,
    "start_time": "2024-08-19T02:50:10.115Z"
   },
   {
    "duration": 7,
    "start_time": "2024-08-19T02:50:10.126Z"
   }
  ],
  "kernelspec": {
   "display_name": "Python 3 (ipykernel)",
   "language": "python",
   "name": "python3"
  },
  "language_info": {
   "codemirror_mode": {
    "name": "ipython",
    "version": 3
   },
   "file_extension": ".py",
   "mimetype": "text/x-python",
   "name": "python",
   "nbconvert_exporter": "python",
   "pygments_lexer": "ipython3",
   "version": "3.9.5"
  },
  "toc": {
   "base_numbering": 1,
   "nav_menu": {},
   "number_sections": true,
   "sideBar": true,
   "skip_h1_title": true,
   "title_cell": "Table of Contents",
   "title_sidebar": "Contents",
   "toc_cell": false,
   "toc_position": {
    "height": "calc(100% - 180px)",
    "left": "10px",
    "top": "150px",
    "width": "384px"
   },
   "toc_section_display": true,
   "toc_window_display": true
  }
 },
 "nbformat": 4,
 "nbformat_minor": 2
}
